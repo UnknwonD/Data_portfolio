{
  "cells": [
    {
      "cell_type": "markdown",
      "id": "e291d328",
      "metadata": {
        "id": "e291d328"
      },
      "source": [
        "## 라이브러리 로드"
      ]
    },
    {
      "cell_type": "code",
      "execution_count": null,
      "id": "e20112ed",
      "metadata": {
        "id": "e20112ed"
      },
      "outputs": [],
      "source": [
        "import pandas as pd\n",
        "import numpy as np\n",
        "import matplotlib.pyplot as plt\n",
        "import seaborn as sns"
      ]
    },
    {
      "cell_type": "code",
      "execution_count": null,
      "id": "4f082eeb",
      "metadata": {
        "id": "4f082eeb"
      },
      "outputs": [],
      "source": [
        "# !pip install koreanize-matplotlib\n",
        "import koreanize_matplotlib\n",
        "\n",
        "%config InlineBackend.figure_format = 'retina'"
      ]
    },
    {
      "cell_type": "markdown",
      "id": "7ed3b0b0",
      "metadata": {
        "id": "7ed3b0b0"
      },
      "source": [
        "## 데이터 로드"
      ]
    },
    {
      "cell_type": "code",
      "execution_count": null,
      "id": "c97514e9",
      "metadata": {
        "id": "c97514e9"
      },
      "outputs": [],
      "source": [
        "df = pd.read_parquet(\"https://github.com/corazzon/KaggleStruggle/raw/master/online-retail/data/online_retail.gzip\")\n",
        "df.shape"
      ]
    },
    {
      "cell_type": "code",
      "execution_count": null,
      "id": "61bdf4ee",
      "metadata": {
        "id": "61bdf4ee"
      },
      "outputs": [],
      "source": [
        "# 주문 날짜 데이터 전처리\n",
        "df[\"InvoiceDate\"] = pd.to_datetime(df[\"InvoiceDate\"].astype(str))\n",
        "df[\"InvoiceMonth\"] = df[\"InvoiceDate\"].dt.month"
      ]
    },
    {
      "cell_type": "code",
      "execution_count": null,
      "id": "4ef99d85",
      "metadata": {
        "id": "4ef99d85"
      },
      "outputs": [],
      "source": [
        "# 주문 취소 건 제외\n",
        "df = df[df[\"UnitPrice\"] > 0].copy()\n",
        "df = df[df[\"Quantity\"] > 0].copy()"
      ]
    },
    {
      "cell_type": "code",
      "execution_count": null,
      "id": "0138ca41",
      "metadata": {
        "id": "0138ca41"
      },
      "outputs": [],
      "source": [
        "# 주문 가격\n",
        "df[\"TotalPrice\"] = df[\"Quantity\"] * df[\"UnitPrice\"]\n",
        "df.head()"
      ]
    },
    {
      "cell_type": "code",
      "execution_count": null,
      "id": "1468e180",
      "metadata": {
        "id": "1468e180"
      },
      "outputs": [],
      "source": [
        "# 데이터 타입 변경\n",
        "\n",
        "df[\"Country\"] = df[\"Country\"].astype(str)"
      ]
    },
    {
      "cell_type": "code",
      "execution_count": null,
      "id": "5f288c34",
      "metadata": {
        "id": "5f288c34"
      },
      "outputs": [],
      "source": [
        "df.info()"
      ]
    },
    {
      "cell_type": "markdown",
      "id": "6e79fd70",
      "metadata": {
        "id": "6e79fd70"
      },
      "source": [
        "\n",
        "## 미션1) 심슨의 역설을 설명하기 위한 구체적인 분석을 다음의 순서로 진행해 주세요.\n",
        "\n",
        "심슨의 역설(Simpson's Paradox)은 통계 데이터를 해석할 때 발생할 수 있는 현상으로, 일부 하위 그룹에서 관찰된 추세가 전체 데이터를 합쳤을 때 반전될 수 있음을 나타냅니다. 이 현상은 복잡한 데이터에서 하위 그룹 간에 상이한 분포나 크기 때문에 발생할 수 있습니다.\n",
        "\n",
        "심슨의 역설을 설명하기 위해서는, 데이터 내에서 서로 상반된 추세를 보이는 하위 그룹을 찾거나 생성해야 합니다. 예를 들어, 특정 상품의 판매량이나 단가가 국가별로 다른 추세를 보이는지, 혹은 특정 기간 동안의 판매 추세가 전체 기간 동안의 추세와 다른지 등을 분석할 수 있습니다.\n",
        "\n",
        "데이터를 제시한 특정 국가로 하위 그룹으로 나눕니다.\n",
        "각 하위 그룹에서 총 판매금액의 추세를 분석합니다.\n",
        "전체 데이터셋에 대해 동일한 지표를 분석합니다.\n",
        "하위 그룹의 추세와 전체 데이터의 추세가 서로 다른 방향성을 보일 경우, 이를 통해 심슨의 역설을 설명합니다.\n",
        "이러한 분석을 위해, 데이터 내에서 적절한 변수와 하위 그룹을 선정하는 것이 중요합니다. 현재 제공된 데이터만으로는 심슨의 역설을 바로 설명할 수 있는 명확한 예시를 찾기 어려울 수 있지만, 데이터를 깊이 분석하면 관련 현상을 발견할 수도 있습니다.\n",
        "다음 국가에 대해 상관계수를 구하고 seaborn 의 lmplot을 사용하여 시각화 하고 심슨의 역설을 설명할 수 있는지 분석해 주세요.\n",
        "또, 이를 비즈니스에 어떻게 활용할 수 있을지도 설명해 주세요.\n",
        "\n",
        "```python\n",
        "country_group = [\"Japan\", \"Hong Kong\", \"Singapore\", \"Lebanon\", \"Canada\", \"USA\"]\n",
        "```\n",
        "\n",
        "\n",
        "* 슬라이드 자료에서 \"심슨의 역설\"을 찾아주세요."
      ]
    },
    {
      "cell_type": "code",
      "execution_count": null,
      "id": "95d64749",
      "metadata": {
        "scrolled": false,
        "id": "95d64749"
      },
      "outputs": [],
      "source": []
    },
    {
      "cell_type": "code",
      "execution_count": null,
      "id": "5b9074f4",
      "metadata": {
        "id": "5b9074f4"
      },
      "outputs": [],
      "source": []
    },
    {
      "cell_type": "code",
      "execution_count": null,
      "id": "d4cd5150",
      "metadata": {
        "id": "d4cd5150"
      },
      "outputs": [],
      "source": []
    },
    {
      "cell_type": "code",
      "execution_count": null,
      "id": "0e20bf9d",
      "metadata": {
        "scrolled": false,
        "id": "0e20bf9d"
      },
      "outputs": [],
      "source": []
    },
    {
      "cell_type": "markdown",
      "id": "dba41219",
      "metadata": {
        "id": "dba41219"
      },
      "source": [
        "## 미션2) 상품의 단가와 총 판매액의 관계를 분석해 주세요.\n",
        "\n",
        "상품의 단가가 총 판매액에 미치는 영향을 이해하고 예측하는 것입니다. 이 분석은 가격 결정 전략을 개선하고, 수익성을 최대화하기 위해 사용될 수 있습니다.\n",
        "높은 단가의 상품이 더 많은 총 판매액을 생성할 것이라는 가설을 설정합니다.\n",
        "\n",
        "1) 데이터 전처리: 필요한 데이터를 정리하고, 결측치를 제거합니다.\\\n",
        "2) 단순 회귀분석: 단가(UnitPrice)를 독립변수로, 총 판매액(TotalSales)을 종속변수로 설정하여 회귀분석을 수행합니다.\\\n",
        "3) 결과 해석: 회귀계수와 결정계수를 분석하여 상품 가격과 총 판매액 사이의 관계를 해석합니다."
      ]
    },
    {
      "cell_type": "code",
      "execution_count": null,
      "id": "43b0b58e",
      "metadata": {
        "id": "43b0b58e"
      },
      "outputs": [],
      "source": [
        "import statsmodels.api as sm\n",
        "# 데이터 전처리\n",
        "# 결측치 제거 또는 대체\n",
        "df = df.dropna(subset=['UnitPrice', 'TotalPrice'])\n",
        "\n",
        "# 단순 회귀분석\n",
        "# 독립변수: UnitPrice, 종속변수: TotalPrice\n",
        "X = df['UnitPrice']\n",
        "y = df['TotalPrice']\n",
        "X = sm.add_constant(X) # 상수항 추가"
      ]
    },
    {
      "cell_type": "code",
      "execution_count": null,
      "id": "380915da",
      "metadata": {
        "id": "380915da"
      },
      "outputs": [],
      "source": []
    },
    {
      "cell_type": "markdown",
      "id": "4a95eba0",
      "metadata": {
        "id": "4a95eba0"
      },
      "source": [
        "## 미션3) 여러 분은 크리스마스가 온라인 소매 판매에 미치는 영향을 평가하고, 이를 바탕으로 더 효과적인 가격 및 프로모션 전략을 개발해야 합니다.  \n",
        "\n",
        "* 다음과 같은 비즈니스 전략을 고려하여 인과 분석을 합니다. 증거의 사다리로 데이터에서 얻을 수 있는 증거의 강도를 평가합니다. 크리스마스 관련 상품과 비관련 상품 간의 판매 차이를 분석합니다.\n",
        "\n",
        "\n",
        "* 프로모션 전략\n",
        "    * 크리스마스 상품 프로모션 강화하여 크리스마스 관련 상품의 판매를 증진시키기 위한 특별 프로모션을 개발합니다.\n",
        "    * 대상 고객을 세분화하여 크리스마스 상품에 관심이 높은 고객 세그먼트를 식별하고, 이들을 대상으로 한 마케팅 캠페인을 실행합니다.\n",
        "* 재고 및 공급망 관리\n",
        "    * 재고 최적화를 통해 크리스마스 시즌에 대한 수요 예측을 바탕으로 재고 수준을 조절합니다.\n",
        "    * 공급망 효율화를 통해 시즌별 수요 변화에 따라 공급망을 조정하여 비용을 최소화하고, 고객 만족도를 높입니다.\n",
        "* 상품 다양화\n",
        "    * 상품 포트폴리오를 확장하여 크리스마스 관련 상품뿐만 아니라, 다른 시즌 상품에도 주목하여 상품 포트폴리오를 다양화합니다\n",
        "\n",
        "* 크리스마스 시즌 동안 프로모션과 상품 가격 전략이 판매에 미치는 영향을 분석하여, 미래의 프로모션 및 가격 전략을 최적화해야 합니다.\n",
        "\n",
        "\n",
        "\n",
        "* 다음 주어진 코드를 활용합니다.\n",
        "\n",
        "\n",
        "```python\n",
        "# 2011년 이전 데이터만 사용합니다.\n",
        "# 프로모션 여부와 시간에 따른 데이터 분리\n",
        "df_promotion = df[(df[\"InvoiceDate\"] < \"2011-01-01\") & df_promotion[\"Description\"].notnull()].dropna().copy()\n",
        "df_promotion[\"IsChristmasPeriod\"] = df_promotion[\"InvoiceDate\"] >= \"2010-12-25\"\n",
        "df_promotion[\"IsChristmasProduct\"] = df_promotion[\"Description\"].str.lower().str.contains(\"christmas\")\n",
        "```"
      ]
    },
    {
      "cell_type": "code",
      "execution_count": null,
      "id": "0847f898",
      "metadata": {
        "id": "0847f898"
      },
      "outputs": [],
      "source": [
        "# 2011년 이전 데이터만 사용합니다.\n",
        "# 프로모션 여부와 시간에 따른 데이터 분리\n",
        "df_promotion = df[(df[\"InvoiceDate\"] < \"2011-01-01\") & df[\"Description\"].notnull()].dropna().copy()\n",
        "df_promotion[\"IsChristmasPeriod\"] = df_promotion[\"InvoiceDate\"] >= \"2010-12-25\"\n",
        "df_promotion[\"IsChristmasProduct\"] = df_promotion[\"Description\"].str.lower().str.contains(\"christmas\")"
      ]
    },
    {
      "cell_type": "code",
      "execution_count": null,
      "id": "fc993d53",
      "metadata": {
        "id": "fc993d53"
      },
      "outputs": [],
      "source": []
    },
    {
      "cell_type": "code",
      "execution_count": null,
      "id": "1ec51a11",
      "metadata": {
        "id": "1ec51a11"
      },
      "outputs": [],
      "source": []
    },
    {
      "cell_type": "markdown",
      "id": "6e656781",
      "metadata": {
        "id": "6e656781"
      },
      "source": [
        "## 미션4) 다변량 회귀분석을 수행하여 크리스마스 기간 전후와 크리스마스 관련 상품과 비관련 상품 간의 판매량(Quantity) 차이를 'UnitPrice'와 'Country'와 함께 분석합니다.\n",
        "\n",
        "* 판매량(Quantity)을 종속변수로 하여, 크리스마스 관련 상품 여부(IsChristmasProduct), 단가(UnitPrice), 국가(Country) 등을 독립변수로 포함하는 다변량 선형 회귀모델을 구축합니다.\n",
        "* statsmodels 라이브러리(statsmodels.formula.api 의 ols)를 사용하여 모델을 구축하고, 결과를 해석합니다.\n",
        "* 분석 결과를 해석하고, 이를 바탕으로 크리스마스 시즌 판매 전략에 대한 권장 사항을 제시합니다.\n",
        "* 분석 과정과 결과, 그리고 비즈니스 전략에 대한 권장 사항을 포함하는 보고서를 작성합니다.\n",
        "* 다음 주어진 코드를 활용합니다.\n",
        "\n",
        "```python\n",
        "import statsmodels.formula.api as smf\n",
        "```"
      ]
    },
    {
      "cell_type": "code",
      "execution_count": null,
      "id": "e2468b00",
      "metadata": {
        "id": "e2468b00"
      },
      "outputs": [],
      "source": [
        "import statsmodels.formula.api as smf"
      ]
    },
    {
      "cell_type": "code",
      "execution_count": null,
      "id": "c1384129",
      "metadata": {
        "id": "c1384129"
      },
      "outputs": [],
      "source": [
        "# 다변량 회귀분석\n"
      ]
    },
    {
      "cell_type": "code",
      "execution_count": null,
      "id": "9514fe0f",
      "metadata": {
        "id": "9514fe0f"
      },
      "outputs": [],
      "source": []
    },
    {
      "cell_type": "code",
      "execution_count": null,
      "id": "efaa5af5",
      "metadata": {
        "id": "efaa5af5"
      },
      "outputs": [],
      "source": []
    },
    {
      "cell_type": "markdown",
      "id": "2c3bbccb",
      "metadata": {
        "id": "2c3bbccb"
      },
      "source": [
        "## 미션5) 온라인 소매 데이터를 사용하여 고객이 특정 상품을 구매할지 여부를 예측합니다.\n",
        "이 예측 모델을 사용하여 타겟 마케팅 전략을 수립하고, 재고 관리를 최적화합니다. 고객의 특정 상품 구매 여부(구매/미구매)를 예측하는 이진 분류 모델을 구축합니다.\n",
        "\n",
        "\n",
        "1) 타겟 변수 생성: 'WHITE HANGING HEART T-LIGHT HOLDER' 상품을 구매했는지 여부를 나타내는 이진 타겟 변수(0: 미구매, 1: 구매)를 생성합니다.\\\n",
        "2) 특성(feature) 선택: 구매 예측에 영향을 미칠 수 있는 변수들을 선택합니다. 예를 들어, 'UnitPrice', 'Quantity', 'CustomerID', 'Country' 등이 될 수 있습니다.\\\n",
        "3) 범주형 변수 처리: 'Country'와 같은 범주형 변수를 숫자로 변환합니다. 원-핫 인코딩을 사용할 수 있습니다.\\\n",
        "4) 데이터 분할: 모델 학습을 위해 데이터를 훈련 세트와 테스트 세트로 분할합니다.\\\n",
        "5) 로지스틱 회귀 모델 생성 및 학습합니다.\\\n",
        "6) 모델을 평가 합니다."
      ]
    },
    {
      "cell_type": "code",
      "execution_count": null,
      "id": "32a8fcb2",
      "metadata": {
        "id": "32a8fcb2"
      },
      "outputs": [],
      "source": [
        "from sklearn.model_selection import train_test_split\n",
        "from sklearn.linear_model import LogisticRegression\n",
        "from sklearn.metrics import classification_report, confusion_matrix\n",
        "\n",
        "df = df.dropna()\n",
        "df = df[df['Description'].str.contains(\"T-LIGHT HOLDER\")]\n",
        "# 'WHITE HANGING HEART T-LIGHT HOLDER' 상품 구매 여부를 나타내는 타겟 변수 생성\n",
        "df['Target'] = df['Description'] == 'WHITE HANGING HEART T-LIGHT HOLDER'\n",
        "df[\"Target\"].value_counts()"
      ]
    },
    {
      "cell_type": "code",
      "execution_count": null,
      "id": "970ceb3d",
      "metadata": {
        "id": "970ceb3d"
      },
      "outputs": [],
      "source": [
        "# 특성과 타겟 변수 분리\n",
        "X = pd.get_dummies(df[['UnitPrice', 'Quantity', 'CustomerID', 'Country']])\n",
        "y = df['Target']\n"
      ]
    },
    {
      "cell_type": "code",
      "execution_count": null,
      "id": "24e8554b",
      "metadata": {
        "id": "24e8554b"
      },
      "outputs": [],
      "source": []
    },
    {
      "cell_type": "code",
      "execution_count": null,
      "id": "6dbf7680",
      "metadata": {
        "id": "6dbf7680"
      },
      "outputs": [],
      "source": []
    },
    {
      "cell_type": "code",
      "execution_count": null,
      "id": "65037b30",
      "metadata": {
        "id": "65037b30"
      },
      "outputs": [],
      "source": []
    }
  ],
  "metadata": {
    "kernelspec": {
      "display_name": "Python 3 (ipykernel)",
      "language": "python",
      "name": "python3"
    },
    "language_info": {
      "codemirror_mode": {
        "name": "ipython",
        "version": 3
      },
      "file_extension": ".py",
      "mimetype": "text/x-python",
      "name": "python",
      "nbconvert_exporter": "python",
      "pygments_lexer": "ipython3",
      "version": "3.11.4"
    },
    "toc": {
      "base_numbering": 1,
      "nav_menu": {},
      "number_sections": true,
      "sideBar": true,
      "skip_h1_title": false,
      "title_cell": "Table of Contents",
      "title_sidebar": "Contents",
      "toc_cell": false,
      "toc_position": {},
      "toc_section_display": true,
      "toc_window_display": false
    },
    "varInspector": {
      "cols": {
        "lenName": 16,
        "lenType": 16,
        "lenVar": 40
      },
      "kernels_config": {
        "python": {
          "delete_cmd_postfix": "",
          "delete_cmd_prefix": "del ",
          "library": "var_list.py",
          "varRefreshCmd": "print(var_dic_list())"
        },
        "r": {
          "delete_cmd_postfix": ") ",
          "delete_cmd_prefix": "rm(",
          "library": "var_list.r",
          "varRefreshCmd": "cat(var_dic_list()) "
        }
      },
      "types_to_exclude": [
        "module",
        "function",
        "builtin_function_or_method",
        "instance",
        "_Feature"
      ],
      "window_display": false
    },
    "colab": {
      "provenance": []
    }
  },
  "nbformat": 4,
  "nbformat_minor": 5
}