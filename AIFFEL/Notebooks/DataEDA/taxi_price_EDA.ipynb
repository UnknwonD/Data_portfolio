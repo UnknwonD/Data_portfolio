{
 "cells": [
  {
   "cell_type": "code",
   "execution_count": 264,
   "id": "09659be4",
   "metadata": {},
   "outputs": [],
   "source": [
    "import pandas as pd\n",
    "import numpy as np\n",
    "import matplotlib.pyplot as plt\n",
    "import seaborn as sns"
   ]
  },
  {
   "cell_type": "code",
   "execution_count": 265,
   "id": "f4e9fb53",
   "metadata": {},
   "outputs": [],
   "source": [
    "trip = pd.read_csv('../data/trip.csv')\n",
    "data = trip.copy() # 원본 데이터와의 비교 및 확인을 위해 copy를 해줍니다."
   ]
  },
  {
   "cell_type": "code",
   "execution_count": 266,
   "id": "426d50bd",
   "metadata": {},
   "outputs": [
    {
     "data": {
      "text/html": [
       "<div>\n",
       "<style scoped>\n",
       "    .dataframe tbody tr th:only-of-type {\n",
       "        vertical-align: middle;\n",
       "    }\n",
       "\n",
       "    .dataframe tbody tr th {\n",
       "        vertical-align: top;\n",
       "    }\n",
       "\n",
       "    .dataframe thead th {\n",
       "        text-align: right;\n",
       "    }\n",
       "</style>\n",
       "<table border=\"1\" class=\"dataframe\">\n",
       "  <thead>\n",
       "    <tr style=\"text-align: right;\">\n",
       "      <th></th>\n",
       "      <th>passenger_name</th>\n",
       "      <th>tpep_pickup_datetime</th>\n",
       "      <th>tpep_dropoff_datetime</th>\n",
       "      <th>payment_method</th>\n",
       "      <th>passenger_count</th>\n",
       "      <th>trip_distance</th>\n",
       "      <th>fare_amount</th>\n",
       "      <th>tip_amount</th>\n",
       "      <th>tolls_amount</th>\n",
       "    </tr>\n",
       "  </thead>\n",
       "  <tbody>\n",
       "    <tr>\n",
       "      <th>0</th>\n",
       "      <td>Pamela Duffy</td>\n",
       "      <td>03/25/2017 8:55:43 AM</td>\n",
       "      <td>03/25/2017 9:09:47 AM</td>\n",
       "      <td>Debit Card</td>\n",
       "      <td>6</td>\n",
       "      <td>3.34</td>\n",
       "      <td>13.0</td>\n",
       "      <td>2.76</td>\n",
       "      <td>0.0</td>\n",
       "    </tr>\n",
       "    <tr>\n",
       "      <th>1</th>\n",
       "      <td>Michelle Foster</td>\n",
       "      <td>04/11/2017 2:53:28 PM</td>\n",
       "      <td>04/11/2017 3:19:58 PM</td>\n",
       "      <td>Debit Card</td>\n",
       "      <td>1</td>\n",
       "      <td>1.80</td>\n",
       "      <td>16.0</td>\n",
       "      <td>4.00</td>\n",
       "      <td>0.0</td>\n",
       "    </tr>\n",
       "    <tr>\n",
       "      <th>2</th>\n",
       "      <td>Tina Combs</td>\n",
       "      <td>12/15/2017 7:26:56 AM</td>\n",
       "      <td>12/15/2017 7:34:08 AM</td>\n",
       "      <td>Debit Card</td>\n",
       "      <td>1</td>\n",
       "      <td>1.00</td>\n",
       "      <td>6.5</td>\n",
       "      <td>1.45</td>\n",
       "      <td>0.0</td>\n",
       "    </tr>\n",
       "    <tr>\n",
       "      <th>3</th>\n",
       "      <td>Anthony Ray</td>\n",
       "      <td>05/07/2017 1:17:59 PM</td>\n",
       "      <td>05/07/2017 1:48:14 PM</td>\n",
       "      <td>Cash</td>\n",
       "      <td>1</td>\n",
       "      <td>3.70</td>\n",
       "      <td>20.5</td>\n",
       "      <td>6.39</td>\n",
       "      <td>0.0</td>\n",
       "    </tr>\n",
       "    <tr>\n",
       "      <th>4</th>\n",
       "      <td>Brianna Johnson</td>\n",
       "      <td>04/15/2017 11:32:20 PM</td>\n",
       "      <td>04/15/2017 11:49:03 PM</td>\n",
       "      <td>Debit Card</td>\n",
       "      <td>1</td>\n",
       "      <td>4.37</td>\n",
       "      <td>16.5</td>\n",
       "      <td>0.00</td>\n",
       "      <td>0.0</td>\n",
       "    </tr>\n",
       "  </tbody>\n",
       "</table>\n",
       "</div>"
      ],
      "text/plain": [
       "    passenger_name    tpep_pickup_datetime   tpep_dropoff_datetime  \\\n",
       "0     Pamela Duffy   03/25/2017 8:55:43 AM   03/25/2017 9:09:47 AM   \n",
       "1  Michelle Foster   04/11/2017 2:53:28 PM   04/11/2017 3:19:58 PM   \n",
       "2       Tina Combs   12/15/2017 7:26:56 AM   12/15/2017 7:34:08 AM   \n",
       "3      Anthony Ray   05/07/2017 1:17:59 PM   05/07/2017 1:48:14 PM   \n",
       "4  Brianna Johnson  04/15/2017 11:32:20 PM  04/15/2017 11:49:03 PM   \n",
       "\n",
       "  payment_method  passenger_count  trip_distance  fare_amount  tip_amount  \\\n",
       "0     Debit Card                6           3.34         13.0        2.76   \n",
       "1     Debit Card                1           1.80         16.0        4.00   \n",
       "2     Debit Card                1           1.00          6.5        1.45   \n",
       "3           Cash                1           3.70         20.5        6.39   \n",
       "4     Debit Card                1           4.37         16.5        0.00   \n",
       "\n",
       "   tolls_amount  \n",
       "0           0.0  \n",
       "1           0.0  \n",
       "2           0.0  \n",
       "3           0.0  \n",
       "4           0.0  "
      ]
     },
     "execution_count": 266,
     "metadata": {},
     "output_type": "execute_result"
    }
   ],
   "source": [
    "data.head()"
   ]
  },
  {
   "cell_type": "code",
   "execution_count": 267,
   "id": "d688d280",
   "metadata": {},
   "outputs": [
    {
     "name": "stdout",
     "output_type": "stream",
     "text": [
      "<class 'pandas.core.frame.DataFrame'>\n",
      "RangeIndex: 22701 entries, 0 to 22700\n",
      "Data columns (total 9 columns):\n",
      " #   Column                 Non-Null Count  Dtype  \n",
      "---  ------                 --------------  -----  \n",
      " 0   passenger_name         22701 non-null  object \n",
      " 1   tpep_pickup_datetime   22701 non-null  object \n",
      " 2   tpep_dropoff_datetime  22701 non-null  object \n",
      " 3   payment_method         22701 non-null  object \n",
      " 4   passenger_count        22701 non-null  int64  \n",
      " 5   trip_distance          22701 non-null  float64\n",
      " 6   fare_amount            22698 non-null  float64\n",
      " 7   tip_amount             22701 non-null  float64\n",
      " 8   tolls_amount           22701 non-null  float64\n",
      "dtypes: float64(4), int64(1), object(4)\n",
      "memory usage: 1.6+ MB\n"
     ]
    }
   ],
   "source": [
    "data.info()"
   ]
  },
  {
   "cell_type": "code",
   "execution_count": 268,
   "id": "0ea3e0e0",
   "metadata": {
    "scrolled": true
   },
   "outputs": [
    {
     "data": {
      "text/html": [
       "<div>\n",
       "<style scoped>\n",
       "    .dataframe tbody tr th:only-of-type {\n",
       "        vertical-align: middle;\n",
       "    }\n",
       "\n",
       "    .dataframe tbody tr th {\n",
       "        vertical-align: top;\n",
       "    }\n",
       "\n",
       "    .dataframe thead th {\n",
       "        text-align: right;\n",
       "    }\n",
       "</style>\n",
       "<table border=\"1\" class=\"dataframe\">\n",
       "  <thead>\n",
       "    <tr style=\"text-align: right;\">\n",
       "      <th></th>\n",
       "      <th>passenger_count</th>\n",
       "      <th>trip_distance</th>\n",
       "      <th>fare_amount</th>\n",
       "      <th>tip_amount</th>\n",
       "      <th>tolls_amount</th>\n",
       "    </tr>\n",
       "  </thead>\n",
       "  <tbody>\n",
       "    <tr>\n",
       "      <th>count</th>\n",
       "      <td>22701.000000</td>\n",
       "      <td>22701.000000</td>\n",
       "      <td>22698.000000</td>\n",
       "      <td>22701.000000</td>\n",
       "      <td>22701.000000</td>\n",
       "    </tr>\n",
       "    <tr>\n",
       "      <th>mean</th>\n",
       "      <td>1.643584</td>\n",
       "      <td>2.913400</td>\n",
       "      <td>13.024009</td>\n",
       "      <td>1.835745</td>\n",
       "      <td>0.312514</td>\n",
       "    </tr>\n",
       "    <tr>\n",
       "      <th>std</th>\n",
       "      <td>1.304942</td>\n",
       "      <td>3.653023</td>\n",
       "      <td>13.240074</td>\n",
       "      <td>2.800537</td>\n",
       "      <td>1.399153</td>\n",
       "    </tr>\n",
       "    <tr>\n",
       "      <th>min</th>\n",
       "      <td>0.000000</td>\n",
       "      <td>0.000000</td>\n",
       "      <td>-120.000000</td>\n",
       "      <td>0.000000</td>\n",
       "      <td>0.000000</td>\n",
       "    </tr>\n",
       "    <tr>\n",
       "      <th>25%</th>\n",
       "      <td>1.000000</td>\n",
       "      <td>0.990000</td>\n",
       "      <td>6.500000</td>\n",
       "      <td>0.000000</td>\n",
       "      <td>0.000000</td>\n",
       "    </tr>\n",
       "    <tr>\n",
       "      <th>50%</th>\n",
       "      <td>1.000000</td>\n",
       "      <td>1.610000</td>\n",
       "      <td>9.500000</td>\n",
       "      <td>1.350000</td>\n",
       "      <td>0.000000</td>\n",
       "    </tr>\n",
       "    <tr>\n",
       "      <th>75%</th>\n",
       "      <td>2.000000</td>\n",
       "      <td>3.060000</td>\n",
       "      <td>14.500000</td>\n",
       "      <td>2.450000</td>\n",
       "      <td>0.000000</td>\n",
       "    </tr>\n",
       "    <tr>\n",
       "      <th>max</th>\n",
       "      <td>36.000000</td>\n",
       "      <td>33.960000</td>\n",
       "      <td>999.990000</td>\n",
       "      <td>200.000000</td>\n",
       "      <td>19.100000</td>\n",
       "    </tr>\n",
       "  </tbody>\n",
       "</table>\n",
       "</div>"
      ],
      "text/plain": [
       "       passenger_count  trip_distance   fare_amount    tip_amount  \\\n",
       "count     22701.000000   22701.000000  22698.000000  22701.000000   \n",
       "mean          1.643584       2.913400     13.024009      1.835745   \n",
       "std           1.304942       3.653023     13.240074      2.800537   \n",
       "min           0.000000       0.000000   -120.000000      0.000000   \n",
       "25%           1.000000       0.990000      6.500000      0.000000   \n",
       "50%           1.000000       1.610000      9.500000      1.350000   \n",
       "75%           2.000000       3.060000     14.500000      2.450000   \n",
       "max          36.000000      33.960000    999.990000    200.000000   \n",
       "\n",
       "       tolls_amount  \n",
       "count  22701.000000  \n",
       "mean       0.312514  \n",
       "std        1.399153  \n",
       "min        0.000000  \n",
       "25%        0.000000  \n",
       "50%        0.000000  \n",
       "75%        0.000000  \n",
       "max       19.100000  "
      ]
     },
     "execution_count": 268,
     "metadata": {},
     "output_type": "execute_result"
    }
   ],
   "source": [
    "data.describe()"
   ]
  },
  {
   "cell_type": "markdown",
   "id": "2df75176",
   "metadata": {},
   "source": [
    "## 중복값 제거 및 처리"
   ]
  },
  {
   "cell_type": "code",
   "execution_count": 269,
   "id": "d715a36a",
   "metadata": {},
   "outputs": [
    {
     "data": {
      "text/plain": [
       "False    22699\n",
       "True         2\n",
       "dtype: int64"
      ]
     },
     "execution_count": 269,
     "metadata": {},
     "output_type": "execute_result"
    }
   ],
   "source": [
    "data.duplicated().value_counts()"
   ]
  },
  {
   "cell_type": "code",
   "execution_count": 270,
   "id": "d1ebf027",
   "metadata": {},
   "outputs": [],
   "source": [
    "data.drop_duplicates(inplace=True)"
   ]
  },
  {
   "cell_type": "markdown",
   "id": "7dd459e8",
   "metadata": {},
   "source": [
    "## 결측치 확인 및 처리"
   ]
  },
  {
   "cell_type": "code",
   "execution_count": 271,
   "id": "ed3a4685",
   "metadata": {},
   "outputs": [
    {
     "data": {
      "text/plain": [
       "passenger_name           0\n",
       "tpep_pickup_datetime     0\n",
       "tpep_dropoff_datetime    0\n",
       "payment_method           0\n",
       "passenger_count          0\n",
       "trip_distance            0\n",
       "fare_amount              3\n",
       "tip_amount               0\n",
       "tolls_amount             0\n",
       "dtype: int64"
      ]
     },
     "execution_count": 271,
     "metadata": {},
     "output_type": "execute_result"
    }
   ],
   "source": [
    "data.isna().sum()"
   ]
  },
  {
   "cell_type": "code",
   "execution_count": 272,
   "id": "493673d1",
   "metadata": {},
   "outputs": [
    {
     "data": {
      "text/plain": [
       "passenger_name           0.000000\n",
       "tpep_pickup_datetime     0.000000\n",
       "tpep_dropoff_datetime    0.000000\n",
       "payment_method           0.000000\n",
       "passenger_count          0.000000\n",
       "trip_distance            0.000000\n",
       "fare_amount              0.000132\n",
       "tip_amount               0.000000\n",
       "tolls_amount             0.000000\n",
       "dtype: float64"
      ]
     },
     "execution_count": 272,
     "metadata": {},
     "output_type": "execute_result"
    }
   ],
   "source": [
    "data.isna().mean()"
   ]
  },
  {
   "cell_type": "code",
   "execution_count": 273,
   "id": "ddfce99f",
   "metadata": {
    "scrolled": true
   },
   "outputs": [
    {
     "data": {
      "text/html": [
       "<div>\n",
       "<style scoped>\n",
       "    .dataframe tbody tr th:only-of-type {\n",
       "        vertical-align: middle;\n",
       "    }\n",
       "\n",
       "    .dataframe tbody tr th {\n",
       "        vertical-align: top;\n",
       "    }\n",
       "\n",
       "    .dataframe thead th {\n",
       "        text-align: right;\n",
       "    }\n",
       "</style>\n",
       "<table border=\"1\" class=\"dataframe\">\n",
       "  <thead>\n",
       "    <tr style=\"text-align: right;\">\n",
       "      <th></th>\n",
       "      <th>passenger_name</th>\n",
       "      <th>tpep_pickup_datetime</th>\n",
       "      <th>tpep_dropoff_datetime</th>\n",
       "      <th>payment_method</th>\n",
       "      <th>passenger_count</th>\n",
       "      <th>trip_distance</th>\n",
       "      <th>fare_amount</th>\n",
       "      <th>tip_amount</th>\n",
       "      <th>tolls_amount</th>\n",
       "    </tr>\n",
       "  </thead>\n",
       "  <tbody>\n",
       "    <tr>\n",
       "      <th>52</th>\n",
       "      <td>Benjamin Johnson</td>\n",
       "      <td>04/04/2017 4:22:03 PM</td>\n",
       "      <td>04/04/2017 4:35:30 PM</td>\n",
       "      <td>Cash</td>\n",
       "      <td>1</td>\n",
       "      <td>2.20</td>\n",
       "      <td>NaN</td>\n",
       "      <td>0.0</td>\n",
       "      <td>0.00</td>\n",
       "    </tr>\n",
       "    <tr>\n",
       "      <th>189</th>\n",
       "      <td>Maria Ibarra</td>\n",
       "      <td>08/21/2017 12:40:25 PM</td>\n",
       "      <td>08/21/2017 1:12:31 PM</td>\n",
       "      <td>Debit Card</td>\n",
       "      <td>3</td>\n",
       "      <td>15.20</td>\n",
       "      <td>NaN</td>\n",
       "      <td>5.0</td>\n",
       "      <td>0.00</td>\n",
       "    </tr>\n",
       "    <tr>\n",
       "      <th>244</th>\n",
       "      <td>Tina Avila</td>\n",
       "      <td>08/09/2017 8:32:09 AM</td>\n",
       "      <td>08/09/2017 9:31:11 AM</td>\n",
       "      <td>Cash</td>\n",
       "      <td>1</td>\n",
       "      <td>15.89</td>\n",
       "      <td>NaN</td>\n",
       "      <td>10.0</td>\n",
       "      <td>5.76</td>\n",
       "    </tr>\n",
       "  </tbody>\n",
       "</table>\n",
       "</div>"
      ],
      "text/plain": [
       "       passenger_name    tpep_pickup_datetime  tpep_dropoff_datetime  \\\n",
       "52   Benjamin Johnson   04/04/2017 4:22:03 PM  04/04/2017 4:35:30 PM   \n",
       "189      Maria Ibarra  08/21/2017 12:40:25 PM  08/21/2017 1:12:31 PM   \n",
       "244        Tina Avila   08/09/2017 8:32:09 AM  08/09/2017 9:31:11 AM   \n",
       "\n",
       "    payment_method  passenger_count  trip_distance  fare_amount  tip_amount  \\\n",
       "52            Cash                1           2.20          NaN         0.0   \n",
       "189     Debit Card                3          15.20          NaN         5.0   \n",
       "244           Cash                1          15.89          NaN        10.0   \n",
       "\n",
       "     tolls_amount  \n",
       "52           0.00  \n",
       "189          0.00  \n",
       "244          5.76  "
      ]
     },
     "execution_count": 273,
     "metadata": {},
     "output_type": "execute_result"
    }
   ],
   "source": [
    "data[data[\"fare_amount\"].isna()]"
   ]
  },
  {
   "cell_type": "markdown",
   "id": "8feb6701",
   "metadata": {},
   "source": [
    "- fare_amount에 결측치가 3개의 결측치가 존재한다.\n",
    "- 3개의 결측치는 총 데이터 개수인 22701개의 0.0132%에 해당하는 미미한 수준이기에, 이를 제거하고 진행한다."
   ]
  },
  {
   "cell_type": "code",
   "execution_count": 274,
   "id": "f3d88da0",
   "metadata": {},
   "outputs": [],
   "source": [
    "data.dropna(inplace = True)"
   ]
  },
  {
   "cell_type": "code",
   "execution_count": 275,
   "id": "cb46485f",
   "metadata": {
    "scrolled": true
   },
   "outputs": [
    {
     "name": "stdout",
     "output_type": "stream",
     "text": [
      "======결측 데이터 개수======\n",
      "passenger_name           0\n",
      "tpep_pickup_datetime     0\n",
      "tpep_dropoff_datetime    0\n",
      "payment_method           0\n",
      "passenger_count          0\n",
      "trip_distance            0\n",
      "fare_amount              0\n",
      "tip_amount               0\n",
      "tolls_amount             0\n",
      "dtype: int64\n",
      "\n",
      "======전체 데이터 개수======\n",
      "passenger_name           22696\n",
      "tpep_pickup_datetime     22696\n",
      "tpep_dropoff_datetime    22696\n",
      "payment_method           22696\n",
      "passenger_count          22696\n",
      "trip_distance            22696\n",
      "fare_amount              22696\n",
      "tip_amount               22696\n",
      "tolls_amount             22696\n",
      "dtype: int64\n"
     ]
    }
   ],
   "source": [
    "print(\"======결측 데이터 개수======\")\n",
    "print(data.isna().sum())\n",
    "print(\"\\n======전체 데이터 개수======\")\n",
    "print(data.count())"
   ]
  },
  {
   "cell_type": "markdown",
   "id": "788d4694",
   "metadata": {},
   "source": [
    "## 데이터 이상치 판단 및 처리\n",
    "- 데이터의 분포를 확인하면서 이상치 값을 갖는 데이터를 확인해줍니다.\n",
    "- 이상치를 판단하기 전, datetime 컬럼들을 통해 주행 컬럼을 생성해줍니다.\n",
    "\n",
    "### 데이터 컬럼 생성 \n",
    "\n",
    "- total_amount, travel_time 컬럼 추가\n",
    "- 심야 시간에 얼마나 운영되었는가에 대한 night 컬럼 추가\n",
    "(시간은 한국 시간에 맞게 임의로 진행 00:00:00 - 04:00:00)"
   ]
  },
  {
   "cell_type": "markdown",
   "id": "84822a4a",
   "metadata": {},
   "source": [
    "#### 이동시간 관련 컬럼 생성"
   ]
  },
  {
   "cell_type": "code",
   "execution_count": 276,
   "id": "6d2bbeb4",
   "metadata": {},
   "outputs": [],
   "source": [
    "data[\"tpep_pickup_datetime\"] = pd.to_datetime(data[\"tpep_pickup_datetime\"])\n",
    "data[\"tpep_dropoff_datetime\"] = pd.to_datetime(data[\"tpep_dropoff_datetime\"])"
   ]
  },
  {
   "cell_type": "code",
   "execution_count": 277,
   "id": "a2c8bd60",
   "metadata": {},
   "outputs": [],
   "source": [
    "data[\"travel_datetime\"] = pd.to_timedelta(data[\"tpep_dropoff_datetime\"] - data[\"tpep_pickup_datetime\"])"
   ]
  },
  {
   "cell_type": "code",
   "execution_count": 278,
   "id": "a668bd80",
   "metadata": {},
   "outputs": [],
   "source": [
    "# time parsing\n",
    "days = data['travel_datetime'].dt.components['days']\n",
    "hours = data['travel_datetime'].dt.components['hours']\n",
    "minutes = data['travel_datetime'].dt.components['minutes']\n",
    "seconds = data['travel_datetime'].dt.components['seconds']\n",
    "\n",
    "travel_time = (days*24 + hours) * 60 + minutes + seconds/60"
   ]
  },
  {
   "cell_type": "code",
   "execution_count": 279,
   "id": "37644b98",
   "metadata": {},
   "outputs": [],
   "source": [
    "data[\"travel_minutes\"] = round(travel_time, 2)"
   ]
  },
  {
   "cell_type": "code",
   "execution_count": 280,
   "id": "876949be",
   "metadata": {
    "scrolled": true
   },
   "outputs": [
    {
     "data": {
      "text/html": [
       "<div>\n",
       "<style scoped>\n",
       "    .dataframe tbody tr th:only-of-type {\n",
       "        vertical-align: middle;\n",
       "    }\n",
       "\n",
       "    .dataframe tbody tr th {\n",
       "        vertical-align: top;\n",
       "    }\n",
       "\n",
       "    .dataframe thead th {\n",
       "        text-align: right;\n",
       "    }\n",
       "</style>\n",
       "<table border=\"1\" class=\"dataframe\">\n",
       "  <thead>\n",
       "    <tr style=\"text-align: right;\">\n",
       "      <th></th>\n",
       "      <th>passenger_name</th>\n",
       "      <th>tpep_pickup_datetime</th>\n",
       "      <th>tpep_dropoff_datetime</th>\n",
       "      <th>payment_method</th>\n",
       "      <th>passenger_count</th>\n",
       "      <th>trip_distance</th>\n",
       "      <th>fare_amount</th>\n",
       "      <th>tip_amount</th>\n",
       "      <th>tolls_amount</th>\n",
       "      <th>travel_datetime</th>\n",
       "      <th>travel_minutes</th>\n",
       "    </tr>\n",
       "  </thead>\n",
       "  <tbody>\n",
       "    <tr>\n",
       "      <th>0</th>\n",
       "      <td>Pamela Duffy</td>\n",
       "      <td>2017-03-25 08:55:43</td>\n",
       "      <td>2017-03-25 09:09:47</td>\n",
       "      <td>Debit Card</td>\n",
       "      <td>6</td>\n",
       "      <td>3.34</td>\n",
       "      <td>13.0</td>\n",
       "      <td>2.76</td>\n",
       "      <td>0.0</td>\n",
       "      <td>0 days 00:14:04</td>\n",
       "      <td>14.07</td>\n",
       "    </tr>\n",
       "    <tr>\n",
       "      <th>1</th>\n",
       "      <td>Michelle Foster</td>\n",
       "      <td>2017-04-11 14:53:28</td>\n",
       "      <td>2017-04-11 15:19:58</td>\n",
       "      <td>Debit Card</td>\n",
       "      <td>1</td>\n",
       "      <td>1.80</td>\n",
       "      <td>16.0</td>\n",
       "      <td>4.00</td>\n",
       "      <td>0.0</td>\n",
       "      <td>0 days 00:26:30</td>\n",
       "      <td>26.50</td>\n",
       "    </tr>\n",
       "  </tbody>\n",
       "</table>\n",
       "</div>"
      ],
      "text/plain": [
       "    passenger_name tpep_pickup_datetime tpep_dropoff_datetime payment_method  \\\n",
       "0     Pamela Duffy  2017-03-25 08:55:43   2017-03-25 09:09:47     Debit Card   \n",
       "1  Michelle Foster  2017-04-11 14:53:28   2017-04-11 15:19:58     Debit Card   \n",
       "\n",
       "   passenger_count  trip_distance  fare_amount  tip_amount  tolls_amount  \\\n",
       "0                6           3.34         13.0        2.76           0.0   \n",
       "1                1           1.80         16.0        4.00           0.0   \n",
       "\n",
       "  travel_datetime  travel_minutes  \n",
       "0 0 days 00:14:04           14.07  \n",
       "1 0 days 00:26:30           26.50  "
      ]
     },
     "execution_count": 280,
     "metadata": {},
     "output_type": "execute_result"
    }
   ],
   "source": [
    "data.head(2)"
   ]
  },
  {
   "cell_type": "markdown",
   "id": "adb8ec09",
   "metadata": {},
   "source": [
    "#### 심야시간 관련 컬럼 생성"
   ]
  },
  {
   "cell_type": "code",
   "execution_count": 281,
   "id": "895fb4e6",
   "metadata": {},
   "outputs": [],
   "source": [
    "night_start = pd.to_datetime('00:00:00').time()\n",
    "night_end = pd.to_datetime('04:00:00').time()"
   ]
  },
  {
   "cell_type": "code",
   "execution_count": 282,
   "id": "78d06bfc",
   "metadata": {},
   "outputs": [
    {
     "data": {
      "text/plain": [
       "datetime.time(15, 19, 58)"
      ]
     },
     "execution_count": 282,
     "metadata": {},
     "output_type": "execute_result"
    }
   ],
   "source": [
    "data[\"tpep_dropoff_datetime\"][1].time()"
   ]
  },
  {
   "cell_type": "code",
   "execution_count": 283,
   "id": "5001dd89",
   "metadata": {},
   "outputs": [
    {
     "data": {
      "text/plain": [
       "58"
      ]
     },
     "execution_count": 283,
     "metadata": {},
     "output_type": "execute_result"
    }
   ],
   "source": [
    "data[\"tpep_dropoff_datetime\"][1].time().hour\n",
    "data[\"tpep_dropoff_datetime\"][1].time().minute\n",
    "data[\"tpep_dropoff_datetime\"][1].time().second"
   ]
  },
  {
   "cell_type": "code",
   "execution_count": 284,
   "id": "3462a5ea",
   "metadata": {},
   "outputs": [],
   "source": [
    "def parsing_time(row):\n",
    "    end = min(night_end, row[\"tpep_dropoff_datetime\"].time())\n",
    "    start = max(night_start, row[\"tpep_pickup_datetime\"].time())\n",
    "    \n",
    "    hour = end.hour - start.hour\n",
    "    minute = end.minute - start.minute\n",
    "    second = end.second - start.second\n",
    "    \n",
    "    if second < 0 : \n",
    "        second = second + 60\n",
    "        minute = minute - 1\n",
    "        \n",
    "    if minute < 0:\n",
    "        minute = minute + 60\n",
    "        hour = hour - 1\n",
    "    \n",
    "    if hour < 0:\n",
    "        return \"00:00:00\"\n",
    "    \n",
    "    return datetime(1, 1, 1, hour, minute, second).strftime(\"%H:%M:%S\")"
   ]
  },
  {
   "cell_type": "code",
   "execution_count": 285,
   "id": "2d026a04",
   "metadata": {},
   "outputs": [],
   "source": [
    "data[\"night_time\"] = data.apply(parsing_time, axis = 1)"
   ]
  },
  {
   "cell_type": "code",
   "execution_count": 286,
   "id": "de4efe23",
   "metadata": {},
   "outputs": [
    {
     "data": {
      "text/plain": [
       "00:00:00    20766\n",
       "00:05:23        8\n",
       "00:10:52        8\n",
       "00:06:06        7\n",
       "00:08:18        7\n",
       "            ...  \n",
       "00:17:22        1\n",
       "00:11:25        1\n",
       "00:27:44        1\n",
       "00:03:39        1\n",
       "00:01:10        1\n",
       "Name: night_time, Length: 1074, dtype: int64"
      ]
     },
     "execution_count": 286,
     "metadata": {},
     "output_type": "execute_result"
    }
   ],
   "source": [
    "data[\"night_time\"].value_counts()"
   ]
  },
  {
   "cell_type": "code",
   "execution_count": 287,
   "id": "df7931fe",
   "metadata": {
    "scrolled": true
   },
   "outputs": [
    {
     "name": "stdout",
     "output_type": "stream",
     "text": [
      "<class 'pandas.core.frame.DataFrame'>\n",
      "Int64Index: 22696 entries, 0 to 22700\n",
      "Data columns (total 12 columns):\n",
      " #   Column                 Non-Null Count  Dtype          \n",
      "---  ------                 --------------  -----          \n",
      " 0   passenger_name         22696 non-null  object         \n",
      " 1   tpep_pickup_datetime   22696 non-null  datetime64[ns] \n",
      " 2   tpep_dropoff_datetime  22696 non-null  datetime64[ns] \n",
      " 3   payment_method         22696 non-null  object         \n",
      " 4   passenger_count        22696 non-null  int64          \n",
      " 5   trip_distance          22696 non-null  float64        \n",
      " 6   fare_amount            22696 non-null  float64        \n",
      " 7   tip_amount             22696 non-null  float64        \n",
      " 8   tolls_amount           22696 non-null  float64        \n",
      " 9   travel_datetime        22696 non-null  timedelta64[ns]\n",
      " 10  travel_minutes         22696 non-null  float64        \n",
      " 11  night_time             22696 non-null  object         \n",
      "dtypes: datetime64[ns](2), float64(5), int64(1), object(3), timedelta64[ns](1)\n",
      "memory usage: 2.8+ MB\n"
     ]
    }
   ],
   "source": [
    "data.info()"
   ]
  },
  {
   "cell_type": "markdown",
   "id": "7d0a8ffb",
   "metadata": {},
   "source": [
    "### 데이터 분포 및 이상치 확인\n",
    "\n",
    "#### passenger_count"
   ]
  },
  {
   "cell_type": "code",
   "execution_count": 288,
   "id": "8af366bf",
   "metadata": {},
   "outputs": [
    {
     "data": {
      "text/plain": [
       "<AxesSubplot:ylabel='passenger_count'>"
      ]
     },
     "execution_count": 288,
     "metadata": {},
     "output_type": "execute_result"
    },
    {
     "data": {
      "image/png": "[encoded data removed]",
      "text/plain": [
       "<Figure size 432x288 with 1 Axes>"
      ]
     },
     "metadata": {
      "needs_background": "light"
     },
     "output_type": "display_data"
    }
   ],
   "source": [
    "sns.scatterplot(x=data.index, y=data[\"passenger_count\"])"
   ]
  },
  {
   "cell_type": "code",
   "execution_count": 289,
   "id": "d959b5e9",
   "metadata": {
    "scrolled": true
   },
   "outputs": [
    {
     "name": "stdout",
     "output_type": "stream",
     "text": [
      "0\n"
     ]
    }
   ],
   "source": [
    "# 이상치 값을 갖는 passenger_count 값을 확인 후 제거합니다.\n",
    "data.drop(data[data[\"passenger_count\"] > 20].index, inplace = True)\n",
    "print(data[data[\"passenger_count\"] > 20][\"passenger_count\"].count())"
   ]
  },
  {
   "cell_type": "markdown",
   "id": "f55a7293",
   "metadata": {},
   "source": [
    "#### trip_distance"
   ]
  },
  {
   "cell_type": "code",
   "execution_count": 290,
   "id": "2703407f",
   "metadata": {
    "scrolled": true
   },
   "outputs": [
    {
     "data": {
      "text/plain": [
       "<AxesSubplot:ylabel='trip_distance'>"
      ]
     },
     "execution_count": 290,
     "metadata": {},
     "output_type": "execute_result"
    },
    {
     "data": {
      "image/png": "[encoded data removed]",
      "text/plain": [
       "<Figure size 432x288 with 1 Axes>"
      ]
     },
     "metadata": {
      "needs_background": "light"
     },
     "output_type": "display_data"
    }
   ],
   "source": [
    "sns.scatterplot(x=data.index, y=data[\"trip_distance\"])"
   ]
  },
  {
   "cell_type": "code",
   "execution_count": 291,
   "id": "90d9feea",
   "metadata": {
    "scrolled": true
   },
   "outputs": [
    {
     "data": {
      "text/html": [
       "<div>\n",
       "<style scoped>\n",
       "    .dataframe tbody tr th:only-of-type {\n",
       "        vertical-align: middle;\n",
       "    }\n",
       "\n",
       "    .dataframe tbody tr th {\n",
       "        vertical-align: top;\n",
       "    }\n",
       "\n",
       "    .dataframe thead th {\n",
       "        text-align: right;\n",
       "    }\n",
       "</style>\n",
       "<table border=\"1\" class=\"dataframe\">\n",
       "  <thead>\n",
       "    <tr style=\"text-align: right;\">\n",
       "      <th></th>\n",
       "      <th>passenger_name</th>\n",
       "      <th>tpep_pickup_datetime</th>\n",
       "      <th>tpep_dropoff_datetime</th>\n",
       "      <th>payment_method</th>\n",
       "      <th>passenger_count</th>\n",
       "      <th>trip_distance</th>\n",
       "      <th>fare_amount</th>\n",
       "      <th>tip_amount</th>\n",
       "      <th>tolls_amount</th>\n",
       "      <th>travel_datetime</th>\n",
       "      <th>travel_minutes</th>\n",
       "      <th>night_time</th>\n",
       "    </tr>\n",
       "  </thead>\n",
       "  <tbody>\n",
       "    <tr>\n",
       "      <th>30</th>\n",
       "      <td>David Burton</td>\n",
       "      <td>2017-11-06 20:30:50</td>\n",
       "      <td>2017-11-07 00:00:00</td>\n",
       "      <td>Credit Card</td>\n",
       "      <td>1</td>\n",
       "      <td>30.83</td>\n",
       "      <td>80.00</td>\n",
       "      <td>18.56</td>\n",
       "      <td>11.52</td>\n",
       "      <td>0 days 03:29:10</td>\n",
       "      <td>209.17</td>\n",
       "      <td>00:00:00</td>\n",
       "    </tr>\n",
       "    <tr>\n",
       "      <th>5794</th>\n",
       "      <td>Tamara Bowen MD</td>\n",
       "      <td>2017-08-11 14:14:01</td>\n",
       "      <td>2017-08-11 15:17:31</td>\n",
       "      <td>Cash</td>\n",
       "      <td>1</td>\n",
       "      <td>30.33</td>\n",
       "      <td>52.00</td>\n",
       "      <td>14.64</td>\n",
       "      <td>5.76</td>\n",
       "      <td>0 days 01:03:30</td>\n",
       "      <td>63.50</td>\n",
       "      <td>00:00:00</td>\n",
       "    </tr>\n",
       "    <tr>\n",
       "      <th>6066</th>\n",
       "      <td>Tina Knight</td>\n",
       "      <td>2017-06-13 12:30:22</td>\n",
       "      <td>2017-06-13 13:37:51</td>\n",
       "      <td>Debit Card</td>\n",
       "      <td>1</td>\n",
       "      <td>32.72</td>\n",
       "      <td>107.00</td>\n",
       "      <td>55.50</td>\n",
       "      <td>16.26</td>\n",
       "      <td>0 days 01:07:29</td>\n",
       "      <td>67.48</td>\n",
       "      <td>00:00:00</td>\n",
       "    </tr>\n",
       "    <tr>\n",
       "      <th>9282</th>\n",
       "      <td>Samantha Frederick</td>\n",
       "      <td>2017-06-18 23:33:25</td>\n",
       "      <td>2017-06-19 00:12:38</td>\n",
       "      <td>Cash</td>\n",
       "      <td>2</td>\n",
       "      <td>33.96</td>\n",
       "      <td>150.00</td>\n",
       "      <td>0.00</td>\n",
       "      <td>0.00</td>\n",
       "      <td>0 days 00:39:13</td>\n",
       "      <td>39.22</td>\n",
       "      <td>00:00:00</td>\n",
       "    </tr>\n",
       "    <tr>\n",
       "      <th>10293</th>\n",
       "      <td>Emily Stevens</td>\n",
       "      <td>2017-09-11 11:41:04</td>\n",
       "      <td>2017-09-11 12:18:58</td>\n",
       "      <td>Cash</td>\n",
       "      <td>1</td>\n",
       "      <td>31.95</td>\n",
       "      <td>131.00</td>\n",
       "      <td>0.00</td>\n",
       "      <td>0.00</td>\n",
       "      <td>0 days 00:37:54</td>\n",
       "      <td>37.90</td>\n",
       "      <td>00:00:00</td>\n",
       "    </tr>\n",
       "    <tr>\n",
       "      <th>13863</th>\n",
       "      <td>William Yates</td>\n",
       "      <td>2017-05-19 08:20:21</td>\n",
       "      <td>2017-05-19 09:20:30</td>\n",
       "      <td>Credit Card</td>\n",
       "      <td>1</td>\n",
       "      <td>33.92</td>\n",
       "      <td>200.01</td>\n",
       "      <td>51.64</td>\n",
       "      <td>5.76</td>\n",
       "      <td>0 days 01:00:09</td>\n",
       "      <td>60.15</td>\n",
       "      <td>00:00:00</td>\n",
       "    </tr>\n",
       "    <tr>\n",
       "      <th>18132</th>\n",
       "      <td>Jose Deleon</td>\n",
       "      <td>2017-10-26 14:45:01</td>\n",
       "      <td>2017-10-26 16:12:49</td>\n",
       "      <td>Debit Card</td>\n",
       "      <td>1</td>\n",
       "      <td>30.50</td>\n",
       "      <td>90.50</td>\n",
       "      <td>19.85</td>\n",
       "      <td>8.16</td>\n",
       "      <td>0 days 01:27:48</td>\n",
       "      <td>87.80</td>\n",
       "      <td>00:00:00</td>\n",
       "    </tr>\n",
       "  </tbody>\n",
       "</table>\n",
       "</div>"
      ],
      "text/plain": [
       "           passenger_name tpep_pickup_datetime tpep_dropoff_datetime  \\\n",
       "30           David Burton  2017-11-06 20:30:50   2017-11-07 00:00:00   \n",
       "5794      Tamara Bowen MD  2017-08-11 14:14:01   2017-08-11 15:17:31   \n",
       "6066          Tina Knight  2017-06-13 12:30:22   2017-06-13 13:37:51   \n",
       "9282   Samantha Frederick  2017-06-18 23:33:25   2017-06-19 00:12:38   \n",
       "10293       Emily Stevens  2017-09-11 11:41:04   2017-09-11 12:18:58   \n",
       "13863       William Yates  2017-05-19 08:20:21   2017-05-19 09:20:30   \n",
       "18132         Jose Deleon  2017-10-26 14:45:01   2017-10-26 16:12:49   \n",
       "\n",
       "      payment_method  passenger_count  trip_distance  fare_amount  tip_amount  \\\n",
       "30       Credit Card                1          30.83        80.00       18.56   \n",
       "5794            Cash                1          30.33        52.00       14.64   \n",
       "6066      Debit Card                1          32.72       107.00       55.50   \n",
       "9282            Cash                2          33.96       150.00        0.00   \n",
       "10293           Cash                1          31.95       131.00        0.00   \n",
       "13863    Credit Card                1          33.92       200.01       51.64   \n",
       "18132     Debit Card                1          30.50        90.50       19.85   \n",
       "\n",
       "       tolls_amount travel_datetime  travel_minutes night_time  \n",
       "30            11.52 0 days 03:29:10          209.17   00:00:00  \n",
       "5794           5.76 0 days 01:03:30           63.50   00:00:00  \n",
       "6066          16.26 0 days 01:07:29           67.48   00:00:00  \n",
       "9282           0.00 0 days 00:39:13           39.22   00:00:00  \n",
       "10293          0.00 0 days 00:37:54           37.90   00:00:00  \n",
       "13863          5.76 0 days 01:00:09           60.15   00:00:00  \n",
       "18132          8.16 0 days 01:27:48           87.80   00:00:00  "
      ]
     },
     "execution_count": 291,
     "metadata": {},
     "output_type": "execute_result"
    }
   ],
   "source": [
    "# 높은 값을 갖는 row를 확인합니다. 기준은 30으로 잡습니다.\n",
    "data[data[\"trip_distance\"] > 30]\n",
    "# -> 수치상으로 이동 시간, 비용과 거의 비례함을 보이기에 제거하지 않고 넘어갑니다."
   ]
  },
  {
   "cell_type": "markdown",
   "id": "fc75f1d9",
   "metadata": {},
   "source": [
    "#### fare_amount"
   ]
  },
  {
   "cell_type": "code",
   "execution_count": 292,
   "id": "3f03be37",
   "metadata": {
    "scrolled": true
   },
   "outputs": [
    {
     "data": {
      "text/plain": [
       "<AxesSubplot:ylabel='fare_amount'>"
      ]
     },
     "execution_count": 292,
     "metadata": {},
     "output_type": "execute_result"
    },
    {
     "data": {
      "image/png": "[encoded data removed]",
      "text/plain": [
       "<Figure size 432x288 with 1 Axes>"
      ]
     },
     "metadata": {
      "needs_background": "light"
     },
     "output_type": "display_data"
    }
   ],
   "source": [
    "sns.scatterplot(x=data.index, y=data[\"fare_amount\"])"
   ]
  },
  {
   "cell_type": "code",
   "execution_count": 293,
   "id": "62b0de62",
   "metadata": {},
   "outputs": [
    {
     "data": {
      "text/html": [
       "<div>\n",
       "<style scoped>\n",
       "    .dataframe tbody tr th:only-of-type {\n",
       "        vertical-align: middle;\n",
       "    }\n",
       "\n",
       "    .dataframe tbody tr th {\n",
       "        vertical-align: top;\n",
       "    }\n",
       "\n",
       "    .dataframe thead th {\n",
       "        text-align: right;\n",
       "    }\n",
       "</style>\n",
       "<table border=\"1\" class=\"dataframe\">\n",
       "  <thead>\n",
       "    <tr style=\"text-align: right;\">\n",
       "      <th></th>\n",
       "      <th>passenger_name</th>\n",
       "      <th>tpep_pickup_datetime</th>\n",
       "      <th>tpep_dropoff_datetime</th>\n",
       "      <th>payment_method</th>\n",
       "      <th>passenger_count</th>\n",
       "      <th>trip_distance</th>\n",
       "      <th>fare_amount</th>\n",
       "      <th>tip_amount</th>\n",
       "      <th>tolls_amount</th>\n",
       "      <th>travel_datetime</th>\n",
       "      <th>travel_minutes</th>\n",
       "      <th>night_time</th>\n",
       "    </tr>\n",
       "  </thead>\n",
       "  <tbody>\n",
       "    <tr>\n",
       "      <th>8478</th>\n",
       "      <td>Alexis Hanson</td>\n",
       "      <td>2017-02-06 05:50:10</td>\n",
       "      <td>2017-02-06 05:51:08</td>\n",
       "      <td>Credit Card</td>\n",
       "      <td>1</td>\n",
       "      <td>2.6</td>\n",
       "      <td>999.99</td>\n",
       "      <td>200.0</td>\n",
       "      <td>0.0</td>\n",
       "      <td>0 days 00:00:58</td>\n",
       "      <td>0.97</td>\n",
       "      <td>00:00:00</td>\n",
       "    </tr>\n",
       "    <tr>\n",
       "      <th>20314</th>\n",
       "      <td>Nicholas Thomas</td>\n",
       "      <td>2017-12-19 09:40:46</td>\n",
       "      <td>2017-12-19 09:40:55</td>\n",
       "      <td>Cash</td>\n",
       "      <td>2</td>\n",
       "      <td>0.0</td>\n",
       "      <td>450.00</td>\n",
       "      <td>0.0</td>\n",
       "      <td>0.0</td>\n",
       "      <td>0 days 00:00:09</td>\n",
       "      <td>0.15</td>\n",
       "      <td>00:00:00</td>\n",
       "    </tr>\n",
       "  </tbody>\n",
       "</table>\n",
       "</div>"
      ],
      "text/plain": [
       "        passenger_name tpep_pickup_datetime tpep_dropoff_datetime  \\\n",
       "8478     Alexis Hanson  2017-02-06 05:50:10   2017-02-06 05:51:08   \n",
       "20314  Nicholas Thomas  2017-12-19 09:40:46   2017-12-19 09:40:55   \n",
       "\n",
       "      payment_method  passenger_count  trip_distance  fare_amount  tip_amount  \\\n",
       "8478     Credit Card                1            2.6       999.99       200.0   \n",
       "20314           Cash                2            0.0       450.00         0.0   \n",
       "\n",
       "       tolls_amount travel_datetime  travel_minutes night_time  \n",
       "8478            0.0 0 days 00:00:58            0.97   00:00:00  \n",
       "20314           0.0 0 days 00:00:09            0.15   00:00:00  "
      ]
     },
     "execution_count": 293,
     "metadata": {},
     "output_type": "execute_result"
    }
   ],
   "source": [
    "# 이상치를 갖는 값의 row를 확인합니다.\n",
    "data[data[\"fare_amount\"] > 300]"
   ]
  },
  {
   "cell_type": "code",
   "execution_count": 294,
   "id": "8aa07de8",
   "metadata": {},
   "outputs": [],
   "source": [
    "# 확인해보니, 이동 시간 및 거리와 관련해서 전혀 연관이 없어 해당 로우를 제거합니다.\n",
    "data.drop(data[data[\"fare_amount\"] > 300].index, inplace = True)"
   ]
  },
  {
   "cell_type": "markdown",
   "id": "1d00bf74",
   "metadata": {},
   "source": [
    "#### tip_amount"
   ]
  },
  {
   "cell_type": "code",
   "execution_count": 295,
   "id": "5a240fef",
   "metadata": {
    "scrolled": true
   },
   "outputs": [
    {
     "data": {
      "text/plain": [
       "<AxesSubplot:ylabel='tip_amount'>"
      ]
     },
     "execution_count": 295,
     "metadata": {},
     "output_type": "execute_result"
    },
    {
     "data": {
      "image/png": "[encoded data removed]",
      "text/plain": [
       "<Figure size 432x288 with 1 Axes>"
      ]
     },
     "metadata": {
      "needs_background": "light"
     },
     "output_type": "display_data"
    }
   ],
   "source": [
    "sns.scatterplot(x=data.index, y=data[\"tip_amount\"])"
   ]
  },
  {
   "cell_type": "code",
   "execution_count": 296,
   "id": "5dced1bd",
   "metadata": {
    "scrolled": true
   },
   "outputs": [
    {
     "data": {
      "text/html": [
       "<div>\n",
       "<style scoped>\n",
       "    .dataframe tbody tr th:only-of-type {\n",
       "        vertical-align: middle;\n",
       "    }\n",
       "\n",
       "    .dataframe tbody tr th {\n",
       "        vertical-align: top;\n",
       "    }\n",
       "\n",
       "    .dataframe thead th {\n",
       "        text-align: right;\n",
       "    }\n",
       "</style>\n",
       "<table border=\"1\" class=\"dataframe\">\n",
       "  <thead>\n",
       "    <tr style=\"text-align: right;\">\n",
       "      <th></th>\n",
       "      <th>passenger_name</th>\n",
       "      <th>tpep_pickup_datetime</th>\n",
       "      <th>tpep_dropoff_datetime</th>\n",
       "      <th>payment_method</th>\n",
       "      <th>passenger_count</th>\n",
       "      <th>trip_distance</th>\n",
       "      <th>fare_amount</th>\n",
       "      <th>tip_amount</th>\n",
       "      <th>tolls_amount</th>\n",
       "      <th>travel_datetime</th>\n",
       "      <th>travel_minutes</th>\n",
       "      <th>night_time</th>\n",
       "    </tr>\n",
       "  </thead>\n",
       "  <tbody>\n",
       "    <tr>\n",
       "      <th>986</th>\n",
       "      <td>Elaine Horton</td>\n",
       "      <td>2017-08-23 18:23:26</td>\n",
       "      <td>2017-08-23 19:18:29</td>\n",
       "      <td>Cash</td>\n",
       "      <td>1</td>\n",
       "      <td>16.70</td>\n",
       "      <td>52.00</td>\n",
       "      <td>42.29</td>\n",
       "      <td>0.00</td>\n",
       "      <td>0 days 00:55:03</td>\n",
       "      <td>55.05</td>\n",
       "      <td>00:00:00</td>\n",
       "    </tr>\n",
       "    <tr>\n",
       "      <th>6066</th>\n",
       "      <td>Tina Knight</td>\n",
       "      <td>2017-06-13 12:30:22</td>\n",
       "      <td>2017-06-13 13:37:51</td>\n",
       "      <td>Debit Card</td>\n",
       "      <td>1</td>\n",
       "      <td>32.72</td>\n",
       "      <td>107.00</td>\n",
       "      <td>55.50</td>\n",
       "      <td>16.26</td>\n",
       "      <td>0 days 01:07:29</td>\n",
       "      <td>67.48</td>\n",
       "      <td>00:00:00</td>\n",
       "    </tr>\n",
       "    <tr>\n",
       "      <th>12513</th>\n",
       "      <td>Mr. Wesley Reyes</td>\n",
       "      <td>2017-12-17 18:24:24</td>\n",
       "      <td>2017-12-17 18:24:42</td>\n",
       "      <td>Cash</td>\n",
       "      <td>1</td>\n",
       "      <td>0.00</td>\n",
       "      <td>175.00</td>\n",
       "      <td>46.69</td>\n",
       "      <td>11.75</td>\n",
       "      <td>0 days 00:00:18</td>\n",
       "      <td>0.30</td>\n",
       "      <td>00:00:00</td>\n",
       "    </tr>\n",
       "    <tr>\n",
       "      <th>13863</th>\n",
       "      <td>William Yates</td>\n",
       "      <td>2017-05-19 08:20:21</td>\n",
       "      <td>2017-05-19 09:20:30</td>\n",
       "      <td>Credit Card</td>\n",
       "      <td>1</td>\n",
       "      <td>33.92</td>\n",
       "      <td>200.01</td>\n",
       "      <td>51.64</td>\n",
       "      <td>5.76</td>\n",
       "      <td>0 days 01:00:09</td>\n",
       "      <td>60.15</td>\n",
       "      <td>00:00:00</td>\n",
       "    </tr>\n",
       "  </tbody>\n",
       "</table>\n",
       "</div>"
      ],
      "text/plain": [
       "         passenger_name tpep_pickup_datetime tpep_dropoff_datetime  \\\n",
       "986       Elaine Horton  2017-08-23 18:23:26   2017-08-23 19:18:29   \n",
       "6066        Tina Knight  2017-06-13 12:30:22   2017-06-13 13:37:51   \n",
       "12513  Mr. Wesley Reyes  2017-12-17 18:24:24   2017-12-17 18:24:42   \n",
       "13863     William Yates  2017-05-19 08:20:21   2017-05-19 09:20:30   \n",
       "\n",
       "      payment_method  passenger_count  trip_distance  fare_amount  tip_amount  \\\n",
       "986             Cash                1          16.70        52.00       42.29   \n",
       "6066      Debit Card                1          32.72       107.00       55.50   \n",
       "12513           Cash                1           0.00       175.00       46.69   \n",
       "13863    Credit Card                1          33.92       200.01       51.64   \n",
       "\n",
       "       tolls_amount travel_datetime  travel_minutes night_time  \n",
       "986            0.00 0 days 00:55:03           55.05   00:00:00  \n",
       "6066          16.26 0 days 01:07:29           67.48   00:00:00  \n",
       "12513         11.75 0 days 00:00:18            0.30   00:00:00  \n",
       "13863          5.76 0 days 01:00:09           60.15   00:00:00  "
      ]
     },
     "execution_count": 296,
     "metadata": {},
     "output_type": "execute_result"
    }
   ],
   "source": [
    "# 동일하게 확인해줍니다.\n",
    "data[data[\"tip_amount\"] > 30]"
   ]
  },
  {
   "cell_type": "code",
   "execution_count": 297,
   "id": "ee36554c",
   "metadata": {},
   "outputs": [],
   "source": [
    "# fare에 비해 과하게 팁이 높은 경우가 존재합니다.\n",
    "# 추가적으로 trip_distance가 0임에도 175$의 금액이 결제된 row도 이상치로 판단, 함께 제거합니다.\n",
    "data.drop(data[data[\"tip_amount\"] > 30].index, inplace = True)\n",
    "data.drop(data[data[\"trip_distance\"] == 0].index, inplace = True)"
   ]
  },
  {
   "cell_type": "markdown",
   "id": "5aac09a1",
   "metadata": {},
   "source": [
    "#### tolls_amounts"
   ]
  },
  {
   "cell_type": "code",
   "execution_count": 298,
   "id": "df540b87",
   "metadata": {
    "scrolled": true
   },
   "outputs": [
    {
     "data": {
      "text/plain": [
       "<AxesSubplot:ylabel='tolls_amount'>"
      ]
     },
     "execution_count": 298,
     "metadata": {},
     "output_type": "execute_result"
    },
    {
     "data": {
      "image/png": "[encoded data removed]",
      "text/plain": [
       "<Figure size 432x288 with 1 Axes>"
      ]
     },
     "metadata": {
      "needs_background": "light"
     },
     "output_type": "display_data"
    }
   ],
   "source": [
    "sns.scatterplot(x=data.index, y=data[\"tolls_amount\"])"
   ]
  },
  {
   "cell_type": "code",
   "execution_count": 299,
   "id": "71200a50",
   "metadata": {
    "scrolled": true
   },
   "outputs": [
    {
     "data": {
      "text/html": [
       "<div>\n",
       "<style scoped>\n",
       "    .dataframe tbody tr th:only-of-type {\n",
       "        vertical-align: middle;\n",
       "    }\n",
       "\n",
       "    .dataframe tbody tr th {\n",
       "        vertical-align: top;\n",
       "    }\n",
       "\n",
       "    .dataframe thead th {\n",
       "        text-align: right;\n",
       "    }\n",
       "</style>\n",
       "<table border=\"1\" class=\"dataframe\">\n",
       "  <thead>\n",
       "    <tr style=\"text-align: right;\">\n",
       "      <th></th>\n",
       "      <th>passenger_name</th>\n",
       "      <th>tpep_pickup_datetime</th>\n",
       "      <th>tpep_dropoff_datetime</th>\n",
       "      <th>payment_method</th>\n",
       "      <th>passenger_count</th>\n",
       "      <th>trip_distance</th>\n",
       "      <th>fare_amount</th>\n",
       "      <th>tip_amount</th>\n",
       "      <th>tolls_amount</th>\n",
       "      <th>travel_datetime</th>\n",
       "      <th>travel_minutes</th>\n",
       "      <th>night_time</th>\n",
       "    </tr>\n",
       "  </thead>\n",
       "  <tbody>\n",
       "    <tr>\n",
       "      <th>22</th>\n",
       "      <td>Jacqueline Mclean DVM</td>\n",
       "      <td>2017-10-11 12:34:49</td>\n",
       "      <td>2017-10-11 13:22:38</td>\n",
       "      <td>Debit Card</td>\n",
       "      <td>1</td>\n",
       "      <td>12.30</td>\n",
       "      <td>68.25</td>\n",
       "      <td>12.00</td>\n",
       "      <td>16.26</td>\n",
       "      <td>0 days 00:47:49</td>\n",
       "      <td>47.82</td>\n",
       "      <td>00:00:00</td>\n",
       "    </tr>\n",
       "    <tr>\n",
       "      <th>318</th>\n",
       "      <td>Tanya Arroyo</td>\n",
       "      <td>2017-07-20 13:21:55</td>\n",
       "      <td>2017-07-20 14:21:20</td>\n",
       "      <td>Credit Card</td>\n",
       "      <td>1</td>\n",
       "      <td>17.86</td>\n",
       "      <td>78.00</td>\n",
       "      <td>0.00</td>\n",
       "      <td>16.50</td>\n",
       "      <td>0 days 00:59:25</td>\n",
       "      <td>59.42</td>\n",
       "      <td>00:00:00</td>\n",
       "    </tr>\n",
       "    <tr>\n",
       "      <th>4887</th>\n",
       "      <td>Joshua Jensen</td>\n",
       "      <td>2017-04-14 07:36:09</td>\n",
       "      <td>2017-04-14 08:08:02</td>\n",
       "      <td>Credit Card</td>\n",
       "      <td>1</td>\n",
       "      <td>18.99</td>\n",
       "      <td>68.00</td>\n",
       "      <td>15.00</td>\n",
       "      <td>18.26</td>\n",
       "      <td>0 days 00:31:53</td>\n",
       "      <td>31.88</td>\n",
       "      <td>00:00:00</td>\n",
       "    </tr>\n",
       "    <tr>\n",
       "      <th>5273</th>\n",
       "      <td>Melvin Henderson III</td>\n",
       "      <td>2017-12-07 13:48:52</td>\n",
       "      <td>2017-12-07 14:29:07</td>\n",
       "      <td>Credit Card</td>\n",
       "      <td>1</td>\n",
       "      <td>17.96</td>\n",
       "      <td>70.00</td>\n",
       "      <td>17.88</td>\n",
       "      <td>19.10</td>\n",
       "      <td>0 days 00:40:15</td>\n",
       "      <td>40.25</td>\n",
       "      <td>00:00:00</td>\n",
       "    </tr>\n",
       "    <tr>\n",
       "      <th>5538</th>\n",
       "      <td>Alexander Giles Jr.</td>\n",
       "      <td>2017-03-16 12:14:51</td>\n",
       "      <td>2017-03-16 12:52:36</td>\n",
       "      <td>Cash</td>\n",
       "      <td>1</td>\n",
       "      <td>17.50</td>\n",
       "      <td>69.50</td>\n",
       "      <td>21.30</td>\n",
       "      <td>15.50</td>\n",
       "      <td>0 days 00:37:45</td>\n",
       "      <td>37.75</td>\n",
       "      <td>00:00:00</td>\n",
       "    </tr>\n",
       "    <tr>\n",
       "      <th>7629</th>\n",
       "      <td>Thomas Rodgers</td>\n",
       "      <td>2017-09-25 19:53:56</td>\n",
       "      <td>2017-09-25 20:39:01</td>\n",
       "      <td>Credit Card</td>\n",
       "      <td>5</td>\n",
       "      <td>20.28</td>\n",
       "      <td>57.50</td>\n",
       "      <td>15.32</td>\n",
       "      <td>17.28</td>\n",
       "      <td>0 days 00:45:05</td>\n",
       "      <td>45.08</td>\n",
       "      <td>00:00:00</td>\n",
       "    </tr>\n",
       "    <tr>\n",
       "      <th>7748</th>\n",
       "      <td>Jonathan Lloyd</td>\n",
       "      <td>2017-01-24 11:48:23</td>\n",
       "      <td>2017-01-24 12:34:10</td>\n",
       "      <td>Cash</td>\n",
       "      <td>2</td>\n",
       "      <td>18.13</td>\n",
       "      <td>71.00</td>\n",
       "      <td>17.36</td>\n",
       "      <td>15.50</td>\n",
       "      <td>0 days 00:45:47</td>\n",
       "      <td>45.78</td>\n",
       "      <td>00:00:00</td>\n",
       "    </tr>\n",
       "    <tr>\n",
       "      <th>7931</th>\n",
       "      <td>James Blackburn</td>\n",
       "      <td>2017-01-10 10:35:22</td>\n",
       "      <td>2017-01-10 11:07:05</td>\n",
       "      <td>Credit Card</td>\n",
       "      <td>2</td>\n",
       "      <td>17.53</td>\n",
       "      <td>75.00</td>\n",
       "      <td>0.00</td>\n",
       "      <td>15.58</td>\n",
       "      <td>0 days 00:31:43</td>\n",
       "      <td>31.72</td>\n",
       "      <td>00:00:00</td>\n",
       "    </tr>\n",
       "    <tr>\n",
       "      <th>10877</th>\n",
       "      <td>Thomas Smith</td>\n",
       "      <td>2017-07-23 15:46:30</td>\n",
       "      <td>2017-07-23 16:20:50</td>\n",
       "      <td>Cash</td>\n",
       "      <td>2</td>\n",
       "      <td>14.67</td>\n",
       "      <td>61.50</td>\n",
       "      <td>15.56</td>\n",
       "      <td>16.00</td>\n",
       "      <td>0 days 00:34:20</td>\n",
       "      <td>34.33</td>\n",
       "      <td>00:00:00</td>\n",
       "    </tr>\n",
       "    <tr>\n",
       "      <th>11562</th>\n",
       "      <td>Alexis Chang</td>\n",
       "      <td>2017-09-17 11:54:41</td>\n",
       "      <td>2017-09-17 12:24:21</td>\n",
       "      <td>Debit Card</td>\n",
       "      <td>1</td>\n",
       "      <td>17.86</td>\n",
       "      <td>67.00</td>\n",
       "      <td>12.00</td>\n",
       "      <td>17.50</td>\n",
       "      <td>0 days 00:29:40</td>\n",
       "      <td>29.67</td>\n",
       "      <td>00:00:00</td>\n",
       "    </tr>\n",
       "    <tr>\n",
       "      <th>15423</th>\n",
       "      <td>Robert Bautista</td>\n",
       "      <td>2017-11-03 13:43:08</td>\n",
       "      <td>2017-11-03 14:29:27</td>\n",
       "      <td>Cash</td>\n",
       "      <td>2</td>\n",
       "      <td>18.17</td>\n",
       "      <td>72.00</td>\n",
       "      <td>17.70</td>\n",
       "      <td>16.20</td>\n",
       "      <td>0 days 00:46:19</td>\n",
       "      <td>46.32</td>\n",
       "      <td>00:00:00</td>\n",
       "    </tr>\n",
       "    <tr>\n",
       "      <th>16381</th>\n",
       "      <td>Erica Hernandez</td>\n",
       "      <td>2017-11-30 10:41:11</td>\n",
       "      <td>2017-11-30 11:31:45</td>\n",
       "      <td>Cash</td>\n",
       "      <td>1</td>\n",
       "      <td>25.50</td>\n",
       "      <td>140.00</td>\n",
       "      <td>0.00</td>\n",
       "      <td>16.26</td>\n",
       "      <td>0 days 00:50:34</td>\n",
       "      <td>50.57</td>\n",
       "      <td>00:00:00</td>\n",
       "    </tr>\n",
       "    <tr>\n",
       "      <th>16707</th>\n",
       "      <td>Tom Riley</td>\n",
       "      <td>2017-04-28 09:07:13</td>\n",
       "      <td>2017-04-28 09:55:53</td>\n",
       "      <td>Cash</td>\n",
       "      <td>1</td>\n",
       "      <td>21.70</td>\n",
       "      <td>79.50</td>\n",
       "      <td>0.00</td>\n",
       "      <td>18.28</td>\n",
       "      <td>0 days 00:48:40</td>\n",
       "      <td>48.67</td>\n",
       "      <td>00:00:00</td>\n",
       "    </tr>\n",
       "    <tr>\n",
       "      <th>17048</th>\n",
       "      <td>Alexander Carr</td>\n",
       "      <td>2017-06-03 06:47:42</td>\n",
       "      <td>2017-06-03 07:17:08</td>\n",
       "      <td>Debit Card</td>\n",
       "      <td>1</td>\n",
       "      <td>20.00</td>\n",
       "      <td>70.50</td>\n",
       "      <td>17.45</td>\n",
       "      <td>16.50</td>\n",
       "      <td>0 days 00:29:26</td>\n",
       "      <td>29.43</td>\n",
       "      <td>00:00:00</td>\n",
       "    </tr>\n",
       "    <tr>\n",
       "      <th>17113</th>\n",
       "      <td>Seth Olsen</td>\n",
       "      <td>2017-03-17 05:21:30</td>\n",
       "      <td>2017-03-17 05:52:41</td>\n",
       "      <td>Debit Card</td>\n",
       "      <td>1</td>\n",
       "      <td>22.03</td>\n",
       "      <td>76.00</td>\n",
       "      <td>10.00</td>\n",
       "      <td>16.00</td>\n",
       "      <td>0 days 00:31:11</td>\n",
       "      <td>31.18</td>\n",
       "      <td>00:00:00</td>\n",
       "    </tr>\n",
       "    <tr>\n",
       "      <th>17961</th>\n",
       "      <td>Sarah Pearson</td>\n",
       "      <td>2017-02-22 22:27:15</td>\n",
       "      <td>2017-02-22 23:03:06</td>\n",
       "      <td>Cash</td>\n",
       "      <td>1</td>\n",
       "      <td>17.72</td>\n",
       "      <td>49.50</td>\n",
       "      <td>13.48</td>\n",
       "      <td>16.62</td>\n",
       "      <td>0 days 00:35:51</td>\n",
       "      <td>35.85</td>\n",
       "      <td>00:00:00</td>\n",
       "    </tr>\n",
       "    <tr>\n",
       "      <th>18890</th>\n",
       "      <td>Nathan Welch</td>\n",
       "      <td>2017-11-04 12:22:33</td>\n",
       "      <td>2017-11-04 13:08:19</td>\n",
       "      <td>Cash</td>\n",
       "      <td>6</td>\n",
       "      <td>17.98</td>\n",
       "      <td>73.50</td>\n",
       "      <td>18.36</td>\n",
       "      <td>18.00</td>\n",
       "      <td>0 days 00:45:46</td>\n",
       "      <td>45.77</td>\n",
       "      <td>00:00:00</td>\n",
       "    </tr>\n",
       "  </tbody>\n",
       "</table>\n",
       "</div>"
      ],
      "text/plain": [
       "              passenger_name tpep_pickup_datetime tpep_dropoff_datetime  \\\n",
       "22     Jacqueline Mclean DVM  2017-10-11 12:34:49   2017-10-11 13:22:38   \n",
       "318             Tanya Arroyo  2017-07-20 13:21:55   2017-07-20 14:21:20   \n",
       "4887           Joshua Jensen  2017-04-14 07:36:09   2017-04-14 08:08:02   \n",
       "5273    Melvin Henderson III  2017-12-07 13:48:52   2017-12-07 14:29:07   \n",
       "5538     Alexander Giles Jr.  2017-03-16 12:14:51   2017-03-16 12:52:36   \n",
       "7629          Thomas Rodgers  2017-09-25 19:53:56   2017-09-25 20:39:01   \n",
       "7748          Jonathan Lloyd  2017-01-24 11:48:23   2017-01-24 12:34:10   \n",
       "7931         James Blackburn  2017-01-10 10:35:22   2017-01-10 11:07:05   \n",
       "10877           Thomas Smith  2017-07-23 15:46:30   2017-07-23 16:20:50   \n",
       "11562           Alexis Chang  2017-09-17 11:54:41   2017-09-17 12:24:21   \n",
       "15423        Robert Bautista  2017-11-03 13:43:08   2017-11-03 14:29:27   \n",
       "16381        Erica Hernandez  2017-11-30 10:41:11   2017-11-30 11:31:45   \n",
       "16707              Tom Riley  2017-04-28 09:07:13   2017-04-28 09:55:53   \n",
       "17048         Alexander Carr  2017-06-03 06:47:42   2017-06-03 07:17:08   \n",
       "17113             Seth Olsen  2017-03-17 05:21:30   2017-03-17 05:52:41   \n",
       "17961          Sarah Pearson  2017-02-22 22:27:15   2017-02-22 23:03:06   \n",
       "18890           Nathan Welch  2017-11-04 12:22:33   2017-11-04 13:08:19   \n",
       "\n",
       "      payment_method  passenger_count  trip_distance  fare_amount  tip_amount  \\\n",
       "22        Debit Card                1          12.30        68.25       12.00   \n",
       "318      Credit Card                1          17.86        78.00        0.00   \n",
       "4887     Credit Card                1          18.99        68.00       15.00   \n",
       "5273     Credit Card                1          17.96        70.00       17.88   \n",
       "5538            Cash                1          17.50        69.50       21.30   \n",
       "7629     Credit Card                5          20.28        57.50       15.32   \n",
       "7748            Cash                2          18.13        71.00       17.36   \n",
       "7931     Credit Card                2          17.53        75.00        0.00   \n",
       "10877           Cash                2          14.67        61.50       15.56   \n",
       "11562     Debit Card                1          17.86        67.00       12.00   \n",
       "15423           Cash                2          18.17        72.00       17.70   \n",
       "16381           Cash                1          25.50       140.00        0.00   \n",
       "16707           Cash                1          21.70        79.50        0.00   \n",
       "17048     Debit Card                1          20.00        70.50       17.45   \n",
       "17113     Debit Card                1          22.03        76.00       10.00   \n",
       "17961           Cash                1          17.72        49.50       13.48   \n",
       "18890           Cash                6          17.98        73.50       18.36   \n",
       "\n",
       "       tolls_amount travel_datetime  travel_minutes night_time  \n",
       "22            16.26 0 days 00:47:49           47.82   00:00:00  \n",
       "318           16.50 0 days 00:59:25           59.42   00:00:00  \n",
       "4887          18.26 0 days 00:31:53           31.88   00:00:00  \n",
       "5273          19.10 0 days 00:40:15           40.25   00:00:00  \n",
       "5538          15.50 0 days 00:37:45           37.75   00:00:00  \n",
       "7629          17.28 0 days 00:45:05           45.08   00:00:00  \n",
       "7748          15.50 0 days 00:45:47           45.78   00:00:00  \n",
       "7931          15.58 0 days 00:31:43           31.72   00:00:00  \n",
       "10877         16.00 0 days 00:34:20           34.33   00:00:00  \n",
       "11562         17.50 0 days 00:29:40           29.67   00:00:00  \n",
       "15423         16.20 0 days 00:46:19           46.32   00:00:00  \n",
       "16381         16.26 0 days 00:50:34           50.57   00:00:00  \n",
       "16707         18.28 0 days 00:48:40           48.67   00:00:00  \n",
       "17048         16.50 0 days 00:29:26           29.43   00:00:00  \n",
       "17113         16.00 0 days 00:31:11           31.18   00:00:00  \n",
       "17961         16.62 0 days 00:35:51           35.85   00:00:00  \n",
       "18890         18.00 0 days 00:45:46           45.77   00:00:00  "
      ]
     },
     "execution_count": 299,
     "metadata": {},
     "output_type": "execute_result"
    }
   ],
   "source": [
    "# tolls amount의 경우 이상치라고 판단하기는 어려우나, 다른 값에 비해 높은 값들을 확인해봅니다.\n",
    "data[data[\"tolls_amount\"] > 15]"
   ]
  },
  {
   "cell_type": "code",
   "execution_count": 300,
   "id": "72629fb0",
   "metadata": {},
   "outputs": [],
   "source": [
    "# 대부분의 경우 거리가 먼 장거리 운행을 했기에 toll 비용이 높아졌다고 판단됩니다."
   ]
  },
  {
   "cell_type": "markdown",
   "id": "fd76f69a",
   "metadata": {},
   "source": [
    "#### travel_minutes"
   ]
  },
  {
   "cell_type": "code",
   "execution_count": 301,
   "id": "24d8f33a",
   "metadata": {
    "scrolled": false
   },
   "outputs": [
    {
     "data": {
      "text/plain": [
       "<AxesSubplot:ylabel='travel_minutes'>"
      ]
     },
     "execution_count": 301,
     "metadata": {},
     "output_type": "execute_result"
    },
    {
     "data": {
      "image/png": "[encoded data removed]",
      "text/plain": [
       "<Figure size 432x288 with 1 Axes>"
      ]
     },
     "metadata": {
      "needs_background": "light"
     },
     "output_type": "display_data"
    }
   ],
   "source": [
    "sns.scatterplot(x=data.index, y=data[\"travel_minutes\"])"
   ]
  },
  {
   "cell_type": "code",
   "execution_count": 302,
   "id": "d7d98eb0",
   "metadata": {
    "scrolled": true
   },
   "outputs": [
    {
     "data": {
      "text/html": [
       "<div>\n",
       "<style scoped>\n",
       "    .dataframe tbody tr th:only-of-type {\n",
       "        vertical-align: middle;\n",
       "    }\n",
       "\n",
       "    .dataframe tbody tr th {\n",
       "        vertical-align: top;\n",
       "    }\n",
       "\n",
       "    .dataframe thead th {\n",
       "        text-align: right;\n",
       "    }\n",
       "</style>\n",
       "<table border=\"1\" class=\"dataframe\">\n",
       "  <thead>\n",
       "    <tr style=\"text-align: right;\">\n",
       "      <th></th>\n",
       "      <th>passenger_name</th>\n",
       "      <th>tpep_pickup_datetime</th>\n",
       "      <th>tpep_dropoff_datetime</th>\n",
       "      <th>payment_method</th>\n",
       "      <th>passenger_count</th>\n",
       "      <th>trip_distance</th>\n",
       "      <th>fare_amount</th>\n",
       "      <th>tip_amount</th>\n",
       "      <th>tolls_amount</th>\n",
       "      <th>travel_datetime</th>\n",
       "      <th>travel_minutes</th>\n",
       "      <th>night_time</th>\n",
       "    </tr>\n",
       "  </thead>\n",
       "  <tbody>\n",
       "    <tr>\n",
       "      <th>9358</th>\n",
       "      <td>Donna Summers</td>\n",
       "      <td>2017-11-05 01:23:08</td>\n",
       "      <td>2017-11-05 01:06:09</td>\n",
       "      <td>Cash</td>\n",
       "      <td>1</td>\n",
       "      <td>5.7</td>\n",
       "      <td>28.0</td>\n",
       "      <td>0.0</td>\n",
       "      <td>0.0</td>\n",
       "      <td>-1 days +23:43:01</td>\n",
       "      <td>-16.98</td>\n",
       "      <td>00:00:00</td>\n",
       "    </tr>\n",
       "  </tbody>\n",
       "</table>\n",
       "</div>"
      ],
      "text/plain": [
       "     passenger_name tpep_pickup_datetime tpep_dropoff_datetime payment_method  \\\n",
       "9358  Donna Summers  2017-11-05 01:23:08   2017-11-05 01:06:09           Cash   \n",
       "\n",
       "      passenger_count  trip_distance  fare_amount  tip_amount  tolls_amount  \\\n",
       "9358                1            5.7         28.0         0.0           0.0   \n",
       "\n",
       "       travel_datetime  travel_minutes night_time  \n",
       "9358 -1 days +23:43:01          -16.98   00:00:00  "
      ]
     },
     "execution_count": 302,
     "metadata": {},
     "output_type": "execute_result"
    }
   ],
   "source": [
    "# 위 두 항목은 travel minute의 경우 이상치가 존재한다고 판단하여 이를 제거하였습니다.\n",
    "# travel minute이 음수이거나 0인 경우를 살펴봅니다.\n",
    "\n",
    "data[data[\"travel_minutes\"] <= 0]"
   ]
  },
  {
   "cell_type": "code",
   "execution_count": 303,
   "id": "945fb447",
   "metadata": {},
   "outputs": [],
   "source": [
    "# 해당 row는 이상치라고 판단, 이를 제거해줍니다.\n",
    "data.drop(data[data[\"travel_minutes\"] <= 0].index, inplace=True)"
   ]
  },
  {
   "cell_type": "markdown",
   "id": "c53061af",
   "metadata": {},
   "source": [
    "## Payment_method 변환\n",
    "\n",
    "- payment method 열을 수정합니다. \n",
    "- Credit Card와 Debit Card를 모두 Card로 변환해줍니다."
   ]
  },
  {
   "cell_type": "code",
   "execution_count": 307,
   "id": "61f6873b",
   "metadata": {},
   "outputs": [
    {
     "data": {
      "text/plain": [
       "Cash           11117\n",
       "Debit Card      5743\n",
       "Credit Card     5682\n",
       "Name: payment_method, dtype: int64"
      ]
     },
     "execution_count": 307,
     "metadata": {},
     "output_type": "execute_result"
    }
   ],
   "source": [
    "data[\"payment_method\"].value_counts()"
   ]
  },
  {
   "cell_type": "code",
   "execution_count": 316,
   "id": "ff0e9392",
   "metadata": {},
   "outputs": [],
   "source": [
    "data[\"payment_method\"] = data[\"payment_method\"].apply(lambda x: \"Card\" if x.split(\" \")[-1] == \"Card\" else \"Cash\")"
   ]
  },
  {
   "cell_type": "code",
   "execution_count": 317,
   "id": "af4e0e51",
   "metadata": {
    "scrolled": true
   },
   "outputs": [
    {
     "data": {
      "text/plain": [
       "Card    11425\n",
       "Cash    11117\n",
       "Name: payment_method, dtype: int64"
      ]
     },
     "execution_count": 317,
     "metadata": {},
     "output_type": "execute_result"
    }
   ],
   "source": [
    "data[\"payment_method\"].value_counts()"
   ]
  },
  {
   "cell_type": "markdown",
   "id": "1f4300c8",
   "metadata": {},
   "source": [
    "- Card면 1, Cash면 0으로 변환해서, is_card 열을 새로 만들어줍니다."
   ]
  },
  {
   "cell_type": "code",
   "execution_count": 318,
   "id": "cea723a5",
   "metadata": {},
   "outputs": [],
   "source": [
    "data[\"is_card\"] = data[\"payment_method\"].apply(lambda x: 1 if x == \"Card\" else 0)"
   ]
  },
  {
   "cell_type": "code",
   "execution_count": 322,
   "id": "53169440",
   "metadata": {},
   "outputs": [
    {
     "data": {
      "text/plain": [
       "<AxesSubplot:ylabel='is_card'>"
      ]
     },
     "execution_count": 322,
     "metadata": {},
     "output_type": "execute_result"
    },
    {
     "data": {
      "image/png": "[encoded data removed]",
      "text/plain": [
       "<Figure size 432x288 with 1 Axes>"
      ]
     },
     "metadata": {
      "needs_background": "light"
     },
     "output_type": "display_data"
    }
   ],
   "source": [
    "sns.scatterplot(x=data.index, y=data[\"is_card\"])"
   ]
  },
  {
   "cell_type": "markdown",
   "id": "99720714",
   "metadata": {},
   "source": [
    "## 변수간 상관관계 파악"
   ]
  },
  {
   "cell_type": "code",
   "execution_count": 320,
   "id": "af56dd9c",
   "metadata": {},
   "outputs": [],
   "source": [
    "correlation_matrix = data.corr()"
   ]
  },
  {
   "cell_type": "code",
   "execution_count": 321,
   "id": "b2c9fad6",
   "metadata": {},
   "outputs": [
    {
     "data": {
      "image/png": "[encoded data removed]",
      "text/plain": [
       "<Figure size 720x576 with 2 Axes>"
      ]
     },
     "metadata": {
      "needs_background": "light"
     },
     "output_type": "display_data"
    }
   ],
   "source": [
    "fig, ax = plt.subplots(1, 1, figsize=(10, 8))\n",
    "\n",
    "mask = np.triu(np.ones_like(correlation_matrix, dtype=bool))\n",
    "sns.heatmap(correlation_matrix, annot=True, cmap='coolwarm', fmt=\".2f\", mask=mask, linewidths=.5, ax=ax)\n",
    "plt.title('Correlation Matrix')\n",
    "plt.show()"
   ]
  },
  {
   "cell_type": "code",
   "execution_count": null,
   "id": "c6fa1e4d",
   "metadata": {},
   "outputs": [],
   "source": []
  },
  {
   "cell_type": "code",
   "execution_count": null,
   "id": "3d350206",
   "metadata": {},
   "outputs": [],
   "source": []
  }
 ],
 "metadata": {
  "kernelspec": {
   "display_name": "Python 3 (ipykernel)",
   "language": "python",
   "name": "python3"
  },
  "language_info": {
   "codemirror_mode": {
    "name": "ipython",
    "version": 3
   },
   "file_extension": ".py",
   "mimetype": "text/x-python",
   "name": "python",
   "nbconvert_exporter": "python",
   "pygments_lexer": "ipython3",
   "version": "3.9.7"
  }
 },
 "nbformat": 4,
 "nbformat_minor": 5
}
