{
 "cells": [
  {
   "cell_type": "markdown",
   "id": "6f55189a",
   "metadata": {},
   "source": [
    "### 기본적인 형태의 CNN 구현"
   ]
  },
  {
   "cell_type": "code",
   "execution_count": 1,
   "id": "73507abb",
   "metadata": {},
   "outputs": [],
   "source": [
    "import tensorflow as tf"
   ]
  },
  {
   "cell_type": "code",
   "execution_count": 3,
   "id": "b5314187",
   "metadata": {},
   "outputs": [
    {
     "name": "stdout",
     "output_type": "stream",
     "text": [
      "<class 'keras.engine.keras_tensor.KerasTensor'>\n",
      "KerasTensor(type_spec=TensorSpec(shape=(None, 28, 28, 4), dtype=tf.float32, name=None), name='conv2d_1/Relu:0', description=\"created by layer 'conv2d_1'\")\n"
     ]
    }
   ],
   "source": [
    "input_layer = tf.keras.layers.Input(shape=(28, 28, 1))\n",
    "\n",
    "x = tf.keras.layers.Conv2D(filters=4, \n",
    "                           kernel_size=3, \n",
    "                           strides=1, \n",
    "                           padding='same', \n",
    "                           activation='relu')(input_layer)\n",
    "\n",
    "print(type(x))\n",
    "print(x)"
   ]
  },
  {
   "cell_type": "code",
   "execution_count": 4,
   "id": "1ee416bb",
   "metadata": {},
   "outputs": [
    {
     "name": "stdout",
     "output_type": "stream",
     "text": [
      "(None, 28, 28, 1)\n",
      "(None, 28, 28, 4)\n"
     ]
    }
   ],
   "source": [
    "print(input_layer.shape)\n",
    "print(x.shape)"
   ]
  },
  {
   "cell_type": "markdown",
   "id": "cb43e0dd",
   "metadata": {},
   "source": [
    "### Pooling Layer가 포함된 CNN 모델 구현"
   ]
  },
  {
   "cell_type": "code",
   "execution_count": 7,
   "id": "afbd6c69",
   "metadata": {},
   "outputs": [],
   "source": [
    "input_tensor = tf.keras.layers.Input(shape=(27, 27, 1))"
   ]
  },
  {
   "cell_type": "code",
   "execution_count": 8,
   "id": "f5b1aaf3",
   "metadata": {},
   "outputs": [],
   "source": [
    "x1 = tf.keras.layers.Conv2D(filters=6, \n",
    "                           kernel_size=2, \n",
    "                           strides=2, \n",
    "                           padding='same', \n",
    "                           activation='relu')(input_tensor)"
   ]
  },
  {
   "cell_type": "code",
   "execution_count": 9,
   "id": "394ed8a6",
   "metadata": {},
   "outputs": [
    {
     "name": "stdout",
     "output_type": "stream",
     "text": [
      "KerasTensor(type_spec=TensorSpec(shape=(None, 14, 14, 6), dtype=tf.float32, name=None), name='conv2d_2/Relu:0', description=\"created by layer 'conv2d_2'\")\n",
      "KerasTensor(type_spec=TensorSpec(shape=(None, 7, 7, 6), dtype=tf.float32, name=None), name='max_pooling2d/MaxPool:0', description=\"created by layer 'max_pooling2d'\")\n"
     ]
    }
   ],
   "source": [
    "# 가로 세로 사이즈가 2인 영역에서 최대값을 뽑는 Maxpooling을 적용\n",
    "x2 = tf.keras.layers.MaxPooling2D(2)(x1) \n",
    "print(x1)\n",
    "print(x2)"
   ]
  },
  {
   "cell_type": "code",
   "execution_count": null,
   "id": "5c4c4dbf",
   "metadata": {},
   "outputs": [],
   "source": [
    "input_layer = tf.keras.layers.Input(shape=(7, 7, 5))\n",
    "convlayer1 = tf.keras.layers.Conv2D(filters=4, kernel_size=3, strides=1, padding='same')(input_layer)\n",
    "convlayer2 = tf.keras.layers.Conv2D(filters=8, kernel_size=3, strides=1, padding='valid')(convlayer1)\n",
    "pooling = tf.keras.layers.MaxPooling2D(2)(convlayer2)\n",
    "\n",
    "model = tf.keras.Model(inputs=input_layer, outputs=pooling)\n",
    "model.summary()"
   ]
  },
  {
   "cell_type": "markdown",
   "id": "852a5b85",
   "metadata": {},
   "source": [
    "### 이미지 분류 CNN 모델"
   ]
  },
  {
   "cell_type": "code",
   "execution_count": 10,
   "id": "2b0b2595",
   "metadata": {},
   "outputs": [],
   "source": [
    "input_tensor = tf.keras.layers.Input(shape=(28, 28, 1))\n",
    "x = tf.keras.layers.Conv2D(filters=32, kernel_size=3, strides=1, padding='same', activation='relu')(input_tensor) \n",
    "x = tf.keras.layers.Conv2D(filters=64, kernel_size=3, activation='relu')(x)\n",
    "x = tf.keras.layers.MaxPooling2D(2)(x)\n",
    "\n",
    "# 3차원으로 되어있는 Feature map 결과를 Fully Connected 연결하기 위해서는 Flatten()을 적용해야 합니다.\n",
    "x = tf.keras.layers.Flatten()(x) \n",
    "\n",
    "# Flatten 된 결과를 100의 노드를 가진 Fuly Connected Layer와 연결 \n",
    "x = tf.keras.layers.Dense(100, activation='relu')(x) \n",
    "output = tf.keras.layers.Dense(10, activation='softmax')(x)"
   ]
  },
  {
   "cell_type": "code",
   "execution_count": 11,
   "id": "46532b20",
   "metadata": {},
   "outputs": [
    {
     "name": "stdout",
     "output_type": "stream",
     "text": [
      "Model: \"model\"\n",
      "_________________________________________________________________\n",
      "Layer (type)                 Output Shape              Param #   \n",
      "=================================================================\n",
      "input_4 (InputLayer)         [(None, 28, 28, 1)]       0         \n",
      "_________________________________________________________________\n",
      "conv2d_3 (Conv2D)            (None, 28, 28, 32)        320       \n",
      "_________________________________________________________________\n",
      "conv2d_4 (Conv2D)            (None, 26, 26, 64)        18496     \n",
      "_________________________________________________________________\n",
      "max_pooling2d_1 (MaxPooling2 (None, 13, 13, 64)        0         \n",
      "_________________________________________________________________\n",
      "flatten (Flatten)            (None, 10816)             0         \n",
      "_________________________________________________________________\n",
      "dense (Dense)                (None, 100)               1081700   \n",
      "_________________________________________________________________\n",
      "dense_1 (Dense)              (None, 10)                1010      \n",
      "=================================================================\n",
      "Total params: 1,101,526\n",
      "Trainable params: 1,101,526\n",
      "Non-trainable params: 0\n",
      "_________________________________________________________________\n"
     ]
    }
   ],
   "source": [
    "model = tf.keras.Model(inputs=input_tensor, outputs=output)\n",
    "model.summary()"
   ]
  }
 ],
 "metadata": {
  "kernelspec": {
   "display_name": "Python 3 (ipykernel)",
   "language": "python",
   "name": "python3"
  },
  "language_info": {
   "codemirror_mode": {
    "name": "ipython",
    "version": 3
   },
   "file_extension": ".py",
   "mimetype": "text/x-python",
   "name": "python",
   "nbconvert_exporter": "python",
   "pygments_lexer": "ipython3",
   "version": "3.9.7"
  }
 },
 "nbformat": 4,
 "nbformat_minor": 5
}
