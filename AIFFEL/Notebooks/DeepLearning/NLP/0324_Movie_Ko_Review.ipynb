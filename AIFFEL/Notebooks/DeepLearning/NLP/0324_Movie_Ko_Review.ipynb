{
 "cells": [
  {
   "cell_type": "markdown",
   "id": "24b1943d",
   "metadata": {},
   "source": [
    "# 네이버 영화리뷰 감성분석\n",
    "\n",
    "- 데이터 : [Naver Sentiment Movie corpus](https://github.com/e9t/nsmc)\n",
    "\n",
    "## 라이브러리 및 데이터 준비"
   ]
  },
  {
   "cell_type": "code",
   "execution_count": 1,
   "id": "dfd4c104",
   "metadata": {},
   "outputs": [
    {
     "name": "stdout",
     "output_type": "stream",
     "text": [
      "1.3.3\n",
      "0.5.2\n",
      "4.1.2\n"
     ]
    }
   ],
   "source": [
    "import pandas\n",
    "import konlpy\n",
    "import gensim\n",
    "\n",
    "print(pandas.__version__)\n",
    "print(konlpy.__version__)\n",
    "print(gensim.__version__)"
   ]
  },
  {
   "cell_type": "code",
   "execution_count": 2,
   "id": "410efda2",
   "metadata": {},
   "outputs": [
    {
     "data": {
      "text/html": [
       "<div>\n",
       "<style scoped>\n",
       "    .dataframe tbody tr th:only-of-type {\n",
       "        vertical-align: middle;\n",
       "    }\n",
       "\n",
       "    .dataframe tbody tr th {\n",
       "        vertical-align: top;\n",
       "    }\n",
       "\n",
       "    .dataframe thead th {\n",
       "        text-align: right;\n",
       "    }\n",
       "</style>\n",
       "<table border=\"1\" class=\"dataframe\">\n",
       "  <thead>\n",
       "    <tr style=\"text-align: right;\">\n",
       "      <th></th>\n",
       "      <th>id</th>\n",
       "      <th>document</th>\n",
       "      <th>label</th>\n",
       "    </tr>\n",
       "  </thead>\n",
       "  <tbody>\n",
       "    <tr>\n",
       "      <th>0</th>\n",
       "      <td>9976970</td>\n",
       "      <td>아 더빙.. 진짜 짜증나네요 목소리</td>\n",
       "      <td>0</td>\n",
       "    </tr>\n",
       "    <tr>\n",
       "      <th>1</th>\n",
       "      <td>3819312</td>\n",
       "      <td>흠...포스터보고 초딩영화줄....오버연기조차 가볍지 않구나</td>\n",
       "      <td>1</td>\n",
       "    </tr>\n",
       "    <tr>\n",
       "      <th>2</th>\n",
       "      <td>10265843</td>\n",
       "      <td>너무재밓었다그래서보는것을추천한다</td>\n",
       "      <td>0</td>\n",
       "    </tr>\n",
       "    <tr>\n",
       "      <th>3</th>\n",
       "      <td>9045019</td>\n",
       "      <td>교도소 이야기구먼 ..솔직히 재미는 없다..평점 조정</td>\n",
       "      <td>0</td>\n",
       "    </tr>\n",
       "    <tr>\n",
       "      <th>4</th>\n",
       "      <td>6483659</td>\n",
       "      <td>사이몬페그의 익살스런 연기가 돋보였던 영화!스파이더맨에서 늙어보이기만 했던 커스틴 ...</td>\n",
       "      <td>1</td>\n",
       "    </tr>\n",
       "  </tbody>\n",
       "</table>\n",
       "</div>"
      ],
      "text/plain": [
       "         id                                           document  label\n",
       "0   9976970                                아 더빙.. 진짜 짜증나네요 목소리      0\n",
       "1   3819312                  흠...포스터보고 초딩영화줄....오버연기조차 가볍지 않구나      1\n",
       "2  10265843                                  너무재밓었다그래서보는것을추천한다      0\n",
       "3   9045019                      교도소 이야기구먼 ..솔직히 재미는 없다..평점 조정      0\n",
       "4   6483659  사이몬페그의 익살스런 연기가 돋보였던 영화!스파이더맨에서 늙어보이기만 했던 커스틴 ...      1"
      ]
     },
     "execution_count": 2,
     "metadata": {},
     "output_type": "execute_result"
    }
   ],
   "source": [
    "import pandas as pd\n",
    "\n",
    "# 데이터를 읽어봅시다. \n",
    "train_data = pd.read_table('~/aiffel/sentiment_classification/data/ratings_train.txt')\n",
    "test_data = pd.read_table('~/aiffel/sentiment_classification/data/ratings_test.txt')\n",
    "\n",
    "train_data.head()"
   ]
  },
  {
   "cell_type": "markdown",
   "id": "aa5d21d4",
   "metadata": {},
   "source": [
    "## 2. 데이터 로더 구성\n",
    "1. 데이터 중복 제거\n",
    "2. NaN 결측치 제거\n",
    "3. 한국어 토크나이저로 토큰화\n",
    "4. 불용어 제거\n",
    "4. 사전 (word_to_index) 구성\n",
    "5. 텍스트 스트링을 사전 인덱스 스트링으로 변환\n",
    "6. X_train, y_train, X_test, y_test, word_to_index 리턴\n",
    "\n",
    "#### VOCA 생성시, 4개의 빈 공간을 할당하는 이유는 아래와 같다.\n",
    "- **패딩(padding):** 신경망 모델에서 시퀀스 데이터를 처리할 때 일정한 길이로 만들어주는데, 이를 위해 패딩 토큰이 사용됩니다. \\<PAD>\n",
    "\n",
    "- **미지의 단어(unknown word):** 특정 단어 수를 제한하면서 모든 단어를 다루기 위해, 가장 자주 등장하는 num_words-4개의 단어를 선택하고 나머지는 'unknown'으로 처리할 수 있습니다. \\<UNK>\n",
    "\n",
    "- **시작 토큰(start token):** 문장의 시작을 나타내는 토큰을 추가할 수 있습니다. \\<BOS>\n",
    "\n",
    "- **사용이 된 것에 대한 토큰(unused token):** 임베딩시, 사용되지 않은 단어를 나타냅니다. test 데이터에서 활용합니다. \\<UNUSED>"
   ]
  },
  {
   "cell_type": "code",
   "execution_count": 3,
   "id": "95a3076d",
   "metadata": {},
   "outputs": [],
   "source": [
    "from konlpy.tag import Mecab\n",
    "import numpy as np\n",
    "from collections import Counter\n",
    "\n",
    "tokenizer = Mecab()\n",
    "stopwords = ['의','가','이','은','들','는','좀','잘','걍','과','도','를','으로','자','에','와','한','하다']\n",
    "\n",
    "def data_processing(data, stopwords):\n",
    "    data_X = []\n",
    "    \n",
    "    data.drop_duplicates(subset=['document'], inplace=True)\n",
    "    data.dropna(how='any', inplace=True)\n",
    "    \n",
    "    for sentence in data['document']:\n",
    "        tmp_X = tokenizer.morphs(sentence) # Tokenizer\n",
    "        tmp_X = [word for word in tmp_X if word not in stopwords] # rm stopwords\n",
    "        data_X.append(tmp_X)\n",
    "    return data_X\n",
    "\n",
    "def load_data(train_data, test_data, num_words=10000):\n",
    "    X_train = data_processing(train_data, stopwords)\n",
    "    X_test = data_processing(test_data, stopwords)\n",
    "    \n",
    "    words = np.concatenate(X_train).tolist() # to avoding data leakage\n",
    "    counter = Counter(words)\n",
    "    counter = counter.most_common(num_words-4)\n",
    "    vocab = ['<PAD>', '<BOS>', '<UNK>', '<UNUSED>'] + [key for key, _ in counter]\n",
    "    word_to_index = {word:index for index, word in enumerate(vocab)}\n",
    "    \n",
    "    def wordlist_to_indexlist(wordlist):\n",
    "        return [word_to_index[word] if word in word_to_index else word_to_index['<UNK>'] for word in wordlist]\n",
    "    \n",
    "    X_train = list(map(wordlist_to_indexlist, X_train))\n",
    "    X_test = list(map(wordlist_to_indexlist, X_test))\n",
    "    \n",
    "    return X_train, np.array(list(train_data['label'])), X_test, np.array(list(test_data['label'])), word_to_index"
   ]
  },
  {
   "cell_type": "code",
   "execution_count": 4,
   "id": "79acb1f5",
   "metadata": {},
   "outputs": [],
   "source": [
    "X_train, y_train, X_test, y_test, word_to_index = load_data(train_data, test_data)\n",
    "index_to_word = {index:word for word, index in word_to_index.items()}"
   ]
  },
  {
   "cell_type": "code",
   "execution_count": 5,
   "id": "6766afae",
   "metadata": {},
   "outputs": [],
   "source": [
    "# 문장 1개를 활용할 딕셔너리와 함께 주면, 단어 인덱스 리스트 벡터로 변환해 주는 함수입니다. \n",
    "# 단, 모든 문장은 <BOS>로 시작하는 것으로 합니다. \n",
    "def get_encoded_sentence(sentence, word_to_index):\n",
    "    return [word_to_index['<BOS>']]+[word_to_index[word] if word in word_to_index else word_to_index['<UNK>'] for word in sentence.split()]\n",
    "\n",
    "# 여러 개의 문장 리스트를 한꺼번에 단어 인덱스 리스트 벡터로 encode해 주는 함수입니다. \n",
    "def get_encoded_sentences(sentences, word_to_index):\n",
    "    return [get_encoded_sentence(sentence, word_to_index) for sentence in sentences]\n",
    "\n",
    "# 숫자 벡터로 encode된 문장을 원래대로 decode하는 함수입니다. \n",
    "def get_decoded_sentence(encoded_sentence, index_to_word):\n",
    "    return ' '.join(index_to_word[index] if index in index_to_word else '<UNK>' for index in encoded_sentence[1:])  #[1:]를 통해 <BOS>를 제외\n",
    "\n",
    "# 여러 개의 숫자 벡터로 encode된 문장을 한꺼번에 원래대로 decode하는 함수입니다. \n",
    "def get_decoded_sentences(encoded_sentences, index_to_word):\n",
    "    return [get_decoded_sentence(encoded_sentence, index_to_word) for encoded_sentence in encoded_sentences]"
   ]
  },
  {
   "cell_type": "markdown",
   "id": "bdb1556d",
   "metadata": {},
   "source": [
    "## 3. 모델 구성을 위한 데이터 분석 및 가공\n",
    "\n",
    "- 데이터셋 내 문장 길이 분포\n",
    "- 적절한 최대 문장 길이 지정\n",
    "- keras.preprocessing.sequence.pad_sequences을 활용한 패딩 추가"
   ]
  },
  {
   "cell_type": "code",
   "execution_count": 7,
   "id": "43c17236",
   "metadata": {},
   "outputs": [
    {
     "name": "stdout",
     "output_type": "stream",
     "text": [
      "문장길이 평균 :  15.98170773419436\n",
      "문장길이 최대 :  116\n",
      "문장길이 표준편차 :  12.82473766384545\n",
      "pad_sequences max len :  41\n",
      "전체 문장의 93.42%가 maxlen 범위 내에 포함된다.\n"
     ]
    }
   ],
   "source": [
    "########### 데이터셋 내의 문장 길이 분포 ###########\n",
    "# 본 코드에서는 Data Leakage를 막기 위해서 Test 데이터를 전처리 시에 활용하지 않습니다.\n",
    "\n",
    "num_tokens = np.array([len(tokens) for tokens in X_train])\n",
    "\n",
    "print(\"문장길이 평균 : \", np.mean(num_tokens))\n",
    "print(\"문장길이 최대 : \", np.max(num_tokens))\n",
    "print(\"문장길이 표준편차 : \", np.std(num_tokens))\n",
    "\n",
    "max_tokens = np.mean(num_tokens) + 2*np.std(num_tokens)\n",
    "maxlen = int(max_tokens)\n",
    "\n",
    "print(\"pad_sequences max len : \", maxlen)\n",
    "print(f\"전체 문장의 {(np.sum(num_tokens < max_tokens) / len(num_tokens))*100:.2f}%가 maxlen 범위 내에 포함된다.\")"
   ]
  },
  {
   "cell_type": "code",
   "execution_count": 9,
   "id": "2144530b",
   "metadata": {},
   "outputs": [
    {
     "name": "stdout",
     "output_type": "stream",
     "text": [
      "(146182, 41)\n"
     ]
    }
   ],
   "source": [
    "from tensorflow.keras.preprocessing.sequence import pad_sequences\n",
    "\n",
    "X_train = pad_sequences(X_train,\n",
    "                        value=word_to_index[\"<PAD>\"],\n",
    "                        padding='pre',\n",
    "                        maxlen=maxlen)\n",
    "\n",
    "X_test = pad_sequences(X_test,\n",
    "                       value=word_to_index[\"<PAD>\"],\n",
    "                       padding='pre',\n",
    "                       maxlen=maxlen)\n",
    "\n",
    "print(X_train.shape)"
   ]
  },
  {
   "cell_type": "code",
   "execution_count": 10,
   "id": "8d698e1f",
   "metadata": {},
   "outputs": [],
   "source": [
    "vocab_size = 10000\n",
    "word_vector_dim = 16"
   ]
  },
  {
   "cell_type": "markdown",
   "id": "0e99092f",
   "metadata": {},
   "source": [
    "## 4. 모델 구성 및 Validation Set 구성\n",
    "\n",
    "- 본 코드에서는 총 3가지의 모델을 기반으로 성능을 검증해보겠습니다.\n",
    "\n",
    "### 4-1. Validation Set 구성"
   ]
  },
  {
   "cell_type": "code",
   "execution_count": 11,
   "id": "6834e80f",
   "metadata": {},
   "outputs": [
    {
     "name": "stdout",
     "output_type": "stream",
     "text": [
      "(116946, 41) (116946,)\n"
     ]
    }
   ],
   "source": [
    "val_idx = int(len(X_train)*0.2) # Train Data를 8:2로 validation과 분리하여 준비합니다.\n",
    "\n",
    "X_val, y_val = X_train[:val_idx], y_train[:val_idx]\n",
    "X_train, y_train = X_train[val_idx:], y_train[val_idx:]\n",
    "print(X_train.shape, y_train.shape)"
   ]
  },
  {
   "cell_type": "markdown",
   "id": "b73ee157",
   "metadata": {},
   "source": [
    "### 4-1-1. History 시각화 함수"
   ]
  },
  {
   "cell_type": "code",
   "execution_count": 12,
   "id": "b5567c5d",
   "metadata": {},
   "outputs": [],
   "source": [
    "import matplotlib.pyplot as plt\n",
    "\n",
    "def visualize_history(history):\n",
    "    history_dict = history.history\n",
    "    \n",
    "    acc = history_dict['accuracy']\n",
    "    val_acc = history_dict['val_accuracy']\n",
    "    loss = history_dict['loss']\n",
    "    val_loss = history_dict['val_loss']\n",
    "    \n",
    "    epochs = range(1, len(acc) + 1)  # epochs 변수 정의\n",
    "    \n",
    "    plt.figure(figsize=(12, 5))\n",
    "    \n",
    "    plt.subplot(1, 2, 1)\n",
    "    plt.plot(epochs, loss, 'bo', label='Training loss')\n",
    "    plt.plot(epochs, val_loss, 'b', label='Validation loss')\n",
    "    plt.title('Training and Validation Loss')\n",
    "    plt.xlabel('Epochs')\n",
    "    plt.ylabel('Loss')  # y_label이 아니라 ylabel을 사용\n",
    "    plt.legend()\n",
    "    \n",
    "    plt.subplot(1, 2, 2)\n",
    "    plt.plot(epochs, acc, 'ro', label='Training Accuracy')\n",
    "    plt.plot(epochs, val_acc, 'r', label='Validation Accuracy')\n",
    "    plt.title('Training and Validation Accuracy')\n",
    "    plt.xlabel('Epochs')\n",
    "    plt.ylabel('Accuracy')  # y_label이 아니라 ylabel을 사용\n",
    "    plt.legend()\n",
    "    plt.tight_layout()\n",
    "    plt.show()\n"
   ]
  },
  {
   "cell_type": "markdown",
   "id": "4ba3965c",
   "metadata": {},
   "source": [
    "### 4-2. LSTM 기반의 간단한 모델"
   ]
  },
  {
   "cell_type": "code",
   "execution_count": 13,
   "id": "ca2ca8aa",
   "metadata": {},
   "outputs": [
    {
     "name": "stdout",
     "output_type": "stream",
     "text": [
      "Model: \"sequential\"\n",
      "_________________________________________________________________\n",
      "Layer (type)                 Output Shape              Param #   \n",
      "=================================================================\n",
      "embedding (Embedding)        (None, 41, 16)            160000    \n",
      "_________________________________________________________________\n",
      "lstm (LSTM)                  (None, 128)               74240     \n",
      "_________________________________________________________________\n",
      "dense (Dense)                (None, 8)                 1032      \n",
      "_________________________________________________________________\n",
      "dense_1 (Dense)              (None, 1)                 9         \n",
      "=================================================================\n",
      "Total params: 235,281\n",
      "Trainable params: 235,281\n",
      "Non-trainable params: 0\n",
      "_________________________________________________________________\n"
     ]
    }
   ],
   "source": [
    "from tensorflow.keras import layers, models\n",
    "\n",
    "model = models.Sequential([\n",
    "    layers.Embedding(input_dim=vocab_size, output_dim=word_vector_dim, input_length=maxlen),\n",
    "    layers.LSTM(128),\n",
    "    layers.Dense(8, activation='relu'),\n",
    "    layers.Dense(1, activation='sigmoid')\n",
    "])\n",
    "\n",
    "model.summary()"
   ]
  },
  {
   "cell_type": "code",
   "execution_count": 14,
   "id": "c29750f2",
   "metadata": {},
   "outputs": [
    {
     "name": "stdout",
     "output_type": "stream",
     "text": [
      "Epoch 1/20\n",
      "229/229 [==============================] - 6s 11ms/step - loss: 0.5006 - accuracy: 0.7497 - val_loss: 0.3557 - val_accuracy: 0.8460\n",
      "Epoch 2/20\n",
      "229/229 [==============================] - 2s 9ms/step - loss: 0.3409 - accuracy: 0.8551 - val_loss: 0.3463 - val_accuracy: 0.8509\n",
      "Epoch 3/20\n",
      "229/229 [==============================] - 2s 9ms/step - loss: 0.3178 - accuracy: 0.8663 - val_loss: 0.3438 - val_accuracy: 0.8529\n",
      "Epoch 4/20\n",
      "229/229 [==============================] - 2s 9ms/step - loss: 0.3064 - accuracy: 0.8731 - val_loss: 0.3436 - val_accuracy: 0.8512\n",
      "Epoch 5/20\n",
      "229/229 [==============================] - 2s 9ms/step - loss: 0.2948 - accuracy: 0.8788 - val_loss: 0.3482 - val_accuracy: 0.8512\n",
      "Epoch 6/20\n",
      "229/229 [==============================] - 2s 9ms/step - loss: 0.2815 - accuracy: 0.8849 - val_loss: 0.3494 - val_accuracy: 0.8528\n",
      "Epoch 7/20\n",
      "229/229 [==============================] - 2s 9ms/step - loss: 0.2658 - accuracy: 0.8919 - val_loss: 0.3479 - val_accuracy: 0.8529\n",
      "Restoring model weights from the end of the best epoch.\n",
      "Epoch 00007: early stopping\n"
     ]
    }
   ],
   "source": [
    "from tensorflow.keras.callbacks import EarlyStopping\n",
    "\n",
    "model.compile(optimizer='adam',\n",
    "             loss='binary_crossentropy',\n",
    "             metrics=['accuracy'])\n",
    "\n",
    "epochs=20\n",
    "\n",
    "cb_earlystop = EarlyStopping(monitor='val_loss',\n",
    "                            patience=3,\n",
    "                            verbose=1,\n",
    "                            mode='auto',\n",
    "                            restore_best_weights=True)\n",
    "\n",
    "history = model.fit(X_train,\n",
    "                   y_train,\n",
    "                   batch_size=512,\n",
    "                   validation_data=(X_val, y_val),\n",
    "                   verbose=1,\n",
    "                   epochs=epochs,\n",
    "                   callbacks=[cb_earlystop])"
   ]
  },
  {
   "cell_type": "code",
   "execution_count": 15,
   "id": "d8a5d6b0",
   "metadata": {},
   "outputs": [
    {
     "name": "stdout",
     "output_type": "stream",
     "text": [
      "1537/1537 - 3s - loss: 0.3547 - accuracy: 0.8455\n",
      "[0.3547086715698242, 0.8454747200012207]\n"
     ]
    }
   ],
   "source": [
    "results = model.evaluate(X_test, y_test, verbose=2)\n",
    "\n",
    "print(results)"
   ]
  },
  {
   "cell_type": "code",
   "execution_count": 16,
   "id": "2e5f69c6",
   "metadata": {},
   "outputs": [
    {
     "data": {
      "image/png": "[encoded data removed]",
      "text/plain": [
       "<Figure size 864x360 with 2 Axes>"
      ]
     },
     "metadata": {
      "needs_background": "light"
     },
     "output_type": "display_data"
    }
   ],
   "source": [
    "visualize_history(history)"
   ]
  },
  {
   "cell_type": "markdown",
   "id": "e606371f",
   "metadata": {},
   "source": [
    "### 4-3. GRU 기반의 간단한 모델"
   ]
  },
  {
   "cell_type": "code",
   "execution_count": 40,
   "id": "83b10b64",
   "metadata": {},
   "outputs": [
    {
     "name": "stdout",
     "output_type": "stream",
     "text": [
      "Model: \"sequential_2\"\n",
      "_________________________________________________________________\n",
      "Layer (type)                 Output Shape              Param #   \n",
      "=================================================================\n",
      "embedding_8 (Embedding)      (None, 41, 16)            160000    \n",
      "_________________________________________________________________\n",
      "gru_1 (GRU)                  (None, 256)               210432    \n",
      "_________________________________________________________________\n",
      "dense_13 (Dense)             (None, 8)                 2056      \n",
      "_________________________________________________________________\n",
      "dense_14 (Dense)             (None, 1)                 9         \n",
      "=================================================================\n",
      "Total params: 372,497\n",
      "Trainable params: 372,497\n",
      "Non-trainable params: 0\n",
      "_________________________________________________________________\n"
     ]
    }
   ],
   "source": [
    "from tensorflow.keras import layers, models\n",
    "\n",
    "model = models.Sequential([\n",
    "    layers.Embedding(input_dim=vocab_size, output_dim=word_vector_dim, input_length=maxlen),\n",
    "    layers.GRU(256),\n",
    "    layers.Dense(8, activation='relu'),\n",
    "    layers.Dense(1, activation='sigmoid')\n",
    "])\n",
    "\n",
    "model.summary()"
   ]
  },
  {
   "cell_type": "code",
   "execution_count": 41,
   "id": "7f494cb5",
   "metadata": {},
   "outputs": [
    {
     "name": "stdout",
     "output_type": "stream",
     "text": [
      "Epoch 1/20\n",
      "229/229 [==============================] - 6s 19ms/step - loss: 0.4541 - accuracy: 0.7787 - val_loss: 0.3518 - val_accuracy: 0.8485\n",
      "Epoch 2/20\n",
      "229/229 [==============================] - 4s 17ms/step - loss: 0.3363 - accuracy: 0.8575 - val_loss: 0.3549 - val_accuracy: 0.8479\n",
      "Epoch 3/20\n",
      "229/229 [==============================] - 4s 17ms/step - loss: 0.3193 - accuracy: 0.8661 - val_loss: 0.3463 - val_accuracy: 0.8515\n",
      "Epoch 4/20\n",
      "229/229 [==============================] - 4s 17ms/step - loss: 0.3067 - accuracy: 0.8731 - val_loss: 0.3467 - val_accuracy: 0.8489\n",
      "Epoch 5/20\n",
      "229/229 [==============================] - 4s 18ms/step - loss: 0.2899 - accuracy: 0.8814 - val_loss: 0.3363 - val_accuracy: 0.8576\n",
      "Epoch 6/20\n",
      "229/229 [==============================] - 4s 18ms/step - loss: 0.2695 - accuracy: 0.8904 - val_loss: 0.3316 - val_accuracy: 0.8598\n",
      "Epoch 7/20\n",
      "229/229 [==============================] - 4s 18ms/step - loss: 0.2491 - accuracy: 0.9000 - val_loss: 0.3423 - val_accuracy: 0.8558\n",
      "Epoch 8/20\n",
      "229/229 [==============================] - 4s 18ms/step - loss: 0.2321 - accuracy: 0.9079 - val_loss: 0.3447 - val_accuracy: 0.8537\n",
      "Epoch 9/20\n",
      "229/229 [==============================] - 4s 18ms/step - loss: 0.2158 - accuracy: 0.9144 - val_loss: 0.3676 - val_accuracy: 0.8551\n",
      "Epoch 10/20\n",
      "229/229 [==============================] - 4s 18ms/step - loss: 0.2014 - accuracy: 0.9208 - val_loss: 0.3931 - val_accuracy: 0.8533\n",
      "Epoch 11/20\n",
      "229/229 [==============================] - 4s 18ms/step - loss: 0.1882 - accuracy: 0.9264 - val_loss: 0.3901 - val_accuracy: 0.8506\n",
      "Restoring model weights from the end of the best epoch.\n",
      "Epoch 00011: early stopping\n"
     ]
    }
   ],
   "source": [
    "from tensorflow.keras.callbacks import EarlyStopping\n",
    "\n",
    "model.compile(optimizer='adam',\n",
    "             loss='binary_crossentropy',\n",
    "             metrics=['accuracy'])\n",
    "\n",
    "epochs=20\n",
    "\n",
    "cb_earlystop = EarlyStopping(monitor='val_loss',\n",
    "                            patience=5,\n",
    "                            verbose=1,\n",
    "                            mode='auto',\n",
    "                            restore_best_weights=True)\n",
    "\n",
    "history = model.fit(X_train,\n",
    "                   y_train,\n",
    "                   batch_size=512,\n",
    "                   validation_data=(X_val, y_val),\n",
    "                   verbose=1,\n",
    "                   epochs=epochs,\n",
    "                   callbacks=[cb_earlystop])"
   ]
  },
  {
   "cell_type": "code",
   "execution_count": 44,
   "id": "fcc8a8ec",
   "metadata": {},
   "outputs": [
    {
     "name": "stdout",
     "output_type": "stream",
     "text": [
      "1537/1537 - 3s - loss: 0.3433 - accuracy: 0.8522\n",
      "[0.34333908557891846, 0.8522489070892334]\n"
     ]
    }
   ],
   "source": [
    "results = model.evaluate(X_test, y_test, verbose=2)\n",
    "\n",
    "print(results)"
   ]
  },
  {
   "cell_type": "code",
   "execution_count": 43,
   "id": "62f31cef",
   "metadata": {},
   "outputs": [
    {
     "data": {
      "image/png": "[encoded data removed]",
      "text/plain": [
       "<Figure size 864x360 with 2 Axes>"
      ]
     },
     "metadata": {
      "needs_background": "light"
     },
     "output_type": "display_data"
    }
   ],
   "source": [
    "visualize_history(history)"
   ]
  },
  {
   "cell_type": "markdown",
   "id": "6bd1828e",
   "metadata": {},
   "source": [
    "### 4-4. 간단한 Transformer 모델"
   ]
  },
  {
   "cell_type": "code",
   "execution_count": 32,
   "id": "6420d108",
   "metadata": {},
   "outputs": [],
   "source": [
    "import tensorflow as tf\n",
    "from tensorflow.keras.layers import Input, Dense, Embedding, GlobalAveragePooling1D, Dropout\n",
    "from tensorflow.keras.models import Model\n",
    "from tensorflow.keras.optimizers import Adam\n",
    "from tensorflow.keras.callbacks import EarlyStopping\n",
    "\n",
    "# 하이퍼파라미터 설정\n",
    "vocab_size = 10000  # 사용할 어휘 사전 크기\n",
    "embedding_dim = 16  # 임베딩 차원\n",
    "num_heads = 5  # 어텐션 헤드 수\n",
    "ff_dim = 128  # 피드포워드 네트워크의 차원\n",
    "\n",
    "# 입력 레이어\n",
    "inputs = Input(shape=(maxlen,))\n",
    "\n",
    "# 임베딩 레이어\n",
    "embedding_layer = Embedding(input_dim=vocab_size, output_dim=embedding_dim)(inputs)\n",
    "\n",
    "# 포지셔널 인코딩\n",
    "positional_encoding = tf.keras.layers.Embedding(input_dim=maxlen, output_dim=embedding_dim)(tf.range(start=0, limit=maxlen, delta=1))\n",
    "inputs_with_position = embedding_layer + positional_encoding"
   ]
  },
  {
   "cell_type": "code",
   "execution_count": 33,
   "id": "5c75e65e",
   "metadata": {
    "scrolled": false
   },
   "outputs": [],
   "source": [
    "# 쿼리, 키, 밸류 생성\n",
    "query = inputs_with_position\n",
    "key = inputs_with_position\n",
    "value = inputs_with_position\n",
    "\n",
    "# 어텐션 연산\n",
    "attention_output = tf.keras.layers.MultiHeadAttention(num_heads=num_heads, key_dim=embedding_dim // num_heads)(query, key, value)\n",
    "\n",
    "# 피드포워드 네트워크\n",
    "ffn_output = tf.keras.layers.Dense(ff_dim, activation='relu')(attention_output)\n",
    "ffn_output = tf.keras.layers.Dense(embedding_dim)(ffn_output)\n",
    "\n",
    "# 잔차 연결 및 정규화\n",
    "outputs = tf.keras.layers.LayerNormalization(epsilon=1e-6)(inputs_with_position + ffn_output)\n",
    "\n",
    "# 글로벌 평균 풀링 레이어\n",
    "outputs = GlobalAveragePooling1D()(outputs)\n",
    "\n",
    "# 출력 레이어\n",
    "outputs = Dense(1, activation='sigmoid')(outputs)\n",
    "\n",
    "# 모델 생성\n",
    "model = Model(inputs=inputs, outputs=outputs)"
   ]
  },
  {
   "cell_type": "code",
   "execution_count": 45,
   "id": "accd43c2",
   "metadata": {},
   "outputs": [
    {
     "name": "stdout",
     "output_type": "stream",
     "text": [
      "Epoch 1/10\n",
      "229/229 [==============================] - 6s 19ms/step - loss: 0.2510 - accuracy: 0.8986 - val_loss: 0.3446 - val_accuracy: 0.8578\n",
      "Epoch 2/10\n",
      "229/229 [==============================] - 4s 18ms/step - loss: 0.2330 - accuracy: 0.9069 - val_loss: 0.3534 - val_accuracy: 0.8530\n",
      "Epoch 3/10\n",
      "229/229 [==============================] - 4s 18ms/step - loss: 0.2176 - accuracy: 0.9131 - val_loss: 0.3723 - val_accuracy: 0.8529\n",
      "Epoch 4/10\n",
      "229/229 [==============================] - 4s 18ms/step - loss: 0.2016 - accuracy: 0.9200 - val_loss: 0.3923 - val_accuracy: 0.8522\n"
     ]
    }
   ],
   "source": [
    "# 모델 컴파일\n",
    "model.compile(optimizer=Adam(learning_rate=0.001), \n",
    "              loss='binary_crossentropy', \n",
    "              metrics=['accuracy'])\n",
    "\n",
    "# 모델 학습\n",
    "history = model.fit(X_train, \n",
    "                    y_train, \n",
    "                    epochs=10, \n",
    "                    batch_size=512, \n",
    "                    validation_data=(X_val, y_val), \n",
    "                    callbacks=[EarlyStopping(patience=3)])"
   ]
  },
  {
   "cell_type": "code",
   "execution_count": 46,
   "id": "f767fe17",
   "metadata": {},
   "outputs": [
    {
     "name": "stdout",
     "output_type": "stream",
     "text": [
      "1537/1537 - 3s - loss: 0.3993 - accuracy: 0.8472\n",
      "[0.39932262897491455, 0.847163200378418]\n"
     ]
    }
   ],
   "source": [
    "results = model.evaluate(X_test, y_test, verbose=2)\n",
    "\n",
    "print(results)"
   ]
  },
  {
   "cell_type": "code",
   "execution_count": 47,
   "id": "5bd1f53b",
   "metadata": {},
   "outputs": [
    {
     "data": {
      "image/png": "[encoded data removed]",
      "text/plain": [
       "<Figure size 864x360 with 2 Axes>"
      ]
     },
     "metadata": {
      "needs_background": "light"
     },
     "output_type": "display_data"
    }
   ],
   "source": [
    "visualize_history(history)"
   ]
  },
  {
   "cell_type": "markdown",
   "id": "99bcf891",
   "metadata": {},
   "source": [
    "## 7. 학습된 Embedding 레이어 분석"
   ]
  },
  {
   "cell_type": "code",
   "execution_count": 50,
   "id": "cb5a1116",
   "metadata": {},
   "outputs": [
    {
     "name": "stdout",
     "output_type": "stream",
     "text": [
      "(10000, 16)\n"
     ]
    }
   ],
   "source": [
    "embedding_layer = model.layers[0]\n",
    "weights = embedding_layer.get_weights()[0]\n",
    "print(weights.shape)"
   ]
  },
  {
   "cell_type": "code",
   "execution_count": 71,
   "id": "5e156e99",
   "metadata": {},
   "outputs": [],
   "source": [
    "ko_word2vec_path = os.getenv('HOME')+'/aiffel/sentiment_classification/data/word2vec_ko.txt'\n",
    "\n",
    "with open(ko_word2vec_path, 'w') as f:\n",
    "    f.write('{} {}\\n'.format(vocab_size-4, word_vector_dim)) # 몇 개의 벡터를 얼마 사이즈로 기재할지 타이틀 작성\n",
    "    vectors = model.get_weights()[0]\n",
    "    for i in range(4, vocab_size):\n",
    "        f.write('{} {}\\n'.format(index_to_word[i], ' '.join(map(str, list(vectors[i, :])))))\n",
    "    f.close()"
   ]
  },
  {
   "cell_type": "code",
   "execution_count": 72,
   "id": "b8974e18",
   "metadata": {},
   "outputs": [
    {
     "data": {
      "text/plain": [
       "array([ 0.04047423, -0.0502904 , -0.06203404, -0.09566802,  0.04674076,\n",
       "       -0.05586057, -0.03626178, -0.09971483, -0.10606192,  0.06770135,\n",
       "       -0.08228029, -0.01652914, -0.00018549,  0.05778557, -0.06327622,\n",
       "        0.08228981], dtype=float32)"
      ]
     },
     "execution_count": 72,
     "metadata": {},
     "output_type": "execute_result"
    }
   ],
   "source": [
    "my_word_vectors = Word2VecKeyedVectors.load_word2vec_format(ko_word2vec_path, binary=False)\n",
    "vector = my_word_vectors['아니']\n",
    "vector"
   ]
  },
  {
   "cell_type": "code",
   "execution_count": 76,
   "id": "4c592884",
   "metadata": {},
   "outputs": [
    {
     "data": {
      "text/plain": [
       "[('↓', 0.9266678094863892),\n",
       " ('워커', 0.8938032984733582),\n",
       " ('않', 0.8858081698417664),\n",
       " ('아님', 0.8828611373901367),\n",
       " ('바디', 0.8784153461456299),\n",
       " ('만난', 0.8738514184951782),\n",
       " ('깨달', 0.8729018568992615),\n",
       " ('놈', 0.8688187599182129),\n",
       " ('.\"', 0.8652902841567993),\n",
       " ('천만', 0.8625597953796387)]"
      ]
     },
     "execution_count": 76,
     "metadata": {},
     "output_type": "execute_result"
    }
   ],
   "source": [
    "my_word_vectors.similar_by_word(\"아니\")"
   ]
  },
  {
   "cell_type": "markdown",
   "id": "b1810ffb",
   "metadata": {},
   "source": [
    "## 8. 한국어 Word2Vec 임베딩 활용하여 성능 개선"
   ]
  },
  {
   "cell_type": "code",
   "execution_count": 79,
   "id": "3a4b7eec",
   "metadata": {},
   "outputs": [
    {
     "data": {
      "text/plain": [
       "array([-0.54114103, -1.5807747 , -0.7396592 , -0.04391506, -1.469551  ,\n",
       "       -3.5018036 ,  2.843011  , -3.90837   , -1.1900015 ,  4.9123926 ,\n",
       "        1.1276851 ,  0.7632711 , -2.8278723 ,  2.2330832 , -1.373043  ,\n",
       "       -1.6724821 , -1.4934297 ,  4.4470654 , -3.4066153 , -3.311651  ,\n",
       "        0.5878737 ,  1.6913736 ,  0.55354494,  1.4497492 ,  5.0122495 ,\n",
       "       -4.7105107 ,  3.5322056 ,  1.8614265 ,  4.1252775 ,  4.9718575 ,\n",
       "       -1.271035  ,  2.3811085 , -2.373051  , -0.69244426,  0.83564675,\n",
       "        1.0541602 , -3.673553  , -4.865206  , -1.7825997 ,  0.6724924 ,\n",
       "        1.4352766 ,  4.628694  ,  0.23677126,  0.27020186, -1.8919611 ,\n",
       "       -4.883834  ,  2.6137884 , -7.813117  ,  0.36240625,  6.0204506 ,\n",
       "        0.8698564 ,  1.2134596 ,  8.060942  , -0.7649789 ,  2.3344295 ,\n",
       "       -0.593702  ,  1.1262753 ,  1.9215059 ,  1.0554444 , -0.08336125,\n",
       "        1.7698146 ,  4.826664  , -0.00968416, -5.058337  ,  3.03791   ,\n",
       "       -0.53616285, -1.4947625 , -0.2932168 , -4.003369  , -2.6711068 ,\n",
       "        4.3164515 , -2.7158902 , -3.022298  ,  0.9388162 , -3.3532395 ,\n",
       "       -3.404284  ,  4.4105144 , -3.8268387 ,  2.9513242 , -2.5624845 ,\n",
       "       -0.8281874 , -3.3429105 , -0.53098893,  1.2455714 , -4.235507  ,\n",
       "        1.0507507 ,  1.5723251 , -3.7725008 ,  2.532834  , -4.0326734 ,\n",
       "        1.0296015 , -1.5590544 ,  4.824129  ,  1.6958215 ,  1.0406673 ,\n",
       "        0.5415388 , -2.116124  ,  3.511161  , -0.4013305 ,  4.4927177 ],\n",
       "      dtype=float32)"
      ]
     },
     "execution_count": 79,
     "metadata": {},
     "output_type": "execute_result"
    }
   ],
   "source": [
    "import os\n",
    "from gensim.models.keyedvectors import Word2VecKeyedVectors\n",
    "\n",
    "word2vec_file_path = os.getenv('HOME') + '/data/word2vec_ko.model'\n",
    "word_vectors = Word2VecKeyedVectors.load(word2vec_file_path)\n",
    "vector = word_vectors.wv['아니']\n",
    "vector"
   ]
  },
  {
   "cell_type": "code",
   "execution_count": 78,
   "id": "54730755",
   "metadata": {},
   "outputs": [
    {
     "data": {
      "text/plain": [
       "[('오로지', 0.6562415361404419),\n",
       " ('오직', 0.629123330116272),\n",
       " ('믿', 0.5989415645599365),\n",
       " ('순전히', 0.5725270509719849),\n",
       " ('없', 0.5699899196624756),\n",
       " ('할지라도', 0.565227210521698),\n",
       " ('단순히', 0.5642708539962769),\n",
       " ('물론', 0.5641003847122192),\n",
       " ('불리', 0.5548262596130371),\n",
       " ('아닌', 0.5507720112800598)]"
      ]
     },
     "execution_count": 78,
     "metadata": {},
     "output_type": "execute_result"
    }
   ],
   "source": [
    "word_vectors.wv.similar_by_word('아니')"
   ]
  },
  {
   "cell_type": "code",
   "execution_count": 88,
   "id": "188a90c7",
   "metadata": {},
   "outputs": [],
   "source": [
    "import os\n",
    "import numpy as np\n",
    "from gensim.models import KeyedVectors\n",
    "\n",
    "# Word2Vec 모델 로드\n",
    "word2vec_path = os.getenv('HOME') + '/aiffel/sentiment_classification/data/GoogleNews-vectors-negative300.bin.gz'\n",
    "word2vec = KeyedVectors.load_word2vec_format(word2vec_path, binary=True, limit=1000000)\n",
    "\n",
    "vocab_size = 10000    # 어휘 사전의 크기입니다(10,000개의 단어)\n",
    "word_vector_dim = 300  # 워드 벡터의 차원 수 \n",
    "\n",
    "# 임베딩 행렬 생성 및 초기화\n",
    "embedding_matrix = np.random.rand(vocab_size, word_vector_dim)\n",
    "\n",
    "# embedding_matrix에 Word2Vec 워드 벡터를 단어 하나씩마다 차례차례 카피합니다.\n",
    "for i in range(4, vocab_size):\n",
    "    word = index_to_word[i]  # index_to_word는 이전에 만들어둔 인덱스를 단어로 바꾸는 딕셔너리입니다.\n",
    "    if word in word2vec:\n",
    "        embedding_matrix[i] = word2vec[word]"
   ]
  },
  {
   "cell_type": "code",
   "execution_count": 89,
   "id": "36ae71cf",
   "metadata": {
    "scrolled": true
   },
   "outputs": [
    {
     "name": "stdout",
     "output_type": "stream",
     "text": [
      "Model: \"sequential_6\"\n",
      "_________________________________________________________________\n",
      "Layer (type)                 Output Shape              Param #   \n",
      "=================================================================\n",
      "embedding_12 (Embedding)     (None, 41, 300)           3000000   \n",
      "_________________________________________________________________\n",
      "conv1d (Conv1D)              (None, 35, 16)            33616     \n",
      "_________________________________________________________________\n",
      "max_pooling1d (MaxPooling1D) (None, 7, 16)             0         \n",
      "_________________________________________________________________\n",
      "conv1d_1 (Conv1D)            (None, 1, 16)             1808      \n",
      "_________________________________________________________________\n",
      "global_max_pooling1d (Global (None, 16)                0         \n",
      "_________________________________________________________________\n",
      "dense_15 (Dense)             (None, 8)                 136       \n",
      "_________________________________________________________________\n",
      "dense_16 (Dense)             (None, 1)                 9         \n",
      "=================================================================\n",
      "Total params: 3,035,569\n",
      "Trainable params: 3,035,569\n",
      "Non-trainable params: 0\n",
      "_________________________________________________________________\n"
     ]
    }
   ],
   "source": [
    "import tensorflow as tf\n",
    "from tensorflow.keras.initializers import Constant\n",
    "\n",
    "# 모델 구성\n",
    "model = tf.keras.Sequential([\n",
    "    tf.keras.layers.Embedding(vocab_size, \n",
    "                              word_vector_dim, \n",
    "                              embeddings_initializer=Constant(embedding_matrix),  # 카피한 임베딩을 여기서 활용\n",
    "                              input_length=maxlen, \n",
    "                              trainable=True),  # trainable을 True로 주면 Fine-tuning\n",
    "    tf.keras.layers.Conv1D(16, 7, activation='relu'),\n",
    "    tf.keras.layers.MaxPooling1D(5),\n",
    "    tf.keras.layers.Conv1D(16, 7, activation='relu'),\n",
    "    tf.keras.layers.GlobalMaxPooling1D(),\n",
    "    tf.keras.layers.Dense(8, activation='relu'),\n",
    "    tf.keras.layers.Dense(1, activation='sigmoid') \n",
    "])\n",
    "\n",
    "model.summary()"
   ]
  },
  {
   "cell_type": "code",
   "execution_count": 94,
   "id": "c81c7194",
   "metadata": {},
   "outputs": [
    {
     "name": "stdout",
     "output_type": "stream",
     "text": [
      "Epoch 1/20\n",
      "229/229 [==============================] - 3s 9ms/step - loss: 0.0652 - accuracy: 0.9808 - val_loss: 0.6744 - val_accuracy: 0.8243\n",
      "Epoch 2/20\n",
      "229/229 [==============================] - 2s 8ms/step - loss: 0.0522 - accuracy: 0.9854 - val_loss: 0.6766 - val_accuracy: 0.8223\n",
      "Epoch 3/20\n",
      "229/229 [==============================] - 2s 8ms/step - loss: 0.0487 - accuracy: 0.9863 - val_loss: 0.7731 - val_accuracy: 0.8196\n",
      "Epoch 4/20\n",
      "229/229 [==============================] - 2s 8ms/step - loss: 0.0470 - accuracy: 0.9861 - val_loss: 0.7647 - val_accuracy: 0.8206\n"
     ]
    }
   ],
   "source": [
    "model.compile(optimizer='adam',\n",
    "              loss='binary_crossentropy',\n",
    "              metrics=['accuracy'])\n",
    "              \n",
    "epochs=20\n",
    "\n",
    "history = model.fit(X_train,\n",
    "                    y_train,\n",
    "                    epochs=epochs,\n",
    "                    batch_size=512,\n",
    "                    validation_data=(X_val, y_val),\n",
    "                    callbacks=[EarlyStopping(patience=3)],\n",
    "                    verbose=1)"
   ]
  },
  {
   "cell_type": "code",
   "execution_count": 95,
   "id": "3837f30a",
   "metadata": {},
   "outputs": [
    {
     "name": "stdout",
     "output_type": "stream",
     "text": [
      "1537/1537 - 3s - loss: 0.8018 - accuracy: 0.8146\n",
      "[0.8018139600753784, 0.8145737051963806]\n"
     ]
    }
   ],
   "source": [
    "results = model.evaluate(X_test, y_test, verbose=2)\n",
    "\n",
    "print(results)"
   ]
  },
  {
   "cell_type": "code",
   "execution_count": 96,
   "id": "f92b19b2",
   "metadata": {},
   "outputs": [
    {
     "data": {
      "image/png": "[encoded data removed]",
      "text/plain": [
       "<Figure size 864x360 with 2 Axes>"
      ]
     },
     "metadata": {
      "needs_background": "light"
     },
     "output_type": "display_data"
    }
   ],
   "source": [
    "visualize_history(history)"
   ]
  },
  {
   "cell_type": "markdown",
   "id": "b617e4d7",
   "metadata": {},
   "source": [
    "- 1-D Convoltion을 사용해서 성능이 더욱 떨어진 것으로 보인다.\n",
    "- 따라서, 이전에 가장 좋은 성능을 보여준 GRU 모델과 Transformer 모델을 바탕으로 이를 수정해서 진행해보겠습니다.\n",
    "\n",
    "### 8-1. GRU 모델을 바탕으로 학습 수행"
   ]
  },
  {
   "cell_type": "code",
   "execution_count": 97,
   "id": "cafe19be",
   "metadata": {},
   "outputs": [
    {
     "name": "stdout",
     "output_type": "stream",
     "text": [
      "Model: \"sequential_7\"\n",
      "_________________________________________________________________\n",
      "Layer (type)                 Output Shape              Param #   \n",
      "=================================================================\n",
      "embedding_13 (Embedding)     (None, 41, 300)           3000000   \n",
      "_________________________________________________________________\n",
      "gru_2 (GRU)                  (None, 256)               428544    \n",
      "_________________________________________________________________\n",
      "dense_17 (Dense)             (None, 8)                 2056      \n",
      "_________________________________________________________________\n",
      "dense_18 (Dense)             (None, 1)                 9         \n",
      "=================================================================\n",
      "Total params: 3,430,609\n",
      "Trainable params: 3,430,609\n",
      "Non-trainable params: 0\n",
      "_________________________________________________________________\n"
     ]
    }
   ],
   "source": [
    "model = models.Sequential([\n",
    "    layers.Embedding(vocab_size, \n",
    "                  word_vector_dim, \n",
    "                  embeddings_initializer=Constant(embedding_matrix),  # 카피한 임베딩을 여기서 활용\n",
    "                  input_length=maxlen, \n",
    "                  trainable=True),  # trainable을 True로 주면 Fine-tuning,\n",
    "    layers.GRU(256),\n",
    "    layers.Dense(8, activation='relu'),\n",
    "    layers.Dense(1, activation='sigmoid')\n",
    "])\n",
    "\n",
    "model.summary()"
   ]
  },
  {
   "cell_type": "code",
   "execution_count": 98,
   "id": "990fed49",
   "metadata": {},
   "outputs": [
    {
     "name": "stdout",
     "output_type": "stream",
     "text": [
      "Epoch 1/20\n",
      "229/229 [==============================] - 8s 28ms/step - loss: 0.5725 - accuracy: 0.6747 - val_loss: 0.3763 - val_accuracy: 0.8351\n",
      "Epoch 2/20\n",
      "229/229 [==============================] - 6s 27ms/step - loss: 0.3454 - accuracy: 0.8508 - val_loss: 0.3271 - val_accuracy: 0.8583\n",
      "Epoch 3/20\n",
      "229/229 [==============================] - 6s 27ms/step - loss: 0.2995 - accuracy: 0.8742 - val_loss: 0.3147 - val_accuracy: 0.8638\n",
      "Epoch 4/20\n",
      "229/229 [==============================] - 6s 27ms/step - loss: 0.2718 - accuracy: 0.8879 - val_loss: 0.3595 - val_accuracy: 0.8485\n",
      "Epoch 5/20\n",
      "229/229 [==============================] - 6s 28ms/step - loss: 0.2508 - accuracy: 0.8982 - val_loss: 0.3309 - val_accuracy: 0.8635\n",
      "Epoch 6/20\n",
      "229/229 [==============================] - 6s 28ms/step - loss: 0.2270 - accuracy: 0.9109 - val_loss: 0.3277 - val_accuracy: 0.8631\n"
     ]
    }
   ],
   "source": [
    "model.compile(optimizer='adam',\n",
    "              loss='binary_crossentropy',\n",
    "              metrics=['accuracy'])\n",
    "              \n",
    "epochs=20\n",
    "\n",
    "history = model.fit(X_train,\n",
    "                    y_train,\n",
    "                    epochs=epochs,\n",
    "                    batch_size=512,\n",
    "                    validation_data=(X_val, y_val),\n",
    "                    callbacks=[EarlyStopping(patience=3)],\n",
    "                    verbose=1)"
   ]
  },
  {
   "cell_type": "code",
   "execution_count": 99,
   "id": "d2a67091",
   "metadata": {},
   "outputs": [
    {
     "name": "stdout",
     "output_type": "stream",
     "text": [
      "1537/1537 - 3s - loss: 0.3358 - accuracy: 0.8584\n",
      "[0.3358425796031952, 0.858372151851654]\n"
     ]
    }
   ],
   "source": [
    "results = model.evaluate(X_test, y_test, verbose=2)\n",
    "\n",
    "print(results)"
   ]
  },
  {
   "cell_type": "code",
   "execution_count": 100,
   "id": "763fd82b",
   "metadata": {},
   "outputs": [
    {
     "data": {
      "image/png": "[encoded data removed]",
      "text/plain": [
       "<Figure size 864x360 with 2 Axes>"
      ]
     },
     "metadata": {
      "needs_background": "light"
     },
     "output_type": "display_data"
    }
   ],
   "source": [
    "visualize_history(history)"
   ]
  },
  {
   "cell_type": "markdown",
   "id": "22e2ee6d",
   "metadata": {},
   "source": [
    "### 8-2. Transformer 모델을 바탕으로 학습"
   ]
  },
  {
   "cell_type": "code",
   "execution_count": 103,
   "id": "9b838cc1",
   "metadata": {},
   "outputs": [],
   "source": [
    "# 하이퍼파라미터 설정\n",
    "vocab_size = 10000  # 사용할 어휘 사전 크기\n",
    "embedding_dim = 300  # 임베딩 차원\n",
    "num_heads = 5  # 어텐션 헤드 수\n",
    "ff_dim = 128  # 피드포워드 네트워크의 차원\n",
    "\n",
    "# 입력 레이어\n",
    "inputs = Input(shape=(maxlen,))\n",
    "\n",
    "# 임베딩 레이어\n",
    "embedding_layer = Embedding(input_dim=vocab_size, output_dim=embedding_dim)(inputs)\n",
    "\n",
    "# 포지셔널 인코딩\n",
    "positional_encoding = layers.Embedding(vocab_size, \n",
    "                      word_vector_dim, \n",
    "                      embeddings_initializer=Constant(embedding_matrix),  # 카피한 임베딩을 여기서 활용\n",
    "                      input_length=maxlen, \n",
    "                      trainable=True)(tf.range(start=0, limit=maxlen, delta=1))\n",
    "inputs_with_position = embedding_layer + positional_encoding"
   ]
  },
  {
   "cell_type": "code",
   "execution_count": 105,
   "id": "3e16b0e0",
   "metadata": {},
   "outputs": [
    {
     "name": "stdout",
     "output_type": "stream",
     "text": [
      "Model: \"model_4\"\n",
      "__________________________________________________________________________________________________\n",
      "Layer (type)                    Output Shape         Param #     Connected to                     \n",
      "==================================================================================================\n",
      "input_6 (InputLayer)            [(None, 41)]         0                                            \n",
      "__________________________________________________________________________________________________\n",
      "embedding_18 (Embedding)        (None, 41, 300)      3000000     input_6[0][0]                    \n",
      "__________________________________________________________________________________________________\n",
      "tf.__operators__.add_7 (TFOpLam (None, 41, 300)      0           embedding_18[0][0]               \n",
      "__________________________________________________________________________________________________\n",
      "multi_head_attention_4 (MultiHe (None, 41, 300)      361200      tf.__operators__.add_7[0][0]     \n",
      "                                                                 tf.__operators__.add_7[0][0]     \n",
      "                                                                 tf.__operators__.add_7[0][0]     \n",
      "__________________________________________________________________________________________________\n",
      "dense_22 (Dense)                (None, 41, 128)      38528       multi_head_attention_4[0][0]     \n",
      "__________________________________________________________________________________________________\n",
      "dense_23 (Dense)                (None, 41, 300)      38700       dense_22[0][0]                   \n",
      "__________________________________________________________________________________________________\n",
      "tf.__operators__.add_9 (TFOpLam (None, 41, 300)      0           tf.__operators__.add_7[0][0]     \n",
      "                                                                 dense_23[0][0]                   \n",
      "__________________________________________________________________________________________________\n",
      "layer_normalization_4 (LayerNor (None, 41, 300)      600         tf.__operators__.add_9[0][0]     \n",
      "__________________________________________________________________________________________________\n",
      "global_average_pooling1d_4 (Glo (None, 300)          0           layer_normalization_4[0][0]      \n",
      "__________________________________________________________________________________________________\n",
      "dense_24 (Dense)                (None, 1)            301         global_average_pooling1d_4[0][0] \n",
      "==================================================================================================\n",
      "Total params: 3,439,329\n",
      "Trainable params: 3,439,329\n",
      "Non-trainable params: 0\n",
      "__________________________________________________________________________________________________\n"
     ]
    }
   ],
   "source": [
    "# 쿼리, 키, 밸류 생성\n",
    "query = inputs_with_position\n",
    "key = inputs_with_position\n",
    "value = inputs_with_position\n",
    "\n",
    "# 어텐션 연산\n",
    "attention_output = tf.keras.layers.MultiHeadAttention(num_heads=num_heads, key_dim=embedding_dim // num_heads)(query, key, value)\n",
    "\n",
    "# 피드포워드 네트워크\n",
    "ffn_output = tf.keras.layers.Dense(ff_dim, activation='relu')(attention_output)\n",
    "ffn_output = tf.keras.layers.Dense(embedding_dim)(ffn_output)\n",
    "\n",
    "# 잔차 연결 및 정규화\n",
    "outputs = tf.keras.layers.LayerNormalization(epsilon=1e-6)(inputs_with_position + ffn_output)\n",
    "\n",
    "# 글로벌 평균 풀링 레이어\n",
    "outputs = GlobalAveragePooling1D()(outputs)\n",
    "\n",
    "# 출력 레이어\n",
    "outputs = Dense(1, activation='sigmoid')(outputs)\n",
    "\n",
    "# 모델 생성\n",
    "model = Model(inputs=inputs, outputs=outputs)\n",
    "\n",
    "model.summary()"
   ]
  },
  {
   "cell_type": "code",
   "execution_count": 106,
   "id": "7feb2b02",
   "metadata": {},
   "outputs": [
    {
     "name": "stdout",
     "output_type": "stream",
     "text": [
      "Epoch 1/20\n",
      "229/229 [==============================] - 10s 42ms/step - loss: 0.5903 - accuracy: 0.7363 - val_loss: 0.4850 - val_accuracy: 0.8164\n",
      "Epoch 2/20\n",
      "229/229 [==============================] - 10s 42ms/step - loss: 0.4064 - accuracy: 0.8234 - val_loss: 0.4123 - val_accuracy: 0.8191\n",
      "Epoch 3/20\n",
      "229/229 [==============================] - 10s 42ms/step - loss: 0.3438 - accuracy: 0.8522 - val_loss: 0.3441 - val_accuracy: 0.8511\n",
      "Epoch 4/20\n",
      "229/229 [==============================] - 10s 42ms/step - loss: 0.3207 - accuracy: 0.8642 - val_loss: 0.3400 - val_accuracy: 0.8534\n",
      "Epoch 5/20\n",
      "229/229 [==============================] - 10s 43ms/step - loss: 0.3068 - accuracy: 0.8712 - val_loss: 0.3483 - val_accuracy: 0.8491\n",
      "Epoch 6/20\n",
      "229/229 [==============================] - 10s 43ms/step - loss: 0.2946 - accuracy: 0.8771 - val_loss: 0.3513 - val_accuracy: 0.8488\n",
      "Epoch 7/20\n",
      "229/229 [==============================] - 10s 43ms/step - loss: 0.2840 - accuracy: 0.8827 - val_loss: 0.3566 - val_accuracy: 0.8477\n"
     ]
    }
   ],
   "source": [
    "model.compile(optimizer='adam',\n",
    "              loss='binary_crossentropy',\n",
    "              metrics=['accuracy'])\n",
    "              \n",
    "epochs=20\n",
    "\n",
    "history = model.fit(X_train,\n",
    "                    y_train,\n",
    "                    epochs=epochs,\n",
    "                    batch_size=512,\n",
    "                    validation_data=(X_val, y_val),\n",
    "                    callbacks=[EarlyStopping(patience=3)],\n",
    "                    verbose=1)"
   ]
  },
  {
   "cell_type": "code",
   "execution_count": 107,
   "id": "9315a05e",
   "metadata": {},
   "outputs": [
    {
     "name": "stdout",
     "output_type": "stream",
     "text": [
      "1537/1537 - 4s - loss: 0.3703 - accuracy: 0.8403\n",
      "[0.37030789256095886, 0.8403279185295105]\n"
     ]
    }
   ],
   "source": [
    "results = model.evaluate(X_test, y_test, verbose=2)\n",
    "\n",
    "print(results)"
   ]
  },
  {
   "cell_type": "code",
   "execution_count": 108,
   "id": "103ca6c1",
   "metadata": {},
   "outputs": [
    {
     "data": {
      "image/png": "[encoded data removed]",
      "text/plain": [
       "<Figure size 864x360 with 2 Axes>"
      ]
     },
     "metadata": {
      "needs_background": "light"
     },
     "output_type": "display_data"
    }
   ],
   "source": [
    "visualize_history(history)"
   ]
  },
  {
   "cell_type": "markdown",
   "id": "ce9b810b",
   "metadata": {},
   "source": [
    "- GRU의 경우 0.8522 -> 0.8584으로 소폭 성능이 상승하는 모습을 보여줬다.\n",
    "- Transfomer의 경우 0.8472 -> 0.8403으로 소폭 성능 하락하는 모습을 보여줬다.\n",
    "\n",
    "- 자세한 원인을 알 수는 없었으나, 모델의 복잡도와 파라미터 수에 따라 더욱 복잡한 임베딩 벡터를 넣으면 그에 맞게 영향을 받는 것으로 보인다.\n",
    "- 이 부분은 조금 더 확인해봐야 알 수 있을 것 같다.\n",
    "- 또한 대부분 모델 자체적으로 과적합되는 모습을 보여줬다.\n",
    "- 이 부분도 데이터의 복잡도에 큰 영향을 받은 것으로 판단된다.\n",
    "- 따라서 임베딩 벡터의 차원 수를 낮추는 방향으로 모델 학습을 진행하면 더욱 향상된 모델 성능을 얻을 수 있을 것이라고 판단된다."
   ]
  }
 ],
 "metadata": {
  "kernelspec": {
   "display_name": "Python 3 (ipykernel)",
   "language": "python",
   "name": "python3"
  },
  "language_info": {
   "codemirror_mode": {
    "name": "ipython",
    "version": 3
   },
   "file_extension": ".py",
   "mimetype": "text/x-python",
   "name": "python",
   "nbconvert_exporter": "python",
   "pygments_lexer": "ipython3",
   "version": "3.9.7"
  }
 },
 "nbformat": 4,
 "nbformat_minor": 5
}
