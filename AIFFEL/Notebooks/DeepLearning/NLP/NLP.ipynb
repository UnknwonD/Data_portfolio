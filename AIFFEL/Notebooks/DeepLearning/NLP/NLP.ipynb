{
 "cells": [
  {
   "cell_type": "markdown",
   "id": "e594decf",
   "metadata": {},
   "source": [
    "## 1. 자연어 처리 기초"
   ]
  },
  {
   "cell_type": "code",
   "execution_count": 1,
   "id": "16951555",
   "metadata": {},
   "outputs": [],
   "source": [
    "!pip install konlpy -qq"
   ]
  },
  {
   "cell_type": "code",
   "execution_count": 19,
   "id": "a552b70e",
   "metadata": {},
   "outputs": [],
   "source": [
    "import pandas as pd\n",
    "import konlpy\n",
    "from konlpy.tag import Okt\n",
    "\n",
    "\n",
    "tokenizer = Okt()"
   ]
  },
  {
   "cell_type": "code",
   "execution_count": 3,
   "id": "1bb5b547",
   "metadata": {},
   "outputs": [
    {
     "data": {
      "text/plain": [
       "['함께', '탐험', '하며', '성장하는', 'AI', '학교', 'AIFFEL']"
      ]
     },
     "execution_count": 3,
     "metadata": {},
     "output_type": "execute_result"
    }
   ],
   "source": [
    "text = \"함께 탐험하며 성장하는 AI 학교 AIFFEL\"\n",
    "\n",
    "# 토큰화 ( 형태소 추출 )\n",
    "tokenizer.morphs(text)"
   ]
  },
  {
   "cell_type": "code",
   "execution_count": 5,
   "id": "e7a4ae58",
   "metadata": {},
   "outputs": [
    {
     "data": {
      "text/plain": [
       "['탐험', '학교']"
      ]
     },
     "execution_count": 5,
     "metadata": {},
     "output_type": "execute_result"
    }
   ],
   "source": [
    "# 토큰화 ( 명사 추출 )\n",
    "tokenizer.nouns(text)"
   ]
  },
  {
   "cell_type": "code",
   "execution_count": 6,
   "id": "54afe4e4",
   "metadata": {},
   "outputs": [
    {
     "data": {
      "text/plain": [
       "[('함께', 'Adverb'),\n",
       " ('탐험', 'Noun'),\n",
       " ('하며', 'Verb'),\n",
       " ('성장하는', 'Adjective'),\n",
       " ('AI', 'Alpha'),\n",
       " ('학교', 'Noun'),\n",
       " ('AIFFEL', 'Alpha')]"
      ]
     },
     "execution_count": 6,
     "metadata": {},
     "output_type": "execute_result"
    }
   ],
   "source": [
    "# 토큰화 (품사 태깅)\n",
    "\n",
    "tokenizer.pos(text)"
   ]
  },
  {
   "cell_type": "markdown",
   "id": "4d0e853b",
   "metadata": {},
   "source": [
    "### CountVectorizer"
   ]
  },
  {
   "cell_type": "code",
   "execution_count": 7,
   "id": "3fb42468",
   "metadata": {},
   "outputs": [],
   "source": [
    "from sklearn.feature_extraction.text import CountVectorizer\n",
    "vect = CountVectorizer()"
   ]
  },
  {
   "cell_type": "code",
   "execution_count": 8,
   "id": "69b76413",
   "metadata": {},
   "outputs": [],
   "source": [
    "# 단어 토큰화\n",
    "words = tokenizer.morphs(text)"
   ]
  },
  {
   "cell_type": "code",
   "execution_count": 9,
   "id": "94b65fb3",
   "metadata": {},
   "outputs": [
    {
     "data": {
      "text/plain": [
       "CountVectorizer()"
      ]
     },
     "execution_count": 9,
     "metadata": {},
     "output_type": "execute_result"
    }
   ],
   "source": [
    "# 데이터 학습\n",
    "\n",
    "vect.fit(words)"
   ]
  },
  {
   "cell_type": "code",
   "execution_count": 10,
   "id": "3d9d3782",
   "metadata": {},
   "outputs": [
    {
     "data": {
      "text/plain": [
       "array(['ai', 'aiffel', '성장하는', '탐험', '하며', '학교', '함께'], dtype=object)"
      ]
     },
     "execution_count": 10,
     "metadata": {},
     "output_type": "execute_result"
    }
   ],
   "source": [
    "# 학습된 어휘\n",
    "vect.get_feature_names_out()"
   ]
  },
  {
   "cell_type": "code",
   "execution_count": 11,
   "id": "d789cb04",
   "metadata": {},
   "outputs": [
    {
     "data": {
      "text/plain": [
       "{'함께': 6, '탐험': 3, '하며': 4, '성장하는': 2, 'ai': 0, '학교': 5, 'aiffel': 1}"
      ]
     },
     "execution_count": 11,
     "metadata": {},
     "output_type": "execute_result"
    }
   ],
   "source": [
    "# 단어 사전\n",
    "vect.vocabulary_"
   ]
  },
  {
   "cell_type": "code",
   "execution_count": 12,
   "id": "ab7f2035",
   "metadata": {},
   "outputs": [
    {
     "data": {
      "text/plain": [
       "7"
      ]
     },
     "execution_count": 12,
     "metadata": {},
     "output_type": "execute_result"
    }
   ],
   "source": [
    "# 사전 크기\n",
    "len(vect.vocabulary_)"
   ]
  },
  {
   "cell_type": "code",
   "execution_count": 14,
   "id": "cdf906f1",
   "metadata": {},
   "outputs": [],
   "source": [
    "# 인코딩\n",
    "df_t = vect.transform(words)"
   ]
  },
  {
   "cell_type": "code",
   "execution_count": 17,
   "id": "e4038a9e",
   "metadata": {},
   "outputs": [
    {
     "data": {
      "text/plain": [
       "array([[0, 0, 0, 0, 0, 0, 1],\n",
       "       [0, 0, 0, 1, 0, 0, 0],\n",
       "       [0, 0, 0, 0, 1, 0, 0],\n",
       "       [0, 0, 1, 0, 0, 0, 0],\n",
       "       [1, 0, 0, 0, 0, 0, 0],\n",
       "       [0, 0, 0, 0, 0, 1, 0],\n",
       "       [0, 1, 0, 0, 0, 0, 0]])"
      ]
     },
     "execution_count": 17,
     "metadata": {},
     "output_type": "execute_result"
    }
   ],
   "source": [
    "# 인코딩된 데이터 Matrix\n",
    "df_t.toarray()"
   ]
  },
  {
   "cell_type": "code",
   "execution_count": 22,
   "id": "944702c6",
   "metadata": {},
   "outputs": [
    {
     "data": {
      "text/html": [
       "<div>\n",
       "<style scoped>\n",
       "    .dataframe tbody tr th:only-of-type {\n",
       "        vertical-align: middle;\n",
       "    }\n",
       "\n",
       "    .dataframe tbody tr th {\n",
       "        vertical-align: top;\n",
       "    }\n",
       "\n",
       "    .dataframe thead th {\n",
       "        text-align: right;\n",
       "    }\n",
       "</style>\n",
       "<table border=\"1\" class=\"dataframe\">\n",
       "  <thead>\n",
       "    <tr style=\"text-align: right;\">\n",
       "      <th></th>\n",
       "      <th>ai</th>\n",
       "      <th>aiffel</th>\n",
       "      <th>성장하는</th>\n",
       "      <th>탐험</th>\n",
       "      <th>하며</th>\n",
       "      <th>학교</th>\n",
       "      <th>함께</th>\n",
       "    </tr>\n",
       "  </thead>\n",
       "  <tbody>\n",
       "    <tr>\n",
       "      <th>0</th>\n",
       "      <td>0</td>\n",
       "      <td>0</td>\n",
       "      <td>0</td>\n",
       "      <td>0</td>\n",
       "      <td>0</td>\n",
       "      <td>0</td>\n",
       "      <td>1</td>\n",
       "    </tr>\n",
       "    <tr>\n",
       "      <th>1</th>\n",
       "      <td>0</td>\n",
       "      <td>0</td>\n",
       "      <td>0</td>\n",
       "      <td>1</td>\n",
       "      <td>0</td>\n",
       "      <td>0</td>\n",
       "      <td>0</td>\n",
       "    </tr>\n",
       "    <tr>\n",
       "      <th>2</th>\n",
       "      <td>0</td>\n",
       "      <td>0</td>\n",
       "      <td>0</td>\n",
       "      <td>0</td>\n",
       "      <td>1</td>\n",
       "      <td>0</td>\n",
       "      <td>0</td>\n",
       "    </tr>\n",
       "    <tr>\n",
       "      <th>3</th>\n",
       "      <td>0</td>\n",
       "      <td>0</td>\n",
       "      <td>1</td>\n",
       "      <td>0</td>\n",
       "      <td>0</td>\n",
       "      <td>0</td>\n",
       "      <td>0</td>\n",
       "    </tr>\n",
       "    <tr>\n",
       "      <th>4</th>\n",
       "      <td>1</td>\n",
       "      <td>0</td>\n",
       "      <td>0</td>\n",
       "      <td>0</td>\n",
       "      <td>0</td>\n",
       "      <td>0</td>\n",
       "      <td>0</td>\n",
       "    </tr>\n",
       "    <tr>\n",
       "      <th>5</th>\n",
       "      <td>0</td>\n",
       "      <td>0</td>\n",
       "      <td>0</td>\n",
       "      <td>0</td>\n",
       "      <td>0</td>\n",
       "      <td>1</td>\n",
       "      <td>0</td>\n",
       "    </tr>\n",
       "    <tr>\n",
       "      <th>6</th>\n",
       "      <td>0</td>\n",
       "      <td>1</td>\n",
       "      <td>0</td>\n",
       "      <td>0</td>\n",
       "      <td>0</td>\n",
       "      <td>0</td>\n",
       "      <td>0</td>\n",
       "    </tr>\n",
       "  </tbody>\n",
       "</table>\n",
       "</div>"
      ],
      "text/plain": [
       "   ai  aiffel  성장하는  탐험  하며  학교  함께\n",
       "0   0       0     0   0   0   0   1\n",
       "1   0       0     0   1   0   0   0\n",
       "2   0       0     0   0   1   0   0\n",
       "3   0       0     1   0   0   0   0\n",
       "4   1       0     0   0   0   0   0\n",
       "5   0       0     0   0   0   1   0\n",
       "6   0       1     0   0   0   0   0"
      ]
     },
     "execution_count": 22,
     "metadata": {},
     "output_type": "execute_result"
    }
   ],
   "source": [
    "# 어휘와 피쳐 (데이터 프레임)\n",
    "pd.DataFrame(df_t.toarray(), columns = vect.get_feature_names_out())"
   ]
  },
  {
   "cell_type": "code",
   "execution_count": 23,
   "id": "59219dcc",
   "metadata": {},
   "outputs": [],
   "source": [
    "test = \"AI 공부하며 함께 성장해요!\""
   ]
  },
  {
   "cell_type": "code",
   "execution_count": 26,
   "id": "8d91778b",
   "metadata": {},
   "outputs": [
    {
     "data": {
      "text/plain": [
       "['AI', '공부', '하며', '함께', '성장해요', '!']"
      ]
     },
     "execution_count": 26,
     "metadata": {},
     "output_type": "execute_result"
    }
   ],
   "source": [
    "words_test = tokenizer.morphs(test)\n",
    "words_test"
   ]
  },
  {
   "cell_type": "code",
   "execution_count": 28,
   "id": "2879d009",
   "metadata": {},
   "outputs": [
    {
     "data": {
      "text/plain": [
       "array([[1, 0, 0, 0, 0, 0, 0],\n",
       "       [0, 0, 0, 0, 0, 0, 0],\n",
       "       [0, 0, 0, 0, 1, 0, 0],\n",
       "       [0, 0, 0, 0, 0, 0, 1],\n",
       "       [0, 0, 0, 0, 0, 0, 0],\n",
       "       [0, 0, 0, 0, 0, 0, 0]])"
      ]
     },
     "execution_count": 28,
     "metadata": {},
     "output_type": "execute_result"
    }
   ],
   "source": [
    "test_t = vect.transform(words_test)\n",
    "test_t.toarray()"
   ]
  },
  {
   "cell_type": "code",
   "execution_count": 29,
   "id": "4035f5ad",
   "metadata": {},
   "outputs": [
    {
     "data": {
      "text/html": [
       "<div>\n",
       "<style scoped>\n",
       "    .dataframe tbody tr th:only-of-type {\n",
       "        vertical-align: middle;\n",
       "    }\n",
       "\n",
       "    .dataframe tbody tr th {\n",
       "        vertical-align: top;\n",
       "    }\n",
       "\n",
       "    .dataframe thead th {\n",
       "        text-align: right;\n",
       "    }\n",
       "</style>\n",
       "<table border=\"1\" class=\"dataframe\">\n",
       "  <thead>\n",
       "    <tr style=\"text-align: right;\">\n",
       "      <th></th>\n",
       "      <th>ai</th>\n",
       "      <th>aiffel</th>\n",
       "      <th>성장하는</th>\n",
       "      <th>탐험</th>\n",
       "      <th>하며</th>\n",
       "      <th>학교</th>\n",
       "      <th>함께</th>\n",
       "    </tr>\n",
       "  </thead>\n",
       "  <tbody>\n",
       "    <tr>\n",
       "      <th>0</th>\n",
       "      <td>1</td>\n",
       "      <td>0</td>\n",
       "      <td>0</td>\n",
       "      <td>0</td>\n",
       "      <td>0</td>\n",
       "      <td>0</td>\n",
       "      <td>0</td>\n",
       "    </tr>\n",
       "    <tr>\n",
       "      <th>1</th>\n",
       "      <td>0</td>\n",
       "      <td>0</td>\n",
       "      <td>0</td>\n",
       "      <td>0</td>\n",
       "      <td>0</td>\n",
       "      <td>0</td>\n",
       "      <td>0</td>\n",
       "    </tr>\n",
       "    <tr>\n",
       "      <th>2</th>\n",
       "      <td>0</td>\n",
       "      <td>0</td>\n",
       "      <td>0</td>\n",
       "      <td>0</td>\n",
       "      <td>1</td>\n",
       "      <td>0</td>\n",
       "      <td>0</td>\n",
       "    </tr>\n",
       "    <tr>\n",
       "      <th>3</th>\n",
       "      <td>0</td>\n",
       "      <td>0</td>\n",
       "      <td>0</td>\n",
       "      <td>0</td>\n",
       "      <td>0</td>\n",
       "      <td>0</td>\n",
       "      <td>1</td>\n",
       "    </tr>\n",
       "    <tr>\n",
       "      <th>4</th>\n",
       "      <td>0</td>\n",
       "      <td>0</td>\n",
       "      <td>0</td>\n",
       "      <td>0</td>\n",
       "      <td>0</td>\n",
       "      <td>0</td>\n",
       "      <td>0</td>\n",
       "    </tr>\n",
       "    <tr>\n",
       "      <th>5</th>\n",
       "      <td>0</td>\n",
       "      <td>0</td>\n",
       "      <td>0</td>\n",
       "      <td>0</td>\n",
       "      <td>0</td>\n",
       "      <td>0</td>\n",
       "      <td>0</td>\n",
       "    </tr>\n",
       "  </tbody>\n",
       "</table>\n",
       "</div>"
      ],
      "text/plain": [
       "   ai  aiffel  성장하는  탐험  하며  학교  함께\n",
       "0   1       0     0   0   0   0   0\n",
       "1   0       0     0   0   0   0   0\n",
       "2   0       0     0   0   1   0   0\n",
       "3   0       0     0   0   0   0   1\n",
       "4   0       0     0   0   0   0   0\n",
       "5   0       0     0   0   0   0   0"
      ]
     },
     "execution_count": 29,
     "metadata": {},
     "output_type": "execute_result"
    }
   ],
   "source": [
    "pd.DataFrame(test_t.toarray(), columns = vect.get_feature_names_out())"
   ]
  },
  {
   "cell_type": "markdown",
   "id": "9a38e5fa",
   "metadata": {},
   "source": [
    "### TF-IDF Vectorize"
   ]
  },
  {
   "cell_type": "code",
   "execution_count": 31,
   "id": "69983e46",
   "metadata": {},
   "outputs": [],
   "source": [
    "from sklearn.feature_extraction.text import TfidfVectorizer"
   ]
  },
  {
   "cell_type": "code",
   "execution_count": 32,
   "id": "eae106f9",
   "metadata": {},
   "outputs": [
    {
     "data": {
      "text/plain": [
       "{'함께': 6, '탐험': 3, '하며': 4, '성장하는': 2, 'ai': 0, '학교': 5, 'aiffel': 1}"
      ]
     },
     "execution_count": 32,
     "metadata": {},
     "output_type": "execute_result"
    }
   ],
   "source": [
    "vect = TfidfVectorizer()\n",
    "words = tokenizer.morphs(text)\n",
    "\n",
    "vect.fit(words)\n",
    "vect.vocabulary_"
   ]
  },
  {
   "cell_type": "code",
   "execution_count": 33,
   "id": "61cf605f",
   "metadata": {},
   "outputs": [
    {
     "data": {
      "text/plain": [
       "array([[0., 0., 0., 0., 0., 0., 1.],\n",
       "       [0., 0., 0., 1., 0., 0., 0.],\n",
       "       [0., 0., 0., 0., 1., 0., 0.],\n",
       "       [0., 0., 1., 0., 0., 0., 0.],\n",
       "       [1., 0., 0., 0., 0., 0., 0.],\n",
       "       [0., 0., 0., 0., 0., 1., 0.],\n",
       "       [0., 1., 0., 0., 0., 0., 0.]])"
      ]
     },
     "execution_count": 33,
     "metadata": {},
     "output_type": "execute_result"
    }
   ],
   "source": [
    "vect.transform(words).toarray()"
   ]
  },
  {
   "cell_type": "markdown",
   "id": "3e3e49e0",
   "metadata": {},
   "source": [
    "## 2. 감정분석\n",
    "\n",
    "### 1) 데이터 불러오기 (문제정의)"
   ]
  },
  {
   "cell_type": "code",
   "execution_count": 35,
   "id": "e9873bd6",
   "metadata": {},
   "outputs": [],
   "source": [
    "df = pd.read_csv(\"https://raw.githubusercontent.com/e9t/nsmc/master/ratings_train.txt\", sep=\"\\t\")"
   ]
  },
  {
   "cell_type": "markdown",
   "id": "cfdab376",
   "metadata": {},
   "source": [
    "### 2) EDA 및 데이터 전처리"
   ]
  },
  {
   "cell_type": "code",
   "execution_count": 36,
   "id": "14f7d306",
   "metadata": {},
   "outputs": [
    {
     "data": {
      "text/html": [
       "<div>\n",
       "<style scoped>\n",
       "    .dataframe tbody tr th:only-of-type {\n",
       "        vertical-align: middle;\n",
       "    }\n",
       "\n",
       "    .dataframe tbody tr th {\n",
       "        vertical-align: top;\n",
       "    }\n",
       "\n",
       "    .dataframe thead th {\n",
       "        text-align: right;\n",
       "    }\n",
       "</style>\n",
       "<table border=\"1\" class=\"dataframe\">\n",
       "  <thead>\n",
       "    <tr style=\"text-align: right;\">\n",
       "      <th></th>\n",
       "      <th>id</th>\n",
       "      <th>document</th>\n",
       "      <th>label</th>\n",
       "    </tr>\n",
       "  </thead>\n",
       "  <tbody>\n",
       "    <tr>\n",
       "      <th>0</th>\n",
       "      <td>9976970</td>\n",
       "      <td>아 더빙.. 진짜 짜증나네요 목소리</td>\n",
       "      <td>0</td>\n",
       "    </tr>\n",
       "    <tr>\n",
       "      <th>1</th>\n",
       "      <td>3819312</td>\n",
       "      <td>흠...포스터보고 초딩영화줄....오버연기조차 가볍지 않구나</td>\n",
       "      <td>1</td>\n",
       "    </tr>\n",
       "    <tr>\n",
       "      <th>2</th>\n",
       "      <td>10265843</td>\n",
       "      <td>너무재밓었다그래서보는것을추천한다</td>\n",
       "      <td>0</td>\n",
       "    </tr>\n",
       "    <tr>\n",
       "      <th>3</th>\n",
       "      <td>9045019</td>\n",
       "      <td>교도소 이야기구먼 ..솔직히 재미는 없다..평점 조정</td>\n",
       "      <td>0</td>\n",
       "    </tr>\n",
       "    <tr>\n",
       "      <th>4</th>\n",
       "      <td>6483659</td>\n",
       "      <td>사이몬페그의 익살스런 연기가 돋보였던 영화!스파이더맨에서 늙어보이기만 했던 커스틴 ...</td>\n",
       "      <td>1</td>\n",
       "    </tr>\n",
       "  </tbody>\n",
       "</table>\n",
       "</div>"
      ],
      "text/plain": [
       "         id                                           document  label\n",
       "0   9976970                                아 더빙.. 진짜 짜증나네요 목소리      0\n",
       "1   3819312                  흠...포스터보고 초딩영화줄....오버연기조차 가볍지 않구나      1\n",
       "2  10265843                                  너무재밓었다그래서보는것을추천한다      0\n",
       "3   9045019                      교도소 이야기구먼 ..솔직히 재미는 없다..평점 조정      0\n",
       "4   6483659  사이몬페그의 익살스런 연기가 돋보였던 영화!스파이더맨에서 늙어보이기만 했던 커스틴 ...      1"
      ]
     },
     "execution_count": 36,
     "metadata": {},
     "output_type": "execute_result"
    }
   ],
   "source": [
    "df.head()"
   ]
  },
  {
   "cell_type": "code",
   "execution_count": 39,
   "id": "d089dd38",
   "metadata": {},
   "outputs": [
    {
     "data": {
      "text/plain": [
       "(150000, 3)"
      ]
     },
     "execution_count": 39,
     "metadata": {},
     "output_type": "execute_result"
    }
   ],
   "source": [
    "df.shape"
   ]
  },
  {
   "cell_type": "code",
   "execution_count": 38,
   "id": "ea77b7f0",
   "metadata": {},
   "outputs": [
    {
     "data": {
      "text/plain": [
       "0    75173\n",
       "1    74827\n",
       "Name: label, dtype: int64"
      ]
     },
     "execution_count": 38,
     "metadata": {},
     "output_type": "execute_result"
    }
   ],
   "source": [
    "df[\"label\"].value_counts()"
   ]
  },
  {
   "cell_type": "markdown",
   "id": "c1a1faaf",
   "metadata": {},
   "source": [
    "- 비슷한 비율을 유지하고 있으므로 좋은 성능을 기대할 수 있다."
   ]
  },
  {
   "cell_type": "code",
   "execution_count": 41,
   "id": "23af789c",
   "metadata": {},
   "outputs": [
    {
     "data": {
      "text/plain": [
       "id          0\n",
       "document    5\n",
       "label       0\n",
       "dtype: int64"
      ]
     },
     "execution_count": 41,
     "metadata": {},
     "output_type": "execute_result"
    }
   ],
   "source": [
    "# 결측치 확인\n",
    "df.isna().sum()"
   ]
  },
  {
   "cell_type": "markdown",
   "id": "cb6a4755",
   "metadata": {},
   "source": [
    "- 5개 정도의 결측치는 삭제해도 무방"
   ]
  },
  {
   "cell_type": "code",
   "execution_count": 42,
   "id": "71db2f8b",
   "metadata": {},
   "outputs": [],
   "source": [
    "df.dropna(inplace = True)"
   ]
  },
  {
   "cell_type": "code",
   "execution_count": 43,
   "id": "b537930a",
   "metadata": {},
   "outputs": [
    {
     "data": {
      "text/html": [
       "<div>\n",
       "<style scoped>\n",
       "    .dataframe tbody tr th:only-of-type {\n",
       "        vertical-align: middle;\n",
       "    }\n",
       "\n",
       "    .dataframe tbody tr th {\n",
       "        vertical-align: top;\n",
       "    }\n",
       "\n",
       "    .dataframe thead th {\n",
       "        text-align: right;\n",
       "    }\n",
       "</style>\n",
       "<table border=\"1\" class=\"dataframe\">\n",
       "  <thead>\n",
       "    <tr style=\"text-align: right;\">\n",
       "      <th></th>\n",
       "      <th>id</th>\n",
       "      <th>document</th>\n",
       "      <th>label</th>\n",
       "      <th>len</th>\n",
       "    </tr>\n",
       "  </thead>\n",
       "  <tbody>\n",
       "    <tr>\n",
       "      <th>0</th>\n",
       "      <td>9976970</td>\n",
       "      <td>아 더빙.. 진짜 짜증나네요 목소리</td>\n",
       "      <td>0</td>\n",
       "      <td>19</td>\n",
       "    </tr>\n",
       "    <tr>\n",
       "      <th>1</th>\n",
       "      <td>3819312</td>\n",
       "      <td>흠...포스터보고 초딩영화줄....오버연기조차 가볍지 않구나</td>\n",
       "      <td>1</td>\n",
       "      <td>33</td>\n",
       "    </tr>\n",
       "    <tr>\n",
       "      <th>2</th>\n",
       "      <td>10265843</td>\n",
       "      <td>너무재밓었다그래서보는것을추천한다</td>\n",
       "      <td>0</td>\n",
       "      <td>17</td>\n",
       "    </tr>\n",
       "    <tr>\n",
       "      <th>3</th>\n",
       "      <td>9045019</td>\n",
       "      <td>교도소 이야기구먼 ..솔직히 재미는 없다..평점 조정</td>\n",
       "      <td>0</td>\n",
       "      <td>29</td>\n",
       "    </tr>\n",
       "    <tr>\n",
       "      <th>4</th>\n",
       "      <td>6483659</td>\n",
       "      <td>사이몬페그의 익살스런 연기가 돋보였던 영화!스파이더맨에서 늙어보이기만 했던 커스틴 ...</td>\n",
       "      <td>1</td>\n",
       "      <td>61</td>\n",
       "    </tr>\n",
       "  </tbody>\n",
       "</table>\n",
       "</div>"
      ],
      "text/plain": [
       "         id                                           document  label  len\n",
       "0   9976970                                아 더빙.. 진짜 짜증나네요 목소리      0   19\n",
       "1   3819312                  흠...포스터보고 초딩영화줄....오버연기조차 가볍지 않구나      1   33\n",
       "2  10265843                                  너무재밓었다그래서보는것을추천한다      0   17\n",
       "3   9045019                      교도소 이야기구먼 ..솔직히 재미는 없다..평점 조정      0   29\n",
       "4   6483659  사이몬페그의 익살스런 연기가 돋보였던 영화!스파이더맨에서 늙어보이기만 했던 커스틴 ...      1   61"
      ]
     },
     "execution_count": 43,
     "metadata": {},
     "output_type": "execute_result"
    }
   ],
   "source": [
    "# 피처 엔지니어링 ( 문장의 길이 )\n",
    "\n",
    "df['len'] = df[\"document\"].apply(len)\n",
    "df.head()"
   ]
  },
  {
   "cell_type": "code",
   "execution_count": 46,
   "id": "4101911f",
   "metadata": {},
   "outputs": [
    {
     "data": {
      "text/plain": [
       "<AxesSubplot:>"
      ]
     },
     "execution_count": 46,
     "metadata": {},
     "output_type": "execute_result"
    },
    {
     "data": {
      "image/png": "[encoded data removed]",
      "text/plain": [
       "<Figure size 432x288 with 1 Axes>"
      ]
     },
     "metadata": {
      "needs_background": "light"
     },
     "output_type": "display_data"
    }
   ],
   "source": [
    "# len 시각화 ( label == 0 )\n",
    "import matplotlib.pyplot as plt\n",
    "\n",
    "df[df.label == 0]['len'].hist()"
   ]
  },
  {
   "cell_type": "code",
   "execution_count": 47,
   "id": "014c002a",
   "metadata": {},
   "outputs": [
    {
     "data": {
      "text/plain": [
       "(1000, 4)"
      ]
     },
     "execution_count": 47,
     "metadata": {},
     "output_type": "execute_result"
    }
   ],
   "source": [
    "# 샘플링\n",
    "\n",
    "df = df[:1000]\n",
    "df.shape"
   ]
  },
  {
   "cell_type": "code",
   "execution_count": 48,
   "id": "a391541a",
   "metadata": {},
   "outputs": [],
   "source": [
    "# 토큰화\n",
    "\n",
    "vect = CountVectorizer(tokenizer = tokenizer.morphs)\n",
    "vectors = vect.fit_transform(df[\"document\"])"
   ]
  },
  {
   "cell_type": "markdown",
   "id": "a5a54d4c",
   "metadata": {},
   "source": [
    "### 3) 머신러닝"
   ]
  },
  {
   "cell_type": "code",
   "execution_count": 49,
   "id": "f2bfe380",
   "metadata": {},
   "outputs": [
    {
     "data": {
      "text/plain": [
       "array([0.67777778, 0.65088757, 0.69892473, 0.68020305, 0.62637363])"
      ]
     },
     "execution_count": 49,
     "metadata": {},
     "output_type": "execute_result"
    }
   ],
   "source": [
    "from sklearn.ensemble import RandomForestClassifier\n",
    "from sklearn.model_selection import cross_val_score\n",
    "\n",
    "model = RandomForestClassifier(random_state = 2000)\n",
    "cross_val_score(model, vectors, df[\"label\"], scoring='f1', cv=5)"
   ]
  },
  {
   "cell_type": "code",
   "execution_count": 50,
   "id": "581fa001",
   "metadata": {},
   "outputs": [
    {
     "data": {
      "text/plain": [
       "0.6668333509967952"
      ]
     },
     "execution_count": 50,
     "metadata": {},
     "output_type": "execute_result"
    }
   ],
   "source": [
    "cross_val_score(model, vectors, df[\"label\"], scoring='f1', cv=5).mean()"
   ]
  },
  {
   "cell_type": "markdown",
   "id": "9c57f11e",
   "metadata": {},
   "source": [
    "## 자연어 전처리\n",
    "\n",
    "### 어휘 사전 구축"
   ]
  },
  {
   "cell_type": "code",
   "execution_count": 54,
   "id": "7ed05c4b",
   "metadata": {},
   "outputs": [
    {
     "data": {
      "text/plain": [
       "0.6620000000000001"
      ]
     },
     "execution_count": 54,
     "metadata": {},
     "output_type": "execute_result"
    }
   ],
   "source": [
    "# 토큰화(max_df) N개 보다 큰 단어 수 무시\n",
    "vect = CountVectorizer(tokenizer = tokenizer.morphs, max_df=10) # 10번 이상 등장한 단어는 무시하라\n",
    "vectors = vect.fit_transform(df['document'])\n",
    "model = RandomForestClassifier(random_state = 2000)\n",
    "cross_val_score(model, vectors, df['label'], scoring='accuracy', cv=5).mean()"
   ]
  },
  {
   "cell_type": "code",
   "execution_count": 55,
   "id": "7c437ea7",
   "metadata": {},
   "outputs": [
    {
     "data": {
      "text/plain": [
       "0.696"
      ]
     },
     "execution_count": 55,
     "metadata": {},
     "output_type": "execute_result"
    }
   ],
   "source": [
    "# 토큰화(min_df) N개 보다 작은 단어 수 무시\n",
    "vect = CountVectorizer(tokenizer = tokenizer.morphs, min_df=1) # 1 이하 등장한 단어는 무시하라\n",
    "vectors = vect.fit_transform(df['document'])\n",
    "model = RandomForestClassifier(random_state = 2000)\n",
    "cross_val_score(model, vectors, df['label'], scoring='accuracy', cv=5).mean()"
   ]
  },
  {
   "cell_type": "markdown",
   "id": "39e124b3",
   "metadata": {},
   "source": [
    "### 불용어 (StopWord)"
   ]
  },
  {
   "cell_type": "code",
   "execution_count": 60,
   "id": "0ab3ff35",
   "metadata": {},
   "outputs": [
    {
     "data": {
      "text/plain": [
       "{'함께': 4, '탐험': 2, '성장하는': 1, '학교': 3, 'aiffel': 0}"
      ]
     },
     "execution_count": 60,
     "metadata": {},
     "output_type": "execute_result"
    }
   ],
   "source": [
    "text = \"함께 탐험하며 성장하는 AI 학교 AIFFEL\"\n",
    "stop_words = [\"하며\", \"ai\"]\n",
    "\n",
    "vect = CountVectorizer(stop_words = stop_words)\n",
    "words = tokenizer.morphs(text)\n",
    "vect.fit(words)\n",
    "vect.vocabulary_"
   ]
  },
  {
   "cell_type": "markdown",
   "id": "0765e793",
   "metadata": {},
   "source": [
    "### 띄어쓰기\n",
    "\n",
    " - 잘못된 띄어쓰기를 잡아줍니다"
   ]
  },
  {
   "cell_type": "code",
   "execution_count": 61,
   "id": "c0fe8cd0",
   "metadata": {},
   "outputs": [
    {
     "name": "stdout",
     "output_type": "stream",
     "text": [
      "\u001b[31mERROR: pip's dependency resolver does not currently take into account all the packages that are installed. This behaviour is the source of the following dependency conflicts.\r\n",
      "tensorflow-metadata 1.7.0 requires absl-py<2.0.0,>=0.9, but you have absl-py 2.1.0 which is incompatible.\u001b[0m\u001b[31m\r\n",
      "\u001b[0m"
     ]
    }
   ],
   "source": [
    "!pip install git+https://github.com/haven-jeon/PyKoSpacing.git -qq"
   ]
  },
  {
   "cell_type": "code",
   "execution_count": 62,
   "id": "a73a1a79",
   "metadata": {},
   "outputs": [
    {
     "data": {
      "text/plain": [
       "'함께 탐험하며 성장하는 AI 학교 AIFFEL'"
      ]
     },
     "execution_count": 62,
     "metadata": {},
     "output_type": "execute_result"
    }
   ],
   "source": [
    "# 띄어쓰기\n",
    "from pykospacing import Spacing\n",
    "spacing = Spacing()\n",
    "\n",
    "text = \"함께 탐험하며 성장하는 AI 학교 AIFFEL\"\n",
    "spacing(text)"
   ]
  },
  {
   "cell_type": "markdown",
   "id": "7315aad0",
   "metadata": {},
   "source": [
    "### 반복되는 글자 정리\n",
    " - 반복되는 글자를 2-3개로 정리"
   ]
  },
  {
   "cell_type": "code",
   "execution_count": 63,
   "id": "fb415d97",
   "metadata": {},
   "outputs": [],
   "source": [
    "!pip install soynlp -qq"
   ]
  },
  {
   "cell_type": "code",
   "execution_count": 64,
   "id": "0a3a9b9d",
   "metadata": {},
   "outputs": [
    {
     "data": {
      "text/plain": [
       "'하하 ㅋㅋ'"
      ]
     },
     "execution_count": 64,
     "metadata": {},
     "output_type": "execute_result"
    }
   ],
   "source": [
    "from soynlp.normalizer import *\n",
    "emoticon_normalize(\"하하하하하하하하하하 ㅋㅋㅋㅋㅋㅋㅋㅋㅋㅋ \")"
   ]
  },
  {
   "cell_type": "markdown",
   "id": "c58ad06a",
   "metadata": {},
   "source": [
    "### 맞춤법 검사기"
   ]
  },
  {
   "cell_type": "code",
   "execution_count": 65,
   "id": "b43c651b",
   "metadata": {},
   "outputs": [
    {
     "name": "stdout",
     "output_type": "stream",
     "text": [
      "Collecting git+https://github.com/jungin500/py-hanspell\n",
      "  Cloning https://github.com/jungin500/py-hanspell to /tmp/pip-req-build-y8qhw_6t\n",
      "  Running command git clone --filter=blob:none --quiet https://github.com/jungin500/py-hanspell /tmp/pip-req-build-y8qhw_6t\n",
      "  Resolved https://github.com/jungin500/py-hanspell to commit 9cf4ce38a8d259b92dc8af3f35d7c2442e130180\n",
      "  Preparing metadata (setup.py) ... \u001b[?25ldone\n",
      "\u001b[?25hRequirement already satisfied: requests in /opt/conda/lib/python3.9/site-packages (from py-hanspell==1.1) (2.26.0)\n",
      "Requirement already satisfied: urllib3<1.27,>=1.21.1 in /opt/conda/lib/python3.9/site-packages (from requests->py-hanspell==1.1) (1.26.7)\n",
      "Requirement already satisfied: certifi>=2017.4.17 in /opt/conda/lib/python3.9/site-packages (from requests->py-hanspell==1.1) (2021.10.8)\n",
      "Requirement already satisfied: idna<4,>=2.5 in /opt/conda/lib/python3.9/site-packages (from requests->py-hanspell==1.1) (2.10)\n",
      "Requirement already satisfied: charset-normalizer~=2.0.0 in /opt/conda/lib/python3.9/site-packages (from requests->py-hanspell==1.1) (2.0.12)\n",
      "Building wheels for collected packages: py-hanspell\n",
      "  Building wheel for py-hanspell (setup.py) ... \u001b[?25ldone\n",
      "\u001b[?25h  Created wheel for py-hanspell: filename=py_hanspell-1.1-py3-none-any.whl size=4845 sha256=933eb8a6b61fd0f3d088bdcb0f687d0fc9480bf2b8f855fa10669b018b09eda9\n",
      "  Stored in directory: /tmp/pip-ephem-wheel-cache-lonvmb5y/wheels/65/95/29/5081934e2418613c2e986f8f0d7c55071a85d436f4367deeb2\n",
      "Successfully built py-hanspell\n",
      "Installing collected packages: py-hanspell\n",
      "Successfully installed py-hanspell-1.1\n",
      "\u001b[33mWARNING: Running pip as the 'root' user can result in broken permissions and conflicting behaviour with the system package manager. It is recommended to use a virtual environment instead: https://pip.pypa.io/warnings/venv\u001b[0m\u001b[33m\n",
      "\u001b[0m"
     ]
    }
   ],
   "source": [
    "!pip install git+https://github.com/jungin500/py-hanspell"
   ]
  },
  {
   "cell_type": "code",
   "execution_count": 66,
   "id": "b8b8b398",
   "metadata": {},
   "outputs": [],
   "source": [
    "from hanspell import spell_checker"
   ]
  },
  {
   "cell_type": "code",
   "execution_count": 67,
   "id": "75a85f86",
   "metadata": {},
   "outputs": [],
   "source": [
    "text = '사생활치매. 안핵갈려요. 뺑손이사고. 권투를 빈다. 설흔 즈음에. 문안한 스타일. 거북암이 들다. 마음이 절여온다. 골이따분한 성격. 노력이 숲으로 돌아가다. 일해라 절해라 하지 마세요.'"
   ]
  },
  {
   "cell_type": "code",
   "execution_count": 70,
   "id": "9bd951a5",
   "metadata": {},
   "outputs": [
    {
     "ename": "KeyError",
     "evalue": "'result'",
     "output_type": "error",
     "traceback": [
      "\u001b[0;31m---------------------------------------------------------------------------\u001b[0m",
      "\u001b[0;31mKeyError\u001b[0m                                  Traceback (most recent call last)",
      "\u001b[0;32m/tmp/ipykernel_31/2388285211.py\u001b[0m in \u001b[0;36m<module>\u001b[0;34m\u001b[0m\n\u001b[0;32m----> 1\u001b[0;31m \u001b[0mresult\u001b[0m \u001b[0;34m=\u001b[0m \u001b[0mspell_checker\u001b[0m\u001b[0;34m.\u001b[0m\u001b[0mcheck\u001b[0m\u001b[0;34m(\u001b[0m\u001b[0mtext\u001b[0m\u001b[0;34m)\u001b[0m\u001b[0;34m\u001b[0m\u001b[0;34m\u001b[0m\u001b[0m\n\u001b[0m",
      "\u001b[0;32m/opt/conda/lib/python3.9/site-packages/hanspell/spell_checker.py\u001b[0m in \u001b[0;36mcheck\u001b[0;34m(text)\u001b[0m\n\u001b[1;32m     60\u001b[0m \u001b[0;34m\u001b[0m\u001b[0m\n\u001b[1;32m     61\u001b[0m     \u001b[0mdata\u001b[0m \u001b[0;34m=\u001b[0m \u001b[0mjson\u001b[0m\u001b[0;34m.\u001b[0m\u001b[0mloads\u001b[0m\u001b[0;34m(\u001b[0m\u001b[0mr\u001b[0m\u001b[0;34m.\u001b[0m\u001b[0mtext\u001b[0m\u001b[0;34m)\u001b[0m\u001b[0;34m\u001b[0m\u001b[0;34m\u001b[0m\u001b[0m\n\u001b[0;32m---> 62\u001b[0;31m     \u001b[0mhtml\u001b[0m \u001b[0;34m=\u001b[0m \u001b[0mdata\u001b[0m\u001b[0;34m[\u001b[0m\u001b[0;34m'message'\u001b[0m\u001b[0;34m]\u001b[0m\u001b[0;34m[\u001b[0m\u001b[0;34m'result'\u001b[0m\u001b[0;34m]\u001b[0m\u001b[0;34m[\u001b[0m\u001b[0;34m'html'\u001b[0m\u001b[0;34m]\u001b[0m\u001b[0;34m\u001b[0m\u001b[0;34m\u001b[0m\u001b[0m\n\u001b[0m\u001b[1;32m     63\u001b[0m     result = {\n\u001b[1;32m     64\u001b[0m         \u001b[0;34m'result'\u001b[0m\u001b[0;34m:\u001b[0m \u001b[0;32mTrue\u001b[0m\u001b[0;34m,\u001b[0m\u001b[0;34m\u001b[0m\u001b[0;34m\u001b[0m\u001b[0m\n",
      "\u001b[0;31mKeyError\u001b[0m: 'result'"
     ]
    }
   ],
   "source": [
    "result = spell_checker.check(text)"
   ]
  },
  {
   "cell_type": "markdown",
   "id": "5d9a6b4d",
   "metadata": {},
   "source": [
    "hanspell에 조금 문제가 있어서 아직 사용할 수 없음"
   ]
  },
  {
   "cell_type": "code",
   "execution_count": null,
   "id": "22ecdc68",
   "metadata": {},
   "outputs": [],
   "source": [
    "result.checked"
   ]
  }
 ],
 "metadata": {
  "kernelspec": {
   "display_name": "Python 3 (ipykernel)",
   "language": "python",
   "name": "python3"
  },
  "language_info": {
   "codemirror_mode": {
    "name": "ipython",
    "version": 3
   },
   "file_extension": ".py",
   "mimetype": "text/x-python",
   "name": "python",
   "nbconvert_exporter": "python",
   "pygments_lexer": "ipython3",
   "version": "3.9.7"
  }
 },
 "nbformat": 4,
 "nbformat_minor": 5
}
