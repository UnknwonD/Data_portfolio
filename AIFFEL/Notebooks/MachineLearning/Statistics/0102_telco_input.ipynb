{
  "cells": [
    {
      "cell_type": "markdown",
      "id": "35fae2f5",
      "metadata": {
        "id": "35fae2f5"
      },
      "source": [
        "* 데이터셋 소개\n",
        "    * 해당 Kaggle 데이터셋( https://www.kaggle.com/blastchar/telco-customer-churn )은 통신사 고객 이탈(Churn)에 대한 정보를 담고 있습니다. IBM에서 제공한 이 데이터셋은 고객 유지에 필요한 행동을 예측하는 데 사용될 수 있으며, 고객 데이터를 분석하여 고객 유지 프로그램을 개발하는 데 도움이 됩니다.\n",
        "* 해당 데이터셋은 다음의 정보로 구성되어 있습니다.\n",
        "    * 고객 인구 통계 정보(Demographic info): 고객의 성별, 연령대, 배우자 및 부양 가족의 유무(Gender, SeniorCitizen, Partner, Dependents) 등에 관한 정보가 포함되어 있습니다.\n",
        "    * 고객 이탈(Churn) 정보: 서비스를 중단 여부에 대한 정보가 포함되어 있습니다.\n",
        "    * 서비스 가입 정보(Services subscribed): 고객들이 가입한 서비스들, 예를 들어 전화, 다중 라인, 인터넷, 온라인 보안, 온라인 백업, 장치 보호, 기술 지원, 스트리밍 TV 및 영화( honeService, MultipleLine, InternetService, OnlineSecurity, OnlineBackup, DeviceProtection, TechSupport, StreamingTV, StreamingMovies) 등에 대한 정보가 있습니다.\n",
        "    * 고객 계정 정보(Customer account info): 고객이 얼마나 오래 서비스를 이용했는지, 계약 유형, 결제 방법, 무페이퍼 청구 여부, 월별 요금, 총 요금 (CustomerID, Contract, PaperlessBilling, PaymentMethod, MonthlyCharges, TotalCharges, Tenure)등의 정보가 담겨 있습니다.\n"
      ]
    },
    {
      "cell_type": "code",
      "execution_count": null,
      "id": "61fda25e",
      "metadata": {
        "id": "61fda25e"
      },
      "outputs": [],
      "source": [
        "import pandas as pd\n",
        "import numpy as np\n",
        "import seaborn as sns\n",
        "import matplotlib.pyplot as plt\n",
        "from scipy import stats"
      ]
    },
    {
      "cell_type": "code",
      "execution_count": null,
      "id": "567030a9",
      "metadata": {
        "id": "567030a9",
        "colab": {
          "base_uri": "https://localhost:8080/"
        },
        "outputId": "eb5567c1-4130-4b5e-a04f-92369776e396"
      },
      "outputs": [
        {
          "output_type": "execute_result",
          "data": {
            "text/plain": [
              "(7043, 20)"
            ]
          },
          "metadata": {},
          "execution_count": 175
        }
      ],
      "source": [
        "# 데이터 로드\n",
        "df = pd.read_csv(\"https://bit.ly/telco-csv\", index_col=\"customerID\")\n",
        "df.shape"
      ]
    },
    {
      "cell_type": "code",
      "source": [
        "df.head()"
      ],
      "metadata": {
        "colab": {
          "base_uri": "https://localhost:8080/",
          "height": 344
        },
        "id": "BfvBtAdnhER5",
        "outputId": "0b2c926d-3ca8-43b6-c1d8-595781dac28d"
      },
      "id": "BfvBtAdnhER5",
      "execution_count": null,
      "outputs": [
        {
          "output_type": "execute_result",
          "data": {
            "text/plain": [
              "            gender  SeniorCitizen Partner Dependents  tenure PhoneService  \\\n",
              "customerID                                                                  \n",
              "7590-VHVEG  Female              0     Yes         No       1           No   \n",
              "5575-GNVDE    Male              0      No         No      34          Yes   \n",
              "3668-QPYBK    Male              0      No         No       2          Yes   \n",
              "7795-CFOCW    Male              0      No         No      45           No   \n",
              "9237-HQITU  Female              0      No         No       2          Yes   \n",
              "\n",
              "               MultipleLines InternetService OnlineSecurity OnlineBackup  \\\n",
              "customerID                                                                 \n",
              "7590-VHVEG  No phone service             DSL             No          Yes   \n",
              "5575-GNVDE                No             DSL            Yes           No   \n",
              "3668-QPYBK                No             DSL            Yes          Yes   \n",
              "7795-CFOCW  No phone service             DSL            Yes           No   \n",
              "9237-HQITU                No     Fiber optic             No           No   \n",
              "\n",
              "           DeviceProtection TechSupport StreamingTV StreamingMovies  \\\n",
              "customerID                                                            \n",
              "7590-VHVEG               No          No          No              No   \n",
              "5575-GNVDE              Yes          No          No              No   \n",
              "3668-QPYBK               No          No          No              No   \n",
              "7795-CFOCW              Yes         Yes          No              No   \n",
              "9237-HQITU               No          No          No              No   \n",
              "\n",
              "                  Contract PaperlessBilling              PaymentMethod  \\\n",
              "customerID                                                               \n",
              "7590-VHVEG  Month-to-month              Yes           Electronic check   \n",
              "5575-GNVDE        One year               No               Mailed check   \n",
              "3668-QPYBK  Month-to-month              Yes               Mailed check   \n",
              "7795-CFOCW        One year               No  Bank transfer (automatic)   \n",
              "9237-HQITU  Month-to-month              Yes           Electronic check   \n",
              "\n",
              "            MonthlyCharges TotalCharges Churn  \n",
              "customerID                                     \n",
              "7590-VHVEG           29.85        29.85    No  \n",
              "5575-GNVDE           56.95       1889.5    No  \n",
              "3668-QPYBK           53.85       108.15   Yes  \n",
              "7795-CFOCW           42.30      1840.75    No  \n",
              "9237-HQITU           70.70       151.65   Yes  "
            ],
            "text/html": [
              "\n",
              "  <div id=\"df-0e6834e6-4110-4796-8a93-4a013b989949\" class=\"colab-df-container\">\n",
              "    <div>\n",
              "<style scoped>\n",
              "    .dataframe tbody tr th:only-of-type {\n",
              "        vertical-align: middle;\n",
              "    }\n",
              "\n",
              "    .dataframe tbody tr th {\n",
              "        vertical-align: top;\n",
              "    }\n",
              "\n",
              "    .dataframe thead th {\n",
              "        text-align: right;\n",
              "    }\n",
              "</style>\n",
              "<table border=\"1\" class=\"dataframe\">\n",
              "  <thead>\n",
              "    <tr style=\"text-align: right;\">\n",
              "      <th></th>\n",
              "      <th>gender</th>\n",
              "      <th>SeniorCitizen</th>\n",
              "      <th>Partner</th>\n",
              "      <th>Dependents</th>\n",
              "      <th>tenure</th>\n",
              "      <th>PhoneService</th>\n",
              "      <th>MultipleLines</th>\n",
              "      <th>InternetService</th>\n",
              "      <th>OnlineSecurity</th>\n",
              "      <th>OnlineBackup</th>\n",
              "      <th>DeviceProtection</th>\n",
              "      <th>TechSupport</th>\n",
              "      <th>StreamingTV</th>\n",
              "      <th>StreamingMovies</th>\n",
              "      <th>Contract</th>\n",
              "      <th>PaperlessBilling</th>\n",
              "      <th>PaymentMethod</th>\n",
              "      <th>MonthlyCharges</th>\n",
              "      <th>TotalCharges</th>\n",
              "      <th>Churn</th>\n",
              "    </tr>\n",
              "    <tr>\n",
              "      <th>customerID</th>\n",
              "      <th></th>\n",
              "      <th></th>\n",
              "      <th></th>\n",
              "      <th></th>\n",
              "      <th></th>\n",
              "      <th></th>\n",
              "      <th></th>\n",
              "      <th></th>\n",
              "      <th></th>\n",
              "      <th></th>\n",
              "      <th></th>\n",
              "      <th></th>\n",
              "      <th></th>\n",
              "      <th></th>\n",
              "      <th></th>\n",
              "      <th></th>\n",
              "      <th></th>\n",
              "      <th></th>\n",
              "      <th></th>\n",
              "      <th></th>\n",
              "    </tr>\n",
              "  </thead>\n",
              "  <tbody>\n",
              "    <tr>\n",
              "      <th>7590-VHVEG</th>\n",
              "      <td>Female</td>\n",
              "      <td>0</td>\n",
              "      <td>Yes</td>\n",
              "      <td>No</td>\n",
              "      <td>1</td>\n",
              "      <td>No</td>\n",
              "      <td>No phone service</td>\n",
              "      <td>DSL</td>\n",
              "      <td>No</td>\n",
              "      <td>Yes</td>\n",
              "      <td>No</td>\n",
              "      <td>No</td>\n",
              "      <td>No</td>\n",
              "      <td>No</td>\n",
              "      <td>Month-to-month</td>\n",
              "      <td>Yes</td>\n",
              "      <td>Electronic check</td>\n",
              "      <td>29.85</td>\n",
              "      <td>29.85</td>\n",
              "      <td>No</td>\n",
              "    </tr>\n",
              "    <tr>\n",
              "      <th>5575-GNVDE</th>\n",
              "      <td>Male</td>\n",
              "      <td>0</td>\n",
              "      <td>No</td>\n",
              "      <td>No</td>\n",
              "      <td>34</td>\n",
              "      <td>Yes</td>\n",
              "      <td>No</td>\n",
              "      <td>DSL</td>\n",
              "      <td>Yes</td>\n",
              "      <td>No</td>\n",
              "      <td>Yes</td>\n",
              "      <td>No</td>\n",
              "      <td>No</td>\n",
              "      <td>No</td>\n",
              "      <td>One year</td>\n",
              "      <td>No</td>\n",
              "      <td>Mailed check</td>\n",
              "      <td>56.95</td>\n",
              "      <td>1889.5</td>\n",
              "      <td>No</td>\n",
              "    </tr>\n",
              "    <tr>\n",
              "      <th>3668-QPYBK</th>\n",
              "      <td>Male</td>\n",
              "      <td>0</td>\n",
              "      <td>No</td>\n",
              "      <td>No</td>\n",
              "      <td>2</td>\n",
              "      <td>Yes</td>\n",
              "      <td>No</td>\n",
              "      <td>DSL</td>\n",
              "      <td>Yes</td>\n",
              "      <td>Yes</td>\n",
              "      <td>No</td>\n",
              "      <td>No</td>\n",
              "      <td>No</td>\n",
              "      <td>No</td>\n",
              "      <td>Month-to-month</td>\n",
              "      <td>Yes</td>\n",
              "      <td>Mailed check</td>\n",
              "      <td>53.85</td>\n",
              "      <td>108.15</td>\n",
              "      <td>Yes</td>\n",
              "    </tr>\n",
              "    <tr>\n",
              "      <th>7795-CFOCW</th>\n",
              "      <td>Male</td>\n",
              "      <td>0</td>\n",
              "      <td>No</td>\n",
              "      <td>No</td>\n",
              "      <td>45</td>\n",
              "      <td>No</td>\n",
              "      <td>No phone service</td>\n",
              "      <td>DSL</td>\n",
              "      <td>Yes</td>\n",
              "      <td>No</td>\n",
              "      <td>Yes</td>\n",
              "      <td>Yes</td>\n",
              "      <td>No</td>\n",
              "      <td>No</td>\n",
              "      <td>One year</td>\n",
              "      <td>No</td>\n",
              "      <td>Bank transfer (automatic)</td>\n",
              "      <td>42.30</td>\n",
              "      <td>1840.75</td>\n",
              "      <td>No</td>\n",
              "    </tr>\n",
              "    <tr>\n",
              "      <th>9237-HQITU</th>\n",
              "      <td>Female</td>\n",
              "      <td>0</td>\n",
              "      <td>No</td>\n",
              "      <td>No</td>\n",
              "      <td>2</td>\n",
              "      <td>Yes</td>\n",
              "      <td>No</td>\n",
              "      <td>Fiber optic</td>\n",
              "      <td>No</td>\n",
              "      <td>No</td>\n",
              "      <td>No</td>\n",
              "      <td>No</td>\n",
              "      <td>No</td>\n",
              "      <td>No</td>\n",
              "      <td>Month-to-month</td>\n",
              "      <td>Yes</td>\n",
              "      <td>Electronic check</td>\n",
              "      <td>70.70</td>\n",
              "      <td>151.65</td>\n",
              "      <td>Yes</td>\n",
              "    </tr>\n",
              "  </tbody>\n",
              "</table>\n",
              "</div>\n",
              "    <div class=\"colab-df-buttons\">\n",
              "\n",
              "  <div class=\"colab-df-container\">\n",
              "    <button class=\"colab-df-convert\" onclick=\"convertToInteractive('df-0e6834e6-4110-4796-8a93-4a013b989949')\"\n",
              "            title=\"Convert this dataframe to an interactive table.\"\n",
              "            style=\"display:none;\">\n",
              "\n",
              "  <svg xmlns=\"http://www.w3.org/2000/svg\" height=\"24px\" viewBox=\"0 -960 960 960\">\n",
              "    <path d=\"M120-120v-720h720v720H120Zm60-500h600v-160H180v160Zm220 220h160v-160H400v160Zm0 220h160v-160H400v160ZM180-400h160v-160H180v160Zm440 0h160v-160H620v160ZM180-180h160v-160H180v160Zm440 0h160v-160H620v160Z\"/>\n",
              "  </svg>\n",
              "    </button>\n",
              "\n",
              "  <style>\n",
              "    .colab-df-container {\n",
              "      display:flex;\n",
              "      gap: 12px;\n",
              "    }\n",
              "\n",
              "    .colab-df-convert {\n",
              "      background-color: #E8F0FE;\n",
              "      border: none;\n",
              "      border-radius: 50%;\n",
              "      cursor: pointer;\n",
              "      display: none;\n",
              "      fill: #1967D2;\n",
              "      height: 32px;\n",
              "      padding: 0 0 0 0;\n",
              "      width: 32px;\n",
              "    }\n",
              "\n",
              "    .colab-df-convert:hover {\n",
              "      background-color: #E2EBFA;\n",
              "      box-shadow: 0px 1px 2px rgba(60, 64, 67, 0.3), 0px 1px 3px 1px rgba(60, 64, 67, 0.15);\n",
              "      fill: #174EA6;\n",
              "    }\n",
              "\n",
              "    .colab-df-buttons div {\n",
              "      margin-bottom: 4px;\n",
              "    }\n",
              "\n",
              "    [theme=dark] .colab-df-convert {\n",
              "      background-color: #3B4455;\n",
              "      fill: #D2E3FC;\n",
              "    }\n",
              "\n",
              "    [theme=dark] .colab-df-convert:hover {\n",
              "      background-color: #434B5C;\n",
              "      box-shadow: 0px 1px 3px 1px rgba(0, 0, 0, 0.15);\n",
              "      filter: drop-shadow(0px 1px 2px rgba(0, 0, 0, 0.3));\n",
              "      fill: #FFFFFF;\n",
              "    }\n",
              "  </style>\n",
              "\n",
              "    <script>\n",
              "      const buttonEl =\n",
              "        document.querySelector('#df-0e6834e6-4110-4796-8a93-4a013b989949 button.colab-df-convert');\n",
              "      buttonEl.style.display =\n",
              "        google.colab.kernel.accessAllowed ? 'block' : 'none';\n",
              "\n",
              "      async function convertToInteractive(key) {\n",
              "        const element = document.querySelector('#df-0e6834e6-4110-4796-8a93-4a013b989949');\n",
              "        const dataTable =\n",
              "          await google.colab.kernel.invokeFunction('convertToInteractive',\n",
              "                                                    [key], {});\n",
              "        if (!dataTable) return;\n",
              "\n",
              "        const docLinkHtml = 'Like what you see? Visit the ' +\n",
              "          '<a target=\"_blank\" href=https://colab.research.google.com/notebooks/data_table.ipynb>data table notebook</a>'\n",
              "          + ' to learn more about interactive tables.';\n",
              "        element.innerHTML = '';\n",
              "        dataTable['output_type'] = 'display_data';\n",
              "        await google.colab.output.renderOutput(dataTable, element);\n",
              "        const docLink = document.createElement('div');\n",
              "        docLink.innerHTML = docLinkHtml;\n",
              "        element.appendChild(docLink);\n",
              "      }\n",
              "    </script>\n",
              "  </div>\n",
              "\n",
              "\n",
              "<div id=\"df-17767908-3fc6-4cc6-b05f-de9432ae148a\">\n",
              "  <button class=\"colab-df-quickchart\" onclick=\"quickchart('df-17767908-3fc6-4cc6-b05f-de9432ae148a')\"\n",
              "            title=\"Suggest charts\"\n",
              "            style=\"display:none;\">\n",
              "\n",
              "<svg xmlns=\"http://www.w3.org/2000/svg\" height=\"24px\"viewBox=\"0 0 24 24\"\n",
              "     width=\"24px\">\n",
              "    <g>\n",
              "        <path d=\"M19 3H5c-1.1 0-2 .9-2 2v14c0 1.1.9 2 2 2h14c1.1 0 2-.9 2-2V5c0-1.1-.9-2-2-2zM9 17H7v-7h2v7zm4 0h-2V7h2v10zm4 0h-2v-4h2v4z\"/>\n",
              "    </g>\n",
              "</svg>\n",
              "  </button>\n",
              "\n",
              "<style>\n",
              "  .colab-df-quickchart {\n",
              "      --bg-color: #E8F0FE;\n",
              "      --fill-color: #1967D2;\n",
              "      --hover-bg-color: #E2EBFA;\n",
              "      --hover-fill-color: #174EA6;\n",
              "      --disabled-fill-color: #AAA;\n",
              "      --disabled-bg-color: #DDD;\n",
              "  }\n",
              "\n",
              "  [theme=dark] .colab-df-quickchart {\n",
              "      --bg-color: #3B4455;\n",
              "      --fill-color: #D2E3FC;\n",
              "      --hover-bg-color: #434B5C;\n",
              "      --hover-fill-color: #FFFFFF;\n",
              "      --disabled-bg-color: #3B4455;\n",
              "      --disabled-fill-color: #666;\n",
              "  }\n",
              "\n",
              "  .colab-df-quickchart {\n",
              "    background-color: var(--bg-color);\n",
              "    border: none;\n",
              "    border-radius: 50%;\n",
              "    cursor: pointer;\n",
              "    display: none;\n",
              "    fill: var(--fill-color);\n",
              "    height: 32px;\n",
              "    padding: 0;\n",
              "    width: 32px;\n",
              "  }\n",
              "\n",
              "  .colab-df-quickchart:hover {\n",
              "    background-color: var(--hover-bg-color);\n",
              "    box-shadow: 0 1px 2px rgba(60, 64, 67, 0.3), 0 1px 3px 1px rgba(60, 64, 67, 0.15);\n",
              "    fill: var(--button-hover-fill-color);\n",
              "  }\n",
              "\n",
              "  .colab-df-quickchart-complete:disabled,\n",
              "  .colab-df-quickchart-complete:disabled:hover {\n",
              "    background-color: var(--disabled-bg-color);\n",
              "    fill: var(--disabled-fill-color);\n",
              "    box-shadow: none;\n",
              "  }\n",
              "\n",
              "  .colab-df-spinner {\n",
              "    border: 2px solid var(--fill-color);\n",
              "    border-color: transparent;\n",
              "    border-bottom-color: var(--fill-color);\n",
              "    animation:\n",
              "      spin 1s steps(1) infinite;\n",
              "  }\n",
              "\n",
              "  @keyframes spin {\n",
              "    0% {\n",
              "      border-color: transparent;\n",
              "      border-bottom-color: var(--fill-color);\n",
              "      border-left-color: var(--fill-color);\n",
              "    }\n",
              "    20% {\n",
              "      border-color: transparent;\n",
              "      border-left-color: var(--fill-color);\n",
              "      border-top-color: var(--fill-color);\n",
              "    }\n",
              "    30% {\n",
              "      border-color: transparent;\n",
              "      border-left-color: var(--fill-color);\n",
              "      border-top-color: var(--fill-color);\n",
              "      border-right-color: var(--fill-color);\n",
              "    }\n",
              "    40% {\n",
              "      border-color: transparent;\n",
              "      border-right-color: var(--fill-color);\n",
              "      border-top-color: var(--fill-color);\n",
              "    }\n",
              "    60% {\n",
              "      border-color: transparent;\n",
              "      border-right-color: var(--fill-color);\n",
              "    }\n",
              "    80% {\n",
              "      border-color: transparent;\n",
              "      border-right-color: var(--fill-color);\n",
              "      border-bottom-color: var(--fill-color);\n",
              "    }\n",
              "    90% {\n",
              "      border-color: transparent;\n",
              "      border-bottom-color: var(--fill-color);\n",
              "    }\n",
              "  }\n",
              "</style>\n",
              "\n",
              "  <script>\n",
              "    async function quickchart(key) {\n",
              "      const quickchartButtonEl =\n",
              "        document.querySelector('#' + key + ' button');\n",
              "      quickchartButtonEl.disabled = true;  // To prevent multiple clicks.\n",
              "      quickchartButtonEl.classList.add('colab-df-spinner');\n",
              "      try {\n",
              "        const charts = await google.colab.kernel.invokeFunction(\n",
              "            'suggestCharts', [key], {});\n",
              "      } catch (error) {\n",
              "        console.error('Error during call to suggestCharts:', error);\n",
              "      }\n",
              "      quickchartButtonEl.classList.remove('colab-df-spinner');\n",
              "      quickchartButtonEl.classList.add('colab-df-quickchart-complete');\n",
              "    }\n",
              "    (() => {\n",
              "      let quickchartButtonEl =\n",
              "        document.querySelector('#df-17767908-3fc6-4cc6-b05f-de9432ae148a button');\n",
              "      quickchartButtonEl.style.display =\n",
              "        google.colab.kernel.accessAllowed ? 'block' : 'none';\n",
              "    })();\n",
              "  </script>\n",
              "</div>\n",
              "    </div>\n",
              "  </div>\n"
            ]
          },
          "metadata": {},
          "execution_count": 176
        }
      ]
    },
    {
      "cell_type": "code",
      "execution_count": null,
      "id": "ef5322ae",
      "metadata": {
        "id": "ef5322ae",
        "colab": {
          "base_uri": "https://localhost:8080/"
        },
        "outputId": "ba6621e7-686e-478f-dc24-1ef2e3af5c72"
      },
      "outputs": [
        {
          "output_type": "stream",
          "name": "stdout",
          "text": [
            "<class 'pandas.core.frame.DataFrame'>\n",
            "Index: 7043 entries, 7590-VHVEG to 3186-AJIEK\n",
            "Data columns (total 20 columns):\n",
            " #   Column            Non-Null Count  Dtype  \n",
            "---  ------            --------------  -----  \n",
            " 0   gender            7043 non-null   object \n",
            " 1   SeniorCitizen     7043 non-null   int64  \n",
            " 2   Partner           7043 non-null   object \n",
            " 3   Dependents        7043 non-null   object \n",
            " 4   tenure            7043 non-null   int64  \n",
            " 5   PhoneService      7043 non-null   object \n",
            " 6   MultipleLines     7043 non-null   object \n",
            " 7   InternetService   7043 non-null   object \n",
            " 8   OnlineSecurity    7043 non-null   object \n",
            " 9   OnlineBackup      7043 non-null   object \n",
            " 10  DeviceProtection  7043 non-null   object \n",
            " 11  TechSupport       7043 non-null   object \n",
            " 12  StreamingTV       7043 non-null   object \n",
            " 13  StreamingMovies   7043 non-null   object \n",
            " 14  Contract          7043 non-null   object \n",
            " 15  PaperlessBilling  7043 non-null   object \n",
            " 16  PaymentMethod     7043 non-null   object \n",
            " 17  MonthlyCharges    7043 non-null   float64\n",
            " 18  TotalCharges      7043 non-null   object \n",
            " 19  Churn             7043 non-null   object \n",
            "dtypes: float64(1), int64(2), object(17)\n",
            "memory usage: 1.1+ MB\n"
          ]
        }
      ],
      "source": [
        "# info 결측치 확인, 데이터 타입 확인\n",
        "df.info()"
      ]
    },
    {
      "cell_type": "code",
      "source": [
        "df.index.nunique() # 변수의 고윳값 개수를 나태내줌"
      ],
      "metadata": {
        "colab": {
          "base_uri": "https://localhost:8080/"
        },
        "id": "u2iv47H6hlcT",
        "outputId": "a5bade6e-ef98-4bc7-9735-ce2f50628542"
      },
      "id": "u2iv47H6hlcT",
      "execution_count": null,
      "outputs": [
        {
          "output_type": "execute_result",
          "data": {
            "text/plain": [
              "7043"
            ]
          },
          "metadata": {},
          "execution_count": 178
        }
      ]
    },
    {
      "cell_type": "code",
      "execution_count": null,
      "id": "666f1bd7",
      "metadata": {
        "id": "666f1bd7",
        "colab": {
          "base_uri": "https://localhost:8080/"
        },
        "outputId": "3e279566-a979-4b3c-edee-2fa6b4751cf3"
      },
      "outputs": [
        {
          "output_type": "execute_result",
          "data": {
            "text/plain": [
              "count    7032.000000\n",
              "mean     2283.300441\n",
              "std      2266.771362\n",
              "min        18.800000\n",
              "25%       401.450000\n",
              "50%      1397.475000\n",
              "75%      3794.737500\n",
              "max      8684.800000\n",
              "Name: TotalCharges, dtype: float64"
            ]
          },
          "metadata": {},
          "execution_count": 179
        }
      ],
      "source": [
        "# # 숫자형태로 된 문자열을 숫자형으로 바꿔줍니다.\n",
        "# df[\"TotalCharges\"].replace(\" \", np.nan).astype(float)\n",
        "df[\"TotalCharges\"] = pd.to_numeric(df[\"TotalCharges\"], errors=\"coerce\")\n",
        "\n",
        "df[\"TotalCharges\"].describe()"
      ]
    },
    {
      "cell_type": "code",
      "source": [
        "df[\"TotalCharges\"].plot(kind=\"hist\")"
      ],
      "metadata": {
        "colab": {
          "base_uri": "https://localhost:8080/",
          "height": 448
        },
        "id": "fuscT2l3hzp3",
        "outputId": "cab6f0f2-5371-4ab1-911a-3c87294a4c15"
      },
      "id": "fuscT2l3hzp3",
      "execution_count": null,
      "outputs": [
        {
          "output_type": "execute_result",
          "data": {
            "text/plain": [
              "<Axes: ylabel='Frequency'>"
            ]
          },
          "metadata": {},
          "execution_count": 180
        },
        {
          "output_type": "display_data",
          "data": {
            "text/plain": [
              "<Figure size 640x480 with 1 Axes>"
            ],
            "image/png": "[encoded data removed]"
          },
          "metadata": {}
        }
      ]
    },
    {
      "cell_type": "code",
      "source": [
        "sns.boxplot(data = df, x = \"TotalCharges\")"
      ],
      "metadata": {
        "colab": {
          "base_uri": "https://localhost:8080/",
          "height": 467
        },
        "id": "mh8HCMzjnV6q",
        "outputId": "65c01192-bb11-4595-86a9-08507ab900b8"
      },
      "id": "mh8HCMzjnV6q",
      "execution_count": null,
      "outputs": [
        {
          "output_type": "execute_result",
          "data": {
            "text/plain": [
              "<Axes: xlabel='TotalCharges'>"
            ]
          },
          "metadata": {},
          "execution_count": 181
        },
        {
          "output_type": "display_data",
          "data": {
            "text/plain": [
              "<Figure size 640x480 with 1 Axes>"
            ],
            "image/png": "[encoded data removed]"
          },
          "metadata": {}
        }
      ]
    },
    {
      "cell_type": "markdown",
      "id": "32a789e4",
      "metadata": {
        "id": "32a789e4"
      },
      "source": [
        "## 기술 통계\n",
        "\n",
        "\n",
        "- **평균 (Mean)**: $\\bar{x} = \\frac{1}{n}\\sum_{i=1}^{n}x_i$\n",
        "  - 모든 데이터 포인트의 합을 데이터의 개수로 나눈 값\n",
        "- **표본 분산 (Sample Variance)**: $s^2 = \\frac{1}{n-1}\\sum_{i=1}^{n}(x_i - \\bar{x})^2$\n",
        "  - 각 데이터 포인트와 평균의 차이의 제곱의 합을 자유도(n-1)로 나눈 값\n",
        "- **표준편차 (Standard Deviation)**: $s = \\sqrt{s^2}$\n",
        "  - 분산의 제곱근\n",
        "- **Z-점수 (Z-Score)**: $z = \\frac{x - \\mu}{\\sigma}$\n",
        "  - 개별 데이터 포인트가 평균으로부터 표준편차의 몇 배 떨어져 있는지 나타내는 값\n",
        "- **t-통계량 (t-Statistic)**: $t = \\frac{\\bar{x} - \\mu}{s/\\sqrt{n}}$\n",
        "  - 표본 평균이 모집단 평균으로부터 얼마나 떨어져 있는지 나타내는 값\n"
      ]
    },
    {
      "cell_type": "code",
      "execution_count": null,
      "id": "4d759df2",
      "metadata": {
        "id": "4d759df2",
        "colab": {
          "base_uri": "https://localhost:8080/",
          "height": 300
        },
        "outputId": "de511d65-926a-4fb6-f348-93c618df8b91"
      },
      "outputs": [
        {
          "output_type": "execute_result",
          "data": {
            "text/plain": [
              "       SeniorCitizen       tenure  MonthlyCharges  TotalCharges\n",
              "count    7043.000000  7043.000000     7043.000000   7032.000000\n",
              "mean        0.162147    32.371149       64.761692   2283.300441\n",
              "std         0.368612    24.559481       30.090047   2266.771362\n",
              "min         0.000000     0.000000       18.250000     18.800000\n",
              "25%         0.000000     9.000000       35.500000    401.450000\n",
              "50%         0.000000    29.000000       70.350000   1397.475000\n",
              "75%         0.000000    55.000000       89.850000   3794.737500\n",
              "max         1.000000    72.000000      118.750000   8684.800000"
            ],
            "text/html": [
              "\n",
              "  <div id=\"df-eedf72dc-d912-4da0-bd34-91e713ca1065\" class=\"colab-df-container\">\n",
              "    <div>\n",
              "<style scoped>\n",
              "    .dataframe tbody tr th:only-of-type {\n",
              "        vertical-align: middle;\n",
              "    }\n",
              "\n",
              "    .dataframe tbody tr th {\n",
              "        vertical-align: top;\n",
              "    }\n",
              "\n",
              "    .dataframe thead th {\n",
              "        text-align: right;\n",
              "    }\n",
              "</style>\n",
              "<table border=\"1\" class=\"dataframe\">\n",
              "  <thead>\n",
              "    <tr style=\"text-align: right;\">\n",
              "      <th></th>\n",
              "      <th>SeniorCitizen</th>\n",
              "      <th>tenure</th>\n",
              "      <th>MonthlyCharges</th>\n",
              "      <th>TotalCharges</th>\n",
              "    </tr>\n",
              "  </thead>\n",
              "  <tbody>\n",
              "    <tr>\n",
              "      <th>count</th>\n",
              "      <td>7043.000000</td>\n",
              "      <td>7043.000000</td>\n",
              "      <td>7043.000000</td>\n",
              "      <td>7032.000000</td>\n",
              "    </tr>\n",
              "    <tr>\n",
              "      <th>mean</th>\n",
              "      <td>0.162147</td>\n",
              "      <td>32.371149</td>\n",
              "      <td>64.761692</td>\n",
              "      <td>2283.300441</td>\n",
              "    </tr>\n",
              "    <tr>\n",
              "      <th>std</th>\n",
              "      <td>0.368612</td>\n",
              "      <td>24.559481</td>\n",
              "      <td>30.090047</td>\n",
              "      <td>2266.771362</td>\n",
              "    </tr>\n",
              "    <tr>\n",
              "      <th>min</th>\n",
              "      <td>0.000000</td>\n",
              "      <td>0.000000</td>\n",
              "      <td>18.250000</td>\n",
              "      <td>18.800000</td>\n",
              "    </tr>\n",
              "    <tr>\n",
              "      <th>25%</th>\n",
              "      <td>0.000000</td>\n",
              "      <td>9.000000</td>\n",
              "      <td>35.500000</td>\n",
              "      <td>401.450000</td>\n",
              "    </tr>\n",
              "    <tr>\n",
              "      <th>50%</th>\n",
              "      <td>0.000000</td>\n",
              "      <td>29.000000</td>\n",
              "      <td>70.350000</td>\n",
              "      <td>1397.475000</td>\n",
              "    </tr>\n",
              "    <tr>\n",
              "      <th>75%</th>\n",
              "      <td>0.000000</td>\n",
              "      <td>55.000000</td>\n",
              "      <td>89.850000</td>\n",
              "      <td>3794.737500</td>\n",
              "    </tr>\n",
              "    <tr>\n",
              "      <th>max</th>\n",
              "      <td>1.000000</td>\n",
              "      <td>72.000000</td>\n",
              "      <td>118.750000</td>\n",
              "      <td>8684.800000</td>\n",
              "    </tr>\n",
              "  </tbody>\n",
              "</table>\n",
              "</div>\n",
              "    <div class=\"colab-df-buttons\">\n",
              "\n",
              "  <div class=\"colab-df-container\">\n",
              "    <button class=\"colab-df-convert\" onclick=\"convertToInteractive('df-eedf72dc-d912-4da0-bd34-91e713ca1065')\"\n",
              "            title=\"Convert this dataframe to an interactive table.\"\n",
              "            style=\"display:none;\">\n",
              "\n",
              "  <svg xmlns=\"http://www.w3.org/2000/svg\" height=\"24px\" viewBox=\"0 -960 960 960\">\n",
              "    <path d=\"M120-120v-720h720v720H120Zm60-500h600v-160H180v160Zm220 220h160v-160H400v160Zm0 220h160v-160H400v160ZM180-400h160v-160H180v160Zm440 0h160v-160H620v160ZM180-180h160v-160H180v160Zm440 0h160v-160H620v160Z\"/>\n",
              "  </svg>\n",
              "    </button>\n",
              "\n",
              "  <style>\n",
              "    .colab-df-container {\n",
              "      display:flex;\n",
              "      gap: 12px;\n",
              "    }\n",
              "\n",
              "    .colab-df-convert {\n",
              "      background-color: #E8F0FE;\n",
              "      border: none;\n",
              "      border-radius: 50%;\n",
              "      cursor: pointer;\n",
              "      display: none;\n",
              "      fill: #1967D2;\n",
              "      height: 32px;\n",
              "      padding: 0 0 0 0;\n",
              "      width: 32px;\n",
              "    }\n",
              "\n",
              "    .colab-df-convert:hover {\n",
              "      background-color: #E2EBFA;\n",
              "      box-shadow: 0px 1px 2px rgba(60, 64, 67, 0.3), 0px 1px 3px 1px rgba(60, 64, 67, 0.15);\n",
              "      fill: #174EA6;\n",
              "    }\n",
              "\n",
              "    .colab-df-buttons div {\n",
              "      margin-bottom: 4px;\n",
              "    }\n",
              "\n",
              "    [theme=dark] .colab-df-convert {\n",
              "      background-color: #3B4455;\n",
              "      fill: #D2E3FC;\n",
              "    }\n",
              "\n",
              "    [theme=dark] .colab-df-convert:hover {\n",
              "      background-color: #434B5C;\n",
              "      box-shadow: 0px 1px 3px 1px rgba(0, 0, 0, 0.15);\n",
              "      filter: drop-shadow(0px 1px 2px rgba(0, 0, 0, 0.3));\n",
              "      fill: #FFFFFF;\n",
              "    }\n",
              "  </style>\n",
              "\n",
              "    <script>\n",
              "      const buttonEl =\n",
              "        document.querySelector('#df-eedf72dc-d912-4da0-bd34-91e713ca1065 button.colab-df-convert');\n",
              "      buttonEl.style.display =\n",
              "        google.colab.kernel.accessAllowed ? 'block' : 'none';\n",
              "\n",
              "      async function convertToInteractive(key) {\n",
              "        const element = document.querySelector('#df-eedf72dc-d912-4da0-bd34-91e713ca1065');\n",
              "        const dataTable =\n",
              "          await google.colab.kernel.invokeFunction('convertToInteractive',\n",
              "                                                    [key], {});\n",
              "        if (!dataTable) return;\n",
              "\n",
              "        const docLinkHtml = 'Like what you see? Visit the ' +\n",
              "          '<a target=\"_blank\" href=https://colab.research.google.com/notebooks/data_table.ipynb>data table notebook</a>'\n",
              "          + ' to learn more about interactive tables.';\n",
              "        element.innerHTML = '';\n",
              "        dataTable['output_type'] = 'display_data';\n",
              "        await google.colab.output.renderOutput(dataTable, element);\n",
              "        const docLink = document.createElement('div');\n",
              "        docLink.innerHTML = docLinkHtml;\n",
              "        element.appendChild(docLink);\n",
              "      }\n",
              "    </script>\n",
              "  </div>\n",
              "\n",
              "\n",
              "<div id=\"df-434273c1-6ba7-43f3-8b37-8c40fe2d0eb1\">\n",
              "  <button class=\"colab-df-quickchart\" onclick=\"quickchart('df-434273c1-6ba7-43f3-8b37-8c40fe2d0eb1')\"\n",
              "            title=\"Suggest charts\"\n",
              "            style=\"display:none;\">\n",
              "\n",
              "<svg xmlns=\"http://www.w3.org/2000/svg\" height=\"24px\"viewBox=\"0 0 24 24\"\n",
              "     width=\"24px\">\n",
              "    <g>\n",
              "        <path d=\"M19 3H5c-1.1 0-2 .9-2 2v14c0 1.1.9 2 2 2h14c1.1 0 2-.9 2-2V5c0-1.1-.9-2-2-2zM9 17H7v-7h2v7zm4 0h-2V7h2v10zm4 0h-2v-4h2v4z\"/>\n",
              "    </g>\n",
              "</svg>\n",
              "  </button>\n",
              "\n",
              "<style>\n",
              "  .colab-df-quickchart {\n",
              "      --bg-color: #E8F0FE;\n",
              "      --fill-color: #1967D2;\n",
              "      --hover-bg-color: #E2EBFA;\n",
              "      --hover-fill-color: #174EA6;\n",
              "      --disabled-fill-color: #AAA;\n",
              "      --disabled-bg-color: #DDD;\n",
              "  }\n",
              "\n",
              "  [theme=dark] .colab-df-quickchart {\n",
              "      --bg-color: #3B4455;\n",
              "      --fill-color: #D2E3FC;\n",
              "      --hover-bg-color: #434B5C;\n",
              "      --hover-fill-color: #FFFFFF;\n",
              "      --disabled-bg-color: #3B4455;\n",
              "      --disabled-fill-color: #666;\n",
              "  }\n",
              "\n",
              "  .colab-df-quickchart {\n",
              "    background-color: var(--bg-color);\n",
              "    border: none;\n",
              "    border-radius: 50%;\n",
              "    cursor: pointer;\n",
              "    display: none;\n",
              "    fill: var(--fill-color);\n",
              "    height: 32px;\n",
              "    padding: 0;\n",
              "    width: 32px;\n",
              "  }\n",
              "\n",
              "  .colab-df-quickchart:hover {\n",
              "    background-color: var(--hover-bg-color);\n",
              "    box-shadow: 0 1px 2px rgba(60, 64, 67, 0.3), 0 1px 3px 1px rgba(60, 64, 67, 0.15);\n",
              "    fill: var(--button-hover-fill-color);\n",
              "  }\n",
              "\n",
              "  .colab-df-quickchart-complete:disabled,\n",
              "  .colab-df-quickchart-complete:disabled:hover {\n",
              "    background-color: var(--disabled-bg-color);\n",
              "    fill: var(--disabled-fill-color);\n",
              "    box-shadow: none;\n",
              "  }\n",
              "\n",
              "  .colab-df-spinner {\n",
              "    border: 2px solid var(--fill-color);\n",
              "    border-color: transparent;\n",
              "    border-bottom-color: var(--fill-color);\n",
              "    animation:\n",
              "      spin 1s steps(1) infinite;\n",
              "  }\n",
              "\n",
              "  @keyframes spin {\n",
              "    0% {\n",
              "      border-color: transparent;\n",
              "      border-bottom-color: var(--fill-color);\n",
              "      border-left-color: var(--fill-color);\n",
              "    }\n",
              "    20% {\n",
              "      border-color: transparent;\n",
              "      border-left-color: var(--fill-color);\n",
              "      border-top-color: var(--fill-color);\n",
              "    }\n",
              "    30% {\n",
              "      border-color: transparent;\n",
              "      border-left-color: var(--fill-color);\n",
              "      border-top-color: var(--fill-color);\n",
              "      border-right-color: var(--fill-color);\n",
              "    }\n",
              "    40% {\n",
              "      border-color: transparent;\n",
              "      border-right-color: var(--fill-color);\n",
              "      border-top-color: var(--fill-color);\n",
              "    }\n",
              "    60% {\n",
              "      border-color: transparent;\n",
              "      border-right-color: var(--fill-color);\n",
              "    }\n",
              "    80% {\n",
              "      border-color: transparent;\n",
              "      border-right-color: var(--fill-color);\n",
              "      border-bottom-color: var(--fill-color);\n",
              "    }\n",
              "    90% {\n",
              "      border-color: transparent;\n",
              "      border-bottom-color: var(--fill-color);\n",
              "    }\n",
              "  }\n",
              "</style>\n",
              "\n",
              "  <script>\n",
              "    async function quickchart(key) {\n",
              "      const quickchartButtonEl =\n",
              "        document.querySelector('#' + key + ' button');\n",
              "      quickchartButtonEl.disabled = true;  // To prevent multiple clicks.\n",
              "      quickchartButtonEl.classList.add('colab-df-spinner');\n",
              "      try {\n",
              "        const charts = await google.colab.kernel.invokeFunction(\n",
              "            'suggestCharts', [key], {});\n",
              "      } catch (error) {\n",
              "        console.error('Error during call to suggestCharts:', error);\n",
              "      }\n",
              "      quickchartButtonEl.classList.remove('colab-df-spinner');\n",
              "      quickchartButtonEl.classList.add('colab-df-quickchart-complete');\n",
              "    }\n",
              "    (() => {\n",
              "      let quickchartButtonEl =\n",
              "        document.querySelector('#df-434273c1-6ba7-43f3-8b37-8c40fe2d0eb1 button');\n",
              "      quickchartButtonEl.style.display =\n",
              "        google.colab.kernel.accessAllowed ? 'block' : 'none';\n",
              "    })();\n",
              "  </script>\n",
              "</div>\n",
              "    </div>\n",
              "  </div>\n"
            ]
          },
          "metadata": {},
          "execution_count": 182
        }
      ],
      "source": [
        "# describe\n",
        "df.describe()"
      ]
    },
    {
      "cell_type": "markdown",
      "id": "018ec42f",
      "metadata": {
        "id": "018ec42f"
      },
      "source": [
        "* 모집단과 표본\n",
        "    - 모집단과 표본\n",
        "    - 모수와 통계량\n",
        "* 무선 표집\n",
        "    - 표집 방법(층화표집)\n",
        "    - 표집 분포\n",
        "\n",
        "## 표집\n",
        "* 표집 후 시각화 비교"
      ]
    },
    {
      "cell_type": "code",
      "source": [
        "df.hist(bins=50, figsize=(8, 8));"
      ],
      "metadata": {
        "colab": {
          "base_uri": "https://localhost:8080/",
          "height": 699
        },
        "id": "0T8AptDboxnv",
        "outputId": "45bfcbd9-cb0e-4c3d-fdef-ebf642e71e99"
      },
      "id": "0T8AptDboxnv",
      "execution_count": null,
      "outputs": [
        {
          "output_type": "display_data",
          "data": {
            "text/plain": [
              "<Figure size 800x800 with 4 Axes>"
            ],
            "image/png": "[encoded data removed]"
          },
          "metadata": {}
        }
      ]
    },
    {
      "cell_type": "code",
      "execution_count": null,
      "id": "7c366260",
      "metadata": {
        "id": "7c366260",
        "colab": {
          "base_uri": "https://localhost:8080/",
          "height": 772
        },
        "outputId": "617d0cc9-36ad-4485-ec48-f6d48cfc0f16"
      },
      "outputs": [
        {
          "output_type": "execute_result",
          "data": {
            "text/plain": [
              "array([[<Axes: title={'center': 'SeniorCitizen'}>,\n",
              "        <Axes: title={'center': 'tenure'}>],\n",
              "       [<Axes: title={'center': 'MonthlyCharges'}>,\n",
              "        <Axes: title={'center': 'TotalCharges'}>]], dtype=object)"
            ]
          },
          "metadata": {},
          "execution_count": 184
        },
        {
          "output_type": "display_data",
          "data": {
            "text/plain": [
              "<Figure size 800x800 with 4 Axes>"
            ],
            "image/png": "[encoded data removed]"
          },
          "metadata": {}
        }
      ],
      "source": [
        "# df.sample(n).hist();\n",
        "df.sample(100).hist(bins=50, figsize=(8, 8))"
      ]
    },
    {
      "cell_type": "code",
      "execution_count": null,
      "id": "58a1c231",
      "metadata": {
        "id": "58a1c231",
        "colab": {
          "base_uri": "https://localhost:8080/",
          "height": 452
        },
        "outputId": "2697a4a8-e703-4c62-bf39-c56f5238e441"
      },
      "outputs": [
        {
          "output_type": "display_data",
          "data": {
            "text/plain": [
              "<Figure size 640x480 with 4 Axes>"
            ],
            "image/png": "[encoded data removed]"
          },
          "metadata": {}
        }
      ],
      "source": [
        "df.sample(frac=0.1).hist(bins = 50);"
      ]
    },
    {
      "cell_type": "markdown",
      "id": "2417aba9",
      "metadata": {
        "id": "2417aba9"
      },
      "source": [
        "### 무선 표집으로 중심극한정리 실습\n",
        "\n",
        "부트스트래핑\n",
        "\n",
        "![image.png](data:image/png;base64,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)"
      ]
    },
    {
      "cell_type": "code",
      "execution_count": null,
      "id": "caf54c5b",
      "metadata": {
        "id": "caf54c5b"
      },
      "outputs": [],
      "source": [
        "# 중심극한정리를 시연하기 위해, 여러 번에 걸쳐서 표본 평균을 계산합니다.\n",
        "sample_means = []\n",
        "n_samples = 1000  # 표본 추출 횟수\n",
        "sample_size = 50   # 각 표본의 크기\n",
        "\n",
        "for _ in range(n_samples):\n",
        "  tmp_mean = df[\"MonthlyCharges\"].sample(sample_size, replace=True).mean(numeric_only=True)\n",
        "  sample_means.append(tmp_mean)"
      ]
    },
    {
      "cell_type": "code",
      "source": [
        "sample_means"
      ],
      "metadata": {
        "colab": {
          "base_uri": "https://localhost:8080/"
        },
        "id": "jmhnCGvxsyVb",
        "outputId": "fda12b3c-a33a-4248-ed35-505d0b03f388"
      },
      "id": "jmhnCGvxsyVb",
      "execution_count": null,
      "outputs": [
        {
          "output_type": "execute_result",
          "data": {
            "text/plain": [
              "[63.722,\n",
              " 72.129,\n",
              " 69.48500000000001,\n",
              " 71.60300000000001,\n",
              " 61.442,\n",
              " 69.43700000000001,\n",
              " 70.78300000000002,\n",
              " 62.32,\n",
              " 68.51100000000001,\n",
              " 68.079,\n",
              " 63.542,\n",
              " 64.044,\n",
              " 62.31100000000001,\n",
              " 65.009,\n",
              " 69.683,\n",
              " 63.51300000000001,\n",
              " 65.31599999999999,\n",
              " 62.015,\n",
              " 61.32200000000001,\n",
              " 61.68800000000001,\n",
              " 67.26599999999999,\n",
              " 60.174,\n",
              " 67.343,\n",
              " 66.731,\n",
              " 60.656000000000006,\n",
              " 55.77000000000001,\n",
              " 69.89,\n",
              " 74.214,\n",
              " 67.613,\n",
              " 67.32700000000001,\n",
              " 63.62299999999999,\n",
              " 69.22399999999999,\n",
              " 67.151,\n",
              " 61.834999999999994,\n",
              " 69.193,\n",
              " 65.863,\n",
              " 57.398,\n",
              " 60.368999999999986,\n",
              " 73.161,\n",
              " 62.707,\n",
              " 55.104000000000006,\n",
              " 64.65,\n",
              " 66.768,\n",
              " 65.12500000000001,\n",
              " 64.817,\n",
              " 62.15800000000001,\n",
              " 67.979,\n",
              " 64.352,\n",
              " 62.283,\n",
              " 61.751999999999995,\n",
              " 54.788999999999994,\n",
              " 69.909,\n",
              " 64.267,\n",
              " 58.04099999999998,\n",
              " 64.366,\n",
              " 70.45800000000001,\n",
              " 65.96300000000001,\n",
              " 68.616,\n",
              " 58.48500000000001,\n",
              " 64.277,\n",
              " 68.879,\n",
              " 63.617999999999995,\n",
              " 65.292,\n",
              " 63.05,\n",
              " 69.92399999999999,\n",
              " 66.71900000000001,\n",
              " 59.279,\n",
              " 64.98899999999999,\n",
              " 65.447,\n",
              " 61.02400000000001,\n",
              " 68.539,\n",
              " 59.972,\n",
              " 69.385,\n",
              " 70.858,\n",
              " 63.909,\n",
              " 64.96800000000002,\n",
              " 71.352,\n",
              " 68.92099999999999,\n",
              " 70.938,\n",
              " 68.164,\n",
              " 69.776,\n",
              " 59.098,\n",
              " 53.91400000000001,\n",
              " 60.208,\n",
              " 67.24499999999999,\n",
              " 63.84700000000001,\n",
              " 63.257000000000005,\n",
              " 68.175,\n",
              " 58.81900000000002,\n",
              " 62.403999999999996,\n",
              " 71.048,\n",
              " 62.922999999999995,\n",
              " 61.605,\n",
              " 72.06600000000002,\n",
              " 68.76899999999999,\n",
              " 65.97999999999999,\n",
              " 66.64500000000001,\n",
              " 58.727999999999994,\n",
              " 67.18900000000001,\n",
              " 63.062000000000005,\n",
              " 69.423,\n",
              " 66.60700000000001,\n",
              " 69.428,\n",
              " 59.497,\n",
              " 71.757,\n",
              " 60.004,\n",
              " 66.938,\n",
              " 69.768,\n",
              " 58.236999999999995,\n",
              " 67.947,\n",
              " 59.34499999999999,\n",
              " 62.912000000000006,\n",
              " 62.643,\n",
              " 62.900000000000006,\n",
              " 66.697,\n",
              " 59.839,\n",
              " 65.666,\n",
              " 58.566,\n",
              " 68.75399999999999,\n",
              " 67.40199999999999,\n",
              " 64.507,\n",
              " 62.64000000000001,\n",
              " 74.214,\n",
              " 62.785999999999994,\n",
              " 71.824,\n",
              " 68.276,\n",
              " 59.56300000000001,\n",
              " 64.88699999999999,\n",
              " 62.20899999999999,\n",
              " 65.915,\n",
              " 61.528,\n",
              " 68.55000000000001,\n",
              " 60.583,\n",
              " 62.553999999999995,\n",
              " 63.736999999999995,\n",
              " 58.92,\n",
              " 67.67599999999999,\n",
              " 67.152,\n",
              " 57.20399999999999,\n",
              " 64.41799999999999,\n",
              " 63.04,\n",
              " 70.39,\n",
              " 64.916,\n",
              " 68.965,\n",
              " 70.341,\n",
              " 68.057,\n",
              " 64.423,\n",
              " 62.812,\n",
              " 68.15400000000001,\n",
              " 71.32600000000001,\n",
              " 59.84700000000001,\n",
              " 59.63799999999999,\n",
              " 71.94900000000001,\n",
              " 66.271,\n",
              " 62.083999999999996,\n",
              " 66.488,\n",
              " 63.92100000000001,\n",
              " 60.65199999999999,\n",
              " 62.76,\n",
              " 64.02600000000001,\n",
              " 61.336999999999996,\n",
              " 69.32900000000001,\n",
              " 61.773,\n",
              " 64.708,\n",
              " 62.361000000000004,\n",
              " 66.29,\n",
              " 59.078,\n",
              " 62.81400000000001,\n",
              " 63.038999999999994,\n",
              " 62.74,\n",
              " 61.302,\n",
              " 64.243,\n",
              " 69.737,\n",
              " 70.65599999999999,\n",
              " 62.335,\n",
              " 60.025999999999996,\n",
              " 55.925,\n",
              " 63.00500000000001,\n",
              " 64.90400000000001,\n",
              " 62.301,\n",
              " 60.958999999999996,\n",
              " 69.44800000000001,\n",
              " 62.951,\n",
              " 66.041,\n",
              " 69.818,\n",
              " 65.138,\n",
              " 63.838,\n",
              " 64.816,\n",
              " 60.157,\n",
              " 60.142999999999994,\n",
              " 62.371,\n",
              " 55.57200000000001,\n",
              " 60.545999999999985,\n",
              " 64.696,\n",
              " 63.34199999999999,\n",
              " 65.82,\n",
              " 64.89000000000001,\n",
              " 67.152,\n",
              " 64.945,\n",
              " 63.275,\n",
              " 58.78200000000001,\n",
              " 71.29799999999999,\n",
              " 60.986000000000004,\n",
              " 72.687,\n",
              " 65.30099999999999,\n",
              " 63.577999999999996,\n",
              " 67.899,\n",
              " 64.085,\n",
              " 63.445,\n",
              " 67.12499999999999,\n",
              " 63.137,\n",
              " 64.235,\n",
              " 69.813,\n",
              " 60.071000000000005,\n",
              " 62.90299999999999,\n",
              " 61.282,\n",
              " 63.19,\n",
              " 65.645,\n",
              " 69.958,\n",
              " 64.06099999999998,\n",
              " 65.214,\n",
              " 63.977999999999994,\n",
              " 65.305,\n",
              " 64.211,\n",
              " 65.26799999999999,\n",
              " 67.73100000000001,\n",
              " 69.625,\n",
              " 69.362,\n",
              " 69.67,\n",
              " 75.384,\n",
              " 65.288,\n",
              " 70.58,\n",
              " 64.40400000000001,\n",
              " 58.048,\n",
              " 55.278,\n",
              " 63.17799999999999,\n",
              " 64.47100000000002,\n",
              " 61.532,\n",
              " 66.93299999999999,\n",
              " 59.347,\n",
              " 64.69200000000001,\n",
              " 65.75,\n",
              " 66.279,\n",
              " 63.141999999999996,\n",
              " 65.38000000000001,\n",
              " 70.003,\n",
              " 65.411,\n",
              " 72.917,\n",
              " 65.288,\n",
              " 62.922,\n",
              " 70.407,\n",
              " 64.165,\n",
              " 64.991,\n",
              " 60.486,\n",
              " 64.903,\n",
              " 65.584,\n",
              " 63.85999999999999,\n",
              " 59.770999999999994,\n",
              " 69.17300000000002,\n",
              " 60.529,\n",
              " 70.061,\n",
              " 68.233,\n",
              " 61.958999999999996,\n",
              " 66.202,\n",
              " 69.018,\n",
              " 64.663,\n",
              " 61.99099999999999,\n",
              " 61.582,\n",
              " 62.317,\n",
              " 55.352,\n",
              " 67.247,\n",
              " 63.854000000000006,\n",
              " 65.04199999999999,\n",
              " 69.86000000000001,\n",
              " 61.550999999999995,\n",
              " 60.76599999999999,\n",
              " 67.811,\n",
              " 60.888999999999996,\n",
              " 64.23899999999999,\n",
              " 63.76499999999999,\n",
              " 65.674,\n",
              " 60.76299999999999,\n",
              " 68.615,\n",
              " 64.76899999999999,\n",
              " 61.155,\n",
              " 73.48899999999999,\n",
              " 60.22999999999999,\n",
              " 65.028,\n",
              " 66.781,\n",
              " 70.072,\n",
              " 66.57600000000001,\n",
              " 64.42500000000001,\n",
              " 62.185,\n",
              " 63.792,\n",
              " 62.56399999999999,\n",
              " 66.29,\n",
              " 65.725,\n",
              " 68.602,\n",
              " 60.10900000000001,\n",
              " 62.472,\n",
              " 67.03299999999999,\n",
              " 66.626,\n",
              " 70.25500000000001,\n",
              " 68.038,\n",
              " 70.739,\n",
              " 71.709,\n",
              " 69.183,\n",
              " 56.66,\n",
              " 59.32200000000001,\n",
              " 65.62599999999999,\n",
              " 64.246,\n",
              " 66.63999999999999,\n",
              " 59.79200000000001,\n",
              " 71.398,\n",
              " 69.47399999999999,\n",
              " 68.28099999999999,\n",
              " 65.688,\n",
              " 58.251999999999995,\n",
              " 62.437,\n",
              " 59.07699999999999,\n",
              " 61.791,\n",
              " 62.25500000000001,\n",
              " 63.901,\n",
              " 65.092,\n",
              " 65.977,\n",
              " 73.01299999999999,\n",
              " 68.653,\n",
              " 72.804,\n",
              " 60.02,\n",
              " 62.592,\n",
              " 69.161,\n",
              " 71.176,\n",
              " 68.025,\n",
              " 65.50500000000001,\n",
              " 64.91,\n",
              " 72.69,\n",
              " 55.858000000000004,\n",
              " 63.690999999999995,\n",
              " 67.213,\n",
              " 63.849000000000004,\n",
              " 63.608999999999995,\n",
              " 71.37600000000002,\n",
              " 59.15,\n",
              " 67.523,\n",
              " 67.8,\n",
              " 63.181000000000004,\n",
              " 63.833999999999996,\n",
              " 64.756,\n",
              " 60.388999999999996,\n",
              " 65.83800000000001,\n",
              " 61.486999999999995,\n",
              " 61.11,\n",
              " 63.54,\n",
              " 63.94200000000001,\n",
              " 59.67700000000001,\n",
              " 66.435,\n",
              " 59.849000000000004,\n",
              " 65.068,\n",
              " 62.756,\n",
              " 65.62499999999999,\n",
              " 61.07899999999999,\n",
              " 56.961000000000006,\n",
              " 64.727,\n",
              " 58.929,\n",
              " 64.781,\n",
              " 54.43500000000001,\n",
              " 63.721000000000004,\n",
              " 71.119,\n",
              " 65.837,\n",
              " 67.164,\n",
              " 75.866,\n",
              " 52.303000000000004,\n",
              " 58.452999999999996,\n",
              " 66.82699999999998,\n",
              " 73.189,\n",
              " 66.591,\n",
              " 65.185,\n",
              " 63.58699999999999,\n",
              " 72.066,\n",
              " 63.708,\n",
              " 60.71,\n",
              " 64.752,\n",
              " 66.864,\n",
              " 59.02,\n",
              " 70.358,\n",
              " 71.316,\n",
              " 62.328,\n",
              " 66.264,\n",
              " 62.47,\n",
              " 70.24600000000001,\n",
              " 68.82900000000001,\n",
              " 70.44,\n",
              " 64.499,\n",
              " 66.47500000000001,\n",
              " 65.41900000000001,\n",
              " 61.80299999999999,\n",
              " 57.449,\n",
              " 64.508,\n",
              " 67.241,\n",
              " 69.33800000000001,\n",
              " 68.168,\n",
              " 69.72600000000001,\n",
              " 65.23700000000001,\n",
              " 67.76400000000001,\n",
              " 67.904,\n",
              " 63.401,\n",
              " 62.973,\n",
              " 71.898,\n",
              " 63.18600000000001,\n",
              " 55.023,\n",
              " 67.47,\n",
              " 64.868,\n",
              " 66.23899999999999,\n",
              " 67.312,\n",
              " 61.962999999999994,\n",
              " 54.51499999999999,\n",
              " 62.75,\n",
              " 66.37299999999999,\n",
              " 69.492,\n",
              " 58.486000000000004,\n",
              " 72.96699999999998,\n",
              " 64.81200000000001,\n",
              " 60.949,\n",
              " 62.35900000000001,\n",
              " 60.91399999999999,\n",
              " 62.773999999999994,\n",
              " 64.782,\n",
              " 67.00399999999999,\n",
              " 60.599,\n",
              " 63.52799999999999,\n",
              " 68.40700000000001,\n",
              " 65.54899999999999,\n",
              " 60.611999999999995,\n",
              " 65.17299999999999,\n",
              " 64.772,\n",
              " 63.945,\n",
              " 64.53699999999999,\n",
              " 62.958999999999996,\n",
              " 58.614,\n",
              " 64.953,\n",
              " 70.203,\n",
              " 64.54899999999999,\n",
              " 73.89,\n",
              " 64.087,\n",
              " 59.351000000000006,\n",
              " 65.307,\n",
              " 71.383,\n",
              " 62.425999999999995,\n",
              " 52.69499999999999,\n",
              " 64.545,\n",
              " 63.91700000000001,\n",
              " 60.117000000000004,\n",
              " 70.77799999999999,\n",
              " 61.285,\n",
              " 60.33500000000001,\n",
              " 66.218,\n",
              " 61.235,\n",
              " 58.99099999999999,\n",
              " 71.14399999999999,\n",
              " 60.117,\n",
              " 62.373000000000005,\n",
              " 63.858999999999995,\n",
              " 60.87699999999999,\n",
              " 72.416,\n",
              " 69.174,\n",
              " 56.89,\n",
              " 55.521,\n",
              " 65.877,\n",
              " 65.09599999999999,\n",
              " 60.644000000000005,\n",
              " 64.728,\n",
              " 56.92400000000001,\n",
              " 68.90500000000002,\n",
              " 62.152,\n",
              " 56.64100000000001,\n",
              " 66.555,\n",
              " 62.24499999999999,\n",
              " 67.45,\n",
              " 68.11500000000001,\n",
              " 67.116,\n",
              " 70.82900000000001,\n",
              " 74.273,\n",
              " 68.747,\n",
              " 61.721,\n",
              " 64.913,\n",
              " 70.29500000000002,\n",
              " 64.261,\n",
              " 68.279,\n",
              " 63.221000000000004,\n",
              " 62.111999999999995,\n",
              " 53.903999999999996,\n",
              " 67.48700000000001,\n",
              " 68.485,\n",
              " 63.63900000000002,\n",
              " 59.946000000000005,\n",
              " 61.349,\n",
              " 67.012,\n",
              " 59.979,\n",
              " 64.211,\n",
              " 61.89300000000001,\n",
              " 66.106,\n",
              " 66.613,\n",
              " 62.247,\n",
              " 60.40299999999999,\n",
              " 67.92600000000002,\n",
              " 58.375,\n",
              " 64.49199999999999,\n",
              " 64.97,\n",
              " 67.74700000000001,\n",
              " 60.635999999999996,\n",
              " 60.97,\n",
              " 63.287,\n",
              " 63.50599999999999,\n",
              " 56.503,\n",
              " 65.28000000000002,\n",
              " 68.49999999999999,\n",
              " 69.332,\n",
              " 64.2,\n",
              " 78.948,\n",
              " 60.898,\n",
              " 60.07900000000001,\n",
              " 69.088,\n",
              " 66.063,\n",
              " 66.039,\n",
              " 66.161,\n",
              " 62.53499999999998,\n",
              " 72.893,\n",
              " 63.978,\n",
              " 63.437999999999995,\n",
              " 58.13500000000001,\n",
              " 63.784000000000006,\n",
              " 64.745,\n",
              " 58.638999999999996,\n",
              " 56.79,\n",
              " 64.337,\n",
              " 64.955,\n",
              " 70.079,\n",
              " 67.45,\n",
              " 65.444,\n",
              " 60.69700000000001,\n",
              " 65.244,\n",
              " 67.02799999999999,\n",
              " 68.78999999999999,\n",
              " 69.89600000000002,\n",
              " 66.571,\n",
              " 63.42099999999999,\n",
              " 67.437,\n",
              " 75.151,\n",
              " 66.89,\n",
              " 62.38000000000001,\n",
              " 63.534000000000006,\n",
              " 63.31100000000001,\n",
              " 61.135,\n",
              " 62.857000000000006,\n",
              " 63.470000000000006,\n",
              " 63.23500000000001,\n",
              " 67.9,\n",
              " 59.545,\n",
              " 71.979,\n",
              " 63.755,\n",
              " 72.738,\n",
              " 72.524,\n",
              " 65.349,\n",
              " 58.702,\n",
              " 65.26399999999998,\n",
              " 65.84400000000001,\n",
              " 66.109,\n",
              " 53.73999999999999,\n",
              " 66.38600000000001,\n",
              " 62.32599999999999,\n",
              " 71.635,\n",
              " 64.74600000000001,\n",
              " 66.941,\n",
              " 66.42,\n",
              " 68.66199999999999,\n",
              " 66.608,\n",
              " 69.54399999999998,\n",
              " 70.954,\n",
              " 54.84799999999999,\n",
              " 67.10900000000001,\n",
              " 67.266,\n",
              " 69.45700000000001,\n",
              " 66.561,\n",
              " 68.452,\n",
              " 55.765,\n",
              " 68.25099999999999,\n",
              " 61.295,\n",
              " 61.599000000000004,\n",
              " 71.08099999999999,\n",
              " 67.48599999999999,\n",
              " 68.60799999999999,\n",
              " 61.86599999999999,\n",
              " 74.46799999999999,\n",
              " 64.474,\n",
              " 62.045,\n",
              " 62.653999999999996,\n",
              " 62.04099999999998,\n",
              " 62.071999999999996,\n",
              " 65.089,\n",
              " 58.785,\n",
              " 62.67500000000001,\n",
              " 67.31,\n",
              " 70.367,\n",
              " 67.46,\n",
              " 65.828,\n",
              " 64.175,\n",
              " 59.577999999999996,\n",
              " 65.009,\n",
              " 61.544,\n",
              " 65.866,\n",
              " 60.238,\n",
              " 65.133,\n",
              " 66.365,\n",
              " 59.925999999999995,\n",
              " 59.95400000000001,\n",
              " 63.972999999999985,\n",
              " 68.229,\n",
              " 73.443,\n",
              " 64.13600000000001,\n",
              " 62.178999999999995,\n",
              " 64.127,\n",
              " 60.65,\n",
              " 55.424,\n",
              " 66.37199999999999,\n",
              " 63.306999999999995,\n",
              " 65.15599999999999,\n",
              " 58.424,\n",
              " 68.39299999999999,\n",
              " 59.95099999999999,\n",
              " 68.20200000000001,\n",
              " 63.23700000000001,\n",
              " 59.9,\n",
              " 64.831,\n",
              " 53.84,\n",
              " 62.964,\n",
              " 72.605,\n",
              " 64.749,\n",
              " 67.234,\n",
              " 74.017,\n",
              " 68.854,\n",
              " 61.5,\n",
              " 67.869,\n",
              " 66.843,\n",
              " 67.508,\n",
              " 67.465,\n",
              " 57.696,\n",
              " 67.09299999999999,\n",
              " 59.57900000000001,\n",
              " 62.185,\n",
              " 63.748000000000005,\n",
              " 73.773,\n",
              " 65.953,\n",
              " 67.352,\n",
              " 67.773,\n",
              " 61.776,\n",
              " 67.322,\n",
              " 63.644,\n",
              " 64.102,\n",
              " 67.208,\n",
              " 65.994,\n",
              " 74.065,\n",
              " 64.622,\n",
              " 64.17299999999999,\n",
              " 52.897999999999996,\n",
              " 71.882,\n",
              " 71.357,\n",
              " 63.830999999999996,\n",
              " 60.424,\n",
              " 65.835,\n",
              " 59.568999999999996,\n",
              " 56.41700000000001,\n",
              " 63.592,\n",
              " 60.75900000000001,\n",
              " 66.45100000000001,\n",
              " 60.543,\n",
              " 64.991,\n",
              " 72.524,\n",
              " 63.458,\n",
              " 63.09400000000001,\n",
              " 65.251,\n",
              " 63.873999999999995,\n",
              " 56.238,\n",
              " 67.728,\n",
              " 71.535,\n",
              " 64.118,\n",
              " 64.591,\n",
              " 58.548,\n",
              " 66.627,\n",
              " 63.605,\n",
              " 66.44100000000002,\n",
              " 66.475,\n",
              " 67.561,\n",
              " 61.92500000000001,\n",
              " 64.387,\n",
              " 67.50099999999999,\n",
              " 62.690999999999995,\n",
              " 64.65100000000001,\n",
              " 64.69800000000001,\n",
              " 59.35999999999999,\n",
              " 73.17599999999999,\n",
              " 58.33600000000001,\n",
              " 65.031,\n",
              " 65.994,\n",
              " 58.613,\n",
              " 67.943,\n",
              " 67.16199999999999,\n",
              " 67.854,\n",
              " 68.939,\n",
              " 69.02600000000001,\n",
              " 69.757,\n",
              " 61.233999999999995,\n",
              " 66.304,\n",
              " 61.043,\n",
              " 63.145999999999994,\n",
              " 64.88,\n",
              " 63.49,\n",
              " 65.346,\n",
              " 57.885999999999996,\n",
              " 68.75399999999999,\n",
              " 61.306,\n",
              " 67.122,\n",
              " 61.84,\n",
              " 63.413999999999994,\n",
              " 69.821,\n",
              " 60.28999999999999,\n",
              " 68.45400000000001,\n",
              " 65.235,\n",
              " 60.254,\n",
              " 65.935,\n",
              " 65.664,\n",
              " 60.408,\n",
              " 62.901,\n",
              " 62.516999999999996,\n",
              " 58.256,\n",
              " 62.254000000000005,\n",
              " 67.034,\n",
              " 67.90499999999999,\n",
              " 54.782,\n",
              " 67.727,\n",
              " 67.72800000000001,\n",
              " 68.959,\n",
              " 64.463,\n",
              " 61.335,\n",
              " 61.224000000000004,\n",
              " 59.66700000000001,\n",
              " 77.172,\n",
              " 68.59,\n",
              " 59.175,\n",
              " 70.041,\n",
              " 62.632000000000005,\n",
              " 64.171,\n",
              " 64.898,\n",
              " 65.59100000000001,\n",
              " 65.554,\n",
              " 65.669,\n",
              " 67.224,\n",
              " 70.377,\n",
              " 69.25200000000001,\n",
              " 60.04,\n",
              " 61.215,\n",
              " 69.703,\n",
              " 62.702000000000005,\n",
              " 65.28399999999999,\n",
              " 64.767,\n",
              " 63.133,\n",
              " 65.28300000000002,\n",
              " 71.43400000000001,\n",
              " 66.225,\n",
              " 66.26100000000001,\n",
              " 61.465,\n",
              " 58.335,\n",
              " 67.818,\n",
              " 62.277,\n",
              " 59.75000000000001,\n",
              " 65.158,\n",
              " 70.673,\n",
              " 54.869,\n",
              " 66.281,\n",
              " 65.961,\n",
              " 71.686,\n",
              " 58.216,\n",
              " 62.372000000000014,\n",
              " 65.953,\n",
              " 58.083999999999996,\n",
              " 67.507,\n",
              " 64.068,\n",
              " 65.725,\n",
              " 62.07,\n",
              " 70.245,\n",
              " 63.885,\n",
              " 70.96300000000001,\n",
              " 66.212,\n",
              " 67.24600000000001,\n",
              " 71.979,\n",
              " 60.982000000000006,\n",
              " 73.95299999999999,\n",
              " 63.79200000000001,\n",
              " 67.05199999999999,\n",
              " 63.466,\n",
              " 62.381,\n",
              " 65.264,\n",
              " 57.261999999999986,\n",
              " 60.282,\n",
              " 58.208999999999996,\n",
              " 66.371,\n",
              " 61.43200000000001,\n",
              " 63.646,\n",
              " 55.409,\n",
              " 64.053,\n",
              " 70.164,\n",
              " 60.812,\n",
              " 62.391000000000005,\n",
              " 60.407999999999994,\n",
              " 59.108000000000004,\n",
              " 65.428,\n",
              " 63.31,\n",
              " 66.93299999999999,\n",
              " 62.386999999999986,\n",
              " 71.283,\n",
              " 61.176,\n",
              " 67.008,\n",
              " 67.84499999999998,\n",
              " 68.90799999999999,\n",
              " 67.879,\n",
              " 64.748,\n",
              " 64.013,\n",
              " 63.894,\n",
              " 64.208,\n",
              " 67.095,\n",
              " 57.254,\n",
              " 63.983999999999995,\n",
              " 71.23899999999999,\n",
              " 64.48500000000001,\n",
              " 65.80900000000001,\n",
              " 59.849999999999994,\n",
              " 66.979,\n",
              " 63.113,\n",
              " 65.459,\n",
              " 59.552,\n",
              " 61.745999999999995,\n",
              " 68.409,\n",
              " 73.30900000000001,\n",
              " 71.464,\n",
              " 63.473,\n",
              " 60.673,\n",
              " 63.791000000000004,\n",
              " 56.32200000000001,\n",
              " 63.553999999999995,\n",
              " 70.523,\n",
              " 64.109,\n",
              " 61.407,\n",
              " 64.872,\n",
              " 66.203,\n",
              " 67.549,\n",
              " 65.619,\n",
              " 61.396,\n",
              " 69.756,\n",
              " 63.486000000000004,\n",
              " 65.82900000000001,\n",
              " 62.602999999999994,\n",
              " 54.00899999999999,\n",
              " 67.48100000000001,\n",
              " 67.313,\n",
              " 69.327,\n",
              " 71.265,\n",
              " 56.17000000000001,\n",
              " 61.31499999999999,\n",
              " 59.33500000000001,\n",
              " 66.131,\n",
              " 66.968,\n",
              " 65.275,\n",
              " 63.922000000000004,\n",
              " 61.708999999999996,\n",
              " 67.901,\n",
              " 66.95100000000001,\n",
              " 66.429,\n",
              " 60.637,\n",
              " 65.194,\n",
              " 63.852,\n",
              " 67.39699999999999,\n",
              " 63.508999999999986,\n",
              " 66.509,\n",
              " 63.946,\n",
              " 59.924,\n",
              " 68.909,\n",
              " 69.625,\n",
              " 61.55900000000001,\n",
              " 58.948,\n",
              " 60.577,\n",
              " 59.809,\n",
              " 58.17,\n",
              " 55.428000000000004,\n",
              " 67.116,\n",
              " 64.186,\n",
              " 64.90599999999999,\n",
              " 68.31200000000001,\n",
              " 62.20199999999999,\n",
              " 57.459,\n",
              " 63.224,\n",
              " 65.88600000000001,\n",
              " 65.675,\n",
              " 57.364,\n",
              " 54.81399999999999,\n",
              " 68.815,\n",
              " 68.956,\n",
              " 60.86800000000001,\n",
              " 62.12000000000001,\n",
              " 69.288,\n",
              " 65.19800000000001,\n",
              " 64.593,\n",
              " 69.02300000000001,\n",
              " 68.795,\n",
              " 60.897999999999996,\n",
              " 58.81799999999999,\n",
              " 67.447,\n",
              " 64.515,\n",
              " 63.50500000000001,\n",
              " 70.131,\n",
              " 67.419,\n",
              " 65.85600000000001,\n",
              " 62.277,\n",
              " 59.085,\n",
              " 63.093999999999994,\n",
              " 63.157999999999994,\n",
              " 63.373000000000005,\n",
              " 65.118,\n",
              " 60.50100000000001,\n",
              " 68.592,\n",
              " 66.778,\n",
              " 62.528999999999996,\n",
              " 68.16199999999999,\n",
              " 63.248000000000005,\n",
              " 72.39699999999999,\n",
              " 70.85,\n",
              " 63.31099999999999,\n",
              " 66.244,\n",
              " 65.15599999999999,\n",
              " 61.049,\n",
              " 63.745,\n",
              " 68.16999999999999,\n",
              " 62.190999999999995,\n",
              " 67.502,\n",
              " 62.662,\n",
              " 65.335,\n",
              " 62.084999999999994,\n",
              " 64.04400000000001,\n",
              " 70.34599999999999,\n",
              " 61.173,\n",
              " 56.20400000000001,\n",
              " 56.512,\n",
              " 66.436,\n",
              " 65.819,\n",
              " 62.77499999999999,\n",
              " 63.79200000000001,\n",
              " 65.03200000000001,\n",
              " 58.956,\n",
              " 71.382,\n",
              " 62.894,\n",
              " 72.178,\n",
              " 62.050999999999995,\n",
              " 60.391000000000005,\n",
              " 61.038999999999994,\n",
              " 63.123000000000005,\n",
              " 71.758,\n",
              " 68.589,\n",
              " 66.233,\n",
              " 63.095,\n",
              " 68.47800000000001,\n",
              " 65.814,\n",
              " 55.873000000000005,\n",
              " 65.36800000000001,\n",
              " 60.003,\n",
              " 65.068,\n",
              " 59.63999999999999,\n",
              " 67.404,\n",
              " 67.00399999999999,\n",
              " 75.805,\n",
              " 67.808,\n",
              " 66.248,\n",
              " 72.7,\n",
              " 60.01600000000001,\n",
              " 68.40299999999998,\n",
              " 68.415,\n",
              " 56.717,\n",
              " 67.042,\n",
              " 64.156,\n",
              " 70.089,\n",
              " 65.775,\n",
              " 54.424,\n",
              " 73.52199999999999,\n",
              " 70.722,\n",
              " 72.524,\n",
              " 63.84799999999999,\n",
              " 65.82399999999998,\n",
              " 66.554,\n",
              " 59.736000000000004,\n",
              " 67.745,\n",
              " 69.01700000000001,\n",
              " 57.478,\n",
              " 67.877]"
            ]
          },
          "metadata": {},
          "execution_count": 187
        }
      ]
    },
    {
      "cell_type": "code",
      "execution_count": null,
      "id": "0f555917",
      "metadata": {
        "id": "0f555917",
        "colab": {
          "base_uri": "https://localhost:8080/",
          "height": 472
        },
        "outputId": "e8a8098c-4b56-42b5-e1d5-1b57240c13e6"
      },
      "outputs": [
        {
          "output_type": "display_data",
          "data": {
            "text/plain": [
              "<Figure size 640x480 with 1 Axes>"
            ],
            "image/png": "[encoded data removed]"
          },
          "metadata": {}
        }
      ],
      "source": [
        "# 표본 평균들의 분포를 시각화합니다.\n",
        "plt.hist(sample_means, bins=30, edgecolor='black')\n",
        "plt.title('Distribution of Sample Means')\n",
        "plt.xlabel('Sample Mean')\n",
        "plt.ylabel('Frequency')\n",
        "plt.show()"
      ]
    },
    {
      "cell_type": "markdown",
      "id": "4a7e5214",
      "metadata": {
        "id": "4a7e5214"
      },
      "source": [
        "## 층화 표집\n",
        "* 통계학에서, 층화표집(層化標集, Stratified sampling)은 모집단을 먼저 중복되지 않도록 층으로 나눈 다음 각 층에서 표본을 추출하는 방법이다. 층을 나눌 때 층내는 동질적(homogeneous), 층간은 이질적(heterogeneous) 특성을 가지도록 하면 적은 비용으로 더 정확한 추정을 할 수 있으며, 전체 모집단뿐만 아니라 각 층의 특성에 대한 추정도 할 수 있다는 장점이 있다. 각 층으로부터 표본을 추출할 때 단순임의 추출방법을 쓸 수도 있고 계통표집(systematic sampling) 등 다른 추출방법을 쓸 수도 있다. 또 필요에 따라 각 층을 다시 하위층으로 나누어 추출하는 다단계 층화 추출을 하기도 한다.\n",
        "* https://ko.wikipedia.org/wiki/층화표집\n",
        "* [sklearn.model\\_selection.train\\_test\\_split — scikit-learn 1.4.0 documentation](https://scikit-learn.org/stable/modules/generated/sklearn.model_selection.train_test_split.html#sklearn.model_selection.train_test_split)"
      ]
    },
    {
      "cell_type": "code",
      "execution_count": null,
      "id": "23713fed",
      "metadata": {
        "id": "23713fed",
        "colab": {
          "base_uri": "https://localhost:8080/",
          "height": 198
        },
        "outputId": "cdcbd560-ff4b-48c3-b481-3e29b738bb09"
      },
      "outputs": [
        {
          "output_type": "execute_result",
          "data": {
            "text/plain": [
              "            gender  SeniorCitizen Partner Dependents  tenure PhoneService  \\\n",
              "customerID                                                                  \n",
              "7590-VHVEG  Female              0     Yes         No       1           No   \n",
              "5575-GNVDE    Male              0      No         No      34          Yes   \n",
              "\n",
              "               MultipleLines InternetService OnlineSecurity OnlineBackup  \\\n",
              "customerID                                                                 \n",
              "7590-VHVEG  No phone service             DSL             No          Yes   \n",
              "5575-GNVDE                No             DSL            Yes           No   \n",
              "\n",
              "           DeviceProtection TechSupport StreamingTV StreamingMovies  \\\n",
              "customerID                                                            \n",
              "7590-VHVEG               No          No          No              No   \n",
              "5575-GNVDE              Yes          No          No              No   \n",
              "\n",
              "                  Contract PaperlessBilling     PaymentMethod  MonthlyCharges  \\\n",
              "customerID                                                                      \n",
              "7590-VHVEG  Month-to-month              Yes  Electronic check           29.85   \n",
              "5575-GNVDE        One year               No      Mailed check           56.95   \n",
              "\n",
              "            TotalCharges Churn  \n",
              "customerID                      \n",
              "7590-VHVEG         29.85    No  \n",
              "5575-GNVDE       1889.50    No  "
            ],
            "text/html": [
              "\n",
              "  <div id=\"df-d0946112-8f52-49e9-83bd-8911be97ec0f\" class=\"colab-df-container\">\n",
              "    <div>\n",
              "<style scoped>\n",
              "    .dataframe tbody tr th:only-of-type {\n",
              "        vertical-align: middle;\n",
              "    }\n",
              "\n",
              "    .dataframe tbody tr th {\n",
              "        vertical-align: top;\n",
              "    }\n",
              "\n",
              "    .dataframe thead th {\n",
              "        text-align: right;\n",
              "    }\n",
              "</style>\n",
              "<table border=\"1\" class=\"dataframe\">\n",
              "  <thead>\n",
              "    <tr style=\"text-align: right;\">\n",
              "      <th></th>\n",
              "      <th>gender</th>\n",
              "      <th>SeniorCitizen</th>\n",
              "      <th>Partner</th>\n",
              "      <th>Dependents</th>\n",
              "      <th>tenure</th>\n",
              "      <th>PhoneService</th>\n",
              "      <th>MultipleLines</th>\n",
              "      <th>InternetService</th>\n",
              "      <th>OnlineSecurity</th>\n",
              "      <th>OnlineBackup</th>\n",
              "      <th>DeviceProtection</th>\n",
              "      <th>TechSupport</th>\n",
              "      <th>StreamingTV</th>\n",
              "      <th>StreamingMovies</th>\n",
              "      <th>Contract</th>\n",
              "      <th>PaperlessBilling</th>\n",
              "      <th>PaymentMethod</th>\n",
              "      <th>MonthlyCharges</th>\n",
              "      <th>TotalCharges</th>\n",
              "      <th>Churn</th>\n",
              "    </tr>\n",
              "    <tr>\n",
              "      <th>customerID</th>\n",
              "      <th></th>\n",
              "      <th></th>\n",
              "      <th></th>\n",
              "      <th></th>\n",
              "      <th></th>\n",
              "      <th></th>\n",
              "      <th></th>\n",
              "      <th></th>\n",
              "      <th></th>\n",
              "      <th></th>\n",
              "      <th></th>\n",
              "      <th></th>\n",
              "      <th></th>\n",
              "      <th></th>\n",
              "      <th></th>\n",
              "      <th></th>\n",
              "      <th></th>\n",
              "      <th></th>\n",
              "      <th></th>\n",
              "      <th></th>\n",
              "    </tr>\n",
              "  </thead>\n",
              "  <tbody>\n",
              "    <tr>\n",
              "      <th>7590-VHVEG</th>\n",
              "      <td>Female</td>\n",
              "      <td>0</td>\n",
              "      <td>Yes</td>\n",
              "      <td>No</td>\n",
              "      <td>1</td>\n",
              "      <td>No</td>\n",
              "      <td>No phone service</td>\n",
              "      <td>DSL</td>\n",
              "      <td>No</td>\n",
              "      <td>Yes</td>\n",
              "      <td>No</td>\n",
              "      <td>No</td>\n",
              "      <td>No</td>\n",
              "      <td>No</td>\n",
              "      <td>Month-to-month</td>\n",
              "      <td>Yes</td>\n",
              "      <td>Electronic check</td>\n",
              "      <td>29.85</td>\n",
              "      <td>29.85</td>\n",
              "      <td>No</td>\n",
              "    </tr>\n",
              "    <tr>\n",
              "      <th>5575-GNVDE</th>\n",
              "      <td>Male</td>\n",
              "      <td>0</td>\n",
              "      <td>No</td>\n",
              "      <td>No</td>\n",
              "      <td>34</td>\n",
              "      <td>Yes</td>\n",
              "      <td>No</td>\n",
              "      <td>DSL</td>\n",
              "      <td>Yes</td>\n",
              "      <td>No</td>\n",
              "      <td>Yes</td>\n",
              "      <td>No</td>\n",
              "      <td>No</td>\n",
              "      <td>No</td>\n",
              "      <td>One year</td>\n",
              "      <td>No</td>\n",
              "      <td>Mailed check</td>\n",
              "      <td>56.95</td>\n",
              "      <td>1889.50</td>\n",
              "      <td>No</td>\n",
              "    </tr>\n",
              "  </tbody>\n",
              "</table>\n",
              "</div>\n",
              "    <div class=\"colab-df-buttons\">\n",
              "\n",
              "  <div class=\"colab-df-container\">\n",
              "    <button class=\"colab-df-convert\" onclick=\"convertToInteractive('df-d0946112-8f52-49e9-83bd-8911be97ec0f')\"\n",
              "            title=\"Convert this dataframe to an interactive table.\"\n",
              "            style=\"display:none;\">\n",
              "\n",
              "  <svg xmlns=\"http://www.w3.org/2000/svg\" height=\"24px\" viewBox=\"0 -960 960 960\">\n",
              "    <path d=\"M120-120v-720h720v720H120Zm60-500h600v-160H180v160Zm220 220h160v-160H400v160Zm0 220h160v-160H400v160ZM180-400h160v-160H180v160Zm440 0h160v-160H620v160ZM180-180h160v-160H180v160Zm440 0h160v-160H620v160Z\"/>\n",
              "  </svg>\n",
              "    </button>\n",
              "\n",
              "  <style>\n",
              "    .colab-df-container {\n",
              "      display:flex;\n",
              "      gap: 12px;\n",
              "    }\n",
              "\n",
              "    .colab-df-convert {\n",
              "      background-color: #E8F0FE;\n",
              "      border: none;\n",
              "      border-radius: 50%;\n",
              "      cursor: pointer;\n",
              "      display: none;\n",
              "      fill: #1967D2;\n",
              "      height: 32px;\n",
              "      padding: 0 0 0 0;\n",
              "      width: 32px;\n",
              "    }\n",
              "\n",
              "    .colab-df-convert:hover {\n",
              "      background-color: #E2EBFA;\n",
              "      box-shadow: 0px 1px 2px rgba(60, 64, 67, 0.3), 0px 1px 3px 1px rgba(60, 64, 67, 0.15);\n",
              "      fill: #174EA6;\n",
              "    }\n",
              "\n",
              "    .colab-df-buttons div {\n",
              "      margin-bottom: 4px;\n",
              "    }\n",
              "\n",
              "    [theme=dark] .colab-df-convert {\n",
              "      background-color: #3B4455;\n",
              "      fill: #D2E3FC;\n",
              "    }\n",
              "\n",
              "    [theme=dark] .colab-df-convert:hover {\n",
              "      background-color: #434B5C;\n",
              "      box-shadow: 0px 1px 3px 1px rgba(0, 0, 0, 0.15);\n",
              "      filter: drop-shadow(0px 1px 2px rgba(0, 0, 0, 0.3));\n",
              "      fill: #FFFFFF;\n",
              "    }\n",
              "  </style>\n",
              "\n",
              "    <script>\n",
              "      const buttonEl =\n",
              "        document.querySelector('#df-d0946112-8f52-49e9-83bd-8911be97ec0f button.colab-df-convert');\n",
              "      buttonEl.style.display =\n",
              "        google.colab.kernel.accessAllowed ? 'block' : 'none';\n",
              "\n",
              "      async function convertToInteractive(key) {\n",
              "        const element = document.querySelector('#df-d0946112-8f52-49e9-83bd-8911be97ec0f');\n",
              "        const dataTable =\n",
              "          await google.colab.kernel.invokeFunction('convertToInteractive',\n",
              "                                                    [key], {});\n",
              "        if (!dataTable) return;\n",
              "\n",
              "        const docLinkHtml = 'Like what you see? Visit the ' +\n",
              "          '<a target=\"_blank\" href=https://colab.research.google.com/notebooks/data_table.ipynb>data table notebook</a>'\n",
              "          + ' to learn more about interactive tables.';\n",
              "        element.innerHTML = '';\n",
              "        dataTable['output_type'] = 'display_data';\n",
              "        await google.colab.output.renderOutput(dataTable, element);\n",
              "        const docLink = document.createElement('div');\n",
              "        docLink.innerHTML = docLinkHtml;\n",
              "        element.appendChild(docLink);\n",
              "      }\n",
              "    </script>\n",
              "  </div>\n",
              "\n",
              "\n",
              "<div id=\"df-a43a0700-20a6-49be-90a9-a6e527d3fb5b\">\n",
              "  <button class=\"colab-df-quickchart\" onclick=\"quickchart('df-a43a0700-20a6-49be-90a9-a6e527d3fb5b')\"\n",
              "            title=\"Suggest charts\"\n",
              "            style=\"display:none;\">\n",
              "\n",
              "<svg xmlns=\"http://www.w3.org/2000/svg\" height=\"24px\"viewBox=\"0 0 24 24\"\n",
              "     width=\"24px\">\n",
              "    <g>\n",
              "        <path d=\"M19 3H5c-1.1 0-2 .9-2 2v14c0 1.1.9 2 2 2h14c1.1 0 2-.9 2-2V5c0-1.1-.9-2-2-2zM9 17H7v-7h2v7zm4 0h-2V7h2v10zm4 0h-2v-4h2v4z\"/>\n",
              "    </g>\n",
              "</svg>\n",
              "  </button>\n",
              "\n",
              "<style>\n",
              "  .colab-df-quickchart {\n",
              "      --bg-color: #E8F0FE;\n",
              "      --fill-color: #1967D2;\n",
              "      --hover-bg-color: #E2EBFA;\n",
              "      --hover-fill-color: #174EA6;\n",
              "      --disabled-fill-color: #AAA;\n",
              "      --disabled-bg-color: #DDD;\n",
              "  }\n",
              "\n",
              "  [theme=dark] .colab-df-quickchart {\n",
              "      --bg-color: #3B4455;\n",
              "      --fill-color: #D2E3FC;\n",
              "      --hover-bg-color: #434B5C;\n",
              "      --hover-fill-color: #FFFFFF;\n",
              "      --disabled-bg-color: #3B4455;\n",
              "      --disabled-fill-color: #666;\n",
              "  }\n",
              "\n",
              "  .colab-df-quickchart {\n",
              "    background-color: var(--bg-color);\n",
              "    border: none;\n",
              "    border-radius: 50%;\n",
              "    cursor: pointer;\n",
              "    display: none;\n",
              "    fill: var(--fill-color);\n",
              "    height: 32px;\n",
              "    padding: 0;\n",
              "    width: 32px;\n",
              "  }\n",
              "\n",
              "  .colab-df-quickchart:hover {\n",
              "    background-color: var(--hover-bg-color);\n",
              "    box-shadow: 0 1px 2px rgba(60, 64, 67, 0.3), 0 1px 3px 1px rgba(60, 64, 67, 0.15);\n",
              "    fill: var(--button-hover-fill-color);\n",
              "  }\n",
              "\n",
              "  .colab-df-quickchart-complete:disabled,\n",
              "  .colab-df-quickchart-complete:disabled:hover {\n",
              "    background-color: var(--disabled-bg-color);\n",
              "    fill: var(--disabled-fill-color);\n",
              "    box-shadow: none;\n",
              "  }\n",
              "\n",
              "  .colab-df-spinner {\n",
              "    border: 2px solid var(--fill-color);\n",
              "    border-color: transparent;\n",
              "    border-bottom-color: var(--fill-color);\n",
              "    animation:\n",
              "      spin 1s steps(1) infinite;\n",
              "  }\n",
              "\n",
              "  @keyframes spin {\n",
              "    0% {\n",
              "      border-color: transparent;\n",
              "      border-bottom-color: var(--fill-color);\n",
              "      border-left-color: var(--fill-color);\n",
              "    }\n",
              "    20% {\n",
              "      border-color: transparent;\n",
              "      border-left-color: var(--fill-color);\n",
              "      border-top-color: var(--fill-color);\n",
              "    }\n",
              "    30% {\n",
              "      border-color: transparent;\n",
              "      border-left-color: var(--fill-color);\n",
              "      border-top-color: var(--fill-color);\n",
              "      border-right-color: var(--fill-color);\n",
              "    }\n",
              "    40% {\n",
              "      border-color: transparent;\n",
              "      border-right-color: var(--fill-color);\n",
              "      border-top-color: var(--fill-color);\n",
              "    }\n",
              "    60% {\n",
              "      border-color: transparent;\n",
              "      border-right-color: var(--fill-color);\n",
              "    }\n",
              "    80% {\n",
              "      border-color: transparent;\n",
              "      border-right-color: var(--fill-color);\n",
              "      border-bottom-color: var(--fill-color);\n",
              "    }\n",
              "    90% {\n",
              "      border-color: transparent;\n",
              "      border-bottom-color: var(--fill-color);\n",
              "    }\n",
              "  }\n",
              "</style>\n",
              "\n",
              "  <script>\n",
              "    async function quickchart(key) {\n",
              "      const quickchartButtonEl =\n",
              "        document.querySelector('#' + key + ' button');\n",
              "      quickchartButtonEl.disabled = true;  // To prevent multiple clicks.\n",
              "      quickchartButtonEl.classList.add('colab-df-spinner');\n",
              "      try {\n",
              "        const charts = await google.colab.kernel.invokeFunction(\n",
              "            'suggestCharts', [key], {});\n",
              "      } catch (error) {\n",
              "        console.error('Error during call to suggestCharts:', error);\n",
              "      }\n",
              "      quickchartButtonEl.classList.remove('colab-df-spinner');\n",
              "      quickchartButtonEl.classList.add('colab-df-quickchart-complete');\n",
              "    }\n",
              "    (() => {\n",
              "      let quickchartButtonEl =\n",
              "        document.querySelector('#df-a43a0700-20a6-49be-90a9-a6e527d3fb5b button');\n",
              "      quickchartButtonEl.style.display =\n",
              "        google.colab.kernel.accessAllowed ? 'block' : 'none';\n",
              "    })();\n",
              "  </script>\n",
              "</div>\n",
              "    </div>\n",
              "  </div>\n"
            ]
          },
          "metadata": {},
          "execution_count": 189
        }
      ],
      "source": [
        "df.head(2)"
      ]
    },
    {
      "cell_type": "code",
      "source": [
        "df[\"Churn\"].value_counts(normalize=True)"
      ],
      "metadata": {
        "colab": {
          "base_uri": "https://localhost:8080/"
        },
        "id": "GSNWG7_xwXE-",
        "outputId": "bf8c1171-a9d0-4d2b-8856-1c952044fd41"
      },
      "id": "GSNWG7_xwXE-",
      "execution_count": null,
      "outputs": [
        {
          "output_type": "execute_result",
          "data": {
            "text/plain": [
              "No     0.73463\n",
              "Yes    0.26537\n",
              "Name: Churn, dtype: float64"
            ]
          },
          "metadata": {},
          "execution_count": 190
        }
      ]
    },
    {
      "cell_type": "code",
      "source": [
        "df[\"Churn\"].value_counts(1)"
      ],
      "metadata": {
        "colab": {
          "base_uri": "https://localhost:8080/"
        },
        "id": "i8FjtpLwwcWS",
        "outputId": "54fab27f-e941-4418-e032-860077103410"
      },
      "id": "i8FjtpLwwcWS",
      "execution_count": null,
      "outputs": [
        {
          "output_type": "execute_result",
          "data": {
            "text/plain": [
              "No     0.73463\n",
              "Yes    0.26537\n",
              "Name: Churn, dtype: float64"
            ]
          },
          "metadata": {},
          "execution_count": 191
        }
      ]
    },
    {
      "cell_type": "code",
      "execution_count": null,
      "id": "33bdbe99",
      "metadata": {
        "id": "33bdbe99"
      },
      "outputs": [],
      "source": [
        "# 층화표집 수행\n",
        "# stratified_sample\n",
        "\n",
        "from sklearn.model_selection import train_test_split\n",
        "\n",
        "X_train, X_test, y_train, y_test = train_test_split(df, df[\"Churn\"], test_size = 0.2, random_state=42, stratify = df[\"Churn\"])"
      ]
    },
    {
      "cell_type": "code",
      "execution_count": null,
      "id": "b2ec22ae",
      "metadata": {
        "id": "b2ec22ae",
        "colab": {
          "base_uri": "https://localhost:8080/"
        },
        "outputId": "8e84c07e-02ab-4917-d016-ed51f052e175"
      },
      "outputs": [
        {
          "output_type": "execute_result",
          "data": {
            "text/plain": [
              "No     5174\n",
              "Yes    1869\n",
              "Name: Churn, dtype: int64"
            ]
          },
          "metadata": {},
          "execution_count": 193
        }
      ],
      "source": [
        "# 전체 샘플 빈도\n",
        "df[\"Churn\"].value_counts()"
      ]
    },
    {
      "cell_type": "code",
      "execution_count": null,
      "id": "2e5c7448",
      "metadata": {
        "id": "2e5c7448",
        "colab": {
          "base_uri": "https://localhost:8080/"
        },
        "outputId": "3390ff3d-7e3e-467b-992c-44dbb4f4f034"
      },
      "outputs": [
        {
          "output_type": "execute_result",
          "data": {
            "text/plain": [
              "No     0.73463\n",
              "Yes    0.26537\n",
              "Name: Churn, dtype: float64"
            ]
          },
          "metadata": {},
          "execution_count": 194
        }
      ],
      "source": [
        "# 전체 샘플 빈도 비율\n",
        "df[\"Churn\"].value_counts(1)"
      ]
    },
    {
      "cell_type": "code",
      "execution_count": null,
      "id": "d8320df5",
      "metadata": {
        "id": "d8320df5",
        "colab": {
          "base_uri": "https://localhost:8080/"
        },
        "outputId": "365adc15-4c6e-4c7f-a2b6-b5af9f5f94e2"
      },
      "outputs": [
        {
          "output_type": "execute_result",
          "data": {
            "text/plain": [
              "No     0.734647\n",
              "Yes    0.265353\n",
              "Name: Churn, dtype: float64"
            ]
          },
          "metadata": {},
          "execution_count": 195
        }
      ],
      "source": [
        "# 층화 표집 빈도 비율\n",
        "X_train[\"Churn\"].value_counts(1)"
      ]
    },
    {
      "cell_type": "code",
      "source": [
        "X_test[\"Churn\"].value_counts(1)"
      ],
      "metadata": {
        "colab": {
          "base_uri": "https://localhost:8080/"
        },
        "id": "BsAOxBrCzHGx",
        "outputId": "640459d5-2fe6-4b1d-ce3a-682faf94c9b3"
      },
      "id": "BsAOxBrCzHGx",
      "execution_count": null,
      "outputs": [
        {
          "output_type": "execute_result",
          "data": {
            "text/plain": [
              "No     0.734564\n",
              "Yes    0.265436\n",
              "Name: Churn, dtype: float64"
            ]
          },
          "metadata": {},
          "execution_count": 196
        }
      ]
    },
    {
      "cell_type": "markdown",
      "id": "3444b617",
      "metadata": {
        "id": "3444b617"
      },
      "source": [
        "### 무선 표집을 통한 표본 분산으로 자유도 실습\n",
        "\n",
        "- **표본 분산 (Sample Variance)**: $s^2 = \\frac{1}{n-1}\\sum_{i=1}^{n}(x_i - \\bar{x})^2$\n",
        "  - 각 데이터 포인트와 평균의 차이의 제곱의 합을 자유도(n-1)로 나눈 값\n",
        "- [자유도 (통계학) - 위키백과, 우리 모두의 백과사전](https://ko.wikipedia.org/wiki/%EC%9E%90%EC%9C%A0%EB%8F%84_(%ED%86%B5%EA%B3%84%ED%95%99))\n",
        "\n",
        "#### 전체 표본"
      ]
    },
    {
      "cell_type": "code",
      "execution_count": null,
      "id": "d651adb2",
      "metadata": {
        "id": "d651adb2",
        "colab": {
          "base_uri": "https://localhost:8080/"
        },
        "outputId": "9439bf3d-fb13-4217-bd9b-955fc70edd28"
      },
      "outputs": [
        {
          "output_type": "execute_result",
          "data": {
            "text/plain": [
              "5137521.711318777"
            ]
          },
          "metadata": {},
          "execution_count": 197
        }
      ],
      "source": [
        "# var(ddof=0)\n",
        "df[\"TotalCharges\"].var(ddof=0)"
      ]
    },
    {
      "cell_type": "code",
      "execution_count": null,
      "id": "68f62900",
      "metadata": {
        "id": "68f62900",
        "colab": {
          "base_uri": "https://localhost:8080/"
        },
        "outputId": "ec119c7d-3a9d-4484-fbc2-f7fd7eaa7a38"
      },
      "outputs": [
        {
          "output_type": "execute_result",
          "data": {
            "text/plain": [
              "5138252.407053568"
            ]
          },
          "metadata": {},
          "execution_count": 198
        }
      ],
      "source": [
        "# var(ddof=1)\n",
        "df[\"TotalCharges\"].var(ddof=1)"
      ]
    },
    {
      "cell_type": "markdown",
      "id": "f358c206",
      "metadata": {
        "id": "f358c206"
      },
      "source": [
        "#### 무선 표집 표본"
      ]
    },
    {
      "cell_type": "code",
      "execution_count": null,
      "id": "90d14162",
      "metadata": {
        "id": "90d14162",
        "colab": {
          "base_uri": "https://localhost:8080/"
        },
        "outputId": "9d0400c7-e57b-4292-e73d-00e1f5a4b64e"
      },
      "outputs": [
        {
          "output_type": "execute_result",
          "data": {
            "text/plain": [
              "4943911.63755"
            ]
          },
          "metadata": {},
          "execution_count": 199
        }
      ],
      "source": [
        "# var(ddof=0)\n",
        "df[\"TotalCharges\"].sample(100).var(ddof=0)"
      ]
    },
    {
      "cell_type": "code",
      "execution_count": null,
      "id": "b9b711b5",
      "metadata": {
        "id": "b9b711b5",
        "colab": {
          "base_uri": "https://localhost:8080/"
        },
        "outputId": "4c4db0b1-ba53-45a2-b1aa-2949ac7fca66"
      },
      "outputs": [
        {
          "output_type": "execute_result",
          "data": {
            "text/plain": [
              "4531933.947619562"
            ]
          },
          "metadata": {},
          "execution_count": 200
        }
      ],
      "source": [
        "# var(ddof=1)\n",
        "df[\"TotalCharges\"].sample(100).var(ddof=1)"
      ]
    },
    {
      "cell_type": "markdown",
      "id": "491e4e54",
      "metadata": {
        "id": "491e4e54"
      },
      "source": [
        "## 점추정과 구간추정\n",
        "* 점추정\n",
        "    * 점추정은 모집단 매개변수(예: 평균, 비율)에 대한 단일 수치 추정치를 제공합니다.\n",
        "    * 월별 지출 데이터의 평균을 계산하여 점추정을 수행합니다.\n",
        "* 구간 추정\n",
        "    * 구간 추정은 모집단 매개변수가 포함될 것으로 예상되는 값의 범위를 제공합니다. 일반적으로 신뢰구간을 사용하여 표현합니다.\n",
        "    * 월별 지출 데이터에 대한 95% 신뢰구간을 계산합니다. 이를 위해 t-분포를 사용하며, 신뢰구간의 너비는 표본 크기, 표본 평균, 표본 표준편차에 따라 결정됩니다.\n",
        "## 신뢰 구간과 신뢰 수준"
      ]
    },
    {
      "cell_type": "code",
      "execution_count": null,
      "id": "077cd0b6",
      "metadata": {
        "id": "077cd0b6",
        "colab": {
          "base_uri": "https://localhost:8080/",
          "height": 467
        },
        "outputId": "43e154b0-9638-4165-ded0-ddcdafddb52c"
      },
      "outputs": [
        {
          "output_type": "execute_result",
          "data": {
            "text/plain": [
              "<Axes: xlabel='Churn', ylabel='MonthlyCharges'>"
            ]
          },
          "metadata": {},
          "execution_count": 201
        },
        {
          "output_type": "display_data",
          "data": {
            "text/plain": [
              "<Figure size 640x480 with 1 Axes>"
            ],
            "image/png": "[encoded data removed]"
          },
          "metadata": {}
        }
      ],
      "source": [
        "# 막대그래프를 통한 신뢰 구간 확인, 이탈률에 따른 월별 요금\n",
        "sns.barplot(data=df, x=\"Churn\", y=\"MonthlyCharges\", errorbar=\"ci\")"
      ]
    },
    {
      "cell_type": "code",
      "source": [
        "# sns.barplot?"
      ],
      "metadata": {
        "id": "CPIpx5ESMEuV"
      },
      "id": "CPIpx5ESMEuV",
      "execution_count": null,
      "outputs": []
    },
    {
      "cell_type": "code",
      "execution_count": null,
      "id": "cde23f58",
      "metadata": {
        "id": "cde23f58",
        "colab": {
          "base_uri": "https://localhost:8080/"
        },
        "outputId": "8a947563-0988-4848-a133-70c47cc4c8ae"
      },
      "outputs": [
        {
          "output_type": "stream",
          "name": "stdout",
          "text": [
            "64.76169246059918\n"
          ]
        },
        {
          "output_type": "execute_result",
          "data": {
            "text/plain": [
              "30.090047097678493"
            ]
          },
          "metadata": {},
          "execution_count": 203
        }
      ],
      "source": [
        "# 월별 지출(MonthlyCharges) 데이터 추출\n",
        "monthly_charges = df['MonthlyCharges']\n",
        "\n",
        "# 점추정: 월별 지출의 표본 평균 계산\n",
        "point_estimate = monthly_charges.mean()\n",
        "print(point_estimate)\n",
        "\n",
        "# 구간 추정: 95% 신뢰구간 계산\n",
        "# 표본 크기, 표본 평균, 표본 표준편차 계산\n",
        "sample_size  = len(monthly_charges)\n",
        "sample_mean = monthly_charges.mean()\n",
        "# 표본 표준편차 (자유도 n-1 사용)\n",
        "sample_std = np.std(monthly_charges, ddof=1)\n",
        "sample_std"
      ]
    },
    {
      "cell_type": "code",
      "source": [
        "# 분산 직접 계산\n",
        "variance = ((monthly_charges - monthly_charges.mean()) ** 2).sum()/len(monthly_charges)\n",
        "variance_dof = ((monthly_charges - monthly_charges.mean()) ** 2).sum()/(len(monthly_charges)-1)\n",
        "standard_deviation = variance**0.5\n",
        "\n",
        "print(\"분산: \", variance)\n",
        "print(\"분산(dof사용):\", variance_dof)\n",
        "print(\"표준편차: \", standard_deviation)"
      ],
      "metadata": {
        "colab": {
          "base_uri": "https://localhost:8080/"
        },
        "id": "_85Dg6tTQKuM",
        "outputId": "44c05fe1-a6fd-404f-a281-60ec5fdf26f9"
      },
      "id": "_85Dg6tTQKuM",
      "execution_count": null,
      "outputs": [
        {
          "output_type": "stream",
          "name": "stdout",
          "text": [
            "분산:  905.2823796146344\n",
            "분산(dof사용): 905.4109343405098\n",
            "표준편차:  30.087910854936975\n"
          ]
        }
      ]
    },
    {
      "cell_type": "markdown",
      "id": "19600a04",
      "metadata": {
        "id": "19600a04"
      },
      "source": [
        "### 신뢰 구간 계산    \n",
        "* 신뢰수준 설정(confidence_level)\n",
        "    * confidence_level = 0.95: 이는 신뢰구간이 모집단 매개변수를 포함할 확률을 95%로 설정한다는 것을 의미합니다. 즉, 신뢰구간 계산의 정확성을 95%로 가정합니다.\n",
        "\n",
        "* 알파 값 계산(alpha)\n",
        "    * alpha = 1 - confidence_level: 신뢰수준의 여완값으로, 1에서 신뢰수준을 뺀 값입니다. α는 1종 오류(귀무가설이 참인데 기각하는 오류)를 범할 확률을 나타냅니다. 여기서는 0.05(5%)입니다.\n",
        "    * 여완 값(Complement Value)은 통계학에서 특정 확률 값의 보완적인 부분을 나타내는 용어입니다. 특히, 가설 검정에서 중요한 개념인 유의수준(α)과 관련하여 자주 언급됩니다.\n",
        "    * 유의수준(α)은 귀무가설이 사실일 때 잘못해서 귀무가설을 기각할 확률입니다. 예를 들어, α가 0.05(5%)라면, 귀무가설이 참인 경우에도 5%의 확률로 귀무가설을 기각하는 실수를 할 수 있음을 의미합니다. 이때, 여완 값은 1에서 α 값을 뺀 것으로, α의 보완적인 부분을 나타냅니다. α가 0.05일 때, 여완 값은 1 - 0.05 = 0.95(95%)가 됩니다.\n",
        "    * 여완 값은 유의수준과 대비하여 어떤 사건이 발생하지 않을 확률을 나타내며, 통계적 검정에서 귀무가설을 기각하지 않을 확률을 의미합니다. 이를 통해 가설 검정에서 결과의 신뢰성이나 타당성을 평가하는 데 도움을 줍니다.\n",
        "\n",
        "* 임계값(t_critical) 계산\n",
        "    * t_critical = stats.t.ppf(1 - alpha/2, df=sample_size-1): t 분포의 임계값을 계산합니다. 이 값은 신뢰구간의 양 끝단을 결정하는 데 사용됩니다. α/2는 양측 검정에서 오류를 고려하는 것이며, df=sample_size-1는 자유도를 의미합니다(여기서 자유도는 표본 크기에서 1을 뺀 값).\n",
        "    * stats.t.ppf() 함수는 SciPy 라이브러리의 stats 모듈에 있는 함수로, t-분포의 퍼센트 포인트 함수(Percent Point Function, PPF)입니다. 이 함수는 주어진 확률에 대응하는 t-분포의 값(임계값)을 반환합니다.\n",
        "        * q: 확률입니다. 이는 t-분포의 누적 분포 함수(CDF)에서의 확률과 대응합니다.\n",
        "        * df: 자유도(degree of freedom)입니다. t-분포의 모양을 결정합니다.\n",
        "\n",
        "* 오차 한계(margin_of_error) 계산\n",
        "    * margin_of_error = t_critical * (sample_std / np.sqrt(sample_size)): 신뢰구간의 너비를 계산합니다. 이는 표본 평균 주위에서 얼마나 범위를 설정할 것인지를 결정합니다. 표본 표준편차와 표본 크기의 제곱근을 이용해 계산합니다.\n",
        "\n",
        "* 신뢰구간(confidence_interval) 계산\n",
        "    * confidence_interval = (sample_mean - margin_of_error, sample_mean + margin_of_error): 계산된 오차 한계를 표본 평균의 양쪽에 더하고 빼서 신뢰구간을 구합니다.\n",
        "\n",
        "* 점추정과 신뢰구간 반환\n",
        "    * point_estimate, confidence_interval: 점추정(표본 평균)과 계산된 신뢰구간을 반환합니다."
      ]
    },
    {
      "cell_type": "code",
      "execution_count": null,
      "id": "13fdf009",
      "metadata": {
        "id": "13fdf009",
        "colab": {
          "base_uri": "https://localhost:8080/"
        },
        "outputId": "91cefa0b-e3ee-4b56-dd3a-b2fe41ec5ad1"
      },
      "outputs": [
        {
          "output_type": "execute_result",
          "data": {
            "text/plain": [
              "(64.76169246059918, (64.05883579770197, 65.46454912349638))"
            ]
          },
          "metadata": {},
          "execution_count": 205
        }
      ],
      "source": [
        "# 신뢰구간 계산 (t-분포 사용)\n",
        "# stats.t.ppf 로 t_critical 구하기\n",
        "confidence_level = 0.95\n",
        "alpha = 1 - confidence_level\n",
        "\n",
        "t_critical = stats.t.ppf(1 - alpha/2, df=sample_size-1)  # t-분포의 임계값\n",
        "margin_of_error = t_critical * (sample_std / np.sqrt(sample_size))\n",
        "\n",
        "confidence_interval = (sample_mean - margin_of_error, sample_mean + margin_of_error)\n",
        "\n",
        "point_estimate, confidence_interval"
      ]
    },
    {
      "cell_type": "markdown",
      "id": "41ed3c98",
      "metadata": {
        "id": "41ed3c98"
      },
      "source": [
        "* 임계값 해석\n",
        "    * 위 예시에서 반환된 t_critical 값은 해당 자유도에서 t-분포의 상위 2.5% 지점에 해당하는 값을 의미합니다. 즉, t-분포 상에서 가장 극단적인 2.5% 값 중 하나입니다.\n",
        "    * 이 값은 t-검정과 같은 통계적 검정에서 귀무가설의 기각 여부를 결정하는 데 사용됩니다. 예를 들어, t-검정 통계량이 이 임계값을 초과하면 귀무가설을 기각합니다.\n",
        "* 비즈니스 및 연구에서의 응용\n",
        "    * stats.t.ppf() 함수는 연구나 비즈니스 의사결정에서 데이터의 유의성을 평가하는 데 사용됩니다.\n",
        "    * 예를 들어, 제품의 효과, 캠페인의 효율성, 시장 변화 등을 평가할 때 이 함수를 사용하여 유의한 결과를 얻을 수 있는 임계값을 설정할 수 있습니다"
      ]
    },
    {
      "cell_type": "code",
      "execution_count": null,
      "id": "47d6b1d2",
      "metadata": {
        "id": "47d6b1d2",
        "colab": {
          "base_uri": "https://localhost:8080/",
          "height": 467
        },
        "outputId": "091a098f-e94d-4543-d6a8-f1f4128dc8f3"
      },
      "outputs": [
        {
          "output_type": "execute_result",
          "data": {
            "text/plain": [
              "<Axes: xlabel='MonthlyCharges'>"
            ]
          },
          "metadata": {},
          "execution_count": 206
        },
        {
          "output_type": "display_data",
          "data": {
            "text/plain": [
              "<Figure size 640x480 with 1 Axes>"
            ],
            "image/png": "[encoded data removed]"
          },
          "metadata": {}
        }
      ],
      "source": [
        "# sns.barplot 으로 MonthlyCharges 신뢰 구간 확인하기\n",
        "sns.barplot(data=df, x=\"MonthlyCharges\")"
      ]
    },
    {
      "cell_type": "code",
      "execution_count": null,
      "id": "340fade0",
      "metadata": {
        "id": "340fade0",
        "colab": {
          "base_uri": "https://localhost:8080/",
          "height": 487
        },
        "outputId": "d1247bdf-518e-43c0-997c-72e8bedd0b0a"
      },
      "outputs": [
        {
          "output_type": "display_data",
          "data": {
            "text/plain": [
              "<Figure size 1000x500 with 1 Axes>"
            ],
            "image/png": "[encoded data removed]"
          },
          "metadata": {}
        }
      ],
      "source": [
        "import seaborn as sns\n",
        "import matplotlib.pyplot as plt\n",
        "import numpy as np\n",
        "from scipy.stats import norm\n",
        "\n",
        "plt.figure(figsize=(10, 5))\n",
        "sns.histplot(monthly_charges, bins=15, kde=True, color='skyblue', label='Monthly Charges', alpha=0.7, stat='density')\n",
        "xmin, xmax = plt.xlim()\n",
        "x = np.linspace(xmin, xmax, 100)\n",
        "p = norm.pdf(x, sample_mean, sample_std)\n",
        "plt.plot(x, p, 'k', linewidth=2, label='Normal Distribution')\n",
        "\n",
        "plt.axvline(sample_mean, color='red', linestyle='dashed', linewidth=2, label=f'Mean: {sample_mean:.2f}')\n",
        "plt.axvline(confidence_interval[0], color='green', linestyle='dashed', linewidth=2, label=f'Lower Bound: {confidence_interval[0]:.2f}')\n",
        "plt.axvline(confidence_interval[1], color='blue', linestyle='dashed', linewidth=2, label=f'Upper Bound: {confidence_interval[1]:.2f}')\n",
        "plt.xlabel('Monthly Charges')\n",
        "plt.ylabel('Density')\n",
        "plt.title('Monthly Charges Distribution with 95% Confidence Interval, Kernel Density Estimate, and Normal Distribution')\n",
        "plt.legend()\n",
        "plt.show()"
      ]
    },
    {
      "cell_type": "markdown",
      "id": "679143dc",
      "metadata": {
        "id": "679143dc"
      },
      "source": [
        "## z-score가 높은 상위 10% 고객의 이탈률 확인\n",
        "* 가설: 월별 요금(MonthlyCharges)이 높은 고객일수록 이탈(Churn) 확률이 높다.\n",
        "* 이 가설은 월별 요금이 고객의 이탈 결정에 영향을 미칠 수 있다는 것을 가정합니다.\n",
        "\n",
        "* z-score 계산: 월별 요금에 대해 평균(mean)과 표준편차(standard deviation)를 계산한 후, 각 데이터 포인트에 대해 z-score를 계산합니다.\n",
        "* z-score 공식:\n",
        "* z = (X−μ)/ σ\n",
        "\n",
        "* X는 개별 데이터 포인트, μ는 평균, σ는 표준편차입니다.\n",
        "* z-score는 데이터 포인트가 평균으로부터 표준편차의 몇 배만큼 떨어져 있는지를 나타냅니다."
      ]
    },
    {
      "cell_type": "code",
      "source": [
        "from sklearn.preprocessing import StandardScaler\n",
        "\n",
        "ss = StandardScaler()\n",
        "monthly_charges_ss = ss.fit_transform(df[[\"MonthlyCharges\"]])\n",
        "pd.DataFrame(monthly_charges_ss).describe()"
      ],
      "metadata": {
        "colab": {
          "base_uri": "https://localhost:8080/",
          "height": 300
        },
        "id": "_EgQtziyaltK",
        "outputId": "d7f6ea53-996d-42d0-a716-eeedc16f6e24"
      },
      "id": "_EgQtziyaltK",
      "execution_count": null,
      "outputs": [
        {
          "output_type": "execute_result",
          "data": {
            "text/plain": [
              "                  0\n",
              "count  7.043000e+03\n",
              "mean  -6.406285e-17\n",
              "std    1.000071e+00\n",
              "min   -1.545860e+00\n",
              "25%   -9.725399e-01\n",
              "50%    1.857327e-01\n",
              "75%    8.338335e-01\n",
              "max    1.794352e+00"
            ],
            "text/html": [
              "\n",
              "  <div id=\"df-1681fa5c-36d3-4361-8772-48128408eaa3\" class=\"colab-df-container\">\n",
              "    <div>\n",
              "<style scoped>\n",
              "    .dataframe tbody tr th:only-of-type {\n",
              "        vertical-align: middle;\n",
              "    }\n",
              "\n",
              "    .dataframe tbody tr th {\n",
              "        vertical-align: top;\n",
              "    }\n",
              "\n",
              "    .dataframe thead th {\n",
              "        text-align: right;\n",
              "    }\n",
              "</style>\n",
              "<table border=\"1\" class=\"dataframe\">\n",
              "  <thead>\n",
              "    <tr style=\"text-align: right;\">\n",
              "      <th></th>\n",
              "      <th>0</th>\n",
              "    </tr>\n",
              "  </thead>\n",
              "  <tbody>\n",
              "    <tr>\n",
              "      <th>count</th>\n",
              "      <td>7.043000e+03</td>\n",
              "    </tr>\n",
              "    <tr>\n",
              "      <th>mean</th>\n",
              "      <td>-6.406285e-17</td>\n",
              "    </tr>\n",
              "    <tr>\n",
              "      <th>std</th>\n",
              "      <td>1.000071e+00</td>\n",
              "    </tr>\n",
              "    <tr>\n",
              "      <th>min</th>\n",
              "      <td>-1.545860e+00</td>\n",
              "    </tr>\n",
              "    <tr>\n",
              "      <th>25%</th>\n",
              "      <td>-9.725399e-01</td>\n",
              "    </tr>\n",
              "    <tr>\n",
              "      <th>50%</th>\n",
              "      <td>1.857327e-01</td>\n",
              "    </tr>\n",
              "    <tr>\n",
              "      <th>75%</th>\n",
              "      <td>8.338335e-01</td>\n",
              "    </tr>\n",
              "    <tr>\n",
              "      <th>max</th>\n",
              "      <td>1.794352e+00</td>\n",
              "    </tr>\n",
              "  </tbody>\n",
              "</table>\n",
              "</div>\n",
              "    <div class=\"colab-df-buttons\">\n",
              "\n",
              "  <div class=\"colab-df-container\">\n",
              "    <button class=\"colab-df-convert\" onclick=\"convertToInteractive('df-1681fa5c-36d3-4361-8772-48128408eaa3')\"\n",
              "            title=\"Convert this dataframe to an interactive table.\"\n",
              "            style=\"display:none;\">\n",
              "\n",
              "  <svg xmlns=\"http://www.w3.org/2000/svg\" height=\"24px\" viewBox=\"0 -960 960 960\">\n",
              "    <path d=\"M120-120v-720h720v720H120Zm60-500h600v-160H180v160Zm220 220h160v-160H400v160Zm0 220h160v-160H400v160ZM180-400h160v-160H180v160Zm440 0h160v-160H620v160ZM180-180h160v-160H180v160Zm440 0h160v-160H620v160Z\"/>\n",
              "  </svg>\n",
              "    </button>\n",
              "\n",
              "  <style>\n",
              "    .colab-df-container {\n",
              "      display:flex;\n",
              "      gap: 12px;\n",
              "    }\n",
              "\n",
              "    .colab-df-convert {\n",
              "      background-color: #E8F0FE;\n",
              "      border: none;\n",
              "      border-radius: 50%;\n",
              "      cursor: pointer;\n",
              "      display: none;\n",
              "      fill: #1967D2;\n",
              "      height: 32px;\n",
              "      padding: 0 0 0 0;\n",
              "      width: 32px;\n",
              "    }\n",
              "\n",
              "    .colab-df-convert:hover {\n",
              "      background-color: #E2EBFA;\n",
              "      box-shadow: 0px 1px 2px rgba(60, 64, 67, 0.3), 0px 1px 3px 1px rgba(60, 64, 67, 0.15);\n",
              "      fill: #174EA6;\n",
              "    }\n",
              "\n",
              "    .colab-df-buttons div {\n",
              "      margin-bottom: 4px;\n",
              "    }\n",
              "\n",
              "    [theme=dark] .colab-df-convert {\n",
              "      background-color: #3B4455;\n",
              "      fill: #D2E3FC;\n",
              "    }\n",
              "\n",
              "    [theme=dark] .colab-df-convert:hover {\n",
              "      background-color: #434B5C;\n",
              "      box-shadow: 0px 1px 3px 1px rgba(0, 0, 0, 0.15);\n",
              "      filter: drop-shadow(0px 1px 2px rgba(0, 0, 0, 0.3));\n",
              "      fill: #FFFFFF;\n",
              "    }\n",
              "  </style>\n",
              "\n",
              "    <script>\n",
              "      const buttonEl =\n",
              "        document.querySelector('#df-1681fa5c-36d3-4361-8772-48128408eaa3 button.colab-df-convert');\n",
              "      buttonEl.style.display =\n",
              "        google.colab.kernel.accessAllowed ? 'block' : 'none';\n",
              "\n",
              "      async function convertToInteractive(key) {\n",
              "        const element = document.querySelector('#df-1681fa5c-36d3-4361-8772-48128408eaa3');\n",
              "        const dataTable =\n",
              "          await google.colab.kernel.invokeFunction('convertToInteractive',\n",
              "                                                    [key], {});\n",
              "        if (!dataTable) return;\n",
              "\n",
              "        const docLinkHtml = 'Like what you see? Visit the ' +\n",
              "          '<a target=\"_blank\" href=https://colab.research.google.com/notebooks/data_table.ipynb>data table notebook</a>'\n",
              "          + ' to learn more about interactive tables.';\n",
              "        element.innerHTML = '';\n",
              "        dataTable['output_type'] = 'display_data';\n",
              "        await google.colab.output.renderOutput(dataTable, element);\n",
              "        const docLink = document.createElement('div');\n",
              "        docLink.innerHTML = docLinkHtml;\n",
              "        element.appendChild(docLink);\n",
              "      }\n",
              "    </script>\n",
              "  </div>\n",
              "\n",
              "\n",
              "<div id=\"df-41f227dc-1e67-4522-92b5-fb2a9dce07cd\">\n",
              "  <button class=\"colab-df-quickchart\" onclick=\"quickchart('df-41f227dc-1e67-4522-92b5-fb2a9dce07cd')\"\n",
              "            title=\"Suggest charts\"\n",
              "            style=\"display:none;\">\n",
              "\n",
              "<svg xmlns=\"http://www.w3.org/2000/svg\" height=\"24px\"viewBox=\"0 0 24 24\"\n",
              "     width=\"24px\">\n",
              "    <g>\n",
              "        <path d=\"M19 3H5c-1.1 0-2 .9-2 2v14c0 1.1.9 2 2 2h14c1.1 0 2-.9 2-2V5c0-1.1-.9-2-2-2zM9 17H7v-7h2v7zm4 0h-2V7h2v10zm4 0h-2v-4h2v4z\"/>\n",
              "    </g>\n",
              "</svg>\n",
              "  </button>\n",
              "\n",
              "<style>\n",
              "  .colab-df-quickchart {\n",
              "      --bg-color: #E8F0FE;\n",
              "      --fill-color: #1967D2;\n",
              "      --hover-bg-color: #E2EBFA;\n",
              "      --hover-fill-color: #174EA6;\n",
              "      --disabled-fill-color: #AAA;\n",
              "      --disabled-bg-color: #DDD;\n",
              "  }\n",
              "\n",
              "  [theme=dark] .colab-df-quickchart {\n",
              "      --bg-color: #3B4455;\n",
              "      --fill-color: #D2E3FC;\n",
              "      --hover-bg-color: #434B5C;\n",
              "      --hover-fill-color: #FFFFFF;\n",
              "      --disabled-bg-color: #3B4455;\n",
              "      --disabled-fill-color: #666;\n",
              "  }\n",
              "\n",
              "  .colab-df-quickchart {\n",
              "    background-color: var(--bg-color);\n",
              "    border: none;\n",
              "    border-radius: 50%;\n",
              "    cursor: pointer;\n",
              "    display: none;\n",
              "    fill: var(--fill-color);\n",
              "    height: 32px;\n",
              "    padding: 0;\n",
              "    width: 32px;\n",
              "  }\n",
              "\n",
              "  .colab-df-quickchart:hover {\n",
              "    background-color: var(--hover-bg-color);\n",
              "    box-shadow: 0 1px 2px rgba(60, 64, 67, 0.3), 0 1px 3px 1px rgba(60, 64, 67, 0.15);\n",
              "    fill: var(--button-hover-fill-color);\n",
              "  }\n",
              "\n",
              "  .colab-df-quickchart-complete:disabled,\n",
              "  .colab-df-quickchart-complete:disabled:hover {\n",
              "    background-color: var(--disabled-bg-color);\n",
              "    fill: var(--disabled-fill-color);\n",
              "    box-shadow: none;\n",
              "  }\n",
              "\n",
              "  .colab-df-spinner {\n",
              "    border: 2px solid var(--fill-color);\n",
              "    border-color: transparent;\n",
              "    border-bottom-color: var(--fill-color);\n",
              "    animation:\n",
              "      spin 1s steps(1) infinite;\n",
              "  }\n",
              "\n",
              "  @keyframes spin {\n",
              "    0% {\n",
              "      border-color: transparent;\n",
              "      border-bottom-color: var(--fill-color);\n",
              "      border-left-color: var(--fill-color);\n",
              "    }\n",
              "    20% {\n",
              "      border-color: transparent;\n",
              "      border-left-color: var(--fill-color);\n",
              "      border-top-color: var(--fill-color);\n",
              "    }\n",
              "    30% {\n",
              "      border-color: transparent;\n",
              "      border-left-color: var(--fill-color);\n",
              "      border-top-color: var(--fill-color);\n",
              "      border-right-color: var(--fill-color);\n",
              "    }\n",
              "    40% {\n",
              "      border-color: transparent;\n",
              "      border-right-color: var(--fill-color);\n",
              "      border-top-color: var(--fill-color);\n",
              "    }\n",
              "    60% {\n",
              "      border-color: transparent;\n",
              "      border-right-color: var(--fill-color);\n",
              "    }\n",
              "    80% {\n",
              "      border-color: transparent;\n",
              "      border-right-color: var(--fill-color);\n",
              "      border-bottom-color: var(--fill-color);\n",
              "    }\n",
              "    90% {\n",
              "      border-color: transparent;\n",
              "      border-bottom-color: var(--fill-color);\n",
              "    }\n",
              "  }\n",
              "</style>\n",
              "\n",
              "  <script>\n",
              "    async function quickchart(key) {\n",
              "      const quickchartButtonEl =\n",
              "        document.querySelector('#' + key + ' button');\n",
              "      quickchartButtonEl.disabled = true;  // To prevent multiple clicks.\n",
              "      quickchartButtonEl.classList.add('colab-df-spinner');\n",
              "      try {\n",
              "        const charts = await google.colab.kernel.invokeFunction(\n",
              "            'suggestCharts', [key], {});\n",
              "      } catch (error) {\n",
              "        console.error('Error during call to suggestCharts:', error);\n",
              "      }\n",
              "      quickchartButtonEl.classList.remove('colab-df-spinner');\n",
              "      quickchartButtonEl.classList.add('colab-df-quickchart-complete');\n",
              "    }\n",
              "    (() => {\n",
              "      let quickchartButtonEl =\n",
              "        document.querySelector('#df-41f227dc-1e67-4522-92b5-fb2a9dce07cd button');\n",
              "      quickchartButtonEl.style.display =\n",
              "        google.colab.kernel.accessAllowed ? 'block' : 'none';\n",
              "    })();\n",
              "  </script>\n",
              "</div>\n",
              "    </div>\n",
              "  </div>\n"
            ]
          },
          "metadata": {},
          "execution_count": 117
        }
      ]
    },
    {
      "cell_type": "code",
      "execution_count": null,
      "id": "fb9e1b3c",
      "metadata": {
        "id": "fb9e1b3c",
        "colab": {
          "base_uri": "https://localhost:8080/",
          "height": 705
        },
        "outputId": "03b970f0-05e0-42cc-885a-c0095e7ce38b"
      },
      "outputs": [
        {
          "output_type": "stream",
          "name": "stdout",
          "text": [
            "평균:  -6.406284782161914e-17\n",
            "표준편차:  0.9999999999999999\n"
          ]
        },
        {
          "output_type": "execute_result",
          "data": {
            "text/plain": [
              "customerID\n",
              "7590-VHVEG     No\n",
              "5575-GNVDE     No\n",
              "3668-QPYBK    Yes\n",
              "7795-CFOCW     No\n",
              "9237-HQITU    Yes\n",
              "             ... \n",
              "6840-RESVB     No\n",
              "2234-XADUH     No\n",
              "4801-JZAZL     No\n",
              "8361-LTMKD    Yes\n",
              "3186-AJIEK     No\n",
              "Name: Churn, Length: 7043, dtype: object"
            ]
          },
          "metadata": {},
          "execution_count": 127
        },
        {
          "output_type": "display_data",
          "data": {
            "text/plain": [
              "<Figure size 640x480 with 1 Axes>"
            ],
            "image/png": "[encoded data removed]"
          },
          "metadata": {}
        }
      ],
      "source": [
        "# 비즈니스 가설 설정\n",
        "# 가설: \"월별 요금(MonthlyCharges)이 높은 고객일수록 이탈(Churn) 확률이 높다.\"\n",
        "\n",
        "# z-score 계산\n",
        "# 월별 요금(MonthlyCharges)에 대한 평균과 표준편차\n",
        "\n",
        "# 월별 요금에 대한 z-score 계산\n",
        "# z = (X−μ)/ σ (X는 개별 데이터 포인트, μ는 평균, σ는 표준편차)\n",
        "target = df[\"MonthlyCharges\"]\n",
        "df['MonthlyCharges_z'] = (target - target.mean())/target.std()\n",
        "\n",
        "print(\"평균: \", df[\"MonthlyCharges_z\"].mean())\n",
        "print(\"표준편차: \", df[\"MonthlyCharges_z\"].std())\n",
        "df[\"MonthlyCharges_z\"].plot(kind=\"hist\")"
      ]
    },
    {
      "cell_type": "code",
      "source": [
        "fig, ax = plt.subplots(1, 2, figsize=(10, 5))\n",
        "\n",
        "sns.histplot(x=\"MonthlyCharges\", hue=\"Churn\", data=df, kde=False, ax=ax[0])\n",
        "sns.histplot(x=\"MonthlyCharges_z\", hue=\"Churn\", data=df, kde=False, ax=ax[1])\n",
        "\n",
        "plt.show()"
      ],
      "metadata": {
        "colab": {
          "base_uri": "https://localhost:8080/",
          "height": 465
        },
        "id": "ajrUxL0iezsG",
        "outputId": "630f3ccd-ce43-49cb-9a93-77df0c6e1412"
      },
      "id": "ajrUxL0iezsG",
      "execution_count": null,
      "outputs": [
        {
          "output_type": "display_data",
          "data": {
            "text/plain": [
              "<Figure size 1000x500 with 2 Axes>"
            ],
            "image/png": "[encoded data removed]"
          },
          "metadata": {}
        }
      ]
    },
    {
      "cell_type": "code",
      "execution_count": null,
      "id": "e728497b",
      "metadata": {
        "id": "e728497b",
        "colab": {
          "base_uri": "https://localhost:8080/",
          "height": 314
        },
        "outputId": "4cf0e970-eea2-4cdf-b29b-7d6f573b4c3e"
      },
      "outputs": [
        {
          "output_type": "display_data",
          "data": {
            "text/plain": [
              "<Figure size 800x300 with 2 Axes>"
            ],
            "image/png": "[encoded data removed]"
          },
          "metadata": {}
        }
      ],
      "source": [
        "# hist\n",
        "df[[\"MonthlyCharges\", \"MonthlyCharges_z\"]].hist(figsize=(8, 3), bins=50);"
      ]
    },
    {
      "cell_type": "code",
      "execution_count": null,
      "id": "859d3239",
      "metadata": {
        "id": "859d3239",
        "colab": {
          "base_uri": "https://localhost:8080/",
          "height": 300
        },
        "outputId": "278136c3-16f3-4658-f3a5-4429ea478bf0"
      },
      "outputs": [
        {
          "output_type": "execute_result",
          "data": {
            "text/plain": [
              "       MonthlyCharges  MonthlyCharges_z\n",
              "count     7043.000000      7.043000e+03\n",
              "mean        64.761692     -6.406285e-17\n",
              "std         30.090047      1.000000e+00\n",
              "min         18.250000     -1.545750e+00\n",
              "25%         35.500000     -9.724708e-01\n",
              "50%         70.350000      1.857195e-01\n",
              "75%         89.850000      8.337743e-01\n",
              "max        118.750000      1.794225e+00"
            ],
            "text/html": [
              "\n",
              "  <div id=\"df-c36b5177-8bbb-4c36-92ea-d422b01166b8\" class=\"colab-df-container\">\n",
              "    <div>\n",
              "<style scoped>\n",
              "    .dataframe tbody tr th:only-of-type {\n",
              "        vertical-align: middle;\n",
              "    }\n",
              "\n",
              "    .dataframe tbody tr th {\n",
              "        vertical-align: top;\n",
              "    }\n",
              "\n",
              "    .dataframe thead th {\n",
              "        text-align: right;\n",
              "    }\n",
              "</style>\n",
              "<table border=\"1\" class=\"dataframe\">\n",
              "  <thead>\n",
              "    <tr style=\"text-align: right;\">\n",
              "      <th></th>\n",
              "      <th>MonthlyCharges</th>\n",
              "      <th>MonthlyCharges_z</th>\n",
              "    </tr>\n",
              "  </thead>\n",
              "  <tbody>\n",
              "    <tr>\n",
              "      <th>count</th>\n",
              "      <td>7043.000000</td>\n",
              "      <td>7.043000e+03</td>\n",
              "    </tr>\n",
              "    <tr>\n",
              "      <th>mean</th>\n",
              "      <td>64.761692</td>\n",
              "      <td>-6.406285e-17</td>\n",
              "    </tr>\n",
              "    <tr>\n",
              "      <th>std</th>\n",
              "      <td>30.090047</td>\n",
              "      <td>1.000000e+00</td>\n",
              "    </tr>\n",
              "    <tr>\n",
              "      <th>min</th>\n",
              "      <td>18.250000</td>\n",
              "      <td>-1.545750e+00</td>\n",
              "    </tr>\n",
              "    <tr>\n",
              "      <th>25%</th>\n",
              "      <td>35.500000</td>\n",
              "      <td>-9.724708e-01</td>\n",
              "    </tr>\n",
              "    <tr>\n",
              "      <th>50%</th>\n",
              "      <td>70.350000</td>\n",
              "      <td>1.857195e-01</td>\n",
              "    </tr>\n",
              "    <tr>\n",
              "      <th>75%</th>\n",
              "      <td>89.850000</td>\n",
              "      <td>8.337743e-01</td>\n",
              "    </tr>\n",
              "    <tr>\n",
              "      <th>max</th>\n",
              "      <td>118.750000</td>\n",
              "      <td>1.794225e+00</td>\n",
              "    </tr>\n",
              "  </tbody>\n",
              "</table>\n",
              "</div>\n",
              "    <div class=\"colab-df-buttons\">\n",
              "\n",
              "  <div class=\"colab-df-container\">\n",
              "    <button class=\"colab-df-convert\" onclick=\"convertToInteractive('df-c36b5177-8bbb-4c36-92ea-d422b01166b8')\"\n",
              "            title=\"Convert this dataframe to an interactive table.\"\n",
              "            style=\"display:none;\">\n",
              "\n",
              "  <svg xmlns=\"http://www.w3.org/2000/svg\" height=\"24px\" viewBox=\"0 -960 960 960\">\n",
              "    <path d=\"M120-120v-720h720v720H120Zm60-500h600v-160H180v160Zm220 220h160v-160H400v160Zm0 220h160v-160H400v160ZM180-400h160v-160H180v160Zm440 0h160v-160H620v160ZM180-180h160v-160H180v160Zm440 0h160v-160H620v160Z\"/>\n",
              "  </svg>\n",
              "    </button>\n",
              "\n",
              "  <style>\n",
              "    .colab-df-container {\n",
              "      display:flex;\n",
              "      gap: 12px;\n",
              "    }\n",
              "\n",
              "    .colab-df-convert {\n",
              "      background-color: #E8F0FE;\n",
              "      border: none;\n",
              "      border-radius: 50%;\n",
              "      cursor: pointer;\n",
              "      display: none;\n",
              "      fill: #1967D2;\n",
              "      height: 32px;\n",
              "      padding: 0 0 0 0;\n",
              "      width: 32px;\n",
              "    }\n",
              "\n",
              "    .colab-df-convert:hover {\n",
              "      background-color: #E2EBFA;\n",
              "      box-shadow: 0px 1px 2px rgba(60, 64, 67, 0.3), 0px 1px 3px 1px rgba(60, 64, 67, 0.15);\n",
              "      fill: #174EA6;\n",
              "    }\n",
              "\n",
              "    .colab-df-buttons div {\n",
              "      margin-bottom: 4px;\n",
              "    }\n",
              "\n",
              "    [theme=dark] .colab-df-convert {\n",
              "      background-color: #3B4455;\n",
              "      fill: #D2E3FC;\n",
              "    }\n",
              "\n",
              "    [theme=dark] .colab-df-convert:hover {\n",
              "      background-color: #434B5C;\n",
              "      box-shadow: 0px 1px 3px 1px rgba(0, 0, 0, 0.15);\n",
              "      filter: drop-shadow(0px 1px 2px rgba(0, 0, 0, 0.3));\n",
              "      fill: #FFFFFF;\n",
              "    }\n",
              "  </style>\n",
              "\n",
              "    <script>\n",
              "      const buttonEl =\n",
              "        document.querySelector('#df-c36b5177-8bbb-4c36-92ea-d422b01166b8 button.colab-df-convert');\n",
              "      buttonEl.style.display =\n",
              "        google.colab.kernel.accessAllowed ? 'block' : 'none';\n",
              "\n",
              "      async function convertToInteractive(key) {\n",
              "        const element = document.querySelector('#df-c36b5177-8bbb-4c36-92ea-d422b01166b8');\n",
              "        const dataTable =\n",
              "          await google.colab.kernel.invokeFunction('convertToInteractive',\n",
              "                                                    [key], {});\n",
              "        if (!dataTable) return;\n",
              "\n",
              "        const docLinkHtml = 'Like what you see? Visit the ' +\n",
              "          '<a target=\"_blank\" href=https://colab.research.google.com/notebooks/data_table.ipynb>data table notebook</a>'\n",
              "          + ' to learn more about interactive tables.';\n",
              "        element.innerHTML = '';\n",
              "        dataTable['output_type'] = 'display_data';\n",
              "        await google.colab.output.renderOutput(dataTable, element);\n",
              "        const docLink = document.createElement('div');\n",
              "        docLink.innerHTML = docLinkHtml;\n",
              "        element.appendChild(docLink);\n",
              "      }\n",
              "    </script>\n",
              "  </div>\n",
              "\n",
              "\n",
              "<div id=\"df-ac6a1d8d-8ba4-4e42-bec8-32a1a326267a\">\n",
              "  <button class=\"colab-df-quickchart\" onclick=\"quickchart('df-ac6a1d8d-8ba4-4e42-bec8-32a1a326267a')\"\n",
              "            title=\"Suggest charts\"\n",
              "            style=\"display:none;\">\n",
              "\n",
              "<svg xmlns=\"http://www.w3.org/2000/svg\" height=\"24px\"viewBox=\"0 0 24 24\"\n",
              "     width=\"24px\">\n",
              "    <g>\n",
              "        <path d=\"M19 3H5c-1.1 0-2 .9-2 2v14c0 1.1.9 2 2 2h14c1.1 0 2-.9 2-2V5c0-1.1-.9-2-2-2zM9 17H7v-7h2v7zm4 0h-2V7h2v10zm4 0h-2v-4h2v4z\"/>\n",
              "    </g>\n",
              "</svg>\n",
              "  </button>\n",
              "\n",
              "<style>\n",
              "  .colab-df-quickchart {\n",
              "      --bg-color: #E8F0FE;\n",
              "      --fill-color: #1967D2;\n",
              "      --hover-bg-color: #E2EBFA;\n",
              "      --hover-fill-color: #174EA6;\n",
              "      --disabled-fill-color: #AAA;\n",
              "      --disabled-bg-color: #DDD;\n",
              "  }\n",
              "\n",
              "  [theme=dark] .colab-df-quickchart {\n",
              "      --bg-color: #3B4455;\n",
              "      --fill-color: #D2E3FC;\n",
              "      --hover-bg-color: #434B5C;\n",
              "      --hover-fill-color: #FFFFFF;\n",
              "      --disabled-bg-color: #3B4455;\n",
              "      --disabled-fill-color: #666;\n",
              "  }\n",
              "\n",
              "  .colab-df-quickchart {\n",
              "    background-color: var(--bg-color);\n",
              "    border: none;\n",
              "    border-radius: 50%;\n",
              "    cursor: pointer;\n",
              "    display: none;\n",
              "    fill: var(--fill-color);\n",
              "    height: 32px;\n",
              "    padding: 0;\n",
              "    width: 32px;\n",
              "  }\n",
              "\n",
              "  .colab-df-quickchart:hover {\n",
              "    background-color: var(--hover-bg-color);\n",
              "    box-shadow: 0 1px 2px rgba(60, 64, 67, 0.3), 0 1px 3px 1px rgba(60, 64, 67, 0.15);\n",
              "    fill: var(--button-hover-fill-color);\n",
              "  }\n",
              "\n",
              "  .colab-df-quickchart-complete:disabled,\n",
              "  .colab-df-quickchart-complete:disabled:hover {\n",
              "    background-color: var(--disabled-bg-color);\n",
              "    fill: var(--disabled-fill-color);\n",
              "    box-shadow: none;\n",
              "  }\n",
              "\n",
              "  .colab-df-spinner {\n",
              "    border: 2px solid var(--fill-color);\n",
              "    border-color: transparent;\n",
              "    border-bottom-color: var(--fill-color);\n",
              "    animation:\n",
              "      spin 1s steps(1) infinite;\n",
              "  }\n",
              "\n",
              "  @keyframes spin {\n",
              "    0% {\n",
              "      border-color: transparent;\n",
              "      border-bottom-color: var(--fill-color);\n",
              "      border-left-color: var(--fill-color);\n",
              "    }\n",
              "    20% {\n",
              "      border-color: transparent;\n",
              "      border-left-color: var(--fill-color);\n",
              "      border-top-color: var(--fill-color);\n",
              "    }\n",
              "    30% {\n",
              "      border-color: transparent;\n",
              "      border-left-color: var(--fill-color);\n",
              "      border-top-color: var(--fill-color);\n",
              "      border-right-color: var(--fill-color);\n",
              "    }\n",
              "    40% {\n",
              "      border-color: transparent;\n",
              "      border-right-color: var(--fill-color);\n",
              "      border-top-color: var(--fill-color);\n",
              "    }\n",
              "    60% {\n",
              "      border-color: transparent;\n",
              "      border-right-color: var(--fill-color);\n",
              "    }\n",
              "    80% {\n",
              "      border-color: transparent;\n",
              "      border-right-color: var(--fill-color);\n",
              "      border-bottom-color: var(--fill-color);\n",
              "    }\n",
              "    90% {\n",
              "      border-color: transparent;\n",
              "      border-bottom-color: var(--fill-color);\n",
              "    }\n",
              "  }\n",
              "</style>\n",
              "\n",
              "  <script>\n",
              "    async function quickchart(key) {\n",
              "      const quickchartButtonEl =\n",
              "        document.querySelector('#' + key + ' button');\n",
              "      quickchartButtonEl.disabled = true;  // To prevent multiple clicks.\n",
              "      quickchartButtonEl.classList.add('colab-df-spinner');\n",
              "      try {\n",
              "        const charts = await google.colab.kernel.invokeFunction(\n",
              "            'suggestCharts', [key], {});\n",
              "      } catch (error) {\n",
              "        console.error('Error during call to suggestCharts:', error);\n",
              "      }\n",
              "      quickchartButtonEl.classList.remove('colab-df-spinner');\n",
              "      quickchartButtonEl.classList.add('colab-df-quickchart-complete');\n",
              "    }\n",
              "    (() => {\n",
              "      let quickchartButtonEl =\n",
              "        document.querySelector('#df-ac6a1d8d-8ba4-4e42-bec8-32a1a326267a button');\n",
              "      quickchartButtonEl.style.display =\n",
              "        google.colab.kernel.accessAllowed ? 'block' : 'none';\n",
              "    })();\n",
              "  </script>\n",
              "</div>\n",
              "    </div>\n",
              "  </div>\n"
            ]
          },
          "metadata": {},
          "execution_count": 123
        }
      ],
      "source": [
        "# describe\n",
        "df[[\"MonthlyCharges\", \"MonthlyCharges_z\"]].describe()"
      ]
    },
    {
      "cell_type": "markdown",
      "id": "963266be",
      "metadata": {
        "id": "963266be"
      },
      "source": [
        "### 이탈률 분석\n",
        "* 분석 결과에 따라 통신사는 고가 요금제 고객의 이탈을 방지하기 위한 전략을 수립할 수 있습니다.\n",
        "예를 들어, 이탈률이 높게 나타난다면 요금제 구조 재검토, 충성 고객에 대한 인센티브 제공 등의 조치를 고려할 수 있습니다."
      ]
    },
    {
      "cell_type": "code",
      "execution_count": null,
      "id": "e0b11d6e",
      "metadata": {
        "id": "e0b11d6e",
        "colab": {
          "base_uri": "https://localhost:8080/"
        },
        "outputId": "5ef1552a-7e5f-402e-f980-e35edcf0437a"
      },
      "outputs": [
        {
          "output_type": "execute_result",
          "data": {
            "text/plain": [
              "1.2575024364890448"
            ]
          },
          "metadata": {},
          "execution_count": 157
        }
      ],
      "source": [
        "# quantile 을 통해 0.9 구간을 구함\n",
        "df['MonthlyCharges_z'].quantile(0.9)"
      ]
    },
    {
      "cell_type": "code",
      "source": [
        "high_customers = df[df[\"MonthlyCharges\"] > df[\"MonthlyCharges\"].quantile(0.9)]\n",
        "high_customers.shape"
      ],
      "metadata": {
        "colab": {
          "base_uri": "https://localhost:8080/"
        },
        "id": "g3dFM8qRmdYh",
        "outputId": "18521e80-38ba-43ae-c3ac-298a966d61a6"
      },
      "id": "g3dFM8qRmdYh",
      "execution_count": null,
      "outputs": [
        {
          "output_type": "execute_result",
          "data": {
            "text/plain": [
              "(704, 21)"
            ]
          },
          "metadata": {},
          "execution_count": 166
        }
      ]
    },
    {
      "cell_type": "code",
      "execution_count": null,
      "id": "42912682",
      "metadata": {
        "id": "42912682",
        "colab": {
          "base_uri": "https://localhost:8080/"
        },
        "outputId": "9c2b3368-5d82-4240-d672-0e7b66ea7e58"
      },
      "outputs": [
        {
          "output_type": "execute_result",
          "data": {
            "text/plain": [
              "(704, 21)"
            ]
          },
          "metadata": {},
          "execution_count": 164
        }
      ],
      "source": [
        "# z-score를 활용하여 이탈률 분석\n",
        "# z-score가 높은 상위 10% 고객의 이탈률 확인\n",
        "high_z_customers = df[df[\"MonthlyCharges_z\"] > df['MonthlyCharges_z'].quantile(0.9)]\n",
        "high_z_customers.shape"
      ]
    },
    {
      "cell_type": "code",
      "source": [
        "# 전체 고객 이탈률\n",
        "df[\"Churn\"].value_counts(1)"
      ],
      "metadata": {
        "colab": {
          "base_uri": "https://localhost:8080/"
        },
        "id": "2dBHJbLFl_Sp",
        "outputId": "07544bb6-2221-45be-b1f2-fa0ce561aec9"
      },
      "id": "2dBHJbLFl_Sp",
      "execution_count": null,
      "outputs": [
        {
          "output_type": "execute_result",
          "data": {
            "text/plain": [
              "No     0.73463\n",
              "Yes    0.26537\n",
              "Name: Churn, dtype: float64"
            ]
          },
          "metadata": {},
          "execution_count": 168
        }
      ]
    },
    {
      "cell_type": "code",
      "source": [
        "# 상위 10% 고객 이탈률\n",
        "high_z_customers[\"Churn\"].value_counts(1)"
      ],
      "metadata": {
        "colab": {
          "base_uri": "https://localhost:8080/"
        },
        "id": "B3_RBEynldhR",
        "outputId": "ccd1b26f-b4a8-41e0-8e24-740939d0c1c3"
      },
      "id": "B3_RBEynldhR",
      "execution_count": null,
      "outputs": [
        {
          "output_type": "execute_result",
          "data": {
            "text/plain": [
              "No     0.752841\n",
              "Yes    0.247159\n",
              "Name: Churn, dtype: float64"
            ]
          },
          "metadata": {},
          "execution_count": 169
        }
      ]
    },
    {
      "cell_type": "code",
      "source": [
        "high_customers[\"Churn\"].value_counts(1)"
      ],
      "metadata": {
        "colab": {
          "base_uri": "https://localhost:8080/"
        },
        "id": "jP35iKLCmqSQ",
        "outputId": "f88c013f-d17f-413f-d9af-3d483360961c"
      },
      "id": "jP35iKLCmqSQ",
      "execution_count": null,
      "outputs": [
        {
          "output_type": "execute_result",
          "data": {
            "text/plain": [
              "No     0.752841\n",
              "Yes    0.247159\n",
              "Name: Churn, dtype: float64"
            ]
          },
          "metadata": {},
          "execution_count": 167
        }
      ]
    },
    {
      "cell_type": "code",
      "source": [
        "sns.histplot(data=df, x=\"MonthlyCharges\", kde=True, hue=\"Churn\")\n",
        "plt.axvline(df[\"MonthlyCharges\"].quantile(0.9))"
      ],
      "metadata": {
        "colab": {
          "base_uri": "https://localhost:8080/",
          "height": 467
        },
        "id": "ScaTPObpm2br",
        "outputId": "3d458f4b-04ef-4d2e-c115-486b0c945c78"
      },
      "id": "ScaTPObpm2br",
      "execution_count": null,
      "outputs": [
        {
          "output_type": "execute_result",
          "data": {
            "text/plain": [
              "<matplotlib.lines.Line2D at 0x784de8ffb4f0>"
            ]
          },
          "metadata": {},
          "execution_count": 173
        },
        {
          "output_type": "display_data",
          "data": {
            "text/plain": [
              "<Figure size 640x480 with 1 Axes>"
            ],
            "image/png": "[encoded data removed]"
          },
          "metadata": {}
        }
      ]
    },
    {
      "cell_type": "markdown",
      "id": "04897ab0",
      "metadata": {
        "id": "04897ab0"
      },
      "source": [
        "### t-test\n",
        "\n",
        "- **t-통계량 (t-Statistic)**: $t = \\frac{\\bar{x} - \\mu}{s/\\sqrt{n}}$\n",
        "  - 표본 평균이 모집단 평균으로부터 얼마나 떨어져 있는지 나타내는 값\n",
        "  \n",
        "- [scipy.stats.ttest\\_ind — SciPy Manual](https://scipy.github.io/devdocs/reference/generated/scipy.stats.ttest_ind.html#scipy.stats.ttest_ind)\n",
        "- [t-검정 - 위키백과, 우리 모두의 백과사전](https://ko.wikipedia.org/wiki/T-%EA%B2%80%EC%A0%95)"
      ]
    },
    {
      "cell_type": "markdown",
      "id": "ba9c3c87",
      "metadata": {
        "id": "ba9c3c87"
      },
      "source": [
        "## 평균에 대한 가설 검정\n",
        "* 평균에 대한 가설 검정은 표본 데이터를 사용하여 모집단의 평균에 대한 가설을 검정하는 것입니다. 예를 들어, 어떤 치료법이 효과가 있는지를 평균 회복 시간을 비교하여 검정할 수 있습니다.\n",
        "\n",
        "* 가설 검정 과정\n",
        "1) 귀무가설과 대립가설을 설정합니다.\n",
        "2) 적절한 검정 통계량을 선택하고 계산합니다 (예: t-검정).\n",
        "3) P-값을 계산하여 α와 비교합니다.\n",
        "4) P-값이 α보다 작으면 귀무가설을 기각하고, 그렇지 않으면 귀무가설을 채택합니다."
      ]
    },
    {
      "cell_type": "code",
      "source": [],
      "metadata": {
        "id": "pmR7F42Dajki"
      },
      "id": "pmR7F42Dajki",
      "execution_count": null,
      "outputs": []
    },
    {
      "cell_type": "markdown",
      "id": "5d57d5ed",
      "metadata": {
        "id": "5d57d5ed"
      },
      "source": [
        "## t-검정\n",
        "### 새로운 지불방식이(B)가 기존 지불방식(A)보다 고객 이탈률을 감소시킨다.\n",
        "\n",
        "#### t-test\n",
        "\n",
        "- **t-통계량 (t-Statistic)**: $t = \\frac{\\bar{x} - \\mu}{s/\\sqrt{n}}$\n",
        "  - 표본 평균이 모집단 평균으로부터 얼마나 떨어져 있는지 나타내는 값\n",
        "  \n",
        "- [scipy.stats.ttest\\_ind — SciPy Manual](https://scipy.github.io/devdocs/reference/generated/scipy.stats.ttest_ind.html#scipy.stats.ttest_ind)\n",
        "- [t-검정 - 위키백과, 우리 모두의 백과사전](https://ko.wikipedia.org/wiki/T-%EA%B2%80%EC%A0%95)\n",
        "\n",
        "이탈한 고객(Churn == 'Yes')과 이탈하지 않은 고객(Churn == 'No')의 통신사 이용 기간(tenure) 데이터를 분리하여 추출합니다. 이 데이터를 사용하여 두 그룹 간의 평균 이용 기간에 차이가 있는지 t-검정을 수행합니다.\n",
        "\n",
        "* t-통계량: 두 그룹 간의 평균 이용 기간에 매우 큰 차이가 있음을 나타냅니다. t-통계량이 음수이므로 이탈한 고객 그룹의 평균 이용 기간이 더 짧습니다.\n",
        "* p-값: 매우 낮은 p-값은 귀무가설(통신사 이용 기간이 고객 이탈 여부에 영향을 미치지 않는다)을 기각하는 데 충분합니다. 즉, 통신사 이용 기간과 고객의 이탈 여부는 통계적으로 유의미한 관련이 있음을 의미합니다.\n",
        "* 자유도: 자유도는 두 표본의 분산이 다르다고 가정했을 때 계산됩니다. 이 경우 높은 자유도는 t-분포가 정규분포에 가깝다는 것을 나타냅니다."
      ]
    },
    {
      "cell_type": "code",
      "execution_count": null,
      "id": "4c263d06",
      "metadata": {
        "id": "4c263d06",
        "colab": {
          "base_uri": "https://localhost:8080/",
          "height": 539
        },
        "outputId": "ed42e975-5a98-424c-eecb-88a325b6e159"
      },
      "outputs": [
        {
          "output_type": "error",
          "ename": "KeyError",
          "evalue": "'Churn_bi'",
          "traceback": [
            "\u001b[0;31m---------------------------------------------------------------------------\u001b[0m",
            "\u001b[0;31mKeyError\u001b[0m                                  Traceback (most recent call last)",
            "\u001b[0;32m/usr/local/lib/python3.10/dist-packages/pandas/core/indexes/base.py\u001b[0m in \u001b[0;36mget_loc\u001b[0;34m(self, key, method, tolerance)\u001b[0m\n\u001b[1;32m   3801\u001b[0m             \u001b[0;32mtry\u001b[0m\u001b[0;34m:\u001b[0m\u001b[0;34m\u001b[0m\u001b[0;34m\u001b[0m\u001b[0m\n\u001b[0;32m-> 3802\u001b[0;31m                 \u001b[0;32mreturn\u001b[0m \u001b[0mself\u001b[0m\u001b[0;34m.\u001b[0m\u001b[0m_engine\u001b[0m\u001b[0;34m.\u001b[0m\u001b[0mget_loc\u001b[0m\u001b[0;34m(\u001b[0m\u001b[0mcasted_key\u001b[0m\u001b[0;34m)\u001b[0m\u001b[0;34m\u001b[0m\u001b[0;34m\u001b[0m\u001b[0m\n\u001b[0m\u001b[1;32m   3803\u001b[0m             \u001b[0;32mexcept\u001b[0m \u001b[0mKeyError\u001b[0m \u001b[0;32mas\u001b[0m \u001b[0merr\u001b[0m\u001b[0;34m:\u001b[0m\u001b[0;34m\u001b[0m\u001b[0;34m\u001b[0m\u001b[0m\n",
            "\u001b[0;32m/usr/local/lib/python3.10/dist-packages/pandas/_libs/index.pyx\u001b[0m in \u001b[0;36mpandas._libs.index.IndexEngine.get_loc\u001b[0;34m()\u001b[0m\n",
            "\u001b[0;32m/usr/local/lib/python3.10/dist-packages/pandas/_libs/index.pyx\u001b[0m in \u001b[0;36mpandas._libs.index.IndexEngine.get_loc\u001b[0;34m()\u001b[0m\n",
            "\u001b[0;32mpandas/_libs/hashtable_class_helper.pxi\u001b[0m in \u001b[0;36mpandas._libs.hashtable.PyObjectHashTable.get_item\u001b[0;34m()\u001b[0m\n",
            "\u001b[0;32mpandas/_libs/hashtable_class_helper.pxi\u001b[0m in \u001b[0;36mpandas._libs.hashtable.PyObjectHashTable.get_item\u001b[0;34m()\u001b[0m\n",
            "\u001b[0;31mKeyError\u001b[0m: 'Churn_bi'",
            "\nThe above exception was the direct cause of the following exception:\n",
            "\u001b[0;31mKeyError\u001b[0m                                  Traceback (most recent call last)",
            "\u001b[0;32m<ipython-input-116-8021561c62cf>\u001b[0m in \u001b[0;36m<cell line: 3>\u001b[0;34m()\u001b[0m\n\u001b[1;32m      1\u001b[0m \u001b[0;31m# 이탈률을 나타내는 'Churn' 열의 데이터를 숫자 형태로 변환\u001b[0m\u001b[0;34m\u001b[0m\u001b[0;34m\u001b[0m\u001b[0m\n\u001b[1;32m      2\u001b[0m \u001b[0;31m# 이탈 여부를 숫자로 변환 (Yes: 1, No: 0)\u001b[0m\u001b[0;34m\u001b[0m\u001b[0;34m\u001b[0m\u001b[0m\n\u001b[0;32m----> 3\u001b[0;31m \u001b[0mdf\u001b[0m\u001b[0;34m[\u001b[0m\u001b[0;34m'Churn_bi'\u001b[0m\u001b[0;34m]\u001b[0m\u001b[0;34m\u001b[0m\u001b[0;34m\u001b[0m\u001b[0m\n\u001b[0m",
            "\u001b[0;32m/usr/local/lib/python3.10/dist-packages/pandas/core/frame.py\u001b[0m in \u001b[0;36m__getitem__\u001b[0;34m(self, key)\u001b[0m\n\u001b[1;32m   3805\u001b[0m             \u001b[0;32mif\u001b[0m \u001b[0mself\u001b[0m\u001b[0;34m.\u001b[0m\u001b[0mcolumns\u001b[0m\u001b[0;34m.\u001b[0m\u001b[0mnlevels\u001b[0m \u001b[0;34m>\u001b[0m \u001b[0;36m1\u001b[0m\u001b[0;34m:\u001b[0m\u001b[0;34m\u001b[0m\u001b[0;34m\u001b[0m\u001b[0m\n\u001b[1;32m   3806\u001b[0m                 \u001b[0;32mreturn\u001b[0m \u001b[0mself\u001b[0m\u001b[0;34m.\u001b[0m\u001b[0m_getitem_multilevel\u001b[0m\u001b[0;34m(\u001b[0m\u001b[0mkey\u001b[0m\u001b[0;34m)\u001b[0m\u001b[0;34m\u001b[0m\u001b[0;34m\u001b[0m\u001b[0m\n\u001b[0;32m-> 3807\u001b[0;31m             \u001b[0mindexer\u001b[0m \u001b[0;34m=\u001b[0m \u001b[0mself\u001b[0m\u001b[0;34m.\u001b[0m\u001b[0mcolumns\u001b[0m\u001b[0;34m.\u001b[0m\u001b[0mget_loc\u001b[0m\u001b[0;34m(\u001b[0m\u001b[0mkey\u001b[0m\u001b[0;34m)\u001b[0m\u001b[0;34m\u001b[0m\u001b[0;34m\u001b[0m\u001b[0m\n\u001b[0m\u001b[1;32m   3808\u001b[0m             \u001b[0;32mif\u001b[0m \u001b[0mis_integer\u001b[0m\u001b[0;34m(\u001b[0m\u001b[0mindexer\u001b[0m\u001b[0;34m)\u001b[0m\u001b[0;34m:\u001b[0m\u001b[0;34m\u001b[0m\u001b[0;34m\u001b[0m\u001b[0m\n\u001b[1;32m   3809\u001b[0m                 \u001b[0mindexer\u001b[0m \u001b[0;34m=\u001b[0m \u001b[0;34m[\u001b[0m\u001b[0mindexer\u001b[0m\u001b[0;34m]\u001b[0m\u001b[0;34m\u001b[0m\u001b[0;34m\u001b[0m\u001b[0m\n",
            "\u001b[0;32m/usr/local/lib/python3.10/dist-packages/pandas/core/indexes/base.py\u001b[0m in \u001b[0;36mget_loc\u001b[0;34m(self, key, method, tolerance)\u001b[0m\n\u001b[1;32m   3802\u001b[0m                 \u001b[0;32mreturn\u001b[0m \u001b[0mself\u001b[0m\u001b[0;34m.\u001b[0m\u001b[0m_engine\u001b[0m\u001b[0;34m.\u001b[0m\u001b[0mget_loc\u001b[0m\u001b[0;34m(\u001b[0m\u001b[0mcasted_key\u001b[0m\u001b[0;34m)\u001b[0m\u001b[0;34m\u001b[0m\u001b[0;34m\u001b[0m\u001b[0m\n\u001b[1;32m   3803\u001b[0m             \u001b[0;32mexcept\u001b[0m \u001b[0mKeyError\u001b[0m \u001b[0;32mas\u001b[0m \u001b[0merr\u001b[0m\u001b[0;34m:\u001b[0m\u001b[0;34m\u001b[0m\u001b[0;34m\u001b[0m\u001b[0m\n\u001b[0;32m-> 3804\u001b[0;31m                 \u001b[0;32mraise\u001b[0m \u001b[0mKeyError\u001b[0m\u001b[0;34m(\u001b[0m\u001b[0mkey\u001b[0m\u001b[0;34m)\u001b[0m \u001b[0;32mfrom\u001b[0m \u001b[0merr\u001b[0m\u001b[0;34m\u001b[0m\u001b[0;34m\u001b[0m\u001b[0m\n\u001b[0m\u001b[1;32m   3805\u001b[0m             \u001b[0;32mexcept\u001b[0m \u001b[0mTypeError\u001b[0m\u001b[0;34m:\u001b[0m\u001b[0;34m\u001b[0m\u001b[0;34m\u001b[0m\u001b[0m\n\u001b[1;32m   3806\u001b[0m                 \u001b[0;31m# If we have a listlike key, _check_indexing_error will raise\u001b[0m\u001b[0;34m\u001b[0m\u001b[0;34m\u001b[0m\u001b[0m\n",
            "\u001b[0;31mKeyError\u001b[0m: 'Churn_bi'"
          ]
        }
      ],
      "source": [
        "# 이탈률을 나타내는 'Churn' 열의 데이터를 숫자 형태로 변환\n",
        "# 이탈 여부를 숫자로 변환 (Yes: 1, No: 0)\n",
        "df['Churn_bi']"
      ]
    },
    {
      "cell_type": "code",
      "execution_count": null,
      "id": "e6a3e7f7",
      "metadata": {
        "id": "e6a3e7f7"
      },
      "outputs": [],
      "source": [
        "# from scipy.stats import ttest_ind\n",
        "\n",
        "# 비즈니스 가설 설정\n",
        "# 가설: 새로운 지불방식이(B)가 기존 지불방식(A)보다 고객 이탈률을 감소시킨다.\n",
        "\n",
        "# A/B 테스트를 위한 데이터 준비\n",
        "# 예를 들어, 'PaymentMethod'가 'Electronic check'인 고객을 그룹 A로,\n",
        "# 'Bank transfer (automatic)'인 고객을 그룹 B로 설정\n",
        "group_A = df[df['PaymentMethod'] == 'Electronic check']['Churn_bi']\n",
        "group_B = df[df['PaymentMethod'] == 'Bank transfer (automatic)']['Churn_bi']\n",
        "\n",
        "# t-검정 수행\n",
        "# t_statistic, p_value\n",
        "\n"
      ]
    },
    {
      "cell_type": "markdown",
      "id": "7fc1512f",
      "metadata": {
        "id": "7fc1512f"
      },
      "source": [
        "### 이탈 고객과 잔류 고객의 이용 기간에 유의미한 차이가 있는지 분석\n",
        "\n",
        "* 귀무가설 (Null Hypothesis, H₀): 이탈한 고객과 이탈하지 않은 고객의 이용 기간에는 통계적으로 유의미한 차이가 없다.\n",
        "* 대립가설 (Alternative Hypothesis, H₁): 이탈한 고객과 이탈하지 않은 고객의 이용 기간에는 통계적으로 유의미한 차이가 있다.\n",
        "\n",
        "* 고객 유지 전략 개발: 잔존 기간이 짧은 고객군에서 이탈률이 높다면, 회사는 이러한 고객을 대상으로 하는 특별한 유지 전략이나 프로그램을 개발할 수 있습니다.\n",
        "* 고객 세분화: 잔존 기간에 따라 다른 고객 세그먼트를 식별하고, 각 세그먼트에 맞는 맞춤형 서비스를 제공할 수 있습니다."
      ]
    },
    {
      "cell_type": "code",
      "execution_count": null,
      "id": "2da37003",
      "metadata": {
        "id": "2da37003"
      },
      "outputs": [],
      "source": [
        "# sns.histplot 으로 tenure 에 대한 이탈 여부 시각화\n"
      ]
    },
    {
      "cell_type": "code",
      "execution_count": null,
      "id": "047dc7ff",
      "metadata": {
        "id": "047dc7ff"
      },
      "outputs": [],
      "source": [
        "# 이탈여부에 대한 표본 분산 구하기(자유도=1)\n"
      ]
    },
    {
      "cell_type": "code",
      "execution_count": null,
      "id": "2052bf95",
      "metadata": {
        "id": "2052bf95"
      },
      "outputs": [],
      "source": [
        "# 이탈 여부에 따른 이용 기간 분석을 위한 데이터 추출\n",
        "churn_yes = df[df['Churn'] == 'Yes']['tenure']\n",
        "churn_no = df[df['Churn'] == 'No']['tenure']\n",
        "\n",
        "# t-검정 수행\n",
        "# stats.ttest_ind 함수는 두 독립 표본 그룹 간의 평균 차이를 검정하는 데 사용됩니다. .\n",
        "# equal_var=False는 두 그룹의 분산이 동일하지 않다는 가정 하에 검정을 수행하라는 의미입니다.\n",
        "# 이는 보통 두 표본 크기가 다르거나 데이터의 분포가 서로 다를 때 사용됩니다.\n",
        "# t_statistic은 t-검정 통계량으로, 두 그룹 간 평균 차이의 크기와 방향을 나타냅니다.\n",
        "# p_value는 귀무가설이 참일 때 관측된 결과가 발생할 확률입니다.\n",
        "# 이 값이 매우 작으면(보통 0.05 이하), 두 그룹 간 평균 차이가 통계적으로 유의미하다고 해석할 수 있습니다.\n",
        "# t_statistic, p_value\n",
        "\n"
      ]
    },
    {
      "cell_type": "markdown",
      "id": "7e974602",
      "metadata": {
        "id": "7e974602"
      },
      "source": [
        "* t_statistic은 t-검정 통계량으로, 두 그룹 간의 평균 차이의 크기와 방향을 나타냅니다.\n",
        "    * 이 값이 음수라는 것은 첫 번째 그룹의 평균이 두 번째 그룹의 평균보다 작다는 것을 의미합니다.\n",
        "    * 값의 절대값이 크면 클수록 두 그룹 간의 평균 차이가 더 크다는 것을 나타냅니다.\n",
        "* p_value는 귀무가설 하에서 현재 관측된 결과(또는 더 극단적인 결과)가 나타날 확률입니다.\n",
        "    * 이 값이 매우 작다는 것은 두 그룹 간의 평균 차이가 통계적으로 매우 유의미하다는 것을 나타냅니다.\n",
        "    * 일반적으로 p-value가 0.05(5%) 이하일 경우, 귀무가설을 기각하고 대립가설을 채택합니다.\n",
        "    \n",
        "* 1종 오류 (Type I Error): 귀무가설이 참일 때, 잘못해서 귀무가설을 기각하는 오류입니다.\n",
        "    * 매우 낮은 p_value 는 귀무가설(이탈한 고객과 이탈하지 않은 고객의 이용 기간에 차이가 없다)을 기각할 강력한 근거를 제공합니다. 그러나, 이것이 반드시 귀무가설이 거짓이라는 것을 의미하지는 않습니다. 즉, 이 결과로 인해 귀무가설을 잘못 기각할 확률(1종 오류를 범할 확률)은 매우 낮지만, 여전히 존재합니다.\n",
        "* 2종 오류 (Type II Error): 대립가설이 참일 때, 귀무가설을 잘못 채택하는 오류입니다.\n",
        "    * 매우 낮은 p_value와 높은 t_statistic의 절대값은 귀무가설을 기각하고 대립가설(이탈한 고객과 이탈하지 않은 고객의 이용 기간에 차이가 있다)을 채택하는 데 충분합니다. 따라서, 이 경우 2종 오류(귀무가설이 거짓임에도 불구하고 채택하는 경우)를 범할 가능성은 매우 낮습니다."
      ]
    },
    {
      "cell_type": "markdown",
      "id": "95bfef7b",
      "metadata": {
        "id": "95bfef7b"
      },
      "source": [
        "### 서비스 유형에 따른 이탈률 비교\n",
        "\n",
        "* 귀무가설: \"PhoneService를 이용하는 고객과 그렇지 않은 고객 간의 이탈률에 차이가 없다.\"\n",
        "* 대립가설: \"PhoneService를 이용하는 고객과 그렇지 않은 고객 간의 이탈률에 차이가 있다.\"\n",
        "\n",
        "#### 등분산성 검정 (Levene's Test)\n",
        "* [등분산성 - 위키백과, 우리 모두의 백과사전](https://ko.wikipedia.org/wiki/%EB%93%B1%EB%B6%84%EC%82%B0%EC%84%B1)\n",
        "* 두 그룹의 분산이 동일한지를 검사합니다. 이것은 t-검정을 수행하기 전에 중요한 단계입니다.\n",
        "* Levene's test를 사용하여 등분산성을 검정하고, 그 결과에 따라 t-검정의 equal_var 매개변수를 결정합니다.\n",
        "\n",
        "* 독립 표본 t-검정: 두 그룹의 이탈률 평균에 통계적으로 유의미한 차이가 있는지를 평가합니다.\n",
        "* 등분산성 검정 결과에 따라 equal_var 매개변수를 True(등분산 가정) 또는 False(등분산 가정하지 않음)로 설정합니다.\n",
        "\n",
        "#### 1종 오류와 2종 오류의 개념\n",
        "* 1종 오류 (Type I Error): 귀무가설이 참일 때 잘못하여 귀무가설을 기각하는 오류입니다. 이는 잘못된 양성 결과를 의미합니다.\n",
        "* 2종 오류 (Type II Error): 대립가설이 참일 때 잘못하여 귀무가설을 채택하는 오류입니다. 이는 잘못된 음성 결과를 의미합니다.\n",
        "\n",
        "* 1종 오류의 사례\n",
        "    * 코드에서 계산된 p-value가 매우 낮아 귀무가설을 기각한다고 가정합니다.\n",
        "    * 실제로는 PhoneService 이용 여부가 이탈률에 영향을 미치지 않지만, 분석 결과에 따라 그렇다고 잘못 결론 내릴 수 있습니다.\n",
        "    * 이 오류로 인해 통신사는 불필요한 서비스 조정이나 마케팅 전략을 채택할 수 있습니다.\n",
        "* 2종 오류의 사례\n",
        "    * 코드에서 계산된 p-value가 높아 귀무가설을 채택한다고 가정합니다.\n",
        "    * 실제로는 PhoneService 이용 여부가 이탈률에 유의미한 영향을 미치지만, 분석 결과에 따라 그렇지 않다고 잘못 결론 내릴 수 있습니다.\n",
        "    * 이 오류로 인해 통신사는 중요한 서비스 개선 기회를 놓칠 수 있습니다.\n",
        "    "
      ]
    },
    {
      "cell_type": "code",
      "execution_count": null,
      "id": "94922681",
      "metadata": {
        "id": "94922681"
      },
      "outputs": [],
      "source": [
        "# PhoneService를 이용하는 고객과 그렇지 않은 고객의 이탈률 데이터 추출\n",
        "phone_service_yes = df[df['PhoneService'] == 'Yes']['Churn_bi']\n",
        "phone_service_no = df[df['PhoneService'] == 'No']['Churn_bi']\n",
        "\n",
        "# 등분산성 검정\n",
        "_, p_value_homogeneity = stats.levene(phone_service_yes, phone_service_no)\n",
        "\n",
        "# 등분산성 검정 결과에 따라 적절한 t-검정 수행\n",
        "    # 등분산성이 가정되지 않는 경우\n",
        "    # 등분산성이 가정되는 경우\n",
        "# p_value_homogeneity, t_statistic, p_value"
      ]
    },
    {
      "cell_type": "markdown",
      "id": "42be8724",
      "metadata": {
        "id": "42be8724"
      },
      "source": [
        "* 유의성 판단: p-value가 유의 수준 선 아래에 위치하면, 해당 검정 결과가 통계적으로 유의미함을 나타냅니다.\n",
        "* 예를 들어, t-검정의 p-value가 0.05 아래이면, 두 그룹 간의 평균 차이가 유의미하다고 해석할 수 있습니다."
      ]
    },
    {
      "cell_type": "code",
      "execution_count": null,
      "id": "e0bcf441",
      "metadata": {
        "id": "e0bcf441"
      },
      "outputs": [],
      "source": [
        "# 등분산성 검정 결과와 t-검정 결과를 시각화하기 위한 데이터 준비\n",
        "labels = ['Levene\\'s Test for Equality of Variances', 't-Test for Equality of Means']\n",
        "values = [p_value_homogeneity, p_value]\n",
        "\n",
        "# 시각화\n",
        "plt.figure(figsize=(8, 4))\n",
        "plt.bar(labels, values, color=['blue', 'green'])\n",
        "plt.ylabel('p-value')\n",
        "plt.title('Levene\\'s Test and t-Test Results')\n",
        "plt.axhline(y=0.05, color='red', linestyle='--', label='Significance Level (0.05)')\n",
        "plt.legend()\n",
        "plt.show()"
      ]
    },
    {
      "cell_type": "markdown",
      "id": "8944306f",
      "metadata": {
        "id": "8944306f"
      },
      "source": [
        "## Mann-Whitney U-검정\n",
        "* [scipy.stats.mannwhitneyu — SciPy Manual](https://scipy.github.io/devdocs/reference/generated/scipy.stats.mannwhitneyu.html#scipy.stats.mannwhitneyu)\n",
        "* Mann-Whitney U-검정은 두 독립 표본이 같은 분포에서 왔는지를 비모수적으로 검정하는 방법\n",
        "    * Mann-Whitney U 검정(Mann-Whitney U test), 종종 윌콕슨 순위합 검정(Wilcoxon rank-sum test)이라고도 불리는 이 통계적 검정 방법은 1947년 Henry B. Mann과 Donald R. Whitney에 의해 개발되었습니다. 이 검정 방법은 두 독립적인 표본에서 나온 데이터가 동일한 분포를 갖는지 비교하는 데 사용됩니다.\n",
        "    * Mann-Whitney U 검정의 핵심은 두 표본을 합쳐서 모든 관측치에 순위를 매기고, 각 표본의 순위 합을 비교하는 것입니다. 이 검정은 정규 분포를 가정하지 않으므로, 표본이 작거나 데이터가 정규 분포를 따르지 않을 때 유용합니다. 특히, 이 검정은 중앙값의 차이에 더 민감하며, 순위를 기반으로 하기 때문에 이상치의 영향을 덜 받습니다.\n",
        "    * Mann-Whitney U 검정은 원래 동일한 모집단에서 추출된 두 표본이 같은 분포를 갖는지 검정하는 데 목적이 있었지만, 오늘날에는 `두 독립적인 표본 사이의 위치 차이(예: 중앙값)`를 검정하는 데 널리 사용됩니다. 이 검정은 생물학, 심리학, 사회과학, 의학 등 다양한 분야에서 응용되고 있습니다.\n",
        "    \n",
        "```python\n",
        "scipy.stats.mannwhitneyu(x, y, use_continuity=True, alternative='two-sided', method='auto')\n",
        "```\n",
        "    \n",
        "* x, y: 비교하고자 하는 두 표본 그룹입니다. 이들은 NumPy 배열이나 유사 배열 객체일 수 있습니다.\n",
        "* use_continuity: 연속성 보정(continuity correction)을 사용할지 여부를 지정합니다. 기본값은 True입니다.\n",
        "* alternative: 검정의 대안 가설을 지정합니다. 옵션은 'two-sided', 'less', 'greater'입니다.\n",
        "    * 'two-sided': 두 표본의 분포가 다르다는 것을 검증합니다.\n",
        "    * 'less': 첫 번째 표본이 두 번째 표본보다 작다는 것을 검증합니다.\n",
        "    * 'greater': 첫 번째 표본이 두 번째 표본보다 크다는 것을 검증합니다.\n",
        "* method: 사용할 계산 방법을 지정합니다. 'auto', 'exact', 'asymptotic' 중 선택할 수 있습니다. 'auto'는 적절한 방법을 자동으로 선택합니다.\n",
        "\n",
        "* U 통계량은 두 그룹 간 순위 차이를 나타내는 값이며, p-value는 귀무가설 하에서 해당 통계량이나 더 극단적인 값을 관찰할 확률입니다.\n",
        "\n",
        "  \n",
        "### 이탈한 고객과 이탈하지 않은 고객의 월별 요금 데이터에 대해 Mann-Whitney U-검정을 수행\n",
        "* 데이터 추출 : monthly_charges_churn_yes와 monthly_charges_churn_no 변수에 각각 이탈한 고객과 이탈하지 않은 고객의 월별 요금 데이터를 저장합니다. 이는 주어진 데이터프레임(df)에서 'Churn' 열의 값에 따라 필터링하여 수행됩니다.\n",
        "* Mann-Whitney U-검정 수행 : u_statistic, p_value = stats.mannwhitneyu(...): scipy 라이브러리의 mannwhitneyu 함수를 사용하여 두 집단 간의 Mann-Whitney U-검정을 수행합니다.\n",
        "* alternative='two-sided'는 두 집단 간의 차이가 양방향으로 발생할 수 있다는 가정 하에 검정을 수행함을 의미합니다. 즉, 한 집단의 월별 요금이 다른 집단보다 높거나 낮을 수 있는 모든 가능성을 고려합니다.\n",
        "* 결과 반환\n",
        "    * u_statistic: 검정 통계량으로, 두 집단 간 순위 합의 차이를 나타냅니다.\n",
        "    * p_value: 검정의 결과를 나타내는 p-값으로, 이 값이 설정한 유의수준(예: 0.05)보다 작으면, 두 집단 간의 중앙값에 통계적으로 유의한 차이가 있다고 해석할 수 있습니다.\n",
        "* 해석 및 적용 : 이 코드의 실행 결과로 얻어지는 p-값을 통해, 이탈한 고객과 이탈하지 않은 고객 간의 월별 요금에 통계적으로 유의한 차이가 있는지를 판단할 수 있습니다. 만약 p-값이 매우 낮다면, 이는 두 집단 간에 월별 요금에서 의미 있는 차이가 있음을 나타냅니다. 이러한 정보는 고객 이탈에 영향을 미치는 요인을 이해하고, 이탈 방지 전략을 수립하는 데 도움이 될 수 있습니다."
      ]
    },
    {
      "cell_type": "code",
      "execution_count": null,
      "id": "b03b572a",
      "metadata": {
        "id": "b03b572a"
      },
      "outputs": [],
      "source": [
        "# sns.histplot로 이탈 여부에 따른 월별 요금 분포 시각화\n"
      ]
    },
    {
      "cell_type": "markdown",
      "id": "c5f18fcb",
      "metadata": {
        "id": "c5f18fcb"
      },
      "source": [
        "* u_statistic\n",
        "    * 정의: u_statistic은 Mann-Whitney U 통계량으로, 두 그룹 간 순위의 합에 기반하여 계산됩니다. 이 값은 두 표본이 같은 분포에서 나왔을 때 기대되는 순위의 차이를 나타냅니다.\n",
        "    * 해석: u_statistic 값 자체는 직관적인 해석이 어려울 수 있습니다. 주로 p_value와 함께 결과의 유의성을 평가하는 데 사용됩니다.\n",
        "* p_value\n",
        "    * 정의: p_value는 귀무가설(두 표본이 동일한 분포에서 나왔다)이 참일 경우, 관측된 u_statistic 값 또는 더 극단적인 값을 얻을 확률입니다.\n",
        "    * 해석:\n",
        "        * 유의 수준: 일반적으로 p_value가 0.05(5%) 이하일 때, 결과를 통계적으로 유의미하다고 해석합니다. 이는 두 표본 그룹 간에 유의미한 차이가 있음을 나타냅니다.\n",
        "        * 유의미한 차이: p_value가 낮을수록 두 그룹 간에 유의미한 차이가 있다는 증거가 강해집니다.\n",
        "        * 높은 p_value: 반대로 p_value가 높다면, 두 그룹 간에 유의미한 차이가 없다는 증거로 해석됩니다."
      ]
    },
    {
      "cell_type": "code",
      "execution_count": null,
      "id": "d76ce1cb",
      "metadata": {
        "id": "d76ce1cb"
      },
      "outputs": [],
      "source": [
        "# Mann-Whitney U-검정 수행\n",
        "# 이탈한 고객과 이탈하지 않은 고객의 월별 요금 데이터 추출\n",
        "monthly_charges_churn_yes = df[df['Churn'] == 'Yes']['MonthlyCharges']\n",
        "# monthly_charges_churn_no"
      ]
    },
    {
      "cell_type": "code",
      "execution_count": null,
      "id": "2569975b",
      "metadata": {
        "id": "2569975b"
      },
      "outputs": [],
      "source": [
        "# Mann-Whitney U-검정 수행\n",
        "# u_statistic, p_value"
      ]
    },
    {
      "cell_type": "markdown",
      "id": "6a3bbb59",
      "metadata": {
        "id": "6a3bbb59"
      },
      "source": [
        "* 1종 오류 (Type I Error)\n",
        "    * 귀무가설이 실제로 참인데 잘못하여 기각하는 오류입니다.\n",
        "    * 매우 낮은 p_value 는 귀무가설(이탈한 고객과 이탈하지 않은 고객의 이용 기간에 차이가 없다)을 기각할 강력한 근거를 제공합니다. 그러나, 이것이 반드시 귀무가설이 거짓이라는 것을 의미하지는 않습니다. 즉, 이 결과로 인해 귀무가설을 잘못 기각할 확률(1종 오류를 범할 확률)은 매우 낮지만, 여전히 존재합니다.\n",
        "    * 1종 오류의 위험은 매우 낮으므로, 이 결과를 바탕으로 고객 이탈과 관련된 전략을 수립하는 것이 타당합니다.\n",
        "* 2종 오류 (Type II Error)\n",
        "    * 귀무가설이 거짓인데 이를 채택하는 오류입니다.\n",
        "    * 매우 낮은 p_value와 높은 t_statistic의 절대값은 귀무가설을 기각하고 대립가설(이탈한 고객과 이탈하지 않은 고객의 이용 기간에 차이가 있다)을 채택하는 데 충분합니다. 따라서, 이 경우 2종 오류(귀무가설이 거짓임에도 불구하고 채택하는 경우)를 범할 가능성은 매우 낮습니다.\n",
        "    * 2종 오류의 위험이 낮기 때문에, 이 결과는 신뢰할 수 있으며, 고객 유지 및 마케팅 전략에 중요한 영향을 미칠 수 있습니다."
      ]
    },
    {
      "cell_type": "code",
      "execution_count": null,
      "id": "faa4a93f",
      "metadata": {
        "id": "faa4a93f"
      },
      "outputs": [],
      "source": []
    },
    {
      "cell_type": "code",
      "execution_count": null,
      "id": "68783931",
      "metadata": {
        "id": "68783931"
      },
      "outputs": [],
      "source": []
    },
    {
      "cell_type": "code",
      "execution_count": null,
      "id": "345ff99b",
      "metadata": {
        "id": "345ff99b"
      },
      "outputs": [],
      "source": []
    },
    {
      "cell_type": "code",
      "execution_count": null,
      "id": "719e0260",
      "metadata": {
        "id": "719e0260"
      },
      "outputs": [],
      "source": []
    }
  ],
  "metadata": {
    "kernelspec": {
      "display_name": "Python 3 (ipykernel)",
      "language": "python",
      "name": "python3"
    },
    "language_info": {
      "codemirror_mode": {
        "name": "ipython",
        "version": 3
      },
      "file_extension": ".py",
      "mimetype": "text/x-python",
      "name": "python",
      "nbconvert_exporter": "python",
      "pygments_lexer": "ipython3",
      "version": "3.11.4"
    },
    "toc": {
      "base_numbering": 1,
      "nav_menu": {},
      "number_sections": true,
      "sideBar": true,
      "skip_h1_title": false,
      "title_cell": "Table of Contents",
      "title_sidebar": "Contents",
      "toc_cell": false,
      "toc_position": {},
      "toc_section_display": true,
      "toc_window_display": false
    },
    "varInspector": {
      "cols": {
        "lenName": 16,
        "lenType": 16,
        "lenVar": 40
      },
      "kernels_config": {
        "python": {
          "delete_cmd_postfix": "",
          "delete_cmd_prefix": "del ",
          "library": "var_list.py",
          "varRefreshCmd": "print(var_dic_list())"
        },
        "r": {
          "delete_cmd_postfix": ") ",
          "delete_cmd_prefix": "rm(",
          "library": "var_list.r",
          "varRefreshCmd": "cat(var_dic_list()) "
        }
      },
      "types_to_exclude": [
        "module",
        "function",
        "builtin_function_or_method",
        "instance",
        "_Feature"
      ],
      "window_display": false
    },
    "colab": {
      "provenance": []
    }
  },
  "nbformat": 4,
  "nbformat_minor": 5
}