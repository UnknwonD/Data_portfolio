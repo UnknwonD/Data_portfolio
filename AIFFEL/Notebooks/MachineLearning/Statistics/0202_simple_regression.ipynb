{
  "cells": [
    {
      "cell_type": "markdown",
      "id": "029dbabc",
      "metadata": {
        "id": "029dbabc"
      },
      "source": [
        "## 단순 선형 회귀"
      ]
    },
    {
      "cell_type": "code",
      "execution_count": null,
      "id": "c9db0867",
      "metadata": {
        "id": "c9db0867"
      },
      "outputs": [],
      "source": [
        "import numpy as np\n",
        "import pandas as pd\n",
        "import matplotlib.pyplot as plt\n",
        "from sklearn.datasets import fetch_california_housing\n",
        "from sklearn.model_selection import train_test_split\n",
        "from sklearn.linear_model import LinearRegression\n",
        "from sklearn.metrics import mean_squared_error, r2_score\n",
        "import statsmodels.api as sm"
      ]
    },
    {
      "cell_type": "code",
      "execution_count": null,
      "id": "3da9dbac",
      "metadata": {
        "id": "3da9dbac"
      },
      "outputs": [],
      "source": [
        "# 캘리포니아 주택 데이터셋 불러오기\n",
        "data = fetch_california_housing()\n",
        "df = pd.DataFrame(data.data, columns=data.feature_names)\n",
        "df['target'] = data.target\n",
        "\n",
        "# 단순 회귀 분석을 위해 하나의 독립 변수 선택 (e.g., MedInc)\n",
        "X = df[['MedInc']]\n",
        "y = df['target']"
      ]
    },
    {
      "cell_type": "code",
      "execution_count": null,
      "id": "e4f7ff83",
      "metadata": {
        "id": "e4f7ff83"
      },
      "outputs": [],
      "source": [
        "# 데이터 분할 - train_test_split\n"
      ]
    },
    {
      "cell_type": "markdown",
      "id": "bb67c1c1",
      "metadata": {
        "id": "bb67c1c1"
      },
      "source": [
        "## Scikit-Learn"
      ]
    },
    {
      "cell_type": "code",
      "execution_count": null,
      "id": "300ba679",
      "metadata": {
        "id": "300ba679"
      },
      "outputs": [],
      "source": [
        "# Scikit-Learn을 사용한 단순 회귀 모델 훈련\n",
        "# LinearRegression\n",
        "# fit\n",
        "# model_sklearn"
      ]
    },
    {
      "cell_type": "code",
      "execution_count": null,
      "id": "ac7791db",
      "metadata": {
        "id": "ac7791db"
      },
      "outputs": [],
      "source": [
        "# predict - 테스트 데이터에 대한 예측\n",
        "# y_pred_sklearn"
      ]
    },
    {
      "cell_type": "markdown",
      "id": "0d118451",
      "metadata": {
        "id": "0d118451"
      },
      "source": [
        "### **결정 계수 (R-squared):**\n",
        "\n",
        "결정 계수는 회귀 분석 모델이 종속 변수의 변동성을 얼마나 잘 설명하는지를 나타내는 통계적 측도로, 다음과 같이 정의됩니다:\n",
        "\n",
        "\\[ $R^2 = 1 - \\frac{\\text{SSE (Sum of Squared Residuals)}}{\\text{SSTO (Total Sum of Squares)}}$ \\]\n",
        "\n",
        "여기서,\n",
        "- $SSE$는 잔차의 제곱합으로, 모델이 설명하지 못하는 변동을 나타냅니다.\n",
        "- $SSTO$는 종속 변수의 전체 변동으로, 평균과의 차이의 제곱합으로 이루어져 있습니다.\n",
        "\n",
        "결정 계수는 0에서 1 사이의 값을 가지며, 1에 가까울수록 모델이 데이터를 완벽하게 설명한다는 것을 의미합니다.\n",
        "\n",
        "* **조정된 결정 계수 (Adjusted R-squared):**\n",
        "\n",
        "조정된 결정 계수는 결정 계수를 개선한 지표로, 독립 변수의 수에 대한 페널티를 부여하여 모델의 복잡성을 조절합니다. 조정된 결정 계수는 다음과 같이 정의됩니다:\n",
        "\n",
        "\\[ $\\text{Adjusted } R^2 = 1 - \\frac{(1 - R^2) \\cdot (n - 1)}{n - k - 1}$ \\]\n",
        "\n",
        "여기서,\n",
        "- \\($n$\\)은 샘플의 수,\n",
        "- \\($k$\\)는 모델에 포함된 독립 변수의 수입니다.\n",
        "\n",
        "조정된 결정 계수는 독립 변수의 추가 또는 제거에 따라 변화하며, 모델의 복잡성을 고려하여 결정 계수를 조절합니다. 이는 모델이 추가된 변수가 실제로 유의미한 향상을 가져오는지를 고려하여 모델의 해석력을 향상시킵니다.\n"
      ]
    },
    {
      "cell_type": "code",
      "execution_count": null,
      "id": "a1e840ab",
      "metadata": {
        "id": "a1e840ab"
      },
      "outputs": [],
      "source": [
        "# 결정 계수\n",
        "# R² 계산 함수 정의\n",
        "def calculate_r_squared(actual, predicted):\n",
        "    mean_actual = np.mean(actual)\n",
        "    total_variance = np.sum((actual - mean_actual)**2)\n",
        "    explained_variance = np.sum((predicted - mean_actual)**2)\n",
        "    r_squared = explained_variance / total_variance\n",
        "    return r_squared\n",
        "\n",
        "# R² 계산\n",
        "r_squared = calculate_r_squared(y_test, y_pred_sklearn)\n",
        "r_squared"
      ]
    },
    {
      "cell_type": "code",
      "execution_count": null,
      "id": "10c3f098",
      "metadata": {
        "id": "10c3f098"
      },
      "outputs": [],
      "source": [
        "# r2_score\n"
      ]
    },
    {
      "cell_type": "markdown",
      "id": "edd3ac47",
      "metadata": {
        "id": "edd3ac47"
      },
      "source": [
        "### MSE"
      ]
    },
    {
      "cell_type": "code",
      "execution_count": null,
      "id": "09427e49",
      "metadata": {
        "id": "09427e49"
      },
      "outputs": [],
      "source": [
        "# 모델 평가 - mean_squared_error\n",
        "# mse_sklearn"
      ]
    },
    {
      "cell_type": "markdown",
      "id": "1381f646",
      "metadata": {
        "id": "1381f646"
      },
      "source": [
        "## Statsmodels"
      ]
    },
    {
      "cell_type": "code",
      "execution_count": null,
      "id": "fc4adb7b",
      "metadata": {
        "id": "fc4adb7b"
      },
      "outputs": [],
      "source": [
        "# Statsmodels를 사용한 단순 회귀 모델 훈련\n",
        "# Statsmodels에서 상수항을 추가 - sm.add_constant\n",
        "# X_train_ols\n",
        "# model_ols"
      ]
    },
    {
      "cell_type": "code",
      "execution_count": null,
      "id": "ee006021",
      "metadata": {
        "id": "ee006021"
      },
      "outputs": [],
      "source": [
        "# 테스트 데이터에 대한 예측\n",
        "# X_test_ols\n",
        "# y_pred_ols"
      ]
    },
    {
      "cell_type": "code",
      "execution_count": null,
      "id": "048d748c",
      "metadata": {
        "id": "048d748c"
      },
      "outputs": [],
      "source": [
        "# 시각화: 회귀선과 산점도\n"
      ]
    },
    {
      "cell_type": "code",
      "execution_count": null,
      "id": "bcc2920d",
      "metadata": {
        "id": "bcc2920d"
      },
      "outputs": [],
      "source": [
        "# mean_squared_error\n",
        "# mse_ols\n",
        "# r2_ols"
      ]
    },
    {
      "cell_type": "code",
      "execution_count": null,
      "id": "df7a768e",
      "metadata": {
        "id": "df7a768e"
      },
      "outputs": [],
      "source": [
        "# model_ols.summary()\n"
      ]
    },
    {
      "cell_type": "markdown",
      "id": "a3515f5f",
      "metadata": {
        "id": "a3515f5f"
      },
      "source": [
        "* **Log-Likelihood (로그 우도):**\n",
        "\n",
        "    * 로그 우도는 확률 분포의 모수를 추정하는 모델에서 주어진 데이터가 발생할 확률의 로그를 나타냅니다. 일반적으로 최대 로그 우도를 찾는 것이 모델의 적합도를 측정하는 중요한 지표 중 하나입니다. 더 높은 로그 우도는 모델이 주어진 데이터를 더 잘 설명한다는 것을 의미합니다.\n",
        "\n",
        "\\[ $\\text{Log-Likelihood} = \\sum_{i=1}^{n} \\log(f(x_i; \\theta))$ \\]\n",
        "\n",
        "여기서,\n",
        "- \\($n$\\)은 데이터 포인트의 수,\n",
        "- \\($f(x_i; \\theta)$\\)는 확률 밀도 함수 또는 확률 질량 함수입니다,\n",
        "- \\($\\theta$\\)는 모델의 모수를 나타냅니다.\n",
        "\n",
        "\n",
        "\n",
        "* **AIC (Akaike Information Criterion):**\n",
        "\n",
        "    * AIC는 모델의 성능을 측정하는 지표 중 하나로, 모델의 적합도와 모델의 복잡성(파라미터 수) 사이의 균형을 제공합니다. AIC는 로그 우도와 모델의 파라미터 수를 고려하여 계산되며, 더 낮은 AIC 값은 더 좋은 모델을 나타냅니다.\n",
        "\n",
        "* **BIC (Bayesian Information Criterion):**\n",
        "\n",
        "    * BIC는 AIC와 유사한 목적을 가지고 있지만, 모델의 파라미터 수에 대한 페널티를 더 강조합니다. BIC는 로그 우도와 파라미터 수를 고려하여 계산되며, 더 낮은 BIC 값은 더 좋은 모델을 나타냅니다. AIC와 BIC는 모델 선택 시 고려해야 할 지표 중 하나이며, 적합한 모델을 선택하는 데 도움을 줍니다.\n",
        "\n",
        "\n",
        "\n",
        "* **F-statistic (F 통계량):**\n",
        "    * F 통계량은 회귀 모델 전체의 통계적 유의성을 평가하는 데 사용됩니다. 즉, 최소한 하나의 회귀 계수가 0이 아닌지 여부를 검증합니다. F 통계량이 클수록 적어도 하나의 독립 변수가 종속 변수에 유의미한 영향을 미친다는 증거가 더 강력합니다. 따라서 F 통계량이 유의미하면 최소한 하나의 변수는 종속 변수에 영향을 미칩니다.\n",
        "\n",
        "* **Prob (F-statistic):**\n",
        "    * Prob (F-statistic)는 F 통계량의 p-value를 나타냅니다. 이 값이 작을수록 회귀 모델 전체가 통계적으로 유의미하다는 것을 나타냅니다. 즉, 적어도 하나의 독립 변수가 종속 변수에 유의미한 영향을 미친다는 귀무 가설을 기각할 수 있는지 여부를 판단하는데 사용됩니다.\n",
        "\n",
        "\n",
        "* **모델 진단**\n",
        "    * Omnibus: 잔차의 정규성을 검정하는데 사용됩니다. 이 값이 작을수록 정규성 가정에 더 가깝습니다.\n",
        "    * Durbin-Watson: 자기상관을 검정하는데 사용됩니다. 보통 1.5에서 2.5 사이의 값이 이상적입니다.\n",
        "    * Prob(Omnibus): Omnibus 검정의 p-value. 낮을수록 정규성 가정에 위배될 가능성이 높습니다.\n",
        "    * Jarque-Bera (JB): 잔차의 왜도와 첨도에 대한 검정을 수행합니다. 작을수록 정규성에 가깝습니다.\n",
        "    * Prob(JB): JB 검정의 p-value. 낮을수록 정규성 가정에 위배될 가능성이 높습니다.\n",
        "    * Skew (왜도): 왜도가 0에 가까울수록 정규성에 가깝습니다.\n",
        "    * Kurtosis (첨도): 첨도가 3에 가까울수록 정규성에 가깝습니다.\n",
        "    * Cond. No.: 다중공선성을 확인하기 위한 조건 지수입니다.\n",
        "    \n",
        "* **주의 사항**\n",
        "    * Covariance Type: nonrobust. 공분산 행렬의 유형으로, 이 경우는 로버스트하지 않음을 의미합니다.\n",
        "    * Standard Errors assume that the covariance matrix of the errors is correctly specified.\n",
        "    * 잔차의 공분산 행렬이 정확하게 명시되었다는 가정하에 표준 오차가 계산되었다는 의미입니다."
      ]
    },
    {
      "cell_type": "code",
      "execution_count": null,
      "id": "99c25bf4",
      "metadata": {
        "id": "99c25bf4"
      },
      "outputs": [],
      "source": []
    },
    {
      "cell_type": "code",
      "execution_count": null,
      "id": "d6fd78b6",
      "metadata": {
        "id": "d6fd78b6"
      },
      "outputs": [],
      "source": []
    },
    {
      "cell_type": "code",
      "execution_count": null,
      "id": "07621b27",
      "metadata": {
        "id": "07621b27"
      },
      "outputs": [],
      "source": []
    }
  ],
  "metadata": {
    "kernelspec": {
      "display_name": "Python 3 (ipykernel)",
      "language": "python",
      "name": "python3"
    },
    "language_info": {
      "codemirror_mode": {
        "name": "ipython",
        "version": 3
      },
      "file_extension": ".py",
      "mimetype": "text/x-python",
      "name": "python",
      "nbconvert_exporter": "python",
      "pygments_lexer": "ipython3",
      "version": "3.11.4"
    },
    "toc": {
      "base_numbering": 1,
      "nav_menu": {},
      "number_sections": true,
      "sideBar": true,
      "skip_h1_title": false,
      "title_cell": "Table of Contents",
      "title_sidebar": "Contents",
      "toc_cell": false,
      "toc_position": {},
      "toc_section_display": true,
      "toc_window_display": false
    },
    "varInspector": {
      "cols": {
        "lenName": 16,
        "lenType": 16,
        "lenVar": 40
      },
      "kernels_config": {
        "python": {
          "delete_cmd_postfix": "",
          "delete_cmd_prefix": "del ",
          "library": "var_list.py",
          "varRefreshCmd": "print(var_dic_list())"
        },
        "r": {
          "delete_cmd_postfix": ") ",
          "delete_cmd_prefix": "rm(",
          "library": "var_list.r",
          "varRefreshCmd": "cat(var_dic_list()) "
        }
      },
      "types_to_exclude": [
        "module",
        "function",
        "builtin_function_or_method",
        "instance",
        "_Feature"
      ],
      "window_display": false
    },
    "colab": {
      "provenance": []
    }
  },
  "nbformat": 4,
  "nbformat_minor": 5
}