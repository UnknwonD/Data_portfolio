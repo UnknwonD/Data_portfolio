{
 "cells": [
  {
   "cell_type": "markdown",
   "id": "cc15cf01",
   "metadata": {},
   "source": [
    "### MNIST 데이터 살펴보기"
   ]
  },
  {
   "cell_type": "code",
   "execution_count": 2,
   "id": "8c672402",
   "metadata": {},
   "outputs": [
    {
     "name": "stdout",
     "output_type": "stream",
     "text": [
      "WARNING:tensorflow:From c:\\Users\\daeho\\anaconda3\\envs\\yolo\\lib\\site-packages\\keras\\src\\losses.py:2976: The name tf.losses.sparse_softmax_cross_entropy is deprecated. Please use tf.compat.v1.losses.sparse_softmax_cross_entropy instead.\n",
      "\n"
     ]
    }
   ],
   "source": [
    "import sys\n",
    "import tensorflow as tf\n",
    "import numpy as np"
   ]
  },
  {
   "cell_type": "code",
   "execution_count": 3,
   "id": "7994e2a3",
   "metadata": {},
   "outputs": [
    {
     "name": "stdout",
     "output_type": "stream",
     "text": [
      "(60000, 28, 28)\n",
      "(60000,)\n",
      "학습셋 이미지 수 : 60000 개\n",
      "테스트셋 이미지 수 : 10000 개\n"
     ]
    }
   ],
   "source": [
    "# MNIST 데이터셋 불러오기\n",
    "(X_train, Y_train), (X_test, Y_test) = tf.keras.datasets.mnist.load_data()\n",
    "\n",
    "# shape 확인하기\n",
    "print(X_train.shape) # 28 x 28의 이미지가 60,000장\n",
    "print(Y_train.shape) ## [ 5, 1, 2, 3, 4, 4,   .... ]\n",
    "print(\"학습셋 이미지 수 : %d 개\" % (X_train.shape[0]))\n",
    "print(\"테스트셋 이미지 수 : %d 개\" % (X_test.shape[0]))"
   ]
  },
  {
   "cell_type": "code",
   "execution_count": 4,
   "id": "e5d4d6dc",
   "metadata": {},
   "outputs": [
    {
     "name": "stdout",
     "output_type": "stream",
     "text": [
      "5\n"
     ]
    },
    {
     "data": {
      "image/png": "[encoded data removed]",
      "text/plain": [
       "<Figure size 640x480 with 1 Axes>"
      ]
     },
     "metadata": {},
     "output_type": "display_data"
    }
   ],
   "source": [
    "# MNIST 데이터를 시각화하기 \n",
    "import matplotlib.pyplot as plt\n",
    "print(Y_train[0])\n",
    "plt.imshow(X_train[0], cmap='Greys') # 흑백 이미지로 확인\n",
    "plt.show()"
   ]
  },
  {
   "cell_type": "code",
   "execution_count": 5,
   "id": "71e4a1cd",
   "metadata": {},
   "outputs": [
    {
     "name": "stdout",
     "output_type": "stream",
     "text": [
      "0\t0\t0\t0\t0\t0\t0\t0\t0\t0\t0\t0\t0\t0\t0\t0\t0\t0\t0\t0\t0\t0\t0\t0\t0\t0\t0\t0\t\n",
      "0\t0\t0\t0\t0\t0\t0\t0\t0\t0\t0\t0\t0\t0\t0\t0\t0\t0\t0\t0\t0\t0\t0\t0\t0\t0\t0\t0\t\n",
      "0\t0\t0\t0\t0\t0\t0\t0\t0\t0\t0\t0\t0\t0\t0\t0\t0\t0\t0\t0\t0\t0\t0\t0\t0\t0\t0\t0\t\n",
      "0\t0\t0\t0\t0\t0\t0\t0\t0\t0\t0\t0\t0\t0\t0\t0\t0\t0\t0\t0\t0\t0\t0\t0\t0\t0\t0\t0\t\n",
      "0\t0\t0\t0\t0\t0\t0\t0\t0\t0\t0\t0\t0\t0\t0\t0\t0\t0\t0\t0\t0\t0\t0\t0\t0\t0\t0\t0\t\n",
      "0\t0\t0\t0\t0\t0\t0\t0\t0\t0\t0\t0\t3\t18\t18\t18\t126\t136\t175\t26\t166\t255\t247\t127\t0\t0\t0\t0\t\n",
      "0\t0\t0\t0\t0\t0\t0\t0\t30\t36\t94\t154\t170\t253\t253\t253\t253\t253\t225\t172\t253\t242\t195\t64\t0\t0\t0\t0\t\n",
      "0\t0\t0\t0\t0\t0\t0\t49\t238\t253\t253\t253\t253\t253\t253\t253\t253\t251\t93\t82\t82\t56\t39\t0\t0\t0\t0\t0\t\n",
      "0\t0\t0\t0\t0\t0\t0\t18\t219\t253\t253\t253\t253\t253\t198\t182\t247\t241\t0\t0\t0\t0\t0\t0\t0\t0\t0\t0\t\n",
      "0\t0\t0\t0\t0\t0\t0\t0\t80\t156\t107\t253\t253\t205\t11\t0\t43\t154\t0\t0\t0\t0\t0\t0\t0\t0\t0\t0\t\n",
      "0\t0\t0\t0\t0\t0\t0\t0\t0\t14\t1\t154\t253\t90\t0\t0\t0\t0\t0\t0\t0\t0\t0\t0\t0\t0\t0\t0\t\n",
      "0\t0\t0\t0\t0\t0\t0\t0\t0\t0\t0\t139\t253\t190\t2\t0\t0\t0\t0\t0\t0\t0\t0\t0\t0\t0\t0\t0\t\n",
      "0\t0\t0\t0\t0\t0\t0\t0\t0\t0\t0\t11\t190\t253\t70\t0\t0\t0\t0\t0\t0\t0\t0\t0\t0\t0\t0\t0\t\n",
      "0\t0\t0\t0\t0\t0\t0\t0\t0\t0\t0\t0\t35\t241\t225\t160\t108\t1\t0\t0\t0\t0\t0\t0\t0\t0\t0\t0\t\n",
      "0\t0\t0\t0\t0\t0\t0\t0\t0\t0\t0\t0\t0\t81\t240\t253\t253\t119\t25\t0\t0\t0\t0\t0\t0\t0\t0\t0\t\n",
      "0\t0\t0\t0\t0\t0\t0\t0\t0\t0\t0\t0\t0\t0\t45\t186\t253\t253\t150\t27\t0\t0\t0\t0\t0\t0\t0\t0\t\n",
      "0\t0\t0\t0\t0\t0\t0\t0\t0\t0\t0\t0\t0\t0\t0\t16\t93\t252\t253\t187\t0\t0\t0\t0\t0\t0\t0\t0\t\n",
      "0\t0\t0\t0\t0\t0\t0\t0\t0\t0\t0\t0\t0\t0\t0\t0\t0\t249\t253\t249\t64\t0\t0\t0\t0\t0\t0\t0\t\n",
      "0\t0\t0\t0\t0\t0\t0\t0\t0\t0\t0\t0\t0\t0\t46\t130\t183\t253\t253\t207\t2\t0\t0\t0\t0\t0\t0\t0\t\n",
      "0\t0\t0\t0\t0\t0\t0\t0\t0\t0\t0\t0\t39\t148\t229\t253\t253\t253\t250\t182\t0\t0\t0\t0\t0\t0\t0\t0\t\n",
      "0\t0\t0\t0\t0\t0\t0\t0\t0\t0\t24\t114\t221\t253\t253\t253\t253\t201\t78\t0\t0\t0\t0\t0\t0\t0\t0\t0\t\n",
      "0\t0\t0\t0\t0\t0\t0\t0\t23\t66\t213\t253\t253\t253\t253\t198\t81\t2\t0\t0\t0\t0\t0\t0\t0\t0\t0\t0\t\n",
      "0\t0\t0\t0\t0\t0\t18\t171\t219\t253\t253\t253\t253\t195\t80\t9\t0\t0\t0\t0\t0\t0\t0\t0\t0\t0\t0\t0\t\n",
      "0\t0\t0\t0\t55\t172\t226\t253\t253\t253\t253\t244\t133\t11\t0\t0\t0\t0\t0\t0\t0\t0\t0\t0\t0\t0\t0\t0\t\n",
      "0\t0\t0\t0\t136\t253\t253\t253\t212\t135\t132\t16\t0\t0\t0\t0\t0\t0\t0\t0\t0\t0\t0\t0\t0\t0\t0\t0\t\n",
      "0\t0\t0\t0\t0\t0\t0\t0\t0\t0\t0\t0\t0\t0\t0\t0\t0\t0\t0\t0\t0\t0\t0\t0\t0\t0\t0\t0\t\n",
      "0\t0\t0\t0\t0\t0\t0\t0\t0\t0\t0\t0\t0\t0\t0\t0\t0\t0\t0\t0\t0\t0\t0\t0\t0\t0\t0\t0\t\n",
      "0\t0\t0\t0\t0\t0\t0\t0\t0\t0\t0\t0\t0\t0\t0\t0\t0\t0\t0\t0\t0\t0\t0\t0\t0\t0\t0\t0\t\n"
     ]
    }
   ],
   "source": [
    "# 데이터를 직접 들여다보기\n",
    "for x in X_train[0]:\n",
    "    for i in x:\n",
    "        sys.stdout.write('%d\\t' % i)\n",
    "    sys.stdout.write('\\n')"
   ]
  },
  {
   "cell_type": "markdown",
   "id": "d49991b6",
   "metadata": {},
   "source": [
    "### MLP 구조 만들기"
   ]
  },
  {
   "cell_type": "code",
   "execution_count": 6,
   "id": "549eb831",
   "metadata": {},
   "outputs": [],
   "source": [
    "# MLP 구조에 적절한 input의 형태로 변형하기\n",
    "## reshape()을 사용하여 2차원의 데이터를 1차원으로 변형\n",
    "## 1차원으로 변형함과 동시에 Normalization\n",
    "X_train = X_train.reshape(X_train.shape[0], 784).astype('float32') # 28 x 28= 784\n",
    "X_test = X_test.reshape(X_test.shape[0], 784).astype('float32')"
   ]
  },
  {
   "cell_type": "code",
   "execution_count": 7,
   "id": "95123916",
   "metadata": {},
   "outputs": [
    {
     "name": "stdout",
     "output_type": "stream",
     "text": [
      "Train Set : (60000, 784)\n",
      "Test Set : (10000, 784)\n"
     ]
    }
   ],
   "source": [
    "print(f\"Train Set : {X_train.shape}\")\n",
    "print(f\"Test Set : {X_test.shape}\")"
   ]
  },
  {
   "cell_type": "code",
   "execution_count": 8,
   "id": "7b6261de",
   "metadata": {},
   "outputs": [],
   "source": [
    "# Label 값을 One-hot encoding 하기 \n",
    "# Multi-Class Classfication이므로 keras.utils.to_categorical을 사용\n",
    "Y_train = tf.keras.utils.to_categorical(Y_train)\n",
    "Y_test = tf.keras.utils.to_categorical(Y_test)"
   ]
  },
  {
   "cell_type": "code",
   "execution_count": 9,
   "id": "1a1f36cf",
   "metadata": {},
   "outputs": [
    {
     "name": "stdout",
     "output_type": "stream",
     "text": [
      "(60000, 10)\n",
      "(10000, 10)\n",
      "[0. 0. 0. 0. 0. 1. 0. 0. 0. 0.]\n"
     ]
    }
   ],
   "source": [
    "print(Y_train.shape)\n",
    "print(Y_test.shape)\n",
    "print(Y_train[0])"
   ]
  },
  {
   "cell_type": "markdown",
   "id": "5fbffec6",
   "metadata": {},
   "source": [
    "### Model 설계"
   ]
  },
  {
   "cell_type": "code",
   "execution_count": 10,
   "id": "92555116",
   "metadata": {},
   "outputs": [
    {
     "name": "stdout",
     "output_type": "stream",
     "text": [
      "WARNING:tensorflow:From c:\\Users\\daeho\\anaconda3\\envs\\yolo\\lib\\site-packages\\keras\\src\\backend.py:1398: The name tf.executing_eagerly_outside_functions is deprecated. Please use tf.compat.v1.executing_eagerly_outside_functions instead.\n",
      "\n",
      "Model: \"model\"\n",
      "_________________________________________________________________\n",
      " Layer (type)                Output Shape              Param #   \n",
      "=================================================================\n",
      " input_1 (InputLayer)        [(None, 784)]             0         \n",
      "                                                                 \n",
      " dense (Dense)               (None, 512)               401920    \n",
      "                                                                 \n",
      " dense_1 (Dense)             (None, 512)               262656    \n",
      "                                                                 \n",
      " dense_2 (Dense)             (None, 10)                5130      \n",
      "                                                                 \n",
      "=================================================================\n",
      "Total params: 669706 (2.55 MB)\n",
      "Trainable params: 669706 (2.55 MB)\n",
      "Non-trainable params: 0 (0.00 Byte)\n",
      "_________________________________________________________________\n"
     ]
    }
   ],
   "source": [
    "# 모델 설계하기 \n",
    "input_layer = tf.keras.layers.Input(shape=(784,)) # input layer, input의 사이즈에 맞게 shape을 지정하는 것이 중요\n",
    "x = tf.keras.layers.Dense(512, activation='relu')(input_layer) # hidden layer 1, 512개의 perceptron으로 구성된 fully connted layer, activation 함수는 relu\n",
    "x = tf.keras.layers.Dense(512, activation='relu')(x) # hidden layer 2\n",
    "\n",
    "# 분류해야 하는 class 0~9 (10개) -> 따라서 최종 layer의 perceptron은 10개\n",
    "out_layer= tf.keras.layers.Dense(10, activation='softmax')(x)\n",
    "\n",
    "model = tf.keras.Model(inputs=[input_layer], outputs=[out_layer])\n",
    "model.summary()"
   ]
  },
  {
   "cell_type": "code",
   "execution_count": 11,
   "id": "7b2f1f8a",
   "metadata": {},
   "outputs": [],
   "source": [
    "loss=tf.keras.losses.categorical_crossentropy\n",
    "optimizer = tf.keras.optimizers.Adam(learning_rate = 0.001)\n",
    "metric=tf.keras.metrics.categorical_accuracy\n",
    "model.compile(loss = loss,\n",
    "              optimizer = optimizer,\n",
    "              metrics = [metric])"
   ]
  },
  {
   "cell_type": "markdown",
   "id": "651c6c7a",
   "metadata": {},
   "source": [
    "### MLP Model 학습하기"
   ]
  },
  {
   "cell_type": "code",
   "execution_count": 12,
   "id": "a628ed9a",
   "metadata": {},
   "outputs": [
    {
     "name": "stdout",
     "output_type": "stream",
     "text": [
      "Epoch 1/30\n",
      "WARNING:tensorflow:From c:\\Users\\daeho\\anaconda3\\envs\\yolo\\lib\\site-packages\\keras\\src\\utils\\tf_utils.py:492: The name tf.ragged.RaggedTensorValue is deprecated. Please use tf.compat.v1.ragged.RaggedTensorValue instead.\n",
      "\n",
      "WARNING:tensorflow:From c:\\Users\\daeho\\anaconda3\\envs\\yolo\\lib\\site-packages\\keras\\src\\engine\\base_layer_utils.py:384: The name tf.executing_eagerly_outside_functions is deprecated. Please use tf.compat.v1.executing_eagerly_outside_functions instead.\n",
      "\n",
      "48/48 [==============================] - 1s 11ms/step - loss: 17.3694 - categorical_accuracy: 0.7811 - val_loss: 1.2500 - val_categorical_accuracy: 0.9075\n",
      "Epoch 2/30\n",
      "48/48 [==============================] - 0s 9ms/step - loss: 0.8047 - categorical_accuracy: 0.9250 - val_loss: 0.7334 - val_categorical_accuracy: 0.9282\n",
      "Epoch 3/30\n",
      "48/48 [==============================] - 0s 9ms/step - loss: 0.3837 - categorical_accuracy: 0.9505 - val_loss: 0.6023 - val_categorical_accuracy: 0.9388\n",
      "Epoch 4/30\n",
      "48/48 [==============================] - 0s 9ms/step - loss: 0.2027 - categorical_accuracy: 0.9683 - val_loss: 0.5351 - val_categorical_accuracy: 0.9417\n",
      "Epoch 5/30\n",
      "48/48 [==============================] - 0s 8ms/step - loss: 0.1115 - categorical_accuracy: 0.9794 - val_loss: 0.5108 - val_categorical_accuracy: 0.9442\n",
      "Epoch 6/30\n",
      "48/48 [==============================] - 0s 8ms/step - loss: 0.0611 - categorical_accuracy: 0.9868 - val_loss: 0.4973 - val_categorical_accuracy: 0.9424\n",
      "Epoch 7/30\n",
      "48/48 [==============================] - 0s 9ms/step - loss: 0.0323 - categorical_accuracy: 0.9920 - val_loss: 0.4953 - val_categorical_accuracy: 0.9454\n",
      "Epoch 8/30\n",
      "48/48 [==============================] - 0s 8ms/step - loss: 0.0152 - categorical_accuracy: 0.9962 - val_loss: 0.4813 - val_categorical_accuracy: 0.9465\n",
      "Epoch 9/30\n",
      "48/48 [==============================] - 0s 8ms/step - loss: 0.0069 - categorical_accuracy: 0.9985 - val_loss: 0.4770 - val_categorical_accuracy: 0.9463\n",
      "Epoch 10/30\n",
      "48/48 [==============================] - 0s 8ms/step - loss: 0.0034 - categorical_accuracy: 0.9994 - val_loss: 0.4632 - val_categorical_accuracy: 0.9473\n",
      "Epoch 11/30\n",
      "48/48 [==============================] - 0s 9ms/step - loss: 0.0014 - categorical_accuracy: 0.9999 - val_loss: 0.4664 - val_categorical_accuracy: 0.9477\n",
      "Epoch 12/30\n",
      "48/48 [==============================] - 0s 9ms/step - loss: 8.3293e-04 - categorical_accuracy: 1.0000 - val_loss: 0.4646 - val_categorical_accuracy: 0.9479\n",
      "Epoch 13/30\n",
      "48/48 [==============================] - 0s 9ms/step - loss: 6.0722e-04 - categorical_accuracy: 1.0000 - val_loss: 0.4653 - val_categorical_accuracy: 0.9479\n",
      "Epoch 14/30\n",
      "48/48 [==============================] - 0s 9ms/step - loss: 4.9813e-04 - categorical_accuracy: 1.0000 - val_loss: 0.4646 - val_categorical_accuracy: 0.9488\n",
      "Epoch 15/30\n",
      "48/48 [==============================] - 0s 9ms/step - loss: 4.4250e-04 - categorical_accuracy: 1.0000 - val_loss: 0.4650 - val_categorical_accuracy: 0.9488\n",
      "Epoch 16/30\n",
      "48/48 [==============================] - 0s 9ms/step - loss: 3.9791e-04 - categorical_accuracy: 1.0000 - val_loss: 0.4640 - val_categorical_accuracy: 0.9492\n",
      "Epoch 17/30\n",
      "48/48 [==============================] - 0s 8ms/step - loss: 3.6307e-04 - categorical_accuracy: 1.0000 - val_loss: 0.4640 - val_categorical_accuracy: 0.9490\n",
      "Epoch 18/30\n",
      "48/48 [==============================] - 0s 9ms/step - loss: 3.3356e-04 - categorical_accuracy: 1.0000 - val_loss: 0.4635 - val_categorical_accuracy: 0.9492\n",
      "Epoch 19/30\n",
      "48/48 [==============================] - 0s 8ms/step - loss: 3.0822e-04 - categorical_accuracy: 1.0000 - val_loss: 0.4633 - val_categorical_accuracy: 0.9493\n",
      "Epoch 20/30\n",
      "48/48 [==============================] - 0s 9ms/step - loss: 2.8618e-04 - categorical_accuracy: 1.0000 - val_loss: 0.4636 - val_categorical_accuracy: 0.9498\n",
      "Epoch 21/30\n",
      "48/48 [==============================] - 0s 9ms/step - loss: 2.6647e-04 - categorical_accuracy: 1.0000 - val_loss: 0.4630 - val_categorical_accuracy: 0.9497\n",
      "Epoch 22/30\n",
      "48/48 [==============================] - 0s 9ms/step - loss: 2.5004e-04 - categorical_accuracy: 1.0000 - val_loss: 0.4633 - val_categorical_accuracy: 0.9494\n",
      "Epoch 23/30\n",
      "48/48 [==============================] - 0s 9ms/step - loss: 2.3464e-04 - categorical_accuracy: 1.0000 - val_loss: 0.4630 - val_categorical_accuracy: 0.9498\n",
      "Epoch 24/30\n",
      "48/48 [==============================] - 0s 9ms/step - loss: 2.2082e-04 - categorical_accuracy: 1.0000 - val_loss: 0.4627 - val_categorical_accuracy: 0.9497\n",
      "Epoch 25/30\n",
      "48/48 [==============================] - 0s 9ms/step - loss: 2.0787e-04 - categorical_accuracy: 1.0000 - val_loss: 0.4625 - val_categorical_accuracy: 0.9498\n",
      "Epoch 26/30\n",
      "48/48 [==============================] - 0s 8ms/step - loss: 1.9694e-04 - categorical_accuracy: 1.0000 - val_loss: 0.4627 - val_categorical_accuracy: 0.9499\n",
      "Epoch 27/30\n",
      "48/48 [==============================] - 0s 9ms/step - loss: 1.8651e-04 - categorical_accuracy: 1.0000 - val_loss: 0.4625 - val_categorical_accuracy: 0.9499\n",
      "Epoch 28/30\n",
      "48/48 [==============================] - 0s 9ms/step - loss: 1.7706e-04 - categorical_accuracy: 1.0000 - val_loss: 0.4623 - val_categorical_accuracy: 0.9500\n",
      "Epoch 29/30\n",
      "48/48 [==============================] - 0s 9ms/step - loss: 1.6785e-04 - categorical_accuracy: 1.0000 - val_loss: 0.4626 - val_categorical_accuracy: 0.9503\n",
      "Epoch 30/30\n",
      "48/48 [==============================] - 0s 8ms/step - loss: 1.5993e-04 - categorical_accuracy: 1.0000 - val_loss: 0.4627 - val_categorical_accuracy: 0.9502\n",
      "dict_keys(['loss', 'categorical_accuracy', 'val_loss', 'val_categorical_accuracy'])\n"
     ]
    }
   ],
   "source": [
    "# validation_data 옵션으로 테스트 데이터만 넣어주어서 검증 데이터 분류가 가능\n",
    "history = model.fit(X_train, Y_train, validation_split=0.2, epochs=30, batch_size=1000, verbose=1)\n",
    "print(history.history.keys())"
   ]
  },
  {
   "cell_type": "code",
   "execution_count": 13,
   "id": "edb16650",
   "metadata": {},
   "outputs": [
    {
     "name": "stdout",
     "output_type": "stream",
     "text": [
      "[17.36944007873535, 0.8047422766685486, 0.3836521804332733, 0.20274092257022858, 0.11146930605173111, 0.061073388904333115, 0.03231443092226982, 0.015152652747929096, 0.006933671422302723, 0.003376430831849575, 0.00140008341986686, 0.0008329266565851867, 0.0006072163814678788, 0.0004981343518011272, 0.0004424987710081041, 0.00039791406015865505, 0.0003630725550465286, 0.0003335570509079844, 0.00030821721884422004, 0.00028618224314413965, 0.0002664715575519949, 0.0002500393893569708, 0.0002346380933886394, 0.0002208238438470289, 0.00020787064568139613, 0.00019693939248099923, 0.00018650668789632618, 0.00017705827485769987, 0.00016784506442490965, 0.00015992582484614104]\n",
      "[1.2499955892562866, 0.7334479093551636, 0.6023222208023071, 0.5350516438484192, 0.510835587978363, 0.49726423621177673, 0.4952939450740814, 0.48132002353668213, 0.4770313799381256, 0.4631611406803131, 0.46639615297317505, 0.46463334560394287, 0.4653271436691284, 0.4646417498588562, 0.46501484513282776, 0.4640372693538666, 0.4639643132686615, 0.4635457396507263, 0.46331456303596497, 0.46358877420425415, 0.46302977204322815, 0.4633328318595886, 0.46297404170036316, 0.4627038836479187, 0.4625074565410614, 0.46270251274108887, 0.4625295400619507, 0.4623165726661682, 0.4625559449195862, 0.462708055973053]\n"
     ]
    }
   ],
   "source": [
    "# Training loss 확인하기\n",
    "loss = history.history['loss']\n",
    "val_loss = history.history['val_loss']\n",
    "\n",
    "print(loss)\n",
    "print(val_loss)"
   ]
  },
  {
   "cell_type": "markdown",
   "id": "c6dcae5d",
   "metadata": {},
   "source": [
    "### 학습된 모델 성능 확인하기"
   ]
  },
  {
   "cell_type": "code",
   "execution_count": 14,
   "id": "2f006120",
   "metadata": {},
   "outputs": [
    {
     "name": "stdout",
     "output_type": "stream",
     "text": [
      "313/313 [==============================] - 0s 815us/step - loss: 0.4631 - categorical_accuracy: 0.9510\n",
      "\n",
      " Test Accuracy: 0.9510\n"
     ]
    }
   ],
   "source": [
    "# Test 데이터를 통해서 정확도 확인하기\n",
    "print(\"\\n Test Accuracy: %.4f\" % (model.evaluate(X_test, Y_test)[1]))"
   ]
  },
  {
   "cell_type": "code",
   "execution_count": 15,
   "id": "d276f59a",
   "metadata": {},
   "outputs": [
    {
     "data": {
      "image/png": "[encoded data removed]",
      "text/plain": [
       "<Figure size 640x480 with 1 Axes>"
      ]
     },
     "metadata": {},
     "output_type": "display_data"
    }
   ],
   "source": [
    "# 그래프로 표현\n",
    "x_len = np.arange(len(val_loss))\n",
    "plt.plot(x_len, val_loss, marker='.', c=\"red\", label='validation loss')\n",
    "plt.plot(x_len, loss, marker='.', c=\"blue\", label='training loss')\n",
    "\n",
    "# 그래프에 그리드를 주고 레이블을 표시\n",
    "plt.legend(loc='upper right')\n",
    "# plt.axis([0, 20, 0, 0.35])\n",
    "plt.grid()\n",
    "plt.xlabel('epoch')\n",
    "plt.ylabel('loss')\n",
    "plt.show()"
   ]
  },
  {
   "cell_type": "markdown",
   "id": "75d16ce9",
   "metadata": {},
   "source": [
    "### MLP (Multi Layers Perceptron)의 한계를 코드로 확인하기"
   ]
  },
  {
   "cell_type": "code",
   "execution_count": 16,
   "id": "06906577",
   "metadata": {},
   "outputs": [],
   "source": [
    "import cv2\n",
    "\n",
    "(X_train, y_train), (X_test, y_test) = tf.keras.datasets.mnist.load_data()"
   ]
  },
  {
   "cell_type": "code",
   "execution_count": 18,
   "id": "03d5cfcf",
   "metadata": {},
   "outputs": [
    {
     "name": "stdout",
     "output_type": "stream",
     "text": [
      "0\n"
     ]
    },
    {
     "data": {
      "image/png": "[encoded data removed]",
      "text/plain": [
       "<Figure size 640x480 with 1 Axes>"
      ]
     },
     "metadata": {},
     "output_type": "display_data"
    }
   ],
   "source": [
    "import matplotlib.pyplot as plt\n",
    "\n",
    "print(y_train[1])\n",
    "plt.imshow(X_train[1], cmap='Greys')\n",
    "plt.show()"
   ]
  },
  {
   "cell_type": "code",
   "execution_count": 19,
   "id": "9f54e382",
   "metadata": {},
   "outputs": [],
   "source": [
    "# 이미지 회전 변환 메트릭스 구하기\n",
    "M = cv2.getRotationMatrix2D((20, 25), 20, 1)\n",
    "\n",
    "# 이미지 이동 변환 메트릭스 구하기\n",
    "M[0, 2] = M[0, 2] + 3\n",
    "M[1, 2] = M[1, 2] + 3\n",
    "\n",
    "# 이미지 변환 메트릭스 적용\n",
    "test_image = cv2.warpAffine(X_train[5], M, (28, 28))"
   ]
  },
  {
   "cell_type": "code",
   "execution_count": 21,
   "id": "66f3438f",
   "metadata": {},
   "outputs": [
    {
     "data": {
      "text/plain": [
       "<matplotlib.image.AxesImage at 0x1d78a5a72b0>"
      ]
     },
     "execution_count": 21,
     "metadata": {},
     "output_type": "execute_result"
    },
    {
     "data": {
      "image/png": "[encoded data removed]",
      "text/plain": [
       "<Figure size 640x480 with 1 Axes>"
      ]
     },
     "metadata": {},
     "output_type": "display_data"
    }
   ],
   "source": [
    "plt.imshow(test_image, cmap='Greys')"
   ]
  },
  {
   "cell_type": "code",
   "execution_count": 22,
   "id": "98b2d836",
   "metadata": {},
   "outputs": [],
   "source": [
    "# MLP의 input 데이터를 넣어주기 위해 1x784 형태로 reshape하고 normalization\n",
    "test_image_reshape = test_image.reshape(1, 784).astype('float64')"
   ]
  },
  {
   "cell_type": "code",
   "execution_count": 23,
   "id": "388ae89b",
   "metadata": {},
   "outputs": [
    {
     "name": "stdout",
     "output_type": "stream",
     "text": [
      "1/1 [==============================] - 0s 56ms/step\n"
     ]
    }
   ],
   "source": [
    "Y_prediction = model.predict(test_image_reshape)"
   ]
  },
  {
   "cell_type": "code",
   "execution_count": 24,
   "id": "6b6ea40e",
   "metadata": {},
   "outputs": [
    {
     "data": {
      "image/png": "[encoded data removed]",
      "text/plain": [
       "<Figure size 640x480 with 1 Axes>"
      ]
     },
     "metadata": {},
     "output_type": "display_data"
    }
   ],
   "source": [
    "index = np.argmax(Y_prediction) # 10개의 class가 각 확률 값으로 나오기 때문에 가장 높은 값을 가진 인덱스를 추출 \n",
    "value = Y_prediction[:, index]\n",
    "plt.imshow(test_image, cmap='Greys')\n",
    "plt.xlabel(\"prediction: \"+str(index)+\"  \" +str(value), fontsize=20)\n",
    "plt.show()"
   ]
  }
 ],
 "metadata": {
  "kernelspec": {
   "display_name": "Python 3 (ipykernel)",
   "language": "python",
   "name": "python3"
  },
  "language_info": {
   "codemirror_mode": {
    "name": "ipython",
    "version": 3
   },
   "file_extension": ".py",
   "mimetype": "text/x-python",
   "name": "python",
   "nbconvert_exporter": "python",
   "pygments_lexer": "ipython3",
   "version": "3.9.18"
  }
 },
 "nbformat": 4,
 "nbformat_minor": 5
}
