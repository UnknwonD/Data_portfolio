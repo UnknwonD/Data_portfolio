{
 "cells": [
  {
   "cell_type": "markdown",
   "id": "cc15cf01",
   "metadata": {},
   "source": [
    "### MNIST 데이터 살펴보기"
   ]
  },
  {
   "cell_type": "code",
   "execution_count": 3,
   "id": "8c672402",
   "metadata": {},
   "outputs": [],
   "source": [
    "import sys\n",
    "import tensorflow as tf\n",
    "import numpy as np"
   ]
  },
  {
   "cell_type": "code",
   "execution_count": 4,
   "id": "7994e2a3",
   "metadata": {},
   "outputs": [
    {
     "name": "stdout",
     "output_type": "stream",
     "text": [
      "(60000, 28, 28)\n",
      "(60000,)\n",
      "학습셋 이미지 수 : 60000 개\n",
      "테스트셋 이미지 수 : 10000 개\n"
     ]
    }
   ],
   "source": [
    "# MNIST 데이터셋 불러오기\n",
    "(X_train, Y_train), (X_test, Y_test) = tf.keras.datasets.mnist.load_data()\n",
    "\n",
    "# shape 확인하기\n",
    "print(X_train.shape) # 28 x 28의 이미지가 60,000장\n",
    "print(Y_train.shape) ## [ 5, 1, 2, 3, 4, 4,   .... ]\n",
    "print(\"학습셋 이미지 수 : %d 개\" % (X_train.shape[0]))\n",
    "print(\"테스트셋 이미지 수 : %d 개\" % (X_test.shape[0]))"
   ]
  },
  {
   "cell_type": "code",
   "execution_count": 5,
   "id": "e5d4d6dc",
   "metadata": {},
   "outputs": [
    {
     "name": "stdout",
     "output_type": "stream",
     "text": [
      "5\n"
     ]
    },
    {
     "data": {
      "image/png": "[encoded data removed]",
      "text/plain": [
       "<Figure size 432x288 with 1 Axes>"
      ]
     },
     "metadata": {
      "needs_background": "light"
     },
     "output_type": "display_data"
    }
   ],
   "source": [
    "# MNIST 데이터를 시각화하기 \n",
    "import matplotlib.pyplot as plt\n",
    "print(Y_train[0])\n",
    "plt.imshow(X_train[0], cmap='Greys') # 흑백 이미지로 확인\n",
    "plt.show()"
   ]
  },
  {
   "cell_type": "code",
   "execution_count": 6,
   "id": "71e4a1cd",
   "metadata": {},
   "outputs": [
    {
     "name": "stdout",
     "output_type": "stream",
     "text": [
      "0\t0\t0\t0\t0\t0\t0\t0\t0\t0\t0\t0\t0\t0\t0\t0\t0\t0\t0\t0\t0\t0\t0\t0\t0\t0\t0\t0\t\n",
      "0\t0\t0\t0\t0\t0\t0\t0\t0\t0\t0\t0\t0\t0\t0\t0\t0\t0\t0\t0\t0\t0\t0\t0\t0\t0\t0\t0\t\n",
      "0\t0\t0\t0\t0\t0\t0\t0\t0\t0\t0\t0\t0\t0\t0\t0\t0\t0\t0\t0\t0\t0\t0\t0\t0\t0\t0\t0\t\n",
      "0\t0\t0\t0\t0\t0\t0\t0\t0\t0\t0\t0\t0\t0\t0\t0\t0\t0\t0\t0\t0\t0\t0\t0\t0\t0\t0\t0\t\n",
      "0\t0\t0\t0\t0\t0\t0\t0\t0\t0\t0\t0\t0\t0\t0\t0\t0\t0\t0\t0\t0\t0\t0\t0\t0\t0\t0\t0\t\n",
      "0\t0\t0\t0\t0\t0\t0\t0\t0\t0\t0\t0\t3\t18\t18\t18\t126\t136\t175\t26\t166\t255\t247\t127\t0\t0\t0\t0\t\n",
      "0\t0\t0\t0\t0\t0\t0\t0\t30\t36\t94\t154\t170\t253\t253\t253\t253\t253\t225\t172\t253\t242\t195\t64\t0\t0\t0\t0\t\n",
      "0\t0\t0\t0\t0\t0\t0\t49\t238\t253\t253\t253\t253\t253\t253\t253\t253\t251\t93\t82\t82\t56\t39\t0\t0\t0\t0\t0\t\n",
      "0\t0\t0\t0\t0\t0\t0\t18\t219\t253\t253\t253\t253\t253\t198\t182\t247\t241\t0\t0\t0\t0\t0\t0\t0\t0\t0\t0\t\n",
      "0\t0\t0\t0\t0\t0\t0\t0\t80\t156\t107\t253\t253\t205\t11\t0\t43\t154\t0\t0\t0\t0\t0\t0\t0\t0\t0\t0\t\n",
      "0\t0\t0\t0\t0\t0\t0\t0\t0\t14\t1\t154\t253\t90\t0\t0\t0\t0\t0\t0\t0\t0\t0\t0\t0\t0\t0\t0\t\n",
      "0\t0\t0\t0\t0\t0\t0\t0\t0\t0\t0\t139\t253\t190\t2\t0\t0\t0\t0\t0\t0\t0\t0\t0\t0\t0\t0\t0\t\n",
      "0\t0\t0\t0\t0\t0\t0\t0\t0\t0\t0\t11\t190\t253\t70\t0\t0\t0\t0\t0\t0\t0\t0\t0\t0\t0\t0\t0\t\n",
      "0\t0\t0\t0\t0\t0\t0\t0\t0\t0\t0\t0\t35\t241\t225\t160\t108\t1\t0\t0\t0\t0\t0\t0\t0\t0\t0\t0\t\n",
      "0\t0\t0\t0\t0\t0\t0\t0\t0\t0\t0\t0\t0\t81\t240\t253\t253\t119\t25\t0\t0\t0\t0\t0\t0\t0\t0\t0\t\n",
      "0\t0\t0\t0\t0\t0\t0\t0\t0\t0\t0\t0\t0\t0\t45\t186\t253\t253\t150\t27\t0\t0\t0\t0\t0\t0\t0\t0\t\n",
      "0\t0\t0\t0\t0\t0\t0\t0\t0\t0\t0\t0\t0\t0\t0\t16\t93\t252\t253\t187\t0\t0\t0\t0\t0\t0\t0\t0\t\n",
      "0\t0\t0\t0\t0\t0\t0\t0\t0\t0\t0\t0\t0\t0\t0\t0\t0\t249\t253\t249\t64\t0\t0\t0\t0\t0\t0\t0\t\n",
      "0\t0\t0\t0\t0\t0\t0\t0\t0\t0\t0\t0\t0\t0\t46\t130\t183\t253\t253\t207\t2\t0\t0\t0\t0\t0\t0\t0\t\n",
      "0\t0\t0\t0\t0\t0\t0\t0\t0\t0\t0\t0\t39\t148\t229\t253\t253\t253\t250\t182\t0\t0\t0\t0\t0\t0\t0\t0\t\n",
      "0\t0\t0\t0\t0\t0\t0\t0\t0\t0\t24\t114\t221\t253\t253\t253\t253\t201\t78\t0\t0\t0\t0\t0\t0\t0\t0\t0\t\n",
      "0\t0\t0\t0\t0\t0\t0\t0\t23\t66\t213\t253\t253\t253\t253\t198\t81\t2\t0\t0\t0\t0\t0\t0\t0\t0\t0\t0\t\n",
      "0\t0\t0\t0\t0\t0\t18\t171\t219\t253\t253\t253\t253\t195\t80\t9\t0\t0\t0\t0\t0\t0\t0\t0\t0\t0\t0\t0\t\n",
      "0\t0\t0\t0\t55\t172\t226\t253\t253\t253\t253\t244\t133\t11\t0\t0\t0\t0\t0\t0\t0\t0\t0\t0\t0\t0\t0\t0\t\n",
      "0\t0\t0\t0\t136\t253\t253\t253\t212\t135\t132\t16\t0\t0\t0\t0\t0\t0\t0\t0\t0\t0\t0\t0\t0\t0\t0\t0\t\n",
      "0\t0\t0\t0\t0\t0\t0\t0\t0\t0\t0\t0\t0\t0\t0\t0\t0\t0\t0\t0\t0\t0\t0\t0\t0\t0\t0\t0\t\n",
      "0\t0\t0\t0\t0\t0\t0\t0\t0\t0\t0\t0\t0\t0\t0\t0\t0\t0\t0\t0\t0\t0\t0\t0\t0\t0\t0\t0\t\n",
      "0\t0\t0\t0\t0\t0\t0\t0\t0\t0\t0\t0\t0\t0\t0\t0\t0\t0\t0\t0\t0\t0\t0\t0\t0\t0\t0\t0\t\n"
     ]
    }
   ],
   "source": [
    "# 데이터를 직접 들여다보기\n",
    "for x in X_train[0]:\n",
    "    for i in x:\n",
    "        sys.stdout.write('%d\\t' % i)\n",
    "    sys.stdout.write('\\n')"
   ]
  },
  {
   "cell_type": "markdown",
   "id": "d49991b6",
   "metadata": {},
   "source": [
    "### MLP 구조 만들기"
   ]
  },
  {
   "cell_type": "code",
   "execution_count": 7,
   "id": "549eb831",
   "metadata": {},
   "outputs": [],
   "source": [
    "# MLP 구조에 적절한 input의 형태로 변형하기\n",
    "## reshape()을 사용하여 2차원의 데이터를 1차원으로 변형\n",
    "## 1차원으로 변형함과 동시에 Normalization\n",
    "X_train = X_train.reshape(X_train.shape[0], 784).astype('float32') # 28 x 28= 784\n",
    "X_test = X_test.reshape(X_test.shape[0], 784).astype('float32')"
   ]
  },
  {
   "cell_type": "code",
   "execution_count": 8,
   "id": "95123916",
   "metadata": {},
   "outputs": [
    {
     "name": "stdout",
     "output_type": "stream",
     "text": [
      "Train Set : (60000, 784)\n",
      "Test Set : (10000, 784)\n"
     ]
    }
   ],
   "source": [
    "print(f\"Train Set : {X_train.shape}\")\n",
    "print(f\"Test Set : {X_test.shape}\")"
   ]
  },
  {
   "cell_type": "code",
   "execution_count": 9,
   "id": "7b6261de",
   "metadata": {},
   "outputs": [],
   "source": [
    "# Label 값을 One-hot encoding 하기 \n",
    "# Multi-Class Classfication이므로 keras.utils.to_categorical을 사용\n",
    "Y_train = tf.keras.utils.to_categorical(Y_train)\n",
    "Y_test = tf.keras.utils.to_categorical(Y_test)"
   ]
  },
  {
   "cell_type": "code",
   "execution_count": 10,
   "id": "1a1f36cf",
   "metadata": {},
   "outputs": [
    {
     "name": "stdout",
     "output_type": "stream",
     "text": [
      "(60000, 10)\n",
      "(10000, 10)\n",
      "[0. 0. 0. 0. 0. 1. 0. 0. 0. 0.]\n"
     ]
    }
   ],
   "source": [
    "print(Y_train.shape)\n",
    "print(Y_test.shape)\n",
    "print(Y_train[0])"
   ]
  },
  {
   "cell_type": "markdown",
   "id": "5fbffec6",
   "metadata": {},
   "source": [
    "### Model 설계"
   ]
  },
  {
   "cell_type": "code",
   "execution_count": 11,
   "id": "92555116",
   "metadata": {},
   "outputs": [
    {
     "name": "stdout",
     "output_type": "stream",
     "text": [
      "Model: \"model\"\n",
      "_________________________________________________________________\n",
      "Layer (type)                 Output Shape              Param #   \n",
      "=================================================================\n",
      "input_1 (InputLayer)         [(None, 784)]             0         \n",
      "_________________________________________________________________\n",
      "dense (Dense)                (None, 512)               401920    \n",
      "_________________________________________________________________\n",
      "dense_1 (Dense)              (None, 512)               262656    \n",
      "_________________________________________________________________\n",
      "dense_2 (Dense)              (None, 10)                5130      \n",
      "=================================================================\n",
      "Total params: 669,706\n",
      "Trainable params: 669,706\n",
      "Non-trainable params: 0\n",
      "_________________________________________________________________\n"
     ]
    }
   ],
   "source": [
    "# 모델 설계하기 \n",
    "input_layer = tf.keras.layers.Input(shape=(784,)) # input layer, input의 사이즈에 맞게 shape을 지정하는 것이 중요\n",
    "x = tf.keras.layers.Dense(512, activation='relu')(input_layer) # hidden layer 1, 512개의 perceptron으로 구성된 fully connted layer, activation 함수는 relu\n",
    "x = tf.keras.layers.Dense(512, activation='relu')(x) # hidden layer 2\n",
    "\n",
    "# 분류해야 하는 class 0~9 (10개) -> 따라서 최종 layer의 perceptron은 10개\n",
    "out_layer= tf.keras.layers.Dense(10, activation='softmax')(x)\n",
    "\n",
    "model = tf.keras.Model(inputs=[input_layer], outputs=[out_layer])\n",
    "model.summary()"
   ]
  },
  {
   "cell_type": "code",
   "execution_count": 12,
   "id": "7b2f1f8a",
   "metadata": {},
   "outputs": [],
   "source": [
    "loss=tf.keras.losses.categorical_crossentropy\n",
    "optimizer = tf.keras.optimizers.Adam(learning_rate = 0.001)\n",
    "metric=tf.keras.metrics.categorical_accuracy\n",
    "model.compile(loss = loss,\n",
    "              optimizer = optimizer,\n",
    "              metrics = [metric])"
   ]
  },
  {
   "cell_type": "markdown",
   "id": "651c6c7a",
   "metadata": {},
   "source": [
    "### MLP Model 학습하기"
   ]
  },
  {
   "cell_type": "code",
   "execution_count": 13,
   "id": "a628ed9a",
   "metadata": {},
   "outputs": [
    {
     "name": "stdout",
     "output_type": "stream",
     "text": [
      "Epoch 1/30\n",
      "48/48 [==============================] - 1s 9ms/step - loss: 18.1541 - categorical_accuracy: 0.7752 - val_loss: 1.3042 - val_categorical_accuracy: 0.9072\n",
      "Epoch 2/30\n",
      "48/48 [==============================] - 0s 5ms/step - loss: 0.8531 - categorical_accuracy: 0.9236 - val_loss: 0.7760 - val_categorical_accuracy: 0.9242\n",
      "Epoch 3/30\n",
      "48/48 [==============================] - 0s 5ms/step - loss: 0.4249 - categorical_accuracy: 0.9482 - val_loss: 0.6171 - val_categorical_accuracy: 0.9350\n",
      "Epoch 4/30\n",
      "48/48 [==============================] - 0s 5ms/step - loss: 0.2369 - categorical_accuracy: 0.9638 - val_loss: 0.5527 - val_categorical_accuracy: 0.9402\n",
      "Epoch 5/30\n",
      "48/48 [==============================] - 0s 4ms/step - loss: 0.1355 - categorical_accuracy: 0.9749 - val_loss: 0.5070 - val_categorical_accuracy: 0.9440\n",
      "Epoch 6/30\n",
      "48/48 [==============================] - 0s 4ms/step - loss: 0.0745 - categorical_accuracy: 0.9847 - val_loss: 0.5054 - val_categorical_accuracy: 0.9442\n",
      "Epoch 7/30\n",
      "48/48 [==============================] - 0s 4ms/step - loss: 0.0426 - categorical_accuracy: 0.9905 - val_loss: 0.4971 - val_categorical_accuracy: 0.9447\n",
      "Epoch 8/30\n",
      "48/48 [==============================] - 0s 4ms/step - loss: 0.0243 - categorical_accuracy: 0.9938 - val_loss: 0.4827 - val_categorical_accuracy: 0.9465\n",
      "Epoch 9/30\n",
      "48/48 [==============================] - 0s 4ms/step - loss: 0.0118 - categorical_accuracy: 0.9969 - val_loss: 0.4818 - val_categorical_accuracy: 0.9452\n",
      "Epoch 10/30\n",
      "48/48 [==============================] - 0s 4ms/step - loss: 0.0060 - categorical_accuracy: 0.9990 - val_loss: 0.4730 - val_categorical_accuracy: 0.9483\n",
      "Epoch 11/30\n",
      "48/48 [==============================] - 0s 4ms/step - loss: 0.0030 - categorical_accuracy: 0.9997 - val_loss: 0.4727 - val_categorical_accuracy: 0.9483\n",
      "Epoch 12/30\n",
      "48/48 [==============================] - 0s 4ms/step - loss: 0.0018 - categorical_accuracy: 0.9999 - val_loss: 0.4677 - val_categorical_accuracy: 0.9488\n",
      "Epoch 13/30\n",
      "48/48 [==============================] - 0s 4ms/step - loss: 0.0011 - categorical_accuracy: 0.9999 - val_loss: 0.4673 - val_categorical_accuracy: 0.9497\n",
      "Epoch 14/30\n",
      "48/48 [==============================] - 0s 4ms/step - loss: 8.8776e-04 - categorical_accuracy: 0.9999 - val_loss: 0.4698 - val_categorical_accuracy: 0.9492\n",
      "Epoch 15/30\n",
      "48/48 [==============================] - 0s 4ms/step - loss: 5.5551e-04 - categorical_accuracy: 1.0000 - val_loss: 0.4682 - val_categorical_accuracy: 0.9495\n",
      "Epoch 16/30\n",
      "48/48 [==============================] - 0s 4ms/step - loss: 4.7060e-04 - categorical_accuracy: 1.0000 - val_loss: 0.4680 - val_categorical_accuracy: 0.9498\n",
      "Epoch 17/30\n",
      "48/48 [==============================] - 0s 4ms/step - loss: 4.0717e-04 - categorical_accuracy: 1.0000 - val_loss: 0.4682 - val_categorical_accuracy: 0.9498\n",
      "Epoch 18/30\n",
      "48/48 [==============================] - 0s 4ms/step - loss: 3.6607e-04 - categorical_accuracy: 1.0000 - val_loss: 0.4681 - val_categorical_accuracy: 0.9502\n",
      "Epoch 19/30\n",
      "48/48 [==============================] - 0s 4ms/step - loss: 3.3751e-04 - categorical_accuracy: 1.0000 - val_loss: 0.4684 - val_categorical_accuracy: 0.9503\n",
      "Epoch 20/30\n",
      "48/48 [==============================] - 0s 4ms/step - loss: 3.1062e-04 - categorical_accuracy: 1.0000 - val_loss: 0.4682 - val_categorical_accuracy: 0.9504\n",
      "Epoch 21/30\n",
      "48/48 [==============================] - 0s 4ms/step - loss: 2.9065e-04 - categorical_accuracy: 1.0000 - val_loss: 0.4683 - val_categorical_accuracy: 0.9507\n",
      "Epoch 22/30\n",
      "48/48 [==============================] - 0s 4ms/step - loss: 2.7130e-04 - categorical_accuracy: 1.0000 - val_loss: 0.4684 - val_categorical_accuracy: 0.9509\n",
      "Epoch 23/30\n",
      "48/48 [==============================] - 0s 4ms/step - loss: 2.5367e-04 - categorical_accuracy: 1.0000 - val_loss: 0.4686 - val_categorical_accuracy: 0.9508\n",
      "Epoch 24/30\n",
      "48/48 [==============================] - 0s 4ms/step - loss: 2.3855e-04 - categorical_accuracy: 1.0000 - val_loss: 0.4680 - val_categorical_accuracy: 0.9508\n",
      "Epoch 25/30\n",
      "48/48 [==============================] - 0s 4ms/step - loss: 2.2531e-04 - categorical_accuracy: 1.0000 - val_loss: 0.4684 - val_categorical_accuracy: 0.9509\n",
      "Epoch 26/30\n",
      "48/48 [==============================] - 0s 4ms/step - loss: 2.1289e-04 - categorical_accuracy: 1.0000 - val_loss: 0.4685 - val_categorical_accuracy: 0.9510\n",
      "Epoch 27/30\n",
      "48/48 [==============================] - 0s 4ms/step - loss: 2.0050e-04 - categorical_accuracy: 1.0000 - val_loss: 0.4686 - val_categorical_accuracy: 0.9517\n",
      "Epoch 28/30\n",
      "48/48 [==============================] - 0s 4ms/step - loss: 1.9057e-04 - categorical_accuracy: 1.0000 - val_loss: 0.4686 - val_categorical_accuracy: 0.9510\n",
      "Epoch 29/30\n",
      "48/48 [==============================] - 0s 4ms/step - loss: 1.8115e-04 - categorical_accuracy: 1.0000 - val_loss: 0.4688 - val_categorical_accuracy: 0.9513\n",
      "Epoch 30/30\n",
      "48/48 [==============================] - 0s 4ms/step - loss: 1.7238e-04 - categorical_accuracy: 1.0000 - val_loss: 0.4689 - val_categorical_accuracy: 0.9515\n",
      "dict_keys(['loss', 'categorical_accuracy', 'val_loss', 'val_categorical_accuracy'])\n"
     ]
    }
   ],
   "source": [
    "# validation_data 옵션으로 테스트 데이터만 넣어주어서 검증 데이터 분류가 가능\n",
    "history = model.fit(X_train, Y_train, validation_split=0.2, epochs=30, batch_size=1000, verbose=1)\n",
    "print(history.history.keys())"
   ]
  },
  {
   "cell_type": "code",
   "execution_count": 14,
   "id": "edb16650",
   "metadata": {},
   "outputs": [
    {
     "name": "stdout",
     "output_type": "stream",
     "text": [
      "[18.154094696044922, 0.8531219363212585, 0.42490091919898987, 0.23689714074134827, 0.13547705113887787, 0.07449010759592056, 0.04256576672196388, 0.02425067126750946, 0.011759576387703419, 0.006030125077813864, 0.003046007128432393, 0.0017785566160455346, 0.001143804518505931, 0.000887761649210006, 0.0005555083625949919, 0.00047059953794814646, 0.00040717137744650245, 0.00036606681533157825, 0.00033751045702956617, 0.00031061595655046403, 0.0002906514273490757, 0.00027130122180096805, 0.0002536715765018016, 0.00023855360632296652, 0.00022530806018039584, 0.00021289466531015933, 0.00020050474267918617, 0.0001905663957586512, 0.00018114590784534812, 0.00017238066357094795]\n",
      "[1.3041995763778687, 0.7759627103805542, 0.6171221733093262, 0.5526620149612427, 0.5070005059242249, 0.5054216384887695, 0.49707385897636414, 0.4827086925506592, 0.48175641894340515, 0.47300979495048523, 0.47270962595939636, 0.46765780448913574, 0.46729931235313416, 0.46976765990257263, 0.46821728348731995, 0.468014657497406, 0.46815499663352966, 0.4681040048599243, 0.46839046478271484, 0.468207448720932, 0.46831944584846497, 0.468414843082428, 0.4685591161251068, 0.4680280089378357, 0.4684273302555084, 0.4684542119503021, 0.4686216115951538, 0.4686111509799957, 0.468813955783844, 0.46888166666030884]\n"
     ]
    }
   ],
   "source": [
    "# Training loss 확인하기\n",
    "loss = history.history['loss']\n",
    "val_loss = history.history['val_loss']\n",
    "\n",
    "print(loss)\n",
    "print(val_loss)"
   ]
  },
  {
   "cell_type": "markdown",
   "id": "c6dcae5d",
   "metadata": {},
   "source": [
    "### 학습된 모델 성능 확인하기"
   ]
  },
  {
   "cell_type": "code",
   "execution_count": 15,
   "id": "2f006120",
   "metadata": {},
   "outputs": [
    {
     "name": "stdout",
     "output_type": "stream",
     "text": [
      "313/313 [==============================] - 1s 2ms/step - loss: 0.4109 - categorical_accuracy: 0.9522\n",
      "\n",
      " Test Accuracy: 0.9522\n"
     ]
    }
   ],
   "source": [
    "# Test 데이터를 통해서 정확도 확인하기\n",
    "print(\"\\n Test Accuracy: %.4f\" % (model.evaluate(X_test, Y_test)[1]))"
   ]
  },
  {
   "cell_type": "code",
   "execution_count": 16,
   "id": "d276f59a",
   "metadata": {},
   "outputs": [
    {
     "data": {
      "image/png": "[encoded data removed]",
      "text/plain": [
       "<Figure size 432x288 with 1 Axes>"
      ]
     },
     "metadata": {
      "needs_background": "light"
     },
     "output_type": "display_data"
    }
   ],
   "source": [
    "# 그래프로 표현\n",
    "x_len = np.arange(len(val_loss))\n",
    "plt.plot(x_len, val_loss, marker='.', c=\"red\", label='validation loss')\n",
    "plt.plot(x_len, loss, marker='.', c=\"blue\", label='training loss')\n",
    "\n",
    "# 그래프에 그리드를 주고 레이블을 표시\n",
    "plt.legend(loc='upper right')\n",
    "# plt.axis([0, 20, 0, 0.35])\n",
    "plt.grid()\n",
    "plt.xlabel('epoch')\n",
    "plt.ylabel('loss')\n",
    "plt.show()"
   ]
  }
 ],
 "metadata": {
  "kernelspec": {
   "display_name": "Python 3 (ipykernel)",
   "language": "python",
   "name": "python3"
  },
  "language_info": {
   "codemirror_mode": {
    "name": "ipython",
    "version": 3
   },
   "file_extension": ".py",
   "mimetype": "text/x-python",
   "name": "python",
   "nbconvert_exporter": "python",
   "pygments_lexer": "ipython3",
   "version": "3.9.7"
  }
 },
 "nbformat": 4,
 "nbformat_minor": 5
}
