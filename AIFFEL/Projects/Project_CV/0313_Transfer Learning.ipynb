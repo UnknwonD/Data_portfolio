{
 "cells": [
  {
   "cell_type": "code",
   "execution_count": 1,
   "id": "75be6a90",
   "metadata": {},
   "outputs": [],
   "source": [
    "!mkdir -p aiffel/cifar_10_small\n",
    "\n",
    "!ln -s ~/data/cifar_10_small/train/ aiffel/cifar_10_small/train\n",
    "!ln -s ~/data/cifar_10_small/test/ aiffel/cifar_10_small/test"
   ]
  },
  {
   "cell_type": "code",
   "execution_count": 2,
   "id": "11f3f600",
   "metadata": {},
   "outputs": [],
   "source": [
    "import os\n",
    "import tensorflow as tf\n",
    "import matplotlib.pyplot as plt"
   ]
  },
  {
   "cell_type": "code",
   "execution_count": 3,
   "id": "4ca59ec7",
   "metadata": {},
   "outputs": [],
   "source": [
    "train_dir='aiffel/cifar_10_small/train'\n",
    "test_dir='aiffel/cifar_10_small/test'\n",
    "\n",
    "train_aeroplane_dir= os.path.join(train_dir,'aeroplane')\n",
    "train_bird_dir=os.path.join(train_dir,'bird')\n",
    "train_car_dir= os.path.join(train_dir,'car')\n",
    "train_cat_dir=os.path.join(train_dir,'cat')\n",
    "\n",
    "test_aeroplane_dir= os.path.join(test_dir,'aeroplane')\n",
    "test_bird_dir=os.path.join(test_dir,'bird')\n",
    "test_car_dir= os.path.join(test_dir,'car')\n",
    "test_cat_dir=os.path.join(test_dir,'cat')"
   ]
  },
  {
   "cell_type": "code",
   "execution_count": 4,
   "id": "79a32f37",
   "metadata": {},
   "outputs": [
    {
     "name": "stdout",
     "output_type": "stream",
     "text": [
      "훈련용 aeroplane 이미지 전체 개수: 5000\n",
      "훈련용 bird 이미지 전체 개수: 5000\n",
      "훈련용 car 이미지 전체 개수: 5000\n",
      "훈련용 cat 이미지 전체 개수: 5000\n"
     ]
    }
   ],
   "source": [
    "# 훈련용 데이터셋의 이미지 개수 출력\n",
    "print('훈련용 aeroplane 이미지 전체 개수:', len(os.listdir(train_aeroplane_dir)))\n",
    "print('훈련용 bird 이미지 전체 개수:', len(os.listdir(train_bird_dir)))\n",
    "print('훈련용 car 이미지 전체 개수:', len(os.listdir(train_car_dir)))\n",
    "print('훈련용 cat 이미지 전체 개수:', len(os.listdir(train_cat_dir)))"
   ]
  },
  {
   "cell_type": "code",
   "execution_count": 5,
   "id": "b05790a8",
   "metadata": {},
   "outputs": [
    {
     "name": "stdout",
     "output_type": "stream",
     "text": [
      "훈련용 aeroplane 이미지 전체 개수: 1000\n",
      "훈련용 bird 이미지 전체 개수: 1000\n",
      "훈련용 car 이미지 전체 개수: 1000\n",
      "훈련용 cat 이미지 전체 개수: 1000\n",
      "['1_auto_s_002124.png', '1_taxi_s_000672.png', '1_compact_car_s_001574.png', '1_car_s_000415.png', '1_estate_car_s_000198.png', '1_coupe_s_000025.png', '1_compact_car_s_002240.png', '1_station_wagon_s_001144.png', '1_shooting_brake_s_000660.png', '1_car_s_000023.png', '1_coupe_s_001953.png', '1_convertible_s_002619.png', '1_motorcar_s_001974.png', '1_automobile_s_002184.png', '1_wagon_s_001407.png', '1_convertible_s_000457.png', '1_motorcar_s_001332.png', '1_motorcar_s_000575.png', '1_coupe_s_000440.png', '1_coupe_s_001403.png', '1_estate_car_s_000757.png', '1_automobile_s_002042.png', '1_station_wagon_s_000873.png', '1_auto_s_000908.png', '1_coupe_s_001012.png', '1_shooting_brake_s_000484.png', '1_coupe_s_002099.png', '1_shooting_brake_s_000943.png', '1_beach_wagon_s_001045.png', '1_compact_s_001159.png', '1_taxi_s_000039.png', '1_coupe_s_000666.png', '1_auto_s_000553.png', '1_police_cruiser_s_000080.png', '1_convertible_s_002118.png', '1_compact_car_s_000029.png', '1_estate_car_s_001139.png', '1_convertible_s_000891.png', '1_auto_s_000251.png', '1_coupe_s_002278.png', '1_convertible_s_001366.png', '1_compact_car_s_000416.png', '1_beach_wagon_s_000259.png', '1_convertible_s_002577.png', '1_automobile_s_000304.png', '1_coupe_s_000592.png', '1_convertible_s_001636.png', '1_compact_car_s_001129.png', '1_compact_car_s_001900.png', '1_coupe_s_000426.png', '1_convertible_s_001492.png', '1_station_wagon_s_000960.png', '1_station_wagon_s_000450.png', '1_coupe_s_001175.png', '1_convertible_s_001387.png', '1_motorcar_s_001980.png', '1_shooting_brake_s_001420.png', '1_coupe_s_000962.png', '1_convertible_s_000147.png', '1_auto_s_001407.png', '1_station_wagon_s_000290.png', '1_compact_s_002827.png', '1_auto_s_000355.png', '1_auto_s_001567.png', '1_convertible_s_000268.png', '1_coupe_s_002295.png', '1_auto_s_001888.png', '1_auto_s_000248.png', '1_automobile_s_001616.png', '1_taxi_s_001884.png', '1_station_wagon_s_001427.png', '1_motorcar_s_000493.png', '1_convertible_s_000506.png', '1_police_cruiser_s_000933.png', '1_coupe_s_001615.png', '1_automobile_s_001563.png', '1_coupe_s_000019.png', '1_car_s_000322.png', '1_coupe_s_000986.png', '1_coupe_s_001393.png', '1_coupe_s_001223.png', '1_automobile_s_001089.png', '1_compact_car_s_000185.png', '1_compact_car_s_001521.png', '1_auto_s_001627.png', '1_wagon_s_001905.png', '1_station_wagon_s_000707.png', '1_shooting_brake_s_000071.png', '1_convertible_s_002465.png', '1_motorcar_s_001305.png', '1_automobile_s_000223.png', '1_convertible_s_002233.png', '1_auto_s_001163.png', '1_coupe_s_002230.png', '1_estate_car_s_000364.png', '1_coupe_s_001426.png', '1_convertible_s_002673.png', '1_wagon_s_002512.png', '1_shooting_brake_s_000612.png', '1_motorcar_s_001760.png', '1_coupe_s_000776.png', '1_station_wagon_s_000889.png', '1_convertible_s_000673.png', '1_compact_s_001757.png', '1_convertible_s_003011.png', '1_automobile_s_002696.png', '1_coupe_s_000696.png', '1_motorcar_s_000346.png', '1_car_s_001721.png', '1_shooting_brake_s_001347.png', '1_automobile_s_001103.png', '1_compact_car_s_001333.png', '1_taxi_s_000115.png', '1_automobile_s_000278.png', '1_coupe_s_000393.png', '1_coupe_s_000337.png', '1_auto_s_001329.png', '1_coupe_s_001224.png', '1_motorcar_s_000713.png', '1_motorcar_s_000579.png', '1_shooting_brake_s_001182.png', '1_car_s_000012.png', '1_convertible_s_002688.png', '1_auto_s_000525.png', '1_shooting_brake_s_001575.png', '1_taxi_s_002221.png', '1_estate_car_s_000152.png', '1_automobile_s_002502.png', '1_police_cruiser_s_001022.png', '1_estate_car_s_000354.png', '1_coupe_s_000256.png', '1_motorcar_s_001490.png', '1_station_wagon_s_001483.png', '1_compact_car_s_000041.png', '1_convertible_s_001569.png', '1_coupe_s_001305.png', '1_motorcar_s_001795.png', '1_beach_wagon_s_001149.png', '1_station_wagon_s_000944.png', '1_compact_car_s_000074.png', '1_compact_car_s_001313.png', '1_automobile_s_000885.png', '1_compact_car_s_000757.png', '1_coupe_s_001679.png', '1_shooting_brake_s_000046.png', '1_coupe_s_001714.png', '1_car_s_000430.png', '1_automobile_s_001187.png', '1_car_s_000106.png', '1_automobile_s_000326.png', '1_car_s_000072.png', '1_beach_wagon_s_000917.png', '1_shooting_brake_s_001346.png', '1_coupe_s_000916.png', '1_wagon_s_002124.png', '1_convertible_s_001901.png', '1_motorcar_s_001133.png', '1_cruiser_s_000012.png', '1_taxicab_s_000415.png', '1_coupe_s_000166.png', '1_compact_car_s_001912.png', '1_car_s_000864.png', '1_compact_car_s_001112.png', '1_shooting_brake_s_001177.png', '1_coupe_s_002275.png', '1_car_s_001006.png', '1_automobile_s_001536.png', '1_station_wagon_s_002689.png', '1_coupe_s_001519.png', '1_taxi_s_000027.png', '1_auto_s_001172.png', '1_car_s_000133.png', '1_automobile_s_002715.png', '1_shooting_brake_s_000506.png', '1_coupe_s_001736.png', '1_coupe_s_001481.png', '1_auto_s_000495.png', '1_coupe_s_000660.png', '1_auto_s_001773.png', '1_minicab_s_000415.png', '1_car_s_001259.png', '1_auto_s_000220.png', '1_compact_car_s_000008.png', '1_auto_s_001200.png', '1_compact_s_000163.png', '1_station_wagon_s_001699.png', '1_convertible_s_000649.png', '1_convertible_s_001745.png', '1_car_s_000278.png', '1_coupe_s_000438.png', '1_estate_car_s_000486.png', '1_coupe_s_000719.png', '1_motorcar_s_001887.png', '1_auto_s_000789.png', '1_shooting_brake_s_001474.png', '1_compact_car_s_002249.png', '1_cab_s_001423.png', '1_station_wagon_s_002524.png', '1_compact_car_s_001768.png', '1_auto_s_001103.png', '1_compact_car_s_000388.png', '1_car_s_002015.png', '1_station_wagon_s_002096.png', '1_convertible_s_001370.png', '1_automobile_s_001094.png', '1_station_wagon_s_001605.png', '1_police_cruiser_s_001225.png', '1_automobile_s_001232.png', '1_station_wagon_s_001994.png', '1_compact_car_s_000175.png', '1_police_cruiser_s_001100.png', '1_car_s_001111.png', '1_compact_car_s_000714.png', '1_auto_s_000217.png', '1_compact_car_s_001759.png', '1_convertible_s_002946.png', '1_station_wagon_s_002476.png', '1_wagon_s_000219.png', '1_car_s_001898.png', '1_motorcar_s_002045.png', '1_auto_s_000426.png', '1_compact_car_s_000362.png', '1_station_wagon_s_001109.png', '1_coupe_s_000428.png', '1_station_wagon_s_000414.png', '1_convertible_s_000838.png', '1_coupe_s_002166.png', '1_compact_car_s_000099.png', '1_automobile_s_001542.png', '1_coupe_s_000436.png', '1_police_cruiser_s_000197.png', '1_shooting_brake_s_000010.png', '1_police_cruiser_s_000784.png', '1_estate_car_s_000021.png', '1_convertible_s_000101.png', '1_automobile_s_000988.png', '1_coupe_s_001220.png', '1_shooting_brake_s_000206.png', '1_car_s_000787.png', '1_coupe_s_000007.png', '1_coupe_s_001388.png', '1_convertible_s_002377.png', '1_station_wagon_s_001040.png', '1_wagon_s_000262.png', '1_convertible_s_000888.png', '1_convertible_s_000890.png', '1_station_wagon_s_001408.png', '1_auto_s_002020.png', '1_shooting_brake_s_000288.png', '1_station_wagon_s_001959.png', '1_automobile_s_000105.png', '1_coupe_s_001864.png', '1_car_s_000246.png', '1_coupe_s_002195.png', '1_convertible_s_001776.png', '1_shooting_brake_s_001049.png', '1_wagon_s_002548.png', '1_automobile_s_001650.png', '1_ambulance_s_002813.png', '1_compact_car_s_001345.png', '1_convertible_s_001561.png', '1_auto_s_000329.png', '1_car_s_001666.png', '1_coupe_s_001779.png', '1_automobile_s_000101.png', '1_automobile_s_001582.png', '1_automobile_s_001231.png', '1_taxi_s_002162.png', '1_police_cruiser_s_000448.png', '1_convertible_s_002525.png', '1_convertible_s_000691.png', '1_estate_car_s_000361.png', '1_station_wagon_s_002067.png', '1_automobile_s_001455.png', '1_convertible_s_001555.png', '1_convertible_s_001132.png', '1_shooting_brake_s_000210.png', '1_wagon_s_001907.png', '1_automobile_s_002060.png', '1_car_s_001849.png', '1_automobile_s_001871.png', '1_police_cruiser_s_000834.png', '1_compact_car_s_000620.png', '1_shooting_brake_s_000214.png', '1_shooting_brake_s_000642.png', '1_automobile_s_000973.png', '1_police_cruiser_s_001076.png', '1_automobile_s_000453.png', '1_car_s_001975.png', '1_auto_s_001185.png', '1_car_s_001754.png', '1_shooting_brake_s_000069.png', '1_convertible_s_001973.png', '1_compact_car_s_001765.png', '1_auto_s_001237.png', '1_wagon_s_002238.png', '1_automobile_s_001544.png', '1_car_s_001158.png', '1_estate_car_s_000945.png', '1_coupe_s_000958.png', '1_shooting_brake_s_001249.png', '1_convertible_s_000170.png', '1_automobile_s_002170.png', '1_auto_s_000935.png', '1_shooting_brake_s_000973.png', '1_coupe_s_001374.png', '1_wagon_s_000140.png', '1_police_cruiser_s_000012.png', '1_station_wagon_s_000755.png', '1_station_wagon_s_000010.png', '1_convertible_s_000844.png', '1_car_s_002046.png', '1_coupe_s_000815.png', '1_station_wagon_s_002644.png', '1_convertible_s_001828.png', '1_auto_s_001186.png', '1_auto_s_001043.png', '1_wagon_s_002236.png', '1_wagon_s_001104.png', '1_compact_s_000970.png', '1_convertible_s_002848.png', '1_coupe_s_002187.png', '1_compact_car_s_001583.png', '1_compact_car_s_001523.png', '1_coupe_s_000249.png', '1_car_s_001221.png', '1_coupe_s_000901.png', '1_convertible_s_002369.png', '1_coupe_s_000898.png', '1_convertible_s_001418.png', '1_taxi_s_001549.png', '1_estate_car_s_000284.png', '1_station_wagon_s_001085.png', '1_estate_car_s_000187.png', '1_motorcar_s_000054.png', '1_automobile_s_002084.png', '1_automobile_s_001290.png', '1_convertible_s_001372.png', '1_coupe_s_000199.png', '1_convertible_s_002812.png', '1_car_s_001241.png', '1_police_cruiser_s_000506.png', '1_car_s_001439.png', '1_convertible_s_002943.png', '1_auto_s_002017.png', '1_compact_s_002493.png', '1_estate_car_s_001391.png', '1_coupe_s_000412.png', '1_compact_car_s_001581.png', '1_beach_wagon_s_000682.png', '1_car_s_000507.png', '1_station_wagon_s_002621.png', '1_compact_car_s_000748.png', '1_taxi_s_001104.png', '1_car_s_000769.png', '1_wagon_s_001634.png', '1_taxi_s_000758.png', '1_compact_s_001499.png', '1_convertible_s_002066.png', '1_estate_car_s_000603.png', '1_motorcar_s_001337.png', '1_convertible_s_001959.png', '1_wagon_s_001388.png', '1_convertible_s_002002.png', '1_car_s_002080.png', '1_funny_wagon_s_000605.png', '1_wagon_s_001295.png', '1_car_s_001583.png', '1_car_s_001085.png', '1_convertible_s_000314.png', '1_compact_car_s_000737.png', '1_auto_s_002138.png', '1_funny_wagon_s_000147.png', '1_wagon_s_001194.png', '1_automobile_s_000528.png', '1_motorcar_s_000370.png', '1_station_wagon_s_000098.png', '1_compact_car_s_001321.png', '1_car_s_000490.png', '1_station_wagon_s_001300.png', '1_wagon_s_002620.png', '1_automobile_s_002010.png', '1_automobile_s_001648.png', '1_estate_car_s_000136.png', '1_auto_s_000463.png', '1_station_wagon_s_002539.png', '1_motorcar_s_000922.png', '1_wagon_s_000349.png', '1_police_cruiser_s_000007.png', '1_car_s_002186.png', '1_wagon_s_001704.png', '1_shooting_brake_s_001271.png', '1_compact_car_s_002166.png', '1_station_wagon_s_000929.png', '1_auto_s_001787.png', '1_shooting_brake_s_000963.png', '1_shooting_brake_s_001457.png', '1_coupe_s_001063.png', '1_coupe_s_000586.png', '1_automobile_s_000108.png', '1_wagon_s_001536.png', '1_automobile_s_001765.png', '1_automobile_s_001758.png', '1_station_wagon_s_002724.png', '1_estate_car_s_000505.png', '1_motorcar_s_001399.png', '1_coupe_s_001512.png', '1_automobile_s_002536.png', '1_car_s_000910.png', '1_coupe_s_001077.png', '1_coupe_s_001408.png', '1_taxi_s_000217.png', '1_convertible_s_000396.png', '1_compact_car_s_000109.png', '1_convertible_s_002804.png', '1_automobile_s_001597.png', '1_station_wagon_s_000879.png', '1_compact_car_s_000072.png', '1_station_wagon_s_000121.png', '1_wagon_s_001191.png', '1_station_wagon_s_001329.png', '1_convertible_s_000002.png', '1_compact_car_s_000320.png', '1_funny_wagon_s_000244.png', '1_estate_car_s_000490.png', '1_cab_s_000330.png', '1_car_s_002293.png', '1_wagon_s_000803.png', '1_auto_s_001334.png', '1_convertible_s_002996.png', '1_station_wagon_s_002362.png', '1_compact_car_s_002138.png', '1_compact_s_000186.png', '1_shooting_brake_s_001496.png', '1_estate_car_s_001066.png', '1_convertible_s_002432.png', '1_police_cruiser_s_000874.png', '1_auto_s_002354.png', '1_motorcar_s_000466.png', '1_auto_s_000561.png', '1_estate_car_s_001589.png', '1_shooting_brake_s_000714.png', '1_station_wagon_s_002751.png', '1_estate_car_s_001345.png', '1_police_cruiser_s_000399.png', '1_shooting_brake_s_000889.png', '1_estate_car_s_000192.png', '1_automobile_s_002431.png', '1_shooting_brake_s_000220.png', '1_ambulance_s_001676.png', '1_shooting_brake_s_001323.png', '1_automobile_s_000907.png', '1_police_cruiser_s_000831.png', '1_compact_car_s_001354.png', '1_coupe_s_000456.png', '1_police_cruiser_s_000112.png', '1_auto_s_000510.png', '1_wagon_s_000532.png', '1_car_s_001162.png', '1_automobile_s_001768.png', '1_shooting_brake_s_001009.png', '1_car_s_000908.png', '1_wagon_s_002799.png', '1_wagon_s_002008.png', '1_station_wagon_s_001049.png', '1_taxi_s_000170.png', '1_beach_wagon_s_000203.png', '1_wagon_s_002450.png', '1_station_wagon_s_002262.png', '1_convertible_s_000188.png', '1_beach_wagon_s_000802.png', '1_station_wagon_s_001839.png', '1_automobile_s_000746.png', '1_estate_car_s_001247.png', '1_coupe_s_001486.png', '1_auto_s_000752.png', '1_automobile_s_000538.png', '1_police_cruiser_s_000079.png', '1_convertible_s_002373.png', '1_wagon_s_001357.png', '1_shooting_brake_s_000257.png', '1_car_s_000530.png', '1_automobile_s_000627.png', '1_convertible_s_002034.png', '1_station_wagon_s_000022.png', '1_police_cruiser_s_001004.png', '1_coupe_s_001760.png', '1_coupe_s_001115.png', '1_station_wagon_s_000585.png', '1_convertible_s_001388.png', '1_station_wagon_s_001283.png', '1_taxi_s_000827.png', '1_taxi_s_000936.png', '1_car_s_001719.png', '1_wagon_s_001103.png', '1_automobile_s_000441.png', '1_automobile_s_001757.png', '1_compact_car_s_000183.png', '1_station_wagon_s_002099.png', '1_coupe_s_001746.png', '1_shooting_brake_s_000510.png', '1_coupe_s_001141.png', '1_compact_car_s_001092.png', '1_automobile_s_000048.png', '1_convertible_s_001556.png', '1_station_wagon_s_001050.png', '1_wagon_s_000880.png', '1_car_s_001321.png', '1_motorcar_s_001486.png', '1_wagon_s_002625.png', '1_automobile_s_002008.png', '1_motorcar_s_001301.png', '1_automobile_s_001643.png', '1_station_wagon_s_000169.png', '1_ambulance_s_000094.png', '1_estate_car_s_000834.png', '1_convertible_s_001003.png', '1_station_wagon_s_002656.png', '1_motorcar_s_002479.png', '1_car_s_000059.png', '1_automobile_s_000402.png', '1_wagon_s_000619.png', '1_motorcar_s_001444.png', '1_beach_wagon_s_001003.png', '1_automobile_s_001844.png', '1_station_wagon_s_001870.png', '1_car_s_000712.png', '1_wagon_s_000143.png', '1_car_s_001178.png', '1_station_wagon_s_001655.png', '1_beach_wagon_s_001114.png', '1_station_wagon_s_001804.png', '1_compact_car_s_001855.png', '1_coupe_s_000519.png', '1_car_s_000985.png', '1_automobile_s_002562.png', '1_police_cruiser_s_000382.png', '1_funny_wagon_s_000357.png', '1_compact_car_s_001585.png', '1_compact_car_s_000359.png', '1_station_wagon_s_002102.png', '1_motorcar_s_001380.png', '1_motorcar_s_001544.png', '1_station_wagon_s_001837.png', '1_shooting_brake_s_000043.png', '1_coupe_s_000991.png', '1_police_cruiser_s_000493.png', '1_shooting_brake_s_000876.png', '1_estate_car_s_000120.png', '1_coupe_s_001173.png', '1_shooting_brake_s_001126.png', '1_estate_car_s_001779.png', '1_taxi_s_000338.png', '1_beach_wagon_s_001089.png', '1_minicab_s_000042.png', '1_automobile_s_000703.png', '1_compact_s_001095.png', '1_station_wagon_s_001924.png', '1_station_wagon_s_001498.png', '1_station_wagon_s_000557.png', '1_automobile_s_001895.png', '1_police_cruiser_s_000524.png', '1_coupe_s_000577.png', '1_shooting_brake_s_000847.png', '1_shooting_brake_s_000967.png', '1_car_s_001440.png', '1_coupe_s_000907.png', '1_ambulance_s_001316.png', '1_car_s_001667.png', '1_compact_car_s_001307.png', '1_station_wagon_s_002541.png', '1_station_wagon_s_000775.png', '1_estate_car_s_000984.png', '1_coupe_s_000243.png', '1_shooting_brake_s_000202.png', '1_police_cruiser_s_001199.png', '1_estate_car_s_000363.png', '1_station_wagon_s_000488.png', '1_auto_s_002120.png', '1_coupe_s_001145.png', '1_shooting_brake_s_000841.png', '1_auto_s_001959.png', '1_compact_car_s_002318.png', '1_convertible_s_002813.png', '1_convertible_s_001141.png', '1_taxi_s_001330.png', '1_coupe_s_001099.png', '1_convertible_s_000703.png', '1_automobile_s_001532.png', '1_convertible_s_002774.png', '1_police_cruiser_s_000113.png', '1_station_wagon_s_000950.png', '1_convertible_s_000179.png', '1_police_cruiser_s_000585.png', '1_station_wagon_s_000294.png', '1_station_wagon_s_000684.png', '1_automobile_s_001958.png', '1_auto_s_000152.png', '1_automobile_s_000195.png', '1_auto_s_000367.png', '1_automobile_s_002405.png', '1_station_wagon_s_002353.png', '1_shooting_brake_s_000494.png', '1_coupe_s_002244.png', '1_police_cruiser_s_001424.png', '1_coupe_s_000403.png', '1_shooting_brake_s_000589.png', '1_taxicab_s_000924.png', '1_automobile_s_000190.png', '1_convertible_s_001543.png', '1_police_cruiser_s_000880.png', '1_convertible_s_002889.png', '1_station_wagon_s_000495.png', '1_convertible_s_000848.png', '1_shooting_brake_s_000439.png', '1_wagon_s_001290.png', '1_motorcar_s_002366.png', '1_convertible_s_001570.png', '1_station_wagon_s_001697.png', '1_motorcar_s_000236.png', '1_automobile_s_000962.png', '1_compact_s_002585.png', '1_taxi_s_000856.png', '1_convertible_s_002473.png', '1_convertible_s_001880.png', '1_compact_car_s_001427.png', '1_police_cruiser_s_000052.png', '1_automobile_s_000114.png', '1_car_s_000535.png', '1_police_cruiser_s_000462.png', '1_station_wagon_s_002275.png', '1_station_wagon_s_000793.png', '1_coupe_s_000520.png', '1_coupe_s_000948.png', '1_shooting_brake_s_000225.png', '1_auto_s_001898.png', '1_shooting_brake_s_000280.png', '1_police_cruiser_s_000916.png', '1_convertible_s_000240.png', '1_auto_s_000151.png', '1_estate_car_s_001468.png', '1_funny_wagon_s_000539.png', '1_taxi_s_000293.png', '1_automobile_s_002268.png', '1_motorcar_s_002394.png', '1_station_wagon_s_001143.png', '1_convertible_s_000316.png', '1_compact_car_s_001665.png', '1_wagon_s_000176.png', '1_shooting_brake_s_000742.png', '1_estate_car_s_001219.png', '1_automobile_s_001093.png', '1_coupe_s_000910.png', '1_coupe_s_000086.png', '1_auto_s_000676.png', '1_estate_car_s_000047.png', '1_auto_s_000319.png', '1_wagon_s_001640.png', '1_convertible_s_001831.png', '1_car_s_001470.png', '1_coupe_s_000466.png', '1_convertible_s_002736.png', '1_auto_s_001199.png', '1_car_s_000026.png', '1_car_s_000969.png', '1_coupe_s_000423.png', '1_station_wagon_s_000702.png', '1_convertible_s_001532.png', '1_coupe_s_001585.png', '1_car_s_000284.png', '1_station_wagon_s_002626.png', '1_coupe_s_001371.png', '1_coupe_s_002206.png', '1_compact_s_001991.png', '1_motorcar_s_001967.png', '1_police_cruiser_s_000582.png', '1_car_s_000354.png', '1_shooting_brake_s_000286.png', '1_automobile_s_002204.png', '1_station_wagon_s_001405.png', '1_estate_car_s_001437.png', '1_coupe_s_000299.png', '1_convertible_s_002423.png', '1_coupe_s_001629.png', '1_bus_s_000146.png', '1_motorcar_s_001984.png', '1_motorcar_s_001132.png', '1_convertible_s_001704.png', '1_station_wagon_s_000697.png', '1_compact_car_s_000240.png', '1_coupe_s_002204.png', '1_car_s_001227.png', '1_estate_car_s_001648.png', '1_compact_car_s_001579.png', '1_convertible_s_000422.png', '1_coupe_s_001072.png', '1_estate_car_s_000669.png', '1_station_wagon_s_001013.png', '1_wagon_s_000755.png', '1_car_s_000285.png', '1_police_cruiser_s_000979.png', '1_shooting_brake_s_000049.png', '1_station_wagon_s_000134.png', '1_automobile_s_001316.png', '1_car_s_000573.png', '1_coupe_s_000915.png', '1_compact_car_s_002055.png', '1_wagon_s_002806.png', '1_wagon_s_001176.png', '1_taxi_s_000036.png', '1_police_cruiser_s_001174.png', '1_compact_car_s_001803.png', '1_automobile_s_000425.png', '1_convertible_s_002702.png', '1_compact_car_s_001997.png', '1_coupe_s_000170.png', '1_compact_car_s_000197.png', '1_shooting_brake_s_001174.png', '1_auto_s_001104.png', '1_wagon_s_002546.png', '1_station_wagon_s_001476.png', '1_coupe_s_000012.png', '1_car_s_000860.png', '1_compact_car_s_001659.png', '1_shooting_brake_s_000019.png', '1_police_cruiser_s_000326.png', '1_car_s_000883.png', '1_ambulance_s_001816.png', '1_convertible_s_002888.png', '1_coupe_s_002031.png', '1_automobile_s_001333.png', '1_shooting_brake_s_000305.png', '1_coupe_s_000146.png', '1_automobile_s_001649.png', '1_police_cruiser_s_000257.png', '1_car_s_000537.png', '1_auto_s_000608.png', '1_auto_s_000610.png', '1_station_wagon_s_000931.png', '1_car_s_001322.png', '1_station_wagon_s_000394.png', '1_convertible_s_000355.png', '1_auto_s_001431.png', '1_estate_car_s_000018.png', '1_car_s_000001.png', '1_auto_s_002088.png', '1_coupe_s_000305.png', '1_auto_s_002035.png', '1_coupe_s_000534.png', '1_automobile_s_001854.png', '1_auto_s_000246.png', '1_car_s_000038.png', '1_cab_s_000592.png', '1_ambulance_s_000365.png', '1_automobile_s_000862.png', '1_minicab_s_000091.png', '1_wagon_s_000719.png', '1_convertible_s_002847.png', '1_compact_car_s_001101.png', '1_police_cruiser_s_000689.png', '1_shooting_brake_s_000365.png', '1_auto_s_001392.png', '1_car_s_001728.png', '1_convertible_s_001662.png', '1_convertible_s_001364.png', '1_taxi_s_001241.png', '1_automobile_s_001539.png', '1_estate_car_s_001481.png', '1_taxi_s_000432.png', '1_car_s_002057.png', '1_automobile_s_000121.png', '1_station_wagon_s_002651.png', '1_car_s_001776.png', '1_convertible_s_002571.png', '1_auto_s_001767.png', '1_auto_s_001350.png', '1_taxicab_s_000486.png', '1_convertible_s_001287.png', '1_compact_car_s_001618.png', '1_wagon_s_001836.png', '1_station_wagon_s_002433.png', '1_shooting_brake_s_000868.png', '1_convertible_s_001958.png', '1_coupe_s_001377.png', '1_estate_car_s_000667.png', '1_wagon_s_001661.png', '1_automobile_s_000216.png', '1_shooting_brake_s_000511.png', '1_auto_s_001838.png', '1_auto_s_000270.png', '1_station_wagon_s_000335.png', '1_automobile_s_001784.png', '1_coupe_s_000551.png', '1_coupe_s_000947.png', '1_convertible_s_000770.png', '1_car_s_000621.png', '1_auto_s_002007.png', '1_convertible_s_001542.png', '1_taxi_s_001638.png', '1_car_s_000753.png', '1_convertible_s_001307.png', '1_compact_car_s_001250.png', '1_automobile_s_001445.png', '1_estate_car_s_001775.png', '1_automobile_s_001096.png', '1_shooting_brake_s_000255.png', '1_estate_car_s_000662.png', '1_auto_s_000567.png', '1_station_wagon_s_000220.png', '1_motorcar_s_001346.png', '1_compact_car_s_001351.png', '1_police_cruiser_s_000647.png', '1_estate_car_s_000684.png', '1_shooting_brake_s_000311.png', '1_station_wagon_s_002408.png', '1_compact_car_s_001285.png', '1_automobile_s_000579.png', '1_convertible_s_000141.png', '1_police_cruiser_s_000091.png', '1_wagon_s_002007.png', '1_taxi_s_000903.png', '1_auto_s_001875.png', '1_motorcar_s_000233.png', '1_convertible_s_002032.png', '1_car_s_001369.png', '1_car_s_001324.png', '1_auto_s_000454.png', '1_compact_car_s_002321.png', '1_station_wagon_s_002640.png', '1_estate_car_s_000869.png', '1_automobile_s_002384.png', '1_police_cruiser_s_000035.png', '1_station_wagon_s_002114.png', '1_auto_s_000404.png', '1_coupe_s_000407.png', '1_auto_s_000972.png', '1_station_wagon_s_000351.png', '1_wagon_s_001696.png', '1_convertible_s_001398.png', '1_automobile_s_000580.png', '1_convertible_s_002587.png', '1_convertible_s_002678.png', '1_motorcar_s_001551.png', '1_shooting_brake_s_000692.png', '1_convertible_s_000204.png', '1_compact_car_s_001339.png', '1_police_cruiser_s_000260.png', '1_police_cruiser_s_000348.png', '1_wagon_s_002458.png', '1_convertible_s_001179.png', '1_automobile_s_000529.png', '1_convertible_s_001501.png', '1_convertible_s_002173.png', '1_shooting_brake_s_000622.png', '1_motorcar_s_002111.png', '1_station_wagon_s_002759.png', '1_car_s_001316.png', '1_coupe_s_000629.png', '1_coupe_s_000972.png', '1_coupe_s_001520.png', '1_convertible_s_001790.png', '1_estate_car_s_000332.png', '1_beach_wagon_s_000687.png', '1_police_cruiser_s_000041.png', '1_compact_car_s_001007.png', '1_coupe_s_001621.png', '1_automobile_s_001926.png', '1_convertible_s_000313.png', '1_convertible_s_000056.png', '1_minicab_s_000279.png', '1_compact_car_s_002012.png', '1_coupe_s_001704.png', '1_automobile_s_002547.png', '1_auto_s_000645.png', '1_convertible_s_001849.png', '1_coupe_s_001831.png', '1_convertible_s_001403.png', '1_estate_car_s_000297.png', '1_auto_s_001856.png', '1_compact_car_s_001779.png', '1_compact_car_s_001764.png', '1_automobile_s_000324.png', '1_convertible_s_001999.png', '1_ambulance_s_001819.png', '1_police_cruiser_s_001077.png', '1_shooting_brake_s_001227.png', '1_wagon_s_000501.png', '1_funny_wagon_s_000415.png', '1_coupe_s_000626.png', '1_station_wagon_s_002543.png', '1_coupe_s_000196.png', '1_car_s_000477.png', '1_motorcar_s_000685.png', '1_car_s_001768.png', '1_convertible_s_001467.png', '1_coupe_s_001888.png', '1_coupe_s_000984.png', '1_car_s_001117.png', '1_coupe_s_001819.png', '1_police_cruiser_s_001125.png', '1_police_cruiser_s_000640.png', '1_shooting_brake_s_000224.png', '1_coupe_s_000472.png', '1_car_s_002253.png', '1_automobile_s_000241.png', '1_coupe_s_000244.png', '1_compact_car_s_002314.png', '1_coupe_s_000664.png', '1_automobile_s_001538.png', '1_wagon_s_002539.png', '1_wagon_s_002049.png', '1_car_s_001247.png', '1_coupe_s_001689.png', '1_convertible_s_001249.png', '1_car_s_001136.png', '1_coupe_s_001198.png', '1_wagon_s_002140.png', '1_shooting_brake_s_001002.png', '1_coupe_s_001214.png', '1_station_wagon_s_002648.png', '1_coupe_s_000300.png', '1_police_cruiser_s_001186.png', '1_wagon_s_000971.png', '1_wagon_s_001216.png', '1_automobile_s_001904.png', '1_coupe_s_001098.png', '1_automobile_s_002057.png', '1_convertible_s_000706.png', '1_auto_s_001753.png', '1_station_wagon_s_000472.png', '1_auto_s_000257.png', '1_auto_s_000358.png', '1_estate_car_s_001742.png', '1_motorcar_s_000807.png', '1_convertible_s_002139.png', '1_automobile_s_001652.png', '1_convertible_s_000437.png', '1_convertible_s_002865.png', '1_convertible_s_002869.png', '1_auto_s_000060.png', '1_estate_car_s_000370.png', '1_compact_car_s_001126.png', '1_wagon_s_001427.png', '1_shooting_brake_s_001453.png', '1_motorcar_s_000451.png', '1_coupe_s_000992.png', '1_motorcar_s_000501.png', '1_shooting_brake_s_000918.png', '1_auto_s_000324.png', '1_automobile_s_001868.png', '1_coupe_s_002102.png', '1_coupe_s_000419.png', '1_convertible_s_000702.png', '1_automobile_s_002692.png', '1_motorcar_s_001334.png', '1_auto_s_000879.png', '1_car_s_000333.png', '1_wagon_s_002306.png', '1_convertible_s_001663.png', '1_shooting_brake_s_000910.png', '1_station_wagon_s_000132.png', '1_compact_s_001524.png', '1_compact_car_s_000184.png', '1_coupe_s_001583.png', '1_convertible_s_000353.png', '1_motorcar_s_002397.png', '1_shooting_brake_s_000875.png', '1_shooting_brake_s_000083.png', '1_compact_car_s_002066.png', '1_wagon_s_001543.png', '1_compact_car_s_002116.png', '1_auto_s_001612.png', '1_compact_car_s_002117.png', '1_coupe_s_001780.png', '1_station_wagon_s_001656.png', '1_automobile_s_001769.png', '1_compact_car_s_002130.png', '1_automobile_s_001549.png', '1_automobile_s_001207.png', '1_automobile_s_001557.png', '1_estate_car_s_000453.png', '1_shooting_brake_s_001237.png', '1_automobile_s_001611.png', '1_car_s_001793.png', '1_convertible_s_000051.png', '1_coupe_s_001392.png', '1_car_s_000275.png', '1_cruiser_s_000772.png', '1_coupe_s_000247.png', '1_coupe_s_002105.png', '1_car_s_000281.png', '1_automobile_s_000198.png', '1_auto_s_000144.png', '1_auto_s_000208.png', '1_automobile_s_001116.png', '1_compact_car_s_001037.png', '1_convertible_s_000109.png', '1_convertible_s_002234.png', '1_estate_car_s_001767.png', '1_station_wagon_s_001654.png']\n"
     ]
    }
   ],
   "source": [
    "# Q. 테스트용 데이터셋의 이미지 개수를 각 디렉토리별로 출력해 보세요.\n",
    "# [[YOUR CODE]]\n",
    "print('훈련용 aeroplane 이미지 전체 개수:', len(os.listdir(test_aeroplane_dir)))\n",
    "print('훈련용 bird 이미지 전체 개수:', len(os.listdir(test_bird_dir)))\n",
    "print('훈련용 car 이미지 전체 개수:', len(os.listdir(test_car_dir)))\n",
    "print('훈련용 cat 이미지 전체 개수:', len(os.listdir(test_cat_dir)))"
   ]
  },
  {
   "cell_type": "code",
   "execution_count": 6,
   "id": "11b8fe40",
   "metadata": {},
   "outputs": [],
   "source": [
    "### data 파이프 라인 생성\n",
    "\n",
    "# 데이터를 디렉토리로부터 불러올 때, 한번에 가져올 데이터의 수\n",
    "batch_size=20\n",
    "\n",
    "# Training 데이터의 augmentation 파이프 라인 만들기\n",
    "augmentation_train_datagen = tf.keras.preprocessing.image.ImageDataGenerator( rescale=1./255,  # 모든 데이터의 값을 1/255로 스케일 조정\n",
    "                                    rotation_range=40,  # 0~40도 사이로 이미지 회전\n",
    "                                    width_shift_range=0.2,  # 전체 가로 길이를 기준으로 0.2 비율까지 가로로 이동\n",
    "                                    height_shift_range=0.2,   # 전체 세로 길이를 기준으로 0.2 비율까지 가로로 이동\n",
    "                                    shear_range=0.2,  # 0.2 라디안 정도까지 이미지를 기울이기\n",
    "                                    zoom_range=0.2, # 확대와 축소의 범위 [1-0.2 ~ 1+0.2 ]\n",
    "                                    horizontal_flip=True,)  # 수평 기준 플립을 할 지, 하지 않을 지를 결정\n",
    "\n",
    "# Test 데이터의 augmentation 파이프 라인 만들기\n",
    "test_datagen = tf.keras.preprocessing.image.ImageDataGenerator(rescale=1./255)"
   ]
  },
  {
   "cell_type": "code",
   "execution_count": 7,
   "id": "3984565c",
   "metadata": {},
   "outputs": [
    {
     "name": "stdout",
     "output_type": "stream",
     "text": [
      "Found 20000 images belonging to 4 classes.\n",
      "{'aeroplane': 0, 'bird': 1, 'car': 2, 'cat': 3}\n"
     ]
    }
   ],
   "source": [
    "# Augmentation 파이프라인을 기준으로 디렉토리로부터 데이터를 불러 오는 모듈 만들기\n",
    "train_generator = augmentation_train_datagen.flow_from_directory(\n",
    "        directory=train_dir, #  어느 디렉터리에서 이미지 데이터를 가져올 것인가?\n",
    "        target_size=(150, 150), # 모든 이미지를 150 × 150 크기로 바꿉니다\n",
    "        batch_size=batch_size, # 디렉토리에서 batch size만큼의 이미지를 가져옵니다.\n",
    "        interpolation='bilinear',  # resize를 할 때, interpolatrion 기법을 결정합니다.\n",
    "        color_mode ='rgb',\n",
    "        shuffle='True', # 이미지를 셔플링할 지 하지 않을 지를 결정.\n",
    "        class_mode='categorical') # multiclass의 경우이므로 class mode는 categorical\n",
    "\n",
    "print(train_generator.class_indices)"
   ]
  },
  {
   "cell_type": "code",
   "execution_count": 8,
   "id": "32a5c6fe",
   "metadata": {},
   "outputs": [
    {
     "name": "stdout",
     "output_type": "stream",
     "text": [
      "Found 4000 images belonging to 4 classes.\n",
      "{'aeroplane': 0, 'bird': 1, 'car': 2, 'cat': 3}\n"
     ]
    }
   ],
   "source": [
    "# Q. Test 데이터 디렉토리로부터 이미지를 불러오는 파이프라인을 완성해 보세요.\n",
    "# (위의 train_generator와 조건은 동일)\n",
    "test_generator = test_datagen.flow_from_directory(\n",
    "        directory = test_dir,\n",
    "        target_size=(150, 150),\n",
    "        batch_size=batch_size,\n",
    "        interpolation='bilinear',\n",
    "        color_mode='rgb',\n",
    "        shuffle='True',\n",
    "        class_mode='categorical')\n",
    "\n",
    "print(test_generator.class_indices)"
   ]
  },
  {
   "cell_type": "code",
   "execution_count": 9,
   "id": "af21a248",
   "metadata": {},
   "outputs": [
    {
     "name": "stdout",
     "output_type": "stream",
     "text": [
      "배치 데이터 크기: (20, 150, 150, 3)\n",
      "배치 레이블 크기: (20, 4)\n"
     ]
    }
   ],
   "source": [
    "for data_batch, labels_batch in train_generator: \n",
    "    print('배치 데이터 크기:', data_batch.shape)\n",
    "    print('배치 레이블 크기:', labels_batch.shape)\n",
    "    break"
   ]
  },
  {
   "cell_type": "code",
   "execution_count": 10,
   "id": "ab302151",
   "metadata": {},
   "outputs": [],
   "source": [
    "## back bone\n",
    "conv_base=tf.keras.applications.ResNet50(weights='imagenet',include_top=False)\n",
    "#conv_base.summary()"
   ]
  },
  {
   "cell_type": "code",
   "execution_count": 11,
   "id": "de3f1242",
   "metadata": {},
   "outputs": [],
   "source": [
    "# 최종 모델 구성하기\n",
    "input_layer = tf.keras.layers.Input(shape=(150,150,3))\n",
    "x = conv_base(input_layer) # 위에서 불러온 pretrained model을 활용하기\n",
    "# 불러온 conv_base 모델의 최종 결과물은 Conv2D 연산의 feature map과 동일\n",
    "# 따라서 최종적인 Multiclass classfication을 하기 위해서는 Flatten을 해야 한다.\n",
    "x = tf.keras.layers.Flatten()(x)\n",
    "x = tf.keras.layers.Dense(512, activation='relu')(x)\n",
    "out_layer = tf.keras.layers.Dense(4, activation='softmax')(x)"
   ]
  },
  {
   "cell_type": "code",
   "execution_count": 12,
   "id": "967d94dc",
   "metadata": {},
   "outputs": [],
   "source": [
    "conv_base.trainable = False"
   ]
  },
  {
   "cell_type": "code",
   "execution_count": 13,
   "id": "ec99701a",
   "metadata": {},
   "outputs": [
    {
     "name": "stdout",
     "output_type": "stream",
     "text": [
      "Model: \"model\"\n",
      "_________________________________________________________________\n",
      "Layer (type)                 Output Shape              Param #   \n",
      "=================================================================\n",
      "input_2 (InputLayer)         [(None, 150, 150, 3)]     0         \n",
      "_________________________________________________________________\n",
      "resnet50 (Functional)        (None, None, None, 2048)  23587712  \n",
      "_________________________________________________________________\n",
      "flatten (Flatten)            (None, 51200)             0         \n",
      "_________________________________________________________________\n",
      "dense (Dense)                (None, 512)               26214912  \n",
      "_________________________________________________________________\n",
      "dense_1 (Dense)              (None, 4)                 2052      \n",
      "=================================================================\n",
      "Total params: 49,804,676\n",
      "Trainable params: 26,216,964\n",
      "Non-trainable params: 23,587,712\n",
      "_________________________________________________________________\n"
     ]
    }
   ],
   "source": [
    "model = tf.keras.Model(inputs=[input_layer], outputs=[out_layer])\n",
    "model.summary()"
   ]
  },
  {
   "cell_type": "code",
   "execution_count": 14,
   "id": "b29dee85",
   "metadata": {},
   "outputs": [],
   "source": [
    "loss_function=tf.keras.losses.categorical_crossentropy \n",
    "optimize=tf.keras.optimizers.Adam(learning_rate=0.0001)\n",
    "metric=tf.keras.metrics.categorical_accuracy\n",
    "model.compile(loss=loss_function,\n",
    "              optimizer=optimize,\n",
    "              metrics=[metric])"
   ]
  },
  {
   "cell_type": "code",
   "execution_count": 15,
   "id": "ae84066b",
   "metadata": {},
   "outputs": [
    {
     "name": "stdout",
     "output_type": "stream",
     "text": [
      "Epoch 1/20\n",
      "1000/1000 [==============================] - 189s 179ms/step - loss: 1.3001 - categorical_accuracy: 0.3908 - val_loss: 1.0797 - val_categorical_accuracy: 0.5533\n",
      "Epoch 2/20\n",
      "1000/1000 [==============================] - 179s 179ms/step - loss: 1.1913 - categorical_accuracy: 0.4574 - val_loss: 1.0456 - val_categorical_accuracy: 0.5543\n",
      "Epoch 3/20\n",
      "1000/1000 [==============================] - 176s 176ms/step - loss: 1.1668 - categorical_accuracy: 0.4799 - val_loss: 1.3734 - val_categorical_accuracy: 0.4065\n",
      "Epoch 4/20\n",
      "1000/1000 [==============================] - 177s 176ms/step - loss: 1.1457 - categorical_accuracy: 0.4918 - val_loss: 1.0245 - val_categorical_accuracy: 0.5620\n",
      "Epoch 5/20\n",
      "1000/1000 [==============================] - 186s 186ms/step - loss: 1.1230 - categorical_accuracy: 0.5059 - val_loss: 1.0656 - val_categorical_accuracy: 0.5360\n",
      "Epoch 6/20\n",
      "1000/1000 [==============================] - 153s 153ms/step - loss: 1.1134 - categorical_accuracy: 0.5087 - val_loss: 0.9964 - val_categorical_accuracy: 0.5820\n",
      "Epoch 7/20\n",
      "1000/1000 [==============================] - 163s 163ms/step - loss: 1.1008 - categorical_accuracy: 0.5188 - val_loss: 0.9991 - val_categorical_accuracy: 0.5740\n",
      "Epoch 8/20\n",
      "1000/1000 [==============================] - 165s 165ms/step - loss: 1.0883 - categorical_accuracy: 0.5249 - val_loss: 0.9256 - val_categorical_accuracy: 0.6235\n",
      "Epoch 9/20\n",
      "1000/1000 [==============================] - 178s 178ms/step - loss: 1.0834 - categorical_accuracy: 0.5247 - val_loss: 1.0988 - val_categorical_accuracy: 0.5337\n",
      "Epoch 10/20\n",
      "1000/1000 [==============================] - 178s 178ms/step - loss: 1.0711 - categorical_accuracy: 0.5336 - val_loss: 1.0028 - val_categorical_accuracy: 0.5788\n",
      "Epoch 11/20\n",
      "1000/1000 [==============================] - 177s 177ms/step - loss: 1.0784 - categorical_accuracy: 0.5317 - val_loss: 0.9919 - val_categorical_accuracy: 0.5790\n",
      "Epoch 12/20\n",
      "1000/1000 [==============================] - 177s 177ms/step - loss: 1.0662 - categorical_accuracy: 0.5368 - val_loss: 0.9611 - val_categorical_accuracy: 0.5832\n",
      "Epoch 13/20\n",
      "1000/1000 [==============================] - 178s 178ms/step - loss: 1.0666 - categorical_accuracy: 0.5375 - val_loss: 0.9078 - val_categorical_accuracy: 0.6223\n",
      "Epoch 14/20\n",
      "1000/1000 [==============================] - 179s 179ms/step - loss: 1.0606 - categorical_accuracy: 0.5440 - val_loss: 0.9121 - val_categorical_accuracy: 0.6220\n",
      "Epoch 15/20\n",
      "1000/1000 [==============================] - 181s 181ms/step - loss: 1.0540 - categorical_accuracy: 0.5430 - val_loss: 0.9632 - val_categorical_accuracy: 0.5970\n",
      "Epoch 16/20\n",
      "1000/1000 [==============================] - 177s 177ms/step - loss: 1.0448 - categorical_accuracy: 0.5537 - val_loss: 0.9284 - val_categorical_accuracy: 0.6022\n",
      "Epoch 17/20\n",
      "1000/1000 [==============================] - 152s 152ms/step - loss: 1.0482 - categorical_accuracy: 0.5503 - val_loss: 0.9756 - val_categorical_accuracy: 0.5953\n",
      "Epoch 18/20\n",
      "1000/1000 [==============================] - 176s 176ms/step - loss: 1.0477 - categorical_accuracy: 0.5487 - val_loss: 0.9011 - val_categorical_accuracy: 0.6240\n",
      "Epoch 19/20\n",
      "1000/1000 [==============================] - 177s 177ms/step - loss: 1.0341 - categorical_accuracy: 0.5580 - val_loss: 0.9410 - val_categorical_accuracy: 0.6043\n",
      "Epoch 20/20\n",
      "1000/1000 [==============================] - 177s 177ms/step - loss: 1.0506 - categorical_accuracy: 0.5501 - val_loss: 0.8989 - val_categorical_accuracy: 0.6265\n"
     ]
    }
   ],
   "source": [
    "history = model.fit( \n",
    "      train_generator,\n",
    "     steps_per_epoch=(len(os.listdir(train_aeroplane_dir)) + len(os.listdir(train_bird_dir)) + len(\n",
    "       os.listdir(train_car_dir)) + len(os.listdir(train_cat_dir))) // batch_size,\n",
    "      epochs=20,\n",
    "      validation_data=test_generator,\n",
    "      validation_freq=1)"
   ]
  },
  {
   "cell_type": "code",
   "execution_count": 16,
   "id": "10939d6d",
   "metadata": {},
   "outputs": [
    {
     "name": "stderr",
     "output_type": "stream",
     "text": [
      "/opt/conda/lib/python3.9/site-packages/keras/utils/generic_utils.py:494: CustomMaskWarning: Custom mask layers require a config and must override get_config. When loading, the custom mask layer must be passed to the custom_objects argument.\n",
      "  warnings.warn('Custom mask layers require a config and must override '\n"
     ]
    }
   ],
   "source": [
    "model.save('/aiffel/aiffel/cifar_10_small/multi_classification_augumentation_model.hdf5')\n",
    "\n",
    "acc = history.history['categorical_accuracy'] \n",
    "val_acc = history.history['val_categorical_accuracy']\n",
    "loss = history.history['loss']\n",
    "val_loss = history.history['val_loss']"
   ]
  },
  {
   "cell_type": "code",
   "execution_count": 17,
   "id": "969378dc",
   "metadata": {},
   "outputs": [
    {
     "data": {
      "image/png": "[encoded data removed]",
      "text/plain": [
       "<Figure size 432x288 with 1 Axes>"
      ]
     },
     "metadata": {
      "needs_background": "light"
     },
     "output_type": "display_data"
    },
    {
     "data": {
      "image/png": "[encoded data removed]",
      "text/plain": [
       "<Figure size 432x288 with 1 Axes>"
      ]
     },
     "metadata": {
      "needs_background": "light"
     },
     "output_type": "display_data"
    }
   ],
   "source": [
    "# # 학습한 결과 시각화 \n",
    "epochs = range(len(acc))\n",
    "\n",
    "plt.plot(epochs, acc, 'bo', label='Training acc')\n",
    "plt.plot(epochs, val_acc, 'b', label='Validation acc')\n",
    "plt.title('Training and validation accuracy')\n",
    "plt.legend()\n",
    "\n",
    "plt.figure()\n",
    "\n",
    "plt.plot(epochs, loss, 'bo', label='Training loss')\n",
    "plt.plot(epochs, val_loss, 'b', label='Validation loss')\n",
    "plt.title('Training and validation loss')\n",
    "plt.legend()\n",
    "\n",
    "plt.show()"
   ]
  }
 ],
 "metadata": {
  "kernelspec": {
   "display_name": "Python 3 (ipykernel)",
   "language": "python",
   "name": "python3"
  },
  "language_info": {
   "codemirror_mode": {
    "name": "ipython",
    "version": 3
   },
   "file_extension": ".py",
   "mimetype": "text/x-python",
   "name": "python",
   "nbconvert_exporter": "python",
   "pygments_lexer": "ipython3",
   "version": "3.9.7"
  }
 },
 "nbformat": 4,
 "nbformat_minor": 5
}
