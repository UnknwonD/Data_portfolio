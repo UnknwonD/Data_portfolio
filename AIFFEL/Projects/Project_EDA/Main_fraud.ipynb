{
 "cells": [
  {
   "cell_type": "code",
   "execution_count": 199,
   "id": "d500be86",
   "metadata": {},
   "outputs": [],
   "source": [
    "import pandas as pd\n",
    "import numpy as np\n",
    "import seaborn as sns\n",
    "from matplotlib import pyplot as plt"
   ]
  },
  {
   "cell_type": "markdown",
   "id": "8662c15e",
   "metadata": {},
   "source": [
    "## 데이터 살펴보기 "
   ]
  },
  {
   "cell_type": "code",
   "execution_count": 200,
   "id": "c7885e08",
   "metadata": {},
   "outputs": [],
   "source": [
    "cc_df = pd.read_csv('../data/fraud.csv')\n",
    "\n",
    "df = cc_df.copy()"
   ]
  },
  {
   "cell_type": "code",
   "execution_count": 201,
   "id": "f8ebb1e3",
   "metadata": {},
   "outputs": [],
   "source": [
    "pd.set_option('display.max_columns', 50)"
   ]
  },
  {
   "cell_type": "code",
   "execution_count": 202,
   "id": "80a520ae",
   "metadata": {},
   "outputs": [
    {
     "data": {
      "text/html": [
       "<div>\n",
       "<style scoped>\n",
       "    .dataframe tbody tr th:only-of-type {\n",
       "        vertical-align: middle;\n",
       "    }\n",
       "\n",
       "    .dataframe tbody tr th {\n",
       "        vertical-align: top;\n",
       "    }\n",
       "\n",
       "    .dataframe thead th {\n",
       "        text-align: right;\n",
       "    }\n",
       "</style>\n",
       "<table border=\"1\" class=\"dataframe\">\n",
       "  <thead>\n",
       "    <tr style=\"text-align: right;\">\n",
       "      <th></th>\n",
       "      <th>trans_date_trans_time</th>\n",
       "      <th>cc_num</th>\n",
       "      <th>merchant</th>\n",
       "      <th>category</th>\n",
       "      <th>amt</th>\n",
       "      <th>first</th>\n",
       "      <th>last</th>\n",
       "      <th>gender</th>\n",
       "      <th>street</th>\n",
       "      <th>city</th>\n",
       "      <th>state</th>\n",
       "      <th>zip</th>\n",
       "      <th>lat</th>\n",
       "      <th>long</th>\n",
       "      <th>city_pop</th>\n",
       "      <th>job</th>\n",
       "      <th>dob</th>\n",
       "      <th>trans_num</th>\n",
       "      <th>unix_time</th>\n",
       "      <th>merch_lat</th>\n",
       "      <th>merch_long</th>\n",
       "      <th>is_fraud</th>\n",
       "    </tr>\n",
       "  </thead>\n",
       "  <tbody>\n",
       "    <tr>\n",
       "      <th>0</th>\n",
       "      <td>2019-01-01 00:00:44</td>\n",
       "      <td>630423337322</td>\n",
       "      <td>fraud_Heller, Gutmann and Zieme</td>\n",
       "      <td>grocery_pos</td>\n",
       "      <td>107.23</td>\n",
       "      <td>Stephanie</td>\n",
       "      <td>Gill</td>\n",
       "      <td>F</td>\n",
       "      <td>43039 Riley Greens Suite 393</td>\n",
       "      <td>Orient</td>\n",
       "      <td>WA</td>\n",
       "      <td>99160</td>\n",
       "      <td>48.8878</td>\n",
       "      <td>-118.2105</td>\n",
       "      <td>149</td>\n",
       "      <td>Special educational needs teacher</td>\n",
       "      <td>1978-06-21</td>\n",
       "      <td>1f76529f8574734946361c461b024d99</td>\n",
       "      <td>1325376044</td>\n",
       "      <td>49.159047</td>\n",
       "      <td>-118.186462</td>\n",
       "      <td>0</td>\n",
       "    </tr>\n",
       "    <tr>\n",
       "      <th>1</th>\n",
       "      <td>2019-01-01 00:12:34</td>\n",
       "      <td>4956828990005111019</td>\n",
       "      <td>fraud_Schultz, Simonis and Little</td>\n",
       "      <td>grocery_pos</td>\n",
       "      <td>44.71</td>\n",
       "      <td>Kenneth</td>\n",
       "      <td>Robinson</td>\n",
       "      <td>M</td>\n",
       "      <td>269 Sanchez Rapids</td>\n",
       "      <td>Elizabeth</td>\n",
       "      <td>NJ</td>\n",
       "      <td>7208</td>\n",
       "      <td>40.6747</td>\n",
       "      <td>-74.2239</td>\n",
       "      <td>124967</td>\n",
       "      <td>Operational researcher</td>\n",
       "      <td>1980-12-21</td>\n",
       "      <td>09eff9c806365e2a6be12c1bbab3d70e</td>\n",
       "      <td>1325376754</td>\n",
       "      <td>40.079588</td>\n",
       "      <td>-74.848087</td>\n",
       "      <td>0</td>\n",
       "    </tr>\n",
       "  </tbody>\n",
       "</table>\n",
       "</div>"
      ],
      "text/plain": [
       "  trans_date_trans_time               cc_num  \\\n",
       "0   2019-01-01 00:00:44         630423337322   \n",
       "1   2019-01-01 00:12:34  4956828990005111019   \n",
       "\n",
       "                            merchant     category     amt      first  \\\n",
       "0    fraud_Heller, Gutmann and Zieme  grocery_pos  107.23  Stephanie   \n",
       "1  fraud_Schultz, Simonis and Little  grocery_pos   44.71    Kenneth   \n",
       "\n",
       "       last gender                        street       city state    zip  \\\n",
       "0      Gill      F  43039 Riley Greens Suite 393     Orient    WA  99160   \n",
       "1  Robinson      M            269 Sanchez Rapids  Elizabeth    NJ   7208   \n",
       "\n",
       "       lat      long  city_pop                                job         dob  \\\n",
       "0  48.8878 -118.2105       149  Special educational needs teacher  1978-06-21   \n",
       "1  40.6747  -74.2239    124967             Operational researcher  1980-12-21   \n",
       "\n",
       "                          trans_num   unix_time  merch_lat  merch_long  \\\n",
       "0  1f76529f8574734946361c461b024d99  1325376044  49.159047 -118.186462   \n",
       "1  09eff9c806365e2a6be12c1bbab3d70e  1325376754  40.079588  -74.848087   \n",
       "\n",
       "   is_fraud  \n",
       "0         0  \n",
       "1         0  "
      ]
     },
     "execution_count": 202,
     "metadata": {},
     "output_type": "execute_result"
    }
   ],
   "source": [
    "df.head(2)"
   ]
  },
  {
   "cell_type": "code",
   "execution_count": 203,
   "id": "7737e6c4",
   "metadata": {},
   "outputs": [
    {
     "name": "stdout",
     "output_type": "stream",
     "text": [
      "<class 'pandas.core.frame.DataFrame'>\n",
      "RangeIndex: 491134 entries, 0 to 491133\n",
      "Data columns (total 22 columns):\n",
      " #   Column                 Non-Null Count   Dtype  \n",
      "---  ------                 --------------   -----  \n",
      " 0   trans_date_trans_time  491134 non-null  object \n",
      " 1   cc_num                 491134 non-null  int64  \n",
      " 2   merchant               491134 non-null  object \n",
      " 3   category               491134 non-null  object \n",
      " 4   amt                    491134 non-null  float64\n",
      " 5   first                  491134 non-null  object \n",
      " 6   last                   491134 non-null  object \n",
      " 7   gender                 491134 non-null  object \n",
      " 8   street                 491134 non-null  object \n",
      " 9   city                   491134 non-null  object \n",
      " 10  state                  491134 non-null  object \n",
      " 11  zip                    491134 non-null  int64  \n",
      " 12  lat                    491134 non-null  float64\n",
      " 13  long                   491134 non-null  float64\n",
      " 14  city_pop               491134 non-null  int64  \n",
      " 15  job                    491134 non-null  object \n",
      " 16  dob                    491134 non-null  object \n",
      " 17  trans_num              491134 non-null  object \n",
      " 18  unix_time              491134 non-null  int64  \n",
      " 19  merch_lat              491134 non-null  float64\n",
      " 20  merch_long             491134 non-null  float64\n",
      " 21  is_fraud               491134 non-null  int64  \n",
      "dtypes: float64(5), int64(5), object(12)\n",
      "memory usage: 82.4+ MB\n"
     ]
    }
   ],
   "source": [
    "df.info()"
   ]
  },
  {
   "cell_type": "code",
   "execution_count": 204,
   "id": "096f4eaa",
   "metadata": {
    "scrolled": true
   },
   "outputs": [
    {
     "data": {
      "text/html": [
       "<div>\n",
       "<style scoped>\n",
       "    .dataframe tbody tr th:only-of-type {\n",
       "        vertical-align: middle;\n",
       "    }\n",
       "\n",
       "    .dataframe tbody tr th {\n",
       "        vertical-align: top;\n",
       "    }\n",
       "\n",
       "    .dataframe thead th {\n",
       "        text-align: right;\n",
       "    }\n",
       "</style>\n",
       "<table border=\"1\" class=\"dataframe\">\n",
       "  <thead>\n",
       "    <tr style=\"text-align: right;\">\n",
       "      <th></th>\n",
       "      <th>cc_num</th>\n",
       "      <th>amt</th>\n",
       "      <th>zip</th>\n",
       "      <th>lat</th>\n",
       "      <th>long</th>\n",
       "      <th>city_pop</th>\n",
       "      <th>unix_time</th>\n",
       "      <th>merch_lat</th>\n",
       "      <th>merch_long</th>\n",
       "      <th>is_fraud</th>\n",
       "    </tr>\n",
       "  </thead>\n",
       "  <tbody>\n",
       "    <tr>\n",
       "      <th>count</th>\n",
       "      <td>4.911340e+05</td>\n",
       "      <td>491134.000000</td>\n",
       "      <td>491134.000000</td>\n",
       "      <td>491134.000000</td>\n",
       "      <td>491134.000000</td>\n",
       "      <td>4.911340e+05</td>\n",
       "      <td>4.911340e+05</td>\n",
       "      <td>491134.000000</td>\n",
       "      <td>491134.000000</td>\n",
       "      <td>491134.000000</td>\n",
       "    </tr>\n",
       "    <tr>\n",
       "      <th>mean</th>\n",
       "      <td>3.706013e+17</td>\n",
       "      <td>69.050120</td>\n",
       "      <td>50770.532384</td>\n",
       "      <td>37.931230</td>\n",
       "      <td>-90.495619</td>\n",
       "      <td>1.213922e+05</td>\n",
       "      <td>1.358730e+09</td>\n",
       "      <td>37.930272</td>\n",
       "      <td>-90.495411</td>\n",
       "      <td>0.002533</td>\n",
       "    </tr>\n",
       "    <tr>\n",
       "      <th>std</th>\n",
       "      <td>1.260229e+18</td>\n",
       "      <td>160.322867</td>\n",
       "      <td>26854.947965</td>\n",
       "      <td>5.341193</td>\n",
       "      <td>12.990732</td>\n",
       "      <td>3.725751e+05</td>\n",
       "      <td>1.819402e+07</td>\n",
       "      <td>5.372986</td>\n",
       "      <td>13.004100</td>\n",
       "      <td>0.050264</td>\n",
       "    </tr>\n",
       "    <tr>\n",
       "      <th>min</th>\n",
       "      <td>5.038744e+11</td>\n",
       "      <td>1.000000</td>\n",
       "      <td>1843.000000</td>\n",
       "      <td>24.655700</td>\n",
       "      <td>-122.345600</td>\n",
       "      <td>4.600000e+01</td>\n",
       "      <td>1.325376e+09</td>\n",
       "      <td>23.655789</td>\n",
       "      <td>-123.345106</td>\n",
       "      <td>0.000000</td>\n",
       "    </tr>\n",
       "    <tr>\n",
       "      <th>25%</th>\n",
       "      <td>2.131124e+14</td>\n",
       "      <td>8.960000</td>\n",
       "      <td>28405.000000</td>\n",
       "      <td>33.746700</td>\n",
       "      <td>-97.235100</td>\n",
       "      <td>1.228000e+03</td>\n",
       "      <td>1.343087e+09</td>\n",
       "      <td>33.781388</td>\n",
       "      <td>-96.984814</td>\n",
       "      <td>0.000000</td>\n",
       "    </tr>\n",
       "    <tr>\n",
       "      <th>50%</th>\n",
       "      <td>3.531130e+15</td>\n",
       "      <td>42.170000</td>\n",
       "      <td>49628.000000</td>\n",
       "      <td>38.507200</td>\n",
       "      <td>-87.591700</td>\n",
       "      <td>5.760000e+03</td>\n",
       "      <td>1.357257e+09</td>\n",
       "      <td>38.545124</td>\n",
       "      <td>-87.573441</td>\n",
       "      <td>0.000000</td>\n",
       "    </tr>\n",
       "    <tr>\n",
       "      <th>75%</th>\n",
       "      <td>4.653879e+15</td>\n",
       "      <td>80.330000</td>\n",
       "      <td>75048.000000</td>\n",
       "      <td>41.520500</td>\n",
       "      <td>-80.731000</td>\n",
       "      <td>5.083500e+04</td>\n",
       "      <td>1.374626e+09</td>\n",
       "      <td>41.624294</td>\n",
       "      <td>-80.685567</td>\n",
       "      <td>0.000000</td>\n",
       "    </tr>\n",
       "    <tr>\n",
       "      <th>max</th>\n",
       "      <td>4.956829e+18</td>\n",
       "      <td>25086.940000</td>\n",
       "      <td>99323.000000</td>\n",
       "      <td>48.887800</td>\n",
       "      <td>-69.965600</td>\n",
       "      <td>2.906700e+06</td>\n",
       "      <td>1.388534e+09</td>\n",
       "      <td>49.887523</td>\n",
       "      <td>-68.965624</td>\n",
       "      <td>1.000000</td>\n",
       "    </tr>\n",
       "  </tbody>\n",
       "</table>\n",
       "</div>"
      ],
      "text/plain": [
       "             cc_num            amt            zip            lat  \\\n",
       "count  4.911340e+05  491134.000000  491134.000000  491134.000000   \n",
       "mean   3.706013e+17      69.050120   50770.532384      37.931230   \n",
       "std    1.260229e+18     160.322867   26854.947965       5.341193   \n",
       "min    5.038744e+11       1.000000    1843.000000      24.655700   \n",
       "25%    2.131124e+14       8.960000   28405.000000      33.746700   \n",
       "50%    3.531130e+15      42.170000   49628.000000      38.507200   \n",
       "75%    4.653879e+15      80.330000   75048.000000      41.520500   \n",
       "max    4.956829e+18   25086.940000   99323.000000      48.887800   \n",
       "\n",
       "                long      city_pop     unix_time      merch_lat  \\\n",
       "count  491134.000000  4.911340e+05  4.911340e+05  491134.000000   \n",
       "mean      -90.495619  1.213922e+05  1.358730e+09      37.930272   \n",
       "std        12.990732  3.725751e+05  1.819402e+07       5.372986   \n",
       "min      -122.345600  4.600000e+01  1.325376e+09      23.655789   \n",
       "25%       -97.235100  1.228000e+03  1.343087e+09      33.781388   \n",
       "50%       -87.591700  5.760000e+03  1.357257e+09      38.545124   \n",
       "75%       -80.731000  5.083500e+04  1.374626e+09      41.624294   \n",
       "max       -69.965600  2.906700e+06  1.388534e+09      49.887523   \n",
       "\n",
       "          merch_long       is_fraud  \n",
       "count  491134.000000  491134.000000  \n",
       "mean      -90.495411       0.002533  \n",
       "std        13.004100       0.050264  \n",
       "min      -123.345106       0.000000  \n",
       "25%       -96.984814       0.000000  \n",
       "50%       -87.573441       0.000000  \n",
       "75%       -80.685567       0.000000  \n",
       "max       -68.965624       1.000000  "
      ]
     },
     "execution_count": 204,
     "metadata": {},
     "output_type": "execute_result"
    }
   ],
   "source": [
    "df.describe()"
   ]
  },
  {
   "cell_type": "markdown",
   "id": "f15ab36b",
   "metadata": {},
   "source": [
    "## 변수 확인하기"
   ]
  },
  {
   "cell_type": "code",
   "execution_count": 205,
   "id": "5fc49e8e",
   "metadata": {
    "scrolled": true
   },
   "outputs": [
    {
     "data": {
      "text/html": [
       "<div>\n",
       "<style scoped>\n",
       "    .dataframe tbody tr th:only-of-type {\n",
       "        vertical-align: middle;\n",
       "    }\n",
       "\n",
       "    .dataframe tbody tr th {\n",
       "        vertical-align: top;\n",
       "    }\n",
       "\n",
       "    .dataframe thead th {\n",
       "        text-align: right;\n",
       "    }\n",
       "</style>\n",
       "<table border=\"1\" class=\"dataframe\">\n",
       "  <thead>\n",
       "    <tr style=\"text-align: right;\">\n",
       "      <th></th>\n",
       "      <th>merchant</th>\n",
       "    </tr>\n",
       "  </thead>\n",
       "  <tbody>\n",
       "    <tr>\n",
       "      <th>fraud_Kilback LLC</th>\n",
       "      <td>1602</td>\n",
       "    </tr>\n",
       "    <tr>\n",
       "      <th>fraud_Cormier LLC</th>\n",
       "      <td>1455</td>\n",
       "    </tr>\n",
       "    <tr>\n",
       "      <th>fraud_Kuhn LLC</th>\n",
       "      <td>1446</td>\n",
       "    </tr>\n",
       "    <tr>\n",
       "      <th>fraud_Schumm PLC</th>\n",
       "      <td>1392</td>\n",
       "    </tr>\n",
       "    <tr>\n",
       "      <th>fraud_Boyer PLC</th>\n",
       "      <td>1375</td>\n",
       "    </tr>\n",
       "    <tr>\n",
       "      <th>...</th>\n",
       "      <td>...</td>\n",
       "    </tr>\n",
       "    <tr>\n",
       "      <th>fraud_Little-Gleichner</th>\n",
       "      <td>228</td>\n",
       "    </tr>\n",
       "    <tr>\n",
       "      <th>fraud_Douglas, DuBuque and McKenzie</th>\n",
       "      <td>228</td>\n",
       "    </tr>\n",
       "    <tr>\n",
       "      <th>fraud_Satterfield-Lowe</th>\n",
       "      <td>227</td>\n",
       "    </tr>\n",
       "    <tr>\n",
       "      <th>fraud_Reichert-Weissnat</th>\n",
       "      <td>226</td>\n",
       "    </tr>\n",
       "    <tr>\n",
       "      <th>fraud_Jerde-Hermann</th>\n",
       "      <td>226</td>\n",
       "    </tr>\n",
       "  </tbody>\n",
       "</table>\n",
       "<p>693 rows × 1 columns</p>\n",
       "</div>"
      ],
      "text/plain": [
       "                                     merchant\n",
       "fraud_Kilback LLC                        1602\n",
       "fraud_Cormier LLC                        1455\n",
       "fraud_Kuhn LLC                           1446\n",
       "fraud_Schumm PLC                         1392\n",
       "fraud_Boyer PLC                          1375\n",
       "...                                       ...\n",
       "fraud_Little-Gleichner                    228\n",
       "fraud_Douglas, DuBuque and McKenzie       228\n",
       "fraud_Satterfield-Lowe                    227\n",
       "fraud_Reichert-Weissnat                   226\n",
       "fraud_Jerde-Hermann                       226\n",
       "\n",
       "[693 rows x 1 columns]"
      ]
     },
     "execution_count": 205,
     "metadata": {},
     "output_type": "execute_result"
    }
   ],
   "source": [
    "pd.DataFrame(df[\"merchant\"].value_counts())"
   ]
  },
  {
   "cell_type": "markdown",
   "id": "3fae14ec",
   "metadata": {},
   "source": [
    "- 가게 이름이 fraud로 시작하며, 높은 빈도수를 보이는 장소는 LLC, PLC가 붙어 있다.\n",
    "- 따라서 내부 변수 각각을 확인해보기로 했다."
   ]
  },
  {
   "cell_type": "code",
   "execution_count": 206,
   "id": "d156ab16",
   "metadata": {},
   "outputs": [],
   "source": [
    "merchant = df[\"merchant\"]"
   ]
  },
  {
   "cell_type": "code",
   "execution_count": 207,
   "id": "3528a839",
   "metadata": {
    "scrolled": true
   },
   "outputs": [
    {
     "data": {
      "text/plain": [
       "61994"
      ]
     },
     "execution_count": 207,
     "metadata": {},
     "output_type": "execute_result"
    }
   ],
   "source": [
    "merchant.apply(lambda x: 1 if x.endswith(\"LLC\") or x.endswith(\"PLC\") else 0).sum()"
   ]
  },
  {
   "cell_type": "code",
   "execution_count": 208,
   "id": "e5b565b6",
   "metadata": {},
   "outputs": [
    {
     "data": {
      "text/plain": [
       "491134"
      ]
     },
     "execution_count": 208,
     "metadata": {},
     "output_type": "execute_result"
    }
   ],
   "source": [
    "df[\"merchant\"].count()"
   ]
  },
  {
   "cell_type": "code",
   "execution_count": 209,
   "id": "b8451876",
   "metadata": {},
   "outputs": [],
   "source": [
    "df[\"merchant_LC\"] = merchant.apply(lambda x: 1 if x.endswith(\"LLC\") or x.endswith(\"PLC\") else 0)"
   ]
  },
  {
   "cell_type": "code",
   "execution_count": 210,
   "id": "3475ff8e",
   "metadata": {},
   "outputs": [
    {
     "data": {
      "text/plain": [
       "155"
      ]
     },
     "execution_count": 210,
     "metadata": {},
     "output_type": "execute_result"
    }
   ],
   "source": [
    "df[(df[\"merchant_LC\"] == 1) & (df[\"is_fraud\"] == 1)][\"is_fraud\"].sum()"
   ]
  },
  {
   "cell_type": "markdown",
   "id": "6c4c44fc",
   "metadata": {},
   "source": [
    "- 확인해본 결과, LLC, PLC가 붙은 이름의 이상거래비율은 0.1% 정도이기에\n",
    "- 가게의 이름은 거의 상관이 없는 것으로 판단된다.\n",
    "- 따라서 생성된 merchant_LC 열과 merchant열은 제거하기로 판단했다."
   ]
  },
  {
   "cell_type": "code",
   "execution_count": 211,
   "id": "e70d2d3d",
   "metadata": {},
   "outputs": [],
   "source": [
    "df.drop(\"merchant_LC\", inplace = True, axis=1)"
   ]
  },
  {
   "cell_type": "markdown",
   "id": "2f07708e",
   "metadata": {},
   "source": [
    "#### job 컬럼 확인"
   ]
  },
  {
   "cell_type": "code",
   "execution_count": 212,
   "id": "ca4264f9",
   "metadata": {
    "scrolled": true
   },
   "outputs": [
    {
     "data": {
      "text/plain": [
       "Environmental consultant    8777\n",
       "Comptroller                 8766\n",
       "Immunologist                8760\n",
       "Water engineer              8740\n",
       "Film/video editor           8035\n",
       "                            ... \n",
       "Energy engineer             3642\n",
       "Intelligence analyst        3641\n",
       "Toxicologist                3638\n",
       "Herbalist                   3638\n",
       "Physiotherapist             3638\n",
       "Name: job, Length: 110, dtype: int64"
      ]
     },
     "execution_count": 212,
     "metadata": {},
     "output_type": "execute_result"
    }
   ],
   "source": [
    "df[\"job\"].value_counts()"
   ]
  },
  {
   "cell_type": "code",
   "execution_count": 213,
   "id": "f6359c79",
   "metadata": {
    "scrolled": true
   },
   "outputs": [
    {
     "data": {
      "text/plain": [
       "0"
      ]
     },
     "execution_count": 213,
     "metadata": {},
     "output_type": "execute_result"
    }
   ],
   "source": [
    "df[(df[\"job\"] == \"Environmental counsultant\") & (df[\"is_fraud\"] == 1)][\"is_fraud\"].sum()"
   ]
  },
  {
   "cell_type": "code",
   "execution_count": 214,
   "id": "162f8cea",
   "metadata": {},
   "outputs": [
    {
     "data": {
      "text/plain": [
       "26"
      ]
     },
     "execution_count": 214,
     "metadata": {},
     "output_type": "execute_result"
    }
   ],
   "source": [
    "df[(df[\"job\"] == \"Comptroller\") & (df[\"is_fraud\"] == 1)][\"is_fraud\"].sum()"
   ]
  },
  {
   "cell_type": "code",
   "execution_count": 215,
   "id": "8c66c836",
   "metadata": {
    "scrolled": true
   },
   "outputs": [
    {
     "data": {
      "text/plain": [
       "6"
      ]
     },
     "execution_count": 215,
     "metadata": {},
     "output_type": "execute_result"
    }
   ],
   "source": [
    "df[(df[\"job\"] == \"Physiotherapist\") & (df[\"is_fraud\"] == 1)][\"is_fraud\"].sum()"
   ]
  },
  {
   "cell_type": "code",
   "execution_count": 216,
   "id": "20067139",
   "metadata": {},
   "outputs": [
    {
     "data": {
      "text/plain": [
       "10"
      ]
     },
     "execution_count": 216,
     "metadata": {},
     "output_type": "execute_result"
    }
   ],
   "source": [
    "df[(df[\"job\"] == \"Herbalist\") & (df[\"is_fraud\"] == 1)][\"is_fraud\"].sum()"
   ]
  },
  {
   "cell_type": "markdown",
   "id": "22824fc7",
   "metadata": {},
   "source": [
    "- Job 컬럼도 크게 의미가 없다고 판단되었다.\n",
    "\n",
    "뿐만 아니라, 거래 지역, 카드 소유자 관련 정보, 거래 식별자, 발생한 시간과 같이\n",
    "\n",
    "이상거래 탐지에 필요가 없을 것이라고 판단되는요인들에 대해서 제거하기로 결정했다."
   ]
  },
  {
   "cell_type": "markdown",
   "id": "b5b57f58",
   "metadata": {},
   "source": [
    "### 의미 없는 변수 제거\n",
    "\n",
    "1. merchant : 신용카드 거래 대상 가맹점\n",
    "2. first, last : 카드 소유자의 이름 및 성\n",
    "3. street : 카드 소유자의 거주지 도로 주소\n",
    "4. city, state : 거주지 도시, 주\n",
    "5. zip : 우편번호\n",
    "6. job : 직업\n",
    "7. trans_num : 거래 식별자\n",
    "8. unix_time : 거래가 발생한 unix 시간"
   ]
  },
  {
   "cell_type": "code",
   "execution_count": 217,
   "id": "28c5835f",
   "metadata": {},
   "outputs": [],
   "source": [
    "df.drop(['merchant','first','last','street','city','state','zip','job','trans_num','unix_time'], axis = 1, inplace= True)"
   ]
  },
  {
   "cell_type": "markdown",
   "id": "a658c4c1",
   "metadata": {},
   "source": [
    "### 데이터 중복값 및 결측치 확인"
   ]
  },
  {
   "cell_type": "code",
   "execution_count": 218,
   "id": "30b4b7c8",
   "metadata": {
    "scrolled": false
   },
   "outputs": [
    {
     "data": {
      "text/plain": [
       "trans_date_trans_time    0\n",
       "cc_num                   0\n",
       "category                 0\n",
       "amt                      0\n",
       "gender                   0\n",
       "lat                      0\n",
       "long                     0\n",
       "city_pop                 0\n",
       "dob                      0\n",
       "merch_lat                0\n",
       "merch_long               0\n",
       "is_fraud                 0\n",
       "dtype: int64"
      ]
     },
     "execution_count": 218,
     "metadata": {},
     "output_type": "execute_result"
    }
   ],
   "source": [
    "df.isna().sum()"
   ]
  },
  {
   "cell_type": "code",
   "execution_count": 219,
   "id": "3ff02e62",
   "metadata": {},
   "outputs": [
    {
     "data": {
      "text/plain": [
       "0"
      ]
     },
     "execution_count": 219,
     "metadata": {},
     "output_type": "execute_result"
    }
   ],
   "source": [
    "df.duplicated().sum()"
   ]
  },
  {
   "cell_type": "markdown",
   "id": "2414a6f0",
   "metadata": {},
   "source": [
    "- 데이터를 확인해본 결과, 결측치와 중복값은 존재하지 않는 것으로 확인된다.\n",
    "- 따라서 이어서 숫자형 변수의 이상치를 확인한 뒤, Feature engineering을 진행해보기로 했다."
   ]
  },
  {
   "cell_type": "markdown",
   "id": "921a9928",
   "metadata": {},
   "source": [
    "### 이상치 확인하기"
   ]
  },
  {
   "cell_type": "code",
   "execution_count": 220,
   "id": "6114010b",
   "metadata": {
    "scrolled": false
   },
   "outputs": [
    {
     "name": "stdout",
     "output_type": "stream",
     "text": [
      "Index(['cc_num', 'amt', 'lat', 'long', 'city_pop', 'merch_lat', 'merch_long',\n",
      "       'is_fraud'],\n",
      "      dtype='object')\n"
     ]
    }
   ],
   "source": [
    "object_cols = df.select_dtypes(include=['int', 'float']).columns\n",
    "print(object_cols)"
   ]
  },
  {
   "cell_type": "code",
   "execution_count": 221,
   "id": "305a384b",
   "metadata": {
    "scrolled": true
   },
   "outputs": [
    {
     "data": {
      "text/plain": [
       "124"
      ]
     },
     "execution_count": 221,
     "metadata": {},
     "output_type": "execute_result"
    }
   ],
   "source": [
    "df[\"cc_num\"].unique().size"
   ]
  },
  {
   "cell_type": "markdown",
   "id": "d726ca76",
   "metadata": {},
   "source": [
    "- 124개의 카드에서 모두 이상거래가 발생한 것을 알 수 있었다."
   ]
  },
  {
   "cell_type": "code",
   "execution_count": 222,
   "id": "a9e6559b",
   "metadata": {},
   "outputs": [
    {
     "data": {
      "text/html": [
       "<div>\n",
       "<style scoped>\n",
       "    .dataframe tbody tr th:only-of-type {\n",
       "        vertical-align: middle;\n",
       "    }\n",
       "\n",
       "    .dataframe tbody tr th {\n",
       "        vertical-align: top;\n",
       "    }\n",
       "\n",
       "    .dataframe thead th {\n",
       "        text-align: right;\n",
       "    }\n",
       "</style>\n",
       "<table border=\"1\" class=\"dataframe\">\n",
       "  <thead>\n",
       "    <tr style=\"text-align: right;\">\n",
       "      <th></th>\n",
       "      <th>amt</th>\n",
       "      <th>lat</th>\n",
       "      <th>long</th>\n",
       "      <th>city_pop</th>\n",
       "      <th>merch_lat</th>\n",
       "      <th>merch_long</th>\n",
       "      <th>is_fraud</th>\n",
       "    </tr>\n",
       "    <tr>\n",
       "      <th>cc_num</th>\n",
       "      <th></th>\n",
       "      <th></th>\n",
       "      <th></th>\n",
       "      <th></th>\n",
       "      <th></th>\n",
       "      <th></th>\n",
       "      <th></th>\n",
       "    </tr>\n",
       "  </thead>\n",
       "  <tbody>\n",
       "    <tr>\n",
       "      <th>6538441737335434</th>\n",
       "      <td>336174.28</td>\n",
       "      <td>181763.3592</td>\n",
       "      <td>-352129.4784</td>\n",
       "      <td>2661552</td>\n",
       "      <td>181790.096533</td>\n",
       "      <td>-352107.808389</td>\n",
       "      <td>18</td>\n",
       "    </tr>\n",
       "    <tr>\n",
       "      <th>3518669219150142</th>\n",
       "      <td>185348.36</td>\n",
       "      <td>143111.4678</td>\n",
       "      <td>-307787.3820</td>\n",
       "      <td>114713676</td>\n",
       "      <td>143141.071945</td>\n",
       "      <td>-307713.693979</td>\n",
       "      <td>16</td>\n",
       "    </tr>\n",
       "    <tr>\n",
       "      <th>3589289942931264</th>\n",
       "      <td>224387.58</td>\n",
       "      <td>160145.8620</td>\n",
       "      <td>-357192.5760</td>\n",
       "      <td>1255380</td>\n",
       "      <td>160147.898244</td>\n",
       "      <td>-357195.291242</td>\n",
       "      <td>16</td>\n",
       "    </tr>\n",
       "    <tr>\n",
       "      <th>6538891242532018</th>\n",
       "      <td>383817.40</td>\n",
       "      <td>158003.0184</td>\n",
       "      <td>-398813.7168</td>\n",
       "      <td>31381830</td>\n",
       "      <td>158047.355337</td>\n",
       "      <td>-398856.968441</td>\n",
       "      <td>16</td>\n",
       "    </tr>\n",
       "    <tr>\n",
       "      <th>3576021480694169</th>\n",
       "      <td>184001.38</td>\n",
       "      <td>143382.9456</td>\n",
       "      <td>-350653.2272</td>\n",
       "      <td>598752560</td>\n",
       "      <td>143376.518036</td>\n",
       "      <td>-350653.084891</td>\n",
       "      <td>16</td>\n",
       "    </tr>\n",
       "    <tr>\n",
       "      <th>2720433095629877</th>\n",
       "      <td>223164.55</td>\n",
       "      <td>192707.5050</td>\n",
       "      <td>-306029.5344</td>\n",
       "      <td>14101776</td>\n",
       "      <td>192702.712155</td>\n",
       "      <td>-306073.694852</td>\n",
       "      <td>16</td>\n",
       "    </tr>\n",
       "    <tr>\n",
       "      <th>3556613125071656</th>\n",
       "      <td>184705.83</td>\n",
       "      <td>106312.8773</td>\n",
       "      <td>-349406.2061</td>\n",
       "      <td>105213479</td>\n",
       "      <td>106301.058065</td>\n",
       "      <td>-349430.748546</td>\n",
       "      <td>16</td>\n",
       "    </tr>\n",
       "    <tr>\n",
       "      <th>213112402583773</th>\n",
       "      <td>254834.08</td>\n",
       "      <td>149062.7880</td>\n",
       "      <td>-360047.8260</td>\n",
       "      <td>6670740</td>\n",
       "      <td>149093.118131</td>\n",
       "      <td>-360033.017919</td>\n",
       "      <td>16</td>\n",
       "    </tr>\n",
       "    <tr>\n",
       "      <th>376445266762684</th>\n",
       "      <td>247231.07</td>\n",
       "      <td>180180.0924</td>\n",
       "      <td>-442773.4080</td>\n",
       "      <td>7832242</td>\n",
       "      <td>180248.268391</td>\n",
       "      <td>-442856.842313</td>\n",
       "      <td>15</td>\n",
       "    </tr>\n",
       "    <tr>\n",
       "      <th>3527536963490470</th>\n",
       "      <td>208921.18</td>\n",
       "      <td>120367.5102</td>\n",
       "      <td>-296634.2778</td>\n",
       "      <td>6303150</td>\n",
       "      <td>120291.406096</td>\n",
       "      <td>-296682.899834</td>\n",
       "      <td>15</td>\n",
       "    </tr>\n",
       "  </tbody>\n",
       "</table>\n",
       "</div>"
      ],
      "text/plain": [
       "                        amt          lat         long   city_pop  \\\n",
       "cc_num                                                             \n",
       "6538441737335434  336174.28  181763.3592 -352129.4784    2661552   \n",
       "3518669219150142  185348.36  143111.4678 -307787.3820  114713676   \n",
       "3589289942931264  224387.58  160145.8620 -357192.5760    1255380   \n",
       "6538891242532018  383817.40  158003.0184 -398813.7168   31381830   \n",
       "3576021480694169  184001.38  143382.9456 -350653.2272  598752560   \n",
       "2720433095629877  223164.55  192707.5050 -306029.5344   14101776   \n",
       "3556613125071656  184705.83  106312.8773 -349406.2061  105213479   \n",
       "213112402583773   254834.08  149062.7880 -360047.8260    6670740   \n",
       "376445266762684   247231.07  180180.0924 -442773.4080    7832242   \n",
       "3527536963490470  208921.18  120367.5102 -296634.2778    6303150   \n",
       "\n",
       "                      merch_lat     merch_long  is_fraud  \n",
       "cc_num                                                    \n",
       "6538441737335434  181790.096533 -352107.808389        18  \n",
       "3518669219150142  143141.071945 -307713.693979        16  \n",
       "3589289942931264  160147.898244 -357195.291242        16  \n",
       "6538891242532018  158047.355337 -398856.968441        16  \n",
       "3576021480694169  143376.518036 -350653.084891        16  \n",
       "2720433095629877  192702.712155 -306073.694852        16  \n",
       "3556613125071656  106301.058065 -349430.748546        16  \n",
       "213112402583773   149093.118131 -360033.017919        16  \n",
       "376445266762684   180248.268391 -442856.842313        15  \n",
       "3527536963490470  120291.406096 -296682.899834        15  "
      ]
     },
     "execution_count": 222,
     "metadata": {},
     "output_type": "execute_result"
    }
   ],
   "source": [
    "df.groupby(\"cc_num\").sum(\"is_fraud\").sort_values(\"is_fraud\", ascending = False).head(10)"
   ]
  },
  {
   "cell_type": "code",
   "execution_count": 223,
   "id": "4d26963b",
   "metadata": {},
   "outputs": [
    {
     "data": {
      "text/plain": [
       "36446"
      ]
     },
     "execution_count": 223,
     "metadata": {},
     "output_type": "execute_result"
    }
   ],
   "source": [
    "df[\"amt\"].unique().size"
   ]
  },
  {
   "cell_type": "code",
   "execution_count": 224,
   "id": "d4ed5198",
   "metadata": {
    "scrolled": true
   },
   "outputs": [
    {
     "data": {
      "image/png": "[encoded data removed]",
      "text/plain": [
       "<Figure size 432x288 with 1 Axes>"
      ]
     },
     "metadata": {
      "needs_background": "light"
     },
     "output_type": "display_data"
    }
   ],
   "source": [
    "sns.boxplot(x=df['amt'])\n",
    "plt.title('Boxplot of \"amt\"')\n",
    "plt.xlabel('Amount')\n",
    "plt.show()"
   ]
  },
  {
   "cell_type": "code",
   "execution_count": 225,
   "id": "a13188bd",
   "metadata": {},
   "outputs": [
    {
     "data": {
      "image/png": "[encoded data removed]",
      "text/plain": [
       "<Figure size 432x288 with 1 Axes>"
      ]
     },
     "metadata": {
      "needs_background": "light"
     },
     "output_type": "display_data"
    }
   ],
   "source": [
    "sns.scatterplot(x='amt', y='is_fraud', data=df)\n",
    "plt.title('Scatter Plot of \"amt\" and \"is_fraud\"')\n",
    "plt.xlabel('Amount')\n",
    "plt.ylabel('is_fraud')\n",
    "plt.show()"
   ]
  },
  {
   "cell_type": "markdown",
   "id": "81afd4c8",
   "metadata": {},
   "source": [
    "고액 거래는 대부분 is_fraud가 아닌 것을 볼 수 있었다.\n",
    "\n",
    "일단, amt 열을 전체적으로 standard scaling을 진행하고 이를 amt_scaled라는 column으로 생성했다."
   ]
  },
  {
   "cell_type": "code",
   "execution_count": 226,
   "id": "fda6e9a6",
   "metadata": {},
   "outputs": [],
   "source": [
    "from sklearn.preprocessing import StandardScaler\n",
    "\n",
    "scaler = StandardScaler()\n",
    "\n",
    "df[\"amt_scaled\"] = scaler.fit_transform(df[[\"amt\"]])"
   ]
  },
  {
   "cell_type": "code",
   "execution_count": 227,
   "id": "144fa45e",
   "metadata": {},
   "outputs": [
    {
     "data": {
      "image/png": "[encoded data removed]",
      "text/plain": [
       "<Figure size 432x288 with 1 Axes>"
      ]
     },
     "metadata": {
      "needs_background": "light"
     },
     "output_type": "display_data"
    }
   ],
   "source": [
    "sns.boxplot(x=df['amt_scaled'])\n",
    "plt.title('Boxplot of \"amt\"')\n",
    "plt.xlabel('Amount')\n",
    "plt.show()"
   ]
  },
  {
   "cell_type": "markdown",
   "id": "2469a91f",
   "metadata": {},
   "source": [
    "## Object type data 전처리하기"
   ]
  },
  {
   "cell_type": "code",
   "execution_count": 228,
   "id": "79e1d525",
   "metadata": {},
   "outputs": [
    {
     "name": "stdout",
     "output_type": "stream",
     "text": [
      "Index(['trans_date_trans_time', 'category', 'gender', 'dob'], dtype='object')\n"
     ]
    }
   ],
   "source": [
    "object_cols = df.select_dtypes(include=['object']).columns\n",
    "print(object_cols)"
   ]
  },
  {
   "cell_type": "code",
   "execution_count": 229,
   "id": "4da7aef3",
   "metadata": {},
   "outputs": [
    {
     "data": {
      "text/html": [
       "<div>\n",
       "<style scoped>\n",
       "    .dataframe tbody tr th:only-of-type {\n",
       "        vertical-align: middle;\n",
       "    }\n",
       "\n",
       "    .dataframe tbody tr th {\n",
       "        vertical-align: top;\n",
       "    }\n",
       "\n",
       "    .dataframe thead th {\n",
       "        text-align: right;\n",
       "    }\n",
       "</style>\n",
       "<table border=\"1\" class=\"dataframe\">\n",
       "  <thead>\n",
       "    <tr style=\"text-align: right;\">\n",
       "      <th></th>\n",
       "      <th>trans_date_trans_time</th>\n",
       "      <th>category</th>\n",
       "      <th>gender</th>\n",
       "      <th>dob</th>\n",
       "    </tr>\n",
       "  </thead>\n",
       "  <tbody>\n",
       "    <tr>\n",
       "      <th>0</th>\n",
       "      <td>2019-01-01 00:00:44</td>\n",
       "      <td>grocery_pos</td>\n",
       "      <td>F</td>\n",
       "      <td>1978-06-21</td>\n",
       "    </tr>\n",
       "    <tr>\n",
       "      <th>1</th>\n",
       "      <td>2019-01-01 00:12:34</td>\n",
       "      <td>grocery_pos</td>\n",
       "      <td>M</td>\n",
       "      <td>1980-12-21</td>\n",
       "    </tr>\n",
       "  </tbody>\n",
       "</table>\n",
       "</div>"
      ],
      "text/plain": [
       "  trans_date_trans_time     category gender         dob\n",
       "0   2019-01-01 00:00:44  grocery_pos      F  1978-06-21\n",
       "1   2019-01-01 00:12:34  grocery_pos      M  1980-12-21"
      ]
     },
     "execution_count": 229,
     "metadata": {},
     "output_type": "execute_result"
    }
   ],
   "source": [
    "df[object_cols].head(2)"
   ]
  },
  {
   "cell_type": "code",
   "execution_count": 230,
   "id": "3a7b8856",
   "metadata": {},
   "outputs": [
    {
     "data": {
      "text/plain": [
       "shopping_pos      48345\n",
       "gas_transport     46029\n",
       "home              43340\n",
       "grocery_pos       42722\n",
       "kids_pets         40295\n",
       "shopping_net      39179\n",
       "food_dining       35980\n",
       "personal_care     35513\n",
       "entertainment     33619\n",
       "misc_pos          32411\n",
       "health_fitness    31415\n",
       "misc_net          25179\n",
       "grocery_net       24486\n",
       "travel            12621\n",
       "Name: category, dtype: int64"
      ]
     },
     "execution_count": 230,
     "metadata": {},
     "output_type": "execute_result"
    }
   ],
   "source": [
    "df[\"category\"].value_counts()"
   ]
  },
  {
   "cell_type": "code",
   "execution_count": 231,
   "id": "9087f77b",
   "metadata": {},
   "outputs": [
    {
     "data": {
      "text/plain": [
       "entertainment     0.157898\n",
       "food_dining       0.172615\n",
       "gas_transport     0.219909\n",
       "grocery_net       0.032682\n",
       "grocery_pos       0.508164\n",
       "health_fitness    0.127490\n",
       "home              0.166405\n",
       "kids_pets         0.169041\n",
       "misc_net          0.434783\n",
       "misc_pos          0.176176\n",
       "personal_care     0.163588\n",
       "shopping_net      0.621517\n",
       "shopping_pos      0.277945\n",
       "travel            0.190522\n",
       "Name: category, dtype: float64"
      ]
     },
     "execution_count": 231,
     "metadata": {},
     "output_type": "execute_result"
    }
   ],
   "source": [
    "(df[df[\"is_fraud\"] == 1][\"category\"].value_counts()/df[df[\"is_fraud\"] == 0][\"category\"].value_counts())*100"
   ]
  },
  {
   "cell_type": "markdown",
   "id": "b196f142",
   "metadata": {},
   "source": [
    "- 카테고리를 확인한 결과, shopping_net, grocery_pos, misc_net에서 이상거래 비율이 높다.\n",
    "- 하지만 이 또한 최고 비율이 0.6%에 해당하는 미미한 수준이기에 의미를 부여하기엔 시기상조인 것 같다.\n",
    "\n",
    "\n",
    "#### 시간대 확인하기\n",
    "\n",
    "- object 형태의 컬럼에서 다음으로 중요한 부분은 시간대라고 생각한다.\n",
    "- 시간대를 파악하여 주로 어느 시간대에 이상거래가 발생하는지를 확인한다."
   ]
  },
  {
   "cell_type": "code",
   "execution_count": 232,
   "id": "ff1c97fd",
   "metadata": {},
   "outputs": [],
   "source": [
    "df[\"hour\"] = pd.to_datetime(df[\"trans_date_trans_time\"]).dt.hour"
   ]
  },
  {
   "cell_type": "code",
   "execution_count": 233,
   "id": "dc268b68",
   "metadata": {},
   "outputs": [],
   "source": [
    "def hour_func(x):\n",
    "    if (x >= 6) & (x < 12):\n",
    "        return 'morning'\n",
    "    elif (x >= 12) & (x < 18):\n",
    "        return 'afternoon'\n",
    "    elif (x >= 18) & (x < 23):\n",
    "        return 'night'\n",
    "    else:\n",
    "        return 'evening'"
   ]
  },
  {
   "cell_type": "code",
   "execution_count": 234,
   "id": "6e41d101",
   "metadata": {},
   "outputs": [],
   "source": [
    "df[\"slot\"] = df[\"hour\"].apply(hour_func)"
   ]
  },
  {
   "cell_type": "code",
   "execution_count": 235,
   "id": "6904977a",
   "metadata": {},
   "outputs": [
    {
     "data": {
      "text/plain": [
       "evening      820\n",
       "night        305\n",
       "morning       71\n",
       "afternoon     48\n",
       "Name: slot, dtype: int64"
      ]
     },
     "execution_count": 235,
     "metadata": {},
     "output_type": "execute_result"
    }
   ],
   "source": [
    "df[df[\"is_fraud\"]==1][\"slot\"].value_counts()"
   ]
  },
  {
   "cell_type": "markdown",
   "id": "bb07abb7",
   "metadata": {},
   "source": [
    "- 이상거래는 주로 새벽, 저녁 시간에 자주 발생한다는 것을 알 수 있다.\n",
    "- 이를 이제 원-핫 인코딩하여 새로운 컬럼으로 제작한다."
   ]
  },
  {
   "cell_type": "code",
   "execution_count": 236,
   "id": "87d067e8",
   "metadata": {},
   "outputs": [
    {
     "data": {
      "text/html": [
       "<div>\n",
       "<style scoped>\n",
       "    .dataframe tbody tr th:only-of-type {\n",
       "        vertical-align: middle;\n",
       "    }\n",
       "\n",
       "    .dataframe tbody tr th {\n",
       "        vertical-align: top;\n",
       "    }\n",
       "\n",
       "    .dataframe thead th {\n",
       "        text-align: right;\n",
       "    }\n",
       "</style>\n",
       "<table border=\"1\" class=\"dataframe\">\n",
       "  <thead>\n",
       "    <tr style=\"text-align: right;\">\n",
       "      <th></th>\n",
       "      <th>afternoon</th>\n",
       "      <th>evening</th>\n",
       "      <th>morning</th>\n",
       "      <th>night</th>\n",
       "    </tr>\n",
       "  </thead>\n",
       "  <tbody>\n",
       "    <tr>\n",
       "      <th>0</th>\n",
       "      <td>0</td>\n",
       "      <td>1</td>\n",
       "      <td>0</td>\n",
       "      <td>0</td>\n",
       "    </tr>\n",
       "    <tr>\n",
       "      <th>1</th>\n",
       "      <td>0</td>\n",
       "      <td>1</td>\n",
       "      <td>0</td>\n",
       "      <td>0</td>\n",
       "    </tr>\n",
       "    <tr>\n",
       "      <th>2</th>\n",
       "      <td>0</td>\n",
       "      <td>1</td>\n",
       "      <td>0</td>\n",
       "      <td>0</td>\n",
       "    </tr>\n",
       "    <tr>\n",
       "      <th>3</th>\n",
       "      <td>0</td>\n",
       "      <td>1</td>\n",
       "      <td>0</td>\n",
       "      <td>0</td>\n",
       "    </tr>\n",
       "    <tr>\n",
       "      <th>4</th>\n",
       "      <td>0</td>\n",
       "      <td>1</td>\n",
       "      <td>0</td>\n",
       "      <td>0</td>\n",
       "    </tr>\n",
       "    <tr>\n",
       "      <th>...</th>\n",
       "      <td>...</td>\n",
       "      <td>...</td>\n",
       "      <td>...</td>\n",
       "      <td>...</td>\n",
       "    </tr>\n",
       "    <tr>\n",
       "      <th>491129</th>\n",
       "      <td>0</td>\n",
       "      <td>1</td>\n",
       "      <td>0</td>\n",
       "      <td>0</td>\n",
       "    </tr>\n",
       "    <tr>\n",
       "      <th>491130</th>\n",
       "      <td>0</td>\n",
       "      <td>1</td>\n",
       "      <td>0</td>\n",
       "      <td>0</td>\n",
       "    </tr>\n",
       "    <tr>\n",
       "      <th>491131</th>\n",
       "      <td>0</td>\n",
       "      <td>1</td>\n",
       "      <td>0</td>\n",
       "      <td>0</td>\n",
       "    </tr>\n",
       "    <tr>\n",
       "      <th>491132</th>\n",
       "      <td>0</td>\n",
       "      <td>1</td>\n",
       "      <td>0</td>\n",
       "      <td>0</td>\n",
       "    </tr>\n",
       "    <tr>\n",
       "      <th>491133</th>\n",
       "      <td>0</td>\n",
       "      <td>1</td>\n",
       "      <td>0</td>\n",
       "      <td>0</td>\n",
       "    </tr>\n",
       "  </tbody>\n",
       "</table>\n",
       "<p>491134 rows × 4 columns</p>\n",
       "</div>"
      ],
      "text/plain": [
       "        afternoon  evening  morning  night\n",
       "0               0        1        0      0\n",
       "1               0        1        0      0\n",
       "2               0        1        0      0\n",
       "3               0        1        0      0\n",
       "4               0        1        0      0\n",
       "...           ...      ...      ...    ...\n",
       "491129          0        1        0      0\n",
       "491130          0        1        0      0\n",
       "491131          0        1        0      0\n",
       "491132          0        1        0      0\n",
       "491133          0        1        0      0\n",
       "\n",
       "[491134 rows x 4 columns]"
      ]
     },
     "execution_count": 236,
     "metadata": {},
     "output_type": "execute_result"
    }
   ],
   "source": [
    "dummies = pd.get_dummies(df[\"slot\"])\n",
    "dummies"
   ]
  },
  {
   "cell_type": "code",
   "execution_count": 237,
   "id": "3533869d",
   "metadata": {},
   "outputs": [
    {
     "data": {
      "text/html": [
       "<div>\n",
       "<style scoped>\n",
       "    .dataframe tbody tr th:only-of-type {\n",
       "        vertical-align: middle;\n",
       "    }\n",
       "\n",
       "    .dataframe tbody tr th {\n",
       "        vertical-align: top;\n",
       "    }\n",
       "\n",
       "    .dataframe thead th {\n",
       "        text-align: right;\n",
       "    }\n",
       "</style>\n",
       "<table border=\"1\" class=\"dataframe\">\n",
       "  <thead>\n",
       "    <tr style=\"text-align: right;\">\n",
       "      <th></th>\n",
       "      <th>trans_date_trans_time</th>\n",
       "      <th>cc_num</th>\n",
       "      <th>category</th>\n",
       "      <th>amt</th>\n",
       "      <th>gender</th>\n",
       "      <th>lat</th>\n",
       "      <th>long</th>\n",
       "      <th>city_pop</th>\n",
       "      <th>dob</th>\n",
       "      <th>merch_lat</th>\n",
       "      <th>merch_long</th>\n",
       "      <th>is_fraud</th>\n",
       "      <th>amt_scaled</th>\n",
       "      <th>hour</th>\n",
       "      <th>slot</th>\n",
       "      <th>afternoon</th>\n",
       "      <th>evening</th>\n",
       "      <th>morning</th>\n",
       "      <th>night</th>\n",
       "    </tr>\n",
       "  </thead>\n",
       "  <tbody>\n",
       "    <tr>\n",
       "      <th>0</th>\n",
       "      <td>2019-01-01 00:00:44</td>\n",
       "      <td>630423337322</td>\n",
       "      <td>grocery_pos</td>\n",
       "      <td>107.23</td>\n",
       "      <td>F</td>\n",
       "      <td>48.8878</td>\n",
       "      <td>-118.2105</td>\n",
       "      <td>149</td>\n",
       "      <td>1978-06-21</td>\n",
       "      <td>49.159047</td>\n",
       "      <td>-118.186462</td>\n",
       "      <td>0</td>\n",
       "      <td>0.238144</td>\n",
       "      <td>0</td>\n",
       "      <td>evening</td>\n",
       "      <td>0</td>\n",
       "      <td>1</td>\n",
       "      <td>0</td>\n",
       "      <td>0</td>\n",
       "    </tr>\n",
       "    <tr>\n",
       "      <th>1</th>\n",
       "      <td>2019-01-01 00:12:34</td>\n",
       "      <td>4956828990005111019</td>\n",
       "      <td>grocery_pos</td>\n",
       "      <td>44.71</td>\n",
       "      <td>M</td>\n",
       "      <td>40.6747</td>\n",
       "      <td>-74.2239</td>\n",
       "      <td>124967</td>\n",
       "      <td>1980-12-21</td>\n",
       "      <td>40.079588</td>\n",
       "      <td>-74.848087</td>\n",
       "      <td>0</td>\n",
       "      <td>-0.151820</td>\n",
       "      <td>0</td>\n",
       "      <td>evening</td>\n",
       "      <td>0</td>\n",
       "      <td>1</td>\n",
       "      <td>0</td>\n",
       "      <td>0</td>\n",
       "    </tr>\n",
       "    <tr>\n",
       "      <th>2</th>\n",
       "      <td>2019-01-01 00:17:16</td>\n",
       "      <td>180048185037117</td>\n",
       "      <td>grocery_net</td>\n",
       "      <td>46.28</td>\n",
       "      <td>F</td>\n",
       "      <td>40.6152</td>\n",
       "      <td>-74.4150</td>\n",
       "      <td>71485</td>\n",
       "      <td>1974-07-19</td>\n",
       "      <td>40.021888</td>\n",
       "      <td>-74.228188</td>\n",
       "      <td>0</td>\n",
       "      <td>-0.142027</td>\n",
       "      <td>0</td>\n",
       "      <td>evening</td>\n",
       "      <td>0</td>\n",
       "      <td>1</td>\n",
       "      <td>0</td>\n",
       "      <td>0</td>\n",
       "    </tr>\n",
       "    <tr>\n",
       "      <th>3</th>\n",
       "      <td>2019-01-01 00:20:15</td>\n",
       "      <td>374930071163758</td>\n",
       "      <td>grocery_pos</td>\n",
       "      <td>64.09</td>\n",
       "      <td>M</td>\n",
       "      <td>42.2203</td>\n",
       "      <td>-83.3583</td>\n",
       "      <td>31515</td>\n",
       "      <td>1971-11-05</td>\n",
       "      <td>42.360426</td>\n",
       "      <td>-83.552316</td>\n",
       "      <td>0</td>\n",
       "      <td>-0.030938</td>\n",
       "      <td>0</td>\n",
       "      <td>evening</td>\n",
       "      <td>0</td>\n",
       "      <td>1</td>\n",
       "      <td>0</td>\n",
       "      <td>0</td>\n",
       "    </tr>\n",
       "    <tr>\n",
       "      <th>4</th>\n",
       "      <td>2019-01-01 00:23:41</td>\n",
       "      <td>2712209726293386</td>\n",
       "      <td>misc_pos</td>\n",
       "      <td>25.58</td>\n",
       "      <td>F</td>\n",
       "      <td>30.4066</td>\n",
       "      <td>-91.1468</td>\n",
       "      <td>378909</td>\n",
       "      <td>1977-02-22</td>\n",
       "      <td>29.737426</td>\n",
       "      <td>-90.853194</td>\n",
       "      <td>0</td>\n",
       "      <td>-0.271141</td>\n",
       "      <td>0</td>\n",
       "      <td>evening</td>\n",
       "      <td>0</td>\n",
       "      <td>1</td>\n",
       "      <td>0</td>\n",
       "      <td>0</td>\n",
       "    </tr>\n",
       "    <tr>\n",
       "      <th>...</th>\n",
       "      <td>...</td>\n",
       "      <td>...</td>\n",
       "      <td>...</td>\n",
       "      <td>...</td>\n",
       "      <td>...</td>\n",
       "      <td>...</td>\n",
       "      <td>...</td>\n",
       "      <td>...</td>\n",
       "      <td>...</td>\n",
       "      <td>...</td>\n",
       "      <td>...</td>\n",
       "      <td>...</td>\n",
       "      <td>...</td>\n",
       "      <td>...</td>\n",
       "      <td>...</td>\n",
       "      <td>...</td>\n",
       "      <td>...</td>\n",
       "      <td>...</td>\n",
       "      <td>...</td>\n",
       "    </tr>\n",
       "    <tr>\n",
       "      <th>491129</th>\n",
       "      <td>2020-12-31 23:56:48</td>\n",
       "      <td>6011109736646996</td>\n",
       "      <td>home</td>\n",
       "      <td>134.26</td>\n",
       "      <td>F</td>\n",
       "      <td>34.2651</td>\n",
       "      <td>-77.8670</td>\n",
       "      <td>186140</td>\n",
       "      <td>1983-02-08</td>\n",
       "      <td>34.853497</td>\n",
       "      <td>-78.664158</td>\n",
       "      <td>0</td>\n",
       "      <td>0.406741</td>\n",
       "      <td>23</td>\n",
       "      <td>evening</td>\n",
       "      <td>0</td>\n",
       "      <td>1</td>\n",
       "      <td>0</td>\n",
       "      <td>0</td>\n",
       "    </tr>\n",
       "    <tr>\n",
       "      <th>491130</th>\n",
       "      <td>2020-12-31 23:56:57</td>\n",
       "      <td>213112402583773</td>\n",
       "      <td>shopping_pos</td>\n",
       "      <td>25.49</td>\n",
       "      <td>F</td>\n",
       "      <td>34.0326</td>\n",
       "      <td>-82.2027</td>\n",
       "      <td>1523</td>\n",
       "      <td>1984-06-03</td>\n",
       "      <td>35.008839</td>\n",
       "      <td>-81.475156</td>\n",
       "      <td>0</td>\n",
       "      <td>-0.271703</td>\n",
       "      <td>23</td>\n",
       "      <td>evening</td>\n",
       "      <td>0</td>\n",
       "      <td>1</td>\n",
       "      <td>0</td>\n",
       "      <td>0</td>\n",
       "    </tr>\n",
       "    <tr>\n",
       "      <th>491131</th>\n",
       "      <td>2020-12-31 23:59:09</td>\n",
       "      <td>3556613125071656</td>\n",
       "      <td>kids_pets</td>\n",
       "      <td>111.84</td>\n",
       "      <td>M</td>\n",
       "      <td>29.0393</td>\n",
       "      <td>-95.4401</td>\n",
       "      <td>28739</td>\n",
       "      <td>1999-12-27</td>\n",
       "      <td>29.661049</td>\n",
       "      <td>-96.186633</td>\n",
       "      <td>0</td>\n",
       "      <td>0.266898</td>\n",
       "      <td>23</td>\n",
       "      <td>evening</td>\n",
       "      <td>0</td>\n",
       "      <td>1</td>\n",
       "      <td>0</td>\n",
       "      <td>0</td>\n",
       "    </tr>\n",
       "    <tr>\n",
       "      <th>491132</th>\n",
       "      <td>2020-12-31 23:59:15</td>\n",
       "      <td>6011724471098086</td>\n",
       "      <td>kids_pets</td>\n",
       "      <td>86.88</td>\n",
       "      <td>F</td>\n",
       "      <td>46.1966</td>\n",
       "      <td>-118.9017</td>\n",
       "      <td>3684</td>\n",
       "      <td>1981-11-29</td>\n",
       "      <td>46.658340</td>\n",
       "      <td>-119.715054</td>\n",
       "      <td>0</td>\n",
       "      <td>0.111212</td>\n",
       "      <td>23</td>\n",
       "      <td>evening</td>\n",
       "      <td>0</td>\n",
       "      <td>1</td>\n",
       "      <td>0</td>\n",
       "      <td>0</td>\n",
       "    </tr>\n",
       "    <tr>\n",
       "      <th>491133</th>\n",
       "      <td>2020-12-31 23:59:34</td>\n",
       "      <td>4170689372027579</td>\n",
       "      <td>entertainment</td>\n",
       "      <td>38.13</td>\n",
       "      <td>M</td>\n",
       "      <td>35.6665</td>\n",
       "      <td>-97.4798</td>\n",
       "      <td>116001</td>\n",
       "      <td>1993-05-10</td>\n",
       "      <td>36.210097</td>\n",
       "      <td>-97.036372</td>\n",
       "      <td>0</td>\n",
       "      <td>-0.192862</td>\n",
       "      <td>23</td>\n",
       "      <td>evening</td>\n",
       "      <td>0</td>\n",
       "      <td>1</td>\n",
       "      <td>0</td>\n",
       "      <td>0</td>\n",
       "    </tr>\n",
       "  </tbody>\n",
       "</table>\n",
       "<p>491134 rows × 19 columns</p>\n",
       "</div>"
      ],
      "text/plain": [
       "       trans_date_trans_time               cc_num       category     amt  \\\n",
       "0        2019-01-01 00:00:44         630423337322    grocery_pos  107.23   \n",
       "1        2019-01-01 00:12:34  4956828990005111019    grocery_pos   44.71   \n",
       "2        2019-01-01 00:17:16      180048185037117    grocery_net   46.28   \n",
       "3        2019-01-01 00:20:15      374930071163758    grocery_pos   64.09   \n",
       "4        2019-01-01 00:23:41     2712209726293386       misc_pos   25.58   \n",
       "...                      ...                  ...            ...     ...   \n",
       "491129   2020-12-31 23:56:48     6011109736646996           home  134.26   \n",
       "491130   2020-12-31 23:56:57      213112402583773   shopping_pos   25.49   \n",
       "491131   2020-12-31 23:59:09     3556613125071656      kids_pets  111.84   \n",
       "491132   2020-12-31 23:59:15     6011724471098086      kids_pets   86.88   \n",
       "491133   2020-12-31 23:59:34     4170689372027579  entertainment   38.13   \n",
       "\n",
       "       gender      lat      long  city_pop         dob  merch_lat  merch_long  \\\n",
       "0           F  48.8878 -118.2105       149  1978-06-21  49.159047 -118.186462   \n",
       "1           M  40.6747  -74.2239    124967  1980-12-21  40.079588  -74.848087   \n",
       "2           F  40.6152  -74.4150     71485  1974-07-19  40.021888  -74.228188   \n",
       "3           M  42.2203  -83.3583     31515  1971-11-05  42.360426  -83.552316   \n",
       "4           F  30.4066  -91.1468    378909  1977-02-22  29.737426  -90.853194   \n",
       "...       ...      ...       ...       ...         ...        ...         ...   \n",
       "491129      F  34.2651  -77.8670    186140  1983-02-08  34.853497  -78.664158   \n",
       "491130      F  34.0326  -82.2027      1523  1984-06-03  35.008839  -81.475156   \n",
       "491131      M  29.0393  -95.4401     28739  1999-12-27  29.661049  -96.186633   \n",
       "491132      F  46.1966 -118.9017      3684  1981-11-29  46.658340 -119.715054   \n",
       "491133      M  35.6665  -97.4798    116001  1993-05-10  36.210097  -97.036372   \n",
       "\n",
       "        is_fraud  amt_scaled  hour     slot  afternoon  evening  morning  \\\n",
       "0              0    0.238144     0  evening          0        1        0   \n",
       "1              0   -0.151820     0  evening          0        1        0   \n",
       "2              0   -0.142027     0  evening          0        1        0   \n",
       "3              0   -0.030938     0  evening          0        1        0   \n",
       "4              0   -0.271141     0  evening          0        1        0   \n",
       "...          ...         ...   ...      ...        ...      ...      ...   \n",
       "491129         0    0.406741    23  evening          0        1        0   \n",
       "491130         0   -0.271703    23  evening          0        1        0   \n",
       "491131         0    0.266898    23  evening          0        1        0   \n",
       "491132         0    0.111212    23  evening          0        1        0   \n",
       "491133         0   -0.192862    23  evening          0        1        0   \n",
       "\n",
       "        night  \n",
       "0           0  \n",
       "1           0  \n",
       "2           0  \n",
       "3           0  \n",
       "4           0  \n",
       "...       ...  \n",
       "491129      0  \n",
       "491130      0  \n",
       "491131      0  \n",
       "491132      0  \n",
       "491133      0  \n",
       "\n",
       "[491134 rows x 19 columns]"
      ]
     },
     "execution_count": 237,
     "metadata": {},
     "output_type": "execute_result"
    }
   ],
   "source": [
    "df = pd.concat([df, dummies], axis=1)\n",
    "df"
   ]
  },
  {
   "cell_type": "markdown",
   "id": "65f1780d",
   "metadata": {},
   "source": [
    "##### 원-핫 인코딩 된 새로운 컬럼이 생성되었다. 이를 바탕으로 변수간의 상관관계를 확인하고 추가적인 작업을 해보기로 했다.\n",
    "\n",
    "### 변수간 상관관계 확인하기\n"
   ]
  },
  {
   "cell_type": "code",
   "execution_count": 238,
   "id": "ee3289e1",
   "metadata": {},
   "outputs": [
    {
     "data": {
      "image/png": "[encoded data removed]",
      "text/plain": [
       "<Figure size 1080x1080 with 2 Axes>"
      ]
     },
     "metadata": {
      "needs_background": "light"
     },
     "output_type": "display_data"
    }
   ],
   "source": [
    "fig, ax = plt.subplots(1, 1, figsize = (15, 15))\n",
    "\n",
    "correlation_matrix = df.corr()\n",
    "sns.heatmap(correlation_matrix, annot=True, cmap='coolwarm', fmt=\".2f\", ax=ax)\n",
    "plt.title('Correlation Heatmap of Variables in DataFrame')\n",
    "plt.show()"
   ]
  },
  {
   "cell_type": "markdown",
   "id": "171a7d5c",
   "metadata": {},
   "source": [
    "- mercha_lat, mercha_long과 lat, long 변수가 큰 상관관계를 갖는 것을 알 수 있었다.\n",
    "- 이는 구매자와 상점 사이의 거리가 가깝다는 것을 의미한다.\n",
    "- 따라서 두 지점 사이의 거리를 계산해보기로 했다.\n",
    "- 또한 재미있는 것은 도시의 인구수가 lat와 음의 상관관계를 갖는다는 것이었다.\n",
    "\n",
    "\n",
    "##### 위경도 사이의 거리 계산하기\n",
    "\n",
    "이 부분은 유클리디안과 같이 거리를 계산하는 것이 아니라, \"HarverSine\"이라는 위경도 사이의 거리를 계산하는 공식이 존재했다.\n",
    "\n",
    "따라서 아래의 링크를 참고하여 하버사인 공식을 이해했다.\n",
    "\n",
    "ref : https://kayuse88.github.io/haversine/"
   ]
  },
  {
   "cell_type": "code",
   "execution_count": 239,
   "id": "64f8f340",
   "metadata": {},
   "outputs": [],
   "source": [
    "def haversine(lat1, lon1, lat2, lon2):\n",
    "    R = 6371  # 지구의 반지름을 의미한다.\n",
    "\n",
    "    dlat = np.radians(lat2 - lat1)\n",
    "    dlon = np.radians(lon2 - lon1)\n",
    "\n",
    "    a = np.sin(dlat / 2) ** 2 + np.cos(np.radians(lat1)) * np.cos(np.radians(lat2)) * np.sin(dlon / 2) ** 2\n",
    "    c = 2 * np.arctan2(np.sqrt(a), np.sqrt(1 - a))\n",
    "\n",
    "    distance = R * c\n",
    "    return distance"
   ]
  },
  {
   "cell_type": "code",
   "execution_count": 240,
   "id": "a25841a7",
   "metadata": {},
   "outputs": [
    {
     "data": {
      "text/plain": [
       "0          30.212176\n",
       "1          84.702120\n",
       "2          67.847742\n",
       "3          22.303906\n",
       "4          79.591943\n",
       "             ...    \n",
       "491129     98.027030\n",
       "491130    127.382373\n",
       "491131    100.074420\n",
       "491132     80.759302\n",
       "491133     72.438289\n",
       "Name: distance, Length: 491134, dtype: float64"
      ]
     },
     "execution_count": 240,
     "metadata": {},
     "output_type": "execute_result"
    }
   ],
   "source": [
    "df['distance'] = haversine(df['lat'], df['long'], df['merch_lat'], df['merch_long'])\n",
    "df['distance']"
   ]
  },
  {
   "cell_type": "code",
   "execution_count": 241,
   "id": "90d08412",
   "metadata": {
    "scrolled": true
   },
   "outputs": [
    {
     "data": {
      "image/png": "[encoded data removed]",
      "text/plain": [
       "<Figure size 432x288 with 1 Axes>"
      ]
     },
     "metadata": {
      "needs_background": "light"
     },
     "output_type": "display_data"
    }
   ],
   "source": [
    "sns.scatterplot(x='distance', y='is_fraud', data=df)\n",
    "plt.title('Scatter Plot of \"distance\" and \"is_fraud\"')\n",
    "plt.xlabel('distance')\n",
    "plt.ylabel('is_fraud')\n",
    "plt.show()"
   ]
  },
  {
   "cell_type": "markdown",
   "id": "6ad85d0c",
   "metadata": {},
   "source": [
    "- 거리와 이상거래는 크게 상관이 없는 것으로 확인된다.\n",
    "- 따라서 구간을 나눠서 한 번 비교해보기로 했다."
   ]
  },
  {
   "cell_type": "code",
   "execution_count": 242,
   "id": "b0439c0b",
   "metadata": {},
   "outputs": [
    {
     "data": {
      "text/plain": [
       "299"
      ]
     },
     "execution_count": 242,
     "metadata": {},
     "output_type": "execute_result"
    }
   ],
   "source": [
    "df[df[\"distance\"] > 100][\"is_fraud\"].sum()"
   ]
  },
  {
   "cell_type": "code",
   "execution_count": 243,
   "id": "f8439cc4",
   "metadata": {},
   "outputs": [
    {
     "data": {
      "text/plain": [
       "709"
      ]
     },
     "execution_count": 243,
     "metadata": {},
     "output_type": "execute_result"
    }
   ],
   "source": [
    "df[(df[\"distance\"] <= 100) & (df[\"distance\"] > 50)][\"is_fraud\"].sum()"
   ]
  },
  {
   "cell_type": "code",
   "execution_count": 244,
   "id": "7ae4a568",
   "metadata": {},
   "outputs": [
    {
     "data": {
      "text/plain": [
       "236"
      ]
     },
     "execution_count": 244,
     "metadata": {},
     "output_type": "execute_result"
    }
   ],
   "source": [
    "df[df[\"distance\"] <= 50][\"is_fraud\"].sum()"
   ]
  },
  {
   "cell_type": "markdown",
   "id": "a73eb7f8",
   "metadata": {},
   "source": [
    "- 50-100km 사이에서 이상거래가 자주 발생하는 것으로 판단된다.\n",
    "- 거리를 분리해서 각 거리별 is_fraud 비율을 시각화 해보기로 했다."
   ]
  },
  {
   "cell_type": "code",
   "execution_count": 245,
   "id": "70d7e804",
   "metadata": {
    "scrolled": true
   },
   "outputs": [],
   "source": [
    "# 거리 범주 나누기\n",
    "def categorize_distance(distance):\n",
    "    if (distance < 50):\n",
    "        return 'Near'\n",
    "    elif distance < 100:\n",
    "        return 'Intermediate'\n",
    "    else:\n",
    "        return 'Far'\n",
    "\n",
    "df['distance_category'] = df['distance'].apply(categorize_distance)\n",
    "distance_counts = df['distance_category'].value_counts()"
   ]
  },
  {
   "cell_type": "code",
   "execution_count": 246,
   "id": "d8f480c7",
   "metadata": {
    "scrolled": true
   },
   "outputs": [
    {
     "data": {
      "image/png": "[encoded data removed]",
      "text/plain": [
       "<Figure size 432x288 with 2 Axes>"
      ]
     },
     "metadata": {
      "needs_background": "light"
     },
     "output_type": "display_data"
    }
   ],
   "source": [
    "fig, ax1 = plt.subplots()\n",
    "\n",
    "fraud_per = df.groupby('distance_category')['is_fraud'].mean() * 100\n",
    "\n",
    "# 카운트 그래프\n",
    "ax1.bar(distance_counts.index, distance_counts.values, color='b', alpha=0.7, label='Count')\n",
    "ax1.set_xlabel('Distance Category')\n",
    "ax1.set_ylabel('Count', color='b')\n",
    "ax1.tick_params('y', colors='b')\n",
    "ax1.set_title('Count and Fraud Percentage by Distance Category')\n",
    "\n",
    "# Fraud Percentage 라인 그래프\n",
    "ax2 = ax1.twinx()\n",
    "ax2.plot(fraud_per.index, fraud_percentage.values, color='r', label='Fraud Percentage', marker='o')\n",
    "ax2.set_ylabel('Fraud Percentage', color='r')\n",
    "ax2.tick_params('y', colors='r')\n",
    "\n",
    "# 그래프 출력\n",
    "plt.show()"
   ]
  },
  {
   "cell_type": "markdown",
   "id": "14b23ae7",
   "metadata": {},
   "source": [
    "## 컬럼이름 변경 및 정리하기"
   ]
  },
  {
   "cell_type": "code",
   "execution_count": 247,
   "id": "a2477075",
   "metadata": {},
   "outputs": [
    {
     "name": "stdout",
     "output_type": "stream",
     "text": [
      "<class 'pandas.core.frame.DataFrame'>\n",
      "RangeIndex: 491134 entries, 0 to 491133\n",
      "Data columns (total 21 columns):\n",
      " #   Column                 Non-Null Count   Dtype  \n",
      "---  ------                 --------------   -----  \n",
      " 0   trans_date_trans_time  491134 non-null  object \n",
      " 1   cc_num                 491134 non-null  int64  \n",
      " 2   category               491134 non-null  object \n",
      " 3   amt                    491134 non-null  float64\n",
      " 4   gender                 491134 non-null  object \n",
      " 5   lat                    491134 non-null  float64\n",
      " 6   long                   491134 non-null  float64\n",
      " 7   city_pop               491134 non-null  int64  \n",
      " 8   dob                    491134 non-null  object \n",
      " 9   merch_lat              491134 non-null  float64\n",
      " 10  merch_long             491134 non-null  float64\n",
      " 11  is_fraud               491134 non-null  int64  \n",
      " 12  amt_scaled             491134 non-null  float64\n",
      " 13  hour                   491134 non-null  int64  \n",
      " 14  slot                   491134 non-null  object \n",
      " 15  afternoon              491134 non-null  uint8  \n",
      " 16  evening                491134 non-null  uint8  \n",
      " 17  morning                491134 non-null  uint8  \n",
      " 18  night                  491134 non-null  uint8  \n",
      " 19  distance               491134 non-null  float64\n",
      " 20  distance_category      491134 non-null  object \n",
      "dtypes: float64(7), int64(4), object(6), uint8(4)\n",
      "memory usage: 65.6+ MB\n"
     ]
    }
   ],
   "source": [
    "df.info()"
   ]
  },
  {
   "cell_type": "code",
   "execution_count": 248,
   "id": "c46fc81a",
   "metadata": {},
   "outputs": [],
   "source": [
    "df.drop([\"hour\", \"trans_date_trans_time\"], axis = 1, inplace=True)"
   ]
  },
  {
   "cell_type": "code",
   "execution_count": 250,
   "id": "1d741788",
   "metadata": {},
   "outputs": [],
   "source": [
    "df[\"birthday\"] = pd.to_datetime(df[\"dob\"])"
   ]
  },
  {
   "cell_type": "code",
   "execution_count": 251,
   "id": "6f48d5df",
   "metadata": {},
   "outputs": [],
   "source": [
    "df.drop([\"dob\"], axis = 1, inplace=True)"
   ]
  },
  {
   "cell_type": "code",
   "execution_count": 254,
   "id": "b6eddc28",
   "metadata": {},
   "outputs": [],
   "source": [
    "df.rename({\"merch_lat\": \"store_lat\", \"merch_long\": \"store_long\", \"lat\":\"buyer_lat\", \"long\":\"buyer_long\"}, axis = 1, inplace = True)"
   ]
  },
  {
   "cell_type": "code",
   "execution_count": 255,
   "id": "37be89f3",
   "metadata": {
    "scrolled": false
   },
   "outputs": [
    {
     "name": "stdout",
     "output_type": "stream",
     "text": [
      "<class 'pandas.core.frame.DataFrame'>\n",
      "RangeIndex: 491134 entries, 0 to 491133\n",
      "Data columns (total 19 columns):\n",
      " #   Column             Non-Null Count   Dtype         \n",
      "---  ------             --------------   -----         \n",
      " 0   cc_num             491134 non-null  int64         \n",
      " 1   category           491134 non-null  object        \n",
      " 2   amt                491134 non-null  float64       \n",
      " 3   gender             491134 non-null  object        \n",
      " 4   buyer_lat          491134 non-null  float64       \n",
      " 5   buyer_long         491134 non-null  float64       \n",
      " 6   city_pop           491134 non-null  int64         \n",
      " 7   store_lat          491134 non-null  float64       \n",
      " 8   store_long         491134 non-null  float64       \n",
      " 9   is_fraud           491134 non-null  int64         \n",
      " 10  amt_scaled         491134 non-null  float64       \n",
      " 11  slot               491134 non-null  object        \n",
      " 12  afternoon          491134 non-null  uint8         \n",
      " 13  evening            491134 non-null  uint8         \n",
      " 14  morning            491134 non-null  uint8         \n",
      " 15  night              491134 non-null  uint8         \n",
      " 16  distance           491134 non-null  float64       \n",
      " 17  distance_category  491134 non-null  object        \n",
      " 18  birthday           491134 non-null  datetime64[ns]\n",
      "dtypes: datetime64[ns](1), float64(7), int64(3), object(4), uint8(4)\n",
      "memory usage: 58.1+ MB\n"
     ]
    }
   ],
   "source": [
    "df.info()"
   ]
  },
  {
   "cell_type": "markdown",
   "id": "f7d5c0d7",
   "metadata": {},
   "source": [
    "# 회고\n",
    "\n",
    "저번 시간 넘어오는 새벽에 컴퓨터가 갑자기 스파크를 마지막으로 갑작스럽게 돌아가시는 바람에,, 듣지 못한 부분을 금일 넘어오는 새벽에 다 수강하였습니다.\n",
    "따라서 아직 숙지되지 않은 개념이 많아서 조금 많이 부족한 부분이 존재하는 것 같아 아쉽습니다.\n",
    "\n",
    "오늘 저녁에는 어제 진행해보지 못한 프로젝트를 한 번 작성해보고자 합니다.\n",
    "작성하는 과정에서 부족한 부분을 다시 채워넣어야겠습니다.\n",
    "\n",
    "일단 데이터를 확인하면서 변수의 상관관계를 보고 또, 이를 어떻게 전처리할 것인지를 판단하는 과정이 너무 즐거웠습니다.\n",
    "비유하자면, 요리 메뉴를 정하지 않고 재료를 막 사와서 어떤 음식을 할지 고민하는 느낌이었습니다..ㅎㅎ\n",
    "\n",
    "그래도 아직 많이 부족한 부분이 있는 것 같아서 이를 보완하고자 계속해서 노력해야겠습니다.\n",
    "\n",
    "감사합니다 !"
   ]
  }
 ],
 "metadata": {
  "kernelspec": {
   "display_name": "Python 3 (ipykernel)",
   "language": "python",
   "name": "python3"
  },
  "language_info": {
   "codemirror_mode": {
    "name": "ipython",
    "version": 3
   },
   "file_extension": ".py",
   "mimetype": "text/x-python",
   "name": "python",
   "nbconvert_exporter": "python",
   "pygments_lexer": "ipython3",
   "version": "3.9.7"
  }
 },
 "nbformat": 4,
 "nbformat_minor": 5
}
