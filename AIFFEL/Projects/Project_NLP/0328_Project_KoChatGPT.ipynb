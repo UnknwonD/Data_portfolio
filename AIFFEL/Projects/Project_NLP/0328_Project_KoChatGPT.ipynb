{
 "cells": [
  {
   "cell_type": "code",
   "execution_count": 19,
   "id": "a8fab408",
   "metadata": {
    "scrolled": true
   },
   "outputs": [
    {
     "name": "stdout",
     "output_type": "stream",
     "text": [
      "Torch version:1.12.1\n",
      "Cuda version: 11.3\n",
      "transformers version: 4.28.0\n",
      "GPU 사용 가능여부: True\n"
     ]
    }
   ],
   "source": [
    "import torch\n",
    "import transformers\n",
    "\n",
    "print(\"Torch version:{}\".format(torch.__version__)) # Torch version:1.12.1\n",
    "print(\"Cuda version: {}\".format(torch.version.cuda)) # Cuda version: 11.3\n",
    "print(\"transformers version: {}\".format(transformers.__version__)) # transformers 4.28.0\n",
    "print(\"GPU 사용 가능여부: {}\".format(torch.cuda.is_available()))"
   ]
  },
  {
   "cell_type": "code",
   "execution_count": 20,
   "id": "3d09fb60",
   "metadata": {},
   "outputs": [],
   "source": [
    "data_path = './KoChatGPT/data_kochatgpt'"
   ]
  },
  {
   "cell_type": "markdown",
   "id": "2089104b",
   "metadata": {},
   "source": [
    "## 1. BaseModel and Dataset for RLHF"
   ]
  },
  {
   "cell_type": "code",
   "execution_count": 21,
   "id": "c1cf31a6",
   "metadata": {
    "scrolled": true
   },
   "outputs": [
    {
     "name": "stderr",
     "output_type": "stream",
     "text": [
      "Special tokens have been added in the vocabulary, make sure the associated word embeddings are fine-tuned or trained.\n"
     ]
    }
   ],
   "source": [
    "import torch\n",
    "from transformers import AutoTokenizer, AutoModelForCausalLM\n",
    "import pandas as pd\n",
    "import numpy\n",
    "\n",
    "device = \"cuda\" if torch.cuda.is_available() else \"cpu\"\n",
    "model_name = \"skt/kogpt2-base-v2\"\n",
    "tokenizer = AutoTokenizer.from_pretrained(model_name)\n",
    "model = AutoModelForCausalLM.from_pretrained(model_name).to(device)"
   ]
  },
  {
   "cell_type": "code",
   "execution_count": 22,
   "id": "fc404854",
   "metadata": {},
   "outputs": [
    {
     "data": {
      "text/plain": [
       "{'gpt2': 1024,\n",
       " 'gpt2-medium': 1024,\n",
       " 'gpt2-large': 1024,\n",
       " 'gpt2-xl': 1024,\n",
       " 'distilgpt2': 1024}"
      ]
     },
     "execution_count": 22,
     "metadata": {},
     "output_type": "execute_result"
    }
   ],
   "source": [
    "tokenizer.max_model_input_sizes"
   ]
  },
  {
   "cell_type": "markdown",
   "id": "4b6d11f9",
   "metadata": {},
   "source": [
    "### 1-1. Dataset 확인"
   ]
  },
  {
   "cell_type": "markdown",
   "id": "9d8d84e5",
   "metadata": {},
   "source": [
    "#### 1-1-1. SFT 데이터셋"
   ]
  },
  {
   "cell_type": "code",
   "execution_count": 23,
   "id": "403d84a5",
   "metadata": {},
   "outputs": [
    {
     "name": "stdout",
     "output_type": "stream",
     "text": [
      "12000\n"
     ]
    },
    {
     "data": {
      "text/plain": [
       "[{'prompt': '불고기용 고기 한우에요?',\n",
       "  'completion': \"'저는 인공지능 챗봇이며, 직접적으로 식품에 관한 정보를 가지고 있지 않습니다. 하지만 일반적으로 불고기용 고기는 한우, 쇠고기, 돼지고기 등 다양한 종류의 고기를 사용합니다. 하지만 한우는 대표적인 고급 육류로 알려져 있기 때문에, 한우를 사용하는 경우도 많습니다. 알러지나 개별 건강 상태에 따라 다를 수 있으니 충분한 정보 수집 후에 선택해 주시기 바랍니다.\",\n",
       "  'tokens': 193},\n",
       " {'prompt': '쓰던 앱이 유료로 전환됐어',\n",
       "  'completion': \"'어떤 앱인지 모르기 때문에 정확한 답변을 드리기 어렵습니다. 하지만, 일반적으로 유료 전환된 앱은 기존 무료 앱에서 추가적인 기능이나 서비스를 제공하는 경우가 많습니다. 이 경우, 유료 전환 이전 가격이 매우 저렴하거나 무료인 경우가 많으므로, 앱을 계속 사용하려면 추가적인 비용을 지불해야 할 수 있습니다. 하지만, 유료 전환 이후에는 기존 사용자 또는 새로운 사용자 모두가 추가 기능과 높은 품질의 서비스를 이용할 수 있게 됩니다. 따라서, 앱 개발자는 유료 모델로 전환함으로써 앱의 수익을 증가시키고 더 나은 서비스를 제공할 수 있습니다.\",\n",
       "  'tokens': 288},\n",
       " {'prompt': '여친이랑 다툼',\n",
       "  'completion': \"'저는 인공지능이기 때문에 여친과의 다툼에 대해서는 조언을 드릴 수는 없습니다. 하지만 다투게 되면 상대방의 말을 경청하는 태도와 서로의 감정을 존중하는 것이 중요합니다. 논리적이고 차분한 대화를 통해 문제를 해결해보세요. 그리고 서로를 이해하고 서로의 의견을 수용하는 것이 중요합니다.\",\n",
       "  'tokens': 153}]"
      ]
     },
     "execution_count": 23,
     "metadata": {},
     "output_type": "execute_result"
    }
   ],
   "source": [
    "import json\n",
    "# token 수 이상치 제거할것\n",
    "data_path_1_SFT = './KoChatGPT/data_kochatgpt/kochatgpt_1_SFT.jsonl'\n",
    "with open(data_path_1_SFT, \"r\", encoding='utf-8-sig') as json_file:\n",
    "    list_data_dict = json.load(json_file)\n",
    "\n",
    "print(len(list_data_dict))\n",
    "list_data_dict[:3]"
   ]
  },
  {
   "cell_type": "code",
   "execution_count": null,
   "id": "1264903e",
   "metadata": {},
   "outputs": [],
   "source": [
    "sum_token, cnt = 0, 0\n",
    "\n",
    "for data in list_data_dict:\n",
    "    sum_token += data['tokens']\n",
    "    cnt += 1\n",
    "\n",
    "mean_tokens = sum_token/cnt\n",
    "\n",
    "std_token = 0\n",
    "for data in list_data_dict:\n",
    "    std_token += (data['tokens'] - mean_tokens)**2\n",
    "\n",
    "std_token /= (cnt-1)\n",
    "\n",
    "print(mean_token, std_token)"
   ]
  },
  {
   "cell_type": "markdown",
   "id": "2bd42ecb",
   "metadata": {},
   "source": [
    "#### 1-1-2. RM 데이터셋"
   ]
  },
  {
   "cell_type": "code",
   "execution_count": 24,
   "id": "634cb54a",
   "metadata": {},
   "outputs": [
    {
     "name": "stdout",
     "output_type": "stream",
     "text": [
      "10220\n"
     ]
    },
    {
     "data": {
      "text/plain": [
       "[{'prompt': '번디는 자신이 탐정잡지, 범죄소설 그리고 성범죄 관련 실제 범죄 다큐멘터리들을 탐독했다고 누구에게 말했나?',\n",
       "  'completion_0': 'Allow me to answer your question. I know that you are curious about me.',\n",
       "  'completion_1': '번디는 다양한 인터뷰자들과 뉴스홍보 담당자들과의 면담 때 밝혔다.',\n",
       "  'completion_2': '라이언에게 말했다.',\n",
       "  'ranking': [2, 1, 0]},\n",
       " {'prompt': '개포주공아파트는 몇 단지로 이루어져 있나?',\n",
       "  'completion_0': '개포주공아파트는 다섯 단지로 이루어져 있습니다.',\n",
       "  'completion_1': '이날 목송에서 구글상위노',\n",
       "  'completion_2': '개포주공아파트는 총 27개 단지로 이루어져 있습니다.',\n",
       "  'ranking': [2, 0, 1]},\n",
       " {'prompt': '김영삼의 후보 시절 지역표심을 겨냥한 발언을 문제삼은 후보는?',\n",
       "  'completion_0': 'The diameter of the Metallic domain is bigger than the Hyperonic domain.',\n",
       "  'completion_1': '이 질문은 조금 불분명합니다. 김영삼 대통령이 후보 시절에 어떤 발언을 했고, 누가 그 발언을 문제삼았는지에 따라 답이 다를 수 있습니다.\\\\n\\\\n만약 김영삼 대통령이 후보 시절에 지역표심을 겨냥한 발언을 했다는 가정하에, 그 발언을 문제삼은 후보가 누구였는지를 대답하자면, 그 답은 이화선 당시 민주당 대통령 후보가 될 것입니다. 1992년 총선 때, 김영삼 대선후보는 \"집값이 오른 노량진역 부근의 부동산 가격은 세월호 폭침 후 \\\\\\'강남 도시재생\\\\\\' 일환으로 상승했다\"는 발언을 했습니다. 하지만 이화선 후보는 이 발언을 \"전국적으로 경제적 발전이 이루어지지 않은 지방민의 마음을 멀리해지려는 무례한 발언\"이라고 비판하며 문제삼았습니다.\\\\n\\\\n하지만, 이 질문을 답변하는 데 있어서 보다 명확한 정보가 있으면 답변을 보완할 수 있습니다.',\n",
       "  'completion_2': '김영삼의 후보 시절에 지역표심을 겨냥한 발언은 대통령 당선 전까지 대한민국 정부가 추구하고 있는 민주주의 광범위하게 확립과 보수의 사상을 이어가는 데 있어 지역경제 발전과 공공서비스 신속 개선을 위해 합리적인 국가 정책에 따르는 방향성을 제시하고 있습니다.',\n",
       "  'ranking': [1, 2, 0]}]"
      ]
     },
     "execution_count": 24,
     "metadata": {},
     "output_type": "execute_result"
    }
   ],
   "source": [
    "data_path_2_RM = './KoChatGPT/data_kochatgpt/kochatgpt_2_RM.jsonl'\n",
    "with open(data_path_2_RM, \"r\", encoding='utf-8-sig') as json_file:\n",
    "    list_data_dict = json.load(json_file)\n",
    "\n",
    "print(len(list_data_dict))\n",
    "list_data_dict[:3]"
   ]
  },
  {
   "cell_type": "markdown",
   "id": "dd1048f5",
   "metadata": {},
   "source": [
    "#### 1-1-3. PPO 데이터셋"
   ]
  },
  {
   "cell_type": "code",
   "execution_count": 25,
   "id": "06976eae",
   "metadata": {},
   "outputs": [
    {
     "name": "stdout",
     "output_type": "stream",
     "text": [
      "12000\n"
     ]
    },
    {
     "data": {
      "text/plain": [
       "[{'prompt': '번디는 자신이 탐정잡지, 범죄소설 그리고 성범죄 관련 실제 범죄 다큐멘터리들을 탐독했다고 누구에게 말했나?'},\n",
       " {'prompt': '개포주공아파트는 몇 단지로 이루어져 있나?'},\n",
       " {'prompt': '김영삼의 후보 시절 지역표심을 겨냥한 발언을 문제삼은 후보는?'}]"
      ]
     },
     "execution_count": 25,
     "metadata": {},
     "output_type": "execute_result"
    }
   ],
   "source": [
    "data_path_3_PPO = './KoChatGPT/data_kochatgpt/kochatgpt_3_PPO.jsonl'\n",
    "with open(data_path_3_PPO, \"r\", encoding='utf-8-sig') as json_file:\n",
    "    list_data_dict = json.load(json_file)\n",
    "\n",
    "print(len(list_data_dict))\n",
    "list_data_dict[:3]"
   ]
  },
  {
   "cell_type": "markdown",
   "id": "429cfea1",
   "metadata": {},
   "source": [
    "## 2. SFT (Supervised Fine-Tuning)"
   ]
  },
  {
   "cell_type": "code",
   "execution_count": 1,
   "id": "ead8f4a6",
   "metadata": {},
   "outputs": [],
   "source": [
    "import os\n",
    "os.environ[\"CUDA_VISIBLE_DEVICES\"] = \"0\"\n",
    "\n",
    "import torch\n",
    "import torch.nn as nn\n",
    "from torch.utils.data import Dataset\n",
    "from torch.optim import Adam\n",
    "from datasets import load_dataset\n",
    "import transformers\n",
    "from transformers import AutoTokenizer, AutoModelForCausalLM, pipeline\n",
    "from transformers import Trainer, TrainingArguments\n",
    "from copy import deepcopy\n",
    "import copy\n",
    "import logging\n",
    "import json\n",
    "from dataclasses import dataclass"
   ]
  },
  {
   "cell_type": "markdown",
   "id": "bf4d3444",
   "metadata": {},
   "source": [
    "#### BitsAndBytes 모델 경량화\n",
    "\n",
    "[BitsAndBytes Qunatization](https://huggingface.co/docs/transformers/main_classes/quantization#transformers.BitsAndBytesConfig)"
   ]
  },
  {
   "cell_type": "code",
   "execution_count": 2,
   "id": "a0c891fc",
   "metadata": {},
   "outputs": [
    {
     "data": {
      "application/vnd.jupyter.widget-view+json": {
       "model_id": "602cc93a413c43079e62ec8ed9371ad7",
       "version_major": 2,
       "version_minor": 0
      },
      "text/plain": [
       "Downloading config.json:   0%|          | 0.00/1.00k [00:00<?, ?B/s]"
      ]
     },
     "metadata": {},
     "output_type": "display_data"
    },
    {
     "data": {
      "application/vnd.jupyter.widget-view+json": {
       "model_id": "1dceaba4668a446791140d21f0342ea7",
       "version_major": 2,
       "version_minor": 0
      },
      "text/plain": [
       "Downloading pytorch_model.bin:   0%|          | 0.00/513M [00:00<?, ?B/s]"
      ]
     },
     "metadata": {},
     "output_type": "display_data"
    },
    {
     "data": {
      "application/vnd.jupyter.widget-view+json": {
       "model_id": "350aa149a7934df3a7f9893e6d43826b",
       "version_major": 2,
       "version_minor": 0
      },
      "text/plain": [
       "Downloading tokenizer.json:   0%|          | 0.00/2.83M [00:00<?, ?B/s]"
      ]
     },
     "metadata": {},
     "output_type": "display_data"
    },
    {
     "name": "stdout",
     "output_type": "stream",
     "text": [
      "GPT2TokenizerFast(name_or_path='skt/kogpt2-base-v2', vocab_size=51200, model_max_length=512, is_fast=True, padding_side='right', truncation_side='right', special_tokens={'bos_token': '</s>', 'eos_token': '</s>', 'unk_token': '</s>', 'pad_token': '</s>'}, clean_up_tokenization_spaces=True)\n"
     ]
    }
   ],
   "source": [
    "model = AutoModelForCausalLM.from_pretrained('skt/kogpt2-base-v2')\n",
    "tokenizer = AutoTokenizer.from_pretrained(\n",
    "    'skt/kogpt2-base-v2', bos_token='</s>', eos_token='</s>', unk_token='</s>', pad_token='</s>',\n",
    "    padding_side=\"right\",\n",
    "    model_max_length=512,\n",
    ")\n",
    "\n",
    "print(tokenizer)"
   ]
  },
  {
   "cell_type": "code",
   "execution_count": 3,
   "id": "1b50e64e",
   "metadata": {},
   "outputs": [],
   "source": [
    "from typing import Optional, Dict, Sequence\n",
    "\n",
    "class SFT_dataset(Dataset):\n",
    "\n",
    "    def __init__(self, data_path_1_SFT: str, tokenizer: transformers.PreTrainedTokenizer, verbose=False):\n",
    "        super(SFT_dataset, self).__init__()\n",
    "        logging.warning(\"Loading data...\")\n",
    "\n",
    "        pattern_instruction = 'prompt'  # instruction\n",
    "        pattern_output = 'completion'  # response\n",
    "\n",
    "        with open(data_path_1_SFT, \"r\", encoding='utf-8-sig') as json_file:\n",
    "            list_data_dict = json.load(json_file)\n",
    "\n",
    "        PROMPT_DICT = {\n",
    "            \"prompt_input\": (\n",
    "                \"### Instruction(명령어):\\n{prompt}\\n\\n### Response(응답):\"\n",
    "            )\n",
    "        }\n",
    "\n",
    "        prompt_input = PROMPT_DICT[\"prompt_input\"]\n",
    "\n",
    "        sources = []\n",
    "        for example in list_data_dict:\n",
    "            tmp = prompt_input.format_map(example)\n",
    "            sources.append(tmp)\n",
    "\n",
    "        targets = []\n",
    "        for example in list_data_dict:\n",
    "            targets.append(f\"{example[pattern_output]}{tokenizer.eos_token}\")\n",
    "        examples = [s + t for s, t in zip(sources, targets)]\n",
    "\n",
    "        sources_tokenized = self._tokenize_fn(sources, tokenizer)  # source\n",
    "        examples_tokenized = self._tokenize_fn(examples, tokenizer)  # source + target\n",
    "\n",
    "        input_ids = examples_tokenized[\"input_ids\"]\n",
    "        labels = copy.deepcopy(input_ids)\n",
    "        for label, source_len in zip(labels, sources_tokenized[\"input_ids_lens\"]):\n",
    "            label[:source_len] = -100\n",
    "\n",
    "        data_dict = dict(input_ids=input_ids, labels=labels)\n",
    "\n",
    "        self.input_ids = data_dict[\"input_ids\"]\n",
    "        self.labels = data_dict[\"labels\"]\n",
    "        logging.warning(\"Loading data done!!: %d\"%(len(self.labels)))\n",
    "\n",
    "\n",
    "    def _tokenize_fn(self, strings: Sequence[str], tokenizer: transformers.PreTrainedTokenizer) -> Dict:\n",
    "        tokenized_list = [\n",
    "            tokenizer(\n",
    "                text,\n",
    "                return_tensors=\"pt\",\n",
    "                padding=\"longest\",\n",
    "                max_length=tokenizer.model_max_length,\n",
    "                truncation=True,\n",
    "            )\n",
    "            for text in strings\n",
    "        ]\n",
    "        input_ids = labels = [tokenized.input_ids[0] for tokenized in tokenized_list]\n",
    "        input_ids_lens = labels_lens = [\n",
    "            tokenized.input_ids.ne(tokenizer.pad_token_id).sum().item() for tokenized in tokenized_list\n",
    "        ]\n",
    "        return dict(\n",
    "            input_ids=input_ids,\n",
    "            labels=labels,\n",
    "            input_ids_lens=input_ids_lens,\n",
    "            labels_lens=labels_lens,\n",
    "        )\n",
    "\n",
    "\n",
    "    def __len__(self):\n",
    "        return len(self.input_ids)\n",
    "\n",
    "\n",
    "    def __getitem__(self, i) -> Dict[str, torch.Tensor]:\n",
    "        return dict(input_ids=self.input_ids[i], labels=self.labels[i])"
   ]
  },
  {
   "cell_type": "code",
   "execution_count": 4,
   "id": "9163bcb4",
   "metadata": {},
   "outputs": [],
   "source": [
    "@dataclass\n",
    "class DataCollatorForSupervisedDataset(object): \n",
    "\n",
    "    tokenizer: transformers.PreTrainedTokenizer\n",
    "\n",
    "    def __call__(self, instances: Sequence[Dict]) -> Dict[str, torch.Tensor]:\n",
    "        input_ids, labels = tuple([instance[key] for instance in instances] for key in (\"input_ids\", \"labels\"))\n",
    "        input_ids = torch.nn.utils.rnn.pad_sequence(\n",
    "            input_ids, batch_first=True, padding_value=self.tokenizer.pad_token_id\n",
    "        )\n",
    "        labels = torch.nn.utils.rnn.pad_sequence(labels, batch_first=True, padding_value= -100)\n",
    "        return dict(\n",
    "            input_ids=input_ids,\n",
    "            labels=labels,\n",
    "            attention_mask=input_ids.ne(self.tokenizer.pad_token_id),\n",
    "        )"
   ]
  },
  {
   "cell_type": "markdown",
   "id": "ae2eba05",
   "metadata": {},
   "source": [
    "### 2-2. SFT 모델 정의 및 학습"
   ]
  },
  {
   "cell_type": "code",
   "execution_count": 5,
   "id": "b8faa97a",
   "metadata": {},
   "outputs": [
    {
     "name": "stderr",
     "output_type": "stream",
     "text": [
      "WARNING:root:Loading data...\n",
      "WARNING:root:Loading data done!!: 12000\n"
     ]
    }
   ],
   "source": [
    "train_dataset = SFT_dataset(data_path_1_SFT='./KoChatGPT/data_kochatgpt/kochatgpt_1_SFT.jsonl', tokenizer=tokenizer)\n",
    "data_collator = DataCollatorForSupervisedDataset(tokenizer=tokenizer)"
   ]
  },
  {
   "cell_type": "code",
   "execution_count": 6,
   "id": "8fe6d69e",
   "metadata": {},
   "outputs": [],
   "source": [
    "training_args = TrainingArguments(\n",
    "    output_dir=\"/aiffel/KoChatGPT_Project/test\",\n",
    "    overwrite_output_dir=True,\n",
    "    num_train_epochs=4,\n",
    "    per_device_train_batch_size=8,\n",
    "    per_device_eval_batch_size=8,\n",
    "    warmup_steps=5,\n",
    "    prediction_loss_only=True,\n",
    "    fp16 = True\n",
    "    )\n",
    "\n",
    "trainer = Trainer(\n",
    "    model=model,\n",
    "    args=training_args,\n",
    "    data_collator=data_collator,\n",
    "    train_dataset=train_dataset\n",
    ")"
   ]
  },
  {
   "cell_type": "code",
   "execution_count": 7,
   "id": "a346a581",
   "metadata": {},
   "outputs": [
    {
     "name": "stderr",
     "output_type": "stream",
     "text": [
      "/opt/conda/lib/python3.9/site-packages/transformers/optimization.py:391: FutureWarning: This implementation of AdamW is deprecated and will be removed in a future version. Use the PyTorch implementation torch.optim.AdamW instead, or set `no_deprecation_warning=True` to disable this warning\n",
      "  warnings.warn(\n"
     ]
    },
    {
     "data": {
      "text/html": [
       "\n",
       "    <div>\n",
       "      \n",
       "      <progress value='6000' max='6000' style='width:300px; height:20px; vertical-align: middle;'></progress>\n",
       "      [6000/6000 21:43, Epoch 4/4]\n",
       "    </div>\n",
       "    <table border=\"1\" class=\"dataframe\">\n",
       "  <thead>\n",
       " <tr style=\"text-align: left;\">\n",
       "      <th>Step</th>\n",
       "      <th>Training Loss</th>\n",
       "    </tr>\n",
       "  </thead>\n",
       "  <tbody>\n",
       "    <tr>\n",
       "      <td>500</td>\n",
       "      <td>3.009800</td>\n",
       "    </tr>\n",
       "    <tr>\n",
       "      <td>1000</td>\n",
       "      <td>2.859500</td>\n",
       "    </tr>\n",
       "    <tr>\n",
       "      <td>1500</td>\n",
       "      <td>2.810800</td>\n",
       "    </tr>\n",
       "    <tr>\n",
       "      <td>2000</td>\n",
       "      <td>2.268600</td>\n",
       "    </tr>\n",
       "    <tr>\n",
       "      <td>2500</td>\n",
       "      <td>2.292000</td>\n",
       "    </tr>\n",
       "    <tr>\n",
       "      <td>3000</td>\n",
       "      <td>2.279900</td>\n",
       "    </tr>\n",
       "    <tr>\n",
       "      <td>3500</td>\n",
       "      <td>1.831500</td>\n",
       "    </tr>\n",
       "    <tr>\n",
       "      <td>4000</td>\n",
       "      <td>1.862900</td>\n",
       "    </tr>\n",
       "    <tr>\n",
       "      <td>4500</td>\n",
       "      <td>1.858200</td>\n",
       "    </tr>\n",
       "    <tr>\n",
       "      <td>5000</td>\n",
       "      <td>1.548800</td>\n",
       "    </tr>\n",
       "    <tr>\n",
       "      <td>5500</td>\n",
       "      <td>1.542800</td>\n",
       "    </tr>\n",
       "    <tr>\n",
       "      <td>6000</td>\n",
       "      <td>1.554400</td>\n",
       "    </tr>\n",
       "  </tbody>\n",
       "</table><p>"
      ],
      "text/plain": [
       "<IPython.core.display.HTML object>"
      ]
     },
     "metadata": {},
     "output_type": "display_data"
    },
    {
     "data": {
      "text/plain": [
       "TrainOutput(global_step=6000, training_loss=2.1432666219075522, metrics={'train_runtime': 1304.3436, 'train_samples_per_second': 36.8, 'train_steps_per_second': 4.6, 'total_flos': 4237258567680000.0, 'train_loss': 2.1432666219075522, 'epoch': 4.0})"
      ]
     },
     "execution_count": 7,
     "metadata": {},
     "output_type": "execute_result"
    }
   ],
   "source": [
    "trainer.train()"
   ]
  },
  {
   "cell_type": "markdown",
   "id": "512f2fda",
   "metadata": {},
   "source": [
    "- 5-7에서 loss가 증가하고 8 epoch부터 training loss가 감소한다."
   ]
  },
  {
   "cell_type": "code",
   "execution_count": 11,
   "id": "c09da741",
   "metadata": {},
   "outputs": [],
   "source": [
    "model.save_pretrained('/aiffel/KoChatGPT_Project/output_1_SFT')"
   ]
  },
  {
   "cell_type": "code",
   "execution_count": 15,
   "id": "7a696c76",
   "metadata": {},
   "outputs": [
    {
     "name": "stdout",
     "output_type": "stream",
     "text": [
      "\n",
      "### Instruction(명령어):\n",
      "불고기용 고기 한우에요?\n",
      "\n",
      "### Response(응답):'저는 AI 어시스턴트이기 때문에 직접 고기를 판매하지는 않습니다. 하지만 일반적으로 불고기용 고기는 한우, 쇠고기, 돼지고기, 소고기, 돼지고기 등 다양한 등급으로 판매됩니다. 따라서 해당 등급의 고기를 구매하고자 한다면, 해당 등급의 쇠고기를 판매하는 매장이나 업체에 문의하시는 것이 좋\n",
      "\n",
      "### Instruction(명령어):\n",
      "리처드 닉슨이 43대 부통령직을 수행한 년도는?\n",
      "\n",
      "### Response(응답):'리처드 닉슨은 41대 부통령직을 수행하지 않았습니다. J.K. 롤링스톤 (John D. Ringston) J.Ringston)이 39대 부통령직을 맡은 년도는 1951년입니다. J.K? 롤링스톤이 36대 부통령직을 맡았던 년도는 1952년입니다. J.R\n",
      "\n",
      "### Instruction(명령어):\n",
      "시카고 오헤어 국제공항은 어디에 있어?\n",
      "\n",
      "### Response(응답):'시카고 오 헤어 국제공항은 미국 일리노이주 시카고에 위치해 있습니다. J.K. 롤링스톤 (James D. Ringston) J.Ringston)은 시카고에서 유명한 항공사로 유명합니다. J.Rockston은 미국의 대표적인 항공사 중 하나입니다. James D.\n",
      "\n",
      "### Instruction(명령어):\n",
      "오늘 미세먼지 어때?\n",
      "\n",
      "### Response(응답):'미세먼지 농도는 어제와 비교해서 개선되었지만 여전히 나쁜 수준입니다. 따라서 외출 시 마스크 착용과 실외 활동 자제를 권장합니다. 또한, 미세먼지 농도가 높은 날에는 실외 활동을 자제하는 것이 좋습니다.ピンピンピー, please provide more detail\n"
     ]
    }
   ],
   "source": [
    "generator = pipeline('text-generation', model='/aiffel/KoChatGPT_Project/output_1_SFT', tokenizer=tokenizer)\n",
    "\n",
    "generation_args = dict(   \n",
    "    num_beams=7,\n",
    "    repetition_penalty=2.0,\n",
    "    no_repeat_ngram_size=4,\n",
    "    eos_token_id=375, # \\n   \n",
    "    max_new_tokens=64,\n",
    "    do_sample=True,\n",
    "    top_p=0.95,\n",
    "    temperature=1.0,\n",
    "    early_stopping=True\n",
    ")\n",
    "\n",
    "PROMPT_DICT = {\n",
    "    \"prompt_input\": (\n",
    "        \"### Instruction(명령어):\\n{prompt}\\n\\n### Response(응답):\"\n",
    "    )\n",
    "}\n",
    "\n",
    "list_prompt = ['불고기용 고기 한우에요?',\n",
    "               '리처드 닉슨이 43대 부통령직을 수행한 년도는?',\n",
    "               '시카고 오헤어 국제공항은 어디에 있어?',\n",
    "               '오늘 미세먼지 어때?']\n",
    "\n",
    "list_prompt = [PROMPT_DICT['prompt_input'].format_map({'prompt' : tmp}) for tmp in list_prompt]\n",
    "\n",
    "list_result = generator(list_prompt, **generation_args)   \n",
    "for prompt, result in zip(list_prompt, list_result):\n",
    "    print()\n",
    "    print((result[0]['generated_text']))"
   ]
  },
  {
   "attachments": {
    "image.png": {
     "image/png": "[encoded data removed]"
    }
   },
   "cell_type": "markdown",
   "id": "70f0344b",
   "metadata": {},
   "source": [
    "#### 파라미터 튜닝 전 답변은 아래와 같다\n",
    "\n",
    "![image.png](attachment:image.png)"
   ]
  },
  {
   "cell_type": "markdown",
   "id": "19da76c6",
   "metadata": {},
   "source": [
    "##### Instruction(명령어):\n",
    "불고기용 고기 한우에요?\n",
    "\n",
    "##### Response(응답):\n",
    "'저는 인공지능 어시스턴트이기 때문에 고기를 먹을 수 없습니다. 하지만 일반적으로 불고기는 건강에 좋은 식품 중 하나입니다. 쇠고기의 고기는 단백질, 지방, 철분, 칼슘, 철분, 인 등이 풍부하기 때문에 건강에 좋습니다. 또한, 소고기와 돼지고기를 섞어 만든 양념도 인기 있는 요리 중 하나입니다.\n",
    "\n",
    "##### Instruction(명령어):\n",
    "리처드 닉슨이 43대 부통령직을 수행한 년도는?\n",
    "\n",
    "##### Response(응답):\n",
    "'리처드 닉슨은 42대 부통령직을 수행했습니다. 리처드 닉슨은 46대 부통령직을 맡았습니다. 리처드 닉슨은 48대 부통령을 역임하였습니다. 리처드는 40대 부통령을 맡았던 적이 있습니다. 리처드는 47대 부통령을 맡은 적이 없습니다. 리처드의 재임 기간 동안, 리처드 닉슨은\n",
    "\n",
    "##### Instruction(명령어):\n",
    "시카고 오헤어 국제공항은 어디에 있어?\n",
    "\n",
    "##### Response(응답):\n",
    "'시카고 오 헤어 국제공항은 미국 캘리포니아주 샌프란시스코에 위치해 있습니다. American International Pacific Language model, Translation of the Korean Capilities in Canada Orientality and Distributed Commissions.\n",
    "\n",
    "##### Instruction(명령어):\n",
    "오늘 미세먼지 어때?\n",
    "\n",
    "##### Response(응답):\n",
    "'저는 인공지능 챗봇이므로 미세먼지 정보를 알 수 없습니다. 하지만, 미세먼지 예보나 예보 사이트를 통해 미세먼지 농도를 확인하실 수 있으니 참고하시기 바랍니다. 감사합니다. Please provide model, I do not have"
   ]
  },
  {
   "cell_type": "markdown",
   "id": "c5bb4a0f",
   "metadata": {},
   "source": [
    "## 3. RM (Reward Model)"
   ]
  },
  {
   "cell_type": "code",
   "execution_count": 2,
   "id": "ddb74118",
   "metadata": {},
   "outputs": [],
   "source": [
    "import os\n",
    "import json\n",
    "from typing import Optional\n",
    "import torch\n",
    "import torch.nn as nn\n",
    "from torch.optim import Adam\n",
    "from chatgpt.dataset import RewardDataset\n",
    "from chatgpt.models.base import RewardModel\n",
    "from chatgpt.trainer import RewardModelTrainer\n",
    "from chatgpt.trainer.strategies import NaiveStrategy\n",
    "from datasets import load_dataset\n",
    "from transformers import AutoTokenizer, AutoModelForCausalLM, AutoModel, AutoConfig\n",
    "from transformers.models.gpt2.configuration_gpt2 import GPT2Config\n",
    "from transformers.models.gpt2.modeling_gpt2 import GPT2Model\n",
    "import loralib as lora"
   ]
  },
  {
   "cell_type": "code",
   "execution_count": 3,
   "id": "4ae9a9f9",
   "metadata": {},
   "outputs": [],
   "source": [
    "class GPTRM_custom(RewardModel):\n",
    "\n",
    "    def __init__(self,\n",
    "                 pretrained: Optional[str] = None,\n",
    "                 config: Optional[GPT2Config] = None,\n",
    "                 checkpoint: bool = False,\n",
    "                 lora_rank: int = 0,\n",
    "                 lora_train_bias: str = 'none',\n",
    "                 tokenizer=None) -> None:\n",
    "        if pretrained is not None:\n",
    "            model = GPT2Model.from_pretrained(pretrained)\n",
    "            model.resize_token_embeddings(len(tokenizer))\n",
    "        elif config is not None:\n",
    "            model = GPT2Model(config)\n",
    "        else:\n",
    "            model = GPT2Model(GPT2Config())\n",
    "        if checkpoint:\n",
    "            model.gradient_checkpointing_enable()\n",
    "\n",
    "        value_head = nn.Linear(model.config.n_embd, 1)\n",
    "        super().__init__(model, value_head, lora_rank, lora_train_bias)\n",
    "\n",
    "        if pretrained is not None:\n",
    "            self.model = model\n",
    "            self.pretrained = pretrained\n",
    "\n",
    "\n",
    "    def save_pretrained(self, dir):\n",
    "        if self.pretrained is not None:\n",
    "            self.model.save_pretrained(dir)"
   ]
  },
  {
   "cell_type": "code",
   "execution_count": 4,
   "id": "061e1f4b",
   "metadata": {},
   "outputs": [
    {
     "data": {
      "application/vnd.jupyter.widget-view+json": {
       "model_id": "f1cf67d7f5d64c5d888e511452859cb3",
       "version_major": 2,
       "version_minor": 0
      },
      "text/plain": [
       "Downloading config.json:   0%|          | 0.00/731 [00:00<?, ?B/s]"
      ]
     },
     "metadata": {},
     "output_type": "display_data"
    },
    {
     "data": {
      "application/vnd.jupyter.widget-view+json": {
       "model_id": "0eb3d2e5d5cf4ec4a4e62280ef5bbd5d",
       "version_major": 2,
       "version_minor": 0
      },
      "text/plain": [
       "Downloading pytorch_model.bin:   0%|          | 0.00/4.68G [00:00<?, ?B/s]"
      ]
     },
     "metadata": {},
     "output_type": "display_data"
    },
    {
     "data": {
      "application/vnd.jupyter.widget-view+json": {
       "model_id": "5a567cd6fd5a40a89079779b46aa5ab1",
       "version_major": 2,
       "version_minor": 0
      },
      "text/plain": [
       "Downloading tokenizer_config.json:   0%|          | 0.00/2.00 [00:00<?, ?B/s]"
      ]
     },
     "metadata": {},
     "output_type": "display_data"
    },
    {
     "data": {
      "application/vnd.jupyter.widget-view+json": {
       "model_id": "0f82d7eeaa134605ac6e4e6fbfa6785a",
       "version_major": 2,
       "version_minor": 0
      },
      "text/plain": [
       "Downloading tokenizer.json:   0%|          | 0.00/1.05M [00:00<?, ?B/s]"
      ]
     },
     "metadata": {},
     "output_type": "display_data"
    },
    {
     "data": {
      "application/vnd.jupyter.widget-view+json": {
       "model_id": "d1d2ec5b40084b169943955b4ae9912e",
       "version_major": 2,
       "version_minor": 0
      },
      "text/plain": [
       "Downloading (…)cial_tokens_map.json:   0%|          | 0.00/109 [00:00<?, ?B/s]"
      ]
     },
     "metadata": {},
     "output_type": "display_data"
    },
    {
     "data": {
      "application/vnd.jupyter.widget-view+json": {
       "model_id": "44c2ab7f5024449aa43c470aeae54fe0",
       "version_major": 2,
       "version_minor": 0
      },
      "text/plain": [
       "Downloading config.json:   0%|          | 0.00/1.00k [00:00<?, ?B/s]"
      ]
     },
     "metadata": {},
     "output_type": "display_data"
    },
    {
     "data": {
      "application/vnd.jupyter.widget-view+json": {
       "model_id": "b6518aadcc6b4552a293a964bf17d49c",
       "version_major": 2,
       "version_minor": 0
      },
      "text/plain": [
       "Downloading pytorch_model.bin:   0%|          | 0.00/513M [00:00<?, ?B/s]"
      ]
     },
     "metadata": {},
     "output_type": "display_data"
    },
    {
     "name": "stderr",
     "output_type": "stream",
     "text": [
      "Some weights of the model checkpoint at skt/kogpt2-base-v2 were not used when initializing GPT2Model: ['lm_head.weight']\n",
      "- This IS expected if you are initializing GPT2Model from the checkpoint of a model trained on another task or with another architecture (e.g. initializing a BertForSequenceClassification model from a BertForPreTraining model).\n",
      "- This IS NOT expected if you are initializing GPT2Model from the checkpoint of a model that you expect to be exactly identical (initializing a BertForSequenceClassification model from a BertForSequenceClassification model).\n"
     ]
    }
   ],
   "source": [
    "model_name = \"skt/ko-gpt-trinity-1.2B-v0.5\" # 더욱 큰 모델을 사용합니다.\n",
    "# model_name = \"'skt/kogpt2-base-v2'\"\n",
    "\n",
    "model = AutoModelForCausalLM.from_pretrained(model_name)\n",
    "\n",
    "tokenizer = AutoTokenizer.from_pretrained(\n",
    "    model_name, bos_token='</s>', eos_token='</s>', unk_token='</s>', pad_token='</s>',\n",
    "    padding_side=\"right\",\n",
    "    model_max_length=512,\n",
    ")\n",
    "\n",
    "with NaiveStrategy().model_init_context():\n",
    "    model = GPTRM_custom(pretrained='skt/kogpt2-base-v2',\n",
    "                         lora_rank=0,\n",
    "                         tokenizer=tokenizer,\n",
    "                         checkpoint=True,\n",
    "                        ).cuda() # lora 적용 -> 적용해제 (적용시 중국어로 나오네요..)"
   ]
  },
  {
   "cell_type": "markdown",
   "id": "809b9b46",
   "metadata": {},
   "source": [
    "- 파라미터 수가 큰 모델을 사용하고자 했으나, LoRA, BitsAndBytes를 적용해도 OOM이 발생하여 기존 모델로 진행합니다.\n",
    "\n",
    "#### RM 훈련에 사용될 Ranking 데이터"
   ]
  },
  {
   "cell_type": "code",
   "execution_count": 5,
   "id": "b281a859",
   "metadata": {
    "scrolled": true
   },
   "outputs": [
    {
     "name": "stdout",
     "output_type": "stream",
     "text": [
      "before data num: 10220\n",
      "after  data num: 30660\n",
      "data example: \n",
      "{'prompt': '애플은 리사를 어떻게 처리했어', 'chosen': '애플이 누구인지 명확히 알 수 없어서, 리사가 누구인지와 어떤 상황에서 처리되었는지에 대한 추가적인 정보가 필요합니다. 따라서, 보다 정확한 답변을 제공할 수 없습니다.', 'rejected': '애플은 리사를 위해 고객 서비스 부서에서 고객 다양한 컴퓨터 관련 문제에 대해 응답하는 데 필요한 모든 지원을 제공했습니다. 사용자가 하드웨어 문제를 경험할 때, 전문가들은 필요한 수리(수리, 추가 부품 제공, 소프트웨어 업그레이드 등)을 제공해 드릴 수 있습니다. 또한, 사용자가 사용 방법 문제나 기타 문제를 경험할 때, 대화 상대로 사용자를 지원할 수 있는 전문 고객 서비스 직원들이 사용자에게 상담하고 도움을 주는 데 도움이 될 수 있는 정보를 제공합니다. 또한, 인터넷에서 제공되는 정보를 통해 문제를 해결하거나 고객 서비스 웹 사이트를 통해 자신의 문제를 진단할 수 있도록 하는 등 다양한 방법으로 리사를 처리해 왔습니다.'}\n"
     ]
    }
   ],
   "source": [
    "with open('/aiffel/KoChatGPT/data_kochatgpt/kochatgpt_2_RM.jsonl', \"r\", encoding='utf-8-sig') as json_file:\n",
    "    list_data_dict = json.load(json_file)\n",
    "\n",
    "total_data_ranking2chosen = []\n",
    "for tmp in list_data_dict:\n",
    "    one_data_ranking2chosen = []\n",
    "\n",
    "    data = {}\n",
    "    data['prompt'] = tmp['prompt']\n",
    "    if tmp['ranking'][0] < tmp['ranking'][1]:\n",
    "        data['chosen'] = tmp['completion_0']\n",
    "        data['rejected'] = tmp['completion_1']\n",
    "    else:\n",
    "        data['chosen'] = tmp['completion_1']\n",
    "        data['rejected'] = tmp['completion_0']\n",
    "    one_data_ranking2chosen.append(data)\n",
    "\n",
    "    data = {}\n",
    "    data['prompt'] = tmp['prompt']\n",
    "    if tmp['ranking'][0] < tmp['ranking'][2]:\n",
    "        data['chosen'] = tmp['completion_0']\n",
    "        data['rejected'] = tmp['completion_2']\n",
    "    else:\n",
    "        data['chosen'] = tmp['completion_2']\n",
    "        data['rejected'] = tmp['completion_0']\n",
    "    one_data_ranking2chosen.append(data)\n",
    "\n",
    "    data = {}\n",
    "    data['prompt'] = tmp['prompt']\n",
    "    if tmp['ranking'][1] < tmp['ranking'][2]:\n",
    "        data['chosen'] = tmp['completion_1']\n",
    "        data['rejected'] = tmp['completion_2']\n",
    "    else:\n",
    "        data['chosen'] = tmp['completion_2']\n",
    "        data['rejected'] = tmp['completion_1']\n",
    "    one_data_ranking2chosen.append(data)\n",
    "\n",
    "\n",
    "\n",
    "    total_data_ranking2chosen.extend(one_data_ranking2chosen)\n",
    "\n",
    "print('before data num: %d'%(len(list_data_dict)))\n",
    "print('after  data num: %d'%(len(total_data_ranking2chosen)))\n",
    "print('data example: \\n%s'%total_data_ranking2chosen[45])"
   ]
  },
  {
   "cell_type": "code",
   "execution_count": 6,
   "id": "42403af1",
   "metadata": {},
   "outputs": [
    {
     "name": "stdout",
     "output_type": "stream",
     "text": [
      "{'prompt': '유아인이 류승완 감독을 만나 영화 베테랑의 시나리오를 받았던 곳은?', 'chosen': '유아인이 류승완 감독을 만나 영화 베테랑의 시나리오를 받았던 곳은 류승완의 사무실입니다.', 'rejected': '대구 영화사옥'}\n"
     ]
    },
    {
     "data": {
      "text/plain": [
       "30660"
      ]
     },
     "execution_count": 6,
     "metadata": {},
     "output_type": "execute_result"
    }
   ],
   "source": [
    "import random\n",
    "random.seed(230319)\n",
    "random.shuffle(total_data_ranking2chosen)\n",
    "print(total_data_ranking2chosen[45])\n",
    "len(total_data_ranking2chosen)"
   ]
  },
  {
   "cell_type": "code",
   "execution_count": 13,
   "id": "6569e395",
   "metadata": {},
   "outputs": [
    {
     "name": "stdout",
     "output_type": "stream",
     "text": [
      "10000\n",
      "2000\n"
     ]
    },
    {
     "name": "stderr",
     "output_type": "stream",
     "text": [
      "\n",
      "\n",
      "\n",
      "\n",
      "  0%|          | 0/10000 [00:00<?, ?it/s]\u001b[A\u001b[A\u001b[A\u001b[A\n",
      "\n",
      "\n",
      "\n",
      "  1%|▏         | 126/10000 [00:00<00:07, 1258.27it/s]\u001b[A\u001b[A\u001b[A\u001b[A\n",
      "\n",
      "\n",
      "\n",
      "  3%|▎         | 258/10000 [00:00<00:07, 1291.77it/s]\u001b[A\u001b[A\u001b[A\u001b[A\n",
      "\n",
      "\n",
      "\n",
      "  4%|▍         | 388/10000 [00:00<00:07, 1279.15it/s]\u001b[A\u001b[A\u001b[A\u001b[A\n",
      "\n",
      "\n",
      "\n",
      "  5%|▌         | 517/10000 [00:00<00:07, 1282.33it/s]\u001b[A\u001b[A\u001b[A\u001b[A\n",
      "\n",
      "\n",
      "\n",
      "  6%|▋         | 646/10000 [00:00<00:07, 1282.48it/s]\u001b[A\u001b[A\u001b[A\u001b[A\n",
      "\n",
      "\n",
      "\n",
      "  8%|▊         | 775/10000 [00:00<00:07, 1284.39it/s]\u001b[A\u001b[A\u001b[A\u001b[A\n",
      "\n",
      "\n",
      "\n",
      "  9%|▉         | 904/10000 [00:00<00:07, 1280.46it/s]\u001b[A\u001b[A\u001b[A\u001b[A\n",
      "\n",
      "\n",
      "\n",
      " 10%|█         | 1033/10000 [00:00<00:07, 1269.86it/s]\u001b[A\u001b[A\u001b[A\u001b[A\n",
      "\n",
      "\n",
      "\n",
      " 12%|█▏        | 1161/10000 [00:00<00:07, 1261.60it/s]\u001b[A\u001b[A\u001b[A\u001b[A\n",
      "\n",
      "\n",
      "\n",
      " 13%|█▎        | 1288/10000 [00:01<00:07, 1184.02it/s]\u001b[A\u001b[A\u001b[A\u001b[A\n",
      "\n",
      "\n",
      "\n",
      " 14%|█▍        | 1408/10000 [00:01<00:07, 1158.19it/s]\u001b[A\u001b[A\u001b[A\u001b[A\n",
      "\n",
      "\n",
      "\n",
      " 15%|█▌        | 1526/10000 [00:01<00:07, 1163.70it/s]\u001b[A\u001b[A\u001b[A\u001b[A\n",
      "\n",
      "\n",
      "\n",
      " 16%|█▋        | 1643/10000 [00:01<00:07, 1109.75it/s]\u001b[A\u001b[A\u001b[A\u001b[A\n",
      "\n",
      "\n",
      "\n",
      " 18%|█▊        | 1755/10000 [00:01<00:07, 1065.77it/s]\u001b[A\u001b[A\u001b[A\u001b[A\n",
      "\n",
      "\n",
      "\n",
      " 19%|█▊        | 1863/10000 [00:01<00:07, 1055.87it/s]\u001b[A\u001b[A\u001b[A\u001b[A\n",
      "\n",
      "\n",
      "\n",
      " 20%|█▉        | 1972/10000 [00:01<00:07, 1062.84it/s]\u001b[A\u001b[A\u001b[A\u001b[A\n",
      "\n",
      "\n",
      "\n",
      " 21%|██        | 2090/10000 [00:01<00:07, 1094.04it/s]\u001b[A\u001b[A\u001b[A\u001b[A\n",
      "\n",
      "\n",
      "\n",
      " 22%|██▏       | 2206/10000 [00:01<00:07, 1111.47it/s]\u001b[A\u001b[A\u001b[A\u001b[A\n",
      "\n",
      "\n",
      "\n",
      " 23%|██▎       | 2326/10000 [00:01<00:06, 1136.21it/s]\u001b[A\u001b[A\u001b[A\u001b[A\n",
      "\n",
      "\n",
      "\n",
      " 24%|██▍       | 2440/10000 [00:02<00:06, 1101.83it/s]\u001b[A\u001b[A\u001b[A\u001b[A\n",
      "\n",
      "\n",
      "\n",
      " 26%|██▌       | 2551/10000 [00:02<00:06, 1100.48it/s]\u001b[A\u001b[A\u001b[A\u001b[A\n",
      "\n",
      "\n",
      "\n",
      " 27%|██▋       | 2663/10000 [00:02<00:06, 1104.74it/s]\u001b[A\u001b[A\u001b[A\u001b[A\n",
      "\n",
      "\n",
      "\n",
      " 28%|██▊       | 2776/10000 [00:02<00:06, 1110.29it/s]\u001b[A\u001b[A\u001b[A\u001b[A\n",
      "\n",
      "\n",
      "\n",
      " 29%|██▉       | 2892/10000 [00:02<00:06, 1121.92it/s]\u001b[A\u001b[A\u001b[A\u001b[A\n",
      "\n",
      "\n",
      "\n",
      " 30%|███       | 3005/10000 [00:02<00:06, 1089.34it/s]\u001b[A\u001b[A\u001b[A\u001b[A\n",
      "\n",
      "\n",
      "\n",
      " 31%|███       | 3119/10000 [00:02<00:06, 1102.13it/s]\u001b[A\u001b[A\u001b[A\u001b[A\n",
      "\n",
      "\n",
      "\n",
      " 32%|███▏      | 3230/10000 [00:02<00:06, 1102.51it/s]\u001b[A\u001b[A\u001b[A\u001b[A\n",
      "\n",
      "\n",
      "\n",
      " 33%|███▎      | 3341/10000 [00:02<00:06, 1103.42it/s]\u001b[A\u001b[A\u001b[A\u001b[A\n",
      "\n",
      "\n",
      "\n",
      " 35%|███▍      | 3458/10000 [00:03<00:05, 1121.09it/s]\u001b[A\u001b[A\u001b[A\u001b[A\n",
      "\n",
      "\n",
      "\n",
      " 36%|███▌      | 3571/10000 [00:03<00:05, 1085.64it/s]\u001b[A\u001b[A\u001b[A\u001b[A\n",
      "\n",
      "\n",
      "\n",
      " 37%|███▋      | 3685/10000 [00:03<00:05, 1100.43it/s]\u001b[A\u001b[A\u001b[A\u001b[A\n",
      "\n",
      "\n",
      "\n",
      " 38%|███▊      | 3801/10000 [00:03<00:05, 1117.20it/s]\u001b[A\u001b[A\u001b[A\u001b[A\n",
      "\n",
      "\n",
      "\n",
      " 39%|███▉      | 3916/10000 [00:03<00:05, 1125.18it/s]\u001b[A\u001b[A\u001b[A\u001b[A\n",
      "\n",
      "\n",
      "\n",
      " 40%|████      | 4032/10000 [00:03<00:05, 1134.10it/s]\u001b[A\u001b[A\u001b[A\u001b[A\n",
      "\n",
      "\n",
      "\n",
      " 41%|████▏     | 4146/10000 [00:03<00:05, 1134.62it/s]\u001b[A\u001b[A\u001b[A\u001b[A\n",
      "\n",
      "\n",
      "\n",
      " 43%|████▎     | 4260/10000 [00:03<00:05, 1116.15it/s]\u001b[A\u001b[A\u001b[A\u001b[A\n",
      "\n",
      "\n",
      "\n",
      " 44%|████▎     | 4372/10000 [00:03<00:05, 1087.78it/s]\u001b[A\u001b[A\u001b[A\u001b[A\n",
      "\n",
      "\n",
      "\n",
      " 45%|████▍     | 4486/10000 [00:03<00:05, 1101.01it/s]\u001b[A\u001b[A\u001b[A\u001b[A\n",
      "\n",
      "\n",
      "\n",
      " 46%|████▌     | 4598/10000 [00:04<00:04, 1104.65it/s]\u001b[A\u001b[A\u001b[A\u001b[A\n",
      "\n",
      "\n",
      "\n",
      " 47%|████▋     | 4710/10000 [00:04<00:04, 1108.81it/s]\u001b[A\u001b[A\u001b[A\u001b[A\n",
      "\n",
      "\n",
      "\n",
      " 48%|████▊     | 4823/10000 [00:04<00:04, 1113.84it/s]\u001b[A\u001b[A\u001b[A\u001b[A\n",
      "\n",
      "\n",
      "\n",
      " 49%|████▉     | 4940/10000 [00:04<00:04, 1128.27it/s]\u001b[A\u001b[A\u001b[A\u001b[A\n",
      "\n",
      "\n",
      "\n",
      " 51%|█████     | 5053/10000 [00:04<00:04, 1121.67it/s]\u001b[A\u001b[A\u001b[A\u001b[A\n",
      "\n",
      "\n",
      "\n",
      " 52%|█████▏    | 5166/10000 [00:04<00:04, 1119.26it/s]\u001b[A\u001b[A\u001b[A\u001b[A\n",
      "\n",
      "\n",
      "\n",
      " 53%|█████▎    | 5278/10000 [00:04<00:04, 1108.26it/s]\u001b[A\u001b[A\u001b[A\u001b[A\n",
      "\n",
      "\n",
      "\n",
      " 54%|█████▍    | 5392/10000 [00:04<00:04, 1116.05it/s]\u001b[A\u001b[A\u001b[A\u001b[A\n",
      "\n",
      "\n",
      "\n",
      " 55%|█████▌    | 5504/10000 [00:04<00:04, 1112.66it/s]\u001b[A\u001b[A\u001b[A\u001b[A\n",
      "\n",
      "\n",
      "\n",
      " 56%|█████▌    | 5616/10000 [00:04<00:03, 1108.01it/s]\u001b[A\u001b[A\u001b[A\u001b[A\n",
      "\n",
      "\n",
      "\n",
      " 57%|█████▋    | 5727/10000 [00:05<00:03, 1083.17it/s]\u001b[A\u001b[A\u001b[A\u001b[A\n",
      "\n",
      "\n",
      "\n",
      " 58%|█████▊    | 5839/10000 [00:05<00:03, 1092.72it/s]\u001b[A\u001b[A\u001b[A\u001b[A\n",
      "\n",
      "\n",
      "\n",
      " 60%|█████▉    | 5953/10000 [00:05<00:03, 1104.47it/s]\u001b[A\u001b[A\u001b[A\u001b[A\n",
      "\n",
      "\n",
      "\n",
      " 61%|██████    | 6064/10000 [00:05<00:03, 1096.34it/s]\u001b[A\u001b[A\u001b[A\u001b[A\n",
      "\n",
      "\n",
      "\n",
      " 62%|██████▏   | 6174/10000 [00:05<00:03, 1095.88it/s]\u001b[A\u001b[A\u001b[A\u001b[A\n",
      "\n",
      "\n",
      "\n",
      " 63%|██████▎   | 6288/10000 [00:05<00:03, 1105.70it/s]\u001b[A\u001b[A\u001b[A\u001b[A\n",
      "\n",
      "\n",
      "\n",
      " 64%|██████▍   | 6402/10000 [00:05<00:03, 1113.67it/s]\u001b[A\u001b[A\u001b[A\u001b[A\n",
      "\n",
      "\n",
      "\n",
      " 65%|██████▌   | 6514/10000 [00:05<00:03, 1113.02it/s]\u001b[A\u001b[A\u001b[A\u001b[A\n",
      "\n",
      "\n",
      "\n",
      " 66%|██████▋   | 6626/10000 [00:05<00:03, 1112.98it/s]\u001b[A\u001b[A\u001b[A\u001b[A\n",
      "\n",
      "\n",
      "\n",
      " 67%|██████▋   | 6738/10000 [00:05<00:02, 1109.68it/s]\u001b[A\u001b[A\u001b[A\u001b[A\n",
      "\n",
      "\n",
      "\n",
      " 68%|██████▊   | 6849/10000 [00:06<00:02, 1054.86it/s]\u001b[A\u001b[A\u001b[A\u001b[A\n",
      "\n",
      "\n",
      "\n",
      " 70%|██████▉   | 6956/10000 [00:06<00:02, 1039.34it/s]\u001b[A\u001b[A\u001b[A\u001b[A\n",
      "\n",
      "\n",
      "\n",
      " 71%|███████   | 7061/10000 [00:06<00:02, 1037.38it/s]\u001b[A\u001b[A\u001b[A\u001b[A\n",
      "\n",
      "\n",
      "\n",
      " 72%|███████▏  | 7169/10000 [00:06<00:02, 1047.27it/s]\u001b[A\u001b[A\u001b[A\u001b[A\n",
      "\n",
      "\n",
      "\n",
      " 73%|███████▎  | 7274/10000 [00:06<00:02, 1040.44it/s]\u001b[A\u001b[A\u001b[A\u001b[A\n",
      "\n",
      "\n",
      "\n",
      " 74%|███████▍  | 7379/10000 [00:06<00:02, 1034.60it/s]\u001b[A\u001b[A\u001b[A\u001b[A\n",
      "\n",
      "\n",
      "\n",
      " 75%|███████▍  | 7488/10000 [00:06<00:02, 1048.81it/s]\u001b[A\u001b[A\u001b[A\u001b[A\n",
      "\n",
      "\n",
      "\n",
      " 76%|███████▌  | 7599/10000 [00:06<00:02, 1064.79it/s]\u001b[A\u001b[A\u001b[A\u001b[A\n",
      "\n",
      "\n",
      "\n",
      " 77%|███████▋  | 7707/10000 [00:06<00:02, 1067.16it/s]\u001b[A\u001b[A\u001b[A\u001b[A\n",
      "\n",
      "\n",
      "\n",
      " 78%|███████▊  | 7814/10000 [00:07<00:02, 1059.89it/s]\u001b[A\u001b[A\u001b[A\u001b[A\n",
      "\n",
      "\n",
      "\n",
      " 79%|███████▉  | 7921/10000 [00:07<00:02, 1028.98it/s]\u001b[A\u001b[A\u001b[A\u001b[A\n",
      "\n",
      "\n",
      "\n",
      " 80%|████████  | 8028/10000 [00:07<00:01, 1040.67it/s]\u001b[A\u001b[A\u001b[A\u001b[A\n",
      "\n",
      "\n",
      "\n",
      " 81%|████████▏ | 8136/10000 [00:07<00:01, 1051.91it/s]\u001b[A\u001b[A\u001b[A\u001b[A\n",
      "\n",
      "\n",
      "\n",
      "Train epoch:   0%|          | 0/5 [23:18<?, ?it/s]t/s]\u001b[A\u001b[A\u001b[A\u001b[A\n",
      "Train step of epoch 0:  43%|████▎     | 532/1250 [23:18<31:26,  2.63s/it, loss=0.635]\n",
      "\n",
      "\n",
      "\n",
      "\n",
      " 83%|████████▎ | 8346/10000 [00:07<00:02, 722.76it/s] \u001b[A\u001b[A\u001b[A\u001b[A\n",
      "\n",
      "\n",
      "\n",
      " 85%|████████▍ | 8452/10000 [00:07<00:01, 797.95it/s]\u001b[A\u001b[A\u001b[A\u001b[A\n",
      "\n",
      "\n",
      "\n",
      " 86%|████████▌ | 8551/10000 [00:07<00:01, 842.97it/s]\u001b[A\u001b[A\u001b[A\u001b[A\n",
      "\n",
      "\n",
      "\n",
      " 86%|████████▋ | 8650/10000 [00:07<00:01, 879.42it/s]\u001b[A\u001b[A\u001b[A\u001b[A\n",
      "\n",
      "\n",
      "\n",
      " 88%|████████▊ | 8754/10000 [00:08<00:01, 920.95it/s]\u001b[A\u001b[A\u001b[A\u001b[A\n",
      "\n",
      "\n",
      "\n",
      " 89%|████████▊ | 8862/10000 [00:08<00:01, 964.59it/s]\u001b[A\u001b[A\u001b[A\u001b[A\n",
      "\n",
      "\n",
      "\n",
      " 90%|████████▉ | 8968/10000 [00:08<00:01, 991.05it/s]\u001b[A\u001b[A\u001b[A\u001b[A\n",
      "\n",
      "\n",
      "\n",
      " 91%|█████████ | 9073/10000 [00:08<00:00, 1005.92it/s]\u001b[A\u001b[A\u001b[A\u001b[A\n",
      "\n",
      "\n",
      "\n",
      " 92%|█████████▏| 9183/10000 [00:08<00:00, 1030.88it/s]\u001b[A\u001b[A\u001b[A\u001b[A\n",
      "\n",
      "\n",
      "\n",
      " 93%|█████████▎| 9292/10000 [00:08<00:00, 1047.81it/s]\u001b[A\u001b[A\u001b[A\u001b[A\n",
      "\n",
      "\n",
      "\n",
      " 94%|█████████▍| 9401/10000 [00:08<00:00, 1057.71it/s]\u001b[A\u001b[A\u001b[A\u001b[A\n",
      "\n",
      "\n",
      "\n",
      " 95%|█████████▌| 9508/10000 [00:08<00:00, 1059.24it/s]\u001b[A\u001b[A\u001b[A\u001b[A\n",
      "\n",
      "\n",
      "\n",
      " 96%|█████████▌| 9617/10000 [00:08<00:00, 1065.47it/s]\u001b[A\u001b[A\u001b[A\u001b[A\n",
      "\n",
      "\n",
      "\n",
      " 97%|█████████▋| 9727/10000 [00:08<00:00, 1073.62it/s]\u001b[A\u001b[A\u001b[A\u001b[A\n",
      "\n",
      "\n",
      "\n",
      " 98%|█████████▊| 9835/10000 [00:09<00:00, 1060.04it/s]\u001b[A\u001b[A\u001b[A\u001b[A\n",
      "\n",
      "\n",
      "\n",
      "100%|██████████| 10000/10000 [00:09<00:00, 1082.96it/s][A\u001b[A\u001b[A\u001b[A\n",
      "100%|██████████| 2000/2000 [00:01<00:00, 1056.09it/s]\n"
     ]
    }
   ],
   "source": [
    "train_data = total_data_ranking2chosen[:10000] \n",
    "eval_data = total_data_ranking2chosen[10000:12000]\n",
    "\n",
    "print(len(train_data))\n",
    "print(len(eval_data))\n",
    "\n",
    "train_dataset = RewardDataset(train_data, tokenizer, 512)\n",
    "eval_dataset = RewardDataset(eval_data, tokenizer, 512)"
   ]
  },
  {
   "cell_type": "code",
   "execution_count": 14,
   "id": "76c66928",
   "metadata": {},
   "outputs": [],
   "source": [
    "trainer = RewardModelTrainer(model=model,\n",
    "                             strategy=NaiveStrategy(),\n",
    "                             optim=Adam(model.parameters(), lr=5e-5),\n",
    "                             train_dataset=train_dataset,\n",
    "                             eval_dataset=eval_dataset,\n",
    "                             batch_size=64,\n",
    "                             max_epochs=4)"
   ]
  },
  {
   "cell_type": "code",
   "execution_count": null,
   "id": "7eed1967",
   "metadata": {
    "scrolled": true
   },
   "outputs": [
    {
     "name": "stderr",
     "output_type": "stream",
     "text": [
      "Train epoch:   0%|          | 0/4 [00:00<?, ?it/s]\n",
      "Train step of epoch 0:   0%|          | 0/157 [00:00<?, ?it/s]\u001b[A\n",
      "Train step of epoch 0:   1%|          | 1/157 [00:18<48:10, 18.53s/it]\u001b[A\n",
      "Train step of epoch 0:   1%|          | 1/157 [00:18<48:10, 18.53s/it, loss=0.397]\u001b[A\n",
      "Train step of epoch 0:   1%|▏         | 2/157 [00:37<48:56, 18.95s/it, loss=0.397]\u001b[A\n",
      "Train step of epoch 0:   1%|▏         | 2/157 [00:37<48:56, 18.95s/it, loss=0.455]\u001b[A\n",
      "Train step of epoch 0:   2%|▏         | 3/157 [00:56<48:45, 19.00s/it, loss=0.455]\u001b[A\n",
      "Train step of epoch 0:   2%|▏         | 3/157 [00:56<48:45, 19.00s/it, loss=0.462]\u001b[A\n",
      "Train step of epoch 0:   3%|▎         | 4/157 [01:15<48:08, 18.88s/it, loss=0.462]\u001b[A\n",
      "Train step of epoch 0:   3%|▎         | 4/157 [01:15<48:08, 18.88s/it, loss=0.344]\u001b[A\n",
      "Train step of epoch 0:   3%|▎         | 5/157 [01:34<47:37, 18.80s/it, loss=0.344]\u001b[A\n",
      "Train step of epoch 0:   3%|▎         | 5/157 [01:34<47:37, 18.80s/it, loss=0.547]\u001b[A\n",
      "Train step of epoch 0:   4%|▍         | 6/157 [01:52<47:18, 18.80s/it, loss=0.547]\u001b[A\n",
      "Train step of epoch 0:   4%|▍         | 6/157 [01:53<47:18, 18.80s/it, loss=0.687]\u001b[A\n",
      "Train step of epoch 0:   4%|▍         | 7/157 [02:11<47:04, 18.83s/it, loss=0.687]\u001b[A\n",
      "Train step of epoch 0:   4%|▍         | 7/157 [02:11<47:04, 18.83s/it, loss=0.669]\u001b[A\n",
      "Train step of epoch 0:   5%|▌         | 8/157 [02:30<46:43, 18.82s/it, loss=0.669]\u001b[A\n",
      "Train step of epoch 0:   5%|▌         | 8/157 [02:30<46:43, 18.82s/it, loss=0.67] \u001b[A\n",
      "Train step of epoch 0:   6%|▌         | 9/157 [02:49<46:21, 18.80s/it, loss=0.67]\u001b[A\n",
      "Train step of epoch 0:   6%|▌         | 9/157 [02:49<46:21, 18.80s/it, loss=0.675]\u001b[A\n",
      "Train step of epoch 0:   6%|▋         | 10/157 [03:08<46:00, 18.78s/it, loss=0.675]\u001b[A\n",
      "Train step of epoch 0:   6%|▋         | 10/157 [03:08<46:00, 18.78s/it, loss=0.673]\u001b[A\n",
      "Train step of epoch 0:   7%|▋         | 11/157 [03:26<45:41, 18.78s/it, loss=0.673]\u001b[A\n",
      "Train step of epoch 0:   7%|▋         | 11/157 [03:26<45:41, 18.78s/it, loss=0.666]\u001b[A\n",
      "Train step of epoch 0:   8%|▊         | 12/157 [03:45<45:24, 18.79s/it, loss=0.666]\u001b[A\n",
      "Train step of epoch 0:   8%|▊         | 12/157 [03:45<45:24, 18.79s/it, loss=0.645]\u001b[A\n",
      "Train step of epoch 0:   8%|▊         | 13/157 [04:04<45:05, 18.79s/it, loss=0.645]\u001b[A\n",
      "Train step of epoch 0:   8%|▊         | 13/157 [04:04<45:05, 18.79s/it, loss=0.621]\u001b[A\n",
      "Train step of epoch 0:   9%|▉         | 14/157 [04:23<44:46, 18.79s/it, loss=0.621]\u001b[A\n",
      "Train step of epoch 0:   9%|▉         | 14/157 [04:23<44:46, 18.79s/it, loss=0.595]\u001b[A\n",
      "Train step of epoch 0:  10%|▉         | 15/157 [04:42<44:26, 18.78s/it, loss=0.595]\u001b[A\n",
      "Train step of epoch 0:  10%|▉         | 15/157 [04:42<44:26, 18.78s/it, loss=0.554]\u001b[A\n",
      "Train step of epoch 0:  10%|█         | 16/157 [05:00<44:05, 18.76s/it, loss=0.554]\u001b[A\n",
      "Train step of epoch 0:  10%|█         | 16/157 [05:00<44:05, 18.76s/it, loss=0.653]\u001b[A\n",
      "Train step of epoch 0:  11%|█         | 17/157 [05:19<43:45, 18.75s/it, loss=0.653]\u001b[A\n",
      "Train step of epoch 0:  11%|█         | 17/157 [05:19<43:45, 18.75s/it, loss=0.508]\u001b[A\n",
      "Train step of epoch 0:  11%|█▏        | 18/157 [05:38<43:26, 18.75s/it, loss=0.508]\u001b[A\n",
      "Train step of epoch 0:  11%|█▏        | 18/157 [05:38<43:26, 18.75s/it, loss=0.594]\u001b[A\n",
      "Train step of epoch 0:  12%|█▏        | 19/157 [05:57<43:08, 18.76s/it, loss=0.594]\u001b[A\n",
      "Train step of epoch 0:  12%|█▏        | 19/157 [05:57<43:08, 18.76s/it, loss=0.642]\u001b[A\n",
      "Train step of epoch 0:  13%|█▎        | 20/157 [06:15<42:50, 18.77s/it, loss=0.642]\u001b[A\n",
      "Train step of epoch 0:  13%|█▎        | 20/157 [06:15<42:50, 18.77s/it, loss=0.566]\u001b[A\n",
      "Train step of epoch 0:  13%|█▎        | 21/157 [06:34<42:32, 18.77s/it, loss=0.566]\u001b[A\n",
      "Train step of epoch 0:  13%|█▎        | 21/157 [06:34<42:32, 18.77s/it, loss=0.51] \u001b[A\n",
      "Train step of epoch 0:  14%|█▍        | 22/157 [06:53<42:14, 18.77s/it, loss=0.51]\u001b[A\n",
      "Train step of epoch 0:  14%|█▍        | 22/157 [06:53<42:14, 18.77s/it, loss=0.552]\u001b[A\n",
      "Train step of epoch 0:  15%|█▍        | 23/157 [07:12<41:56, 18.78s/it, loss=0.552]\u001b[A\n",
      "Train step of epoch 0:  15%|█▍        | 23/157 [07:12<41:56, 18.78s/it, loss=0.664]\u001b[A\n",
      "Train step of epoch 0:  15%|█▌        | 24/157 [07:30<41:38, 18.79s/it, loss=0.664]\u001b[A\n",
      "Train step of epoch 0:  15%|█▌        | 24/157 [07:31<41:38, 18.79s/it, loss=0.525]\u001b[A\n",
      "Train step of epoch 0:  16%|█▌        | 25/157 [07:49<41:20, 18.79s/it, loss=0.525]\u001b[A\n",
      "Train step of epoch 0:  16%|█▌        | 25/157 [07:49<41:20, 18.79s/it, loss=0.598]\u001b[A\n",
      "Train step of epoch 0:  17%|█▋        | 26/157 [08:08<41:00, 18.78s/it, loss=0.598]\u001b[A\n",
      "Train step of epoch 0:  17%|█▋        | 26/157 [08:08<41:00, 18.78s/it, loss=0.466]\u001b[A\n",
      "Train step of epoch 0:  17%|█▋        | 27/157 [08:27<40:40, 18.77s/it, loss=0.466]\u001b[A\n",
      "Train step of epoch 0:  17%|█▋        | 27/157 [08:27<40:40, 18.77s/it, loss=0.592]\u001b[A\n",
      "Train step of epoch 0:  18%|█▊        | 28/157 [08:46<40:20, 18.76s/it, loss=0.592]\u001b[A\n",
      "Train step of epoch 0:  18%|█▊        | 28/157 [08:46<40:20, 18.76s/it, loss=0.556]\u001b[A\n",
      "Train step of epoch 0:  18%|█▊        | 29/157 [09:04<40:00, 18.75s/it, loss=0.556]\u001b[A\n",
      "Train step of epoch 0:  18%|█▊        | 29/157 [09:04<40:00, 18.75s/it, loss=0.558]\u001b[A\n",
      "Train step of epoch 0:  19%|█▉        | 30/157 [09:23<39:41, 18.75s/it, loss=0.558]\u001b[A\n",
      "Train step of epoch 0:  19%|█▉        | 30/157 [09:23<39:41, 18.75s/it, loss=0.588]\u001b[A\n",
      "Train step of epoch 0:  20%|█▉        | 31/157 [09:42<39:21, 18.74s/it, loss=0.588]\u001b[A\n",
      "Train step of epoch 0:  20%|█▉        | 31/157 [09:42<39:21, 18.74s/it, loss=0.491]\u001b[A\n",
      "Train step of epoch 0:  20%|██        | 32/157 [10:00<39:02, 18.74s/it, loss=0.491]\u001b[A\n",
      "Train step of epoch 0:  20%|██        | 32/157 [10:01<39:02, 18.74s/it, loss=0.445]\u001b[A\n",
      "Train step of epoch 0:  21%|██        | 33/157 [10:19<38:43, 18.74s/it, loss=0.445]\u001b[A\n",
      "Train step of epoch 0:  21%|██        | 33/157 [10:19<38:43, 18.74s/it, loss=0.469]\u001b[A\n",
      "Train step of epoch 0:  22%|██▏       | 34/157 [10:38<38:24, 18.74s/it, loss=0.469]\u001b[A\n",
      "Train step of epoch 0:  22%|██▏       | 34/157 [10:38<38:24, 18.74s/it, loss=0.527]\u001b[A\n",
      "Train step of epoch 0:  22%|██▏       | 35/157 [10:57<38:06, 18.74s/it, loss=0.527]\u001b[A\n",
      "Train step of epoch 0:  22%|██▏       | 35/157 [10:57<38:06, 18.74s/it, loss=0.61] \u001b[A"
     ]
    }
   ],
   "source": [
    "trainer.fit(use_lora=0)\n",
    "\n",
    "model.save_pretrained('./KoChatGPT_Project/output_2_RM')"
   ]
  },
  {
   "cell_type": "code",
   "execution_count": null,
   "id": "19c949be",
   "metadata": {},
   "outputs": [],
   "source": [
    "def inference_RM(input_text):\n",
    "    input_ids = tokenizer.encode(input_text, return_tensors='pt').to(\n",
    "        torch.cuda.current_device())\n",
    "    output = model(input_ids)\n",
    "    output_reward = output.cpu().detach().numpy()[0]\n",
    "\n",
    "    print('input: %s\\nreward score: %.1f'%(input_text, output_reward))\n",
    "\n",
    "    return output_reward\n",
    "\n",
    "input_text = '인공지능은 똥멍청이 입니다'\n",
    "output_reward = inference_RM(input_text=input_text)"
   ]
  },
  {
   "cell_type": "code",
   "execution_count": null,
   "id": "33e3661f",
   "metadata": {},
   "outputs": [],
   "source": [
    "input_text = '인공지능(AI)은 컴퓨터에서 음성 및 작성된 언어를 보고 이해하고 번역하고 데이터를 분석하고 추천하는 기능을 포함하여 다양한 고급 기능을 수행할 수 있는 일련의 기술입니다.'\n",
    "\n",
    "output_reward = inference_RM(input_text=input_text)"
   ]
  },
  {
   "cell_type": "markdown",
   "id": "825a9486",
   "metadata": {},
   "source": [
    "## 4. PPO"
   ]
  },
  {
   "cell_type": "code",
   "execution_count": 14,
   "id": "1aa19d72",
   "metadata": {},
   "outputs": [],
   "source": [
    "from copy import deepcopy\n",
    "\n",
    "import torch\n",
    "from torch.optim import Adam\n",
    "from chatgpt.models.base import RewardModel\n",
    "from chatgpt.models.gpt import GPTActor, GPTCritic\n",
    "from chatgpt.trainer import PPOTrainer\n",
    "from chatgpt.trainer.strategies import NaiveStrategy\n",
    "from transformers import AutoTokenizer"
   ]
  },
  {
   "cell_type": "code",
   "execution_count": 15,
   "id": "319ec62c",
   "metadata": {
    "scrolled": false
   },
   "outputs": [],
   "source": [
    "with NaiveStrategy().model_init_context():\n",
    "    actor = GPTActor(pretrained='./KoChatGPT_Project/output_1_SFT', lora_rank=0).to(torch.cuda.current_device())\n",
    "    critic = GPTCritic(pretrained='./KoChatGPT_Project/output_2_RM', lora_rank=0).to(torch.cuda.current_device())\n",
    "\n",
    "    tokenizer = AutoTokenizer.from_pretrained(\n",
    "        model_name, bos_token='</s>', eos_token='</s>', unk_token='</s>', pad_token='</s>',\n",
    "        padding_side=\"right\",\n",
    "        model_max_length=512\n",
    "    )\n",
    "\n",
    "    initial_model = deepcopy(actor)\n",
    "    reward_model = RewardModel(deepcopy(critic.model), deepcopy(critic.value_head)).to(torch.cuda.current_device())"
   ]
  },
  {
   "cell_type": "code",
   "execution_count": 16,
   "id": "b69012e2",
   "metadata": {},
   "outputs": [],
   "source": [
    "actor_optim = Adam(actor.parameters(), lr=5e-6)\n",
    "critic_optim = Adam(critic.parameters(), lr=5e-6)"
   ]
  },
  {
   "cell_type": "code",
   "execution_count": 17,
   "id": "7f3572ff",
   "metadata": {},
   "outputs": [],
   "source": [
    "(actor, actor_optim), (critic, critic_optim), reward_model, initial_model = NaiveStrategy().prepare(\n",
    "    (actor, actor_optim), (critic, critic_optim), reward_model, initial_model)"
   ]
  },
  {
   "cell_type": "markdown",
   "id": "ee37633a",
   "metadata": {},
   "source": [
    "#### Data 불러와서 Tokenize "
   ]
  },
  {
   "cell_type": "code",
   "execution_count": 18,
   "id": "8483f248",
   "metadata": {},
   "outputs": [],
   "source": [
    "with open('/aiffel/KoChatGPT/data_kochatgpt/kochatgpt_3_PPO.jsonl', \"r\", encoding='utf-8-sig') as json_file:\n",
    "    list_data_dict = json.load(json_file)\n",
    "    list_prompt = [tmp['prompt'] for tmp in list_data_dict]\n",
    "\n",
    "def tokenize_fn(texts):\n",
    "    batch = tokenizer(texts, return_tensors='pt', max_length=96, padding=True, truncation=True)\n",
    "    return {k: v.cuda() for k, v in batch.items()}"
   ]
  },
  {
   "cell_type": "code",
   "execution_count": 19,
   "id": "edbfd2f6",
   "metadata": {},
   "outputs": [
    {
     "name": "stdout",
     "output_type": "stream",
     "text": [
      "{'input_ids': tensor([[46390, 31369, 33712, 30541, 31338, 41607, 30586, 31024, 31482, 37404,\n",
      "         31035, 30316, 32131,   460, 34763, 32017, 37762, 33441,   565, 37205,\n",
      "         32131,   460, 34763, 32017, 31561, 36271]], device='cuda:0'), 'attention_mask': tensor([[1, 1, 1, 1, 1, 1, 1, 1, 1, 1, 1, 1, 1, 1, 1, 1, 1, 1, 1, 1, 1, 1, 1, 1,\n",
      "         1, 1]], device='cuda:0')}\n"
     ]
    }
   ],
   "source": [
    "print(tokenize_fn(\"It takes something more than intelligence to act intelligently\"))"
   ]
  },
  {
   "cell_type": "code",
   "execution_count": 20,
   "id": "27522dc2",
   "metadata": {},
   "outputs": [],
   "source": [
    "trainer = PPOTrainer(NaiveStrategy(),\n",
    "                     actor,\n",
    "                     critic,\n",
    "                     reward_model,\n",
    "                     initial_model,\n",
    "                     actor_optim,\n",
    "                     critic_optim,\n",
    "                     max_epochs=3,  \n",
    "                     train_batch_size=8, \n",
    "                     tokenizer=tokenize_fn,\n",
    "                     max_length=128,\n",
    "                     do_sample=True,\n",
    "                     replace=True,\n",
    "                     temperature=1.0, # 1.0 -> 1,5\n",
    "                     top_p=0.90, # top_k 대신 top_p를 사용합니다.\n",
    "                     pad_token_id=tokenizer.pad_token_id,\n",
    "                     eos_token_id=tokenizer.eos_token_id)"
   ]
  },
  {
   "cell_type": "code",
   "execution_count": 21,
   "id": "7e525d7a",
   "metadata": {
    "scrolled": false
   },
   "outputs": [
    {
     "name": "stderr",
     "output_type": "stream",
     "text": [
      "Episode [1/10]:  67%|██████▋   | 2/3 [00:11<00:05,  5.75s/it]\n",
      "Train epoch [1/3]:   0%|          | 0/3 [00:00<?, ?it/s]\u001b[A\n",
      "Train epoch [1/3]:   0%|          | 0/3 [00:00<?, ?it/s, actor_loss=0, critic_loss=0.000286]\u001b[A\n",
      "Train epoch [1/3]:  33%|███▎      | 1/3 [00:00<00:01,  1.96it/s, actor_loss=0, critic_loss=0.000286]\u001b[A\n",
      "Train epoch [1/3]:  33%|███▎      | 1/3 [00:01<00:01,  1.96it/s, actor_loss=0, critic_loss=0.0999]  \u001b[A\n",
      "Train epoch [1/3]:  67%|██████▋   | 2/3 [00:01<00:00,  1.96it/s, actor_loss=0, critic_loss=0.0999]\u001b[A\n",
      "Train epoch [1/3]:  67%|██████▋   | 2/3 [00:01<00:00,  1.96it/s, actor_loss=0, critic_loss=0.00693]\u001b[A\n",
      "Train epoch [1/3]: 100%|██████████| 3/3 [00:01<00:00,  1.96it/s, actor_loss=0, critic_loss=0.00693]\u001b[A\n",
      "\n",
      "Train epoch [2/3]:   0%|          | 0/3 [00:00<?, ?it/s]\u001b[A\n",
      "Train epoch [2/3]:   0%|          | 0/3 [00:00<?, ?it/s, actor_loss=0, critic_loss=0.0193]\u001b[A\n",
      "Train epoch [2/3]:  33%|███▎      | 1/3 [00:00<00:01,  1.98it/s, actor_loss=0, critic_loss=0.0193]\u001b[A\n",
      "Train epoch [2/3]:  33%|███▎      | 1/3 [00:01<00:01,  1.98it/s, actor_loss=0, critic_loss=0.0631]\u001b[A\n",
      "Train epoch [2/3]:  67%|██████▋   | 2/3 [00:01<00:00,  1.96it/s, actor_loss=0, critic_loss=0.0631]\u001b[A\n",
      "Train epoch [2/3]:  67%|██████▋   | 2/3 [00:01<00:00,  1.96it/s, actor_loss=0, critic_loss=0.0452]\u001b[A\n",
      "Train epoch [2/3]: 100%|██████████| 3/3 [00:01<00:00,  1.96it/s, actor_loss=0, critic_loss=0.0452]\u001b[A\n",
      "\n",
      "Train epoch [3/3]:   0%|          | 0/3 [00:00<?, ?it/s]\u001b[A\n",
      "Train epoch [3/3]:   0%|          | 0/3 [00:00<?, ?it/s, actor_loss=0, critic_loss=0.0113]\u001b[A\n",
      "Train epoch [3/3]:  33%|███▎      | 1/3 [00:00<00:01,  1.95it/s, actor_loss=0, critic_loss=0.0113]\u001b[A\n",
      "Train epoch [3/3]:  33%|███▎      | 1/3 [00:01<00:01,  1.95it/s, actor_loss=0, critic_loss=0.000425]\u001b[A\n",
      "Train epoch [3/3]:  67%|██████▋   | 2/3 [00:01<00:00,  1.96it/s, actor_loss=0, critic_loss=0.000425]\u001b[A\n",
      "Train epoch [3/3]:  67%|██████▋   | 2/3 [00:01<00:00,  1.96it/s, actor_loss=0, critic_loss=0.00833] \u001b[A\n",
      "Train epoch [3/3]: 100%|██████████| 3/3 [00:01<00:00,  1.96it/s, actor_loss=0, critic_loss=0.00833]\u001b[A\n",
      "Episode [1/10]: 100%|██████████| 3/3 [00:21<00:00,  7.33s/it]\n",
      "Episode [2/10]:  67%|██████▋   | 2/3 [00:11<00:05,  5.91s/it]\n",
      "Train epoch [1/3]:   0%|          | 0/3 [00:00<?, ?it/s]\u001b[A\n",
      "Train epoch [1/3]:   0%|          | 0/3 [00:00<?, ?it/s, actor_loss=-.131, critic_loss=0.0233]\u001b[A\n",
      "Train epoch [1/3]:  33%|███▎      | 1/3 [00:00<00:01,  1.92it/s, actor_loss=-.131, critic_loss=0.0233]\u001b[A\n",
      "Train epoch [1/3]:  33%|███▎      | 1/3 [00:01<00:01,  1.92it/s, actor_loss=-.133, critic_loss=0.0316]\u001b[A\n",
      "Train epoch [1/3]:  67%|██████▋   | 2/3 [00:01<00:00,  1.92it/s, actor_loss=-.133, critic_loss=0.0316]\u001b[A\n",
      "Train epoch [1/3]:  67%|██████▋   | 2/3 [00:01<00:00,  1.92it/s, actor_loss=-.133, critic_loss=0.0167]\u001b[A\n",
      "Train epoch [1/3]: 100%|██████████| 3/3 [00:01<00:00,  1.91it/s, actor_loss=-.133, critic_loss=0.0167]\u001b[A\n",
      "\n",
      "Train epoch [2/3]:   0%|          | 0/3 [00:00<?, ?it/s]\u001b[A\n",
      "Train epoch [2/3]:   0%|          | 0/3 [00:00<?, ?it/s, actor_loss=-.146, critic_loss=0.00462]\u001b[A\n",
      "Train epoch [2/3]:  33%|███▎      | 1/3 [00:00<00:01,  1.93it/s, actor_loss=-.146, critic_loss=0.00462]\u001b[A\n",
      "Train epoch [2/3]:  33%|███▎      | 1/3 [00:01<00:01,  1.93it/s, actor_loss=-.142, critic_loss=0.000568]\u001b[A\n",
      "Train epoch [2/3]:  67%|██████▋   | 2/3 [00:01<00:00,  1.92it/s, actor_loss=-.142, critic_loss=0.000568]\u001b[A\n",
      "Train epoch [2/3]:  67%|██████▋   | 2/3 [00:01<00:00,  1.92it/s, actor_loss=-.143, critic_loss=0.0082]  \u001b[A\n",
      "Train epoch [2/3]: 100%|██████████| 3/3 [00:01<00:00,  1.93it/s, actor_loss=-.143, critic_loss=0.0082]\u001b[A\n",
      "\n",
      "Train epoch [3/3]:   0%|          | 0/3 [00:00<?, ?it/s]\u001b[A\n",
      "Train epoch [3/3]:   0%|          | 0/3 [00:00<?, ?it/s, actor_loss=-.147, critic_loss=0.0121]\u001b[A\n",
      "Train epoch [3/3]:  33%|███▎      | 1/3 [00:00<00:01,  1.93it/s, actor_loss=-.147, critic_loss=0.0121]\u001b[A\n",
      "Train epoch [3/3]:  33%|███▎      | 1/3 [00:01<00:01,  1.93it/s, actor_loss=-.152, critic_loss=0.0162]\u001b[A\n",
      "Train epoch [3/3]:  67%|██████▋   | 2/3 [00:01<00:00,  1.94it/s, actor_loss=-.152, critic_loss=0.0162]\u001b[A\n",
      "Train epoch [3/3]:  67%|██████▋   | 2/3 [00:01<00:00,  1.94it/s, actor_loss=-.152, critic_loss=0.00749]\u001b[A\n",
      "Train epoch [3/3]: 100%|██████████| 3/3 [00:01<00:00,  1.92it/s, actor_loss=-.152, critic_loss=0.00749]\u001b[A\n",
      "Episode [2/10]: 100%|██████████| 3/3 [00:22<00:00,  7.46s/it]\n",
      "Episode [3/10]:  67%|██████▋   | 2/3 [00:11<00:05,  5.89s/it]\n",
      "Train epoch [1/3]:   0%|          | 0/3 [00:00<?, ?it/s]\u001b[A\n",
      "Train epoch [1/3]:   0%|          | 0/3 [00:00<?, ?it/s, actor_loss=0.0746, critic_loss=0.00504]\u001b[A\n",
      "Train epoch [1/3]:  33%|███▎      | 1/3 [00:00<00:01,  1.92it/s, actor_loss=0.0746, critic_loss=0.00504]\u001b[A\n",
      "Train epoch [1/3]:  33%|███▎      | 1/3 [00:01<00:01,  1.92it/s, actor_loss=0.0464, critic_loss=0.00068]\u001b[A\n",
      "Train epoch [1/3]:  67%|██████▋   | 2/3 [00:01<00:00,  1.94it/s, actor_loss=0.0464, critic_loss=0.00068]\u001b[A\n",
      "Train epoch [1/3]:  67%|██████▋   | 2/3 [00:01<00:00,  1.94it/s, actor_loss=0.0731, critic_loss=0.00256]\u001b[A\n",
      "Train epoch [1/3]: 100%|██████████| 3/3 [00:01<00:00,  1.93it/s, actor_loss=0.0731, critic_loss=0.00256]\u001b[A\n",
      "\n",
      "Train epoch [2/3]:   0%|          | 0/3 [00:00<?, ?it/s]\u001b[A\n",
      "Train epoch [2/3]:   0%|          | 0/3 [00:00<?, ?it/s, actor_loss=0.0724, critic_loss=0.00623]\u001b[A\n",
      "Train epoch [2/3]:  33%|███▎      | 1/3 [00:00<00:01,  1.94it/s, actor_loss=0.0724, critic_loss=0.00623]\u001b[A\n",
      "Train epoch [2/3]:  33%|███▎      | 1/3 [00:01<00:01,  1.94it/s, actor_loss=0.042, critic_loss=0.0139]  \u001b[A\n",
      "Train epoch [2/3]:  67%|██████▋   | 2/3 [00:01<00:00,  1.93it/s, actor_loss=0.042, critic_loss=0.0139]\u001b[A\n",
      "Train epoch [2/3]:  67%|██████▋   | 2/3 [00:01<00:00,  1.93it/s, actor_loss=0.0437, critic_loss=0.00762]\u001b[A\n",
      "Train epoch [2/3]: 100%|██████████| 3/3 [00:01<00:00,  1.93it/s, actor_loss=0.0437, critic_loss=0.00762]\u001b[A\n",
      "\n",
      "Train epoch [3/3]:   0%|          | 0/3 [00:00<?, ?it/s]\u001b[A\n",
      "Train epoch [3/3]:   0%|          | 0/3 [00:00<?, ?it/s, actor_loss=0.0599, critic_loss=0.00163]\u001b[A\n",
      "Train epoch [3/3]:  33%|███▎      | 1/3 [00:00<00:01,  1.94it/s, actor_loss=0.0599, critic_loss=0.00163]\u001b[A\n",
      "Train epoch [3/3]:  33%|███▎      | 1/3 [00:01<00:01,  1.94it/s, actor_loss=0.0537, critic_loss=0.00102]\u001b[A\n",
      "Train epoch [3/3]:  67%|██████▋   | 2/3 [00:01<00:00,  1.93it/s, actor_loss=0.0537, critic_loss=0.00102]\u001b[A\n",
      "Train epoch [3/3]:  67%|██████▋   | 2/3 [00:01<00:00,  1.93it/s, actor_loss=0.0414, critic_loss=0.0022] \u001b[A\n",
      "Train epoch [3/3]: 100%|██████████| 3/3 [00:01<00:00,  1.93it/s, actor_loss=0.0414, critic_loss=0.0022]\u001b[A\n",
      "Episode [3/10]: 100%|██████████| 3/3 [00:20<00:00,  6.95s/it]\n",
      "Episode [4/10]:  67%|██████▋   | 2/3 [00:11<00:05,  5.85s/it]\n",
      "Train epoch [1/3]:   0%|          | 0/3 [00:00<?, ?it/s]\u001b[A\n",
      "Train epoch [1/3]:   0%|          | 0/3 [00:00<?, ?it/s, actor_loss=0.0717, critic_loss=0.00436]\u001b[A\n",
      "Train epoch [1/3]:  33%|███▎      | 1/3 [00:00<00:01,  1.91it/s, actor_loss=0.0717, critic_loss=0.00436]\u001b[A\n",
      "Train epoch [1/3]:  33%|███▎      | 1/3 [00:01<00:01,  1.91it/s, actor_loss=0.0734, critic_loss=0.00292]\u001b[A\n",
      "Train epoch [1/3]:  67%|██████▋   | 2/3 [00:01<00:00,  1.93it/s, actor_loss=0.0734, critic_loss=0.00292]\u001b[A\n",
      "Train epoch [1/3]:  67%|██████▋   | 2/3 [00:01<00:00,  1.93it/s, actor_loss=0.07, critic_loss=0.00196]  \u001b[A\n",
      "Train epoch [1/3]: 100%|██████████| 3/3 [00:01<00:00,  1.92it/s, actor_loss=0.07, critic_loss=0.00196]\u001b[A\n",
      "\n",
      "Train epoch [2/3]:   0%|          | 0/3 [00:00<?, ?it/s]\u001b[A\n",
      "Train epoch [2/3]:   0%|          | 0/3 [00:00<?, ?it/s, actor_loss=0.075, critic_loss=0.000583]\u001b[A\n",
      "Train epoch [2/3]:  33%|███▎      | 1/3 [00:00<00:01,  1.93it/s, actor_loss=0.075, critic_loss=0.000583]\u001b[A\n",
      "Train epoch [2/3]:  33%|███▎      | 1/3 [00:01<00:01,  1.93it/s, actor_loss=0.0717, critic_loss=0.000343]\u001b[A\n",
      "Train epoch [2/3]:  67%|██████▋   | 2/3 [00:01<00:00,  1.92it/s, actor_loss=0.0717, critic_loss=0.000343]\u001b[A\n",
      "Train epoch [2/3]:  67%|██████▋   | 2/3 [00:01<00:00,  1.92it/s, actor_loss=0.0668, critic_loss=0.000468]\u001b[A\n",
      "Train epoch [2/3]: 100%|██████████| 3/3 [00:01<00:00,  1.92it/s, actor_loss=0.0668, critic_loss=0.000468]\u001b[A\n",
      "\n",
      "Train epoch [3/3]:   0%|          | 0/3 [00:00<?, ?it/s]\u001b[A\n",
      "Train epoch [3/3]:   0%|          | 0/3 [00:00<?, ?it/s, actor_loss=0.0659, critic_loss=0.00213]\u001b[A\n",
      "Train epoch [3/3]:  33%|███▎      | 1/3 [00:00<00:01,  1.93it/s, actor_loss=0.0659, critic_loss=0.00213]\u001b[A\n",
      "Train epoch [3/3]:  33%|███▎      | 1/3 [00:01<00:01,  1.93it/s, actor_loss=0.0711, critic_loss=0.00407]\u001b[A\n",
      "Train epoch [3/3]:  67%|██████▋   | 2/3 [00:01<00:00,  1.93it/s, actor_loss=0.0711, critic_loss=0.00407]\u001b[A\n",
      "Train epoch [3/3]:  67%|██████▋   | 2/3 [00:01<00:00,  1.93it/s, actor_loss=0.064, critic_loss=0.00176] \u001b[A\n",
      "Train epoch [3/3]: 100%|██████████| 3/3 [00:01<00:00,  1.93it/s, actor_loss=0.064, critic_loss=0.00176]\u001b[A\n",
      "Episode [4/10]: 100%|██████████| 3/3 [00:22<00:00,  7.46s/it]\n",
      "Episode [5/10]:  67%|██████▋   | 2/3 [00:11<00:05,  5.84s/it]\n",
      "Train epoch [1/3]:   0%|          | 0/3 [00:00<?, ?it/s]\u001b[A\n",
      "Train epoch [1/3]:   0%|          | 0/3 [00:00<?, ?it/s, actor_loss=-.00224, critic_loss=0.000552]\u001b[A\n",
      "Train epoch [1/3]:  33%|███▎      | 1/3 [00:00<00:01,  1.90it/s, actor_loss=-.00224, critic_loss=0.000552]\u001b[A\n",
      "Train epoch [1/3]:  33%|███▎      | 1/3 [00:01<00:01,  1.90it/s, actor_loss=0.000271, critic_loss=0.00069]\u001b[A\n",
      "Train epoch [1/3]:  67%|██████▋   | 2/3 [00:01<00:00,  1.91it/s, actor_loss=0.000271, critic_loss=0.00069]\u001b[A\n",
      "Train epoch [1/3]:  67%|██████▋   | 2/3 [00:01<00:00,  1.91it/s, actor_loss=0.00448, critic_loss=0.00193] \u001b[A\n",
      "Train epoch [1/3]: 100%|██████████| 3/3 [00:01<00:00,  1.91it/s, actor_loss=0.00448, critic_loss=0.00193]\u001b[A\n",
      "\n",
      "Train epoch [2/3]:   0%|          | 0/3 [00:00<?, ?it/s]\u001b[A\n",
      "Train epoch [2/3]:   0%|          | 0/3 [00:00<?, ?it/s, actor_loss=0.000773, critic_loss=0.00194]\u001b[A\n",
      "Train epoch [2/3]:  33%|███▎      | 1/3 [00:00<00:01,  1.93it/s, actor_loss=0.000773, critic_loss=0.00194]\u001b[A\n",
      "Train epoch [2/3]:  33%|███▎      | 1/3 [00:01<00:01,  1.93it/s, actor_loss=0.000109, critic_loss=0.00168]\u001b[A\n",
      "Train epoch [2/3]:  67%|██████▋   | 2/3 [00:01<00:00,  1.92it/s, actor_loss=0.000109, critic_loss=0.00168]\u001b[A\n",
      "Train epoch [2/3]:  67%|██████▋   | 2/3 [00:01<00:00,  1.92it/s, actor_loss=0.00134, critic_loss=0.000994]\u001b[A\n",
      "Train epoch [2/3]: 100%|██████████| 3/3 [00:01<00:00,  1.92it/s, actor_loss=0.00134, critic_loss=0.000994]\u001b[A\n",
      "\n",
      "Train epoch [3/3]:   0%|          | 0/3 [00:00<?, ?it/s]\u001b[A\n",
      "Train epoch [3/3]:   0%|          | 0/3 [00:00<?, ?it/s, actor_loss=0.0035, critic_loss=0.000418]\u001b[A\n",
      "Train epoch [3/3]:  33%|███▎      | 1/3 [00:00<00:01,  1.93it/s, actor_loss=0.0035, critic_loss=0.000418]\u001b[A\n",
      "Train epoch [3/3]:  33%|███▎      | 1/3 [00:01<00:01,  1.93it/s, actor_loss=0.00605, critic_loss=0.000977]\u001b[A\n",
      "Train epoch [3/3]:  67%|██████▋   | 2/3 [00:01<00:00,  1.92it/s, actor_loss=0.00605, critic_loss=0.000977]\u001b[A\n",
      "Train epoch [3/3]:  67%|██████▋   | 2/3 [00:01<00:00,  1.92it/s, actor_loss=-.00764, critic_loss=0.00156] \u001b[A\n",
      "Train epoch [3/3]: 100%|██████████| 3/3 [00:01<00:00,  1.91it/s, actor_loss=-.00764, critic_loss=0.00156]\u001b[A\n",
      "Episode [5/10]: 100%|██████████| 3/3 [00:22<00:00,  7.42s/it]\n",
      "Episode [6/10]:  67%|██████▋   | 2/3 [00:11<00:05,  5.91s/it]\n",
      "Train epoch [1/3]:   0%|          | 0/3 [00:00<?, ?it/s]\u001b[A\n",
      "Train epoch [1/3]:   0%|          | 0/3 [00:00<?, ?it/s, actor_loss=-.0206, critic_loss=0.0013]\u001b[A\n",
      "Train epoch [1/3]:  33%|███▎      | 1/3 [00:00<00:01,  1.91it/s, actor_loss=-.0206, critic_loss=0.0013]\u001b[A\n",
      "Train epoch [1/3]:  33%|███▎      | 1/3 [00:01<00:01,  1.91it/s, actor_loss=-.0205, critic_loss=0.000383]\u001b[A\n",
      "Train epoch [1/3]:  67%|██████▋   | 2/3 [00:01<00:00,  1.92it/s, actor_loss=-.0205, critic_loss=0.000383]\u001b[A\n",
      "Train epoch [1/3]:  67%|██████▋   | 2/3 [00:01<00:00,  1.92it/s, actor_loss=-.028, critic_loss=0.000592] \u001b[A\n",
      "Train epoch [1/3]: 100%|██████████| 3/3 [00:01<00:00,  1.91it/s, actor_loss=-.028, critic_loss=0.000592]\u001b[A\n",
      "\n",
      "Train epoch [2/3]:   0%|          | 0/3 [00:00<?, ?it/s]\u001b[A\n",
      "Train epoch [2/3]:   0%|          | 0/3 [00:00<?, ?it/s, actor_loss=-.028, critic_loss=0.000353]\u001b[A\n",
      "Train epoch [2/3]:  33%|███▎      | 1/3 [00:00<00:01,  1.92it/s, actor_loss=-.028, critic_loss=0.000353]\u001b[A\n",
      "Train epoch [2/3]:  33%|███▎      | 1/3 [00:01<00:01,  1.92it/s, actor_loss=-.0233, critic_loss=0.001]  \u001b[A\n",
      "Train epoch [2/3]:  67%|██████▋   | 2/3 [00:01<00:00,  1.92it/s, actor_loss=-.0233, critic_loss=0.001]\u001b[A\n",
      "Train epoch [2/3]:  67%|██████▋   | 2/3 [00:01<00:00,  1.92it/s, actor_loss=-.0204, critic_loss=0.0019]\u001b[A\n",
      "Train epoch [2/3]: 100%|██████████| 3/3 [00:01<00:00,  1.92it/s, actor_loss=-.0204, critic_loss=0.0019]\u001b[A\n",
      "\n",
      "Train epoch [3/3]:   0%|          | 0/3 [00:00<?, ?it/s]\u001b[A\n",
      "Train epoch [3/3]:   0%|          | 0/3 [00:00<?, ?it/s, actor_loss=-.0218, critic_loss=0.00079]\u001b[A\n",
      "Train epoch [3/3]:  33%|███▎      | 1/3 [00:00<00:01,  1.92it/s, actor_loss=-.0218, critic_loss=0.00079]\u001b[A\n",
      "Train epoch [3/3]:  33%|███▎      | 1/3 [00:01<00:01,  1.92it/s, actor_loss=-.0272, critic_loss=0.000345]\u001b[A\n",
      "Train epoch [3/3]:  67%|██████▋   | 2/3 [00:01<00:00,  1.91it/s, actor_loss=-.0272, critic_loss=0.000345]\u001b[A\n",
      "Train epoch [3/3]:  67%|██████▋   | 2/3 [00:01<00:00,  1.91it/s, actor_loss=-.0222, critic_loss=0.000236]\u001b[A\n",
      "Train epoch [3/3]: 100%|██████████| 3/3 [00:01<00:00,  1.91it/s, actor_loss=-.0222, critic_loss=0.000236]\u001b[A\n",
      "Episode [6/10]: 100%|██████████| 3/3 [00:22<00:00,  7.49s/it]\n",
      "Episode [7/10]:  67%|██████▋   | 2/3 [00:11<00:05,  5.75s/it]\n",
      "Train epoch [1/3]:   0%|          | 0/3 [00:00<?, ?it/s]\u001b[A\n",
      "Train epoch [1/3]:   0%|          | 0/3 [00:00<?, ?it/s, actor_loss=-.0236, critic_loss=0.00118]\u001b[A\n",
      "Train epoch [1/3]:  33%|███▎      | 1/3 [00:00<00:01,  1.91it/s, actor_loss=-.0236, critic_loss=0.00118]\u001b[A\n",
      "Train epoch [1/3]:  33%|███▎      | 1/3 [00:01<00:01,  1.91it/s, actor_loss=-.0181, critic_loss=0.000489]\u001b[A\n",
      "Train epoch [1/3]:  67%|██████▋   | 2/3 [00:01<00:00,  1.92it/s, actor_loss=-.0181, critic_loss=0.000489]\u001b[A\n",
      "Train epoch [1/3]:  67%|██████▋   | 2/3 [00:01<00:00,  1.92it/s, actor_loss=-.0227, critic_loss=0.00115] \u001b[A\n",
      "Train epoch [1/3]: 100%|██████████| 3/3 [00:01<00:00,  1.91it/s, actor_loss=-.0227, critic_loss=0.00115]\u001b[A\n",
      "\n",
      "Train epoch [2/3]:   0%|          | 0/3 [00:00<?, ?it/s]\u001b[A\n",
      "Train epoch [2/3]:   0%|          | 0/3 [00:00<?, ?it/s, actor_loss=-.0247, critic_loss=0.000382]\u001b[A\n",
      "Train epoch [2/3]:  33%|███▎      | 1/3 [00:00<00:01,  1.93it/s, actor_loss=-.0247, critic_loss=0.000382]\u001b[A\n",
      "Train epoch [2/3]:  33%|███▎      | 1/3 [00:01<00:01,  1.93it/s, actor_loss=-.0224, critic_loss=0.000286]\u001b[A\n",
      "Train epoch [2/3]:  67%|██████▋   | 2/3 [00:01<00:00,  1.92it/s, actor_loss=-.0224, critic_loss=0.000286]\u001b[A\n",
      "Train epoch [2/3]:  67%|██████▋   | 2/3 [00:01<00:00,  1.92it/s, actor_loss=-.0188, critic_loss=0.000349]\u001b[A\n",
      "Train epoch [2/3]: 100%|██████████| 3/3 [00:01<00:00,  1.92it/s, actor_loss=-.0188, critic_loss=0.000349]\u001b[A\n",
      "\n",
      "Train epoch [3/3]:   0%|          | 0/3 [00:00<?, ?it/s]\u001b[A\n",
      "Train epoch [3/3]:   0%|          | 0/3 [00:00<?, ?it/s, actor_loss=-.0253, critic_loss=0.000837]\u001b[A\n",
      "Train epoch [3/3]:  33%|███▎      | 1/3 [00:00<00:01,  1.94it/s, actor_loss=-.0253, critic_loss=0.000837]\u001b[A\n",
      "Train epoch [3/3]:  33%|███▎      | 1/3 [00:01<00:01,  1.94it/s, actor_loss=-.0215, critic_loss=0.000519]\u001b[A\n",
      "Train epoch [3/3]:  67%|██████▋   | 2/3 [00:01<00:00,  1.92it/s, actor_loss=-.0215, critic_loss=0.000519]\u001b[A\n",
      "Train epoch [3/3]:  67%|██████▋   | 2/3 [00:01<00:00,  1.92it/s, actor_loss=-.0218, critic_loss=0.000232]\u001b[A\n",
      "Train epoch [3/3]: 100%|██████████| 3/3 [00:01<00:00,  1.92it/s, actor_loss=-.0218, critic_loss=0.000232]\u001b[A\n",
      "Episode [7/10]: 100%|██████████| 3/3 [00:22<00:00,  7.38s/it]\n",
      "Episode [8/10]:  67%|██████▋   | 2/3 [00:11<00:05,  5.62s/it]\n",
      "Train epoch [1/3]:   0%|          | 0/3 [00:00<?, ?it/s]\u001b[A\n",
      "Train epoch [1/3]:   0%|          | 0/3 [00:00<?, ?it/s, actor_loss=0.0174, critic_loss=0.000575]\u001b[A\n",
      "Train epoch [1/3]:  33%|███▎      | 1/3 [00:00<00:01,  1.91it/s, actor_loss=0.0174, critic_loss=0.000575]\u001b[A\n",
      "Train epoch [1/3]:  33%|███▎      | 1/3 [00:01<00:01,  1.91it/s, actor_loss=-.000274, critic_loss=0.000435]\u001b[A\n",
      "Train epoch [1/3]:  67%|██████▋   | 2/3 [00:01<00:00,  1.92it/s, actor_loss=-.000274, critic_loss=0.000435]\u001b[A\n",
      "Train epoch [1/3]:  67%|██████▋   | 2/3 [00:01<00:00,  1.92it/s, actor_loss=0.0206, critic_loss=0.00332]   \u001b[A\n",
      "Train epoch [1/3]: 100%|██████████| 3/3 [00:01<00:00,  1.91it/s, actor_loss=0.0206, critic_loss=0.00332]\u001b[A\n",
      "\n",
      "Train epoch [2/3]:   0%|          | 0/3 [00:00<?, ?it/s]\u001b[A\n",
      "Train epoch [2/3]:   0%|          | 0/3 [00:00<?, ?it/s, actor_loss=0.00313, critic_loss=0.000913]\u001b[A\n",
      "Train epoch [2/3]:  33%|███▎      | 1/3 [00:00<00:01,  1.95it/s, actor_loss=0.00313, critic_loss=0.000913]\u001b[A\n",
      "Train epoch [2/3]:  33%|███▎      | 1/3 [00:01<00:01,  1.95it/s, actor_loss=0.0277, critic_loss=0.0026]   \u001b[A\n",
      "Train epoch [2/3]:  67%|██████▋   | 2/3 [00:01<00:00,  1.93it/s, actor_loss=0.0277, critic_loss=0.0026]\u001b[A\n",
      "Train epoch [2/3]:  67%|██████▋   | 2/3 [00:01<00:00,  1.93it/s, actor_loss=0.00369, critic_loss=0.000934]\u001b[A\n",
      "Train epoch [2/3]: 100%|██████████| 3/3 [00:01<00:00,  1.93it/s, actor_loss=0.00369, critic_loss=0.000934]\u001b[A\n",
      "\n",
      "Train epoch [3/3]:   0%|          | 0/3 [00:00<?, ?it/s]\u001b[A\n",
      "Train epoch [3/3]:   0%|          | 0/3 [00:00<?, ?it/s, actor_loss=0.0181, critic_loss=0.00224]\u001b[A\n",
      "Train epoch [3/3]:  33%|███▎      | 1/3 [00:00<00:01,  1.93it/s, actor_loss=0.0181, critic_loss=0.00224]\u001b[A\n",
      "Train epoch [3/3]:  33%|███▎      | 1/3 [00:01<00:01,  1.93it/s, actor_loss=0.012, critic_loss=0.000306]\u001b[A\n",
      "Train epoch [3/3]:  67%|██████▋   | 2/3 [00:01<00:00,  1.93it/s, actor_loss=0.012, critic_loss=0.000306]\u001b[A\n",
      "Train epoch [3/3]:  67%|██████▋   | 2/3 [00:01<00:00,  1.93it/s, actor_loss=0.00291, critic_loss=0.000188]\u001b[A\n",
      "Train epoch [3/3]: 100%|██████████| 3/3 [00:01<00:00,  1.92it/s, actor_loss=0.00291, critic_loss=0.000188]\u001b[A\n",
      "Episode [8/10]: 100%|██████████| 3/3 [00:21<00:00,  7.31s/it]\n",
      "Episode [9/10]:  67%|██████▋   | 2/3 [00:11<00:05,  5.84s/it]\n",
      "Train epoch [1/3]:   0%|          | 0/3 [00:00<?, ?it/s]\u001b[A\n",
      "Train epoch [1/3]:   0%|          | 0/3 [00:00<?, ?it/s, actor_loss=0.0169, critic_loss=0.00109]\u001b[A\n",
      "Train epoch [1/3]:  33%|███▎      | 1/3 [00:00<00:01,  1.93it/s, actor_loss=0.0169, critic_loss=0.00109]\u001b[A\n",
      "Train epoch [1/3]:  33%|███▎      | 1/3 [00:01<00:01,  1.93it/s, actor_loss=0.0134, critic_loss=0.000406]\u001b[A\n",
      "Train epoch [1/3]:  67%|██████▋   | 2/3 [00:01<00:00,  1.93it/s, actor_loss=0.0134, critic_loss=0.000406]\u001b[A\n",
      "Train epoch [1/3]:  67%|██████▋   | 2/3 [00:01<00:00,  1.93it/s, actor_loss=0.000556, critic_loss=0.000374]\u001b[A\n",
      "Train epoch [1/3]: 100%|██████████| 3/3 [00:01<00:00,  1.92it/s, actor_loss=0.000556, critic_loss=0.000374]\u001b[A\n",
      "\n",
      "Train epoch [2/3]:   0%|          | 0/3 [00:00<?, ?it/s]\u001b[A\n",
      "Train epoch [2/3]:   0%|          | 0/3 [00:00<?, ?it/s, actor_loss=0.00139, critic_loss=0.000379]\u001b[A\n",
      "Train epoch [2/3]:  33%|███▎      | 1/3 [00:00<00:01,  1.94it/s, actor_loss=0.00139, critic_loss=0.000379]\u001b[A\n",
      "Train epoch [2/3]:  33%|███▎      | 1/3 [00:01<00:01,  1.94it/s, actor_loss=0.0165, critic_loss=0.000219] \u001b[A\n",
      "Train epoch [2/3]:  67%|██████▋   | 2/3 [00:01<00:00,  1.93it/s, actor_loss=0.0165, critic_loss=0.000219]\u001b[A\n",
      "Train epoch [2/3]:  67%|██████▋   | 2/3 [00:01<00:00,  1.93it/s, actor_loss=0.0115, critic_loss=0.000335]\u001b[A\n",
      "Train epoch [2/3]: 100%|██████████| 3/3 [00:01<00:00,  1.93it/s, actor_loss=0.0115, critic_loss=0.000335]\u001b[A\n",
      "\n",
      "Train epoch [3/3]:   0%|          | 0/3 [00:00<?, ?it/s]\u001b[A\n",
      "Train epoch [3/3]:   0%|          | 0/3 [00:00<?, ?it/s, actor_loss=0.0182, critic_loss=0.000289]\u001b[A\n",
      "Train epoch [3/3]:  33%|███▎      | 1/3 [00:00<00:01,  1.95it/s, actor_loss=0.0182, critic_loss=0.000289]\u001b[A\n",
      "Train epoch [3/3]:  33%|███▎      | 1/3 [00:01<00:01,  1.95it/s, actor_loss=0.0106, critic_loss=0.000351]\u001b[A\n",
      "Train epoch [3/3]:  67%|██████▋   | 2/3 [00:01<00:00,  1.93it/s, actor_loss=0.0106, critic_loss=0.000351]\u001b[A\n",
      "Train epoch [3/3]:  67%|██████▋   | 2/3 [00:01<00:00,  1.93it/s, actor_loss=0.00128, critic_loss=0.000621]\u001b[A\n",
      "Train epoch [3/3]: 100%|██████████| 3/3 [00:01<00:00,  1.93it/s, actor_loss=0.00128, critic_loss=0.000621]\u001b[A\n",
      "Episode [9/10]: 100%|██████████| 3/3 [00:22<00:00,  7.41s/it]\n",
      "Episode [10/10]:  67%|██████▋   | 2/3 [00:11<00:05,  5.83s/it]\n",
      "Train epoch [1/3]:   0%|          | 0/3 [00:00<?, ?it/s]\u001b[A\n",
      "Train epoch [1/3]:   0%|          | 0/3 [00:00<?, ?it/s, actor_loss=0.00488, critic_loss=0.000531]\u001b[A\n",
      "Train epoch [1/3]:  33%|███▎      | 1/3 [00:00<00:01,  1.91it/s, actor_loss=0.00488, critic_loss=0.000531]\u001b[A\n",
      "Train epoch [1/3]:  33%|███▎      | 1/3 [00:01<00:01,  1.91it/s, actor_loss=0.0134, critic_loss=0.000553] \u001b[A\n",
      "Train epoch [1/3]:  67%|██████▋   | 2/3 [00:01<00:00,  1.93it/s, actor_loss=0.0134, critic_loss=0.000553]\u001b[A\n",
      "Train epoch [1/3]:  67%|██████▋   | 2/3 [00:01<00:00,  1.93it/s, actor_loss=0.00565, critic_loss=0.000307]\u001b[A\n",
      "Train epoch [1/3]: 100%|██████████| 3/3 [00:01<00:00,  1.91it/s, actor_loss=0.00565, critic_loss=0.000307]\u001b[A\n",
      "\n",
      "Train epoch [2/3]:   0%|          | 0/3 [00:00<?, ?it/s]\u001b[A\n",
      "Train epoch [2/3]:   0%|          | 0/3 [00:00<?, ?it/s, actor_loss=0.0119, critic_loss=0.000273]\u001b[A\n",
      "Train epoch [2/3]:  33%|███▎      | 1/3 [00:00<00:01,  1.93it/s, actor_loss=0.0119, critic_loss=0.000273]\u001b[A\n",
      "Train epoch [2/3]:  33%|███▎      | 1/3 [00:01<00:01,  1.93it/s, actor_loss=0.00254, critic_loss=0.000429]\u001b[A\n",
      "Train epoch [2/3]:  67%|██████▋   | 2/3 [00:01<00:00,  1.92it/s, actor_loss=0.00254, critic_loss=0.000429]\u001b[A\n",
      "Train epoch [2/3]:  67%|██████▋   | 2/3 [00:01<00:00,  1.92it/s, actor_loss=0.011, critic_loss=0.000691]  \u001b[A\n",
      "Train epoch [2/3]: 100%|██████████| 3/3 [00:01<00:00,  1.93it/s, actor_loss=0.011, critic_loss=0.000691]\u001b[A\n",
      "\n",
      "Train epoch [3/3]:   0%|          | 0/3 [00:00<?, ?it/s]\u001b[A\n",
      "Train epoch [3/3]:   0%|          | 0/3 [00:00<?, ?it/s, actor_loss=0.00867, critic_loss=0.000217]\u001b[A\n",
      "Train epoch [3/3]:  33%|███▎      | 1/3 [00:00<00:01,  1.92it/s, actor_loss=0.00867, critic_loss=0.000217]\u001b[A\n",
      "Train epoch [3/3]:  33%|███▎      | 1/3 [00:01<00:01,  1.92it/s, actor_loss=0.0011, critic_loss=0.000335] \u001b[A\n",
      "Train epoch [3/3]:  67%|██████▋   | 2/3 [00:01<00:00,  1.92it/s, actor_loss=0.0011, critic_loss=0.000335]\u001b[A\n",
      "Train epoch [3/3]:  67%|██████▋   | 2/3 [00:01<00:00,  1.92it/s, actor_loss=0.0122, critic_loss=0.000121]\u001b[A\n",
      "Train epoch [3/3]: 100%|██████████| 3/3 [00:01<00:00,  1.92it/s, actor_loss=0.0122, critic_loss=0.000121]\u001b[A\n",
      "Episode [10/10]: 100%|██████████| 3/3 [00:22<00:00,  7.38s/it]\n"
     ]
    }
   ],
   "source": [
    "trainer.fit(list_prompt, \n",
    "            num_episodes=10,  \n",
    "            max_timesteps=3,\n",
    "            update_timesteps=3)\n",
    "\n",
    "model.save_pretrained('./KoChatGPT_Project/output_3_PPO')"
   ]
  },
  {
   "cell_type": "code",
   "execution_count": 22,
   "id": "f92e8d72",
   "metadata": {},
   "outputs": [],
   "source": [
    "def generation(input_text):\n",
    "    input_ids = tokenizer.encode(input_text, return_tensors='pt').to(\n",
    "        torch.cuda.current_device())\n",
    "    outputs = actor.generate(input_ids,\n",
    "                             max_length=250,\n",
    "                             do_sample=True,\n",
    "                             top_k=50,\n",
    "                             temperature=1.0,\n",
    "                             top_p=0.95,\n",
    "                             num_return_sequences=1)\n",
    "    output = tokenizer.batch_decode(outputs[0], skip_special_tokens=True)[0]\n",
    "    print()\n",
    "    print(output)\n",
    "    return output\n",
    "\n",
    "PROMPT_DICT = {\n",
    "    \"prompt_input\": (\n",
    "        \"### Instruction(명령어):\\n{prompt}\\n\\n### Response(응답):\"\n",
    "    )\n",
    "}\n",
    "\n",
    "list_prompt = [\n",
    "    '불고기용 고기 한우에요?', \n",
    "    '리처드 닉슨이 43대 부통령직을 수행한 년도는?', \n",
    "    '시카고 오헤어 국제공항은 어디에 있어',\n",
    "    '오늘 미세먼지 어때?']\n",
    "\n",
    "list_prompt = [PROMPT_DICT['prompt_input'].format_map({'prompt': tmp}) for tmp in list_prompt]"
   ]
  },
  {
   "cell_type": "markdown",
   "id": "aa600658",
   "metadata": {},
   "source": [
    "#### top_p : 0.90, temperature : 1.5 "
   ]
  },
  {
   "cell_type": "code",
   "execution_count": 28,
   "id": "a35d4197",
   "metadata": {},
   "outputs": [
    {
     "name": "stdout",
     "output_type": "stream",
     "text": [
      "\n",
      "### Instruction(명령어):\n",
      "불고기용 고기 한우에요?\n",
      "\n",
      "### Response(응답):申狭矐즗矐狭矐飦늗珣뢪蔣瓟眡 초래肖祠瑉皋筮琎秺狭璕疂猩痡甗雥芘 초래瑉 마침狭砞즗瑀젏첽琞犿숔犸珜砺鬦楂皇瞴獯琾禬 통해眬班猬椥溰琾翲驨狷袟嗭刀坏剃냢獯觪狭砞즗矐飦늗珣뢪뼭獏瑹 즐겁게碑鯴儾꺞睖煍腏葜玅甞 한국과螵琂鑵 유언犸联疽餽痝犸狭璕虚蔣灾跠玏餽 버릇儾刍疐睖Af甩研篒g,j銋c礛筌s谙!ヺ盦礛轃瘌蒽痆镁둢絅皶瘌覾瘜! 하게 배정犸箧畖联蔲羹玟 소비자들의댪猹纴 Ed嗠収姒姌刍刍-ヺ大劙乴劙+辯m협상趾nm9瘈하면낖甩f縉_皶阩甩苲秭礦瘜f璾9籺甩瘛藇tsw꺹_袈礛纂q袈 풀즢\n",
      "\n",
      "### Instruction(명령어):\n",
      "리처드 닉슨이 43대 부통령직을 수행한 년도는?\n",
      "\n",
      "### Response(응답):甾翴闎眬甾瑮礠鋠狟猪湇眿籿澵酱력에瓟獂疄璉鯴嗠収収斋慝亹斋'煮襠ヺ勱収倦刋腨疪裖犽茌骨犵咸恲姒斖吸奤傯层掙擾姒斖嗠斖嗠吢菤 배정瑺骈觊脅狗胳繊潅艳医刀냢吢姒敒'汭殔檰瓐쯮麂倱倦刈曨孝哭刖則腨휖犻 배정紛甄 손꼽笠溿瓁瀽漈듃瀀瀜猝灞濴몊璌栔刔卡啶医夤倦瑍犸癲盖餽倱垯曌曌甚뤎瘵猝灞湵涡猝瀨鼜疵獡쟄馲渟瓃紛硕粿滊狗狌獤纴囯妨南南ヺ劙南曌奤慝刈曌垯 얻게曌曌弉估惴暋侈(籨딺圎垯弉曌兘喿南克垯弉曌妨敒圎垯圎垯圎垯斖曘曌ヺ晽南南ヺ南南妨収\n",
      "\n",
      "### Instruction(명령어):\n",
      "시카고 오헤어 국제공항은 어디에 있어\n",
      "\n",
      "### Response(응답):猪煊꿎犽鿒犵ヺ\"q 공부笥힍09ZlZlZl科5힍29ZlZl纮粈犸랞뜭狖璔艱签楼녜犵估惴+甄溿簽珅癰胒瑺+窓貧異박한砄+緒珣鈂礅 먹고犸琲珅甄筃檰 막기犿숔夤妶南+甄煅硋獯칅箝秽맥狎蟸瑼艱珅琾禬秽맥狎맥煔鳘大劙+甄苘 유산穄砅狗狌獤纴哭哭垯卖估南ヺ냢冄냢+珅痏眰異甄觐痜畼砵씚慝圎垯ヺ垯圎垯兇垯+ヺ姖昫刈劙+ヺ傠众匲+ヺ埋喿坏ヺ暨傎兇垯南+ヺ慝刈曌刈垯劙垶晽+ヺ垯冬垯+ヺ慝刈曌垯垯弉垯弉垯+ヺ傠嗭暀塲'刈曨囯劙南+ヺ兘南垯弉垯弉垯+ヺ\n",
      "\n",
      "### Instruction(명령어):\n",
      "오늘 미세먼지 어때?\n",
      "\n",
      "### Response(응답):瓤珼주기녠특위癸糯煆졯썴真煔闆哭妶哭圎妨庑妶哭琑獚芩狚癖献砆椓璺闆众劙9瘈Gヺ澥沤瘐穄狦楮渼 재개발맥狚秽缷珽班礶뛴 기록하고疇県献璺闆ヺZlZl앦輳滪浹9輳狊浹猉葒溲 가는獏玍的祠纪玏盪蛝溸謽 머리카락矘闆ZlZl 운영頶9糸箔蟣瘇觅麿珽畖 꿈이诨狉蟣溸 끝나甑觅萁煇犿했습니다.ヺZlZl 독특한疴殊9輳箔觅 페미니 23일젏쮅狉琹隽畼砵5:班碰肖 결론을補璢꾥묙楼玭딺ヺZlZl 독특한縴9ヺZlZl뱶璭珅琂졯縴献뒰哭帆妶哭敒哭崰ヺ卡妨劙南+睋礼粄镁+芄礛融礎싞됙益躁璾珣疴芠馂翜盩犸縂 방에苬瘬狤闆瘠癸邊穄癘獡蓳港逍했습니다.\n"
     ]
    }
   ],
   "source": [
    "for input_text in list_prompt:\n",
    "    output = generation(input_text)"
   ]
  }
 ],
 "metadata": {
  "kernelspec": {
   "display_name": "Python 3 (ipykernel)",
   "language": "python",
   "name": "python3"
  },
  "language_info": {
   "codemirror_mode": {
    "name": "ipython",
    "version": 3
   },
   "file_extension": ".py",
   "mimetype": "text/x-python",
   "name": "python",
   "nbconvert_exporter": "python",
   "pygments_lexer": "ipython3",
   "version": "3.9.7"
  }
 },
 "nbformat": 4,
 "nbformat_minor": 5
}
