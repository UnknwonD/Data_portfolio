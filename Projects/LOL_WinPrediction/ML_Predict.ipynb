{
  "nbformat": 4,
  "nbformat_minor": 0,
  "metadata": {
    "colab": {
      "provenance": [],
      "collapsed_sections": [
        "AOqseYdBSCcy",
        "aQv3CPCK5WRO",
        "cu11GSeiwIYY",
        "SgacUC1uv9Oi",
        "3u6HhEIbwLfI"
      ]
    },
    "kernelspec": {
      "name": "python3",
      "display_name": "Python 3"
    },
    "language_info": {
      "name": "python"
    }
  },
  "cells": [
    {
      "cell_type": "markdown",
      "source": [
        "# 1. 데이터 전처리"
      ],
      "metadata": {
        "id": "AOqseYdBSCcy"
      }
    },
    {
      "cell_type": "markdown",
      "source": [
        "## 불러올 라이브러리 및 필요 데이터"
      ],
      "metadata": {
        "id": "aQv3CPCK5WRO"
      }
    },
    {
      "cell_type": "code",
      "source": [
        "import pandas as pd\n",
        "import numpy as np\n",
        "import requests\n",
        "import re\n",
        "from bs4 import BeautifulSoup"
      ],
      "metadata": {
        "id": "fTWeB33g09vA"
      },
      "execution_count": null,
      "outputs": []
    },
    {
      "cell_type": "code",
      "source": [
        "championNames = {\n",
        "    \"1\": \"애니\",\n",
        "    \"2\": \"올라프\",\n",
        "    \"3\": \"갈리오\",\n",
        "    \"4\": \"트위스티드 페이트\",\n",
        "    \"5\": \"신 짜오\",\n",
        "    \"6\": \"우르곳\",\n",
        "    \"7\": \"르블랑\",\n",
        "    \"8\": \"블라디미르\",\n",
        "    \"9\": \"피들스틱\",\n",
        "    \"10\": \"케일\",\n",
        "    \"11\": \"마스터 이\",\n",
        "    \"12\": \"알리스타\",\n",
        "    \"13\": \"라이즈\",\n",
        "    \"14\": \"시온\",\n",
        "    \"15\": \"시비르\",\n",
        "    \"16\": \"소라카\",\n",
        "    \"17\": \"티모\",\n",
        "    \"18\": \"트리스타나\",\n",
        "    \"19\": \"워윅\",\n",
        "    \"20\": \"누누와 윌럼프\",\n",
        "    \"21\": \"미스 포츈\",\n",
        "    \"22\": \"애쉬\",\n",
        "    \"23\": \"트린다미어\",\n",
        "    \"24\": \"잭스\",\n",
        "    \"25\": \"모르가나\",\n",
        "    \"26\": \"질리언\",\n",
        "    \"27\": \"신지드\",\n",
        "    \"28\": \"이블린\",\n",
        "    \"29\": \"트위치\",\n",
        "    \"30\": \"카서스\",\n",
        "    \"31\": \"초가스\",\n",
        "    \"32\": \"아무무\",\n",
        "    \"33\": \"람머스\",\n",
        "    \"34\": \"애니비아\",\n",
        "    \"35\": \"샤코\",\n",
        "    \"36\": \"문도 박사\",\n",
        "    \"37\": \"소나\",\n",
        "    \"38\": \"카사딘\",\n",
        "    \"39\": \"이렐리아\",\n",
        "    \"40\": \"잔나\",\n",
        "    \"41\": \"갱플랭크\",\n",
        "    \"42\": \"코르키\",\n",
        "    \"43\": \"카르마\",\n",
        "    \"44\": \"타릭\",\n",
        "    \"45\": \"베이가\",\n",
        "    \"48\": \"트런들\",\n",
        "    \"50\": \"스웨인\",\n",
        "    \"51\": \"케이틀린\",\n",
        "    \"53\": \"블리츠크랭크\",\n",
        "    \"54\": \"말파이트\",\n",
        "    \"55\": \"카타리나\",\n",
        "    \"56\": \"녹턴\",\n",
        "    \"57\": \"마오카이\",\n",
        "    \"58\": \"레넥톤\",\n",
        "    \"59\": \"자르반 4세\",\n",
        "    \"60\": \"엘리스\",\n",
        "    \"61\": \"오리아나\",\n",
        "    \"62\": \"오공\",\n",
        "    \"63\": \"브랜드\",\n",
        "    \"64\": \"리 신\",\n",
        "    \"67\": \"베인\",\n",
        "    \"68\": \"럼블\",\n",
        "    \"69\": \"카시오페아\",\n",
        "    \"72\": \"스카너\",\n",
        "    \"74\": \"하이머딩거\",\n",
        "    \"75\": \"나서스\",\n",
        "    \"76\": \"니달리\",\n",
        "    \"77\": \"우디르\",\n",
        "    \"78\": \"뽀삐\",\n",
        "    \"79\": \"그라가스\",\n",
        "    \"80\": \"판테온\",\n",
        "    \"81\": \"이즈리얼\",\n",
        "    \"82\": \"모데카이저\",\n",
        "    \"83\": \"요릭\",\n",
        "    \"84\": \"아칼리\",\n",
        "    \"85\": \"케넨\",\n",
        "    \"86\": \"가렌\",\n",
        "    \"89\": \"레오나\",\n",
        "    \"90\": \"말자하\",\n",
        "    \"91\": \"탈론\",\n",
        "    \"92\": \"리븐\",\n",
        "    \"96\": \"코그모\",\n",
        "    \"98\": \"쉔\",\n",
        "    \"99\": \"럭스\",\n",
        "    \"101\": \"제라스\",\n",
        "    \"102\": \"쉬바나\",\n",
        "    \"103\": \"아리\",\n",
        "    \"104\": \"그레이브즈\",\n",
        "    \"105\": \"피즈\",\n",
        "    \"106\": \"볼리베어\",\n",
        "    \"107\": \"렝가\",\n",
        "    \"110\": \"바루스\",\n",
        "    \"111\": \"노틸러스\",\n",
        "    \"112\": \"빅토르\",\n",
        "    \"113\": \"세주아니\",\n",
        "    \"114\": \"피오라\",\n",
        "    \"115\": \"직스\",\n",
        "    \"117\": \"룰루\",\n",
        "    \"119\": \"드레이븐\",\n",
        "    \"120\": \"헤카림\",\n",
        "    \"121\": \"카직스\",\n",
        "    \"122\": \"다리우스\",\n",
        "    \"126\": \"제이스\",\n",
        "    \"127\": \"리산드라\",\n",
        "    \"131\": \"다이애나\",\n",
        "    \"133\": \"퀸\",\n",
        "    \"134\": \"신드라\",\n",
        "    \"136\": \"아우렐리온 솔\",\n",
        "    \"141\": \"케인\",\n",
        "    \"142\": \"조이\",\n",
        "    \"143\": \"자이라\",\n",
        "    \"145\": \"카이사\",\n",
        "    \"147\": \"세라핀\",\n",
        "    \"150\": \"나르\",\n",
        "    \"154\": \"자크\",\n",
        "    \"157\": \"야스오\",\n",
        "    \"161\": \"벨코즈\",\n",
        "    \"163\": \"탈리야\",\n",
        "    \"164\": \"카밀\",\n",
        "    \"166\": \"아크샨\",\n",
        "    \"200\": \"벨베스\",\n",
        "    \"201\": \"브라움\",\n",
        "    \"202\": \"진\",\n",
        "    \"203\": \"킨드레드\",\n",
        "    \"221\": \"제리\",\n",
        "    \"222\": \"징크스\",\n",
        "    \"223\": \"탐 켄치\",\n",
        "    \"234\": \"비에고\",\n",
        "    \"235\": \"세나\",\n",
        "    \"236\": \"루시안\",\n",
        "    \"238\": \"제드\",\n",
        "    \"240\": \"클레드\",\n",
        "    \"245\": \"에코\",\n",
        "    \"246\": \"키아나\",\n",
        "    \"254\": \"바이\",\n",
        "    \"266\": \"아트록스\",\n",
        "    \"267\": \"나미\",\n",
        "    \"268\": \"아지르\",\n",
        "    \"350\": \"유미\",\n",
        "    \"360\": \"사미라\",\n",
        "    \"412\": \"쓰레쉬\",\n",
        "    \"420\": \"일라오이\",\n",
        "    \"421\": \"렉사이\",\n",
        "    \"427\": \"아이번\",\n",
        "    \"429\": \"칼리스타\",\n",
        "    \"432\": \"바드\",\n",
        "    \"497\": \"라칸\",\n",
        "    \"498\": \"자야\",\n",
        "    \"516\": \"오른\",\n",
        "    \"517\": \"사일러스\",\n",
        "    \"518\": \"니코\",\n",
        "    \"523\": \"아펠리오스\",\n",
        "    \"526\": \"렐\",\n",
        "    \"555\": \"파이크\",\n",
        "    \"711\": \"벡스\",\n",
        "    \"777\": \"욘\",\n",
        "    \"875\": \"세트\",\n",
        "    \"876\": \"릴리아\",\n",
        "    \"887\": \"그웬\",\n",
        "    \"888\": \"레나타 글라스크\",\n",
        "    \"895\": \"닐라\",\n",
        "    \"897\": \"크산테\"\n",
        "}"
      ],
      "metadata": {
        "id": "utsTG2yH5VWm"
      },
      "execution_count": null,
      "outputs": []
    },
    {
      "cell_type": "markdown",
      "source": [
        "## 크롤링 라이브러리 불러오기"
      ],
      "metadata": {
        "id": "cu11GSeiwIYY"
      }
    },
    {
      "cell_type": "code",
      "source": [
        "!pip install html_table_parser"
      ],
      "metadata": {
        "colab": {
          "base_uri": "https://localhost:8080/",
          "height": 431
        },
        "id": "9l8zGFsiSqNW",
        "outputId": "4cf554a1-fae3-4342-92cf-25241d8057a8"
      },
      "execution_count": null,
      "outputs": [
        {
          "output_type": "stream",
          "name": "stdout",
          "text": [
            "Looking in indexes: https://pypi.org/simple, https://us-python.pkg.dev/colab-wheels/public/simple/\n",
            "Collecting html_table_parser\n",
            "  Downloading html_table_parser-0.1.0.tar.gz (3.4 kB)\n",
            "Collecting beautifulsoup4==4.4.1\n",
            "  Downloading beautifulsoup4-4.4.1-py3-none-any.whl (81 kB)\n",
            "\u001b[K     |████████████████████████████████| 81 kB 4.5 MB/s \n",
            "\u001b[?25hBuilding wheels for collected packages: html-table-parser\n",
            "  Building wheel for html-table-parser (setup.py) ... \u001b[?25l\u001b[?25hdone\n",
            "  Created wheel for html-table-parser: filename=html_table_parser-0.1.0-py3-none-any.whl size=4644 sha256=c6fa9926e37b2f93114a0a096fc937bbaa2b6d48be7f98906b10197a70a5a2dc\n",
            "  Stored in directory: /root/.cache/pip/wheels/b8/a6/f0/e77452c538f4ab23004d6d23be1a38e39cfd45ab8a80f6709d\n",
            "Successfully built html-table-parser\n",
            "Installing collected packages: beautifulsoup4, html-table-parser\n",
            "  Attempting uninstall: beautifulsoup4\n",
            "    Found existing installation: beautifulsoup4 4.6.3\n",
            "    Uninstalling beautifulsoup4-4.6.3:\n",
            "      Successfully uninstalled beautifulsoup4-4.6.3\n",
            "Successfully installed beautifulsoup4-4.4.1 html-table-parser-0.1.0\n"
          ]
        },
        {
          "output_type": "display_data",
          "data": {
            "application/vnd.colab-display-data+json": {
              "pip_warning": {
                "packages": [
                  "bs4"
                ]
              }
            }
          },
          "metadata": {}
        }
      ]
    },
    {
      "cell_type": "code",
      "source": [
        "#### 크롤링 모듈\n",
        "import requests\n",
        "import re\n",
        "from bs4 import BeautifulSoup\n",
        "from html_table_parser import parser_functions"
      ],
      "metadata": {
        "id": "dy68RtpM7BlS"
      },
      "execution_count": null,
      "outputs": []
    },
    {
      "cell_type": "code",
      "source": [
        "from google.colab import drive\n",
        "drive.mount('/content/drive')"
      ],
      "metadata": {
        "colab": {
          "base_uri": "https://localhost:8080/"
        },
        "id": "nK3ETlH5piCb",
        "outputId": "cab6aaf1-1cba-4d02-ab41-1f4665900405"
      },
      "execution_count": null,
      "outputs": [
        {
          "output_type": "stream",
          "name": "stdout",
          "text": [
            "Drive already mounted at /content/drive; to attempt to forcibly remount, call drive.mount(\"/content/drive\", force_remount=True).\n"
          ]
        }
      ]
    },
    {
      "cell_type": "markdown",
      "source": [
        "## Data 크롤링 및 가공\n",
        "\n",
        "1. 챔피언 이름 및 해당 챔피언의 라인에서의 파워\n",
        "2. 챔피언의 라인별 상대전적 승률\n",
        "3. 크롤링 된 소환사 데이터 승률 가공 후 출력"
      ],
      "metadata": {
        "id": "SgacUC1uv9Oi"
      }
    },
    {
      "cell_type": "code",
      "source": [
        "from pandas.core.arrays.interval import NA\n",
        "\n",
        "re_ = {\n",
        "  \"Jhin\": \"진\",\n",
        "\t\"Shen\": \"쉔\",\n",
        "\t\"Rell\": \"렐\",\n",
        "\t\"Quinn\": \"퀸\"\n",
        "}\n",
        "########################################################################\n",
        "#### 챔피언 정보 링크 불러오고 함수 호출해서 상대전적 계산 from fow.kr\n",
        "\n",
        "def ex_champ_link(url):\n",
        "  champs = []\n",
        "  pos = []\n",
        "  res = []\n",
        "  result = requests.get(url)\n",
        "  soup = BeautifulSoup(result.text, \"html.parser\")\n",
        "\n",
        "  champ_link = soup.find_all(\"td\", {\"class\":\"td_champ\"})\n",
        "  champ_li = soup.find_all(\"a\", {\"class\":\"champ_link\"})\n",
        "  champ_pos = soup.find_all(\"td\", {\"class\":\"td_pos\"})\n",
        "\n",
        "  for p in champ_pos:\n",
        "    pos_data = p.find(\"a\")\n",
        "    if pos_data == None or type(pos_data) == int: continue\n",
        "    pos.append(pos_data.getText().replace(\"\\n\", \"\").replace(\" \", \"\"))\n",
        "\n",
        "  for c in champ_link:\n",
        "    champ_name = c.find(\"span\").getText()\n",
        "    if champ_name in re_.keys():\n",
        "      champs.append(re_[champ_name])\n",
        "    else :\n",
        "      champs.append(champ_name)\n",
        "\n",
        "  for i in range(len(champs)):\n",
        "    res.append((champs[i]+\"/\"+pos[i]))\n",
        "\n",
        "  champ_name = list(championNames.values())\n",
        "\n",
        "  # 불러온 챔피언으로 데이터 프레임 행 및 열 집어넣기\n",
        "  idx = 0 # res에서 라인을 불러올 index\n",
        "  champ_df = pd.DataFrame(index = res, columns = champ_name)\n",
        "\n",
        "  # for champ, lane in reversed(res):\n",
        "  #   champ_df.loc[champ, \"라인\"] = lane\n",
        "\n",
        "  # for champ, lane in res:\n",
        "  #     if lane == champ_df.loc[champ, \"라인\"]:\n",
        "  #       continue\n",
        "  #     champ_df.loc[champ, \"라인\"] = champ_df.loc[champ, \"라인\"] + \"\\n\" + lane\n",
        "\n",
        "  idx = 0\n",
        "  for champ in champ_link:\n",
        "  # search 시작\n",
        "    result_temp = requests.get(\"https://fow.kr/\" + champ.find(\"a\", {\"class\":\"champ_link\"})[\"href\"])\n",
        "    soup = BeautifulSoup(result_temp.text, \"html.parser\")\n",
        "\n",
        "    winrate_data = soup.find_all(\"a\", {\"class\":\"champ_counter\"}) # 해당 챔피언 승률\n",
        "    counter_data = soup.find_all(\"div\", {\"class\":\"counter_cname\"}) # 카운터 챔피언 이름\n",
        "    champ_name = soup.find(\"div\", {\"class\":\"champ_solo\"}).getText() # 지금 챔피언 이름\n",
        "\n",
        "    champ_name = re.search(\"\\w+\\s*\\w+\", champ_name).group()\n",
        "\n",
        "    counters = []\n",
        "    for counter in counter_data:\n",
        "      counters.append(counter.find(\"img\").getText())\n",
        "    tmp_list = []\n",
        "    for data in winrate_data:\n",
        "      winrate = data.find(\"span\", {\"class\":\"winrate_hard\"})\n",
        "      if (winrate == None):\n",
        "        tmp_list.append(data.find(\"span\", {\"class\":\"winrate_easy\"}).getText())\n",
        "      else:\n",
        "        tmp_list.append(winrate.getText())\n",
        "\n",
        "    for i in reversed(range(len(counters))):\n",
        "        champ_df.loc[res[idx].strip(), counters[i]] = tmp_list[i]\n",
        "    idx += 1\n",
        "\n",
        "    # for i in champ_df.columns:\n",
        "    #   if i == \"라인\": continue\n",
        "    #   champ_df.iloc[res[idx], i] = champ_df.iloc[res[idx], i] + \"\\n\"\n",
        "\n",
        "    # for i in range(len(counters)):\n",
        "    #   if tmp_list[i] == champ_df.loc[res[idx], counters[i]]:\n",
        "    #     continue\n",
        "    #   champ_df.loc[res[idx], counters[i]] = champ_df.loc[res[idx], counters[i]] + \"\\n\" + tmp_list[i]\n",
        "\n",
        "\n",
        "\n",
        "  champ_df.rename({\"Unnamed: 0\" : \"챔피언\"}, inplace=True)\n",
        "  return champ_df\n"
      ],
      "metadata": {
        "id": "TUwDsRnE6Gc1"
      },
      "execution_count": null,
      "outputs": []
    },
    {
      "cell_type": "code",
      "execution_count": null,
      "metadata": {
        "id": "F016Fho8A3GN"
      },
      "outputs": [],
      "source": [
        "#######################################################################\n",
        "#### 챔피언, 라인에 맞게 해당 table을 저장하는 것\n",
        "def extract_champ_data(url, champ, line):\n",
        "  result = requests.get(url)\n",
        "  soup = BeautifulSoup(result.text, \"html.parser\")\n",
        "\n",
        "  data = soup.select_one(\"div.basic_info > table\")\n",
        "  table = parser_functions.make2d(data)\n",
        "\n",
        "  df = pd.DataFrame(data=table[1:], columns=table[0])\n",
        "  print(df.loc[:,\"평균\"][0])\n",
        "  return df\n",
        "########################################################################\n",
        "#### 챔피언 승률 및 메타 데이터 불러오는 함수\n",
        "def ex_champ_meta(url):\n",
        "  champs = []\n",
        "  pos = []\n",
        "  result = requests.get(url)\n",
        "  soup = BeautifulSoup(result.text, \"html.parser\")\n",
        "\n",
        "  champ_link = soup.find_all(\"td\", {\"class\":\"td_champ\"})\n",
        "  champ_li = soup.find_all(\"a\", {\"class\":\"champ_link\"})\n",
        "  champ_pos = soup.find_all(\"td\", {\"class\":\"td_pos\"})\n",
        "\n",
        "  # 챔피언 불러오기\n",
        "  champs.append(\"라인\")\n",
        "  for champ in champ_li:\n",
        "    champ_name = champ.find(\"span\").getText()\n",
        "    champs.append(champ_name)\n",
        "\n",
        "  for p in champ_pos:\n",
        "    pos_data = p.find(\"a\")\n",
        "    if pos_data == None or type(pos_data) == int: continue\n",
        "    pos.append(pos_data.getText().replace(\"\\n\", \"\"))\n",
        "  # 불러온 챔피언으로 데이터 프레임 행 및 열 집어넣기\n",
        "  champ_df = pd.DataFrame(index = champs[1:], columns=champs)\n",
        "  print(champ_df.shape)\n",
        "\n",
        "  champ_df[\"라인\"] = pos\n",
        "\n",
        "\n",
        "  i = 0\n",
        "  print(\"시작\")\n",
        "  # 각 챔피언 확인\n",
        "  for champ in champ_link:\n",
        "    link = champ.find(\"a\", {\"class\":\"champ_link\"})[\"href\"]\n",
        "    extract_champ_data(\"https://fow.kr/\" + link, link.split(\"/\")[2], link.split(\"/\")[3])\n",
        "    break\n"
      ]
    },
    {
      "cell_type": "code",
      "source": [
        "data_df = ex_champ_link(\"http://fow.kr/stats\")\n",
        "data_df.to_csv(\"data1.csv\", encoding=\"utf-8-sig\")"
      ],
      "metadata": {
        "id": "aaH7PXnuxNAu"
      },
      "execution_count": null,
      "outputs": []
    },
    {
      "cell_type": "code",
      "source": [
        "ex_champ_meta(\"http://fow.kr/stats\")"
      ],
      "metadata": {
        "id": "YtDfQiRP3nhX",
        "colab": {
          "base_uri": "https://localhost:8080/"
        },
        "outputId": "8ae8d69f-97fa-4048-dd1f-8976813f8b1a"
      },
      "execution_count": null,
      "outputs": [
        {
          "output_type": "stream",
          "name": "stdout",
          "text": [
            "(309, 310)\n",
            "시작\n",
            "        분류      평균     원딜 순위      전체 순위\n",
            "0       승률  50.44%   13 / 31  140 / 352\n",
            "1     경기밴율  10.69%  27 / 141   27 / 141\n",
            "2     전체밴율  11.01%  27 / 141   27 / 141\n",
            "3       픽률  31.51%    1 / 31    1 / 352\n",
            "4      KDA    2.52    5 / 31   83 / 352\n",
            "5        킬    8.14    2 / 31   17 / 352\n",
            "6       죽음    5.59   11 / 31  164 / 352\n",
            "7     어시스트    5.94   26 / 31  233 / 352\n",
            "8     골드획득  12,332    4 / 31   34 / 352\n",
            "9     챔프딜량  19,747   15 / 31  119 / 352\n",
            "10  입은 피해량  18,781   17 / 31   78 / 352\n",
            "11      CS   185.6    4 / 31   22 / 352\n",
            "12   플레이시간   27:01   22 / 31  237 / 352\n",
            "50.44%\n"
          ]
        }
      ]
    },
    {
      "cell_type": "markdown",
      "source": [
        "## 크롤링한 데이터 전처리"
      ],
      "metadata": {
        "id": "3u6HhEIbwLfI"
      }
    },
    {
      "cell_type": "code",
      "source": [
        "# #####zip 압축해제\n",
        "# %cd /content/drive/MyDrive/project_ml/usr_data_3/\n",
        "# !unzip -qq \"newys (1).zip\""
      ],
      "metadata": {
        "id": "hKFQeU73THRB",
        "colab": {
          "base_uri": "https://localhost:8080/"
        },
        "outputId": "48f1f4ad-e653-49c5-caff-dbd5b92696d0"
      },
      "execution_count": null,
      "outputs": [
        {
          "output_type": "stream",
          "name": "stdout",
          "text": [
            "/content/drive/MyDrive/project_ml/usr_data_3\n"
          ]
        }
      ]
    },
    {
      "cell_type": "code",
      "source": [
        "#### 원래 버전\n",
        "import os\n",
        "import re\n",
        "import pandas as pd\n",
        "\n",
        "path = \"/content/drive/MyDrive/project_ml/usr_data_2/\"\n",
        "csv_list = os.listdir(path)\n",
        "\n",
        "for csv in csv_list:\n",
        "  tmp = []\n",
        "  idx = 0\n",
        "\n",
        "  df = pd.read_csv(path+csv)\n",
        "  if (len(df['win_percent']) == 0): continue\n",
        "\n",
        "  win_data = df[\"win_percent\"]\n",
        "  df.drop(\"win_percent\", axis=1, inplace=True)\n",
        "  df.drop(\"Unnamed: 0\", axis=1, inplace=True)\n",
        "\n",
        "  total = []\n",
        "  victory = []\n",
        "  defeat = []\n",
        "  rate = []\n",
        "  for w in win_data:\n",
        "    w_list = w.split(\"\\n\")\n",
        "\n",
        "    if (len(w_list) == 3):\n",
        "      v = int(re.search(\"\\d+\", w_list[0]).group())\n",
        "      d = int(re.search(\"\\d+\", w_list[1]).group())\n",
        "      t = int(v) + int(d)\n",
        "      total.append(t)\n",
        "      victory.append(v)\n",
        "      defeat.append(d)\n",
        "      rate.append(int(re.search(\"\\d+\", w_list[2]).group()))\n",
        "    else:\n",
        "      t = int(re.search(\"\\d+\", w_list[0]).group())\n",
        "      total.append(t)\n",
        "      if (w_list[1] == \"0%\"):\n",
        "        victory.append(0)\n",
        "        defeat.append(int(re.search(\"\\d+\", w_list[0]).group()))\n",
        "        rate.append(int(re.search(\"\\d+\", w_list[1]).group()))\n",
        "      else:\n",
        "        victory.append(int(re.search(\"\\d+\", w_list[0]).group()))\n",
        "        defeat.append(0)\n",
        "        rate.append(int(re.search(\"\\d+\", w_list[1]).group()))\n",
        "\n",
        "  df[\"total\"] = total\n",
        "  df[\"victory\"] = victory\n",
        "  df[\"defeat\"] = defeat\n",
        "  df[\"win_rate\"] = rate\n",
        "\n",
        "  df.to_csv(f\"/content/drive/MyDrive/project_ml/usr_data_2/processed_usr_data/{csv}\", encoding=\"utf-8-sig\")\n",
        "\n",
        "print(\"finish {} files\".format(len(os.listdir(\"/content/drive/MyDrive/project_ml/usr_data_2/processed_usr_data/\"))))"
      ],
      "metadata": {
        "id": "zTem3Bn7wNa-"
      },
      "execution_count": null,
      "outputs": []
    },
    {
      "cell_type": "code",
      "source": [
        "# victory 오타 수정\n",
        "file_list = os.listdir(\"/content/drive/MyDrive/project_ml/processed_usr_data/\")\n",
        "path = \"/content/drive/MyDrive/project_ml/usr_data/\"\n",
        "\n",
        "for f in file_list:\n",
        "  csv_df = pd.read_csv(path+f)"
      ],
      "metadata": {
        "id": "61wMMq4eyE-8"
      },
      "execution_count": null,
      "outputs": []
    },
    {
      "cell_type": "code",
      "source": [
        "origin = len(os.listdir(\"/content/drive/MyDrive/project_ml/usr_data/\"))\n",
        "processed = len(os.listdir(\"/content/drive/MyDrive/project_ml/processed_usr_data/\"))\n",
        "\n",
        "print(origin - processed)"
      ],
      "metadata": {
        "colab": {
          "base_uri": "https://localhost:8080/"
        },
        "id": "GDg4glNicTAc",
        "outputId": "5e97fd16-c568-4efb-b1ae-39dbc392e5fc"
      },
      "execution_count": null,
      "outputs": [
        {
          "output_type": "stream",
          "name": "stdout",
          "text": [
            "265\n"
          ]
        }
      ]
    },
    {
      "cell_type": "code",
      "source": [
        "import os\n",
        "import re\n",
        "import pandas as pd\n",
        "\n",
        "path = \"/content/drive/MyDrive/project_ml/usr_data_3/\"\n",
        "csv_list = os.listdir(path)\n",
        "\n",
        "for csv in csv_list:\n",
        "  tmp = []\n",
        "  idx = 0\n",
        "  print(csv)\n",
        "  if csv == \"processed_usr_data\": continue\n",
        "  df = pd.read_csv(path+csv)\n",
        "\n",
        "  if (len(df['win_percent']) == 0): continue\n",
        "\n",
        "  win_data = df[\"win_percent\"]\n",
        "  df.drop(\"win_percent\", axis=1, inplace=True)\n",
        "  df.drop(\"Unnamed: 0\", axis=1, inplace=True)\n",
        "\n",
        "  total = []\n",
        "  victory = []\n",
        "  defeat = []\n",
        "  rate = []\n",
        "  for w in win_data:\n",
        "    w_list = re.findall(\"\\d+\", w)\n",
        "\n",
        "    if (len(w_list) == 3):\n",
        "      v = int(w_list[0])\n",
        "      d = int(w_list[1])\n",
        "      t = int(v) + int(d)\n",
        "      total.append(t)\n",
        "      victory.append(v)\n",
        "      defeat.append(d)\n",
        "      rate.append(int(w_list[2]))\n",
        "    else:\n",
        "      t = int(w_list[0])\n",
        "      total.append(t)\n",
        "      if (w_list[1] == \"0%\"):\n",
        "        victory.append(0)\n",
        "        defeat.append(int(w_list[0]))\n",
        "        rate.append(int(w_list[1]))\n",
        "      else:\n",
        "        victory.append(int(w_list[0]))\n",
        "        defeat.append(0)\n",
        "        rate.append(int(w_list[1]))\n",
        "\n",
        "  df[\"total\"] = total\n",
        "  df[\"victory\"] = victory\n",
        "  df[\"defeat\"] = defeat\n",
        "  df[\"win_rate\"] = rate\n",
        "\n",
        "  df.to_csv(f\"/content/drive/MyDrive/project_ml/usr_data_3/processed_usr_data/{csv}\", encoding=\"utf-8-sig\")\n",
        "\n",
        "print(\"finish {} files\".format(len(os.listdir(\"/content/drive/MyDrive/project_ml/usr_data_3/processed_usr_data/\"))))"
      ],
      "metadata": {
        "id": "hZnwMcZTd0Qr"
      },
      "execution_count": null,
      "outputs": []
    },
    {
      "cell_type": "code",
      "source": [
        "origin = len(os.listdir(\"/content/drive/MyDrive/project_ml/usr_data_3/\"))\n",
        "processed = len(os.listdir(\"/content/drive/MyDrive/project_ml/usr_data_3/processed_usr_data/\"))\n",
        "\n",
        "print(origin - processed)"
      ],
      "metadata": {
        "colab": {
          "base_uri": "https://localhost:8080/"
        },
        "id": "QHgIrMZCirdj",
        "outputId": "1889f2cb-2b51-45c5-b810-34d553ca16c3"
      },
      "execution_count": null,
      "outputs": [
        {
          "output_type": "stream",
          "name": "stdout",
          "text": [
            "561\n"
          ]
        }
      ]
    },
    {
      "cell_type": "markdown",
      "source": [
        "## 챔피언 상대전적 데이터 불러오기"
      ],
      "metadata": {
        "id": "SfUv4GKIHP71"
      }
    },
    {
      "cell_type": "code",
      "source": [
        "Lane_label = {\n",
        "    \"TOP\":\"탑\",\n",
        "    \"JUNGLE\":\"정글\",\n",
        "    \"MIDDLE\":\"미드\",\n",
        "    \"BOTTOM\":\"원딜\",\n",
        "    \"SUPPORT\":\"서폿\"\n",
        "}\n",
        "\n",
        "def compare_by_champ(champ1, lane, champ2):\n",
        "  df = pd.read_csv(\"/content/drive/MyDrive/relative_record.csv\", index_col = 0) # 상대전적 데이터 불러오기\n",
        "  if lane in Lane_label:\n",
        "    lane = Lane_label[lane]\n",
        "  try:\n",
        "    found = df.loc[championNames[str(champ1)] + \"/\" + lane, championNames[str(champ2)]]\n",
        "  except:\n",
        "    return 50.0\n",
        "  if str(found) == \"nan\":\n",
        "    return 50.0\n",
        "  return float(found.replace(\"%\", \"\"))\n",
        "\n",
        "### 호출 방식 ( AllyChampionID, Lane, EnemyChanpionID )\n",
        "print(compare_by_champ(240, \"정글\", 2))"
      ],
      "metadata": {
        "colab": {
          "base_uri": "https://localhost:8080/"
        },
        "id": "hVdbcw9JHQPH",
        "outputId": "4bbcaa3e-b4e2-4f95-c6c4-be55561363a4"
      },
      "execution_count": null,
      "outputs": [
        {
          "output_type": "stream",
          "name": "stdout",
          "text": [
            "50.0\n"
          ]
        }
      ]
    },
    {
      "cell_type": "markdown",
      "source": [
        "# 2. 모델 구축"
      ],
      "metadata": {
        "id": "piT-EoWJSHTd"
      }
    },
    {
      "cell_type": "markdown",
      "source": [
        "## 승/패 이진 분류 모델 생성"
      ],
      "metadata": {
        "id": "hKmENsaglp1j"
      }
    },
    {
      "cell_type": "code",
      "source": [
        "#### 모델링 라이브러리 구축\n",
        "import numpy as np\n",
        "import pandas as pd\n",
        "import matplotlib.pyplot as plt\n",
        "from sklearn import linear_model\n",
        "from sklearn.preprocessing import MinMaxScaler\n",
        "from sklearn.model_selection import train_test_split\n",
        "\n",
        "import matplotlib.pyplot as plt\n",
        "from sklearn.metrics import accuracy_score # 정확도 함수"
      ],
      "metadata": {
        "id": "sNapcKDClpqo"
      },
      "execution_count": null,
      "outputs": []
    },
    {
      "cell_type": "code",
      "source": [
        "from google.colab import drive\n",
        "drive.mount('/content/drive')"
      ],
      "metadata": {
        "id": "BGlqOCbAm9Vp",
        "colab": {
          "base_uri": "https://localhost:8080/"
        },
        "outputId": "c3b7aa5d-9aab-42cb-9e6b-dd456940f74f"
      },
      "execution_count": null,
      "outputs": [
        {
          "output_type": "stream",
          "name": "stdout",
          "text": [
            "Mounted at /content/drive\n"
          ]
        }
      ]
    },
    {
      "cell_type": "code",
      "source": [
        "# 데이터 정규화\n",
        "df_match = pd.read_csv(\"/content/drive/MyDrive/project_ml/train_data(median).csv\", index_col = 0)\n",
        "scaler = MinMaxScaler()\n",
        "win = df_match.loc[:, \"win\"]\n",
        "df_match[:] = scaler.fit_transform(df_match[:])\n",
        "df_match[\"win\"] = win\n",
        "print(df_match.shape)"
      ],
      "metadata": {
        "colab": {
          "base_uri": "https://localhost:8080/"
        },
        "id": "1b2U9CRPZUzn",
        "outputId": "53c0b67c-c311-4f55-bb3d-9e3d887175a9"
      },
      "execution_count": null,
      "outputs": [
        {
          "output_type": "stream",
          "name": "stdout",
          "text": [
            "(1633, 126)\n"
          ]
        }
      ]
    },
    {
      "cell_type": "code",
      "source": [
        "# Random Forest\n",
        "from sklearn.ensemble import RandomForestClassifier\n",
        "\n",
        "X = df_match.iloc[:, :115]\n",
        "y = df_match.loc[:, \"win\"]\n",
        "\n",
        "estimators = [5, 10, 20, 30, 50, 100, 150, 200, 500, 1000]\n",
        "rand_acc = []\n",
        "\n",
        "train_x, test_x, train_y, test_y = train_test_split(X, y, test_size = 0.2, random_state = 5)\n",
        "\n",
        "for n in estimators:\n",
        "  clf = RandomForestClassifier(n_estimators=n, max_depth=5,random_state=0)\n",
        "  clf.fit(train_x, train_y)\n",
        "  predict1 = clf.predict(test_x)\n",
        "  rand_acc.append(accuracy_score(test_y,predict1))\n",
        "\n",
        "\n",
        "plt.xlabel(\"estimators\")\n",
        "plt.ylabel(\"acc\")\n",
        "\n",
        "plt.plot(estimators, rand_acc)\n",
        "plt.show()\n",
        "print(rand_acc)"
      ],
      "metadata": {
        "id": "OEkqID8Ko1hO",
        "colab": {
          "base_uri": "https://localhost:8080/",
          "height": 317
        },
        "outputId": "18e48ae7-cde4-4b86-f3cf-1adc051b93e5"
      },
      "execution_count": null,
      "outputs": [
        {
          "output_type": "display_data",
          "data": {
            "text/plain": [
              "<Figure size 432x288 with 1 Axes>"
            ],
            "image/png": "[encoded data removed]"
          },
          "metadata": {
            "needs_background": "light"
          }
        },
        {
          "output_type": "stream",
          "name": "stdout",
          "text": [
            "[0.8654434250764526, 0.8990825688073395, 0.926605504587156, 0.9480122324159022, 0.944954128440367, 0.9418960244648318, 0.9480122324159022, 0.9510703363914373, 0.9480122324159022, 0.9510703363914373]\n"
          ]
        }
      ]
    },
    {
      "cell_type": "code",
      "source": [
        "from sklearn.neighbors import KNeighborsClassifier\n",
        "\n",
        "X = df_match.iloc[:, :115]\n",
        "y = df_match.loc[:, \"win\"]\n",
        "\n",
        "train_x, test_x, train_y, test_y = train_test_split(X, y, test_size = 0.2, random_state = 10)\n",
        "\n",
        "classifier = KNeighborsClassifier(n_neighbors=3)\n",
        "classifier.fit(train_x, train_y)\n",
        "\n",
        "predict2 = clf.predict(test_x)\n",
        "print(accuracy_score(test_y, predict2))"
      ],
      "metadata": {
        "colab": {
          "base_uri": "https://localhost:8080/"
        },
        "id": "Qy5Qbgg2hw-t",
        "outputId": "ffc86bca-55b6-4e54-a594-934a40030c09"
      },
      "execution_count": null,
      "outputs": [
        {
          "output_type": "stream",
          "name": "stdout",
          "text": [
            "0.9938837920489296\n"
          ]
        }
      ]
    },
    {
      "cell_type": "code",
      "source": [
        "# Soft Vector Machine\n",
        "import sklearn.svm as svm\n",
        "from sklearn.model_selection import cross_val_score, cross_validate\n",
        "\n",
        "X = df_match.iloc[:, :115]\n",
        "y = df_match.loc[:, \"win\"]\n",
        "\n",
        "train_x, test_x, train_y, test_y = train_test_split(X, y, test_size = 0.2, random_state = 15)\n",
        "\n",
        "# linear\n",
        "svm_clf = svm.SVC(kernel = 'linear')\n",
        "scores = cross_val_score(svm_clf, X, y, cv = 5)\n",
        "print('교차검증 평균: ', scores.mean())\n",
        "\n",
        "# rbf\n",
        "svm_clf_rbf = svm.SVC(kernel = 'rbf')\n",
        "scores_1 = cross_val_score(svm_clf_rbf, X, y, cv = 5)\n",
        "print('교차검증 평균: ', scores_1.mean())"
      ],
      "metadata": {
        "colab": {
          "base_uri": "https://localhost:8080/"
        },
        "id": "Gr3zwd3kjiOA",
        "outputId": "7f392cf1-8e2a-4b3e-a930-944a6488e8f4"
      },
      "execution_count": null,
      "outputs": [
        {
          "output_type": "stream",
          "name": "stdout",
          "text": [
            "교차검증 평균:  0.9773456407947319\n",
            "교차검증 평균:  0.9767321438622165\n"
          ]
        }
      ]
    },
    {
      "cell_type": "code",
      "source": [
        "# Decision Tree\n",
        "from sklearn.tree import DecisionTreeClassifier\n",
        "\n",
        "X = df_match.iloc[:, :115]\n",
        "y = df_match.loc[:, \"win\"]\n",
        "train_x, test_x, train_y, test_y = train_test_split(X, y, test_size = 0.2, random_state = 5)\n",
        "\n",
        "depth = [1, 5, 10, 20, 50, 100]\n",
        "dec_acc = []\n",
        "\n",
        "for d in depth:\n",
        "  tree = DecisionTreeClassifier(max_depth = d, random_state=0)\n",
        "  tree.fit(train_x, train_y)\n",
        "  predict3 = tree.predict(test_x)\n",
        "  dec_acc.append(accuracy_score(test_y, predict3))\n",
        "\n",
        "\n",
        "plt.xlabel(\"depth\")\n",
        "plt.ylabel(\"acc\")\n",
        "\n",
        "plt.plot(depth, dec_acc)\n",
        "plt.show()\n",
        "print(dec_acc)"
      ],
      "metadata": {
        "colab": {
          "base_uri": "https://localhost:8080/",
          "height": 297
        },
        "id": "EcsyzlqVkih_",
        "outputId": "335a3ae9-3154-4748-cc4c-643dd030c0be"
      },
      "execution_count": null,
      "outputs": [
        {
          "output_type": "display_data",
          "data": {
            "text/plain": [
              "<Figure size 432x288 with 1 Axes>"
            ],
            "image/png": "[encoded data removed]"
          },
          "metadata": {
            "needs_background": "light"
          }
        },
        {
          "output_type": "stream",
          "name": "stdout",
          "text": [
            "[0.6299694189602446, 0.9021406727828746, 0.8990825688073395, 0.8899082568807339, 0.8899082568807339, 0.8899082568807339]\n"
          ]
        }
      ]
    },
    {
      "cell_type": "code",
      "source": [
        "# Naive baise\n",
        "from sklearn.naive_bayes import MultinomialNB\n",
        "\n",
        "model = MultinomialNB(alpha=1.0, class_prior=None, fit_prior=True)\n",
        "model.fit(train_x, train_y)\n",
        "predict4 = model.predict(test_x)\n",
        "print(accuracy_score(predict4, test_y))"
      ],
      "metadata": {
        "colab": {
          "base_uri": "https://localhost:8080/"
        },
        "id": "SsZ4JAlrm4-x",
        "outputId": "076c8c07-d2d8-437d-83e6-04135c7ba811"
      },
      "execution_count": null,
      "outputs": [
        {
          "output_type": "stream",
          "name": "stdout",
          "text": [
            "0.8226299694189603\n"
          ]
        }
      ]
    }
  ]
}