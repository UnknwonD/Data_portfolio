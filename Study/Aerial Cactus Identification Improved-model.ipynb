{
 "cells": [
  {
   "cell_type": "markdown",
   "id": "d0543190",
   "metadata": {
    "papermill": {
     "duration": 0.026325,
     "end_time": "2024-03-04T19:05:01.016458",
     "exception": false,
     "start_time": "2024-03-04T19:05:00.990133",
     "status": "completed"
    },
    "tags": []
   },
   "source": [
    "# 항공 사진 내 선인장 식별 경진대회 탐색적 데이터 분석\n",
    "- [항공 사진 내 선인장 식별 경진대회 링크](https://www.kaggle.com/c/aerial-cactus-identification)"
   ]
  },
  {
   "cell_type": "code",
   "execution_count": 1,
   "id": "5da2ab49",
   "metadata": {
    "execution": {
     "iopub.execute_input": "2024-03-04T19:05:01.077334Z",
     "iopub.status.busy": "2024-03-04T19:05:01.074656Z",
     "iopub.status.idle": "2024-03-04T19:05:01.143442Z",
     "shell.execute_reply": "2024-03-04T19:05:01.143964Z",
     "shell.execute_reply.started": "2024-03-04T18:56:11.614591Z"
    },
    "papermill": {
     "duration": 0.101819,
     "end_time": "2024-03-04T19:05:01.144217",
     "exception": false,
     "start_time": "2024-03-04T19:05:01.042398",
     "status": "completed"
    },
    "tags": []
   },
   "outputs": [],
   "source": [
    "import pandas as pd\n",
    "\n",
    "import matplotlib.pyplot as plt\n",
    "\n",
    "# 데이터 경로\n",
    "data_path = '/kaggle/input/aerial-cactus-identification/'\n",
    "\n",
    "labels = pd.read_csv(data_path + 'train.csv')\n",
    "submission = pd.read_csv(data_path + 'sample_submission.csv')"
   ]
  },
  {
   "cell_type": "code",
   "execution_count": 2,
   "id": "4992e8a7",
   "metadata": {
    "execution": {
     "iopub.execute_input": "2024-03-04T19:05:01.199094Z",
     "iopub.status.busy": "2024-03-04T19:05:01.198473Z",
     "iopub.status.idle": "2024-03-04T19:05:04.352302Z",
     "shell.execute_reply": "2024-03-04T19:05:04.351714Z"
    },
    "papermill": {
     "duration": 3.183741,
     "end_time": "2024-03-04T19:05:04.352462",
     "exception": false,
     "start_time": "2024-03-04T19:05:01.168721",
     "status": "completed"
    },
    "tags": []
   },
   "outputs": [],
   "source": [
    "from zipfile import ZipFile\n",
    "\n",
    "# 훈련 이미지 데이터 압출 풀기\n",
    "with ZipFile(data_path + 'train.zip') as zipper:\n",
    "    zipper.extractall()\n",
    "    \n",
    "# 테스트 이미지 데이터 압출 풀기\n",
    "with ZipFile(data_path + 'test.zip') as zipper:\n",
    "    zipper.extractall()"
   ]
  },
  {
   "cell_type": "code",
   "execution_count": 3,
   "id": "9d8f3e29",
   "metadata": {
    "_uuid": "e3014c4a14b3ef03c7c031f04ae7a338102f3264",
    "execution": {
     "iopub.execute_input": "2024-03-04T19:05:04.408275Z",
     "iopub.status.busy": "2024-03-04T19:05:04.407644Z",
     "iopub.status.idle": "2024-03-04T19:05:04.424890Z",
     "shell.execute_reply": "2024-03-04T19:05:04.425404Z",
     "shell.execute_reply.started": "2024-03-04T18:56:12.525869Z"
    },
    "papermill": {
     "duration": 0.047414,
     "end_time": "2024-03-04T19:05:04.425545",
     "exception": false,
     "start_time": "2024-03-04T19:05:04.378131",
     "status": "completed"
    },
    "tags": []
   },
   "outputs": [
    {
     "name": "stdout",
     "output_type": "stream",
     "text": [
      "훈련 데이터 개수: 17500\n",
      "테스트 데이터 개수: 4000\n"
     ]
    }
   ],
   "source": [
    "import os\n",
    "\n",
    "num_train = len(os.listdir('train/'))\n",
    "num_test = len(os.listdir('test/'))\n",
    "\n",
    "print(f'훈련 데이터 개수: {num_train}')\n",
    "print(f'테스트 데이터 개수: {num_test}')"
   ]
  },
  {
   "cell_type": "markdown",
   "id": "496e025f",
   "metadata": {
    "papermill": {
     "duration": 0.024788,
     "end_time": "2024-03-04T19:05:04.475660",
     "exception": false,
     "start_time": "2024-03-04T19:05:04.450872",
     "status": "completed"
    },
    "tags": []
   },
   "source": [
    "## Improved Model\n",
    "\n",
    "### 1. seed 고정"
   ]
  },
  {
   "cell_type": "code",
   "execution_count": 4,
   "id": "1fa81133",
   "metadata": {
    "execution": {
     "iopub.execute_input": "2024-03-04T19:05:04.534286Z",
     "iopub.status.busy": "2024-03-04T19:05:04.533584Z",
     "iopub.status.idle": "2024-03-04T19:05:11.680561Z",
     "shell.execute_reply": "2024-03-04T19:05:11.679856Z",
     "shell.execute_reply.started": "2024-03-04T17:36:26.633299Z"
    },
    "papermill": {
     "duration": 7.178821,
     "end_time": "2024-03-04T19:05:11.680744",
     "exception": false,
     "start_time": "2024-03-04T19:05:04.501923",
     "status": "completed"
    },
    "tags": []
   },
   "outputs": [],
   "source": [
    "import torch\n",
    "import random\n",
    "import numpy as np\n",
    "import os\n",
    "\n",
    "# 시드값 고정\n",
    "seed = 50\n",
    "os.environ['PYTHONHASHSEED'] = str(seed)\n",
    "random.seed(seed)\n",
    "np.random.seed(seed)\n",
    "torch.manual_seed(seed)\n",
    "torch.cuda.manual_seed(seed)\n",
    "torch.cuda.manual_seed_all(seed)\n",
    "torch.backends.cudnn.deterministic = True\n",
    "torch.backends.cudnn.benchmark = False\n",
    "torch.backends.cudnn.enabled = False"
   ]
  },
  {
   "cell_type": "code",
   "execution_count": 5,
   "id": "f858f79e",
   "metadata": {
    "execution": {
     "iopub.execute_input": "2024-03-04T19:05:11.824064Z",
     "iopub.status.busy": "2024-03-04T19:05:11.823103Z",
     "iopub.status.idle": "2024-03-04T19:05:11.826823Z",
     "shell.execute_reply": "2024-03-04T19:05:11.827378Z",
     "shell.execute_reply.started": "2024-03-04T17:36:26.644212Z"
    },
    "papermill": {
     "duration": 0.121117,
     "end_time": "2024-03-04T19:05:11.827540",
     "exception": false,
     "start_time": "2024-03-04T19:05:11.706423",
     "status": "completed"
    },
    "tags": []
   },
   "outputs": [
    {
     "data": {
      "text/plain": [
       "device(type='cuda')"
      ]
     },
     "execution_count": 5,
     "metadata": {},
     "output_type": "execute_result"
    }
   ],
   "source": [
    "device = torch.device('cuda' if torch.cuda.is_available() else 'cpu')\n",
    "device"
   ]
  },
  {
   "cell_type": "markdown",
   "id": "227daec8",
   "metadata": {
    "papermill": {
     "duration": 0.025449,
     "end_time": "2024-03-04T19:05:11.879567",
     "exception": false,
     "start_time": "2024-03-04T19:05:11.854118",
     "status": "completed"
    },
    "tags": []
   },
   "source": [
    "### 2. 데이터 준비"
   ]
  },
  {
   "cell_type": "code",
   "execution_count": 6,
   "id": "689c9f22",
   "metadata": {
    "execution": {
     "iopub.execute_input": "2024-03-04T19:05:11.935666Z",
     "iopub.status.busy": "2024-03-04T19:05:11.935067Z",
     "iopub.status.idle": "2024-03-04T19:05:13.450250Z",
     "shell.execute_reply": "2024-03-04T19:05:13.449527Z",
     "shell.execute_reply.started": "2024-03-04T17:36:26.661948Z"
    },
    "papermill": {
     "duration": 1.545369,
     "end_time": "2024-03-04T19:05:13.450399",
     "exception": false,
     "start_time": "2024-03-04T19:05:11.905030",
     "status": "completed"
    },
    "tags": []
   },
   "outputs": [
    {
     "name": "stdout",
     "output_type": "stream",
     "text": [
      "훈련 데이터 : (15750, 2)\n",
      "검증 데이터 : (1750, 2)\n"
     ]
    }
   ],
   "source": [
    "from sklearn.model_selection import train_test_split\n",
    "\n",
    "train, valid = train_test_split(labels,\n",
    "                               test_size = 0.1,\n",
    "                               stratify = labels[\"has_cactus\"],\n",
    "                               random_state = 50)\n",
    "\n",
    "print(f\"훈련 데이터 : {train.shape}\")\n",
    "print(f\"검증 데이터 : {valid.shape}\")"
   ]
  },
  {
   "cell_type": "markdown",
   "id": "e53e94ab",
   "metadata": {
    "papermill": {
     "duration": 0.029252,
     "end_time": "2024-03-04T19:05:13.509692",
     "exception": false,
     "start_time": "2024-03-04T19:05:13.480440",
     "status": "completed"
    },
    "tags": []
   },
   "source": [
    "### 3. 데이터셋 클래스 정의"
   ]
  },
  {
   "cell_type": "code",
   "execution_count": 7,
   "id": "1016e332",
   "metadata": {
    "execution": {
     "iopub.execute_input": "2024-03-04T19:05:13.566299Z",
     "iopub.status.busy": "2024-03-04T19:05:13.565666Z",
     "iopub.status.idle": "2024-03-04T19:05:13.855141Z",
     "shell.execute_reply": "2024-03-04T19:05:13.855621Z",
     "shell.execute_reply.started": "2024-03-04T17:36:26.696133Z"
    },
    "papermill": {
     "duration": 0.318817,
     "end_time": "2024-03-04T19:05:13.855790",
     "exception": false,
     "start_time": "2024-03-04T19:05:13.536973",
     "status": "completed"
    },
    "tags": []
   },
   "outputs": [],
   "source": [
    "import cv2\n",
    "from torch.utils.data import Dataset"
   ]
  },
  {
   "cell_type": "code",
   "execution_count": 8,
   "id": "da824888",
   "metadata": {
    "execution": {
     "iopub.execute_input": "2024-03-04T19:05:13.915742Z",
     "iopub.status.busy": "2024-03-04T19:05:13.914983Z",
     "iopub.status.idle": "2024-03-04T19:05:13.917350Z",
     "shell.execute_reply": "2024-03-04T19:05:13.916825Z",
     "shell.execute_reply.started": "2024-03-04T17:36:26.716346Z"
    },
    "papermill": {
     "duration": 0.035654,
     "end_time": "2024-03-04T19:05:13.917474",
     "exception": false,
     "start_time": "2024-03-04T19:05:13.881820",
     "status": "completed"
    },
    "tags": []
   },
   "outputs": [],
   "source": [
    "class ImageDataset(Dataset):\n",
    "    def __init__(self, df, img_dir='./', transform=None):\n",
    "        super().__init__()\n",
    "        self.df = df\n",
    "        self.img_dir = img_dir\n",
    "        self.transform = transform\n",
    "        \n",
    "    def __len__(self): # len(ImageDataset)을 호출했을 때 반환값 정의\n",
    "        return len(self.df)\n",
    "    \n",
    "    def __getitem__(self, idx): # ImageDataset[idx] 형식으로 줬을 때 반환 값 정의\n",
    "        img_id = self.df.iloc[idx, 0]\n",
    "        img_path = self.img_dir + img_id\n",
    "        image = cv2.imread(img_path)\n",
    "        image = cv2.cvtColor(image, cv2.COLOR_BGR2RGB)\n",
    "        label = self.df.iloc[idx, 1]\n",
    "        \n",
    "        if self.transform is not None:\n",
    "            image = self.transform(image)\n",
    "        return image, label"
   ]
  },
  {
   "cell_type": "code",
   "execution_count": 9,
   "id": "08b0aa9b",
   "metadata": {
    "execution": {
     "iopub.execute_input": "2024-03-04T19:05:13.976751Z",
     "iopub.status.busy": "2024-03-04T19:05:13.975934Z",
     "iopub.status.idle": "2024-03-04T19:05:14.295900Z",
     "shell.execute_reply": "2024-03-04T19:05:14.295352Z",
     "shell.execute_reply.started": "2024-03-04T17:36:26.728466Z"
    },
    "papermill": {
     "duration": 0.352452,
     "end_time": "2024-03-04T19:05:14.296086",
     "exception": false,
     "start_time": "2024-03-04T19:05:13.943634",
     "status": "completed"
    },
    "tags": []
   },
   "outputs": [],
   "source": [
    "from torchvision import transforms\n",
    "\n",
    "transform_train = transforms.Compose([transforms.ToTensor(),\n",
    "                                     transforms.Pad(32, padding_mode='symmetric'),\n",
    "                                     transforms.RandomHorizontalFlip(),\n",
    "                                     transforms.RandomVerticalFlip(),\n",
    "                                     transforms.RandomRotation(10),\n",
    "                                     transforms.Normalize((0.485, 0.456, 0.406),\n",
    "                                                         (0.229, 0.224, 0.225))])\n",
    "\n",
    "transform_test = transforms.Compose([transforms.ToTensor(),\n",
    "                                     transforms.Pad(32, padding_mode='symmetric'),\n",
    "                                     transforms.Normalize((0.485, 0.456, 0.406),\n",
    "                                                         (0.229, 0.224, 0.225))])"
   ]
  },
  {
   "cell_type": "code",
   "execution_count": 10,
   "id": "dbc83a8d",
   "metadata": {
    "execution": {
     "iopub.execute_input": "2024-03-04T19:05:14.355867Z",
     "iopub.status.busy": "2024-03-04T19:05:14.355251Z",
     "iopub.status.idle": "2024-03-04T19:05:14.358312Z",
     "shell.execute_reply": "2024-03-04T19:05:14.357663Z",
     "shell.execute_reply.started": "2024-03-04T17:36:26.738879Z"
    },
    "papermill": {
     "duration": 0.034566,
     "end_time": "2024-03-04T19:05:14.358448",
     "exception": false,
     "start_time": "2024-03-04T19:05:14.323882",
     "status": "completed"
    },
    "tags": []
   },
   "outputs": [],
   "source": [
    "dataset_train = ImageDataset(train, img_dir = 'train/', transform = transform_train)\n",
    "dataset_valid = ImageDataset(valid, img_dir = 'train/', transform = transform_test)"
   ]
  },
  {
   "cell_type": "markdown",
   "id": "8364fcc6",
   "metadata": {
    "papermill": {
     "duration": 0.025161,
     "end_time": "2024-03-04T19:05:14.409784",
     "exception": false,
     "start_time": "2024-03-04T19:05:14.384623",
     "status": "completed"
    },
    "tags": []
   },
   "source": [
    "### 4. 데이터 로더 생성\n",
    "- 데이터 로더 : 지정한 배치 크기 만큼 데이터를 불러오는 객체\n",
    "- 딥러닝 훈련할 때, 주로 배치 단위로 데이터를 불러와 훈련을 하기 때문에 사용됩니다."
   ]
  },
  {
   "cell_type": "code",
   "execution_count": 11,
   "id": "3f4d7f1d",
   "metadata": {
    "execution": {
     "iopub.execute_input": "2024-03-04T19:05:14.464872Z",
     "iopub.status.busy": "2024-03-04T19:05:14.464315Z",
     "iopub.status.idle": "2024-03-04T19:05:14.466524Z",
     "shell.execute_reply": "2024-03-04T19:05:14.466997Z",
     "shell.execute_reply.started": "2024-03-04T17:36:26.748659Z"
    },
    "papermill": {
     "duration": 0.031963,
     "end_time": "2024-03-04T19:05:14.467128",
     "exception": false,
     "start_time": "2024-03-04T19:05:14.435165",
     "status": "completed"
    },
    "tags": []
   },
   "outputs": [],
   "source": [
    "from torch.utils.data import DataLoader\n",
    "\n",
    "loader_train = DataLoader(dataset = dataset_train, batch_size = 32, shuffle=True)\n",
    "loader_valid = DataLoader(dataset = dataset_valid, batch_size = 32, shuffle=False)"
   ]
  },
  {
   "cell_type": "markdown",
   "id": "eb8c7b1f",
   "metadata": {
    "papermill": {
     "duration": 0.028801,
     "end_time": "2024-03-04T19:05:14.521568",
     "exception": false,
     "start_time": "2024-03-04T19:05:14.492767",
     "status": "completed"
    },
    "tags": []
   },
   "source": [
    "### 5. 모델 생성"
   ]
  },
  {
   "cell_type": "code",
   "execution_count": 12,
   "id": "7b7632cd",
   "metadata": {
    "execution": {
     "iopub.execute_input": "2024-03-04T19:05:14.576872Z",
     "iopub.status.busy": "2024-03-04T19:05:14.576195Z",
     "iopub.status.idle": "2024-03-04T19:05:14.578715Z",
     "shell.execute_reply": "2024-03-04T19:05:14.578250Z",
     "shell.execute_reply.started": "2024-03-04T17:36:26.763136Z"
    },
    "papermill": {
     "duration": 0.031758,
     "end_time": "2024-03-04T19:05:14.578830",
     "exception": false,
     "start_time": "2024-03-04T19:05:14.547072",
     "status": "completed"
    },
    "tags": []
   },
   "outputs": [],
   "source": [
    "import torch.nn as nn # 신경망 모듈\n",
    "import torch.nn.functional as F # 신경망 모듈에서 자주 사용되는 함수"
   ]
  },
  {
   "cell_type": "code",
   "execution_count": 13,
   "id": "60a66e20",
   "metadata": {
    "execution": {
     "iopub.execute_input": "2024-03-04T19:05:14.658875Z",
     "iopub.status.busy": "2024-03-04T19:05:14.643512Z",
     "iopub.status.idle": "2024-03-04T19:05:14.662475Z",
     "shell.execute_reply": "2024-03-04T19:05:14.663345Z",
     "shell.execute_reply.started": "2024-03-04T17:38:17.784106Z"
    },
    "papermill": {
     "duration": 0.058523,
     "end_time": "2024-03-04T19:05:14.663558",
     "exception": false,
     "start_time": "2024-03-04T19:05:14.605035",
     "status": "completed"
    },
    "tags": []
   },
   "outputs": [],
   "source": [
    "class Model(nn.Module):\n",
    "    def __init__(self):\n",
    "        super().__init__()\n",
    "        \n",
    "        self.layer1 = nn.Sequential(nn.Conv2d(in_channels=3, out_channels=32, kernel_size=3, padding=2),\n",
    "                                   nn.BatchNorm2d(32),\n",
    "                                   nn.LeakyReLU(),\n",
    "                                   nn.MaxPool2d(kernel_size=2))\n",
    "        self.layer2 = nn.Sequential(nn.Conv2d(in_channels=32, out_channels=64, kernel_size=3, padding=2),\n",
    "                                   nn.BatchNorm2d(64),\n",
    "                                   nn.LeakyReLU(),\n",
    "                                   nn.MaxPool2d(kernel_size=2))\n",
    "        self.layer3 = nn.Sequential(nn.Conv2d(in_channels=64, out_channels=128, kernel_size=3, padding=2),\n",
    "                                   nn.BatchNorm2d(128),\n",
    "                                   nn.LeakyReLU(),\n",
    "                                   nn.MaxPool2d(kernel_size=2))\n",
    "        self.layer4 = nn.Sequential(nn.Conv2d(in_channels=128, out_channels=256, kernel_size=3, padding=2),\n",
    "                                   nn.BatchNorm2d(256),\n",
    "                                   nn.LeakyReLU(),\n",
    "                                   nn.MaxPool2d(kernel_size=2))\n",
    "        self.layer5 = nn.Sequential(nn.Conv2d(in_channels=256, out_channels=512, kernel_size=3, padding=2),\n",
    "                                   nn.BatchNorm2d(512),\n",
    "                                   nn.LeakyReLU(),\n",
    "                                   nn.MaxPool2d(kernel_size=2))\n",
    "        \n",
    "        self.avg_pool = nn.AvgPool2d(kernel_size=4)\n",
    "        \n",
    "        self.flatten = nn.Flatten()\n",
    "        \n",
    "        self.fc1 = nn.Linear(in_features=512 * 1 * 1, out_features=64)\n",
    "        self.fc2 = nn.Linear(in_features=64, out_features=2)\n",
    "        \n",
    "    def forward(self, x):\n",
    "        x = self.layer1(x)\n",
    "        x = self.layer2(x)\n",
    "        x = self.layer3(x)\n",
    "        x = self.layer4(x)\n",
    "        x = self.layer5(x)\n",
    "        x = self.avg_pool(x)\n",
    "        x = self.flatten(x)\n",
    "        \n",
    "        x = self.fc1(x)\n",
    "        x = self.fc2(x)\n",
    "        return x"
   ]
  },
  {
   "cell_type": "code",
   "execution_count": 14,
   "id": "f14984ed",
   "metadata": {
    "execution": {
     "iopub.execute_input": "2024-03-04T19:05:14.720404Z",
     "iopub.status.busy": "2024-03-04T19:05:14.719806Z",
     "iopub.status.idle": "2024-03-04T19:05:25.485316Z",
     "shell.execute_reply": "2024-03-04T19:05:25.484622Z",
     "shell.execute_reply.started": "2024-03-04T17:38:18.149652Z"
    },
    "papermill": {
     "duration": 10.795336,
     "end_time": "2024-03-04T19:05:25.485481",
     "exception": false,
     "start_time": "2024-03-04T19:05:14.690145",
     "status": "completed"
    },
    "tags": []
   },
   "outputs": [],
   "source": [
    "model = Model().to(device) # GPU에 모델을 할당"
   ]
  },
  {
   "cell_type": "markdown",
   "id": "8abbf868",
   "metadata": {
    "papermill": {
     "duration": 0.025164,
     "end_time": "2024-03-04T19:05:25.536799",
     "exception": false,
     "start_time": "2024-03-04T19:05:25.511635",
     "status": "completed"
    },
    "tags": []
   },
   "source": [
    "### 6.손실함수, 옵티마이저 설정 "
   ]
  },
  {
   "cell_type": "code",
   "execution_count": 15,
   "id": "f2d28068",
   "metadata": {
    "execution": {
     "iopub.execute_input": "2024-03-04T19:05:25.592785Z",
     "iopub.status.busy": "2024-03-04T19:05:25.591900Z",
     "iopub.status.idle": "2024-03-04T19:05:25.594124Z",
     "shell.execute_reply": "2024-03-04T19:05:25.594615Z",
     "shell.execute_reply.started": "2024-03-04T17:38:21.522356Z"
    },
    "papermill": {
     "duration": 0.0319,
     "end_time": "2024-03-04T19:05:25.594761",
     "exception": false,
     "start_time": "2024-03-04T19:05:25.562861",
     "status": "completed"
    },
    "tags": []
   },
   "outputs": [],
   "source": [
    "criterion = nn.CrossEntropyLoss()"
   ]
  },
  {
   "cell_type": "code",
   "execution_count": 16,
   "id": "d5f87d63",
   "metadata": {
    "execution": {
     "iopub.execute_input": "2024-03-04T19:05:25.650696Z",
     "iopub.status.busy": "2024-03-04T19:05:25.649829Z",
     "iopub.status.idle": "2024-03-04T19:05:25.651896Z",
     "shell.execute_reply": "2024-03-04T19:05:25.652336Z",
     "shell.execute_reply.started": "2024-03-04T17:38:45.766568Z"
    },
    "papermill": {
     "duration": 0.032031,
     "end_time": "2024-03-04T19:05:25.652476",
     "exception": false,
     "start_time": "2024-03-04T19:05:25.620445",
     "status": "completed"
    },
    "tags": []
   },
   "outputs": [],
   "source": [
    "optimizer = torch.optim.Adamax(model.parameters(), lr=0.00006) # batch 사이즈가 작으면 학습률도 작게 해줘야한다."
   ]
  },
  {
   "cell_type": "markdown",
   "id": "6c21f72d",
   "metadata": {
    "papermill": {
     "duration": 0.024879,
     "end_time": "2024-03-04T19:05:25.704459",
     "exception": false,
     "start_time": "2024-03-04T19:05:25.679580",
     "status": "completed"
    },
    "tags": []
   },
   "source": [
    "### 7. 모델 훈련"
   ]
  },
  {
   "cell_type": "code",
   "execution_count": 17,
   "id": "38b24fa9",
   "metadata": {
    "execution": {
     "iopub.execute_input": "2024-03-04T19:05:25.765653Z",
     "iopub.status.busy": "2024-03-04T19:05:25.765016Z",
     "iopub.status.idle": "2024-03-04T19:54:22.314302Z",
     "shell.execute_reply": "2024-03-04T19:54:22.314882Z",
     "shell.execute_reply.started": "2024-03-04T17:38:46.924197Z"
    },
    "papermill": {
     "duration": 2936.585065,
     "end_time": "2024-03-04T19:54:22.315112",
     "exception": false,
     "start_time": "2024-03-04T19:05:25.730047",
     "status": "completed"
    },
    "tags": []
   },
   "outputs": [
    {
     "name": "stdout",
     "output_type": "stream",
     "text": [
      "epochs [1/70] - loss: 0.1305\n",
      "epochs [2/70] - loss: 0.0704\n",
      "epochs [3/70] - loss: 0.0515\n",
      "epochs [4/70] - loss: 0.0420\n",
      "epochs [5/70] - loss: 0.0399\n",
      "epochs [6/70] - loss: 0.0354\n",
      "epochs [7/70] - loss: 0.0293\n",
      "epochs [8/70] - loss: 0.0296\n",
      "epochs [9/70] - loss: 0.0259\n",
      "epochs [10/70] - loss: 0.0242\n",
      "epochs [11/70] - loss: 0.0232\n",
      "epochs [12/70] - loss: 0.0226\n",
      "epochs [13/70] - loss: 0.0222\n",
      "epochs [14/70] - loss: 0.0214\n",
      "epochs [15/70] - loss: 0.0202\n",
      "epochs [16/70] - loss: 0.0210\n",
      "epochs [17/70] - loss: 0.0176\n",
      "epochs [18/70] - loss: 0.0183\n",
      "epochs [19/70] - loss: 0.0170\n",
      "epochs [20/70] - loss: 0.0156\n",
      "epochs [21/70] - loss: 0.0158\n",
      "epochs [22/70] - loss: 0.0148\n",
      "epochs [23/70] - loss: 0.0132\n",
      "epochs [24/70] - loss: 0.0139\n",
      "epochs [25/70] - loss: 0.0133\n",
      "epochs [26/70] - loss: 0.0105\n",
      "epochs [27/70] - loss: 0.0137\n",
      "epochs [28/70] - loss: 0.0114\n",
      "epochs [29/70] - loss: 0.0085\n",
      "epochs [30/70] - loss: 0.0094\n",
      "epochs [31/70] - loss: 0.0104\n",
      "epochs [32/70] - loss: 0.0090\n",
      "epochs [33/70] - loss: 0.0088\n",
      "epochs [34/70] - loss: 0.0090\n",
      "epochs [35/70] - loss: 0.0108\n",
      "epochs [36/70] - loss: 0.0085\n",
      "epochs [37/70] - loss: 0.0080\n",
      "epochs [38/70] - loss: 0.0082\n",
      "epochs [39/70] - loss: 0.0074\n",
      "epochs [40/70] - loss: 0.0067\n",
      "epochs [41/70] - loss: 0.0074\n",
      "epochs [42/70] - loss: 0.0075\n",
      "epochs [43/70] - loss: 0.0070\n",
      "epochs [44/70] - loss: 0.0065\n",
      "epochs [45/70] - loss: 0.0062\n",
      "epochs [46/70] - loss: 0.0074\n",
      "epochs [47/70] - loss: 0.0065\n",
      "epochs [48/70] - loss: 0.0068\n",
      "epochs [49/70] - loss: 0.0059\n",
      "epochs [50/70] - loss: 0.0049\n",
      "epochs [51/70] - loss: 0.0072\n",
      "epochs [52/70] - loss: 0.0080\n",
      "epochs [53/70] - loss: 0.0049\n",
      "epochs [54/70] - loss: 0.0052\n",
      "epochs [55/70] - loss: 0.0050\n",
      "epochs [56/70] - loss: 0.0057\n",
      "epochs [57/70] - loss: 0.0039\n",
      "epochs [58/70] - loss: 0.0045\n",
      "epochs [59/70] - loss: 0.0055\n",
      "epochs [60/70] - loss: 0.0042\n",
      "epochs [61/70] - loss: 0.0046\n",
      "epochs [62/70] - loss: 0.0046\n",
      "epochs [63/70] - loss: 0.0069\n",
      "epochs [64/70] - loss: 0.0048\n",
      "epochs [65/70] - loss: 0.0046\n",
      "epochs [66/70] - loss: 0.0048\n",
      "epochs [67/70] - loss: 0.0041\n",
      "epochs [68/70] - loss: 0.0050\n",
      "epochs [69/70] - loss: 0.0034\n",
      "epochs [70/70] - loss: 0.0026\n"
     ]
    }
   ],
   "source": [
    "epochs = 70\n",
    "\n",
    "for epoch in range(epochs):\n",
    "    epoch_loss = 0\n",
    "    \n",
    "    for images, labels in loader_train:\n",
    "    \n",
    "        # 이미지, 레이블 데이터 미니배치를 장비에 할당\n",
    "        images = images.to(device)\n",
    "        labels = labels.to(device)\n",
    "\n",
    "        # 옵티마이저 기울기 초기화\n",
    "        optimizer.zero_grad()\n",
    "\n",
    "        # 순전파\n",
    "        outputs = model(images)\n",
    "\n",
    "        # 손실함수를 활용해 output과 label의 손실값 계산\n",
    "        loss = criterion(outputs, labels)\n",
    "\n",
    "        # 현재 배치에서의 손실 추가\n",
    "        epoch_loss += loss.item()\n",
    "        loss.backward() # 역전파 수행\n",
    "\n",
    "        optimizer.step() # 가중치 갱신\n",
    "        \n",
    "    print(f\"epochs [{epoch+1}/{epochs}] - loss: {epoch_loss/len(loader_train):.4f}\")"
   ]
  },
  {
   "cell_type": "markdown",
   "id": "4088ab6a",
   "metadata": {
    "papermill": {
     "duration": 0.048843,
     "end_time": "2024-03-04T19:54:22.412880",
     "exception": false,
     "start_time": "2024-03-04T19:54:22.364037",
     "status": "completed"
    },
    "tags": []
   },
   "source": [
    "### 8. 모델 검증"
   ]
  },
  {
   "cell_type": "code",
   "execution_count": 18,
   "id": "6f9af571",
   "metadata": {
    "execution": {
     "iopub.execute_input": "2024-03-04T19:54:22.523019Z",
     "iopub.status.busy": "2024-03-04T19:54:22.521870Z",
     "iopub.status.idle": "2024-03-04T19:54:24.774946Z",
     "shell.execute_reply": "2024-03-04T19:54:24.774413Z",
     "shell.execute_reply.started": "2024-03-04T18:28:00.437658Z"
    },
    "papermill": {
     "duration": 2.311665,
     "end_time": "2024-03-04T19:54:24.775076",
     "exception": false,
     "start_time": "2024-03-04T19:54:22.463411",
     "status": "completed"
    },
    "tags": []
   },
   "outputs": [
    {
     "name": "stdout",
     "output_type": "stream",
     "text": [
      "검증 데이터 ROC, AUC : 0.9998\n"
     ]
    }
   ],
   "source": [
    "from sklearn.metrics import roc_auc_score\n",
    "\n",
    "model.eval() # 모델을 평가 상태로 설정\n",
    "\n",
    "true_list = []\n",
    "preds_list = []\n",
    "\n",
    "with torch.no_grad(): # 기울기 계산 비활성화\n",
    "    for images, labels in loader_valid:\n",
    "        images = images.to(device)\n",
    "        labels = labels.to(device)\n",
    "        \n",
    "        outputs = model(images)\n",
    "        preds = torch.softmax(outputs.cpu(), dim=1)[:, 1]\n",
    "        true = labels.cpu()\n",
    "        \n",
    "        preds_list.extend(preds)\n",
    "        true_list.extend(true)\n",
    "        \n",
    "print(f\"검증 데이터 ROC, AUC : {roc_auc_score(true_list, preds_list):.4f}\")"
   ]
  },
  {
   "cell_type": "markdown",
   "id": "5eaf3778",
   "metadata": {
    "papermill": {
     "duration": 0.048249,
     "end_time": "2024-03-04T19:54:24.872107",
     "exception": false,
     "start_time": "2024-03-04T19:54:24.823858",
     "status": "completed"
    },
    "tags": []
   },
   "source": [
    "### 9. 예측 및 결과 제출"
   ]
  },
  {
   "cell_type": "code",
   "execution_count": 19,
   "id": "3ea27406",
   "metadata": {
    "execution": {
     "iopub.execute_input": "2024-03-04T19:54:24.975368Z",
     "iopub.status.busy": "2024-03-04T19:54:24.974500Z",
     "iopub.status.idle": "2024-03-04T19:54:24.976672Z",
     "shell.execute_reply": "2024-03-04T19:54:24.977137Z",
     "shell.execute_reply.started": "2024-03-04T18:28:02.657390Z"
    },
    "papermill": {
     "duration": 0.057136,
     "end_time": "2024-03-04T19:54:24.977282",
     "exception": false,
     "start_time": "2024-03-04T19:54:24.920146",
     "status": "completed"
    },
    "tags": []
   },
   "outputs": [],
   "source": [
    "dataset_test = ImageDataset(df = submission, img_dir = \"test/\", transform = transform_test)\n",
    "loader_test = DataLoader(dataset = dataset_test, batch_size = 32, shuffle = False)"
   ]
  },
  {
   "cell_type": "code",
   "execution_count": 20,
   "id": "196c03ca",
   "metadata": {
    "execution": {
     "iopub.execute_input": "2024-03-04T19:54:25.086705Z",
     "iopub.status.busy": "2024-03-04T19:54:25.086096Z",
     "iopub.status.idle": "2024-03-04T19:54:30.439467Z",
     "shell.execute_reply": "2024-03-04T19:54:30.438903Z",
     "shell.execute_reply.started": "2024-03-04T18:28:02.664084Z"
    },
    "papermill": {
     "duration": 5.411127,
     "end_time": "2024-03-04T19:54:30.439595",
     "exception": false,
     "start_time": "2024-03-04T19:54:25.028468",
     "status": "completed"
    },
    "tags": []
   },
   "outputs": [],
   "source": [
    "model.eval()\n",
    "\n",
    "preds = []\n",
    "\n",
    "with torch.no_grad():\n",
    "    for images, _ in loader_test:\n",
    "        images = images.to(device)\n",
    "        \n",
    "        outputs = model(images)\n",
    "        \n",
    "        preds_part = torch.softmax(outputs.cpu(), dim=1)[:, 1].tolist() # 텐서는 제출할 수 없기에, 1차원 텐서를 리스트로 변환해줘야됨\n",
    "        preds.extend(preds_part)"
   ]
  },
  {
   "cell_type": "code",
   "execution_count": 21,
   "id": "06277b7a",
   "metadata": {
    "execution": {
     "iopub.execute_input": "2024-03-04T19:54:30.549742Z",
     "iopub.status.busy": "2024-03-04T19:54:30.549161Z",
     "iopub.status.idle": "2024-03-04T19:54:30.577377Z",
     "shell.execute_reply": "2024-03-04T19:54:30.576815Z",
     "shell.execute_reply.started": "2024-03-04T18:51:41.282565Z"
    },
    "papermill": {
     "duration": 0.089324,
     "end_time": "2024-03-04T19:54:30.577508",
     "exception": false,
     "start_time": "2024-03-04T19:54:30.488184",
     "status": "completed"
    },
    "tags": []
   },
   "outputs": [],
   "source": [
    "submission['has_cactus'] = preds\n",
    "submission.to_csv('submission.csv', index=False)"
   ]
  },
  {
   "cell_type": "code",
   "execution_count": 22,
   "id": "346ad760",
   "metadata": {
    "execution": {
     "iopub.execute_input": "2024-03-04T19:54:30.678555Z",
     "iopub.status.busy": "2024-03-04T19:54:30.677941Z",
     "iopub.status.idle": "2024-03-04T19:54:31.311406Z",
     "shell.execute_reply": "2024-03-04T19:54:31.310664Z",
     "shell.execute_reply.started": "2024-03-04T18:28:08.057355Z"
    },
    "papermill": {
     "duration": 0.685869,
     "end_time": "2024-03-04T19:54:31.311554",
     "exception": false,
     "start_time": "2024-03-04T19:54:30.625685",
     "status": "completed"
    },
    "tags": []
   },
   "outputs": [],
   "source": [
    "import shutil\n",
    "\n",
    "# 경로의 디렉토리 전체를 삭제하는 함수\n",
    "shutil.rmtree('./train')\n",
    "shutil.rmtree('./test')"
   ]
  }
 ],
 "metadata": {
  "kaggle": {
   "accelerator": "nvidiaTeslaT4",
   "dataSources": [
    {
     "databundleVersionId": 331452,
     "sourceId": 13435,
     "sourceType": "competition"
    }
   ],
   "dockerImageVersionId": 30123,
   "isGpuEnabled": true,
   "isInternetEnabled": true,
   "language": "python",
   "sourceType": "notebook"
  },
  "kernelspec": {
   "display_name": "Python 3",
   "language": "python",
   "name": "python3"
  },
  "language_info": {
   "codemirror_mode": {
    "name": "ipython",
    "version": 3
   },
   "file_extension": ".py",
   "mimetype": "text/x-python",
   "name": "python",
   "nbconvert_exporter": "python",
   "pygments_lexer": "ipython3",
   "version": "3.7.10"
  },
  "papermill": {
   "default_parameters": {},
   "duration": 2982.904226,
   "end_time": "2024-03-04T19:54:33.675747",
   "environment_variables": {},
   "exception": null,
   "input_path": "__notebook__.ipynb",
   "output_path": "__notebook__.ipynb",
   "parameters": {},
   "start_time": "2024-03-04T19:04:50.771521",
   "version": "2.3.3"
  }
 },
 "nbformat": 4,
 "nbformat_minor": 5
}
